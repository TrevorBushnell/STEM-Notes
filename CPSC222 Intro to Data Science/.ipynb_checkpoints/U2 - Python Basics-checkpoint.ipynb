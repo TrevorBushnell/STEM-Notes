{
 "cells": [
  {
   "cell_type": "markdown",
   "metadata": {},
   "source": [
    "# Unit 2: Python Basics\n",
    "\n",
    "In this unit, we will learn all of the basics of programming in Python so that we can do data science work.\n",
    "\n",
    "\n",
    "## Preamble: Importing Packages\n",
    "\n",
    "First we will import any packages we will need to use for this lesson:"
   ]
  },
  {
   "cell_type": "code",
   "execution_count": 8,
   "metadata": {},
   "outputs": [],
   "source": [
    "import math"
   ]
  },
  {
   "cell_type": "markdown",
   "metadata": {},
   "source": [
    "## The *Basic* Basics\n",
    "\n",
    "These are some simple syntax things in every coding language that is important to learn first. \n",
    "\n",
    "\n",
    "### Comments\n",
    "\n",
    "A comment is a line of \"code\" that is ignored by Python when it runs the program (so it's not even a real line of code). We use comments so that we can better document our code. Single line comments are done using `#`. Multi-line comments are started (and ended) using `'''`."
   ]
  },
  {
   "cell_type": "code",
   "execution_count": 3,
   "metadata": {},
   "outputs": [
    {
     "data": {
      "text/plain": [
       "\"\\nThis is an example of a multi-line comment. \\n\\nYou can put as many lines as you want in this comment. \\n\\nEVERYTHING in between the triple quotes WILL BE IGNORED\\n\\n(I'm not sure why in Jupyter prints a multi-line comment as output but whatever)\\n\""
      ]
     },
     "execution_count": 3,
     "metadata": {},
     "output_type": "execute_result"
    }
   ],
   "source": [
    "# This is an example of a single-line comment\n",
    "\n",
    "'''\n",
    "This is an example of a multi-line comment. \n",
    "\n",
    "You can put as many lines as you want in this comment. \n",
    "\n",
    "EVERYTHING in between the triple quotes WILL BE IGNORED\n",
    "\n",
    "(I'm not sure why in Jupyter prints a multi-line comment as output but whatever)\n",
    "'''"
   ]
  },
  {
   "cell_type": "markdown",
   "metadata": {},
   "source": [
    "### Variables\n",
    "\n",
    "In programming, we store values in memory inside something called **variables**. Variables can be assigned values using `=`."
   ]
  },
  {
   "cell_type": "code",
   "execution_count": 4,
   "metadata": {},
   "outputs": [
    {
     "name": "stdout",
     "output_type": "stream",
     "text": [
      "5\n"
     ]
    }
   ],
   "source": [
    "x = 5\n",
    "print(x)"
   ]
  },
  {
   "cell_type": "markdown",
   "metadata": {},
   "source": [
    "Each variable has a *data type* which defines the range of values that could be stored in that variable. Here are the various types that a variable can be:\n",
    "\n",
    "* **integer** (int): stores whole numbers\n",
    "* **float** (float): stores real numbers (whole numbers + decimal numbers)\n",
    "* **character** (chr): stores a single character\n",
    "* **string** (string): stores a sequence of characters\n",
    "\n",
    "If you want to find out the type of a variable, you can use the `type()` function which is built into Python."
   ]
  },
  {
   "cell_type": "code",
   "execution_count": 5,
   "metadata": {},
   "outputs": [
    {
     "name": "stdout",
     "output_type": "stream",
     "text": [
      "<class 'int'>\n"
     ]
    }
   ],
   "source": [
    "print(type(x))"
   ]
  },
  {
   "cell_type": "markdown",
   "metadata": {},
   "source": [
    "In the above example, we see that the variable `x` has the type `<class 'int'>` which just means that `x` is an integer. However, we can change `x`'s value and the data type of `x` will change with it."
   ]
  },
  {
   "cell_type": "code",
   "execution_count": 6,
   "metadata": {},
   "outputs": [
    {
     "name": "stdout",
     "output_type": "stream",
     "text": [
      "5.5\n",
      "<class 'float'>\n"
     ]
    }
   ],
   "source": [
    "x = 5.5\n",
    "print(x)\n",
    "print(type(x))"
   ]
  },
  {
   "cell_type": "markdown",
   "metadata": {},
   "source": [
    "### Operators\n",
    "\n",
    "Various mathematical operators that you are familiar with in basic arithmetic are also available in Python. The various Python operators are outlined as follows:\n",
    "\n",
    "* `+`: addition\n",
    "* `-`: subtraction\n",
    "* `*`: multiplication\n",
    "* `/`: floating-point division (\"normal\" division)\n",
    "* `//`: integer division (division but if you get a decimal you truncate \\[chop off\\] the decimal part of the result)\n",
    "* `%`: modulus (the remainder from integer division)\n",
    "* `**`: exponentiation (raising a number to a power)\n",
    "    * NOTE: the `pow` function is the same thing as `**`\n",
    "    * you can also use the `math.pow()` function if you call `import math` at the beginning of your program (this will return a float)\n"
   ]
  },
  {
   "cell_type": "code",
   "execution_count": 11,
   "metadata": {},
   "outputs": [
    {
     "name": "stdout",
     "output_type": "stream",
     "text": [
      "9\n",
      "-1\n",
      "20\n",
      "2.5\n",
      "2\n",
      "1\n",
      "32\n",
      "32.0\n"
     ]
    }
   ],
   "source": [
    "print(4 + 5) # addition\n",
    "print(4 - 5) # subtraction\n",
    "print(4 * 5) # multiplication\n",
    "print(5 / 2) # floating-point division\n",
    "print(5 // 2) # integer division\n",
    "print(5 % 2) # modulus\n",
    "print(2 ** 5) # exponentiation (will return a type based on the operands used)\n",
    "print(math.pow(2,5)) # exponentiation using the function (the function returns a float)"
   ]
  },
  {
   "cell_type": "markdown",
   "metadata": {},
   "source": [
    "### Getting User Input\n",
    "\n",
    "Sometimes we want the user to interact with our program. We can store that value that the user inputs inside a variable using the `input()` function. "
   ]
  },
  {
   "cell_type": "code",
   "execution_count": 12,
   "metadata": {},
   "outputs": [
    {
     "name": "stdout",
     "output_type": "stream",
     "text": [
      "Enter your favorite number: \n"
     ]
    },
    {
     "name": "stdin",
     "output_type": "stream",
     "text": [
      " 5\n"
     ]
    },
    {
     "name": "stdout",
     "output_type": "stream",
     "text": [
      "Your favorite number is:  5\n"
     ]
    }
   ],
   "source": [
    "print('Enter your favorite number: ')\n",
    "favorite_number = input()\n",
    "print('Your favorite number is: ', favorite_number)"
   ]
  },
  {
   "cell_type": "markdown",
   "metadata": {},
   "source": [
    "It is important to be careful though because by default `input()` is a string. So if you want to do mathematical operations, then you need to make sure that you **caste** the variable to an `int` using the `int()` function."
   ]
  },
  {
   "cell_type": "code",
   "execution_count": 18,
   "metadata": {},
   "outputs": [
    {
     "name": "stdout",
     "output_type": "stream",
     "text": [
      "Enter your favorite number: \n"
     ]
    },
    {
     "name": "stdin",
     "output_type": "stream",
     "text": [
      " 5\n"
     ]
    },
    {
     "name": "stdout",
     "output_type": "stream",
     "text": [
      "Your favorite number doubled is:  55\n",
      "<class 'str'>\n",
      "\n",
      "\n",
      "Enter your favorite number: \n"
     ]
    },
    {
     "name": "stdin",
     "output_type": "stream",
     "text": [
      " 5\n"
     ]
    },
    {
     "name": "stdout",
     "output_type": "stream",
     "text": [
      "Your favorite number is:  10\n",
      "<class 'int'>\n"
     ]
    }
   ],
   "source": [
    "# TAKE 1: No casting\n",
    "print('Enter your favorite number: ')\n",
    "favorite_number = input()\n",
    "print('Your favorite number doubled is: ', favorite_number * 2)\n",
    "print(type(favorite_number))\n",
    "\n",
    "\n",
    "# TAKE 2: casting\n",
    "print('\\n\\nEnter your favorite number: ')\n",
    "favorite_number_int = int(input())\n",
    "print('Your favorite number is: ', favorite_number_int * 2)\n",
    "print(type(favorite_number_int))"
   ]
  },
  {
   "cell_type": "markdown",
   "metadata": {},
   "source": [
    "### Formatting Floating Point Numbers\n",
    "\n",
    "There are a lot of times where we want to round our floating point numbers, and there are multiple ways to do this. \n",
    "\n",
    "* **The old school way (placeholders):** Formatting where you can specify the number of decimal places you want printed when you print a floating point number\n",
    "* **The Pythonic way (bracket placeholders):** Start formatting with curly braces and use the `.format()` function\n",
    "* **Actually round the number itself:** *Store* a variable rounded to a certain number of decimal places in memory and then print that value in memory using `round(NUM_TO_ROUND, NUM_PLACES_TO_ROUND_TO)`"
   ]
  },
  {
   "cell_type": "code",
   "execution_count": 20,
   "metadata": {},
   "outputs": [
    {
     "name": "stdout",
     "output_type": "stream",
     "text": [
      "3.141592653589793\n",
      "3.14\n",
      "3.14\n",
      "3.14\n"
     ]
    }
   ],
   "source": [
    "print(math.pi)\n",
    "print(\"%.2f\" %(math.pi)) # C/C++ way\n",
    "print(\"{:.2f}\".format(math.pi)) # Pythonic way\n",
    "print(round(math.pi, 2)) # Actually rounding the value in memory"
   ]
  },
  {
   "cell_type": "code",
   "execution_count": null,
   "metadata": {},
   "outputs": [],
   "source": []
  }
 ],
 "metadata": {
  "kernelspec": {
   "display_name": "Python 3",
   "language": "python",
   "name": "python3"
  },
  "language_info": {
   "codemirror_mode": {
    "name": "ipython",
    "version": 3
   },
   "file_extension": ".py",
   "mimetype": "text/x-python",
   "name": "python",
   "nbconvert_exporter": "python",
   "pygments_lexer": "ipython3",
   "version": "3.8.5"
  }
 },
 "nbformat": 4,
 "nbformat_minor": 4
}
