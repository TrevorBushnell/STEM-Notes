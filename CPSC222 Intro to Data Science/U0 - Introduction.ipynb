{
 "cells": [
  {
   "cell_type": "markdown",
   "metadata": {},
   "source": [
    "# Unit 0: Introduction"
   ]
  },
  {
   "cell_type": "markdown",
   "metadata": {},
   "source": [
    "## What is Data Science?"
   ]
  },
  {
   "cell_type": "markdown",
   "metadata": {},
   "source": [
    "Data science is **the science of analyzing data to be able to gain insight, draw conclusions, and/or make predictions about data that we have collected.**\n",
    "\n",
    "There are a lot of datasets that are constantly analyzed in the real world. Some examples of this include:\n",
    "\n",
    "* Medical data (collected electronically from hospitals, doctors, physicians, etc.)\n",
    "    * Analyzed to determine risk health factors, insurance billing, etc.\n",
    "* Social media data (collected from various social networks, posts, etc.)\n",
    "    * Analyzed to suggest friends, provide us with targeted advertising, etc.\n",
    "* Financial data (collected from banking transactions, trading, etc.)\n",
    "    * Analyzed to project stock market trends, recommend investments, etc."
   ]
  },
  {
   "cell_type": "markdown",
   "metadata": {},
   "source": [
    "## What Do Data Scientists Do?\n",
    "\n",
    "Data scientists iterate through the data science workflow:\n",
    "\n",
    "* **Collect data:** Go out into the world and gather data for a particular study/experiment\n",
    "\n",
    "* **Cleaning/preparing data:** Lots of times, there is missing data that you have to figure out how to deal with, or you have to remove personal information if you are going to present the data to others. This type of work is done in this step.\n",
    "\n",
    "* **Exploratory Data Analysis (EDA):** Data is thouroughly analyzed in this step. Here, data scientists create data visualizations and perform data mining to try and track down patterns, categories, relationships, etc.\n",
    "\n",
    "* **Statistical inferences:** Do basic statistics that you would have learned in an intro statistics course to help analyze the data\n",
    "* **Build/refine models:** Use AI/machine learning to create data models to help make predictions based on the data already found\n",
    "* **Deploying/documenting/storytelling:** In this step, data scientists essentially publish their findings and explain their findings to others"
   ]
  },
  {
   "cell_type": "markdown",
   "metadata": {},
   "source": [
    "## What Programming Language is Used in Data Science?\n",
    "\n",
    "In data science, we generally use the programming language **Python**, which is the third most popular general-purpose language in the world. We use Python because it is incredibly easy to learn. We also use it because Python has extensive library support, and there are many different libraries that you can import and use for your data science work (this means there is a lot of code already written for you so that you don't have to write code to do various operations from scratch, for exammple computing a t-test).\n",
    "\n",
    "In today's day and age, it is really important to use programming in some capacity "
   ]
  }
 ],
 "metadata": {
  "kernelspec": {
   "display_name": "Python 3",
   "language": "python",
   "name": "python3"
  },
  "language_info": {
   "codemirror_mode": {
    "name": "ipython",
    "version": 3
   },
   "file_extension": ".py",
   "mimetype": "text/x-python",
   "name": "python",
   "nbconvert_exporter": "python",
   "pygments_lexer": "ipython3",
   "version": "3.8.5"
  }
 },
 "nbformat": 4,
 "nbformat_minor": 4
}
