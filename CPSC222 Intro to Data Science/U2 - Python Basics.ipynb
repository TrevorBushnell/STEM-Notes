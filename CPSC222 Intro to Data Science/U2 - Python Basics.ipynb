{
 "cells": [
  {
   "cell_type": "markdown",
   "metadata": {},
   "source": [
    "# Unit 2: Python Basics\n",
    "\n",
    "In this unit, we will learn all of the basics of programming in Python so that we can do data science work.\n",
    "\n",
    "\n",
    "## Preamble: Importing Packages\n",
    "\n",
    "First we will import any packages we will need to use for this lesson:"
   ]
  },
  {
   "cell_type": "code",
   "execution_count": 21,
   "metadata": {},
   "outputs": [],
   "source": [
    "import math\n",
    "import random"
   ]
  },
  {
   "cell_type": "markdown",
   "metadata": {},
   "source": [
    "## Comments\n",
    "\n",
    "A comment is a line of \"code\" that is ignored by Python when it runs the program (so it's not even a real line of code). We use comments so that we can better document our code. Single line comments are done using `#`. Multi-line comments are started (and ended) using `'''`."
   ]
  },
  {
   "cell_type": "code",
   "execution_count": 3,
   "metadata": {},
   "outputs": [
    {
     "data": {
      "text/plain": [
       "\"\\nThis is an example of a multi-line comment. \\n\\nYou can put as many lines as you want in this comment. \\n\\nEVERYTHING in between the triple quotes WILL BE IGNORED\\n\\n(I'm not sure why in Jupyter prints a multi-line comment as output but whatever)\\n\""
      ]
     },
     "execution_count": 3,
     "metadata": {},
     "output_type": "execute_result"
    }
   ],
   "source": [
    "# This is an example of a single-line comment\n",
    "\n",
    "'''\n",
    "This is an example of a multi-line comment. \n",
    "\n",
    "You can put as many lines as you want in this comment. \n",
    "\n",
    "EVERYTHING in between the triple quotes WILL BE IGNORED\n",
    "\n",
    "(I'm not sure why in Jupyter prints a multi-line comment as output but whatever)\n",
    "'''"
   ]
  },
  {
   "cell_type": "markdown",
   "metadata": {},
   "source": [
    "## Variables\n",
    "\n",
    "In programming, we store values in memory inside something called **variables**. Variables can be assigned values using `=`."
   ]
  },
  {
   "cell_type": "code",
   "execution_count": 4,
   "metadata": {},
   "outputs": [
    {
     "name": "stdout",
     "output_type": "stream",
     "text": [
      "5\n"
     ]
    }
   ],
   "source": [
    "x = 5\n",
    "print(x)"
   ]
  },
  {
   "cell_type": "markdown",
   "metadata": {},
   "source": [
    "Each variable has a *data type* which defines the range of values that could be stored in that variable. Here are the various types that a variable can be:\n",
    "\n",
    "* **integer** (int): stores whole numbers\n",
    "* **float** (float): stores real numbers (whole numbers + decimal numbers)\n",
    "* **character** (chr): stores a single character\n",
    "* **string** (string): stores a sequence of characters\n",
    "\n",
    "If you want to find out the type of a variable, you can use the `type()` function which is built into Python."
   ]
  },
  {
   "cell_type": "code",
   "execution_count": 5,
   "metadata": {},
   "outputs": [
    {
     "name": "stdout",
     "output_type": "stream",
     "text": [
      "<class 'int'>\n"
     ]
    }
   ],
   "source": [
    "print(type(x))"
   ]
  },
  {
   "cell_type": "markdown",
   "metadata": {},
   "source": [
    "In the above example, we see that the variable `x` has the type `<class 'int'>` which just means that `x` is an integer. However, we can change `x`'s value and the data type of `x` will change with it."
   ]
  },
  {
   "cell_type": "code",
   "execution_count": 6,
   "metadata": {},
   "outputs": [
    {
     "name": "stdout",
     "output_type": "stream",
     "text": [
      "5.5\n",
      "<class 'float'>\n"
     ]
    }
   ],
   "source": [
    "x = 5.5\n",
    "print(x)\n",
    "print(type(x))"
   ]
  },
  {
   "cell_type": "markdown",
   "metadata": {},
   "source": [
    "## Operators\n",
    "\n",
    "Various mathematical operators that you are familiar with in basic arithmetic are also available in Python. The various Python operators are outlined as follows:\n",
    "\n",
    "* `+`: addition\n",
    "* `-`: subtraction\n",
    "* `*`: multiplication\n",
    "* `/`: floating-point division (\"normal\" division)\n",
    "* `//`: integer division (division but if you get a decimal you truncate \\[chop off\\] the decimal part of the result)\n",
    "* `%`: modulus (the remainder from integer division)\n",
    "* `**`: exponentiation (raising a number to a power)\n",
    "    * NOTE: the `pow` function is the same thing as `**`\n",
    "    * you can also use the `math.pow()` function if you call `import math` at the beginning of your program (this will return a float)\n"
   ]
  },
  {
   "cell_type": "code",
   "execution_count": 11,
   "metadata": {},
   "outputs": [
    {
     "name": "stdout",
     "output_type": "stream",
     "text": [
      "9\n",
      "-1\n",
      "20\n",
      "2.5\n",
      "2\n",
      "1\n",
      "32\n",
      "32.0\n"
     ]
    }
   ],
   "source": [
    "print(4 + 5) # addition\n",
    "print(4 - 5) # subtraction\n",
    "print(4 * 5) # multiplication\n",
    "print(5 / 2) # floating-point division\n",
    "print(5 // 2) # integer division\n",
    "print(5 % 2) # modulus\n",
    "print(2 ** 5) # exponentiation (will return a type based on the operands used)\n",
    "print(math.pow(2,5)) # exponentiation using the function (the function returns a float)"
   ]
  },
  {
   "cell_type": "markdown",
   "metadata": {},
   "source": [
    "## Getting User Input\n",
    "\n",
    "Sometimes we want the user to interact with our program. We can store that value that the user inputs inside a variable using the `input()` function. "
   ]
  },
  {
   "cell_type": "code",
   "execution_count": 12,
   "metadata": {},
   "outputs": [
    {
     "name": "stdout",
     "output_type": "stream",
     "text": [
      "Enter your favorite number: \n"
     ]
    },
    {
     "name": "stdin",
     "output_type": "stream",
     "text": [
      " 5\n"
     ]
    },
    {
     "name": "stdout",
     "output_type": "stream",
     "text": [
      "Your favorite number is:  5\n"
     ]
    }
   ],
   "source": [
    "print('Enter your favorite number: ')\n",
    "favorite_number = input()\n",
    "print('Your favorite number is: ', favorite_number)"
   ]
  },
  {
   "cell_type": "markdown",
   "metadata": {},
   "source": [
    "It is important to be careful though because by default `input()` is a string. So if you want to do mathematical operations, then you need to make sure that you **caste** the variable to an `int` using the `int()` function."
   ]
  },
  {
   "cell_type": "code",
   "execution_count": 18,
   "metadata": {},
   "outputs": [
    {
     "name": "stdout",
     "output_type": "stream",
     "text": [
      "Enter your favorite number: \n"
     ]
    },
    {
     "name": "stdin",
     "output_type": "stream",
     "text": [
      " 5\n"
     ]
    },
    {
     "name": "stdout",
     "output_type": "stream",
     "text": [
      "Your favorite number doubled is:  55\n",
      "<class 'str'>\n",
      "\n",
      "\n",
      "Enter your favorite number: \n"
     ]
    },
    {
     "name": "stdin",
     "output_type": "stream",
     "text": [
      " 5\n"
     ]
    },
    {
     "name": "stdout",
     "output_type": "stream",
     "text": [
      "Your favorite number is:  10\n",
      "<class 'int'>\n"
     ]
    }
   ],
   "source": [
    "# TAKE 1: No casting\n",
    "print('Enter your favorite number: ')\n",
    "favorite_number = input()\n",
    "print('Your favorite number doubled is: ', favorite_number * 2)\n",
    "print(type(favorite_number))\n",
    "\n",
    "\n",
    "# TAKE 2: casting\n",
    "print('\\n\\nEnter your favorite number: ')\n",
    "favorite_number_int = int(input())\n",
    "print('Your favorite number is: ', favorite_number_int * 2)\n",
    "print(type(favorite_number_int))"
   ]
  },
  {
   "cell_type": "markdown",
   "metadata": {},
   "source": [
    "## Formatting Floating Point Numbers\n",
    "\n",
    "There are a lot of times where we want to round our floating point numbers, and there are multiple ways to do this. \n",
    "\n",
    "* **The old school way (placeholders):** Formatting where you can specify the number of decimal places you want printed when you print a floating point number\n",
    "* **The Pythonic way (bracket placeholders):** Start formatting with curly braces and use the `.format()` function\n",
    "* **Actually round the number itself:** *Store* a variable rounded to a certain number of decimal places in memory and then print that value in memory using `round(NUM_TO_ROUND, NUM_PLACES_TO_ROUND_TO)`"
   ]
  },
  {
   "cell_type": "code",
   "execution_count": 20,
   "metadata": {},
   "outputs": [
    {
     "name": "stdout",
     "output_type": "stream",
     "text": [
      "3.141592653589793\n",
      "3.14\n",
      "3.14\n",
      "3.14\n"
     ]
    }
   ],
   "source": [
    "print(math.pi)\n",
    "print(\"%.2f\" %(math.pi)) # C/C++ way\n",
    "print(\"{:.2f}\".format(math.pi)) # Pythonic way\n",
    "print(round(math.pi, 2)) # Actually rounding the value in memory"
   ]
  },
  {
   "cell_type": "markdown",
   "metadata": {},
   "source": [
    "## Conditional Statements\n",
    "\n",
    "\n",
    "If we want code to do something **if** a certain action happens, then we can write an `if` statement. You can see an example here:"
   ]
  },
  {
   "cell_type": "code",
   "execution_count": 1,
   "metadata": {},
   "outputs": [
    {
     "name": "stdout",
     "output_type": "stream",
     "text": [
      "Yooooooooooo we have 5\n"
     ]
    }
   ],
   "source": [
    "x = 5\n",
    "\n",
    "if x == 5:\n",
    "    print('Yooooooooooo we have 5')\n",
    "    \n",
    "    \n",
    "y = 3\n",
    "\n",
    "if y == 4:\n",
    "    print('This will not get printed')"
   ]
  },
  {
   "cell_type": "markdown",
   "metadata": {},
   "source": [
    "There is also a statement called an `else` statement. This statement will execute if the `if` statement is false."
   ]
  },
  {
   "cell_type": "code",
   "execution_count": 2,
   "metadata": {},
   "outputs": [
    {
     "name": "stdout",
     "output_type": "stream",
     "text": [
      "x is odd\n"
     ]
    }
   ],
   "source": [
    "x = 5\n",
    "\n",
    "if x % 2 == 0:\n",
    "    print('x is even')\n",
    "else:\n",
    "    print('x is odd')"
   ]
  },
  {
   "cell_type": "markdown",
   "metadata": {},
   "source": [
    "You can also have `elif` statements when you want to test multiple conditions in order. The first one that evaluates to true will have its body execute then exit from the **entire if structure**."
   ]
  },
  {
   "cell_type": "code",
   "execution_count": 3,
   "metadata": {},
   "outputs": [
    {
     "name": "stdout",
     "output_type": "stream",
     "text": [
      "x is negative\n"
     ]
    }
   ],
   "source": [
    "x = -5\n",
    "\n",
    "if x < 0:\n",
    "    print('x is negative')\n",
    "\n",
    "elif x > 0:\n",
    "    print('x is positive')\n",
    "\n",
    "else:\n",
    "    print('x is zero')"
   ]
  },
  {
   "cell_type": "markdown",
   "metadata": {},
   "source": [
    "It is also important to note that you can *nest if and else statements*. This means that you can have `if` statements inside `if` statements indefinitely. Just be careful when you get really deep because it becomes easier to get indentation errors."
   ]
  },
  {
   "cell_type": "markdown",
   "metadata": {},
   "source": [
    "## Loops\n",
    "\n",
    "In Python there are two types of loops: `for` loops and `while` loops. `while` loops repeat statements forever until the condition in the `while` statement is true. `for` loops iterate a specific number of times. \n",
    "\n",
    "Here is an example of a `for` loop for lists:"
   ]
  },
  {
   "cell_type": "code",
   "execution_count": 4,
   "metadata": {},
   "outputs": [
    {
     "name": "stdout",
     "output_type": "stream",
     "text": [
      "1\n",
      "2\n",
      "3\n",
      "4\n",
      "5\n"
     ]
    }
   ],
   "source": [
    "my_list = [1,2,3,4,5]\n",
    "\n",
    "for item in my_list:\n",
    "    print(item)"
   ]
  },
  {
   "cell_type": "markdown",
   "metadata": {},
   "source": [
    "Strings are sequences of characters, so we can use `for` loops to access every character in a string!"
   ]
  },
  {
   "cell_type": "code",
   "execution_count": 5,
   "metadata": {},
   "outputs": [
    {
     "name": "stdout",
     "output_type": "stream",
     "text": [
      "H\n",
      "e\n",
      "l\n",
      "l\n",
      "o\n"
     ]
    }
   ],
   "source": [
    "for character in \"Hello\":\n",
    "    print(character)"
   ]
  },
  {
   "cell_type": "markdown",
   "metadata": {},
   "source": [
    "We can also use the `range()` function to define our own sequences. There are three main ways to use the `range()` function.\n",
    "\n",
    "* `for i in range(stop)`: creates a sequence from 0 (inclusive) to stop (exclusive)\n",
    "* `for i in range(start, stop)`: creates a sequences from start (inclusive) to stop (exclusive)\n",
    "* `for i in range(start, stop, step)`: create a sequence from start (inclusive) to stop (exclusive) counting up by step\n",
    "    * NOTE: If you use a negative step then you can increment from the stop to the start (so work backwards)\n",
    "\n",
    "Here are some examples of `for` loops using `range()`:"
   ]
  },
  {
   "cell_type": "code",
   "execution_count": 6,
   "metadata": {},
   "outputs": [
    {
     "name": "stdout",
     "output_type": "stream",
     "text": [
      "0\n",
      "1\n",
      "2\n",
      "3\n",
      "4\n",
      "5\n",
      "6\n",
      "7\n",
      "8\n"
     ]
    }
   ],
   "source": [
    "# for loop with 1st method\n",
    "for i in range(9):\n",
    "    print(i)"
   ]
  },
  {
   "cell_type": "code",
   "execution_count": 7,
   "metadata": {},
   "outputs": [
    {
     "name": "stdout",
     "output_type": "stream",
     "text": [
      "4\n",
      "5\n",
      "6\n",
      "7\n"
     ]
    }
   ],
   "source": [
    "# for loop with 2nd method\n",
    "for i in range(4,8):\n",
    "    print(i)"
   ]
  },
  {
   "cell_type": "code",
   "execution_count": 8,
   "metadata": {},
   "outputs": [
    {
     "name": "stdout",
     "output_type": "stream",
     "text": [
      "4\n",
      "6\n",
      "8\n"
     ]
    }
   ],
   "source": [
    "# for loop with 3rd method\n",
    "for i in range(4,9,2):\n",
    "    print(i)"
   ]
  },
  {
   "cell_type": "markdown",
   "metadata": {},
   "source": [
    "> **EXAMPLE:** print the first 20 even numbers on the same line with commas in between."
   ]
  },
  {
   "cell_type": "code",
   "execution_count": 17,
   "metadata": {},
   "outputs": [
    {
     "name": "stdout",
     "output_type": "stream",
     "text": [
      "2, 4, 6, 8, 10, 12, 14, 16, 18, 20, 22, 24, 26, 28, 30, 32, 34, 36, 38, 40\n",
      "\n",
      "2, 4, 6, 8, 10, 12, 14, 16, 18, 20, 22, 24, 26, 28, 30, 32, 34, 36, 38, 40\n"
     ]
    }
   ],
   "source": [
    "for i in range(2,41,2):\n",
    "    if i == 40:\n",
    "        print(i)\n",
    "    else:\n",
    "        print(i, end=\", \")\n",
    "        \n",
    "print()\n",
    "\n",
    "\n",
    "# Another way to solve this\n",
    "for i in range(2,39,2):\n",
    "    print(i, end=\", \")\n",
    "print(i+2)"
   ]
  },
  {
   "cell_type": "markdown",
   "metadata": {},
   "source": [
    "`while` loops are way more general but are better to use if you have no clue how many iterations you need to perform BUT you know when you should stop repeating. When you make a `while` loop you want to make progress towards your conditional being false, otherwise you will get an error.\n",
    "\n",
    "Here are examples of using a `while` loop:"
   ]
  },
  {
   "cell_type": "code",
   "execution_count": 18,
   "metadata": {},
   "outputs": [
    {
     "name": "stdout",
     "output_type": "stream",
     "text": [
      "2, 4, 6, 8, 10, 12, 14, 16, 18, 20, 22, 24, 26, 28, 30, 32, 34, 36, 38, 40\n"
     ]
    }
   ],
   "source": [
    "k = 2\n",
    "while k <= 38:\n",
    "    print(k, end=\", \")\n",
    "    k += 2\n",
    "print(k)"
   ]
  },
  {
   "cell_type": "markdown",
   "metadata": {},
   "source": [
    "It is possible to exit out of a loop early using the `break` keyword."
   ]
  },
  {
   "cell_type": "code",
   "execution_count": 20,
   "metadata": {},
   "outputs": [
    {
     "name": "stdin",
     "output_type": "stream",
     "text": [
      "Enter a word (stop to quit):  l;ka;sdfj\n",
      "Enter a word (stop to quit):  al;skdjf\n",
      "Enter a word (stop to quit):  ;laksdfj\n",
      "Enter a word (stop to quit):  huh?\n",
      "Enter a word (stop to quit):  alskdjf\n",
      "Enter a word (stop to quit):  I can't get out!\n",
      "Enter a word (stop to quit):  BRO\n",
      "Enter a word (stop to quit):  LET ME OUT\n",
      "Enter a word (stop to quit):  PLEASE\n",
      "Enter a word (stop to quit):  LET ME OUT OF HERE\n",
      "Enter a word (stop to quit):  NOOOOOOOOOOOOOOOOOOOO\n",
      "Enter a word (stop to quit):  STOP\n"
     ]
    }
   ],
   "source": [
    "while True:\n",
    "    user_input = input(\"Enter a word (stop to quit): \")\n",
    "    \n",
    "    if user_input == \"STOP\":\n",
    "        break"
   ]
  },
  {
   "cell_type": "markdown",
   "metadata": {},
   "source": [
    "## Random Numbers\n",
    "\n",
    "Sometimes we will want to generate random numbers to simulate various events. For example, if we want to roll a die then we will need to generate a random number from 1 to 6. In order to do this, we need to import the `random` module at the top of the script that you are writing.\n",
    "\n",
    "Here is example code simulating rolling a 6-sided die:"
   ]
  },
  {
   "cell_type": "code",
   "execution_count": 177,
   "metadata": {},
   "outputs": [
    {
     "name": "stdout",
     "output_type": "stream",
     "text": [
      "Your die roll is:  2\n",
      "Stopping value now included in the range:  5\n"
     ]
    }
   ],
   "source": [
    "die_roll = random.randrange(1,7)\n",
    "print('Your die roll is: ', die_roll)\n",
    "\n",
    "die_roll = random.randint(1,6)\n",
    "print('Stopping value now included in the range: ', die_roll)"
   ]
  },
  {
   "cell_type": "markdown",
   "metadata": {},
   "source": [
    "In C++, you have to seed your random number generator, but in Python this is done for you. However, if you want reproducable results then you need to seed your random number generator with a constant at the top of your code with `random.seed(C)` where `C` is some constant that you can decide."
   ]
  },
  {
   "cell_type": "markdown",
   "metadata": {},
   "source": [
    "## Functions\n",
    "\n",
    "A **function** is a named sequence of statements. This means that we can refer to the name of the function later. This means that we can write a series of commands and not have to re-write those commands later if you want to write those commands over and over again. \n",
    "\n",
    "Function names have this format: `def FUNCTION_NAME(PARAMETER(S)):`:\n",
    "* FUNCTION NAME: The name of the function\n",
    "* PARAMETER(S): The input(s) that you need to make your function work\n",
    "\n",
    "Functions are also super helpful for organization because it makes your code a lot more readable - especially if you **comment your functions** explaining what your functions do so that other people can read your function and understand what your function does later."
   ]
  }
 ],
 "metadata": {
  "kernelspec": {
   "display_name": "Python 3",
   "language": "python",
   "name": "python3"
  },
  "language_info": {
   "codemirror_mode": {
    "name": "ipython",
    "version": 3
   },
   "file_extension": ".py",
   "mimetype": "text/x-python",
   "name": "python",
   "nbconvert_exporter": "python",
   "pygments_lexer": "ipython3",
   "version": "3.8.8"
  }
 },
 "nbformat": 4,
 "nbformat_minor": 4
}
