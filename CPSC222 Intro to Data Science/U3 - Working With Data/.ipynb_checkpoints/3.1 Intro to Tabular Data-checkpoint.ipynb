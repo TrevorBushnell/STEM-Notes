{
 "cells": [
  {
   "cell_type": "markdown",
   "metadata": {},
   "source": [
    "# 3.1: Intro to Tabular Data\n",
    "\n",
    "* Tabular data is **data that is organized into a table-structure** (rows x columns)\n",
    "* Each **row** is called an *instance*, *record*, *object*\n",
    "* Each **column** is called an *attribute*, *variable*, *row*, *field*, *feature*\n",
    "* A dataset is a *sample*/*population* set of instances that have 1 OR MORE tables\n",
    "* A **key** is one or more attributes that *uniquely identify instances*\n",
    "    * You should ALWAYS have some keys for your data, so if there isn't then MAKE YOUR OWN using standard indexing"
   ]
  },
  {
   "cell_type": "markdown",
   "metadata": {},
   "source": [
    "## Joins\n",
    "\n",
    "We can combine two different tables on any attributes/variables. We typically do this on key/foreign keys when we try to do joins\n",
    "\n",
    "There are two main types of joins:\n",
    "\n",
    "1. **INNER JOIN**: only includes rows that match on attributes in both tables\n",
    "2. **OUTER JOIN**: include non-matching rows as well\n",
    "    * We fill non-matching attribute values with N/A which we represent in Python with `NaN`"
   ]
  },
  {
   "cell_type": "markdown",
   "metadata": {},
   "source": [
    "## Aspects of Attributes\n",
    "\n",
    "* data (storage) type: int, float, strings, ...\n",
    "* measurement scales: categorical, continuous\n",
    "* semantic type - what do the values represent?\n",
    "    * people, ages, hometown, ...\n",
    "* noisy vs invalid values?\n",
    "* labeled or unlabeled?\n",
    "    * labeled data: trying to make predictions\n",
    "    * unlabeled data: pattern mining"
   ]
  },
  {
   "cell_type": "markdown",
   "metadata": {},
   "source": [
    "## Measurement Scales\n",
    "\n",
    "1. **NOMINAL:** discrete data/values *without an inherent ordering*\n",
    "    * Ex: occupation- accountant, lawyer, programmer\n",
    "    * Ex: colors- red, green, blue\n",
    "    * stored with any data type\n",
    "    \n",
    "2. **ORDINAL:** discrete data/values *with an inherent ordering*\n",
    "    * Ex: letter grades- A, A-, B+, ...\n",
    "    * t-shirt sizes- small, medium, large, ...\n",
    "    * no guarantee on the distance between two values\n",
    "    * stored with any data type\n",
    "    \n",
    "3. **INTERVAL:** values measured on a scale of equal sized widths with no inherent zero point\n",
    "    * Ex: temperature in celcius or farenheight\n",
    "    * stored in ints/floats\n",
    "    \n",
    "4. **RATIO:** interval values but with an inherent zero point\n",
    "    * Ex: temperature in Kelvin (0 literally means no temperature)\n",
    "    * Ex: weight/height\n",
    "    \n",
    "> nominal and ordinal scales go with categorical/discrete attributes, interval and ratio go with continuous/numerical attributes"
   ]
  },
  {
   "cell_type": "markdown",
   "metadata": {},
   "source": [
    "## Noisy VS Invalid\n",
    "\n",
    "* **NOISY:** valid on the appropriate measurement scale, but *recorded incorrectly*\n",
    "    * Ex: \"fat fingering\"\n",
    "    * Ex: a Spokane resident when asked for the state that you live in, you say ID instead of WA\n",
    "* **INVALID:** not valid on the state scale\n",
    "    * Ex: when asked for the state that you live in, you say \"1\""
   ]
  },
  {
   "cell_type": "markdown",
   "metadata": {},
   "source": [
    "## Labeled VS Unlabeled\n",
    "\n",
    "* **LABELED:** an attribute that represents a \"class\"\n",
    "    * \"class\" is a general term for something that can be classified\n",
    "    * used for classification in supervised machine learning\n",
    "    * the goal of supervised machine learning is to predict a class value\n",
    "* **UNLABELED:** not a class attribute (dataset doesn't have a class attribute)\n",
    "    * unsupervised machine learning - looking/mining for patterns, groups, relationships, etc."
   ]
  }
 ],
 "metadata": {
  "kernelspec": {
   "display_name": "Python 3",
   "language": "python",
   "name": "python3"
  },
  "language_info": {
   "codemirror_mode": {
    "name": "ipython",
    "version": 3
   },
   "file_extension": ".py",
   "mimetype": "text/x-python",
   "name": "python",
   "nbconvert_exporter": "python",
   "pygments_lexer": "ipython3",
   "version": "3.8.5"
  }
 },
 "nbformat": 4,
 "nbformat_minor": 4
}
