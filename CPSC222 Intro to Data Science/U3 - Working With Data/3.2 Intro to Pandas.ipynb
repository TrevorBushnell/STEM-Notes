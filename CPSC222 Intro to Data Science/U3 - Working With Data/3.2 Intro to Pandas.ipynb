{
 "cells": [
  {
   "cell_type": "markdown",
   "metadata": {},
   "source": [
    "# 3.2: Intro to Pandas"
   ]
  },
  {
   "cell_type": "markdown",
   "metadata": {},
   "source": [
    "## Importing the Pandas Library\n",
    "\n",
    "* If you want to use `pandas`, make sure to include the following import statement at the top of your code file:"
   ]
  },
  {
   "cell_type": "code",
   "execution_count": 5,
   "metadata": {},
   "outputs": [],
   "source": [
    "import pandas as pd"
   ]
  },
  {
   "cell_type": "markdown",
   "metadata": {},
   "source": [
    "## About `pandas`\n",
    "\n",
    "* Short for panel data\n",
    "* library (like `numpy`) for data science\n",
    "* built on top of numpy\n",
    "* one of the major shortcomings of data science is the lack of label-based indexing: `pandas` fixes that issue\n",
    "* `pandas` also has really great functionality for indexing, cleaning, stats, etc.\n",
    "\n",
    "\n",
    "There are two major objects in `pandas`:\n",
    "\n",
    "1. `pd.Series()`: a `pandas` object for 1D data\n",
    "2. `pd.DataFrame()`: a `pandas` object for 2D data"
   ]
  },
  {
   "cell_type": "markdown",
   "metadata": {},
   "source": [
    "## `pd.Series()` Objects"
   ]
  },
  {
   "cell_type": "markdown",
   "metadata": {},
   "source": [
    "### Creating and Managing a `Series` object\n",
    "\n",
    "First let's create some sample data to use:"
   ]
  },
  {
   "cell_type": "code",
   "execution_count": 6,
   "metadata": {},
   "outputs": [],
   "source": [
    "populations = [219190, 744955, 147599, 2010]\n",
    "cities = ['Spokane', 'Seattle', 'Bellevue', 'Leavenworth']"
   ]
  },
  {
   "cell_type": "markdown",
   "metadata": {},
   "source": [
    "When we create series, use `ser` for the variable name for a `Series` object and `df` for the variable name for a `DataFrame`.\n",
    "\n",
    "We can create a Series object using the Series constructor:"
   ]
  },
  {
   "cell_type": "code",
   "execution_count": 7,
   "metadata": {},
   "outputs": [
    {
     "name": "stdout",
     "output_type": "stream",
     "text": [
      "Spokane        219190\n",
      "Seattle        744955\n",
      "Bellevue       147599\n",
      "Leavenworth      2010\n",
      "dtype: int64\n"
     ]
    }
   ],
   "source": [
    "pop_ser = pd.Series(populations, index=cities)\n",
    "print(pop_ser)"
   ]
  },
  {
   "cell_type": "markdown",
   "metadata": {},
   "source": [
    "Now we can index into `pop_ser` using a string key!"
   ]
  },
  {
   "cell_type": "code",
   "execution_count": 8,
   "metadata": {},
   "outputs": [
    {
     "name": "stdout",
     "output_type": "stream",
     "text": [
      "219190\n"
     ]
    }
   ],
   "source": [
    "print(pop_ser['Spokane'])"
   ]
  },
  {
   "cell_type": "markdown",
   "metadata": {},
   "source": [
    "## Indexing/Slicing a Pandas Series"
   ]
  },
  {
   "cell_type": "code",
   "execution_count": 9,
   "metadata": {},
   "outputs": [
    {
     "name": "stdout",
     "output_type": "stream",
     "text": [
      "Spokane        219190\n",
      "Seattle        744955\n",
      "Bellevue       147599\n",
      "Leavenworth      2010\n",
      "Name: Population, dtype: int64\n"
     ]
    }
   ],
   "source": [
    "pop_ser.name = \"Population\"\n",
    "print(pop_ser)"
   ]
  },
  {
   "cell_type": "markdown",
   "metadata": {},
   "source": [
    "We can use a label to index into the Series and get a value (as we saw using `print(pop_ser['Spokane'])`). However, we can pass in multiple keys to return multiple rows in a Pandas Series object. This is called **multiple indexing**."
   ]
  },
  {
   "cell_type": "code",
   "execution_count": 10,
   "metadata": {},
   "outputs": [
    {
     "name": "stdout",
     "output_type": "stream",
     "text": [
      "Seattle        744955\n",
      "Leavenworth      2010\n",
      "Name: Population, dtype: int64\n"
     ]
    }
   ],
   "source": [
    "print(pop_ser[[\"Seattle\", \"Leavenworth\"]])"
   ]
  },
  {
   "cell_type": "markdown",
   "metadata": {},
   "source": [
    "We can still slice into our Series object still by using the slicing operator `:` however with label based indexing THE STOP IS INCLUSIVE (which is not how Python works normally)."
   ]
  },
  {
   "cell_type": "code",
   "execution_count": 11,
   "metadata": {},
   "outputs": [
    {
     "name": "stdout",
     "output_type": "stream",
     "text": [
      "Seattle        744955\n",
      "Bellevue       147599\n",
      "Leavenworth      2010\n",
      "Name: Population, dtype: int64\n"
     ]
    }
   ],
   "source": [
    "print(pop_ser['Seattle':'Leavenworth'])"
   ]
  },
  {
   "cell_type": "markdown",
   "metadata": {},
   "source": [
    "We can still use position based indexing with integers like we do with normal lists and strings using `iloc`. Multiple indexing works the same way here as well. Slicing also works the same way, but now we revert back to normal Python where the stop is NOT INCLUDED."
   ]
  },
  {
   "cell_type": "code",
   "execution_count": 17,
   "metadata": {},
   "outputs": [
    {
     "name": "stdout",
     "output_type": "stream",
     "text": [
      "744955\n",
      "\n",
      " Seattle        744955\n",
      "Leavenworth      2010\n",
      "Name: Population, dtype: int64\n",
      "\n",
      " Seattle     744955\n",
      "Bellevue    147599\n",
      "Name: Population, dtype: int64\n"
     ]
    }
   ],
   "source": [
    "print(pop_ser.iloc[1])\n",
    "print('\\n',pop_ser.iloc[[1,3]])\n",
    "print('\\n', pop_ser.iloc[1:3])"
   ]
  },
  {
   "cell_type": "markdown",
   "metadata": {},
   "source": [
    "## Stats Functions with Pandas\n",
    "\n",
    "You don't have to write your own functions to compute mean and median, `pandas` can compute all of that stuff now for you with a one-liner function call!"
   ]
  },
  {
   "cell_type": "code",
   "execution_count": 21,
   "metadata": {},
   "outputs": [
    {
     "name": "stdout",
     "output_type": "stream",
     "text": [
      "278438.5\n",
      "323872.25871578854\n",
      "280481.60362891894\n"
     ]
    }
   ],
   "source": [
    "print(pop_ser.mean())\n",
    "print(pop_ser.std()) # this is a population standard deviation\n",
    "print(pop_ser.std(ddof=0)) # this is a sample standard deviation"
   ]
  },
  {
   "cell_type": "markdown",
   "metadata": {},
   "source": [
    "## Adding New Data to a Series Object\n",
    "\n",
    "Pandas Series objects are mutable, so we can add new rows (key/value pairs) whenever we want"
   ]
  },
  {
   "cell_type": "code",
   "execution_count": 22,
   "metadata": {},
   "outputs": [
    {
     "name": "stdout",
     "output_type": "stream",
     "text": [
      "Spokane        219190\n",
      "Seattle        744955\n",
      "Bellevue       147599\n",
      "Leavenworth      2010\n",
      "Pullman         34019\n",
      "Name: Population, dtype: int64\n"
     ]
    }
   ],
   "source": [
    "pop_ser['Pullman'] = 34019\n",
    "print(pop_ser)"
   ]
  },
  {
   "cell_type": "markdown",
   "metadata": {},
   "source": [
    "## Creating Empty Series Objects\n",
    "\n",
    "You can create empty Pandas Series Objects using the constructor method:"
   ]
  },
  {
   "cell_type": "code",
   "execution_count": 23,
   "metadata": {},
   "outputs": [
    {
     "name": "stderr",
     "output_type": "stream",
     "text": [
      "/tmp/ipykernel_271/4187544201.py:1: DeprecationWarning: The default dtype for empty Series will be 'object' instead of 'float64' in a future version. Specify a dtype explicitly to silence this warning.\n",
      "  pop_ser2 = pd.Series()\n"
     ]
    }
   ],
   "source": [
    "pop_ser2 = pd.Series()"
   ]
  },
  {
   "cell_type": "markdown",
   "metadata": {},
   "source": [
    "The reason we get this error is because we should specify the type of data this Series object will have using `dtype`"
   ]
  },
  {
   "cell_type": "code",
   "execution_count": 27,
   "metadata": {},
   "outputs": [
    {
     "name": "stdout",
     "output_type": "stream",
     "text": [
      "Series([], dtype: int64)\n"
     ]
    }
   ],
   "source": [
    "pop_ser2 = pd.Series(dtype=int)\n",
    "print(pop_ser2)"
   ]
  },
  {
   "cell_type": "markdown",
   "metadata": {},
   "source": [
    "# Pandas `DataFrame` Objects\n",
    "\n",
    "DataFrame objects are used to store 2d data in `pandas`.\n",
    "\n",
    "We can create a DataFrame object in many ways:\n",
    "* From a 2D list\n",
    "* "
   ]
  },
  {
   "cell_type": "code",
   "execution_count": 32,
   "metadata": {},
   "outputs": [
    {
     "name": "stdout",
     "output_type": "stream",
     "text": [
      "   col1 col2   col3\n",
      "0     3    a   4.50\n",
      "1     7    b  10.99\n",
      "2   -10    c  -1.50\n"
     ]
    }
   ],
   "source": [
    "twod_list = [[3,'a',4.5],[7,'b',10.99],[-10,'c',-1.5]]\n",
    "header = ['col1', 'col2', 'col3']\n",
    "\n",
    "# Creating a DataFrame from a 2D list\n",
    "df = pd.DataFrame(twod_list, columns=header)\n",
    "print(df)"
   ]
  },
  {
   "cell_type": "markdown",
   "metadata": {},
   "source": [
    "Some notes on DataFrame terminology:\n",
    "\n",
    "* column labels are called **columns**\n",
    "* row labels are called **index**"
   ]
  },
  {
   "cell_type": "code",
   "execution_count": 35,
   "metadata": {},
   "outputs": [
    {
     "name": "stdout",
     "output_type": "stream",
     "text": [
      "      col1 col2   col3\n",
      "row1     3    a   4.50\n",
      "row2     7    b  10.99\n",
      "row3   -10    c  -1.50\n"
     ]
    }
   ],
   "source": [
    "row_index = ['row1','row2','row3']\n",
    "df = pd.DataFrame(twod_list, columns=header, index=row_index)\n",
    "print(df)"
   ]
  },
  {
   "cell_type": "markdown",
   "metadata": {},
   "source": [
    "## Example: Information About Cities\n",
    "\n",
    "We will need to read the data from `regions.csv`.\n",
    "\n",
    "To start let's set what our column headers will be. We will need a city, the city's population, and a classification based on population (namely small, medium, and large)"
   ]
  },
  {
   "cell_type": "code",
   "execution_count": 47,
   "metadata": {},
   "outputs": [
    {
     "name": "stdout",
     "output_type": "stream",
     "text": [
      "          City  Population   Class\n",
      "0      Spokane      219190  Medium\n",
      "1      Seattle      744966   Large\n",
      "2     Bellevue      147599  Medium\n",
      "3  Leavenworth        2010   Small\n"
     ]
    }
   ],
   "source": [
    "header = ['City', 'Population', 'Class']\n",
    "pop_data = [['Spokane',219190,'Medium'],\n",
    "           ['Seattle',744966,'Large'],\n",
    "           ['Bellevue',147599,'Medium'],\n",
    "           ['Leavenworth',2010,'Small']]\n",
    "\n",
    "pop_df = pd.DataFrame(pop_data, columns=header)\n",
    "print(pop_df)"
   ]
  },
  {
   "cell_type": "markdown",
   "metadata": {},
   "source": [
    "We can notice that the keys for the rows are normal integers. However, we can make the City the key for the rows using the `set_index` function."
   ]
  },
  {
   "cell_type": "code",
   "execution_count": 48,
   "metadata": {},
   "outputs": [
    {
     "name": "stdout",
     "output_type": "stream",
     "text": [
      "             Population   Class\n",
      "City                           \n",
      "Spokane          219190  Medium\n",
      "Seattle          744966   Large\n",
      "Bellevue         147599  Medium\n",
      "Leavenworth        2010   Small\n"
     ]
    }
   ],
   "source": [
    "pop_df = pop_df.set_index('City')\n",
    "print(pop_df)"
   ]
  },
  {
   "cell_type": "markdown",
   "metadata": {},
   "source": [
    "Now let's grb a column by its label which will return a Pandas Series object"
   ]
  },
  {
   "cell_type": "code",
   "execution_count": 49,
   "metadata": {},
   "outputs": [
    {
     "name": "stdout",
     "output_type": "stream",
     "text": [
      "City\n",
      "Spokane        219190\n",
      "Seattle        744966\n",
      "Bellevue       147599\n",
      "Leavenworth      2010\n",
      "Name: Population, dtype: int64\n"
     ]
    }
   ],
   "source": [
    "pop_ser = pop_df['Population'] # grabs the population column\n",
    "print(pop_ser)"
   ]
  },
  {
   "cell_type": "markdown",
   "metadata": {},
   "source": [
    "We can also use `iloc` but this will index by *row* and not by *column*"
   ]
  },
  {
   "cell_type": "code",
   "execution_count": 51,
   "metadata": {},
   "outputs": [
    {
     "name": "stdout",
     "output_type": "stream",
     "text": [
      "Population    219190\n",
      "Class         Medium\n",
      "Name: Spokane, dtype: object\n"
     ]
    }
   ],
   "source": [
    "pop_ser = pop_df.iloc[0]\n",
    "print(pop_ser)"
   ]
  },
  {
   "cell_type": "code",
   "execution_count": 55,
   "metadata": {},
   "outputs": [
    {
     "name": "stdout",
     "output_type": "stream",
     "text": [
      "219190\n",
      "219190\n"
     ]
    }
   ],
   "source": [
    "pop_spokane = pop_df.iloc[0,0]\n",
    "print(pop_spokane)\n",
    "pop_spokane_2 = pop_df.loc['Spokane','Population']\n",
    "print(pop_spokane_2)"
   ]
  },
  {
   "cell_type": "markdown",
   "metadata": {},
   "source": [
    "You can slice across the columns just by typing the column names. More than 1 column returns another DataFrame. "
   ]
  },
  {
   "cell_type": "code",
   "execution_count": 57,
   "metadata": {},
   "outputs": [],
   "source": [
    "# do this later"
   ]
  },
  {
   "cell_type": "markdown",
   "metadata": {},
   "source": [
    "## Data Cleaning with Pandas\n",
    "\n",
    "We can open files using `pd.read_csv()` function. It's a one-liner!"
   ]
  },
  {
   "cell_type": "code",
   "execution_count": 59,
   "metadata": {},
   "outputs": [
    {
     "name": "stdout",
     "output_type": "stream",
     "text": [
      "          City Region\n",
      "0      Spokane      E\n",
      "1      Seattle      W\n",
      "2     Bellevue      W\n",
      "3  Leavenworth      C\n"
     ]
    }
   ],
   "source": [
    "regions_df = pd.read_csv('regions.csv')\n",
    "print(regions_df)"
   ]
  },
  {
   "cell_type": "markdown",
   "metadata": {},
   "source": [
    "## Joining Pandas DataFrame Objects\n",
    "\n",
    "We can produce a third DataFrame by doing a join operation on two other dataframes"
   ]
  },
  {
   "cell_type": "code",
   "execution_count": 63,
   "metadata": {},
   "outputs": [
    {
     "name": "stdout",
     "output_type": "stream",
     "text": [
      "          City  Population   Class Region\n",
      "0      Spokane      219190  Medium      E\n",
      "1      Seattle      744966   Large      W\n",
      "2     Bellevue      147599  Medium      W\n",
      "3  Leavenworth        2010   Small      C\n"
     ]
    }
   ],
   "source": [
    "merged_df = pop_df.merge(regions_df, on='City') # by default the merge() function does an inner join\n",
    "print(merged_df)"
   ]
  },
  {
   "cell_type": "markdown",
   "metadata": {},
   "source": [
    "We can write DataFrame objects to files in a one-liner which is super convenient :)"
   ]
  },
  {
   "cell_type": "code",
   "execution_count": 64,
   "metadata": {},
   "outputs": [],
   "source": [
    "merged_df.to_csv('merged.csv')"
   ]
  }
 ],
 "metadata": {
  "kernelspec": {
   "display_name": "Python 3 (ipykernel)",
   "language": "python",
   "name": "python3"
  },
  "language_info": {
   "codemirror_mode": {
    "name": "ipython",
    "version": 3
   },
   "file_extension": ".py",
   "mimetype": "text/x-python",
   "name": "python",
   "nbconvert_exporter": "python",
   "pygments_lexer": "ipython3",
   "version": "3.8.8"
  }
 },
 "nbformat": 4,
 "nbformat_minor": 4
}
