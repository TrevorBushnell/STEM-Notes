{
 "cells": [
  {
   "cell_type": "markdown",
   "metadata": {},
   "source": [
    "# 3.2: `pandas` Library"
   ]
  },
  {
   "cell_type": "markdown",
   "metadata": {},
   "source": [
    "## Importing the Pandas Library\n",
    "\n",
    "* If you want to use `pandas`, make sure to include the following import statement at the top of your code file:"
   ]
  },
  {
   "cell_type": "code",
   "execution_count": 1,
   "metadata": {},
   "outputs": [],
   "source": [
    "import pandas as pd"
   ]
  },
  {
   "cell_type": "markdown",
   "metadata": {},
   "source": [
    "## About `pandas`\n",
    "\n",
    "* Short for panel data\n",
    "* library (like `numpy`) for data science\n",
    "* built on top of numpy\n",
    "* one of the major shortcomings of data science is the lack of label-based indexing: `pandas` fixes that issue\n",
    "* `pandas` also has really great functionality for indexing, cleaning, stats, etc.\n",
    "\n",
    "\n",
    "There are two major objects in `pandas`:\n",
    "\n",
    "1. `pd.Series()`: a `pandas` object for 1D data\n",
    "2. `pd.DataFrame()`: a `pandas` object for 2D data"
   ]
  },
  {
   "cell_type": "markdown",
   "metadata": {},
   "source": [
    "## `pd.Series()` Objects"
   ]
  },
  {
   "cell_type": "markdown",
   "metadata": {},
   "source": [
    "### Creating and Managing a `Series` object\n",
    "\n",
    "First let's create some sample data to use:"
   ]
  },
  {
   "cell_type": "code",
   "execution_count": 2,
   "metadata": {},
   "outputs": [],
   "source": [
    "populations = [219190, 744955, 147599, 2010]\n",
    "cities = ['Spokane', 'Seattle', 'Bellevue', 'Leavenworth']"
   ]
  },
  {
   "cell_type": "markdown",
   "metadata": {},
   "source": [
    "When we create series, use `ser` for the variable name for a `Series` object and `df` for the variable name for a `DataFrame`.\n",
    "\n",
    "We can create a Series object using the Series constructor:"
   ]
  },
  {
   "cell_type": "code",
   "execution_count": 3,
   "metadata": {},
   "outputs": [
    {
     "name": "stdout",
     "output_type": "stream",
     "text": [
      "Spokane        219190\n",
      "Seattle        744955\n",
      "Bellevue       147599\n",
      "Leavenworth      2010\n",
      "dtype: int64\n"
     ]
    }
   ],
   "source": [
    "pop_ser = pd.Series(populations, index=cities)\n",
    "print(pop_ser)"
   ]
  },
  {
   "cell_type": "markdown",
   "metadata": {},
   "source": [
    "Now we can index into `pop_ser` using a string key!"
   ]
  },
  {
   "cell_type": "code",
   "execution_count": 5,
   "metadata": {},
   "outputs": [
    {
     "name": "stdout",
     "output_type": "stream",
     "text": [
      "219190\n"
     ]
    }
   ],
   "source": [
    "print(pop_ser['Spokane'])"
   ]
  }
 ],
 "metadata": {
  "kernelspec": {
   "display_name": "Python 3",
   "language": "python",
   "name": "python3"
  },
  "language_info": {
   "codemirror_mode": {
    "name": "ipython",
    "version": 3
   },
   "file_extension": ".py",
   "mimetype": "text/x-python",
   "name": "python",
   "nbconvert_exporter": "python",
   "pygments_lexer": "ipython3",
   "version": "3.8.5"
  }
 },
 "nbformat": 4,
 "nbformat_minor": 4
}
