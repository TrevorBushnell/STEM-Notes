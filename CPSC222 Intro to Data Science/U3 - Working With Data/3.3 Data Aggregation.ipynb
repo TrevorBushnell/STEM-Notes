{
 "cells": [
  {
   "cell_type": "markdown",
   "metadata": {},
   "source": [
    "## 3.3: Data Agrregation (Split-Apply-Combine)"
   ]
  },
  {
   "cell_type": "markdown",
   "metadata": {},
   "source": [
    "## Data Aggregation\n",
    "\n",
    "* Gathering data and presenting it in a summarized format\n",
    "* data may be from multiple sources\n",
    "* ex: Gonzaga's First Destination survey report"
   ]
  },
  {
   "cell_type": "markdown",
   "metadata": {},
   "source": [
    "## The Split-Apply-Combine Approach\n",
    "\n",
    "1. **Split** the data into sub tables based on the values of an attribute\n",
    "    * Ex: Split on college/school (1 sub-table for each college/school)\n",
    "    * `groupby()` function using pandas\n",
    "2. **Apply** a function to the data in each subtable to summarize it\n",
    "    * Ex: computing a percentage of employment (or mean, median, st. dev., etc.)\n",
    "3. **Combine** combine the apply results into a summary table"
   ]
  },
  {
   "cell_type": "markdown",
   "metadata": {},
   "source": [
    "## Applying the Split-Apply-Combine Approach Using `pandas`\n",
    "\n",
    "Here is how to apply the `pandas` library to help do this approach:"
   ]
  },
  {
   "cell_type": "code",
   "execution_count": 3,
   "metadata": {},
   "outputs": [
    {
     "name": "stdout",
     "output_type": "stream",
     "text": [
      "   Unnamed: 0         City  Population   Class Region\n",
      "0           0      Spokane      219190  Medium      E\n",
      "1           1      Seattle      744966   Large      W\n",
      "2           2     Bellevue      147599  Medium      W\n",
      "3           3  Leavenworth        2010   Small      C\n"
     ]
    }
   ],
   "source": [
    "import pandas as pd\n",
    "\n",
    "merged_df = pd.read_csv(\"merged.csv\")\n",
    "print(merged_df)"
   ]
  },
  {
   "cell_type": "code",
   "execution_count": null,
   "metadata": {},
   "outputs": [],
   "source": []
  }
 ],
 "metadata": {
  "kernelspec": {
   "display_name": "Python 3",
   "language": "python",
   "name": "python3"
  },
  "language_info": {
   "codemirror_mode": {
    "name": "ipython",
    "version": 3
   },
   "file_extension": ".py",
   "mimetype": "text/x-python",
   "name": "python",
   "nbconvert_exporter": "python",
   "pygments_lexer": "ipython3",
   "version": "3.8.5"
  }
 },
 "nbformat": 4,
 "nbformat_minor": 4
}
