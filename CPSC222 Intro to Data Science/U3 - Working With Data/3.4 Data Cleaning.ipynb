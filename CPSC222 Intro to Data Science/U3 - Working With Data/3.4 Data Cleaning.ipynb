{
 "cells": [
  {
   "cell_type": "markdown",
   "metadata": {},
   "source": [
    "# 3.4: Data Cleaning\n",
    "\n",
    "* It is quite common to have datasets with missing, invalid, or noisy values.\n",
    "* Missing values are often represented as \"NA\" \"N/A\" `NaN`\n",
    "    * `dropna()` - remove all columns that have an `np.NaN` value\n",
    "    * `fillna()` - fill in values in data that have `np.NaN` values"
   ]
  },
  {
   "cell_type": "markdown",
   "metadata": {},
   "source": [
    "## Ways to Deal With Invalid/Noisy Values\n",
    "\n",
    "* Look for duplicate values where there shouldn't be any"
   ]
  }
 ],
 "metadata": {
  "kernelspec": {
   "display_name": "Python 3",
   "language": "python",
   "name": "python3"
  },
  "language_info": {
   "codemirror_mode": {
    "name": "ipython",
    "version": 3
   },
   "file_extension": ".py",
   "mimetype": "text/x-python",
   "name": "python",
   "nbconvert_exporter": "python",
   "pygments_lexer": "ipython3",
   "version": "3.8.5"
  }
 },
 "nbformat": 4,
 "nbformat_minor": 4
}
