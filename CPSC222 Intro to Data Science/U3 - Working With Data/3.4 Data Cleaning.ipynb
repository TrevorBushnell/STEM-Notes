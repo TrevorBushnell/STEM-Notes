{
 "cells": [
  {
   "cell_type": "markdown",
   "metadata": {},
   "source": [
    "# 3.4: Data Cleaning\n",
    "\n",
    "* It is quite common to have datasets with missing, invalid, or noisy values.\n",
    "* Missing values are often represented as \"NA\" \"N/A\" `NaN`\n",
    "    * `dropna()` - remove all columns that have an `np.NaN` value\n",
    "    * `fillna()` - fill in values in data that have `np.NaN` values"
   ]
  },
  {
   "cell_type": "markdown",
   "metadata": {},
   "source": [
    "## Ways to Deal With Invalid/Noisy Values\n",
    "\n",
    "* Look for duplicate values where there shouldn't be any\n",
    "* Look for outliers\n",
    "    * sort and print the values\n",
    "    * visualizations help!\n",
    "* smooth out values (eg. filter, moving area, etc.)"
   ]
  },
  {
   "cell_type": "markdown",
   "metadata": {},
   "source": [
    "## Ways to Handle Missing Values\n",
    "\n",
    "* remove the instances/attributes with missing values\n",
    "    * *Mostly applicable when dataset is large and missing values are rare*\n",
    "* fill/replace the missing values with valid values\n",
    "    * do this by hand (manual inspection)\n",
    "    * use a central tendancy measure\n",
    "        * for numeric: mean, median, mode\n",
    "            * use `interpolate()` and `fillna()` function in pandas\n",
    "        * for categorical: most frequent label/value\n",
    "    * use machine learning to make a prediction\n",
    "        * for numeric: regression techniques\n",
    "        * for categorical: classification techniques\n",
    "    * ignore them and deal with on a case by case basis\n",
    "        * a bunch of if-statements\n",
    "        \n",
    "NOTE: `isnull().sum()` will tell you the count of the number of missing values"
   ]
  }
 ],
 "metadata": {
  "kernelspec": {
   "display_name": "Python 3",
   "language": "python",
   "name": "python3"
  },
  "language_info": {
   "codemirror_mode": {
    "name": "ipython",
    "version": 3
   },
   "file_extension": ".py",
   "mimetype": "text/x-python",
   "name": "python",
   "nbconvert_exporter": "python",
   "pygments_lexer": "ipython3",
   "version": "3.8.5"
  }
 },
 "nbformat": 4,
 "nbformat_minor": 4
}
