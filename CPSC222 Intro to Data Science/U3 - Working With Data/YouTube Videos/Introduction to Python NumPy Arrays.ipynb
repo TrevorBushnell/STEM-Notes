{
 "cells": [
  {
   "cell_type": "markdown",
   "metadata": {},
   "source": [
    "# Introduction to Python NumPy Arrays\n",
    "\n",
    "You can watch the video that goes with these notes [here](https://www.youtube.com/watch?v=fPI2SIKMGOI)"
   ]
  },
  {
   "cell_type": "markdown",
   "metadata": {},
   "source": [
    "## What is NumPy\n",
    "\n",
    "NumPy is a library that can make managing various data easier on our end as programmers. We can add NumPy module with the following;"
   ]
  },
  {
   "cell_type": "code",
   "execution_count": 1,
   "metadata": {},
   "outputs": [],
   "source": [
    "import numpy as np"
   ]
  },
  {
   "cell_type": "markdown",
   "metadata": {},
   "source": [
    "## Basic NumPy Commands\n",
    "\n",
    "We can create NumPy N-D arrays with te following command:"
   ]
  },
  {
   "cell_type": "code",
   "execution_count": 6,
   "metadata": {},
   "outputs": [
    {
     "name": "stdout",
     "output_type": "stream",
     "text": [
      "[0 1 2 3 4 5 6 7 8 9]\n",
      "<class 'numpy.ndarray'>\n",
      "\n",
      "[[1, 2, 3], [4, 5, 6]]\n",
      "[[1 2 3]\n",
      " [4 5 6]]\n"
     ]
    }
   ],
   "source": [
    "x = list(range(10))\n",
    "x = np.array(x)\n",
    "print(x)\n",
    "print(type(x)) # This is a 1D NmPy array\n",
    "\n",
    "print()\n",
    "\n",
    "x = [[1,2,3],[4,5,6]]\n",
    "print(x)\n",
    "x = np.array(x)\n",
    "print(x) # This is a 2D NumPy array"
   ]
  },
  {
   "cell_type": "markdown",
   "metadata": {},
   "source": [
    "We can get the dimension of our array and the shape of our array (rows x columns) using the following commands:"
   ]
  },
  {
   "cell_type": "code",
   "execution_count": 7,
   "metadata": {},
   "outputs": [
    {
     "name": "stdout",
     "output_type": "stream",
     "text": [
      "2\n",
      "(2, 3)\n"
     ]
    }
   ],
   "source": [
    "print(x.ndim)\n",
    "print(x.shape)"
   ]
  },
  {
   "cell_type": "markdown",
   "metadata": {},
   "source": [
    "We can also figure out the types of the values in our NumPy array by calling the `dtype` function. \n",
    "\n",
    "We can also convert a NumPy array to another datatype using the `astype` function."
   ]
  },
  {
   "cell_type": "code",
   "execution_count": 8,
   "metadata": {},
   "outputs": [
    {
     "name": "stdout",
     "output_type": "stream",
     "text": [
      "int64\n",
      "\n",
      "[[1. 2. 3.]\n",
      " [4. 5. 6.]]\n",
      "float64\n"
     ]
    }
   ],
   "source": [
    "print(x.dtype)\n",
    "\n",
    "print()\n",
    "\n",
    "x_floats = x.astype(np.float)\n",
    "print(x_floats)\n",
    "print(x_floats.dtype)"
   ]
  },
  {
   "cell_type": "markdown",
   "metadata": {},
   "source": [
    "Note that the data types used here are data types unique to the NumPy package.\n",
    "\n",
    "With the `arange` function we can create NumPy arrays using commands similar to the `range` function in Python"
   ]
  },
  {
   "cell_type": "code",
   "execution_count": 9,
   "metadata": {},
   "outputs": [
    {
     "name": "stdout",
     "output_type": "stream",
     "text": [
      "[ 2  4  6  8 10]\n"
     ]
    }
   ],
   "source": [
    "x = np.arange(2,12,2)\n",
    "print(x)"
   ]
  },
  {
   "cell_type": "markdown",
   "metadata": {},
   "source": [
    "Here are some other commands to create NumPy arrays:"
   ]
  },
  {
   "cell_type": "code",
   "execution_count": 10,
   "metadata": {},
   "outputs": [
    {
     "name": "stdout",
     "output_type": "stream",
     "text": [
      "[[1. 1. 1. 1. 1.]\n",
      " [1. 1. 1. 1. 1.]\n",
      " [1. 1. 1. 1. 1.]\n",
      " [1. 1. 1. 1. 1.]]\n",
      "[0. 0. 0. 0. 0. 0. 0. 0. 0. 0.]\n",
      "[5.5 5.5 5.5 5.5 5.5 5.5 5.5 5.5 5.5 5.5]\n"
     ]
    }
   ],
   "source": [
    "x = np.ones((4,5))\n",
    "print(x)\n",
    "\n",
    "x = np.zeros(10)\n",
    "print(x)\n",
    "\n",
    "x = np.full(10,5.5)\n",
    "print(x)"
   ]
  },
  {
   "cell_type": "markdown",
   "metadata": {},
   "source": [
    "## Indexing NumPy Arrays and Vectorization\n",
    "\n",
    "For 1D NumPy arrays, indexing is the same as normal Lists. For 2D NumPy arrays, you can use typical 2D list notation or wrap it all up into a single bracket with commas separating the row and column value."
   ]
  },
  {
   "cell_type": "code",
   "execution_count": 11,
   "metadata": {},
   "outputs": [
    {
     "name": "stdout",
     "output_type": "stream",
     "text": [
      "1.0 1.0\n"
     ]
    }
   ],
   "source": [
    "x = np.ones((4,5))\n",
    "print(x[0][0], x[0,0])"
   ]
  },
  {
   "cell_type": "markdown",
   "metadata": {},
   "source": [
    "**vectorization** is applying an operation to all the elements in a list without having to write a loop. For example, say we want to add each element in a list. Here is the imlementation using normal lists:"
   ]
  },
  {
   "cell_type": "code",
   "execution_count": 12,
   "metadata": {},
   "outputs": [
    {
     "name": "stdout",
     "output_type": "stream",
     "text": [
      "[0, 1, 2, 3, 4, 5, 6, 7, 8, 9]\n",
      "[10, 11, 12, 13, 14, 15, 16, 17, 18, 19]\n",
      "[10, 12, 14, 16, 18, 20, 22, 24, 26, 28]\n"
     ]
    }
   ],
   "source": [
    "x = list(range(10))\n",
    "y = list(range(10,20))\n",
    "print(x)\n",
    "print(y)\n",
    "z = []\n",
    "\n",
    "for i in range(len(x)):\n",
    "    z.append(x[i] + y[i])\n",
    "print(z)"
   ]
  },
  {
   "cell_type": "markdown",
   "metadata": {},
   "source": [
    "However, if we use NumPy arrays and vectorization, we get the following:"
   ]
  },
  {
   "cell_type": "code",
   "execution_count": 13,
   "metadata": {},
   "outputs": [
    {
     "name": "stdout",
     "output_type": "stream",
     "text": [
      "[0 1 2 3 4 5 6 7 8 9]\n",
      "[10 11 12 13 14 15 16 17 18 19]\n",
      "[10 12 14 16 18 20 22 24 26 28]\n"
     ]
    }
   ],
   "source": [
    "x = np.arange(10)\n",
    "y = np.arange(10,20)\n",
    "print(x)\n",
    "print(y)\n",
    "z = x + y\n",
    "print(z)"
   ]
  },
  {
   "cell_type": "markdown",
   "metadata": {},
   "source": [
    "See? No `for` loop needed which is SUPER handy!\n",
    "\n",
    "Arithmetic and relational numbers are also possible using this. Here is an example of this:"
   ]
  },
  {
   "cell_type": "code",
   "execution_count": 16,
   "metadata": {},
   "outputs": [
    {
     "name": "stdout",
     "output_type": "stream",
     "text": [
      "[ True False False  True False False]\n",
      "[28 34]\n"
     ]
    }
   ],
   "source": [
    "m_names = np.array([\"Mary\", \"Michael\", \"Margaret\", \"Mary\", \"Marcus\", \"Molly\"])\n",
    "m_ages = np.array([    28,        72,       12,       34,     40,       68])\n",
    "\n",
    "marys = m_names == \"Mary\"\n",
    "print(marys)\n",
    "\n",
    "mary_ages = m_ages[marys] # boolean indexing with a boolean array\n",
    "print(mary_ages)"
   ]
  },
  {
   "cell_type": "markdown",
   "metadata": {},
   "source": [
    "## Broadcasting\n",
    "\n",
    "**Broadcasting** is performing operations over arrays that are of *different sizes*"
   ]
  },
  {
   "cell_type": "code",
   "execution_count": 18,
   "metadata": {},
   "outputs": [
    {
     "name": "stdout",
     "output_type": "stream",
     "text": [
      "[0 1 2 3 4 5 6 7 8 9]\n",
      "[ 0  2  4  6  8 10 12 14 16 18]\n"
     ]
    }
   ],
   "source": [
    "x = np.arange(10)\n",
    "print(x)\n",
    "\n",
    "x *= np.array([2])\n",
    "print(x)"
   ]
  },
  {
   "cell_type": "markdown",
   "metadata": {},
   "source": [
    "## Advanced Assignment\n",
    "\n",
    "We can update multiple values in a NumPy array with a single assignment operator. Here is an example:"
   ]
  },
  {
   "cell_type": "code",
   "execution_count": 21,
   "metadata": {},
   "outputs": [
    {
     "name": "stdout",
     "output_type": "stream",
     "text": [
      "[[-0.8199989   1.2177753  -1.77169472 -0.36193631]\n",
      " [-0.68581857  0.76134517 -0.3625586   0.31135462]\n",
      " [-0.81977319  1.30463187  0.53548171 -1.48385072]]\n",
      "[[ -0.8199989    1.2177753  100.          -0.36193631]\n",
      " [ -0.68581857   0.76134517  -0.3625586    0.31135462]\n",
      " [ -0.81977319   1.30463187   0.53548171  -1.48385072]]\n",
      "[[ True False False  True]\n",
      " [ True False  True False]\n",
      " [ True False False  True]]\n",
      "[[  0.           1.2177753  100.           0.        ]\n",
      " [  0.           0.76134517   0.           0.31135462]\n",
      " [  0.           1.30463187   0.53548171   0.        ]]\n"
     ]
    }
   ],
   "source": [
    "from numpy.random import randn\n",
    "\n",
    "rand_data = randn(3,4)\n",
    "print(rand_data)\n",
    "rand_data[0][2] = 100.0\n",
    "print(rand_data)\n",
    "\n",
    "# Boolean array for all negative values\n",
    "negatives = rand_data < 0\n",
    "print(negatives)\n",
    "\n",
    "# Set all negative valuse to 0\n",
    "rand_data[negatives] = 0 # Batch assignment!\n",
    "print(rand_data)"
   ]
  },
  {
   "cell_type": "markdown",
   "metadata": {},
   "source": [
    "## Slicing NumPy Arrays\n",
    "\n"
   ]
  },
  {
   "cell_type": "code",
   "execution_count": 22,
   "metadata": {},
   "outputs": [
    {
     "name": "stdout",
     "output_type": "stream",
     "text": [
      "[0, 1, 2, 3, 4, 5, 6, 7, 8, 9]\n",
      "[3, 4, 5, 6]\n",
      "[100, 4, 5, 6]\n",
      "[0, 1, 2, 3, 4, 5, 6, 7, 8, 9]\n"
     ]
    }
   ],
   "source": [
    "x = list(range(10))\n",
    "print(x)\n",
    "slice_x = x[3:7] # Copy\n",
    "print(slice_x)\n",
    "slice_x[0] = 100\n",
    "print(slice_x)\n",
    "print(x)"
   ]
  },
  {
   "cell_type": "code",
   "execution_count": 23,
   "metadata": {},
   "outputs": [
    {
     "name": "stdout",
     "output_type": "stream",
     "text": [
      "[0 1 2 3 4 5 6 7 8 9]\n",
      "[3 4 5 6]\n",
      "[100   4   5   6]\n",
      "[  0   1   2 100   4   5   6   7   8   9]\n"
     ]
    }
   ],
   "source": [
    "x = np.arange(10)\n",
    "print(x)\n",
    "slice_x = x[3:7] # View, NOT A COPY\n",
    "print(slice_x)\n",
    "slice_x[0] = 100\n",
    "print(slice_x)\n",
    "print(x)"
   ]
  },
  {
   "cell_type": "markdown",
   "metadata": {},
   "source": [
    "It should be noted that scalars can be broadcasted to slices!"
   ]
  },
  {
   "cell_type": "code",
   "execution_count": 24,
   "metadata": {},
   "outputs": [
    {
     "name": "stdout",
     "output_type": "stream",
     "text": [
      "[  0   1 500 500 500   5   6   7   8   9]\n"
     ]
    }
   ],
   "source": [
    "x[2:5] = 500\n",
    "print(x)"
   ]
  },
  {
   "cell_type": "markdown",
   "metadata": {},
   "source": [
    "## Reshaping\n",
    "\n",
    "We can use the `reshape` method to change the shape (number of rows/columns) of our NumPy Array."
   ]
  },
  {
   "cell_type": "code",
   "execution_count": 25,
   "metadata": {},
   "outputs": [
    {
     "name": "stdout",
     "output_type": "stream",
     "text": [
      "(10,)\n",
      "(5, 2)\n",
      "[[0 1]\n",
      " [2 3]\n",
      " [4 5]\n",
      " [6 7]\n",
      " [8 9]]\n"
     ]
    }
   ],
   "source": [
    "x = np.arange(10)\n",
    "print(x.shape)\n",
    "x = x.reshape(5,2)\n",
    "print(x.shape)\n",
    "print(x)"
   ]
  },
  {
   "cell_type": "markdown",
   "metadata": {},
   "source": [
    "## Transposing\n",
    "\n",
    "We can take the linear algebra transpose of a NumPy array using the `T` method."
   ]
  },
  {
   "cell_type": "code",
   "execution_count": 26,
   "metadata": {},
   "outputs": [
    {
     "name": "stdout",
     "output_type": "stream",
     "text": [
      "[[0 2 4 6 8]\n",
      " [1 3 5 7 9]]\n"
     ]
    }
   ],
   "source": [
    "x = x.T\n",
    "print(x)"
   ]
  },
  {
   "cell_type": "markdown",
   "metadata": {},
   "source": [
    "## N-D Array Functions"
   ]
  },
  {
   "cell_type": "code",
   "execution_count": 29,
   "metadata": {},
   "outputs": [
    {
     "name": "stdout",
     "output_type": "stream",
     "text": [
      "[0 1 2 3 4 5 6 7 8 9]\n",
      "[0.         1.         1.41421356 1.73205081 2.         2.23606798\n",
      " 2.44948974 2.64575131 2.82842712 3.        ]\n",
      "[10 11 12 13 14 15 16 17 18 19]\n",
      "[10 12 14 16 18 20 22 24 26 28]\n",
      "[ 0.  1.  4.  9. 16. 25. 36. 49. 64. 81.]\n",
      "[ 0.  1.  4.  9. 16. 25. 36. 49. 64. 81.]\n"
     ]
    }
   ],
   "source": [
    "###### UNARY UFUNCS #######\n",
    "x = np.arange(10)\n",
    "print(x)\n",
    "print(np.sqrt(x))\n",
    "\n",
    "# For a full list of ufuncs, check out the NumPy documentation\n",
    "\n",
    "\n",
    "##### BINARY UFUNCS ########\n",
    "y = np.arange(10,20)\n",
    "print(y)\n",
    "print(np.add(x,y))\n",
    "print(np.power(x,np.full(10,2.0)))\n",
    "print(np.power(x,2.0))"
   ]
  }
 ],
 "metadata": {
  "kernelspec": {
   "display_name": "Python 3",
   "language": "python",
   "name": "python3"
  },
  "language_info": {
   "codemirror_mode": {
    "name": "ipython",
    "version": 3
   },
   "file_extension": ".py",
   "mimetype": "text/x-python",
   "name": "python",
   "nbconvert_exporter": "python",
   "pygments_lexer": "ipython3",
   "version": "3.8.5"
  }
 },
 "nbformat": 4,
 "nbformat_minor": 4
}
