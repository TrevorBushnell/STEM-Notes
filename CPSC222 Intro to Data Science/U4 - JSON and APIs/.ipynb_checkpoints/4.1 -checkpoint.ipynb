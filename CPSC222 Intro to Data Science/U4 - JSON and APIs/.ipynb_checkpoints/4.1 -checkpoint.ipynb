{
 "cells": [
  {
   "cell_type": "markdown",
   "metadata": {},
   "source": [
    "# 4.1 Intro to JSON and APIs"
   ]
  },
  {
   "cell_type": "markdown",
   "metadata": {},
   "source": [
    "## Definitions\n",
    "\n",
    "* **JSON:** javascript object notation\n",
    "* **API:** application programming interface\n",
    "    * a set of functions that a programmer/organization exposes for other programmers/orgranizations to use\n",
    "    * do not need to know how the functions are implemented!\n",
    "    * ex: `math` module in Python, `pandas` library in Python, etc.\n",
    "* **Web API:** an API that you access via the web\n",
    "    * use-cases: get data, send data\n",
    "        * request a computational result, send data to update a research"
   ]
  },
  {
   "cell_type": "markdown",
   "metadata": {},
   "source": [
    "## How to Request Data from a Web API\n",
    "\n",
    "* The *client* requests data from a web browser/CLI/python script\n",
    "* The *server* runs a web API server listening for a client request\n",
    "* The *client* makes an *HTTP GET request* to the server\n",
    "* The *server* receives the *GET request* and queries the database\n",
    "* The *server* then returns a *JSON response* back the the *client*\n",
    "* The *client* can then use Python to turn the *JSON response* into a dictionary, list, pandas, etc."
   ]
  }
 ],
 "metadata": {
  "kernelspec": {
   "display_name": "Python 3",
   "language": "python",
   "name": "python3"
  },
  "language_info": {
   "codemirror_mode": {
    "name": "ipython",
    "version": 3
   },
   "file_extension": ".py",
   "mimetype": "text/x-python",
   "name": "python",
   "nbconvert_exporter": "python",
   "pygments_lexer": "ipython3",
   "version": "3.8.5"
  }
 },
 "nbformat": 4,
 "nbformat_minor": 4
}
