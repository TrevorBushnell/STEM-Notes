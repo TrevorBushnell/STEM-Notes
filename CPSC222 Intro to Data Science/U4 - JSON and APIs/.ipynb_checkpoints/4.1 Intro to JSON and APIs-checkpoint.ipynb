{
 "cells": [
  {
   "cell_type": "markdown",
   "metadata": {},
   "source": [
    "# 4.1 Intro to JSON and APIs"
   ]
  },
  {
   "cell_type": "markdown",
   "metadata": {},
   "source": [
    "## Definitions\n",
    "\n",
    "* **JSON:** javascript object notation\n",
    "* **API:** application programming interface\n",
    "    * a set of functions that a programmer/organization exposes for other programmers/orgranizations to use\n",
    "    * do not need to know how the functions are implemented!\n",
    "    * ex: `math` module in Python, `pandas` library in Python, etc.\n",
    "* **Web API:** an API that you access via the web\n",
    "    * use-cases: get data, send data\n",
    "        * request a computational result, send data to update a research"
   ]
  },
  {
   "cell_type": "markdown",
   "metadata": {},
   "source": [
    "## How to Request Data from a Web API\n",
    "\n",
    "* The *client* requests data from a web browser/CLI/python script\n",
    "* The *server* runs a web API server listening for a client request\n",
    "* The *client* makes an *HTTP GET request* to the server\n",
    "* The *server* receives the *GET request* and queries the database\n",
    "* The *server* then returns a *JSON response* back the the *client*\n",
    "* The *client* can then use Python to turn the *JSON response* into a dictionary, list, pandas, etc."
   ]
  },
  {
   "cell_type": "markdown",
   "metadata": {},
   "source": [
    "## Basic GET Request Call in Python"
   ]
  },
  {
   "cell_type": "code",
   "execution_count": 30,
   "metadata": {},
   "outputs": [
    {
     "name": "stdout",
     "output_type": "stream",
     "text": [
      "What was the name of the first front-wheel-drive car produced by Datsun (now Nissan)?\n",
      "\tCherry\n",
      "\tSunny\n",
      "\tBluebird\n",
      "\tSkyline\n",
      "*****************************************************************************************************************************************\n",
      "How much horsepower is produced by the SD40-2 Locomotive?\n",
      "\t3,000\n",
      "\t2,190\n",
      "\t2,578\n",
      "\t3,200\n",
      "*****************************************************************************************************************************************\n",
      "What engine is in the Lexus SC400?\n",
      "\t2JZ-GTE\n",
      "\t7M-GTE\n",
      "\t5M-GE\n",
      "\t1UZ-FE\n",
      "*****************************************************************************************************************************************\n",
      "What kind of train was Stepney, a train on the Bluebell Railway notable for his appearance in &quot;The Railway Series&quot;?\n",
      "\tLB&amp;SCR A1X\n",
      "\tLB&amp;SCR E2\n",
      "\tLB&amp;SCR D1\n",
      "\tLB&amp;SCR J1\n",
      "*****************************************************************************************************************************************\n",
      "What car manufacturer gave away their patent for the seat-belt in the interest of saving lives?\n",
      "\tFord\n",
      "\tFerrari\n",
      "\tRenault\n",
      "\tVolvo\n",
      "*****************************************************************************************************************************************\n"
     ]
    }
   ],
   "source": [
    "import requests\n",
    "import json\n",
    "import random\n",
    "\n",
    "url = 'https://opentdb.com/api.php?amount=5&category=28&difficulty=hard'\n",
    "\n",
    "response = requests.get(url=url)\n",
    "\n",
    "json_obj = json.loads(response.text)\n",
    "\n",
    "# task: extract and print the questions\n",
    "json_arr = json_obj['results']\n",
    "\n",
    "for arr_obj in json_arr:\n",
    "    print(requests.utils.unquote(arr_obj['question']))\n",
    "    # challenge: for multiple choice question, shuffle and print the possible answers   \n",
    "    if arr_obj['type'] == 'multiple':\n",
    "        answers = [arr_obj['correct_answer']] + arr_obj['incorrect_answers']\n",
    "        random.shuffle(answers)\n",
    "        for answer in answers:\n",
    "            print('\\t' + requests.utils.unquote(answer))\n",
    "    print('*'*137)"
   ]
  },
  {
   "cell_type": "markdown",
   "metadata": {},
   "source": [
    "## But What About the URL?\n",
    "\n",
    "URLs are like GET requests! Each GET request URL has the same certain key components.\n",
    "\n",
    "Let's take a look at the url that we used in the code above:\n",
    "\n",
    "[https://opentdb.com/api.php?amount=5&category=28&difficulty=hard](https://opentdb.com/api.php?amount=5&category=28&difficulty=hard)\n",
    "\n",
    "* https: PROTOCOL\n",
    "    * hyper-text transfer protocol secure\n",
    "    * the 's' means that your requests/responses are secure from endpoint to endpoint\n",
    "* opentdb.com: DOMAIN\n",
    "    * this helps route to the correct IP address which helps us get to the right server we want\n",
    "* api.php: PATH TO THE ENDPOINT\n",
    "    * a server has many endpoints represented by paths\n",
    "    * the path to the endpoint helps our request get to the right endpoint on the server\n",
    "* ? : ends the path and starts the query string\n",
    "* amount=5&category=28&difficulty=hard: QUERY STRING (aka args/params)\n",
    "    * client specifies what they want\n",
    "    * & separated list of key-value pairs"
   ]
  },
  {
   "cell_type": "markdown",
   "metadata": {},
   "source": [
    "## Getting an API: MapQuest Example\n",
    "\n",
    "Need this url: [http://www.mapquestapi.com/directions/v2/route](http://www.mapquestapi.com/directions/v2/route)\n",
    "\n",
    "My API key (hiding somewhere)"
   ]
  },
  {
   "cell_type": "code",
   "execution_count": 6,
   "metadata": {},
   "outputs": [
    {
     "name": "stdout",
     "output_type": "stream",
     "text": [
      "http://www.mapquestapi.com/directions/v2/route?key=HAHA GOTEM&from=spokane&to=seattle \n",
      "\n",
      "The AppKey submitted with this request is invalid. \n",
      "\n"
     ]
    },
    {
     "ename": "JSONDecodeError",
     "evalue": "Expecting value: line 1 column 1 (char 0)",
     "output_type": "error",
     "traceback": [
      "\u001b[0;31m---------------------------------------------------------------------------\u001b[0m",
      "\u001b[0;31mJSONDecodeError\u001b[0m                           Traceback (most recent call last)",
      "\u001b[0;32m<ipython-input-6-0853b2cceb43>\u001b[0m in \u001b[0;36m<module>\u001b[0;34m\u001b[0m\n\u001b[1;32m     14\u001b[0m \u001b[0;34m\u001b[0m\u001b[0m\n\u001b[1;32m     15\u001b[0m \u001b[0;34m\u001b[0m\u001b[0m\n\u001b[0;32m---> 16\u001b[0;31m \u001b[0mjson_obj\u001b[0m \u001b[0;34m=\u001b[0m \u001b[0mjson\u001b[0m\u001b[0;34m.\u001b[0m\u001b[0mloads\u001b[0m\u001b[0;34m(\u001b[0m\u001b[0mresponse\u001b[0m\u001b[0;34m.\u001b[0m\u001b[0mtext\u001b[0m\u001b[0;34m)\u001b[0m\u001b[0;34m\u001b[0m\u001b[0;34m\u001b[0m\u001b[0m\n\u001b[0m\u001b[1;32m     17\u001b[0m \u001b[0mroute_obj\u001b[0m \u001b[0;34m=\u001b[0m \u001b[0mjson_obj\u001b[0m\u001b[0;34m[\u001b[0m\u001b[0;34m'route'\u001b[0m\u001b[0;34m]\u001b[0m\u001b[0;34m\u001b[0m\u001b[0;34m\u001b[0m\u001b[0m\n\u001b[1;32m     18\u001b[0m \u001b[0mdistance\u001b[0m \u001b[0;34m=\u001b[0m \u001b[0mroute_obj\u001b[0m\u001b[0;34m[\u001b[0m\u001b[0;34m'distance'\u001b[0m\u001b[0;34m]\u001b[0m\u001b[0;34m\u001b[0m\u001b[0;34m\u001b[0m\u001b[0m\n",
      "\u001b[0;32m~/anaconda3/lib/python3.8/json/__init__.py\u001b[0m in \u001b[0;36mloads\u001b[0;34m(s, cls, object_hook, parse_float, parse_int, parse_constant, object_pairs_hook, **kw)\u001b[0m\n\u001b[1;32m    355\u001b[0m             \u001b[0mparse_int\u001b[0m \u001b[0;32mis\u001b[0m \u001b[0;32mNone\u001b[0m \u001b[0;32mand\u001b[0m \u001b[0mparse_float\u001b[0m \u001b[0;32mis\u001b[0m \u001b[0;32mNone\u001b[0m \u001b[0;32mand\u001b[0m\u001b[0;34m\u001b[0m\u001b[0;34m\u001b[0m\u001b[0m\n\u001b[1;32m    356\u001b[0m             parse_constant is None and object_pairs_hook is None and not kw):\n\u001b[0;32m--> 357\u001b[0;31m         \u001b[0;32mreturn\u001b[0m \u001b[0m_default_decoder\u001b[0m\u001b[0;34m.\u001b[0m\u001b[0mdecode\u001b[0m\u001b[0;34m(\u001b[0m\u001b[0ms\u001b[0m\u001b[0;34m)\u001b[0m\u001b[0;34m\u001b[0m\u001b[0;34m\u001b[0m\u001b[0m\n\u001b[0m\u001b[1;32m    358\u001b[0m     \u001b[0;32mif\u001b[0m \u001b[0mcls\u001b[0m \u001b[0;32mis\u001b[0m \u001b[0;32mNone\u001b[0m\u001b[0;34m:\u001b[0m\u001b[0;34m\u001b[0m\u001b[0;34m\u001b[0m\u001b[0m\n\u001b[1;32m    359\u001b[0m         \u001b[0mcls\u001b[0m \u001b[0;34m=\u001b[0m \u001b[0mJSONDecoder\u001b[0m\u001b[0;34m\u001b[0m\u001b[0;34m\u001b[0m\u001b[0m\n",
      "\u001b[0;32m~/anaconda3/lib/python3.8/json/decoder.py\u001b[0m in \u001b[0;36mdecode\u001b[0;34m(self, s, _w)\u001b[0m\n\u001b[1;32m    335\u001b[0m \u001b[0;34m\u001b[0m\u001b[0m\n\u001b[1;32m    336\u001b[0m         \"\"\"\n\u001b[0;32m--> 337\u001b[0;31m         \u001b[0mobj\u001b[0m\u001b[0;34m,\u001b[0m \u001b[0mend\u001b[0m \u001b[0;34m=\u001b[0m \u001b[0mself\u001b[0m\u001b[0;34m.\u001b[0m\u001b[0mraw_decode\u001b[0m\u001b[0;34m(\u001b[0m\u001b[0ms\u001b[0m\u001b[0;34m,\u001b[0m \u001b[0midx\u001b[0m\u001b[0;34m=\u001b[0m\u001b[0m_w\u001b[0m\u001b[0;34m(\u001b[0m\u001b[0ms\u001b[0m\u001b[0;34m,\u001b[0m \u001b[0;36m0\u001b[0m\u001b[0;34m)\u001b[0m\u001b[0;34m.\u001b[0m\u001b[0mend\u001b[0m\u001b[0;34m(\u001b[0m\u001b[0;34m)\u001b[0m\u001b[0;34m)\u001b[0m\u001b[0;34m\u001b[0m\u001b[0;34m\u001b[0m\u001b[0m\n\u001b[0m\u001b[1;32m    338\u001b[0m         \u001b[0mend\u001b[0m \u001b[0;34m=\u001b[0m \u001b[0m_w\u001b[0m\u001b[0;34m(\u001b[0m\u001b[0ms\u001b[0m\u001b[0;34m,\u001b[0m \u001b[0mend\u001b[0m\u001b[0;34m)\u001b[0m\u001b[0;34m.\u001b[0m\u001b[0mend\u001b[0m\u001b[0;34m(\u001b[0m\u001b[0;34m)\u001b[0m\u001b[0;34m\u001b[0m\u001b[0;34m\u001b[0m\u001b[0m\n\u001b[1;32m    339\u001b[0m         \u001b[0;32mif\u001b[0m \u001b[0mend\u001b[0m \u001b[0;34m!=\u001b[0m \u001b[0mlen\u001b[0m\u001b[0;34m(\u001b[0m\u001b[0ms\u001b[0m\u001b[0;34m)\u001b[0m\u001b[0;34m:\u001b[0m\u001b[0;34m\u001b[0m\u001b[0;34m\u001b[0m\u001b[0m\n",
      "\u001b[0;32m~/anaconda3/lib/python3.8/json/decoder.py\u001b[0m in \u001b[0;36mraw_decode\u001b[0;34m(self, s, idx)\u001b[0m\n\u001b[1;32m    353\u001b[0m             \u001b[0mobj\u001b[0m\u001b[0;34m,\u001b[0m \u001b[0mend\u001b[0m \u001b[0;34m=\u001b[0m \u001b[0mself\u001b[0m\u001b[0;34m.\u001b[0m\u001b[0mscan_once\u001b[0m\u001b[0;34m(\u001b[0m\u001b[0ms\u001b[0m\u001b[0;34m,\u001b[0m \u001b[0midx\u001b[0m\u001b[0;34m)\u001b[0m\u001b[0;34m\u001b[0m\u001b[0;34m\u001b[0m\u001b[0m\n\u001b[1;32m    354\u001b[0m         \u001b[0;32mexcept\u001b[0m \u001b[0mStopIteration\u001b[0m \u001b[0;32mas\u001b[0m \u001b[0merr\u001b[0m\u001b[0;34m:\u001b[0m\u001b[0;34m\u001b[0m\u001b[0;34m\u001b[0m\u001b[0m\n\u001b[0;32m--> 355\u001b[0;31m             \u001b[0;32mraise\u001b[0m \u001b[0mJSONDecodeError\u001b[0m\u001b[0;34m(\u001b[0m\u001b[0;34m\"Expecting value\"\u001b[0m\u001b[0;34m,\u001b[0m \u001b[0ms\u001b[0m\u001b[0;34m,\u001b[0m \u001b[0merr\u001b[0m\u001b[0;34m.\u001b[0m\u001b[0mvalue\u001b[0m\u001b[0;34m)\u001b[0m \u001b[0;32mfrom\u001b[0m \u001b[0;32mNone\u001b[0m\u001b[0;34m\u001b[0m\u001b[0;34m\u001b[0m\u001b[0m\n\u001b[0m\u001b[1;32m    356\u001b[0m         \u001b[0;32mreturn\u001b[0m \u001b[0mobj\u001b[0m\u001b[0;34m,\u001b[0m \u001b[0mend\u001b[0m\u001b[0;34m\u001b[0m\u001b[0;34m\u001b[0m\u001b[0m\n",
      "\u001b[0;31mJSONDecodeError\u001b[0m: Expecting value: line 1 column 1 (char 0)"
     ]
    }
   ],
   "source": [
    "import requests\n",
    "import json\n",
    "\n",
    "api_key = 'HAHA GOTEM'\n",
    "\n",
    "url = 'http://www.mapquestapi.com/directions/v2/route'\n",
    "url += '?key=' + api_key\n",
    "url += '&from=spokane'\n",
    "url += '&to=seattle'\n",
    "\n",
    "print(url,'\\n')\n",
    "response = requests.get(url=url)\n",
    "print(response.text, '\\n')\n",
    "\n",
    "\n",
    "json_obj = json.loads(response.text)\n",
    "route_obj = json_obj['route']\n",
    "distance = route_obj['distance']\n",
    "print(distance, '\\n')\n",
    "formatted_time = route_obj['formattedTime']\n",
    "print(formatted_time)"
   ]
  }
 ],
 "metadata": {
  "kernelspec": {
   "display_name": "Python 3",
   "language": "python",
   "name": "python3"
  },
  "language_info": {
   "codemirror_mode": {
    "name": "ipython",
    "version": 3
   },
   "file_extension": ".py",
   "mimetype": "text/x-python",
   "name": "python",
   "nbconvert_exporter": "python",
   "pygments_lexer": "ipython3",
   "version": "3.8.5"
  }
 },
 "nbformat": 4,
 "nbformat_minor": 4
}
