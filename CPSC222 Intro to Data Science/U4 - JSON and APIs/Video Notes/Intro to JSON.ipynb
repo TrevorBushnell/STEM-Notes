{
 "cells": [
  {
   "cell_type": "markdown",
   "id": "1e12320f-8226-4314-a639-9667b50e86d1",
   "metadata": {},
   "source": [
    "# Intro to JSON and Working With it in Python"
   ]
  },
  {
   "cell_type": "markdown",
   "id": "284c3fea-a508-4217-99d5-624454619fb0",
   "metadata": {},
   "source": [
    "* **JSON:** javascript object notation\n",
    "* A data format using key-value pairs\n",
    "    * similar to dictionaries in Python\n",
    "* key (aka 'name') is a string\n",
    "* value is a number, string, array, boolean, JSON object (nested JSON object)"
   ]
  },
  {
   "cell_type": "markdown",
   "id": "c53671ba-8f78-44a8-b143-d63a6e2f70a6",
   "metadata": {},
   "source": [
    "## Import Statements"
   ]
  },
  {
   "cell_type": "code",
   "execution_count": 1,
   "id": "c2c420c4-a4ff-4104-b935-814cace3d6c7",
   "metadata": {},
   "outputs": [],
   "source": [
    "import json\n",
    "import pandas as pd"
   ]
  },
  {
   "cell_type": "markdown",
   "id": "fe0a527a-5d7f-40f1-b4be-27f2ac75ebf1",
   "metadata": {},
   "source": [
    "## Example Code"
   ]
  },
  {
   "cell_type": "code",
   "execution_count": 4,
   "id": "d3f1088e-e8ec-47d4-b992-88a5154ccaff",
   "metadata": {},
   "outputs": [],
   "source": [
    "json_arr_str = \"\"\"\n",
    "[\n",
    "    {\n",
    "      \"TimestampUTC\": \"2020-03-24T00:27:00Z\",\n",
    "      \"TimestampSubjectTZ\": \"2020-03-23T20:27:00\",\n",
    "      \"Calories\": 0.0234859050963356,\n",
    "      \"HR\": 0.0,\n",
    "      \"Lux\": null,\n",
    "      \"Steps\": 0.0,\n",
    "      \"Wear\": true,\n",
    "      \"x\": 0,\n",
    "      \"y\": 35,\n",
    "      \"z\": 0,\n",
    "      \"AxisXCounts\": 0,\n",
    "      \"AxisYCounts\": 35,\n",
    "      \"AxisZCounts\": 0\n",
    "    },\n",
    "    {\n",
    "      \"TimestampUTC\": \"2020-03-24T00:28:00Z\",\n",
    "      \"TimestampSubjectTZ\": \"2020-03-23T20:28:00\",\n",
    "      \"Calories\": 0.042274629173404,\n",
    "      \"HR\": 0.0,\n",
    "      \"Lux\": null,\n",
    "      \"Steps\": 0.0,\n",
    "      \"Wear\": true,\n",
    "      \"x\": 44,\n",
    "      \"y\": 63,\n",
    "      \"z\": 55,\n",
    "      \"AxisXCounts\": 44,\n",
    "      \"AxisYCounts\": 63,\n",
    "      \"AxisZCounts\": 55\n",
    "    },\n",
    "    {\n",
    "      \"TimestampUTC\": \"2020-03-24T00:29:00Z\",\n",
    "      \"TimestampSubjectTZ\": \"2020-03-23T20:29:00\",\n",
    "      \"Calories\": 0.0,\n",
    "      \"HR\": 0.0,\n",
    "      \"Lux\": null,\n",
    "      \"Steps\": 0.0,\n",
    "      \"Wear\": true,\n",
    "      \"x\": 0,\n",
    "      \"y\": 0,\n",
    "      \"z\": 0,\n",
    "      \"AxisXCounts\": 0,\n",
    "      \"AxisYCounts\": 0,\n",
    "      \"AxisZCounts\": 0\n",
    "    },\n",
    "    {\n",
    "      \"TimestampUTC\": \"2020-03-24T00:30:00Z\",\n",
    "      \"TimestampSubjectTZ\": \"2020-03-23T20:30:00\",\n",
    "      \"Calories\": 0.224122637205031,\n",
    "      \"HR\": 0.0,\n",
    "      \"Lux\": null,\n",
    "      \"Steps\": 0.0,\n",
    "      \"Wear\": true,\n",
    "      \"x\": 193,\n",
    "      \"y\": 334,\n",
    "      \"z\": 71,\n",
    "      \"AxisXCounts\": 193,\n",
    "      \"AxisYCounts\": 334,\n",
    "      \"AxisZCounts\": 71\n",
    "    },\n",
    "    {\n",
    "      \"TimestampUTC\": \"2020-03-24T00:31:00Z\",\n",
    "      \"TimestampSubjectTZ\": \"2020-03-23T20:31:00\",\n",
    "      \"Calories\": 0.0154335947775919,\n",
    "      \"HR\": 0.0,\n",
    "      \"Lux\": null,\n",
    "      \"Steps\": 0.0,\n",
    "      \"Wear\": true,\n",
    "      \"x\": 30,\n",
    "      \"y\": 23,\n",
    "      \"z\": 0,\n",
    "      \"AxisXCounts\": 30,\n",
    "      \"AxisYCounts\": 23,\n",
    "      \"AxisZCounts\": 0\n",
    "    }\n",
    "  ]\n",
    "\"\"\""
   ]
  },
  {
   "cell_type": "markdown",
   "id": "9a212db9-9a57-472e-a1e6-c9c284ce3da9",
   "metadata": {},
   "source": [
    "Now we will create a JSON object which will be a Python list:"
   ]
  },
  {
   "cell_type": "code",
   "execution_count": 5,
   "id": "3fa581e8-4296-46ae-9e9c-6ce4a094541e",
   "metadata": {},
   "outputs": [
    {
     "name": "stdout",
     "output_type": "stream",
     "text": [
      "[{'TimestampUTC': '2020-03-24T00:27:00Z', 'TimestampSubjectTZ': '2020-03-23T20:27:00', 'Calories': 0.0234859050963356, 'HR': 0.0, 'Lux': None, 'Steps': 0.0, 'Wear': True, 'x': 0, 'y': 35, 'z': 0, 'AxisXCounts': 0, 'AxisYCounts': 35, 'AxisZCounts': 0}, {'TimestampUTC': '2020-03-24T00:28:00Z', 'TimestampSubjectTZ': '2020-03-23T20:28:00', 'Calories': 0.042274629173404, 'HR': 0.0, 'Lux': None, 'Steps': 0.0, 'Wear': True, 'x': 44, 'y': 63, 'z': 55, 'AxisXCounts': 44, 'AxisYCounts': 63, 'AxisZCounts': 55}, {'TimestampUTC': '2020-03-24T00:29:00Z', 'TimestampSubjectTZ': '2020-03-23T20:29:00', 'Calories': 0.0, 'HR': 0.0, 'Lux': None, 'Steps': 0.0, 'Wear': True, 'x': 0, 'y': 0, 'z': 0, 'AxisXCounts': 0, 'AxisYCounts': 0, 'AxisZCounts': 0}, {'TimestampUTC': '2020-03-24T00:30:00Z', 'TimestampSubjectTZ': '2020-03-23T20:30:00', 'Calories': 0.224122637205031, 'HR': 0.0, 'Lux': None, 'Steps': 0.0, 'Wear': True, 'x': 193, 'y': 334, 'z': 71, 'AxisXCounts': 193, 'AxisYCounts': 334, 'AxisZCounts': 71}, {'TimestampUTC': '2020-03-24T00:31:00Z', 'TimestampSubjectTZ': '2020-03-23T20:31:00', 'Calories': 0.0154335947775919, 'HR': 0.0, 'Lux': None, 'Steps': 0.0, 'Wear': True, 'x': 30, 'y': 23, 'z': 0, 'AxisXCounts': 30, 'AxisYCounts': 23, 'AxisZCounts': 0}]\n"
     ]
    }
   ],
   "source": [
    "json_arr = json.loads(json_arr_str)\n",
    "print(json_arr)"
   ]
  },
  {
   "cell_type": "markdown",
   "id": "45184d7a-5c1c-4852-abc6-3a2883131a08",
   "metadata": {},
   "source": [
    "Let's walk through each object in the array:"
   ]
  },
  {
   "cell_type": "code",
   "execution_count": 14,
   "id": "e8e668cc-a888-4b22-8c47-5df42713dc74",
   "metadata": {},
   "outputs": [
    {
     "name": "stdout",
     "output_type": "stream",
     "text": [
      "{'TimestampUTC': '2020-03-24T00:27:00Z', 'TimestampSubjectTZ': '2020-03-23T20:27:00', 'Calories': 0.0234859050963356, 'HR': 0.0, 'Lux': None, 'Steps': 0.0, 'Wear': True, 'x': 0, 'y': 35, 'z': 0, 'AxisXCounts': 0, 'AxisYCounts': 35, 'AxisZCounts': 0}\n",
      "***************************************************************************************************************************************\n",
      "{'TimestampUTC': '2020-03-24T00:28:00Z', 'TimestampSubjectTZ': '2020-03-23T20:28:00', 'Calories': 0.042274629173404, 'HR': 0.0, 'Lux': None, 'Steps': 0.0, 'Wear': True, 'x': 44, 'y': 63, 'z': 55, 'AxisXCounts': 44, 'AxisYCounts': 63, 'AxisZCounts': 55}\n",
      "***************************************************************************************************************************************\n",
      "{'TimestampUTC': '2020-03-24T00:29:00Z', 'TimestampSubjectTZ': '2020-03-23T20:29:00', 'Calories': 0.0, 'HR': 0.0, 'Lux': None, 'Steps': 0.0, 'Wear': True, 'x': 0, 'y': 0, 'z': 0, 'AxisXCounts': 0, 'AxisYCounts': 0, 'AxisZCounts': 0}\n",
      "***************************************************************************************************************************************\n",
      "{'TimestampUTC': '2020-03-24T00:30:00Z', 'TimestampSubjectTZ': '2020-03-23T20:30:00', 'Calories': 0.224122637205031, 'HR': 0.0, 'Lux': None, 'Steps': 0.0, 'Wear': True, 'x': 193, 'y': 334, 'z': 71, 'AxisXCounts': 193, 'AxisYCounts': 334, 'AxisZCounts': 71}\n",
      "***************************************************************************************************************************************\n",
      "{'TimestampUTC': '2020-03-24T00:31:00Z', 'TimestampSubjectTZ': '2020-03-23T20:31:00', 'Calories': 0.0154335947775919, 'HR': 0.0, 'Lux': None, 'Steps': 0.0, 'Wear': True, 'x': 30, 'y': 23, 'z': 0, 'AxisXCounts': 30, 'AxisYCounts': 23, 'AxisZCounts': 0}\n",
      "***************************************************************************************************************************************\n"
     ]
    }
   ],
   "source": [
    "for arr_obj in json_arr:\n",
    "    print(arr_obj)\n",
    "    print('*'*135)"
   ]
  },
  {
   "cell_type": "markdown",
   "id": "c6588866-2d8a-4b12-be60-9d467c412d40",
   "metadata": {},
   "source": [
    "Let's grab timestamps in the subject's timzeone:"
   ]
  },
  {
   "cell_type": "code",
   "execution_count": 17,
   "id": "1c068e3d-2a6a-4ce5-b021-ca7e687d1e34",
   "metadata": {},
   "outputs": [
    {
     "name": "stdout",
     "output_type": "stream",
     "text": [
      "2020-03-23T20:27:00 : 0.0234859050963356\n",
      "***************************************************************************************************************************************\n",
      "2020-03-23T20:28:00 : 0.042274629173404\n",
      "***************************************************************************************************************************************\n",
      "2020-03-23T20:29:00 : 0.0\n",
      "***************************************************************************************************************************************\n",
      "2020-03-23T20:30:00 : 0.224122637205031\n",
      "***************************************************************************************************************************************\n",
      "2020-03-23T20:31:00 : 0.0154335947775919\n",
      "***************************************************************************************************************************************\n"
     ]
    }
   ],
   "source": [
    "for arr_obj in json_arr:\n",
    "    print(arr_obj['TimestampSubjectTZ'], ':', arr_obj['Calories'])\n",
    "    print('*'*135)"
   ]
  },
  {
   "cell_type": "markdown",
   "id": "05b6a5be-4573-4cba-b6ae-2cb83b16a93e",
   "metadata": {},
   "source": [
    "What is the type of the array object?"
   ]
  },
  {
   "cell_type": "code",
   "execution_count": 20,
   "id": "fdd096d9-9984-4c9b-b3ec-369241f5df7a",
   "metadata": {},
   "outputs": [
    {
     "name": "stdout",
     "output_type": "stream",
     "text": [
      "<class 'list'>\n",
      "<class 'dict'>\n"
     ]
    }
   ],
   "source": [
    "print(type(json_arr))\n",
    "print(type(arr_obj))"
   ]
  },
  {
   "cell_type": "markdown",
   "id": "4ab8a101-71d5-4d18-8c50-f4d0814a2995",
   "metadata": {},
   "source": [
    "## Example Reading Data From File"
   ]
  },
  {
   "cell_type": "markdown",
   "id": "462bab2a-5518-4a08-8a0f-638b3ad4d7ff",
   "metadata": {},
   "source": [
    "Let's try loading some JSON data from a file:"
   ]
  },
  {
   "cell_type": "code",
   "execution_count": 22,
   "id": "cbd0cf83-612c-4d4b-a8b7-2d7b5ef51e86",
   "metadata": {},
   "outputs": [
    {
     "name": "stdout",
     "output_type": "stream",
     "text": [
      "[{'TimestampUTC': '2020-03-24T00:27:00Z', 'TimestampSubjectTZ': '2020-03-23T20:27:00', 'Calories': 0.0234859050963356, 'HR': 0.0, 'Lux': None, 'Steps': 0.0, 'Wear': True, 'x': 0, 'y': 35, 'z': 0, 'AxisXCounts': 0, 'AxisYCounts': 35, 'AxisZCounts': 0}, {'TimestampUTC': '2020-03-24T00:28:00Z', 'TimestampSubjectTZ': '2020-03-23T20:28:00', 'Calories': 0.042274629173404, 'HR': 0.0, 'Lux': None, 'Steps': 0.0, 'Wear': True, 'x': 44, 'y': 63, 'z': 55, 'AxisXCounts': 44, 'AxisYCounts': 63, 'AxisZCounts': 55}, {'TimestampUTC': '2020-03-24T00:29:00Z', 'TimestampSubjectTZ': '2020-03-23T20:29:00', 'Calories': 0.0, 'HR': 0.0, 'Lux': None, 'Steps': 0.0, 'Wear': True, 'x': 0, 'y': 0, 'z': 0, 'AxisXCounts': 0, 'AxisYCounts': 0, 'AxisZCounts': 0}, {'TimestampUTC': '2020-03-24T00:30:00Z', 'TimestampSubjectTZ': '2020-03-23T20:30:00', 'Calories': 0.224122637205031, 'HR': 0.0, 'Lux': None, 'Steps': 0.0, 'Wear': True, 'x': 193, 'y': 334, 'z': 71, 'AxisXCounts': 193, 'AxisYCounts': 334, 'AxisZCounts': 71}, {'TimestampUTC': '2020-03-24T00:31:00Z', 'TimestampSubjectTZ': '2020-03-23T20:31:00', 'Calories': 0.0154335947775919, 'HR': 0.0, 'Lux': None, 'Steps': 0.0, 'Wear': True, 'x': 30, 'y': 23, 'z': 0, 'AxisXCounts': 30, 'AxisYCounts': 23, 'AxisZCounts': 0}]\n"
     ]
    }
   ],
   "source": [
    "infile = open('actigraph_data.json', 'r')\n",
    "json_arr = json.load(infile)\n",
    "print(json_arr)"
   ]
  },
  {
   "cell_type": "markdown",
   "id": "efdb7bc7-5bf1-4ba8-8bca-0b92b750a935",
   "metadata": {},
   "source": [
    "## Time For Pandas..."
   ]
  },
  {
   "cell_type": "markdown",
   "id": "26aa23bf-0410-4059-aa38-ee1724d891e9",
   "metadata": {},
   "source": [
    "Of course pandas can help us with all of this! Check this out:"
   ]
  },
  {
   "cell_type": "code",
   "execution_count": 24,
   "id": "5b47a83b-0726-47b0-91e5-e4aa065614fa",
   "metadata": {},
   "outputs": [
    {
     "name": "stdout",
     "output_type": "stream",
     "text": [
      "               TimestampUTC  TimestampSubjectTZ  Calories  HR  Lux  Steps  \\\n",
      "0 2020-03-24 00:27:00+00:00 2020-03-23 20:27:00  0.023486   0  NaN      0   \n",
      "1 2020-03-24 00:28:00+00:00 2020-03-23 20:28:00  0.042275   0  NaN      0   \n",
      "2 2020-03-24 00:29:00+00:00 2020-03-23 20:29:00  0.000000   0  NaN      0   \n",
      "3 2020-03-24 00:30:00+00:00 2020-03-23 20:30:00  0.224123   0  NaN      0   \n",
      "4 2020-03-24 00:31:00+00:00 2020-03-23 20:31:00  0.015434   0  NaN      0   \n",
      "\n",
      "   Wear    x    y   z  AxisXCounts  AxisYCounts  AxisZCounts  \n",
      "0  True    0   35   0            0           35            0  \n",
      "1  True   44   63  55           44           63           55  \n",
      "2  True    0    0   0            0            0            0  \n",
      "3  True  193  334  71          193          334           71  \n",
      "4  True   30   23   0           30           23            0  \n"
     ]
    }
   ],
   "source": [
    "json_df = pd.read_json('actigraph_data.json')\n",
    "print(json_df)"
   ]
  },
  {
   "cell_type": "markdown",
   "id": "e3cfb54c-b191-4154-a54e-275f603d3dd2",
   "metadata": {},
   "source": [
    "## A Big Example"
   ]
  },
  {
   "cell_type": "code",
   "execution_count": 25,
   "id": "abececee-1d57-42bb-99ba-a28c0b15d202",
   "metadata": {},
   "outputs": [
    {
     "name": "stdout",
     "output_type": "stream",
     "text": [
      "   resultCount                                            results\n",
      "0            6  {'wrapperType': 'track', 'kind': 'feature-movi...\n",
      "1            6  {'wrapperType': 'track', 'kind': 'feature-movi...\n",
      "2            6  {'wrapperType': 'track', 'kind': 'feature-movi...\n",
      "3            6  {'wrapperType': 'track', 'kind': 'feature-movi...\n",
      "4            6  {'wrapperType': 'track', 'kind': 'feature-movi...\n",
      "5            6  {'wrapperType': 'track', 'kind': 'feature-movi...\n"
     ]
    }
   ],
   "source": [
    "thor_df = pd.read_json('thor_itunes_search.json')\n",
    "print(thor_df)"
   ]
  },
  {
   "cell_type": "markdown",
   "id": "0c3c12a5-a6e9-44ad-a156-e627a24bc1b3",
   "metadata": {},
   "source": [
    "Pandas doesn't always give us correct column parsing, so you can use the `json` library to help with that!"
   ]
  },
  {
   "cell_type": "code",
   "execution_count": 27,
   "id": "cc10bb4a-753a-4c78-9931-cd52826279b1",
   "metadata": {},
   "outputs": [
    {
     "name": "stdout",
     "output_type": "stream",
     "text": [
      "{'resultCount': 6, 'results': [{'wrapperType': 'track', 'kind': 'feature-movie', 'collectionId': 1349600660, 'trackId': 689209608, 'artistName': 'Kenneth Branagh', 'collectionName': 'THOR Triple Bundle', 'trackName': 'Thor', 'collectionCensoredName': 'THOR Triple Bundle', 'trackCensoredName': 'Thor', 'collectionArtistId': 410641764, 'collectionArtistViewUrl': 'https://itunes.apple.com/us/artist/buena-vista-home-entertainment-inc/410641764?uo=4', 'collectionViewUrl': 'https://itunes.apple.com/us/movie/thor/id689209608?uo=4', 'trackViewUrl': 'https://itunes.apple.com/us/movie/thor/id689209608?uo=4', 'previewUrl': 'https://video-ssl.itunes.apple.com/itunes-assets/Video127/v4/b7/b9/73/b7b97307-7783-e8af-cd41-a203f2a7de49/mzvf_4347362604600795574.640x360.h264lc.U.p.m4v', 'artworkUrl30': 'https://is5-ssl.mzstatic.com/image/thumb/Video128/v4/f2/0b/fa/f20bfa07-96dc-e39b-d8db-1c2f8aae8482/source/30x30bb.jpg', 'artworkUrl60': 'https://is5-ssl.mzstatic.com/image/thumb/Video128/v4/f2/0b/fa/f20bfa07-96dc-e39b-d8db-1c2f8aae8482/source/60x60bb.jpg', 'artworkUrl100': 'https://is5-ssl.mzstatic.com/image/thumb/Video128/v4/f2/0b/fa/f20bfa07-96dc-e39b-d8db-1c2f8aae8482/source/100x100bb.jpg', 'collectionPrice': 14.99, 'trackPrice': 14.99, 'trackRentalPrice': 3.99, 'collectionHdPrice': 19.99, 'trackHdPrice': 19.99, 'trackHdRentalPrice': 3.99, 'releaseDate': '2011-05-06T07:00:00Z', 'collectionExplicitness': 'notExplicit', 'trackExplicitness': 'notExplicit', 'discCount': 1, 'discNumber': 1, 'trackCount': 3, 'trackNumber': 1, 'trackTimeMillis': 6942893, 'country': 'USA', 'currency': 'USD', 'primaryGenreName': 'Action & Adventure', 'contentAdvisoryRating': 'PG-13', 'shortDescription': 'The epic adventure THOR spans the Marvel universe from present-day Earth to the cosmic realm of', 'longDescription': 'The epic adventure THOR spans the Marvel universe from present-day Earth to the cosmic realm of Asgard. At the center of the story is The Mighty Thor, a powerful but arrogant warrior whose reckless actions re-ignite an ancient war. As a result, Thor is banished to Earth where he is forced to live among humans. When the most dangerous villain of his world sends its darkest forces to invade Earth, Thor learns what it takes to be a true hero.', 'hasITunesExtras': True}, {'wrapperType': 'track', 'kind': 'feature-movie', 'collectionId': 1349600660, 'trackId': 1298386140, 'artistName': 'Taika Waititi', 'collectionName': 'THOR Triple Bundle', 'trackName': 'Thor: Ragnarok', 'collectionCensoredName': 'THOR Triple Bundle', 'trackCensoredName': 'Thor: Ragnarok', 'collectionArtistId': 410641764, 'collectionArtistViewUrl': 'https://itunes.apple.com/us/artist/buena-vista-home-entertainment-inc/410641764?uo=4', 'collectionViewUrl': 'https://itunes.apple.com/us/movie/thor-ragnarok/id1298386140?uo=4', 'trackViewUrl': 'https://itunes.apple.com/us/movie/thor-ragnarok/id1298386140?uo=4', 'previewUrl': 'https://video-ssl.itunes.apple.com/itunes-assets/Video118/v4/08/bc/cc/08bccce9-f26a-a5a7-6712-7bce5d8cb9e9/mzvf_6693174936135429804.640x354.h264lc.U.p.m4v', 'artworkUrl30': 'https://is5-ssl.mzstatic.com/image/thumb/Video124/v4/03/ad/9a/03ad9ab6-20fd-c162-c606-213041535e93/source/30x30bb.jpg', 'artworkUrl60': 'https://is5-ssl.mzstatic.com/image/thumb/Video124/v4/03/ad/9a/03ad9ab6-20fd-c162-c606-213041535e93/source/60x60bb.jpg', 'artworkUrl100': 'https://is5-ssl.mzstatic.com/image/thumb/Video124/v4/03/ad/9a/03ad9ab6-20fd-c162-c606-213041535e93/source/100x100bb.jpg', 'collectionPrice': 19.99, 'trackPrice': 19.99, 'trackRentalPrice': 3.99, 'collectionHdPrice': 19.99, 'trackHdPrice': 19.99, 'trackHdRentalPrice': 3.99, 'releaseDate': '2017-11-03T07:00:00Z', 'collectionExplicitness': 'notExplicit', 'trackExplicitness': 'notExplicit', 'discCount': 1, 'discNumber': 1, 'trackCount': 3, 'trackNumber': 3, 'trackTimeMillis': 7859183, 'country': 'USA', 'currency': 'USD', 'primaryGenreName': 'Action & Adventure', 'contentAdvisoryRating': 'PG-13', 'shortDescription': 'In Marvel Studios’ Thor: Ragnarok, Thor is imprisoned on the other side of the universe without his', 'longDescription': 'In Marvel Studios’ Thor: Ragnarok, Thor is imprisoned on the other side of the universe without his mighty hammer and finds himself in a race against time to get back to Asgard to stop Ragnarok – the destruction of his home world and the end of Asgardian civilization at the hands of an all-powerful new threat, the ruthless Hela. But first he must survive a deadly gladiatorial contest that pits him against his former ally and fellow Avenger – the Incredible Hulk!', 'hasITunesExtras': True}, {'wrapperType': 'track', 'kind': 'feature-movie', 'collectionId': 1349600660, 'trackId': 731796731, 'artistName': 'Alan Taylor', 'collectionName': 'THOR Triple Bundle', 'trackName': 'Thor: The Dark World', 'collectionCensoredName': 'THOR Triple Bundle', 'trackCensoredName': 'Thor: The Dark World', 'collectionArtistId': 410641764, 'collectionArtistViewUrl': 'https://itunes.apple.com/us/artist/buena-vista-home-entertainment-inc/410641764?uo=4', 'collectionViewUrl': 'https://itunes.apple.com/us/movie/thor-the-dark-world/id731796731?uo=4', 'trackViewUrl': 'https://itunes.apple.com/us/movie/thor-the-dark-world/id731796731?uo=4', 'previewUrl': 'https://video-ssl.itunes.apple.com/itunes-assets/Video117/v4/fc/53/4f/fc534f8d-544e-e34c-289b-2989277b85c6/mzvf_838766268313351317.640x352.h264lc.U.p.m4v', 'artworkUrl30': 'https://is4-ssl.mzstatic.com/image/thumb/Video62/v4/59/58/8d/59588d93-591e-4190-6e77-219b4448b415/source/30x30bb.jpg', 'artworkUrl60': 'https://is4-ssl.mzstatic.com/image/thumb/Video62/v4/59/58/8d/59588d93-591e-4190-6e77-219b4448b415/source/60x60bb.jpg', 'artworkUrl100': 'https://is4-ssl.mzstatic.com/image/thumb/Video62/v4/59/58/8d/59588d93-591e-4190-6e77-219b4448b415/source/100x100bb.jpg', 'collectionPrice': 19.99, 'trackPrice': 19.99, 'trackRentalPrice': 3.99, 'collectionHdPrice': 19.99, 'trackHdPrice': 19.99, 'trackHdRentalPrice': 3.99, 'releaseDate': '2013-11-08T08:00:00Z', 'collectionExplicitness': 'notExplicit', 'trackExplicitness': 'notExplicit', 'discCount': 1, 'discNumber': 1, 'trackCount': 3, 'trackNumber': 2, 'trackTimeMillis': 6761545, 'country': 'USA', 'currency': 'USD', 'primaryGenreName': 'Action & Adventure', 'contentAdvisoryRating': 'PG-13', 'shortDescription': 'Marvel’s \"Thor: The Dark World\" continues the adventures of Thor, the Mighty Avenger, as he battles', 'longDescription': 'Marvel’s \"Thor: The Dark World\" continues the adventures of Thor, the Mighty Avenger, as he battles to save Earth and all the Nine Realms from a shadowy enemy that predates the universe itself. In the aftermath of Marvel’s \"Thor\" and \"Marvel’s The Avengers,\" Thor fights to restore order across the cosmos...but an ancient race led by the vengeful Malekith returns to plunge the universe back into darkness. To defeat an enemy that even Odin and Asgard cannot withstand, Thor sets upon his most dangerous and personal journey yet, forced into an alliance with the treacherous Loki to save not only his people and those he loves…but our universe itself.', 'hasITunesExtras': True}, {'wrapperType': 'track', 'kind': 'feature-movie', 'collectionId': 988591299, 'trackId': 431497471, 'artistName': 'Sam Liu & Gary Hartle', 'collectionName': 'Marvel Animated Features 8-Film Complete Collection', 'trackName': 'Thor: Tales of Asgard', 'collectionCensoredName': 'Marvel Animated Features 8-Film Complete Collection', 'trackCensoredName': 'Thor: Tales of Asgard', 'collectionArtistId': 345356312, 'collectionArtistViewUrl': 'https://itunes.apple.com/us/artist/lions-gate-films-inc/345356312?uo=4', 'collectionViewUrl': 'https://itunes.apple.com/us/movie/thor-tales-of-asgard/id431497471?uo=4', 'trackViewUrl': 'https://itunes.apple.com/us/movie/thor-tales-of-asgard/id431497471?uo=4', 'previewUrl': 'https://video-ssl.itunes.apple.com/itunes-assets/Video117/v4/77/34/51/77345174-509a-a467-0cf0-0093dea9c7f8/mzvf_1384173543369200454.640x476.h264lc.U.p.m4v', 'artworkUrl30': 'https://is2-ssl.mzstatic.com/image/thumb/Video/v4/af/a8/56/afa856d0-f5ad-aad9-d7a6-beed1bb3ac2a/source/30x30bb.jpg', 'artworkUrl60': 'https://is2-ssl.mzstatic.com/image/thumb/Video/v4/af/a8/56/afa856d0-f5ad-aad9-d7a6-beed1bb3ac2a/source/60x60bb.jpg', 'artworkUrl100': 'https://is2-ssl.mzstatic.com/image/thumb/Video/v4/af/a8/56/afa856d0-f5ad-aad9-d7a6-beed1bb3ac2a/source/100x100bb.jpg', 'collectionPrice': 5.99, 'trackPrice': 5.99, 'trackRentalPrice': 3.99, 'collectionHdPrice': 7.99, 'trackHdPrice': 7.99, 'trackHdRentalPrice': 3.99, 'releaseDate': '2008-01-01T08:00:00Z', 'collectionExplicitness': 'notExplicit', 'trackExplicitness': 'notExplicit', 'discCount': 1, 'discNumber': 1, 'trackCount': 8, 'trackNumber': 5, 'trackTimeMillis': 4615680, 'country': 'USA', 'currency': 'USD', 'primaryGenreName': 'Action & Adventure', 'contentAdvisoryRating': 'NR', 'shortDescription': 'Before he ever lifted his mighty hammer…fantastic journeys beckon from the mysterious nine realms.', 'longDescription': 'Before he ever lifted his mighty hammer…fantastic journeys beckon from the mysterious nine realms. Places of dark mists and fiery voids. Of winged creatures and giants in the ice. And of the most alluring quest of all – the search for the legendary Lost Sword of Surtur. Hungry for adventure, Thor secretly embarks on the journey of a lifetime, joined by his loyal brother Loki, whose budding sorcery equips him with just enough magic to conjure up trouble, along with the Warriors Three – a band of boastful travelers reluctant to set sail on any adventure that might actually be dangerous. But what starts out as a harmless treasure hunt quickly turns deadly, and Thor must now prove himself worthy of the destiny he covets by saving Asgard itself.', 'hasITunesExtras': True}, {'wrapperType': 'track', 'kind': 'feature-movie', 'trackId': 1056043583, 'artistName': 'Ryan Wise', 'trackName': 'I Am Thor', 'trackCensoredName': 'I Am Thor', 'trackViewUrl': 'https://itunes.apple.com/us/movie/i-am-thor/id1056043583?uo=4', 'previewUrl': 'https://video-ssl.itunes.apple.com/itunes-assets/Video128/v4/0d/c7/e7/0dc7e7d5-9cb6-4c80-c95a-9fe61d8ae00f/mzvf_2669361631683462627.640x480.h264lc.U.p.m4v', 'artworkUrl30': 'https://is5-ssl.mzstatic.com/image/thumb/Video1/v4/4b/ae/2b/4bae2b25-9408-aa18-e498-74fcfd01116e/source/30x30bb.jpg', 'artworkUrl60': 'https://is5-ssl.mzstatic.com/image/thumb/Video1/v4/4b/ae/2b/4bae2b25-9408-aa18-e498-74fcfd01116e/source/60x60bb.jpg', 'artworkUrl100': 'https://is5-ssl.mzstatic.com/image/thumb/Video1/v4/4b/ae/2b/4bae2b25-9408-aa18-e498-74fcfd01116e/source/100x100bb.jpg', 'collectionPrice': 7.99, 'trackPrice': 7.99, 'trackRentalPrice': 3.99, 'collectionHdPrice': 9.99, 'trackHdPrice': 9.99, 'trackHdRentalPrice': 3.99, 'releaseDate': '2015-11-20T08:00:00Z', 'collectionExplicitness': 'notExplicit', 'trackExplicitness': 'notExplicit', 'trackTimeMillis': 4958248, 'country': 'USA', 'currency': 'USD', 'primaryGenreName': 'Documentary', 'contentAdvisoryRating': 'Unrated', 'shortDescription': 'Jon Mikl Thor was a bodybuilding, steel bending, brick smashing rock star in the 70’s & 80’s whose', 'longDescription': 'Jon Mikl Thor was a bodybuilding, steel bending, brick smashing rock star in the 70’s & 80’s whose theatrical band THOR hit the scene alongside Metallica and Kiss, but never achieved the gold record status of its contemporaries. After a brief but memorable film career saw him starring in the cult classics Rock ‘n’ Roll Nightmare and Zombie Nightmare, Thor all but disappeared from the entertainment map. But ten years into retirement, and incapable of living like a normal mortal human being, Thor attempts a comeback to achieve the level of success that has eluded him his entire career - a comeback that nearly kills him. Tracing the rise, fall, and rebirth of a determined performer over the course of a career that has seen more than its fair share of highs and lows, I AM THOR paints a fascinating and sometimes unbelievable portrait of this larger-than-life icon.'}, {'wrapperType': 'track', 'kind': 'feature-movie', 'trackId': 1575519684, 'artistName': 'Fenar Ahmad', 'trackName': 'Valhalla: The Legend of Thor (Dubbed)', 'trackCensoredName': 'Valhalla: The Legend of Thor (Dubbed)', 'trackViewUrl': 'https://itunes.apple.com/us/movie/valhalla-the-legend-of-thor-dubbed/id1575519684?uo=4', 'previewUrl': 'https://video-ssl.itunes.apple.com/itunes-assets/Video115/v4/4a/2b/ab/4a2bab43-c609-6be3-d8ab-b585a17fa553/mzvf_16334960664038437070.640x354.h264lc.U.p.m4v', 'artworkUrl30': 'https://is1-ssl.mzstatic.com/image/thumb/Video115/v4/cc/cd/0a/cccd0a17-26a7-c2ab-36c7-cd77f17e068c/source/30x30bb.jpg', 'artworkUrl60': 'https://is1-ssl.mzstatic.com/image/thumb/Video115/v4/cc/cd/0a/cccd0a17-26a7-c2ab-36c7-cd77f17e068c/source/60x60bb.jpg', 'artworkUrl100': 'https://is1-ssl.mzstatic.com/image/thumb/Video115/v4/cc/cd/0a/cccd0a17-26a7-c2ab-36c7-cd77f17e068c/source/100x100bb.jpg', 'collectionPrice': 9.99, 'trackPrice': 9.99, 'trackRentalPrice': 4.99, 'collectionHdPrice': 14.99, 'trackHdPrice': 14.99, 'trackHdRentalPrice': 4.99, 'releaseDate': '2019-10-10T07:00:00Z', 'collectionExplicitness': 'notExplicit', 'trackExplicitness': 'notExplicit', 'trackTimeMillis': 6330400, 'country': 'USA', 'currency': 'USD', 'primaryGenreName': 'Action & Adventure', 'contentAdvisoryRating': 'Unrated', 'shortDescription': 'Siblings Roskva and Tjalfe embark on an epic adventure from Midgard to Valhalla with the gods Thor', 'longDescription': \"Siblings Roskva and Tjalfe embark on an epic adventure from Midgard to Valhalla with the gods Thor and Loki. Life in Valhalla, however, turns out to be threatened by the dreaded Fenrir wolf and the god's barbaric archenemies, the troll like giants. Side by side with the gods, the two children will fight to save Valhalla from the end of the world in Ragnarok.\"}]}\n"
     ]
    }
   ],
   "source": [
    "json_obj = json.load(open('thor_itunes_search.json', 'r'))\n",
    "print(json_obj)"
   ]
  },
  {
   "cell_type": "code",
   "execution_count": 31,
   "id": "9515ce2a-167c-4f9b-aa36-6b53c02f3b74",
   "metadata": {},
   "outputs": [
    {
     "name": "stdout",
     "output_type": "stream",
     "text": [
      "Thor : 115.71488333333333\n",
      "*****************************************************************************************************************************************\n",
      "Thor: Ragnarok : 130.98638333333332\n",
      "*****************************************************************************************************************************************\n",
      "Thor: The Dark World : 112.69241666666667\n",
      "*****************************************************************************************************************************************\n",
      "Thor: Tales of Asgard : 76.92800000000001\n",
      "*****************************************************************************************************************************************\n",
      "I Am Thor : 82.63746666666665\n",
      "*****************************************************************************************************************************************\n",
      "Valhalla: The Legend of Thor (Dubbed) : 105.50666666666666\n",
      "*****************************************************************************************************************************************\n"
     ]
    }
   ],
   "source": [
    "results_arr = json_obj['results']\n",
    "\n",
    "for result_obj in results_arr:\n",
    "    track_name = result_obj['trackName']\n",
    "    # task: grab the milliseconds and convert to minutes\n",
    "    track_time_millis = result_obj['trackTimeMillis']\n",
    "    track_time_mins = track_time_millis/1000/60\n",
    "    print(track_name, ':', track_time_mins)\n",
    "    print('*'*137)"
   ]
  }
 ],
 "metadata": {
  "kernelspec": {
   "display_name": "Python 3 (ipykernel)",
   "language": "python",
   "name": "python3"
  },
  "language_info": {
   "codemirror_mode": {
    "name": "ipython",
    "version": 3
   },
   "file_extension": ".py",
   "mimetype": "text/x-python",
   "name": "python",
   "nbconvert_exporter": "python",
   "pygments_lexer": "ipython3",
   "version": "3.8.8"
  }
 },
 "nbformat": 4,
 "nbformat_minor": 5
}
