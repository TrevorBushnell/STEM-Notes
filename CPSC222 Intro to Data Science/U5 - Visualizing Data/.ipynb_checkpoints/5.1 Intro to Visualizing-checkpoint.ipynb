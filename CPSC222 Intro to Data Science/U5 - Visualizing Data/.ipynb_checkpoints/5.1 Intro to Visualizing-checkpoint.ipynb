{
 "cells": [
  {
   "cell_type": "markdown",
   "metadata": {},
   "source": [
    "# 5.1: Visualizing Data"
   ]
  },
  {
   "cell_type": "code",
   "execution_count": 6,
   "metadata": {},
   "outputs": [],
   "source": [
    "import matplotlib.pyplot as plt"
   ]
  },
  {
   "cell_type": "markdown",
   "metadata": {},
   "source": [
    "* Recall **EDA** (exploratory data analysis)\n",
    "* To do this, we can visualize data, mine data (look for groups/patterns), etc.\n",
    "\n",
    "## Goals of Data Visualization\n",
    "\n",
    "1. clearly and accurately represent data\n",
    "2. be creative, with the goal of increasing readability and understanding\n",
    "3. label the units and points of interest\n",
    "\n",
    "\n",
    "## Some Jargon\n",
    "\n",
    "* **chart:** a 2D visualization\n",
    "* **plot:** a chart with data points (eg scatter plots)\n",
    "* **graph:** a chart for a math function (eg $\\sin(x)$)\n",
    "\n",
    "We will use the `matlplotlib` library for charting with Python.\n",
    "\n",
    "\n",
    "## The Ways to Use `matplotlib`\n",
    "\n",
    "1. using the `pyplot` module (what data scientists typically use)\n",
    "    * there is always a \"current\" figure\n",
    "2. using the OOP interface\n",
    "3. a mix of #1 and #2"
   ]
  },
  {
   "cell_type": "markdown",
   "metadata": {},
   "source": [
    "## Let's Do Some `matplotlib` Plotting!"
   ]
  },
  {
   "cell_type": "code",
   "execution_count": 16,
   "metadata": {},
   "outputs": [],
   "source": [
    "def line_chart_example(x,y):\n",
    "    plt.plot(x,y)\n",
    "    plt.savefig('y=x**2.png')"
   ]
  },
  {
   "cell_type": "code",
   "execution_count": 17,
   "metadata": {},
   "outputs": [
    {
     "name": "stdout",
     "output_type": "stream",
     "text": [
      "[0, 1, 2, 3, 4, 5]\n",
      "[0, 1, 4, 9, 16, 25]\n"
     ]
    },
    {
     "data": {
      "image/png": "[encoded data removed]",
      "text/plain": [
       "<Figure size 432x288 with 1 Axes>"
      ]
     },
     "metadata": {
      "needs_background": "light"
     },
     "output_type": "display_data"
    }
   ],
   "source": [
    "# we need some data\n",
    "x = list(range(6)) # [0 1 2 3 4 5]\n",
    "y = []\n",
    "for val in x:\n",
    "    y.append(val ** 2)\n",
    "print(x)\n",
    "print(y)\n",
    "line_chart_example(x,y)"
   ]
  },
  {
   "cell_type": "markdown",
   "metadata": {},
   "source": [
    "Recall that if you are doing this outside of a Jupyter notebook, you need to use `plt.show()` to open the figure in a new window or `plt.savefig(filename)` to save the figure (all major file types are supported). If you use `plt.show()` in Jupyter notebook, you can essentially control when the plot/graph gets displayed in the cell output."
   ]
  },
  {
   "cell_type": "code",
   "execution_count": 18,
   "metadata": {},
   "outputs": [],
   "source": [
    "def multiple_lines(x,y2,y3):\n",
    "    plt.plot(x,y2)\n",
    "    plt.plot(x,y3)\n",
    "    plt.savefig('y=x**2.png')"
   ]
  },
  {
   "cell_type": "code",
   "execution_count": 20,
   "metadata": {},
   "outputs": [
    {
     "name": "stdout",
     "output_type": "stream",
     "text": [
      "[0, 1, 2, 3, 4, 5]\n",
      "[0, 1, 4, 9, 16, 25]\n"
     ]
    },
    {
     "data": {
      "image/png": "[encoded data removed]",
      "text/plain": [
       "<Figure size 432x288 with 1 Axes>"
      ]
     },
     "metadata": {
      "needs_background": "light"
     },
     "output_type": "display_data"
    }
   ],
   "source": [
    "# we need some data\n",
    "x = list(range(6)) # [0 1 2 3 4 5]\n",
    "y2 = []\n",
    "y3=[]\n",
    "for val in x:\n",
    "    y2.append(val ** 2)\n",
    "    y3.append(val**3)\n",
    "print(x)\n",
    "print(y)\n",
    "multiple_lines(x,y2,y3)"
   ]
  }
 ],
 "metadata": {
  "kernelspec": {
   "display_name": "Python 3",
   "language": "python",
   "name": "python3"
  },
  "language_info": {
   "codemirror_mode": {
    "name": "ipython",
    "version": 3
   },
   "file_extension": ".py",
   "mimetype": "text/x-python",
   "name": "python",
   "nbconvert_exporter": "python",
   "pygments_lexer": "ipython3",
   "version": "3.8.5"
  }
 },
 "nbformat": 4,
 "nbformat_minor": 4
}
