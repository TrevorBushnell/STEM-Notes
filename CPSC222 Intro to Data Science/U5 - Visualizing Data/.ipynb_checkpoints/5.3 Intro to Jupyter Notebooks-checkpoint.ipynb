{
 "cells": [
  {
   "cell_type": "markdown",
   "metadata": {},
   "source": [
    "# 5.3: Intro to Jupyter Notebooks"
   ]
  },
  {
   "cell_type": "markdown",
   "metadata": {},
   "source": [
    "## Launching Jupyter Notebook\n",
    "\n",
    "You can launch Jupyter Notebook or Jupyter Lab in two ways:\n",
    "\n",
    "1. Open Anaconda Navigator and then open up Jupyter Lab\n",
    "2. Open a terminal, navigate to the directory that you want to put your notebook then enter `jupyter-lab`"
   ]
  },
  {
   "cell_type": "markdown",
   "metadata": {},
   "source": [
    "## Jupyter Notebook Cells\n",
    "\n",
    "Jupyter notebook has three different types of cells:\n",
    "\n",
    "* Markdown cell: Enter markdown text\n",
    "* Code cell: enter code that can be run under the cell\n",
    "* Raw cell: raw unrendered text"
   ]
  },
  {
   "cell_type": "markdown",
   "metadata": {},
   "source": [
    "## Edit Mode VC Command Mode\n",
    "\n",
    "in **edit mode**, you can edit the text/code. In **command mode**, you can type characters to execute various commands. here are some example commands:\n",
    "\n",
    "* <kbd>Esc</kbd>: Enter command mode\n",
    "* <kbd>Shift+Enter</kbd>: Run/render the current cell you are editing and move to the next cell (or create a new cell if there is no next cell)\n",
    "* <kbd>Ctrl+Enter</kbd>: Run/render the current cell\n",
    "* <kbd>M</kbd>: Turn a cell into a Markdown cell\n",
    "* <kbd>Y</kbd>: Turn a cell into a code cell\n",
    "* <kbd>X</kbd>: Delete a cell\n",
    "* <kbd>B</kbd>: Create a new code cell"
   ]
  },
  {
   "cell_type": "markdown",
   "metadata": {},
   "source": [
    "## Markdown\n",
    "\n",
    "Markdown is a super simple markup language that gives you shorthand for rendering various types of text. Here are some common Markdown commands:\n",
    "\n",
    "* Headers: `#` - can have between 1-6 `#`'s where more `#`'s mean a smaller header. \n",
    "* Soft break: Add 2+ spaces to the end of a line\n",
    "* Hard break: Press <kbd>Enter</kbd> twice\n",
    "* Bold text: `**[YOUR TEXT HERE]**`\n",
    "* Italic text: `*[YOUR TEXT HERE]*` or ``_[YOUR TEXT HERE]_`\n",
    "* Strikethrough text: `~~[YOUR TEXT HERE]~~`\n",
    "* Block quotes: `<` on each line you want the text to be inside a special quote box\n",
    "* Code block: ``[your code here]`` for in-line code, ````[langauge][your code here] ```` for a code block\n",
    "* `*` for bullets in an unordered list, press tab to get a nested bullet\n",
    "* `1.` for ordered lists, press tab to get a nested ordered list (can mix the two list types)\n",
    "* Hyperlinks: `[text to be linked](link)`\n",
    "* Images: `![image title](image link or file path to image)`\n",
    "* Tables: Use `|` to separate out your cells. Make sure to put `| -- |` after your title row"
   ]
  },
  {
   "cell_type": "markdown",
   "metadata": {},
   "source": [
    "# This is a Level 1 Header\n",
    "## This is a Level 2 Header\n",
    "### This is a Level 3 Header\n",
    "\n",
    "There are 6 header levels"
   ]
  },
  {
   "cell_type": "markdown",
   "metadata": {},
   "source": [
    "This is paragraph text\n",
    "\n",
    "This is a hard break... note the extra line between the text\n",
    "\n",
    "As opposed to a soft break.  \n",
    "This is the next line... there are 2+ spaces after the break"
   ]
  },
  {
   "cell_type": "markdown",
   "metadata": {},
   "source": [
    "## Formatting \n",
    "\n",
    "We can **bold** or *italics* or ~~strikethrough~~. \n",
    "\n",
    "> This is a block quote\n",
    ">\n",
    "> That can span multiple lines\n",
    "\n",
    "```python\n",
    "for i in range(50):\n",
    "    print i\n",
    "```"
   ]
  },
  {
   "cell_type": "markdown",
   "metadata": {},
   "source": [
    "## Lists\n",
    "\n",
    "Ordered lists:\n",
    "\n",
    "1. taslkdfjkasd\n",
    "2. lkfjgkaldfg\n",
    "3. dflkjg;alkdf\n",
    "\n",
    "\n",
    "Unordered lists:\n",
    "* sdlkfjsgd\n",
    "* aslkfjas;dlk\n",
    "    * alksjdflk;adsjfg\n",
    "        * asdlkfjasl;kdjf"
   ]
  },
  {
   "cell_type": "markdown",
   "metadata": {},
   "source": [
    "[GO TO GOOGLE](https://www.google.com)\n",
    "\n",
    "![graph of y=x^2](y=x**2.png)"
   ]
  },
  {
   "cell_type": "markdown",
   "metadata": {},
   "source": [
    "## Tables\n",
    "\n",
    "|CarName|Modelyear|MSRP|\n",
    "|--|--|--|\n",
    "|toyota corolla|2021|2397498347|"
   ]
  },
  {
   "cell_type": "markdown",
   "metadata": {},
   "source": [
    "## LaTeX\n",
    "\n",
    "LaTeX is a mathematical/document typesetting language/framework. This can fully replace Word if you want! LaTeX is super powerful for typesetting math equations as fast as you can handwrite them (if you are a fast enough typer and fluent in LaTeX). \n",
    "\n",
    "* In-line math mode: Use single `$` like this: $y=mx+b$\n",
    "* Block/centered math mode: Use double `$` like this: $$y=mx+b$$\n",
    "* Subscripts/Superscripts: `_` for subscripts, `^` for superscripts, ex: $x_i$ or $x^i$\n",
    "* Symbols over characters: $\\overline{x+1}$, $\\widehat{y}$\n",
    "* Special symbols: Use [Detexify](https://detexify.kirelabs.org/classify.html) to find the symbol you want\n",
    "* Square root: `$\\sqrt{[stuff]}$` $\\sqrt{x}$\n",
    "* Summation notation: `$\\sum_{[bottom bound]}^{[top bound]} [expression]$` $\\sum_{i=1}^{n} i \\cdot x_i$\n",
    "* Fractions: `$\\frac{num}{den}$`"
   ]
  }
 ],
 "metadata": {
  "kernelspec": {
   "display_name": "Python 3",
   "language": "python",
   "name": "python3"
  },
  "language_info": {
   "codemirror_mode": {
    "name": "ipython",
    "version": 3
   },
   "file_extension": ".py",
   "mimetype": "text/x-python",
   "name": "python",
   "nbconvert_exporter": "python",
   "pygments_lexer": "ipython3",
   "version": "3.8.5"
  }
 },
 "nbformat": 4,
 "nbformat_minor": 4
}
