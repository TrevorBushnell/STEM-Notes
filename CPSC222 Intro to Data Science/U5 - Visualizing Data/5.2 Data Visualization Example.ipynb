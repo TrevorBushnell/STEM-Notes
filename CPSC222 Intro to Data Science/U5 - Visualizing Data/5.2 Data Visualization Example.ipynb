{
 "cells": [
  {
   "cell_type": "markdown",
   "metadata": {},
   "source": [
    "# 5.2 Data Visualization Example"
   ]
  },
  {
   "cell_type": "markdown",
   "metadata": {},
   "source": [
    "## Import Statements"
   ]
  },
  {
   "cell_type": "code",
   "execution_count": 1,
   "metadata": {},
   "outputs": [],
   "source": [
    "import pandas as pd\n",
    "import matplotlib.pyplot as plt"
   ]
  },
  {
   "cell_type": "markdown",
   "metadata": {},
   "source": [
    "## Load the Data"
   ]
  },
  {
   "cell_type": "code",
   "execution_count": 25,
   "metadata": {},
   "outputs": [
    {
     "name": "stdout",
     "output_type": "stream",
     "text": [
      "          CarName  ModelYear  MSRP\n",
      "0      ford pinto         75  2769\n",
      "1  toyota corolla         75  2711\n",
      "2      ford pinto         76  3025\n",
      "3  toyota corolla         77  2789\n",
      "\n",
      "          CarName  ModelYear  MSRP\n",
      "0      ford pinto         75  2769\n",
      "1  toyota corolla         75  2711\n",
      "2      ford pinto         76  3025\n",
      "3  toyota corolla         77  2789\n",
      "4  chevy corvette         77  2212\n",
      "\n",
      "77    2\n",
      "75    2\n",
      "76    1\n",
      "Name: ModelYear, dtype: int64\n",
      "\n",
      "ModelYear\n",
      "75    2740.0\n",
      "76    3025.0\n",
      "77    2500.5\n",
      "Name: MSRP, dtype: float64\n"
     ]
    }
   ],
   "source": [
    "msrp_df = pd.read_csv(\"msrp.csv\")\n",
    "print(msrp_df)\n",
    "    \n",
    "new_row = pd.Series([\"chevy corvette\", 77, 2212], index = ['CarName', 'ModelYear','MSRP'])\n",
    "msrp_df = msrp_df.append(new_row, ignore_index=True)\n",
    "print()\n",
    "print(msrp_df)\n",
    "    \n",
    "counts_ser = msrp_df['ModelYear'].value_counts()\n",
    "print()\n",
    "print(counts_ser)\n",
    "    \n",
    "mean_ser = msrp_df.groupby('ModelYear')['MSRP'].mean()\n",
    "print()\n",
    "print(mean_ser)"
   ]
  }
 ],
 "metadata": {
  "kernelspec": {
   "display_name": "Python 3",
   "language": "python",
   "name": "python3"
  },
  "language_info": {
   "codemirror_mode": {
    "name": "ipython",
    "version": 3
   },
   "file_extension": ".py",
   "mimetype": "text/x-python",
   "name": "python",
   "nbconvert_exporter": "python",
   "pygments_lexer": "ipython3",
   "version": "3.8.5"
  }
 },
 "nbformat": 4,
 "nbformat_minor": 4
}
