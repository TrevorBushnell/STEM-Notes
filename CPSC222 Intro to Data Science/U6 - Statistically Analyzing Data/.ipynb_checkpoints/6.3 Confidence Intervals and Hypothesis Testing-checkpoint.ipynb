{
 "cells": [
  {
   "cell_type": "markdown",
   "id": "6fc22019",
   "metadata": {},
   "source": [
    "# 6.3: Confidence Intervals and Hypothesis Testing\n",
    "\n",
    "## Confidence Intervals\n",
    "\n",
    "Suppose we have the following data:"
   ]
  },
  {
   "cell_type": "code",
   "execution_count": null,
   "id": "ce782f0b",
   "metadata": {},
   "outputs": [],
   "source": [
    "x_data = [8.2, 9.1, 7.7, 8.6, 6.9, 11.2, 10.1, 9.9, 8.9, 9.2, 7.5, 10.5]"
   ]
  },
  {
   "cell_type": "markdown",
   "id": "44aff942",
   "metadata": {},
   "source": [
    "We can print out the sample mean and sample standard deviation by doing the following with `numpy`:"
   ]
  },
  {
   "cell_type": "code",
   "execution_count": null,
   "id": "0209bcae",
   "metadata": {},
   "outputs": [],
   "source": [
    "import numpy as np\n",
    "print('sample mean:', np.mean(x_data), 'sample standard deviation:', np.std(x_data, ddof=1))"
   ]
  },
  {
   "cell_type": "markdown",
   "id": "4b779804",
   "metadata": {},
   "source": [
    "We can compute the confidence interval by doing the following:\n",
    "\n",
    "**USE LATEX TO WRITE OUT THE WORK LATER**\n",
    "\n",
    "Let's graph the confidence interval:"
   ]
  },
  {
   "cell_type": "code",
   "execution_count": null,
   "id": "5f13cbe0",
   "metadata": {},
   "outputs": [],
   "source": [
    "# code to insert later"
   ]
  },
  {
   "cell_type": "markdown",
   "id": "2237777f",
   "metadata": {},
   "source": [
    "## Hypothesis Testing"
   ]
  },
  {
   "cell_type": "markdown",
   "id": "b8a5ffd2",
   "metadata": {},
   "source": [
    "EX: Suppose that we have the following data:"
   ]
  },
  {
   "cell_type": "code",
   "execution_count": null,
   "id": "a0966801",
   "metadata": {},
   "outputs": [],
   "source": [
    "x_data = [30,28,32,26,33,25,28,30]"
   ]
  },
  {
   "cell_type": "markdown",
   "id": "c03c17ed",
   "metadata": {},
   "source": [
    "Then the mean and standard deviation (sample) are as follows:"
   ]
  },
  {
   "cell_type": "code",
   "execution_count": null,
   "id": "71ccef1d",
   "metadata": {},
   "outputs": [],
   "source": [
    "print('sample mean:', np.mean(x_data), 'sample standard deviation:', np.std(x_data, ddof=1))"
   ]
  },
  {
   "cell_type": "markdown",
   "id": "8d6ff583",
   "metadata": {},
   "source": [
    "Our sample statistic is as follows:\n",
    "\n",
    "$$t = \\frac{\\overline x - \\mu}{\\frac{s}{\\sqrt{n}}}$$"
   ]
  },
  {
   "cell_type": "code",
   "execution_count": null,
   "id": "95b0ee94",
   "metadata": {},
   "outputs": [],
   "source": [
    "import math\n",
    "t = (np.mean(x_data) - 31)/(np.std(x_data, ddof=1)/math.sqrt(len(x_data)))\n",
    "print('test statistic:', t)"
   ]
  },
  {
   "cell_type": "markdown",
   "id": "02e22a4c",
   "metadata": {},
   "source": [
    "## Hypothesis Testing"
   ]
  },
  {
   "cell_type": "code",
   "execution_count": null,
   "id": "cb964511",
   "metadata": {},
   "outputs": [],
   "source": [
    "x = [30,28,32,26,33,25,28,30]\n",
    "\n",
    "Xbar = np.mean(x)\n",
    "s = np.std(x, ddof=1)\n",
    "n = len(x)\n",
    "df = n-1\n",
    "t = (Xbar - 31) / (s / np.sqrt(n))\n",
    "\n",
    "print('t-computed', t)"
   ]
  },
  {
   "cell_type": "markdown",
   "id": "452a6638",
   "metadata": {},
   "source": [
    "We can check our work using the `scipy` package:"
   ]
  },
  {
   "cell_type": "code",
   "execution_count": null,
   "id": "1b0feeef",
   "metadata": {},
   "outputs": [],
   "source": [
    "import scipy.stats as stats\n",
    "\n",
    "t, p = stats.ttest_1samp(x, 31)\n",
    "\n",
    "print('desk check for t:', t, 'desk check for p:', p)"
   ]
  },
  {
   "cell_type": "markdown",
   "id": "c24443ff-6a40-42d3-8863-467291536de5",
   "metadata": {},
   "source": []
  }
 ],
 "metadata": {
  "interpreter": {
   "hash": "aee8b7b246df8f9039afb4144a1f6fd8d2ca17a180786b69acc140d282b71a49"
  },
  "kernelspec": {
   "display_name": "Python 3",
   "language": "python",
   "name": "python3"
  },
  "language_info": {
   "codemirror_mode": {
    "name": "ipython",
    "version": 3
   },
   "file_extension": ".py",
   "mimetype": "text/x-python",
   "name": "python",
   "nbconvert_exporter": "python",
   "pygments_lexer": "ipython3",
   "version": "3.8.8"
  }
 },
 "nbformat": 4,
 "nbformat_minor": 5
}
