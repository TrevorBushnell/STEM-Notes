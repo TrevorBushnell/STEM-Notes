{
 "cells": [
  {
   "cell_type": "markdown",
   "metadata": {},
   "source": [
    "# 6.1: Summary Stats"
   ]
  },
  {
   "cell_type": "markdown",
   "metadata": {},
   "source": [
    "* In stats, a *dataset* is a sample from a population\n",
    "* **parameter:** any measurable characteristic of a population\n",
    "    * eg: Population mean $\\mu$\n",
    "* **statistic:** any measurable characteristic of a sample\n",
    "    * eg: sample mean $\\overline x$\n",
    "* **Descriptive Statistics:** organizing, summarizing, and presenting data in an informative way\n",
    "    * eg: calculating summary stats like central tendancy measures, charting, ...\n",
    "* **Inferential Statistics:** making inferences that go beyond known data\n",
    "    * eg: infer something about a population based on a sample\n",
    "    * eg: hypothesis testing, prediction with linear regression, machine learning, ..."
   ]
  },
  {
   "cell_type": "markdown",
   "metadata": {},
   "source": [
    "## Types of Summary Stats\n",
    "\n",
    "A summary stat summarizes data into a single value or set of value"
   ]
  },
  {
   "cell_type": "markdown",
   "metadata": {},
   "source": [
    "### Number of Attributes"
   ]
  },
  {
   "cell_type": "code",
   "execution_count": 5,
   "metadata": {},
   "outputs": [
    {
     "name": "stdout",
     "output_type": "stream",
     "text": [
      "0    8\n",
      "1    5\n",
      "2    4\n",
      "3    9\n",
      "4    8\n",
      "5    6\n",
      "dtype: int64\n",
      "Number of instances:  6 (6,)\n"
     ]
    }
   ],
   "source": [
    "import pandas as pd\n",
    "ser = pd.Series([8, 5, 4, 9, 8, 6])\n",
    "print(ser)\n",
    "print('Number of instances: ', len(ser), ser.shape)"
   ]
  },
  {
   "cell_type": "markdown",
   "metadata": {},
   "source": [
    "### Min and Max\n",
    "\n",
    "NOTE: Doesn't make sense for nominal attributes"
   ]
  },
  {
   "cell_type": "code",
   "execution_count": 7,
   "metadata": {},
   "outputs": [
    {
     "name": "stdout",
     "output_type": "stream",
     "text": [
      "min:  4 max:  9\n"
     ]
    }
   ],
   "source": [
    "print('min: ', ser.min(), 'max: ', ser.max())"
   ]
  },
  {
   "cell_type": "markdown",
   "metadata": {},
   "source": [
    "### Central Tendencies\n",
    "\n",
    "Central tendencies represent the middle value(s) of a data distribution\n",
    "\n",
    "Middle value: $\\frac{\\min + \\max}{2}$"
   ]
  },
  {
   "cell_type": "code",
   "execution_count": 9,
   "metadata": {},
   "outputs": [
    {
     "name": "stdout",
     "output_type": "stream",
     "text": [
      "middle value: 6.5\n"
     ]
    }
   ],
   "source": [
    "print('middle value:', (ser.min() + ser.max())/2)"
   ]
  },
  {
   "cell_type": "markdown",
   "metadata": {},
   "source": [
    "Arithmetic mean (AKA average)\n",
    "\n",
    "* sensitive to outliers\n",
    "* only applied if your data is numeric"
   ]
  },
  {
   "cell_type": "code",
   "execution_count": 11,
   "metadata": {},
   "outputs": [
    {
     "name": "stdout",
     "output_type": "stream",
     "text": [
      "arithmetic mean: 6.666666666666667\n"
     ]
    }
   ],
   "source": [
    "print('arithmetic mean:', ser.mean())"
   ]
  },
  {
   "cell_type": "markdown",
   "metadata": {},
   "source": [
    "### Data Dispersion (Spread)\n",
    "\n",
    "Range: max - min"
   ]
  },
  {
   "cell_type": "code",
   "execution_count": 12,
   "metadata": {},
   "outputs": [
    {
     "name": "stdout",
     "output_type": "stream",
     "text": [
      "range: 5\n"
     ]
    }
   ],
   "source": [
    "print('range:', ser.max() - ser.min())"
   ]
  },
  {
   "cell_type": "markdown",
   "metadata": {},
   "source": [
    "Quartiles: roughly equalized partitions of the data (in sorted order)\n",
    "* 2 quantiles: 1 data point that divides the dataset into 2 halves (AKA median)\n",
    "* quartiles: 3 data points that divides the dataset into quarters\n",
    "* percentiles: 99 data points that divides the dataset into 100 groups\n",
    "    * 25th percentile: 1st quartile\n",
    "    * 50th percentile: 2nd quartile (median)\n",
    "    * 75th percentile: 3rd quartile\n",
    "* IQR (interquartile range): Q3 - Q1"
   ]
  },
  {
   "cell_type": "markdown",
   "metadata": {},
   "source": [
    "## Box Plots\n",
    "\n",
    "\n",
    "Box plots are great visualizations for showing the spread of data"
   ]
  },
  {
   "cell_type": "code",
   "execution_count": 14,
   "metadata": {},
   "outputs": [
    {
     "data": {
      "image/png": "[encoded data removed]",
      "text/plain": [
       "<Figure size 432x288 with 1 Axes>"
      ]
     },
     "metadata": {
      "needs_background": "light"
     },
     "output_type": "display_data"
    }
   ],
   "source": [
    "import matplotlib.pyplot as plt\n",
    "import numpy as np\n",
    "\n",
    "mean = 100\n",
    "stdev = 25\n",
    "num_samples = 1000\n",
    "x1 = np.random.normal(mean, stdev, num_samples)\n",
    "stdev = 5\n",
    "num_samples = 500\n",
    "x2 = np.random.normal(mean, stdev, num_samples)\n",
    "\n",
    "plt.boxplot([x1, x2])\n",
    "plt.show()"
   ]
  },
  {
   "cell_type": "markdown",
   "metadata": {},
   "source": [
    "Variance: spread the mean\n",
    "* High variance $\\implies$ data is more spread out from the mean\n",
    "* Low variance $\\implies$ data is more clustered around the mean\n",
    "\n",
    "Standard deviation: square root of variance\n",
    "* More commonly used ... it is the same units as the mean"
   ]
  },
  {
   "cell_type": "code",
   "execution_count": 16,
   "metadata": {},
   "outputs": [
    {
     "name": "stdout",
     "output_type": "stream",
     "text": [
      "variance:  3.866666666666667\n",
      "standard deviation:  1.9663841605003503 1.9663841605003503\n"
     ]
    }
   ],
   "source": [
    "print('variance: ', ser.var())\n",
    "print('standard deviation: ', ser.std(), np.sqrt(ser.var()))"
   ]
  },
  {
   "cell_type": "code",
   "execution_count": 18,
   "metadata": {},
   "outputs": [
    {
     "data": {
      "image/png": "[encoded data removed]",
      "text/plain": [
       "<Figure size 432x288 with 1 Axes>"
      ]
     },
     "metadata": {
      "needs_background": "light"
     },
     "output_type": "display_data"
    }
   ],
   "source": [
    "mean = 100\n",
    "stdev = 25\n",
    "num_samples = 1000\n",
    "x1 = np.random.normal(mean, stdev, num_samples)\n",
    "stdev = 5\n",
    "num_samples = 500\n",
    "x2 = np.random.normal(mean, stdev, num_samples)\n",
    "\n",
    "plt.figure()\n",
    "plt.hist(x1)\n",
    "plt.hist(x2)\n",
    "plt.show()"
   ]
  },
  {
   "cell_type": "markdown",
   "metadata": {},
   "source": [
    "## Empirical Rule for Normal Distributions\n",
    "\n",
    "* If your data is \"normal\" then...\n",
    "* (about) 68% of all data is within mean $\\pm 1 \\sigma$\n",
    "* (about) 95% of all data is within mean $\\pm 2 \\sigma$\n",
    "* (about) 99.7% of all data is within mean $\\pm 3 \\sigma$\n",
    "\n",
    "Let's see this for our sampled `x1` data:"
   ]
  },
  {
   "cell_type": "code",
   "execution_count": 19,
   "metadata": {},
   "outputs": [
    {
     "name": "stdout",
     "output_type": "stream",
     "text": [
      "values w/i 1 std:  1.0\n",
      "values w/i 2 std:  0.0\n",
      "values w/i 3 std:  0.0\n"
     ]
    }
   ],
   "source": [
    "count_within_1stdev = 0\n",
    "count_within_2stdev = 0\n",
    "count_within_3stdev = 0\n",
    "\n",
    "mean = np.mean(x1)\n",
    "sd = np.std(x1)\n",
    "num_samples = 1000\n",
    "\n",
    "for value in x1:\n",
    "    if (value <= mean + sd or value >= mean - sd):\n",
    "        count_within_1stdev += 1\n",
    "        \n",
    "    elif (value <= mean + 2 * sd or value >= mean - 2 * sd):\n",
    "        count_within_2stdev += 1\n",
    "        \n",
    "    elif (value <= mean + 3 * sd or value >= mean - 3 * sd):\n",
    "        count_within_3stdev += 1\n",
    "        \n",
    "print('values w/i 1 std: ', count_within_1stdev / num_samples)\n",
    "print('values w/i 2 std: ', count_within_2stdev / num_samples)\n",
    "print('values w/i 3 std: ', count_within_3stdev / num_samples)"
   ]
  }
 ],
 "metadata": {
  "kernelspec": {
   "display_name": "Python 3",
   "language": "python",
   "name": "python3"
  },
  "language_info": {
   "codemirror_mode": {
    "name": "ipython",
    "version": 3
   },
   "file_extension": ".py",
   "mimetype": "text/x-python",
   "name": "python",
   "nbconvert_exporter": "python",
   "pygments_lexer": "ipython3",
   "version": "3.8.5"
  }
 },
 "nbformat": 4,
 "nbformat_minor": 4
}
