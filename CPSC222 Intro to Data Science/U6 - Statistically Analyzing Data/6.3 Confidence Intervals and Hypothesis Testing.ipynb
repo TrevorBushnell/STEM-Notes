{
 "cells": [
  {
   "cell_type": "markdown",
   "id": "6fc22019",
   "metadata": {},
   "source": [
    "# 6.3: Confidence Intervals and Hypothesis Testing\n",
    "\n",
    "## Confidence Intervals\n",
    "\n",
    "Suppose we have the following data:"
   ]
  },
  {
   "cell_type": "code",
   "execution_count": 7,
   "id": "ce782f0b",
   "metadata": {},
   "outputs": [],
   "source": [
    "x_data = [8.2, 9.1, 7.7, 8.6, 6.9, 11.2, 10.1, 9.9, 8.9, 9.2, 7.5, 10.5]"
   ]
  },
  {
   "cell_type": "markdown",
   "id": "44aff942",
   "metadata": {},
   "source": [
    "We can print out the sample mean and sample standard deviation by doing the following with `numpy`:"
   ]
  },
  {
   "cell_type": "code",
   "execution_count": 8,
   "id": "0209bcae",
   "metadata": {},
   "outputs": [
    {
     "name": "stdout",
     "output_type": "stream",
     "text": [
      "sample mean: 8.983333333333333 sample standard deviation: 1.2904074996494381\n"
     ]
    }
   ],
   "source": [
    "import numpy as np\n",
    "print('sample mean:', np.mean(x_data), 'sample standard deviation:', np.std(x_data, ddof=1))"
   ]
  },
  {
   "cell_type": "markdown",
   "id": "4b779804",
   "metadata": {},
   "source": [
    "We can compute the confidence interval by doing the following:\n",
    "\n",
    "**USE LATEX TO WRITE OUT THE WORK LATER**\n",
    "\n",
    "Let's graph the confidence interval:"
   ]
  },
  {
   "cell_type": "code",
   "execution_count": 9,
   "id": "5f13cbe0",
   "metadata": {},
   "outputs": [],
   "source": [
    "# code to insert later"
   ]
  },
  {
   "cell_type": "markdown",
   "id": "2237777f",
   "metadata": {},
   "source": [
    "## Hypothesis Testing"
   ]
  },
  {
   "cell_type": "markdown",
   "id": "b8a5ffd2",
   "metadata": {},
   "source": [
    "EX: Suppose that we have the following data:"
   ]
  },
  {
   "cell_type": "code",
   "execution_count": 10,
   "id": "a0966801",
   "metadata": {},
   "outputs": [],
   "source": [
    "x_data = [30,28,32,26,33,25,28,30]"
   ]
  },
  {
   "cell_type": "markdown",
   "id": "c03c17ed",
   "metadata": {},
   "source": [
    "Then the mean and standard deviation (sample) are as follows:"
   ]
  },
  {
   "cell_type": "code",
   "execution_count": 11,
   "id": "71ccef1d",
   "metadata": {},
   "outputs": [
    {
     "name": "stdout",
     "output_type": "stream",
     "text": [
      "sample mean: 29.0 sample standard deviation: 2.7774602993176543\n"
     ]
    }
   ],
   "source": [
    "print('sample mean:', np.mean(x_data), 'sample standard deviation:', np.std(x_data, ddof=1))"
   ]
  },
  {
   "cell_type": "markdown",
   "id": "8d6ff583",
   "metadata": {},
   "source": [
    "Our sample statistic is as follows:\n",
    "\n",
    "$$t = \\frac{\\overline x - \\mu}{\\frac{s}{\\sqrt{n}}}$$"
   ]
  },
  {
   "cell_type": "code",
   "execution_count": 12,
   "id": "95b0ee94",
   "metadata": {},
   "outputs": [
    {
     "name": "stdout",
     "output_type": "stream",
     "text": [
      "test statistic: -2.0367003088692623\n"
     ]
    }
   ],
   "source": [
    "import math\n",
    "t = (np.mean(x_data) - 31)/(np.std(x_data, ddof=1)/math.sqrt(len(x_data)))\n",
    "print('test statistic:', t)"
   ]
  },
  {
   "cell_type": "markdown",
   "id": "02e22a4c",
   "metadata": {},
   "source": [
    "## Hypothesis Testing"
   ]
  },
  {
   "cell_type": "code",
   "execution_count": 13,
   "id": "cb964511",
   "metadata": {},
   "outputs": [
    {
     "name": "stdout",
     "output_type": "stream",
     "text": [
      "t-computed -2.0367003088692623\n"
     ]
    }
   ],
   "source": [
    "x = [30,28,32,26,33,25,28,30]\n",
    "\n",
    "Xbar = np.mean(x)\n",
    "s = np.std(x, ddof=1)\n",
    "n = len(x)\n",
    "df = n-1\n",
    "t = (Xbar - 31) / (s / np.sqrt(n))\n",
    "\n",
    "print('t-computed', t)"
   ]
  },
  {
   "cell_type": "markdown",
   "id": "452a6638",
   "metadata": {},
   "source": [
    "We can check our work using the `scipy` package:"
   ]
  },
  {
   "cell_type": "code",
   "execution_count": 14,
   "id": "1b0feeef",
   "metadata": {},
   "outputs": [
    {
     "name": "stdout",
     "output_type": "stream",
     "text": [
      "desk check for t: -2.0367003088692623 desk check for p: 0.0811068697473857\n"
     ]
    }
   ],
   "source": [
    "import scipy.stats as stats\n",
    "\n",
    "t, p = stats.ttest_1samp(x, 31)\n",
    "\n",
    "print('desk check for t:', t, 'desk check for p:', p)"
   ]
  },
  {
   "cell_type": "markdown",
   "id": "c24443ff-6a40-42d3-8863-467291536de5",
   "metadata": {},
   "source": [
    "## 2-SAMPLE DEPENDENCE WORK"
   ]
  },
  {
   "cell_type": "code",
   "execution_count": 17,
   "id": "b1cf6fc6-6820-4145-b3c4-c71ada31c8c2",
   "metadata": {},
   "outputs": [
    {
     "name": "stdout",
     "output_type": "stream",
     "text": [
      "differences: [4, 4, -3, 8, 7, -3, 7, 2, -2, 6]\n",
      "t statistic: 2.208963121532172\n"
     ]
    }
   ],
   "source": [
    "before = [45, 52, 34, 38, 47, 42, 61, 53, 52, 49]\n",
    "after = [49, 56, 31, 46, 54, 39, 68, 55, 50, 55]\n",
    "\n",
    "difference = []\n",
    "\n",
    "for i in range(len(before)):\n",
    "    difference.append(after[i]-before[i])\n",
    "    \n",
    "print('differences:', difference)\n",
    "\n",
    "t = (np.mean(difference) - 0)/(np.std(difference, ddof=1)/np.sqrt(len(difference)))\n",
    "print('t statistic:', t)"
   ]
  }
 ],
 "metadata": {
  "interpreter": {
   "hash": "aee8b7b246df8f9039afb4144a1f6fd8d2ca17a180786b69acc140d282b71a49"
  },
  "kernelspec": {
   "display_name": "Python 3",
   "language": "python",
   "name": "python3"
  },
  "language_info": {
   "codemirror_mode": {
    "name": "ipython",
    "version": 3
   },
   "file_extension": ".py",
   "mimetype": "text/x-python",
   "name": "python",
   "nbconvert_exporter": "python",
   "pygments_lexer": "ipython3",
   "version": "3.8.8"
  }
 },
 "nbformat": 4,
 "nbformat_minor": 5
}
