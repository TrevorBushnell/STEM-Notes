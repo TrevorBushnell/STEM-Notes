{
 "cells": [
  {
   "cell_type": "markdown",
   "id": "bdb5c686-fe9a-48ef-bcf6-7fcb12006954",
   "metadata": {},
   "source": [
    "# 6.3: Confidence Intervals and Hypothesis Testing\n",
    "\n",
    "## Confidence Intervals\n",
    "\n",
    "Suppose we have the following data:"
   ]
  },
  {
   "cell_type": "code",
   "execution_count": 1,
   "id": "9451d6a2-d1f7-4148-8a64-815a84195019",
   "metadata": {},
   "outputs": [],
   "source": [
    "x_data = [8.2, 9.1, 7.7, 8.6, 6.9, 11.2, 10.1, 9.9, 8.9, 9.2, 7.5, 10.5]"
   ]
  },
  {
   "cell_type": "markdown",
   "id": "4b763c75-5b1d-488a-a28f-ed988331409f",
   "metadata": {},
   "source": [
    "We can print out the sample mean and sample standard deviation by doing the following with `numpy`:"
   ]
  },
  {
   "cell_type": "code",
   "execution_count": 5,
   "id": "600eda49-691d-4bb5-988c-45e03bfc1e91",
   "metadata": {},
   "outputs": [
    {
     "name": "stdout",
     "output_type": "stream",
     "text": [
      "sample mean: 8.983333333333333 sample standard deviation: 1.2904074996494381\n"
     ]
    }
   ],
   "source": [
    "import numpy as np\n",
    "print('sample mean:', np.mean(x_data), 'sample standard deviation:', np.std(x_data, ddof=1))"
   ]
  },
  {
   "cell_type": "markdown",
   "id": "147cbad0-87a5-4368-9563-d875e9e76dc1",
   "metadata": {},
   "source": [
    "We can compute the confidence interval by doing the following:\n",
    "\n",
    "**USE LATEX TO WRITE OUT THE WORK LATER**\n",
    "\n",
    "Let's graph the confidence interval:"
   ]
  },
  {
   "cell_type": "code",
   "execution_count": 6,
   "id": "a27b8324-2b51-4b85-8be7-cca9d3e3018a",
   "metadata": {},
   "outputs": [],
   "source": [
    "# code to insert later"
   ]
  },
  {
   "cell_type": "markdown",
   "id": "1d3d9e48-46e9-4354-a5a0-9f7e5a108d58",
   "metadata": {},
   "source": [
    "## Hypothesis Testing"
   ]
  },
  {
   "cell_type": "markdown",
   "id": "400d72d0-0633-47fd-b94d-28eca2fb0870",
   "metadata": {},
   "source": [
    "EX: Suppose that we have the following data:"
   ]
  },
  {
   "cell_type": "code",
   "execution_count": 7,
   "id": "e1a79f4f-bd85-42ed-9eda-ccac40952a59",
   "metadata": {},
   "outputs": [],
   "source": [
    "x_data = [30,28,32,26,33,25,28,30]"
   ]
  },
  {
   "cell_type": "markdown",
   "id": "e4088c9e-402a-4eb8-9de7-c0f7ab8e3aed",
   "metadata": {},
   "source": [
    "Then the mean and standard deviation (sample) are as follows:"
   ]
  },
  {
   "cell_type": "code",
   "execution_count": 8,
   "id": "0fd0a156-ea89-459a-9594-d914f77d8eee",
   "metadata": {},
   "outputs": [
    {
     "name": "stdout",
     "output_type": "stream",
     "text": [
      "sample mean: 29.0 sample standard deviation: 2.7774602993176543\n"
     ]
    }
   ],
   "source": [
    "print('sample mean:', np.mean(x_data), 'sample standard deviation:', np.std(x_data, ddof=1))"
   ]
  },
  {
   "cell_type": "markdown",
   "id": "0ae22b75-276c-4269-bcd2-2e4544a18e93",
   "metadata": {},
   "source": [
    "Our sample statistic is as follows:\n",
    "\n",
    "$$t = \\frac{\\overline x - \\mu}{\\frac{s}{\\sqrt{n}}}$$"
   ]
  },
  {
   "cell_type": "code",
   "execution_count": 11,
   "id": "d3667fa0-ac42-4e1d-9d78-feed14cb5aa7",
   "metadata": {},
   "outputs": [
    {
     "name": "stdout",
     "output_type": "stream",
     "text": [
      "test statistic: -2.0367003088692623\n"
     ]
    }
   ],
   "source": [
    "import math\n",
    "t = (np.mean(x_data) - 31)/(np.std(x_data, ddof=1)/math.sqrt(len(x_data)))\n",
    "print('test statistic:', t)"
   ]
  }
 ],
 "metadata": {
  "kernelspec": {
   "display_name": "Python 3",
   "language": "python",
   "name": "python3"
  },
  "language_info": {
   "codemirror_mode": {
    "name": "ipython",
    "version": 3
   },
   "file_extension": ".py",
   "mimetype": "text/x-python",
   "name": "python",
   "nbconvert_exporter": "python",
   "pygments_lexer": "ipython3",
   "version": "3.8.8"
  }
 },
 "nbformat": 4,
 "nbformat_minor": 5
}
