{
 "cells": [
  {
   "cell_type": "markdown",
   "metadata": {},
   "source": [
    "# 7.3: Linear Regression"
   ]
  },
  {
   "cell_type": "markdown",
   "metadata": {},
   "source": [
    "## Warm-Up Task\n",
    "\n",
    "Create a data set with 100 data points that roughly resembles $y=2x$ plus some noise. "
   ]
  },
  {
   "cell_type": "code",
   "execution_count": 22,
   "metadata": {},
   "outputs": [
    {
     "data": {
      "image/png": "[encoded data removed]",
      "text/plain": [
       "<Figure size 432x288 with 1 Axes>"
      ]
     },
     "metadata": {
      "needs_background": "light"
     },
     "output_type": "display_data"
    }
   ],
   "source": [
    "import numpy as np\n",
    "import matplotlib.pyplot as plt\n",
    "\n",
    "np.random.seed(0)\n",
    "\n",
    "x = list(range(100))\n",
    "y = []\n",
    "\n",
    "for i in range(100):\n",
    "    y.append(2 * x[i] + np.random.normal(0,25))\n",
    "    \n",
    "plt.scatter(x, y)\n",
    "plt.show()"
   ]
  },
  {
   "cell_type": "markdown",
   "metadata": {},
   "source": [
    "## Intro to Regression\n",
    "\n",
    "* Recall with supervised ML, when the attribute we want to predict is categorical, it is a classification task\n",
    "    * When the attribute is continuous, it is a regression task\n",
    "* There are lots of regression algorithms (sci-kit learn calls them regressors)\n",
    "    * Linear regression\n",
    "    * kNN regressor\n",
    "    * Decision tree regressor\n",
    "    * otheres...\n",
    "* Goal: fit a line to the xy data\n",
    "    * Recall $y = mx + b$\n",
    "    * When there is one independent variable, it is called simple linear regression\n",
    "    * There is also multiple linear regression\n",
    "    * We can then use $y=mx+b$ model to make predictions for unseen $x$ values"
   ]
  },
  {
   "cell_type": "code",
   "execution_count": 23,
   "metadata": {},
   "outputs": [
    {
     "name": "stdout",
     "output_type": "stream",
     "text": [
      "m: 1.9249174584304443 b: 5.2117861960551295 r: 0.9113097511932392\n"
     ]
    }
   ],
   "source": [
    "import scipy.stats as stats\n",
    "\n",
    "m, b, r, p_val, std_err = stats.linregress(x,y)\n",
    "print(\"m:\", m, \"b:\", b, \"r:\", r)"
   ]
  },
  {
   "cell_type": "code",
   "execution_count": 27,
   "metadata": {},
   "outputs": [
    {
     "name": "stdout",
     "output_type": "stream",
     "text": [
      "prediction: 197.70353203909954 residual (error): 2.2964679609004577\n"
     ]
    }
   ],
   "source": [
    "# make a prediction for unseen x values\n",
    "test_instance = 100\n",
    "y_predicted = m * test_instance + b\n",
    "print(\"prediction:\", y_predicted, \"residual (error):\", 2 * test_instance - y_predicted)"
   ]
  }
 ],
 "metadata": {
  "kernelspec": {
   "display_name": "Python 3",
   "language": "python",
   "name": "python3"
  },
  "language_info": {
   "codemirror_mode": {
    "name": "ipython",
    "version": 3
   },
   "file_extension": ".py",
   "mimetype": "text/x-python",
   "name": "python",
   "nbconvert_exporter": "python",
   "pygments_lexer": "ipython3",
   "version": "3.8.5"
  }
 },
 "nbformat": 4,
 "nbformat_minor": 4
}
