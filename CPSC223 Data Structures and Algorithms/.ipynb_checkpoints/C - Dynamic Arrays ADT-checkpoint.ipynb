{
 "cells": [
  {
   "cell_type": "markdown",
   "id": "7b3cd234-894b-4837-b2ef-7c1e3e661e2e",
   "metadata": {},
   "source": [
    "# C - DYNAMIC ARRAYS"
   ]
  },
  {
   "cell_type": "markdown",
   "id": "0643b38b-0131-4dc0-9466-3397724668c8",
   "metadata": {},
   "source": [
    "## Introduction to Resizable Arrays\n",
    "\n",
    "* Java has a resizable array in the form of an `ArrayList` object\n",
    "* C++ has a the same thing called a `Vector`\n",
    "* Python's standard `list` data type is also a resizable array\n",
    "* When this happens, a certain size array gets created and when you get full you double the size\n",
    "* The tradeoff here is that you have to keep copying the old array everytime you want to double in size"
   ]
  },
  {
   "cell_type": "markdown",
   "id": "4d28cd53-820f-4bf1-8c1a-b1c2b3b636de",
   "metadata": {},
   "source": [
    "## Structure: Resizabe Array"
   ]
  },
  {
   "cell_type": "code",
   "execution_count": 3,
   "id": "4e30ee4d-3edc-4669-87c2-b3117ec768e3",
   "metadata": {},
   "outputs": [],
   "source": [
    "template<typename T>\n",
    "class Sequence\n",
    "{\n",
    "public:\n",
    "\n",
    "  // For concrete subclasses\n",
    "  virtual ~Sequence() {}\n",
    "\n",
    "  // Returns the number of elements in the sequence\n",
    "  virtual int size() const = 0;\n",
    "\n",
    "  // Tests if the sequence is empty\n",
    "  virtual bool empty() const = 0;\n",
    "\n",
    "  // Returns a reference to the element at the index in the\n",
    "  // sequence. Used for lvalues (assignments into the\n",
    "  // sequence). Throws out_of_range if index is invalid (less than 0\n",
    "  // or greater than or equal to size()).\n",
    "  virtual T& operator[](int index) = 0;\n",
    "\n",
    "  // Returns a constant address to the element at the index in the\n",
    "  // sequence. Used for rvalues (evaluating to the value at the\n",
    "  // index). Throws out_of_range if index is invalid (less than 0 or\n",
    "  // greater than or equal to size()).\n",
    "  virtual const T& operator[](int index) const = 0;\n",
    "\n",
    "  // Extends (grows) the sequence by inserting the element at the\n",
    "  // given index (shifting existing elements to the \"right\" in the\n",
    "  // sequence).  Throws out_of_range if the index is invalid (less\n",
    "  // than 0 or greater than size()).\n",
    "  virtual void insert(const T& elem, int index) = 0;\n",
    "\n",
    "  // Shrinks the sequence by removing the element at the index in the\n",
    "  // sequence (shifing elements to the \"left\" in the sequence). Throws\n",
    "  // out_of_range if index is invalid.\n",
    "  virtual void erase(int index) = 0;\n",
    "\n",
    "  // Returns true if the element is in the sequence, and false\n",
    "  // otherwise.\n",
    "  virtual bool contains(const T& elem) const = 0;\n",
    "\n",
    "  // Sorts the elements in the sequence using less than equal (<=)\n",
    "  // operator.\n",
    "  virtual void sort() = 0; \n",
    "  \n",
    "};"
   ]
  },
  {
   "cell_type": "code",
   "execution_count": 5,
   "id": "f086b769-2f72-4606-b92c-85ab30c90171",
   "metadata": {},
   "outputs": [],
   "source": [
    "template<typename T>\n",
    "class ArraySeq: public Sequence<T>\n",
    "{\n",
    "    public:\n",
    "    // essential ops\n",
    "    \n",
    "    // sequence ops\n",
    "    \n",
    "    \n",
    "    private:\n",
    "    \n",
    "        T* array = nullptr; // the resizable array\n",
    "        int count = 0; // number of elements in the sequence\n",
    "        int capacity = 0; // number of slots in the array\n",
    "        void resize(); // function that does the resizing of the array\n",
    "        void make_empty(); // deletes array and resets member variables\n",
    "};"
   ]
  },
  {
   "cell_type": "markdown",
   "id": "8b6ef94c-b3d4-4b71-8fa4-61bc5c1cffea",
   "metadata": {},
   "source": [
    "## Some Questions About Arrays and Dynamic Memory\n",
    "\n",
    "> How do we dynamically allocate an array?\n",
    "\n",
    "```c++\n",
    "   T* new_array = new T[capacity*2];\n",
    "```\n",
    "\n",
    "> How do we deallocate a (dynamically allocated) array?\n",
    "\n",
    "```c++\n",
    "    delete []array;\n",
    "```\n",
    "\n",
    "* You don't need to initialize the cells in an array - in fact you can't because you can't tell the type ahead of time\n",
    "* However we maintain a constraint that `count <= capacity` so this above fact doesn't matter\n",
    "\n",
    "\n",
    "> What happens if you insert an element into an array whose capacity is full?\n",
    "\n",
    "* Create a new array\n",
    "* Copy each value into the new array\n",
    "* `count` remains the same\n",
    "* deallocate the original array and have `array` now point to the new array"
   ]
  }
 ],
 "metadata": {
  "kernelspec": {
   "display_name": "C++14",
   "language": "C++14",
   "name": "xcpp14"
  },
  "language_info": {
   "codemirror_mode": "text/x-c++src",
   "file_extension": ".cpp",
   "mimetype": "text/x-c++src",
   "name": "c++",
   "version": "14"
  }
 },
 "nbformat": 4,
 "nbformat_minor": 5
}
