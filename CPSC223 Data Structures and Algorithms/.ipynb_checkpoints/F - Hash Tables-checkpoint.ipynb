{
 "cells": [
  {
   "cell_type": "markdown",
   "id": "7d25ceec-4acd-4f30-a637-a4c3ede98c7a",
   "metadata": {},
   "source": [
    "# F - Hash Tables"
   ]
  },
  {
   "cell_type": "markdown",
   "id": "7822f246-5c1a-4103-a1be-ee6ca9137ede",
   "metadata": {},
   "source": [
    "* A **hash table** is a type of data structure for fast access (eg $O(1)$ time)\n",
    "* For a KV Map, this means potential performance gains for the following functions:\n",
    "    * `contains()`\n",
    "    * `erase()`\n",
    "    * `insert()`\n",
    "    * `operator[]()` (fetch/update)"
   ]
  },
  {
   "cell_type": "markdown",
   "id": "2184f47b-bb57-484d-9db2-fef0aa6fab6a",
   "metadata": {},
   "source": [
    "## The Basic Idea\n",
    "\n",
    "* Keep an array of elements (called \"buckets\")\n",
    "    * This array is called the *table*\n",
    "* define a \"hash function\" $h\\:\\::\\text{ key } \\implies \\text{ index}$\n",
    "    * this function has gotta be FAST in relation to the number of elements in the table with size $n$\n",
    "* each bucket is a linked list containing KV-pairs\n",
    "* the table is a resizable array"
   ]
  },
  {
   "cell_type": "markdown",
   "id": "d3ab3e62-b84d-4653-84a0-3250e2789477",
   "metadata": {},
   "source": [
    "## Examples of Hash Functions\n",
    "\n",
    "### Selecting Digits\n",
    "\n",
    "* select specific parts/digits of (integer) keys to use as the has value (index)\n",
    "* EX: 9-digit student IDs\n",
    "    * Let `h(k)` = the 4th and 9th digit\n",
    "    * `h(001364825) = 35`\n",
    "    * insert the KV-pair into the hash table at index 35\n",
    "* note that with strings you can get the ASCII representation of the string to do the same thing\n",
    "\n",
    "> Q: Is this a good has function?\n",
    "> * FAST: it's constant time both with respect to the size of the table *and* the size of the key\n",
    "> * EVENLY DISTRIBUTES: it depends on the keys being used and the size of the has table\n",
    ">    * the bigger your hash table the more empty buckets you have\n",
    "\n",
    "\n",
    "### Folding\n",
    "\n",
    "* add (sum) the digits of the key\n",
    "* 9 digit integer key, $\\therefore$ `h(k) = i_1 + i_2 + ... + i_n`\n",
    "\n",
    "> Q: Is this a good has function?\n",
    "> * FAST: it's slower than the last algorithm, but at least it's independent of the size of the table so still fast\n",
    "> * EVENLY DISTRIBUTES: this doesn't evenly distribute (if anything maybe it normally distributes? - would be curious to see that)\n",
    "\n",
    "### A Combination of the Previous Two\n",
    "\n",
    "* we could do a function where we multiply each cluster of three digits and then add them together, etc. etc.\n",
    "* a good hash function is a hash function that will give you a lot of different values"
   ]
  }
 ],
 "metadata": {
  "kernelspec": {
   "display_name": "C++14",
   "language": "C++14",
   "name": "xcpp14"
  },
  "language_info": {
   "codemirror_mode": "text/x-c++src",
   "file_extension": ".cpp",
   "mimetype": "text/x-c++src",
   "name": "c++",
   "version": "14"
  }
 },
 "nbformat": 4,
 "nbformat_minor": 5
}
