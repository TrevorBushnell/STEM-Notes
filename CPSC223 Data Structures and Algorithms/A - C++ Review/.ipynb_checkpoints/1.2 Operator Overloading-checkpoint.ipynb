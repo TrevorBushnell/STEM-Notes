{
 "cells": [
  {
   "cell_type": "markdown",
   "id": "319fab7e-4464-4f22-b14f-ef26463548f6",
   "metadata": {},
   "source": [
    "# 1.2: Operator Overloading"
   ]
  },
  {
   "cell_type": "markdown",
   "id": "6399c659-da13-4d5a-9d5a-5e13414dc37b",
   "metadata": {},
   "source": [
    "## Packaes To Include"
   ]
  },
  {
   "cell_type": "code",
   "execution_count": 21,
   "id": "966aedc5-1d8f-4b34-ae66-ce77fa491a69",
   "metadata": {},
   "outputs": [],
   "source": [
    "#include <iostream>\n",
    "using namespace std;"
   ]
  },
  {
   "cell_type": "markdown",
   "id": "262b1460-36dc-4403-a14d-5a74a6c8af28",
   "metadata": {},
   "source": [
    "## Adding Operators to a `Rectangle` Class\n",
    "\n",
    "Let's say that we have a `Rectangle` class that is initially designed to work like this:"
   ]
  },
  {
   "cell_type": "code",
   "execution_count": 69,
   "id": "4ab256ad-bde6-4a31-b691-70d79282d92f",
   "metadata": {},
   "outputs": [],
   "source": [
    "class Rectangle\n",
    "{\n",
    "    public:\n",
    "        double area() {return length * width;}\n",
    "    \n",
    "        // These will be our relational operators we overload\n",
    "        bool operator <(const Rectangle& rhs) const;\n",
    "        bool operator>(const Rectangle& rhs) const;\n",
    "        bool operator<=(const Rectangle& rhs) const;\n",
    "        bool operator>=(const Rectangle& rhs) const;\n",
    "        bool operator==(const Rectangle& rhs) const;\n",
    "        bool operator!=(const Rectangle& rhs) const;\n",
    "    \n",
    "        // These will be our arithmetic operators we overload\n",
    "        Rectangle operator+(const Rectangle& rhs) const;\n",
    "        Rectangle operator-() const;\n",
    "        Rectangle operator-(const Rectangle& rhs) const;\n",
    "    \n",
    "        // These will be our increment and decrement operators we overload\n",
    "        Rectangle& operator++(); // prefix version\n",
    "        Rectangle& operator++(int); // postfix version\n",
    "        Rectangle& operator--(); // prefix version\n",
    "        Rectangle& operator--(int); // postfix version\n",
    "    \n",
    "        // Friend functions for stream insertion and deletion    \n",
    "        friend ostream& operator <<(ostream& out, const Rectangle& rhs);\n",
    "        friend istream& operator >>(istream& in, const Rectangle& rhs);\n",
    "    \n",
    "    private:\n",
    "        double length;\n",
    "        double width;\n",
    "};"
   ]
  },
  {
   "cell_type": "markdown",
   "id": "b370be35-669e-4ff8-b85e-93f59fe99847",
   "metadata": {},
   "source": [
    "### Relational Operators\n",
    "\n",
    "Let's start with implementing the relational operators. We shall begin with `<`. We want to return a boolean based on the comparison of the areas. Therefore, the function is extremely simple to implement and is just:"
   ]
  },
  {
   "cell_type": "code",
   "execution_count": null,
   "id": "df94b3f4-de49-420d-80cd-2af216e604ad",
   "metadata": {},
   "outputs": [],
   "source": [
    "bool Rectangle::operator<(const Rectangle& rhs) const;\n",
    "{\n",
    "    return area() < rhs.area()\n",
    "}"
   ]
  },
  {
   "cell_type": "markdown",
   "id": "ffe09de0-28b0-4a4e-a48a-bd635913dce1",
   "metadata": {},
   "source": [
    "You can actually implement every single other relational operator using just `<` using the `this` keyword/implicit member variable. "
   ]
  },
  {
   "cell_type": "code",
   "execution_count": null,
   "id": "0cc931c0-9ca2-4e50-b257-482e9188d55e",
   "metadata": {},
   "outputs": [],
   "source": [
    "bool Rectangle::operator>(const Rectangle& rhs) const;\n",
    "{\n",
    "    return rhs < *this;\n",
    "}\n",
    "\n",
    "bool Rectangle::operator==(const Rectangle& rhs) const;\n",
    "{\n",
    "    return !(*this < rhs) && !(rhs < *this);\n",
    "}"
   ]
  },
  {
   "cell_type": "markdown",
   "id": "4bb8b3bf-6593-4277-aeb5-ac98a241357e",
   "metadata": {},
   "source": [
    "## Stream Insert/Extraction Operators\n",
    "\n",
    "Stream insertion `<<` and stream extraction `<<` are operators that we use all the time (like `cout` and `cin`). If we want to put our objects into I/O, we will need to define what this looks like. This means overloading the `<<` and `>>` operators. \n",
    "\n",
    "These are binary operators where the left-hand side is a stream and the right-hand side is your object. You will need to use `friend` functions to do this. "
   ]
  },
  {
   "cell_type": "code",
   "execution_count": null,
   "id": "b3b4a970-7be9-4daa-b4a3-1b0982a05af6",
   "metadata": {},
   "outputs": [],
   "source": [
    "ostream& operator<<(ostream& out, const Rectangle& rhs)\n",
    "{\n",
    "    out << rhs.length << \" \" << rhs.width;\n",
    "    return out;\n",
    "}"
   ]
  }
 ],
 "metadata": {
  "kernelspec": {
   "display_name": "C++14",
   "language": "C++14",
   "name": "xcpp14"
  },
  "language_info": {
   "codemirror_mode": "text/x-c++src",
   "file_extension": ".cpp",
   "mimetype": "text/x-c++src",
   "name": "c++",
   "version": "14"
  }
 },
 "nbformat": 4,
 "nbformat_minor": 5
}
