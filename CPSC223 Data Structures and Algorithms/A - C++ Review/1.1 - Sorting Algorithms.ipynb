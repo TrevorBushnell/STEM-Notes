{
 "cells": [
  {
   "cell_type": "markdown",
   "id": "53fc49f9-89aa-4604-8d51-7535b6d3fd90",
   "metadata": {},
   "source": [
    "# 1.1: Sorting Algorithms\n",
    "\n",
    "There are various different basic sorting algorithms that are important to know going into this class. We will go over the three basic ones and implement the C++ code for them here."
   ]
  },
  {
   "cell_type": "markdown",
   "id": "3f8e79c3-4876-4e37-acb4-b648451627a2",
   "metadata": {},
   "source": [
    "## Helpful Packages\n",
    "\n",
    "Here is the code for importing any packages that we will find useful with these notes:"
   ]
  },
  {
   "cell_type": "code",
   "execution_count": 2,
   "id": "4b5180e5-45de-4197-95bf-12eb5420c674",
   "metadata": {},
   "outputs": [],
   "source": [
    "#include <iostream>\n",
    "\n",
    "using namespace std;"
   ]
  },
  {
   "cell_type": "markdown",
   "id": "c8080ce8-9658-4d96-9418-5d094b3575c7",
   "metadata": {},
   "source": [
    "## The Printing Algorithm\n",
    "\n",
    "This is just an algorithm to print out the contents of an array."
   ]
  },
  {
   "cell_type": "code",
   "execution_count": 3,
   "id": "cfd27c57-69a5-4788-9568-a3cde849d645",
   "metadata": {},
   "outputs": [],
   "source": [
    "void print_array(int array[], int size)\n",
    "{\n",
    "    for (int i = 0; i < size; ++i)\n",
    "    {\n",
    "        cout << array[i];\n",
    "        \n",
    "        if (i != size - 1)\n",
    "        {\n",
    "            cout << \", \";\n",
    "        }\n",
    "    }\n",
    "    \n",
    "    cout << endl;\n",
    "}"
   ]
  },
  {
   "cell_type": "markdown",
   "id": "47b480e9-e39a-45b8-a12a-849ffca19968",
   "metadata": {},
   "source": [
    "## The Swapping Algorithm\n",
    "\n",
    "These algorithms rely on swapping around values. As such, it is important to be able to have an algorithm to swap two values so we don't have to do this over and over again. Luckily we have the code for this here:"
   ]
  },
  {
   "cell_type": "code",
   "execution_count": 4,
   "id": "6fb0b7b3-da81-4b4b-b120-720a62a004aa",
   "metadata": {},
   "outputs": [],
   "source": [
    "// A function that will swap two values\n",
    "void swap(int& x, int& y)\n",
    "{\n",
    "    int temp = x;\n",
    "    x = y;\n",
    "    y = temp;\n",
    "}"
   ]
  },
  {
   "cell_type": "markdown",
   "id": "6e4c04cd-f9e6-412f-93b9-94ea77e331ef",
   "metadata": {},
   "source": [
    "## Selection Sort\n",
    "\n",
    "Selection sort is a sorting algorithm that splits the array into two parts - a sorted section and an unsorted section. Initially all elements are in the unsorted section. Then, the algorithm finds the smallest value in the unsorted section and puts it in the sorted section. This repeats until the entire array is sorted. \n",
    "\n",
    "\n",
    "> **Selection Sort Algorithm:**\n",
    "> \n",
    "> 1. SELECT: Find the smallest value in the unsorted array\n",
    "> 2. SWAP: Swap the smallest value in the unsorted array with the first element in the unsorted array (which will then cause the sorted array to grow by 1 and the unsorted array to shrink by 1).\n",
    "> 3. REPEAT: Repeat until there is 1 element left in the sorted array. \n",
    "\n",
    "This algorithm takes $n-1$ passes to work, where $n$ is the length of the array. This is because we stop the algorithm when there is 1 element left in the unsorted array because we know that a 1-element array must be sorted. \n",
    "\n",
    "The code for selection sort can be found below:"
   ]
  },
  {
   "cell_type": "code",
   "execution_count": 5,
   "id": "0d006a65-9217-44d5-a195-7fc4bb9287b6",
   "metadata": {},
   "outputs": [],
   "source": [
    "void selection_sort(int array[], int length)\n",
    "{\n",
    "    for (int i = 0; i < length - 1; ++i) // i < length means iterate to the end of the array but i < length - 1 accounts for the stopping when 1 element in unsorted array\n",
    "    {\n",
    "        int min_index = i; // set the initial minimum to the first value in the unsorted array\n",
    "        \n",
    "        for (int j = i; j < length; ++j) // Iterate through the entire unsorted array\n",
    "        {\n",
    "            if (array[j] < array[min_index])\n",
    "            {\n",
    "                min_index = j;\n",
    "            }\n",
    "        }\n",
    "        \n",
    "        swap(array[i], array[min_index]);\n",
    "    }\n",
    "}"
   ]
  },
  {
   "cell_type": "markdown",
   "id": "5c1413a9-e066-4e14-9838-24bf311d75bf",
   "metadata": {},
   "source": [
    "## Insertion Sort\n",
    "\n",
    "Insertion sort is like the opposite of selection sort. You instead start with 1 element in the sorted array section. Then you pick the first element in the unsorted array and go through the sorted array until you find where that element belongs in the sorted array. It is important that you write code to **shift rather than swap** because shifting is more efficient because shifting requires less operations.\n",
    "\n",
    "> **Insertion Sort Algorithm:**\n",
    ">\n",
    "> 1. SELECT: Find the first item in the unsorted region\n",
    "> 2. INSERT: Put this item into the correct spot in the sorted region\n",
    "> 3. REPEAT: Repeat until the unsorted region is empty\n",
    "\n",
    "This algorithm still takes $n-1$ passes to work, where $n$ is the length of the array. The reason for this is beacause even though we go to the end of the array, we already start with one element in the sorted array. \n",
    "\n",
    "The code for this can be found below:"
   ]
  },
  {
   "cell_type": "code",
   "execution_count": 6,
   "id": "50c2034a-b612-421f-ae92-f396bff9ad6d",
   "metadata": {},
   "outputs": [],
   "source": [
    "void insertion_sort(int array[], int length)\n",
    "{\n",
    "    for (int i = 1; i < length; ++i)\n",
    "    {\n",
    "        int value = array[i];\n",
    "        int j = i;\n",
    "\n",
    "        while (j > 0 && array[j - 1] > value)\n",
    "        {\n",
    "            array[j] = array[j-1];\n",
    "            j = j - 1;\n",
    "        }\n",
    "\n",
    "        array[j] = value;\n",
    "    }\n",
    "}"
   ]
  },
  {
   "cell_type": "markdown",
   "id": "9faa50f5-971a-49ce-93b9-ad3e7929374f",
   "metadata": {},
   "source": [
    "## Bubble Sort\n",
    "\n",
    "Bubble sort is a unique algorithm. The way bubble sort works is you go through the entire array comparing elements that are directly next to each other. If the element on the left is bigger than the element on the right, then you swap the elements. You repeat until the entire array is sorted. \n",
    "\n",
    "The perk to this sorting algorithm is that there is a **short circuit**. This means that the algorithm can stop EARLY if you know the array is already sorted. The short circuit for this algorithm has to do with the number of swaps that occur. If the algorithm makes one pass and never swaps any two elements, then this means that the elements MUST be in sorted order because the algorithm will only swap elements if they are out of order. As such, you can create a boolean flag variable that checks whether any swaps have occurred. \n",
    "\n",
    "> **Bubble Sort Algorithm:**\n",
    ">\n",
    "> 1. COMPARE: Compare adjacent list items\n",
    "> 2. SWAP: If they are out of order, swap the values\n",
    "> 3. REPEAT: Repeat until EITHER you went through a pass without making any swaps OR you reach the end of the array\n",
    "\n",
    "This algorithm takes anywhere from $1$ to $n-1$ passes where $n$ is the length of the array. The reason it varies is because the algorithm could short circuit if the array is already sorted, it could not short circuit, or it could short circuit somewhere in between.\n",
    "\n",
    "The code for this algorithm can be found below:"
   ]
  },
  {
   "cell_type": "code",
   "execution_count": 7,
   "id": "0b9a5188-edcd-48e8-875b-779ae977db59",
   "metadata": {},
   "outputs": [],
   "source": [
    "void bubble_sort(int array[], int length)\n",
    "{\n",
    "    bool is_sorted = false;\n",
    "  \n",
    "    for (int i = 0; i < length - 1; ++i)\n",
    "    {\n",
    "        if (!is_sorted)\n",
    "        {\n",
    "            is_sorted = true;\n",
    "\n",
    "            for (int j = 1; j < length - i; ++j)\n",
    "            {\n",
    "                if (array[j - 1] > array[j])\n",
    "                {\n",
    "                    swap(array[j-1], array[j]);\n",
    "                    is_sorted = false;\n",
    "                }\n",
    "            }\n",
    "        }\n",
    "    }\n",
    "}"
   ]
  },
  {
   "cell_type": "markdown",
   "id": "4b689a5e-0f73-436e-ad99-0e267b7b9785",
   "metadata": {},
   "source": [
    "## Merge Sort\n",
    "\n",
    "> **Merge Sort Algorithm (Recursive):**\n",
    ">\n",
    "> * Divide list in half\n",
    "> * Sort each half via merge sort (recursive step)\n",
    "> * Merge two sorted halves\n",
    "\n",
    "To find the midpoint, you can do $\\frac{s + e}{2}$ where $s$ is the starting INDEX and $e$ is the ending INDEX. Keep in mind also that when you merge back you have to backtrack through the same way that you split.\n",
    "\n",
    "Merge sort can be implemented using two functions (but when you implpement in the homework you should do this as one function)."
   ]
  },
  {
   "cell_type": "code",
   "execution_count": 8,
   "id": "20e84987-4912-409b-a09b-dc963cb064cf",
   "metadata": {},
   "outputs": [],
   "source": [
    "// Note: start, end, mid are indexes in an array\n",
    "void merge(int array[], int start, int mid, int end)\n",
    "{\n",
    "    int temp[(end-start) + 1];\n",
    "    int first1 = start;\n",
    "    int first2 = mid + 1;\n",
    "    \n",
    "    int i = 0; // loop counter\n",
    "    \n",
    "    while (first1 <= mid and first2 <= end)\n",
    "    {\n",
    "        if (array[first1] < array[first2])\n",
    "        {\n",
    "            temp[i++] = array[first1++];\n",
    "        }\n",
    "        \n",
    "        else\n",
    "        {\n",
    "            temp[i++] = array[first2++];\n",
    "        }\n",
    "    }\n",
    "    \n",
    "    while (first1 <= mid)\n",
    "    {\n",
    "        temp[i++] = array[first1++];\n",
    "    }\n",
    "    \n",
    "    while (first2 <= end)\n",
    "    {\n",
    "        temp[i++] = array[first2++];\n",
    "    }\n",
    "    \n",
    "    for (int j = 0; j <= end - start; ++j)\n",
    "    {\n",
    "        array[start + j] = temp[j];\n",
    "    }\n",
    "}"
   ]
  },
  {
   "cell_type": "code",
   "execution_count": 9,
   "id": "fd79bef5-3ba9-4997-be8c-e60e9d9fd5c9",
   "metadata": {},
   "outputs": [],
   "source": [
    "void merge_sort(int array[], int start, int end)\n",
    "{\n",
    "    if (start < end)\n",
    "    {\n",
    "        int mid = (start + end) / 2;\n",
    "        merge_sort(array, start, mid);\n",
    "        merge_sort(array, mid+1, end);\n",
    "        merge(array, start, mid, end);\n",
    "    }\n",
    "}"
   ]
  },
  {
   "cell_type": "markdown",
   "id": "d9602c4f-6acd-470d-ae74-352647d9e1fa",
   "metadata": {},
   "source": [
    "## Quick Sort\n",
    "\n",
    "> **Quick Sort Algorithm (Recursive):**\n",
    ">\n",
    "> * pick a \"pivot\" element (e.g. first element)\n",
    "> * put smaller values on left side of the pivot\n",
    "> * put larger values on the right side of pivot\n",
    "> * pivot goes \"in the middle\"\n",
    "> * call quick sort on the left region and right region"
   ]
  },
  {
   "cell_type": "code",
   "execution_count": 10,
   "id": "73b87c2b-7654-4011-93c2-fb02858fcda1",
   "metadata": {},
   "outputs": [],
   "source": [
    "void quick_sort(int array[], int start, int end) // start and end indexes\n",
    "{\n",
    "    if (start < end)\n",
    "    {\n",
    "        int pivot = array[start];\n",
    "        int end_p1 = start; // end index, start index\n",
    "        \n",
    "        for (int i = start + 1; i <= end; ++i) // partition\n",
    "        {\n",
    "            if (array[i] < pivot)\n",
    "            {\n",
    "                ++end_p1;\n",
    "                swap(array[i], array[end_p1]);\n",
    "            }\n",
    "        }\n",
    "        \n",
    "        swap(array[start], array[end_p1]); // move pivot\n",
    "        quick_sort(array, start, end_p1 - 1); // recursive step\n",
    "        quick_sort(array, end_p1 + 1, end); // recursive step\n",
    "    }\n",
    "}"
   ]
  },
  {
   "cell_type": "markdown",
   "id": "dace9f36-f4c5-455f-a2e7-406ae0af22df",
   "metadata": {},
   "source": [
    "## Testing Merge Sort and Quick Sort"
   ]
  },
  {
   "cell_type": "code",
   "execution_count": 11,
   "id": "9b78883e-5b3b-420f-8b2d-bfb6c641e4fc",
   "metadata": {},
   "outputs": [
    {
     "name": "stdout",
     "output_type": "stream",
     "text": [
      "12, 4, 26, 19, 8\n",
      "4, 8, 12, 19, 26\n",
      "4, 8, 12, 19, 26\n"
     ]
    }
   ],
   "source": [
    "int arr_1 [5] = {12, 4, 26, 19, 8};\n",
    "print_array(arr_1, 5);\n",
    "merge_sort(arr_1, 0, 4);\n",
    "print_array(arr_1, 5);\n",
    "int arr_2 [5] = {12, 4, 26, 19, 8};\n",
    "quick_sort(arr_2, 0, 4);\n",
    "print_array(arr_2, 5);"
   ]
  },
  {
   "cell_type": "markdown",
   "id": "e975a0b5-e4f1-492e-a5a8-b0f4177743b3",
   "metadata": {},
   "source": [
    "## Merge Sort and Quick Sort Using Linked Lists\n",
    "\n",
    "In order to implement Merge Sort and Quick Sort in a linked list, you need to splice and reattach nodes. We can use pointers to our advantage to reassign pointers to effectively swap nodes around without having to worry about creating temporary nodes. Bottom line: you don't copy values but rather move pointers.\n",
    "\n",
    "In order to implement these sorting algorithms in a Linked List, we will need a helper function implemented:"
   ]
  },
  {
   "cell_type": "code",
   "execution_count": null,
   "id": "489d4d6b-ca8d-49f0-818a-e9eaca6bc753",
   "metadata": {},
   "outputs": [],
   "source": [
    "//Left is a pointer to the leftmost node of the region to sort\n",
    "// len is the number of nodes being sorted from the leftmost node\n",
    "\n",
    "Node* merge_sort(Node* left, int len)\n",
    "{\n",
    "    if (len <= 1)\n",
    "    {\n",
    "        return left;\n",
    "    }\n",
    "    \n",
    "    // compute mid length & set up right pointer\n",
    "    \n",
    "    left = merge_sort(left, mid);\n",
    "    right = merge_sort(right, length-mid);\n",
    "    \n",
    "    // merge the two lists left and right\n",
    "    \n",
    "    // return the pointer to the first node of the merged list\n",
    "}"
   ]
  },
  {
   "cell_type": "code",
   "execution_count": null,
   "id": "74458fef-cc54-4007-90e0-2d35a6ec9f73",
   "metadata": {},
   "outputs": [],
   "source": [
    "void merge_sort()\n",
    "{\n",
    "    head = merge_sort(head, node_count);\n",
    "    \n",
    "    Node* curr = head;\n",
    "    \n",
    "    while(curr->next != nullptr)\n",
    "    {\n",
    "        curr = curr->next;\n",
    "    }\n",
    "    \n",
    "    tail = curr;\n",
    "}"
   ]
  },
  {
   "cell_type": "markdown",
   "id": "4344a6ac-49c0-49fc-bc59-6ef162f911ea",
   "metadata": {},
   "source": [
    "Here is the code for writing quick sort:"
   ]
  },
  {
   "cell_type": "code",
   "execution_count": null,
   "id": "f0d883a9-6494-449e-800f-d5f40cd1b00f",
   "metadata": {},
   "outputs": [],
   "source": [
    "Node* quick_sort(Node* start, int len)\n",
    "{\n",
    "    if (len <= 1)\n",
    "    {\n",
    "        return start;\n",
    "    }\n",
    "    \n",
    "    // separate first node from rest of list (pivot)\n",
    "    \n",
    "    // move nodes into smaller & larger lists (partition)\n",
    "    \n",
    "    smaller = quick_sort(smaller, smaller_size);\n",
    "    larger = quick_sort(larger, larger_size);\n",
    "    \n",
    "    // attach smaller, pivot, and larger together\n",
    "    \n",
    "    // return pointer to first node in the combined list\n",
    "}"
   ]
  }
 ],
 "metadata": {
  "kernelspec": {
   "display_name": "C++14",
   "language": "C++14",
   "name": "xcpp14"
  },
  "language_info": {
   "codemirror_mode": "text/x-c++src",
   "file_extension": ".cpp",
   "mimetype": "text/x-c++src",
   "name": "c++",
   "version": "14"
  }
 },
 "nbformat": 4,
 "nbformat_minor": 5
}
