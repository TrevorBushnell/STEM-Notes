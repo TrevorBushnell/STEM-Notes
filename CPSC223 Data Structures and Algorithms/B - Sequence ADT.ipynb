{
 "cells": [
  {
   "cell_type": "markdown",
   "id": "c14a23ca-6264-47db-bee5-3b744308c505",
   "metadata": {},
   "source": [
    "# 1.4: Exceptions, Copy, and Move Constructors"
   ]
  },
  {
   "cell_type": "markdown",
   "id": "67344fb8-b95f-4c10-ba1f-73967161d499",
   "metadata": {},
   "source": [
    "## Exceptions in C++\n",
    "\n",
    "* exceptions provide a separate \"flow of control\"\n",
    "* used for handling runtime errors \"gracefully\" (graceful degradation)\n",
    "* *thrown* and *caught* (w/ values)\n",
    "* for this current HW assignment, we will use it for index ouf of range errors\n",
    "\n",
    "Here's an example of C++ code doing this:"
   ]
  },
  {
   "cell_type": "code",
   "execution_count": null,
   "id": "61f4e6af-6791-41be-abcb-2411e78c02ec",
   "metadata": {},
   "outputs": [],
   "source": [
    "template<typename T>\n",
    "void LinkedSeq<T>::insert(const T& elem, int index)\n",
    "{\n",
    "    if (index < 0 or index >= node_count) // could also say size()\n",
    "    {\n",
    "        throw std::out_of_range(\"LinkedSeq<T>::insert()\");\n",
    "    }\n",
    "    \n",
    "    // More function implementation\n",
    "}"
   ]
  },
  {
   "cell_type": "markdown",
   "id": "7e2532fc-562b-43ec-b75b-9543dd48e585",
   "metadata": {},
   "source": [
    "You should do that if statement above BEFORE WRITING ANYTHING ELSE IN YOUR CODE. \n",
    "\n",
    "Now if we try to write code like this:"
   ]
  },
  {
   "cell_type": "code",
   "execution_count": null,
   "id": "71cfa177-c6c3-427c-a3b6-f4028988c643",
   "metadata": {},
   "outputs": [],
   "source": [
    "void some_other_function()\n",
    "{\n",
    "    LinkedSeq<char> s;\n",
    "    \n",
    "    try\n",
    "    {\n",
    "        s.insert('a',1); //caught exception\n",
    "    }\n",
    "    \n",
    "    catch (std::out_of_range& ex)\n",
    "    {\n",
    "        cout << ex.what() << endl;\n",
    "    }\n",
    "    \n",
    "    // More function implementation\n",
    "}"
   ]
  },
  {
   "cell_type": "markdown",
   "id": "67585e43-aa5c-4afe-a7d4-84c3263c24b4",
   "metadata": {},
   "source": [
    "## Essential Operators\n",
    "\n",
    "There are various essential operators that we use in C++\n",
    "\n",
    "* constructors (both default `X()` and overloaded `X(some params)`) \n",
    "* destructors (`~X()`)\n",
    "* copy assignment (`X(const X& x)`)\n",
    "* move assignment (`X(X&& x)`)\n",
    "* copy assignment operator (`X& operator=(const X& x)`)\n",
    "* move assignment operator (`X& operator=(X&& x)`)\n",
    "\n",
    "\n",
    "> A **copy constructor** takes all of the values from `x2` and puts them into `x1`. \n",
    ">\n",
    "> A **move constructor** takes all of the values from `x2`, *deletes them*, and puts them into `x1`.\n",
    "\n",
    "Copy constructors can have problems because they tend to lead to *memory leaks* and *memory entanglement*"
   ]
  },
  {
   "cell_type": "markdown",
   "id": "0e3963ad-2981-485e-a9e9-155a70e8e083",
   "metadata": {},
   "source": [
    "## Default Copy Assignment"
   ]
  },
  {
   "cell_type": "code",
   "execution_count": null,
   "id": "9d286f9b-48f3-41cc-8a07-84c5f3d82bdf",
   "metadata": {},
   "outputs": [],
   "source": [
    "template<typename T>\n",
    "LinkedSeq<T>& operator=(const LinkedSeq<T>& rhs)\n",
    "{\n",
    "    if (this != rhs&)\n",
    "    {\n",
    "        // delete lhs (using make_empty())\n",
    "        // deep copy of rhs linked list\n",
    "    }\n",
    "    \n",
    "    return *this;\n",
    "}\n",
    "\n",
    "// Copy constructor implementation\n",
    "template<typename T>\n",
    "LinkedSeq<T>(const LinkedSeq<T>& rhs)\n",
    "{\n",
    "    *this = rhs;\n",
    "}"
   ]
  },
  {
   "cell_type": "markdown",
   "id": "149add41-f73c-4d62-bafc-614189544e97",
   "metadata": {},
   "source": [
    "The copy constructor then becomes really easy because we just call the copy assignment operator."
   ]
  },
  {
   "cell_type": "markdown",
   "id": "a6111515-7324-44b8-9a79-018e42f27e7a",
   "metadata": {},
   "source": [
    "## Move Assignment Operator\n",
    "\n",
    "The move assignment operator helps the compiler avoid using excessive copies. For example, if we have this function:\n",
    "\n",
    "```c++\n",
    "LinkedSeq<int> add_one(const LinkedSeq<int>& s)\n",
    "{\n",
    "    LinkedSeq<int> temp;\n",
    "    \n",
    "    for (int i = 0; i < s.size(); ++i)\n",
    "    {\n",
    "        temp.insert(s[i] + 1, i);\n",
    "    }\n",
    "    \n",
    "    return temp;\n",
    "}\n",
    "```\n",
    "\n",
    "When we try and call this function to initialize a new `LinkedSeq<int>`, the compiler will recognize that there is no reason for the orignial `LinkedSeq<int>` to exist because we only care about the ouput and not the original sequence. Therefore we don't need to make a copy - we can just move everything from the original sequence to the new sequence. For can force move assignment by using the `std::move()` function.\n",
    "\n",
    "The implementation of the move assignment operator is actually *simpler* that the copy assignment operator.\n",
    "\n",
    "1. Transfer data from RHS to LHS\n",
    "2. \"zero-out\" RHS (set pointers to `nullptr`)\n",
    "3. **IF THIS IS ASSIGNMENT**, then clear out the LHS before transferring the RHS to LHS\n",
    "\n",
    "The implementation is put below:"
   ]
  },
  {
   "cell_type": "code",
   "execution_count": null,
   "id": "e00a21e0-9da2-49bc-aec1-bef1f1a22445",
   "metadata": {},
   "outputs": [],
   "source": [
    "// Move constructor\n",
    "template<typename T>\n",
    "LinkedSeq<T>& LinkedSeq<T>::LinkedSeq(LinkedSeq<T>&& rhs)\n",
    "{\n",
    "    *this = std::move(rhs);\n",
    "}\n",
    "\n",
    "// Move assignment operator\n",
    "template<typename T>\n",
    "LinekdSeq<T>& LinkedSeq<T>::operator=(LinkedSeq<T>&& rhs)\n",
    "{\n",
    "    if (this != &rhs)\n",
    "    {\n",
    "        //empty lhs\n",
    "        make_empty(*this);\n",
    "        \n",
    "        //transfer\n",
    "        head = rhs.head;\n",
    "        tail = rhs.tail;\n",
    "        node_count = rhs.node_count;\n",
    "        \n",
    "        //zero-out\n",
    "        rhs.head = nullptr;\n",
    "        rhs.tail = nullptr;\n",
    "        node_count = 0;\n",
    "    }\n",
    "    \n",
    "    return *this;\n",
    "}"
   ]
  }
 ],
 "metadata": {
  "kernelspec": {
   "display_name": "C++14",
   "language": "C++14",
   "name": "xcpp14"
  },
  "language_info": {
   "codemirror_mode": "text/x-c++src",
   "file_extension": ".cpp",
   "mimetype": "text/x-c++src",
   "name": "c++",
   "version": "14"
  }
 },
 "nbformat": 4,
 "nbformat_minor": 5
}
