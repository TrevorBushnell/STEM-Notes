{
 "cells": [
  {
   "cell_type": "markdown",
   "id": "4e135d04-d62a-474f-8230-31ec187c50b8",
   "metadata": {},
   "source": [
    "# D: Complexity Analysis & Efficient Sorting"
   ]
  },
  {
   "cell_type": "markdown",
   "id": "fedb8032-ddae-452f-986e-b46dbb8fb48b",
   "metadata": {},
   "source": [
    "## About Complexity Analysis\n",
    "\n",
    "* When doing complexity analysis, we care about this input size $n$\n",
    "    * We analyze algorithms in terms of the size of their input (e.g. Sequence has $n$ elements)\n",
    "    * Reason for this is because most algorithms take longer to run as $n \\to \\infty$\n",
    "    \n",
    "* \"Worst/Best case analysis:\" Certain input patterns for any $n$ that take the most/least amount of time\n",
    "    * Usually Big-O notation talks about the worst case (but not always)\n",
    "    \n",
    "* \"Average case analysis:\" The average amount of time over all cases for all $n$\n",
    "    * Usually you have to figure out the distribution of cases to better understand your average case analysis\n",
    "    * We won't generally do this in this class\n",
    "    \n",
    "* \"Count primitive operations:\" instead of timing something, we look at the underlying assembly operations that make the algorithm happen and assume how long these assembly operations take\n",
    "    * What are the primitive operations?\n",
    "    * How many times do these operations happen?\n",
    "    * Gives a Normalized distribution which helps with analysis\n",
    "    * Count up the primitives $\\to$ create a formula $\\to$ mathematically analyze this formula"
   ]
  },
  {
   "cell_type": "markdown",
   "id": "bdd4ac79-71ba-4393-97a5-2fc032c30847",
   "metadata": {},
   "source": [
    "## Detailed Analysis\n",
    "\n",
    "> GOAL: Define a function $T(n)$ (typically piecewise) giving the number of steps/operations as a function on $n$\n",
    "\n",
    "Here's an example of an algorithm that we can analyze:"
   ]
  },
  {
   "cell_type": "code",
   "execution_count": 2,
   "id": "e7fef8c4-fefa-49a5-8bc6-d9c09af2383a",
   "metadata": {},
   "outputs": [],
   "source": [
    "// Function to see if the value target is in the array A\n",
    "bool member(const int A[], int size, int target)\n",
    "{\n",
    "    bool found = false; // flag variable\n",
    "    \n",
    "    for (int i = 0; i < size and !found; ++i)\n",
    "    {\n",
    "        if (A[i] == target)\n",
    "        {\n",
    "            found = true;\n",
    "        }\n",
    "    }\n",
    "    \n",
    "    return found;\n",
    "}"
   ]
  },
  {
   "cell_type": "markdown",
   "id": "29c31869-b2a5-45da-93f6-d48cff3bdc8f",
   "metadata": {},
   "source": [
    "For this algorithm, assume primitive operations:\n",
    "* assign/initialize = 1 operation\n",
    "* comparison = 1 operation\n",
    "* increment = 1 operation\n",
    "* array acces = 1 operation\n",
    "\n",
    "\n",
    "> Q: Is there a \"best\" and a \"worst\" case?\n",
    "\n",
    "* BEST CASE: `A[0] == target` so $T(n) \\ge c$ where $c$ is some constant\n",
    "* WORST CASE: `target` is not in `A`"
   ]
  }
 ],
 "metadata": {
  "kernelspec": {
   "display_name": "C++14",
   "language": "C++14",
   "name": "xcpp14"
  },
  "language_info": {
   "codemirror_mode": "text/x-c++src",
   "file_extension": ".cpp",
   "mimetype": "text/x-c++src",
   "name": "c++",
   "version": "14"
  }
 },
 "nbformat": 4,
 "nbformat_minor": 5
}
