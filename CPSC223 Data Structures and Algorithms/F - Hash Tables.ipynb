{
 "cells": [
  {
   "cell_type": "markdown",
   "id": "7d25ceec-4acd-4f30-a637-a4c3ede98c7a",
   "metadata": {},
   "source": [
    "# F - Hash Tables"
   ]
  },
  {
   "cell_type": "markdown",
   "id": "7822f246-5c1a-4103-a1be-ee6ca9137ede",
   "metadata": {},
   "source": [
    "* A **hash table** is a type of data structure for fast access (eg $O(1)$ time)\n",
    "* For a KV Map, this means potential performance gains for the following functions:\n",
    "    * `contains()`\n",
    "    * `erase()`\n",
    "    * `insert()`\n",
    "    * `operator[]()` (fetch/update)"
   ]
  },
  {
   "cell_type": "markdown",
   "id": "2184f47b-bb57-484d-9db2-fef0aa6fab6a",
   "metadata": {},
   "source": [
    "## The Basic Idea\n",
    "\n",
    "* Keep an array of elements (called \"buckets\")\n",
    "    * This array is called the *table*\n",
    "* define a \"hash function\" $h\\:\\::\\text{ key } \\implies \\text{ index}$\n",
    "    * this function has gotta be FAST in relation to the number of elements in the table with size $n$\n",
    "* each bucket is a linked list containing KV-pairs\n",
    "* the table is a resizable array"
   ]
  },
  {
   "cell_type": "markdown",
   "id": "d3ab3e62-b84d-4653-84a0-3250e2789477",
   "metadata": {},
   "source": [
    "## Examples of Hash Functions\n",
    "\n",
    "### Selecting Digits\n",
    "\n",
    "* select specific parts/digits of (integer) keys to use as the has value (index)\n",
    "* EX: 9-digit student IDs\n",
    "    * Let `h(k)` = the 4th and 9th digit\n",
    "    * `h(001364825) = 35`\n",
    "    * insert the KV-pair into the hash table at index 35\n",
    "* note that with strings you can get the ASCII representation of the string to do the same thing\n",
    "\n",
    "> Q: Is this a good has function?\n",
    "> * FAST: it's constant time both with respect to the size of the table *and* the size of the key\n",
    "> * EVENLY DISTRIBUTES: it depends on the keys being used and the size of the has table\n",
    ">    * the bigger your hash table the more empty buckets you have\n",
    "\n",
    "\n",
    "### Folding\n",
    "\n",
    "* add (sum) the digits of the key\n",
    "* 9 digit integer key, $\\therefore$ `h(k) = i_1 + i_2 + ... + i_n`\n",
    "\n",
    "> Q: Is this a good has function?\n",
    "> * FAST: it's slower than the last algorithm, but at least it's independent of the size of the table so still fast\n",
    "> * EVENLY DISTRIBUTES: this doesn't evenly distribute (if anything maybe it normally distributes? - would be curious to see that)\n",
    "\n",
    "### A Combination of the Previous Two\n",
    "\n",
    "* we could do a function where we multiply each cluster of three digits and then add them together, etc. etc.\n",
    "* a good hash function is a hash function that will give you a lot of different values\n",
    "\n",
    "\n",
    "### Modular Arithmetic\n",
    "\n",
    "* to deal with hash values outside of index range\n",
    "* `h(k) = f(k) % n` where `n` is equal to the table size\n",
    "\n",
    "\n",
    "### Weighted Sum\n",
    "\n",
    "* If our key is the string `\"note\"`, then `n + o + t + e = 78 + 79 + 84 + 69`\n",
    "* However, if our key is `\"tone\"`, then it has the same value as `\"note\"`\n",
    "* Therefore, multiply values at a given index by a certain constant\n",
    "* Still take the modulus at the end\n",
    "\n",
    "\n",
    "### Universal Hashing\n",
    "\n",
    "* Trying to find a hash function such that you are minimizing the probability of a collision\n",
    "    * So a hash function that satisfies $P(h(x) = h(y)) \\le \\frac{1}{n}$\n",
    "    * $h(x) = [(k \\cdot x + q) \\mod p] \\mod n$ where $k,q$ are random numbers, $p \\ge n$ and is prime"
   ]
  },
  {
   "cell_type": "markdown",
   "id": "bbedb2b7-db24-4d50-9a91-9d94314d5edb",
   "metadata": {},
   "source": [
    "## Hash Functions for the `HashMap`"
   ]
  },
  {
   "cell_type": "code",
   "execution_count": 2,
   "id": "65111bb2-ea2e-46e5-a995-42770449b3c2",
   "metadata": {},
   "outputs": [
    {
     "name": "stdout",
     "output_type": "stream",
     "text": [
      "The index is: 6\n"
     ]
    }
   ],
   "source": [
    "#include <functional>\n",
    "#include <iostream>\n",
    "\n",
    "std::hash<int> hash_fun;\n",
    "int code = hash_fun(238746); // just pressed random things on my keyboard for an example\n",
    "int index = code % 15; // replace the 15 with whatever the capacity of the hash table is\n",
    "std::cout << \"The index is: \" << index << std::endl;"
   ]
  },
  {
   "cell_type": "markdown",
   "id": "523559f6-2f28-4b23-abee-f1d0de209b92",
   "metadata": {},
   "source": [
    "## The Load Factor Threshold\n",
    "\n",
    "* Since we have a resizable array of linked lists, we can include an infinite number of elements without resizing. This means that we need a way to check for when we need to increase the size of the array. Therefore, we can use the load factor threshold to see when we need to resize the array. \n",
    "\n",
    "* The load factor threshold is ratio of the number of elements in the array divided by the capacity. \n",
    "\n",
    "* When you resize, you also need to rehash every element because the hashing depended on the capacity and we double the capacity when we resize"
   ]
  }
 ],
 "metadata": {
  "kernelspec": {
   "display_name": "C++14",
   "language": "C++14",
   "name": "xcpp14"
  },
  "language_info": {
   "codemirror_mode": "text/x-c++src",
   "file_extension": ".cpp",
   "mimetype": "text/x-c++src",
   "name": "c++",
   "version": "14"
  }
 },
 "nbformat": 4,
 "nbformat_minor": 5
}
