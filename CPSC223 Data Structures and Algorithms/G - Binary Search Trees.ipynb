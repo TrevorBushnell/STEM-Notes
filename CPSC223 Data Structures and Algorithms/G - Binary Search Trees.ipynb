{
 "cells": [
  {
   "cell_type": "markdown",
   "id": "eec34f42-2fae-448b-99bb-cc0eab0aedc6",
   "metadata": {},
   "source": [
    "# G - Binary Search Trees\n",
    "\n",
    "## Tree Terminology\n",
    "\n",
    "* A linked list is a \"linear\" structure, with the data starting on the left and spreading out to the right\n",
    "* A tree is a \"non-linear\" structure where every node has children that branch out from that node\n",
    "* We will be looking at **binary search trees** where every node can have *at most* two children.\n",
    "\n",
    "Here is an example tree:\n",
    "\n",
    "![Figure G.1: An example tree](images/a.png)\n",
    "\n",
    "\n",
    "Here are the components of that tree:\n",
    "* **root:** the highest level node\n",
    "    * the root node in this case would be 'd'\n",
    "* **parent node:** nodes that have at least 1 child\n",
    "    * the parent nodes are 'b', 'f', 'd'\n",
    "* **leaf node:** nodes that have no children\n",
    "    * the leaf nodes are 'a', 'c', 'e', 'g'\n",
    "* **internal node:** any node that is not a leaf node\n",
    "    * the internal nodes are 'd', 'b', and 'f'\n",
    "* **forest:** a collection of trees\n",
    "    * you could interpret that 'd' has two trees\n",
    "* **descendant/ancestor nodes:** nodes that have the same familial relationships\n",
    "    * 'a' is a descendant of 'd'\n",
    "    * 'd' is an ancestor of 'a'\n",
    "* **sibling nodes:** nodes that have the same parent\n",
    "    * 'a' and 'c' are sibling nodes\n",
    "* **path**: sequence of nodes\n",
    "    * **root to leaf path:** a path that starts at the root and goes to a leaf\n",
    "        * ex: $d \\to f \\to g \\to h$ is a valid root-to-leaf path\n",
    "    * **length:** the number of nodes in the path\n",
    "        * ex: the path $d \\to f \\to g \\to h$ has length 4\n",
    "    * **height:** the longest root-to-leaf path\n",
    "        * ex: the tree drawn above has a height of 4"
   ]
  },
  {
   "cell_type": "markdown",
   "id": "db260f2c-ff32-45bc-8d22-c04ce2f82856",
   "metadata": {},
   "source": [
    "## Computing the Height of a BST\n",
    "\n",
    "We can compute the height of a BST recursively by doing the following:\n",
    "\n",
    "$$\n",
    "\\text{height}(T) = \n",
    "\\begin{cases}\n",
    "    0 & T \\text{ is empty}\\\\\n",
    "    1 + \\max(\\text{height}(T_l), \\text{height}(T_r)) & \\text{ otherwise}\n",
    "\\end{cases}\n",
    "$$\n",
    "\n",
    "> Anytime you visit all of the nodes in a tree, you **HAVE** to use recursion"
   ]
  },
  {
   "cell_type": "markdown",
   "id": "3d8dd103-2943-4750-b969-acfc2c2ee693",
   "metadata": {},
   "source": [
    "## Binary Search Trees (BSTs)\n",
    "\n",
    "A Binary Search Tree has all of the components of a binary tree, however it adds the additional constraint:\n",
    "\n",
    "* FOR EACH NODE $n$ IN THE BST:\n",
    "    * If node $n_l$ is in the left subtree of $n$, then $\\text{key}(n_l) \\le \\text{key}(n)$\n",
    "    * If node $n_l$ is in the right subtree of $n$, then $\\text{key}(n_l) > \\text{key}(n)$\n",
    "    \n",
    "\n",
    "### The `contains` Function\n",
    "This means that `contains()` is super intuitive, because we can just use the rules of a BST to search for a node on the BST. This essentially just becomes binary search in a sense (hence the name Binary Search Tree)\n",
    "\n",
    "\n",
    "### The `insert` Function\n",
    "`insert` is very similar to contains. Iterate to a leaf using the rules of a BST and then add the new node according to the rules of a BST.\n",
    "\n",
    "**THE IDEA:**\n",
    "* Find where the key should be (kind of like `contains`...)\n",
    "* Insert in that location"
   ]
  },
  {
   "cell_type": "markdown",
   "id": "aef07479-4a5f-492f-bf3d-73cc3f24729e",
   "metadata": {},
   "source": [
    "## Traversing Nodes\n",
    "\n",
    "**Traversal** means doing something with a node. There's two major types of traversal:\n",
    "\n",
    "1. depth first search: top to botttom\n",
    "2. beadth first search: left to right\n",
    "\n",
    "\n",
    "There are three different ways that we can implement traversal:\n",
    "\n",
    "* Pre-order: + 3 4\n",
    "* In-order: 3 + 4\n",
    "* Post-order: 3 4 +\n",
    "\n",
    "Here is code for the pre-order traversal:"
   ]
  },
  {
   "cell_type": "code",
   "execution_count": null,
   "id": "b9a97f04-62bb-4898-ba34-91c737d2a4ee",
   "metadata": {},
   "outputs": [],
   "source": [
    "void preorder(const Node* st_root)\n",
    "{\n",
    "    if (!st_root) // Base case\n",
    "    {\n",
    "        return;\n",
    "    }\n",
    "    \n",
    "    // ... visit ...\n",
    "    \n",
    "    preorder(st_root->left);\n",
    "    preorder(st_root->right);\n",
    "}"
   ]
  },
  {
   "cell_type": "markdown",
   "id": "a0b24f3f-5687-4a51-8493-926623596027",
   "metadata": {},
   "source": [
    "Here is the code for the in-order traversal:"
   ]
  },
  {
   "cell_type": "code",
   "execution_count": null,
   "id": "9f6739df-c47b-425a-9c64-85aad6268269",
   "metadata": {},
   "outputs": [],
   "source": [
    "void inorder(const Node* st_root)\n",
    "{\n",
    "    if (!st_root) // Base case\n",
    "    {\n",
    "        return;\n",
    "    }\n",
    "    \n",
    "    inorder(st_root->left);\n",
    "    \n",
    "    // ... visit ...\n",
    "    \n",
    "    inorder(st_root->right);\n",
    "}"
   ]
  },
  {
   "cell_type": "markdown",
   "id": "7ae25a7f-922c-42f6-b975-3394482827bc",
   "metadata": {},
   "source": [
    "When `sort_keys` is implemented, it will be implemented in the homework using `inorder`.\n",
    "\n",
    "The code for post order looks like the following:"
   ]
  },
  {
   "cell_type": "code",
   "execution_count": null,
   "id": "ed980c47-1031-44e7-b97b-13c670db7363",
   "metadata": {},
   "outputs": [],
   "source": [
    "void postorder(const Node* st_root)\n",
    "{\n",
    "    if (!st_root) // Base case\n",
    "    {\n",
    "        return;\n",
    "    }\n",
    "    \n",
    "    postorder(st_root->left);\n",
    "    postorder(st_root->right);\n",
    "    \n",
    "    // ... visit ...\n",
    "}"
   ]
  },
  {
   "cell_type": "markdown",
   "id": "71438c44-a850-4043-88fb-5465a923f9c0",
   "metadata": {},
   "source": [
    "## AVL Trees\n",
    "\n",
    "> **Basic Idea of AVL Trees:**\n",
    ">\n",
    "> 1. calculate the balance factor (height(left) - height(right)) for each node\n",
    ">     * we will keep the height of each node \n",
    "> 2. after each insertion and removal, we will do tree rotations as needed\n",
    "> 3. rotations are performed \"up the tree\"\n",
    "\n",
    "\n",
    "### General Case for a Left-Left Case\n",
    "* insertion happened in the *left* subtree of the *left* child\n",
    "* do a single right rotation"
   ]
  },
  {
   "cell_type": "code",
   "execution_count": null,
   "id": "5face2d2-8b19-440e-a1e0-cb168413c396",
   "metadata": {},
   "outputs": [],
   "source": [
    "// return new subtree root after rotation\n",
    "Node* rotate_right(Node* k2)\n",
    "{\n",
    "    Node* k1 = k2->left;\n",
    "    k2->left = k1->right;\n",
    "    k1->right = k2;\n",
    "    return k1;\n",
    "}"
   ]
  },
  {
   "cell_type": "markdown",
   "id": "442e6611-7d5f-42af-b6d7-6adebdd34635",
   "metadata": {},
   "source": [
    "### General Case for a Right-Right Case\n",
    "\n",
    "* insertion happened in the *right* subtree of the *right* child\n",
    "* do a single left rotation"
   ]
  },
  {
   "cell_type": "code",
   "execution_count": null,
   "id": "61be6944-b339-4bce-ae66-69d50c5ea9be",
   "metadata": {},
   "outputs": [],
   "source": [
    "// return new subtree root after rotation\n",
    "Node* rotate_left(Node* k2)\n",
    "{\n",
    "    Node* k1 = k2->right;\n",
    "    k2->right = k1->left;\n",
    "    k1->left = k2;\n",
    "    return k1;\n",
    "}"
   ]
  },
  {
   "cell_type": "markdown",
   "id": "3f872fcd-2995-4cc6-a0ac-4b9a55da5d02",
   "metadata": {},
   "source": [
    "### General Case for a Left-Right Case\n",
    "* insertion happedn in the *left* subtree of the *right* child\n",
    "* do a left rotation on k1 and then do a right rotation on k2"
   ]
  },
  {
   "cell_type": "code",
   "execution_count": null,
   "id": "11e354f0-ecc2-4f21-89ae-28710e9a7ac6",
   "metadata": {},
   "outputs": [],
   "source": [
    "// return new subtree after rotation\n",
    "Node* rotate_left_right(Node* k2)\n",
    "{\n",
    "    rotate_left(k2->left);\n",
    "    rotate_right(k2);\n",
    "    return k2;\n",
    "}"
   ]
  },
  {
   "cell_type": "markdown",
   "id": "b278a4c9-b093-4138-8485-c0fbb78a9571",
   "metadata": {},
   "source": [
    "### General Case for a Right-Left Case\n",
    "\n",
    "* insertion happened in the *right* subtree of the *left* child\n",
    "* do a right rotation on k1 and then do a left rotation on k2"
   ]
  },
  {
   "cell_type": "code",
   "execution_count": null,
   "id": "6d77464b-f3b4-4026-88d2-195228baea55",
   "metadata": {},
   "outputs": [],
   "source": [
    "// return new subtree after rotation\n",
    "Node* rotate_left_right(Node* k2)\n",
    "{\n",
    "    rotate_right(k2->right);\n",
    "    rotate_left(k2);\n",
    "    return k2;\n",
    "}"
   ]
  },
  {
   "cell_type": "markdown",
   "id": "d516d3fb-17fa-4e15-9413-3185d010c9da",
   "metadata": {},
   "source": [
    "## New `insert` Challenge\n",
    "\n",
    "We now need to make `insert` recursive for this to work\n",
    "\n",
    "1. Recursively traverse path for insertion\n",
    "1. Insert the new node\n",
    "1. During the backtracking, update the heights\n",
    "1. Rebalance as needed"
   ]
  },
  {
   "cell_type": "code",
   "execution_count": null,
   "id": "2c14d379-9d7c-48f4-ab11-6f551bc51c64",
   "metadata": {},
   "outputs": [],
   "source": [
    "Node* insert(Node* st_root, const K& key, const V& val)\n",
    "{\n",
    "    if (!st_root)\n",
    "    {\n",
    "        // create the new with the key and the value\n",
    "        Node* new_node = new Node(key, val, nullptr, nullptr, 1);\n",
    "    }\n",
    "    \n",
    "    else\n",
    "    {\n",
    "        if (key < st_root->key)\n",
    "        {\n",
    "            st_root->left = insert(st_root->left, key, val);\n",
    "        }\n",
    "        \n",
    "        else\n",
    "        {\n",
    "            st_root->right = insert(st_root->right, key, val);\n",
    "        }\n",
    "        \n",
    "        // backtracking\n",
    "        \n",
    "        // update the height of the subtree root if needed\n",
    "    }\n",
    "    \n",
    "    return rebalance(st_root); // this is also in the backtracking stage\n",
    "}    "
   ]
  },
  {
   "cell_type": "code",
   "execution_count": null,
   "id": "61b85993-32d1-4e03-a8be-15a3dd70b8df",
   "metadata": {},
   "outputs": [],
   "source": [
    "void rebalance(Node* st_root)\n",
    "{\n",
    "    Node* lptr = st_root->left;\n",
    "    Node* rptr = st_root->right;\n",
    "    \n",
    "    // LEFT BUT NO RIGHT CHECK\n",
    "    if (lptr and !rptr and lptr->height > 1)\n",
    "    {\n",
    "        // which relabance case is this?\n",
    "        // do rotation depending on the case\n",
    "        // update the heights\n",
    "    }\n",
    "    \n",
    "    // RIGHT BUT NO LEFT CHECK\n",
    "    else if (rptr and !lptr and rptr->height > 1)\n",
    "    {\n",
    "        // which rebalance case is this?\n",
    "        // do rotation depending on the case\n",
    "        // update the heights\n",
    "    }\n",
    "    \n",
    "    // LEFT AND RIGHT \"LEFT HEAVY\"\n",
    "    else if ()\n",
    "    {\n",
    "    }\n",
    "    \n",
    "    // LEFT AND RIGHT \"RIGHT HEAVY\"\n",
    "    else if ()\n",
    "    {\n",
    "    }\n",
    "    \n",
    "    return st_root;\n",
    "}"
   ]
  },
  {
   "cell_type": "markdown",
   "id": "8c007518-6afd-4f68-92ef-ad94ee7b769b",
   "metadata": {},
   "source": [
    "## Some Closing Thoughts...\n",
    "\n",
    "* We can still become unbalanced when we erase\n",
    "* When we erase, we will also need to update the height\n",
    "* you will always need to rebalance at the end\n",
    "\n",
    "The erase algorithm also changes slightly... we can do it all recursively now!\n",
    "* find the inorder successor and swap and delete\n",
    "* this will allow the backtracking to be easier"
   ]
  }
 ],
 "metadata": {
  "kernelspec": {
   "display_name": "C++14",
   "language": "C++14",
   "name": "xcpp14"
  },
  "language_info": {
   "codemirror_mode": "text/x-c++src",
   "file_extension": ".cpp",
   "mimetype": "text/x-c++src",
   "name": "c++",
   "version": "14"
  }
 },
 "nbformat": 4,
 "nbformat_minor": 5
}
