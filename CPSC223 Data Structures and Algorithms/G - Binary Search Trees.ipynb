{
 "cells": [
  {
   "cell_type": "markdown",
   "id": "eec34f42-2fae-448b-99bb-cc0eab0aedc6",
   "metadata": {},
   "source": [
    "# G - Binary Search Trees\n",
    "\n",
    "## Tree Terminology\n",
    "\n",
    "* A linked list is a \"linear\" structure, with the data starting on the left and spreading out to the right\n",
    "* A tree is a \"non-linear\" structure where every node has children that branch out from that node\n",
    "* We will be looking at **binary search trees** where every node can have *at most* two children.\n",
    "\n",
    "Here is an example tree:\n",
    "\n",
    "![Figure G.1: An example tree](images/a.png)\n",
    "\n",
    "\n",
    "Here are the components of that tree:\n",
    "* **root:** the highest level node\n",
    "    * the root node in this case would be 'd'\n",
    "* **parent node:** nodes that have at least 1 child\n",
    "    * the parent nodes are 'b', 'f', 'd'\n",
    "* **leaf node:** nodes that have no children\n",
    "    * the leaf nodes are 'a', 'c', 'e', 'g'\n",
    "* **internal node:** any node that is not a leaf node\n",
    "    * the internal nodes are 'd', 'b', and 'f'\n",
    "* **forest:** a collection of trees\n",
    "    * you could interpret that 'd' has two trees\n",
    "* **descendant/ancestor nodes:** nodes that have the same familial relationships\n",
    "    * 'a' is a descendant of 'd'\n",
    "    * 'd' is an ancestor of 'a'\n",
    "* **sibling nodes:** nodes that have the same parent\n",
    "    * 'a' and 'c' are sibling nodes\n",
    "* **path**: sequence of nodes\n",
    "    * **root to leaf path:** a path that starts at the root and goes to a leaf\n",
    "        * ex: $d \\to f \\to g \\to h$ is a valid root-to-leaf path\n",
    "    * **length:** the number of nodes in the path\n",
    "        * ex: the path $d \\to f \\to g \\to h$ has length 4\n",
    "    * **height:** the longest root-to-leaf path\n",
    "        * ex: the tree drawn above has a height of 4"
   ]
  },
  {
   "cell_type": "markdown",
   "id": "db260f2c-ff32-45bc-8d22-c04ce2f82856",
   "metadata": {},
   "source": [
    "## Computing the Height of a BST\n",
    "\n",
    "We can compute the height of a BST recursively by doing the following:\n",
    "\n",
    "$$\n",
    "\\text{height}(T) = \n",
    "\\begin{cases}\n",
    "    0 & T \\text{ is empty}\\\\\n",
    "    1 + \\max(\\text{height}(T_l), \\text{height}(T_r)) & \\text{ otherwise}\n",
    "\\end{cases}\n",
    "$$\n",
    "\n",
    "> Anytime you visit all of the nodes in a tree, you **HAVE** to use recursion"
   ]
  },
  {
   "cell_type": "markdown",
   "id": "3d8dd103-2943-4750-b969-acfc2c2ee693",
   "metadata": {},
   "source": [
    "## Binary Search Trees (BSTs)\n",
    "\n",
    "A Binary Search Tree has all of the components of a binary tree, however it adds the additional constraint:\n",
    "\n",
    "* FOR EACH NODE $n$ IN THE BST:\n",
    "    * If node $n_l$ is in the left subtree of $n$, then $\\text{key}(n_l) \\le \\text{key}(n)$\n",
    "    * If node $n_l$ is in the right subtree of $n$, then $\\text{key}(n_l) > \\text{key}(n)$\n",
    "    \n",
    "\n",
    "### The `contains` Function\n",
    "This means that `contains()` is super intuitive, because we can just use the rules of a BST to search for a node on the BST. This essentially just becomes binary search in a sense (hence the name Binary Search Tree)\n",
    "\n",
    "\n",
    "### The `insert` Function\n",
    "`insert` is very similar to contains. Iterate to a leaf using the rules of a BST and then add the new node according to the rules of a BST.\n",
    "\n",
    "**THE IDEA:**\n",
    "* Find where the key should be (kind of like `contains`...)\n",
    "* Insert in that location"
   ]
  },
  {
   "cell_type": "markdown",
   "id": "aef07479-4a5f-492f-bf3d-73cc3f24729e",
   "metadata": {},
   "source": [
    "## Traversing Nodes\n",
    "\n",
    "**Traversal** means doing something with a node. There's two major types of traversal:\n",
    "\n",
    "1. depth first search: top to botttom\n",
    "2. beadth first search: left to right\n",
    "\n",
    "\n",
    "There are three different ways that we can implement traversal:\n",
    "\n",
    "* Pre-order: + 3 4\n",
    "* In-order: 3 + 4\n",
    "* Post-order: 3 4 +\n",
    "\n",
    "Here is code for the pre-order traversal:"
   ]
  },
  {
   "cell_type": "code",
   "execution_count": null,
   "id": "b9a97f04-62bb-4898-ba34-91c737d2a4ee",
   "metadata": {},
   "outputs": [],
   "source": [
    "void preorder(const Node* st_root)\n",
    "{\n",
    "    if (!st_root) // Base case\n",
    "    {\n",
    "        return;\n",
    "    }\n",
    "    \n",
    "    // ... visit ...\n",
    "    \n",
    "    preorder(st_root->left);\n",
    "    preorder(st_root->right);\n",
    "}"
   ]
  },
  {
   "cell_type": "markdown",
   "id": "a0b24f3f-5687-4a51-8493-926623596027",
   "metadata": {},
   "source": [
    "Here is the code for the in-order traversal:"
   ]
  },
  {
   "cell_type": "code",
   "execution_count": null,
   "id": "9f6739df-c47b-425a-9c64-85aad6268269",
   "metadata": {},
   "outputs": [],
   "source": [
    "void inorder(const Node* st_root)\n",
    "{\n",
    "    if (!st_root) // Base case\n",
    "    {\n",
    "        return;\n",
    "    }\n",
    "    \n",
    "    inorder(st_root->left);\n",
    "    \n",
    "    // ... visit ...\n",
    "    \n",
    "    inorder(st_root->right);\n",
    "}"
   ]
  },
  {
   "cell_type": "markdown",
   "id": "7ae25a7f-922c-42f6-b975-3394482827bc",
   "metadata": {},
   "source": [
    "When `sort_keys` is implemented, it will be implemented in the homework using `inorder`.\n",
    "\n",
    "The code for post order looks like the following:"
   ]
  },
  {
   "cell_type": "code",
   "execution_count": null,
   "id": "ed980c47-1031-44e7-b97b-13c670db7363",
   "metadata": {},
   "outputs": [],
   "source": [
    "void postorder(const Node* st_root)\n",
    "{\n",
    "    if (!st_root) // Base case\n",
    "    {\n",
    "        return;\n",
    "    }\n",
    "    \n",
    "    postorder(st_root->left);\n",
    "    postorder(st_root->right);\n",
    "    \n",
    "    // ... visit ...\n",
    "}"
   ]
  }
 ],
 "metadata": {
  "kernelspec": {
   "display_name": "C++14",
   "language": "C++14",
   "name": "xcpp14"
  },
  "language_info": {
   "codemirror_mode": "text/x-c++src",
   "file_extension": ".cpp",
   "mimetype": "text/x-c++src",
   "name": "c++",
   "version": "14"
  }
 },
 "nbformat": 4,
 "nbformat_minor": 5
}
