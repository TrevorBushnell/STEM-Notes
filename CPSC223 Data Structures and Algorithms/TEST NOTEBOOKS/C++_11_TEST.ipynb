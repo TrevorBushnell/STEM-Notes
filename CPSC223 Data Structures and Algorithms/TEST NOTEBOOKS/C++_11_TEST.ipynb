{
 "cells": [
  {
   "cell_type": "markdown",
   "id": "47d4b474-dbdd-4a89-b754-2a609ebebdcf",
   "metadata": {},
   "source": [
    "# Testing Jupyter Notebooks in C++ 11\n",
    "\n",
    "Testing a notebook in C++ 11"
   ]
  },
  {
   "cell_type": "code",
   "execution_count": 1,
   "id": "df895153-a1a3-45a8-8617-3824030d72ac",
   "metadata": {},
   "outputs": [],
   "source": [
    "#include <iostream>"
   ]
  },
  {
   "cell_type": "code",
   "execution_count": 2,
   "id": "7e34e4ce-ecb1-4fa1-b020-d9cf14f7eb9e",
   "metadata": {},
   "outputs": [],
   "source": [
    "using namespace std;"
   ]
  },
  {
   "cell_type": "code",
   "execution_count": 3,
   "id": "8e0b7be7-c3d1-4aef-b4a5-ba0b6890ba84",
   "metadata": {},
   "outputs": [
    {
     "name": "stdout",
     "output_type": "stream",
     "text": [
      "Hello world\n"
     ]
    }
   ],
   "source": [
    "cout << \"Hello world\" << endl;"
   ]
  },
  {
   "cell_type": "code",
   "execution_count": 5,
   "id": "7b0e6952-5014-4701-916d-74875175acca",
   "metadata": {},
   "outputs": [
    {
     "name": "stdout",
     "output_type": "stream",
     "text": [
      "YOOOOOOOOOOOOOOOOO IT'S WORKING!!!!!\n"
     ]
    }
   ],
   "source": [
    "cout << \"YOOOOOOOOOOOOOOOOO IT'S WORKING!!!!!\" << endl;"
   ]
  }
 ],
 "metadata": {
  "kernelspec": {
   "display_name": "C++11",
   "language": "C++11",
   "name": "xcpp11"
  },
  "language_info": {
   "codemirror_mode": "text/x-c++src",
   "file_extension": ".cpp",
   "mimetype": "text/x-c++src",
   "name": "c++",
   "version": "11"
  }
 },
 "nbformat": 4,
 "nbformat_minor": 5
}
