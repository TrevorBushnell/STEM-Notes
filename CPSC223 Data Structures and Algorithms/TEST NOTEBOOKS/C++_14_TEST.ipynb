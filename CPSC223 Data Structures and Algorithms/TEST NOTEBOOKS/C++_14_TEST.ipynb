{
 "cells": [
  {
   "cell_type": "markdown",
   "id": "931616bd-5a2e-4228-a5bb-c30804277faf",
   "metadata": {},
   "source": [
    "# Testing Notebooks in C++ 14\n",
    "\n",
    "Test notebook to see if I can get basic things working in C++ 14."
   ]
  },
  {
   "cell_type": "code",
   "execution_count": 1,
   "id": "01e8c96f-14f7-4078-85b6-df7908f75538",
   "metadata": {},
   "outputs": [],
   "source": [
    "#include <iostream>\n",
    "using namespace std;"
   ]
  },
  {
   "cell_type": "code",
   "execution_count": 3,
   "id": "31bd177c-864f-40ff-a15b-b67f357c0963",
   "metadata": {},
   "outputs": [
    {
     "name": "stdout",
     "output_type": "stream",
     "text": [
      "Hello world\n"
     ]
    }
   ],
   "source": [
    "cout << \"Hello world\" << endl;"
   ]
  },
  {
   "cell_type": "code",
   "execution_count": 4,
   "id": "cdf67fa2-965d-46df-9846-d7b0e73a7a6d",
   "metadata": {},
   "outputs": [
    {
     "name": "stdout",
     "output_type": "stream",
     "text": [
      "C++14 seems to be working too!\n"
     ]
    }
   ],
   "source": [
    "cout << \"C++14 seems to be working too!\" << endl;"
   ]
  }
 ],
 "metadata": {
  "kernelspec": {
   "display_name": "C++14",
   "language": "C++14",
   "name": "xcpp14"
  },
  "language_info": {
   "codemirror_mode": "text/x-c++src",
   "file_extension": ".cpp",
   "mimetype": "text/x-c++src",
   "name": "c++",
   "version": "14"
  }
 },
 "nbformat": 4,
 "nbformat_minor": 5
}
