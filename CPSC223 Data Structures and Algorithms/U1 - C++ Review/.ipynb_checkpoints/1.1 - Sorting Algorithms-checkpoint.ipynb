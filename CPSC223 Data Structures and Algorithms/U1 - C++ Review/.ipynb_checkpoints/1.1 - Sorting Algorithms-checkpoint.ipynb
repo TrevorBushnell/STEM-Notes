{
 "cells": [
  {
   "cell_type": "markdown",
   "id": "53fc49f9-89aa-4604-8d51-7535b6d3fd90",
   "metadata": {},
   "source": [
    "# 1.1: Sorting Algorithms\n",
    "\n",
    "There are various different basic sorting algorithms that are important to know going into this class. We will go over the three basic ones and implement the C++ code for them here."
   ]
  },
  {
   "cell_type": "markdown",
   "id": "3f8e79c3-4876-4e37-acb4-b648451627a2",
   "metadata": {},
   "source": [
    "## Helpful Packages\n",
    "\n",
    "Here is the code for importing any packages that we will find useful with these notes:"
   ]
  },
  {
   "cell_type": "code",
   "execution_count": 1,
   "id": "4b5180e5-45de-4197-95bf-12eb5420c674",
   "metadata": {},
   "outputs": [],
   "source": [
    "#include <iostream>\n",
    "\n",
    "using namespace std;"
   ]
  },
  {
   "cell_type": "markdown",
   "id": "47b480e9-e39a-45b8-a12a-849ffca19968",
   "metadata": {},
   "source": [
    "## The Swapping Algorithm\n",
    "\n",
    "These algorithms rely on swapping around values. As such, it is important to be able to have an algorithm to swap two values so we don't have to do this over and over again. Luckily we have the code for this here:"
   ]
  },
  {
   "cell_type": "code",
   "execution_count": 2,
   "id": "6fb0b7b3-da81-4b4b-b120-720a62a004aa",
   "metadata": {},
   "outputs": [],
   "source": [
    "// A function that will swap two values\n",
    "void swap(int& x, int& y)\n",
    "{\n",
    "    int temp = x;\n",
    "    x = y;\n",
    "    y = temp;\n",
    "}"
   ]
  },
  {
   "cell_type": "markdown",
   "id": "6e4c04cd-f9e6-412f-93b9-94ea77e331ef",
   "metadata": {},
   "source": [
    "## Selection Sort\n",
    "\n",
    "Selection sort is a sorting algorithm that splits the array into two parts - a sorted section and an unsorted section. Initially all elements are in the unsorted section. Then, the algorithm finds the smallest value in the unsorted section and puts it in the sorted section. This repeats until the entire array is sorted. \n",
    "\n",
    "\n",
    "> **Selection Sort Algorithm:**\n",
    "> \n",
    "> 1. SELECT: Find the smallest value in the unsorted array\n",
    "> 2. SWAP: Swap the smallest value in the unsorted array with the first element in the unsorted array (which will then cause the sorted array to grow by 1 and the unsorted array to shrink by 1).\n",
    "> 3. REPEAT: Repeat until there is 1 element left in the sorted array. \n",
    "\n",
    "This algorithm takes $n-1$ passes to work, where $n$ is the length of the array. This is because we stop the algorithm when there is 1 element left in the unsorted array because we know that a 1-element array must be sorted. \n",
    "\n",
    "The code for selection sort can be found below:"
   ]
  },
  {
   "cell_type": "code",
   "execution_count": 3,
   "id": "0d006a65-9217-44d5-a195-7fc4bb9287b6",
   "metadata": {},
   "outputs": [],
   "source": [
    "void selection_sort(int array[], int length)\n",
    "{\n",
    "    for (int i = 0; i < length - 1; ++i) // i < length means iterate to the end of the array but i < length - 1 accounts for the stopping when 1 element in unsorted array\n",
    "    {\n",
    "        int min_index = i; // set the initial minimum to the first value in the unsorted array\n",
    "        \n",
    "        for (int j = i; j < length; ++j) // Iterate through the entire unsorted array\n",
    "        {\n",
    "            if (array[j] < array[min_index])\n",
    "            {\n",
    "                min_index = j;\n",
    "            }\n",
    "        }\n",
    "        \n",
    "        swap(array[i], array[min_index]);\n",
    "    }\n",
    "}"
   ]
  },
  {
   "cell_type": "markdown",
   "id": "5c1413a9-e066-4e14-9838-24bf311d75bf",
   "metadata": {},
   "source": [
    "## Insertion Sort\n",
    "\n",
    "Insertion sort is like the opposite of selection sort. You instead start with 1 element in the sorted array section. Then you pick the first element in the unsorted array and go through the sorted array until you find where that element belongs in the sorted array. It is important that you write code to **shift rather than swap** because shifting is more efficient because shifting requires less operations.\n",
    "\n",
    "> **Insertion Sort Algorithm:**\n",
    ">\n",
    "> 1. SELECT: Find the first item in the unsorted region\n",
    "> 2. INSERT: Put this item into the correct spot in the sorted region\n",
    "> 3. REPEAT: Repeat until the unsorted region is empty\n",
    "\n",
    "This algorithm still takes $n-1$ passes to work, where $n$ is the length of the array. The reason for this is beacause even though we go to the end of the array, we already start with one element in the sorted array. \n",
    "\n",
    "The code for this can be found below:"
   ]
  },
  {
   "cell_type": "code",
   "execution_count": 4,
   "id": "50c2034a-b612-421f-ae92-f396bff9ad6d",
   "metadata": {},
   "outputs": [],
   "source": [
    "void insertion_sort(int array[], int length)\n",
    "{\n",
    "    for (int i = 1; i < length; ++i)\n",
    "    {\n",
    "        int value = array[i];\n",
    "        int j = i;\n",
    "\n",
    "        while (j > 0 && array[j - 1] > value)\n",
    "        {\n",
    "            array[j] = array[j-1];\n",
    "            j = j - 1;\n",
    "        }\n",
    "\n",
    "        array[j] = value;\n",
    "    }\n",
    "}"
   ]
  },
  {
   "cell_type": "markdown",
   "id": "9faa50f5-971a-49ce-93b9-ad3e7929374f",
   "metadata": {},
   "source": [
    "## Bubble Sort\n",
    "\n",
    "Bubble sort is a unique algorithm. The way bubble sort works is you go through the entire array comparing elements that are directly next to each other. If the element on the left is bigger than the element on the right, then you swap the elements. You repeat until the entire array is sorted. \n",
    "\n",
    "The perk to this sorting algorithm is that there is a **short circuit**. This means that the algorithm can stop EARLY if you know the array is already sorted. The short circuit for this algorithm has to do with the number of swaps that occur. If the algorithm makes one pass and never swaps any two elements, then this means that the elements MUST be in sorted order because the algorithm will only swap elements if they are out of order. As such, you can create a boolean flag variable that checks whether any swaps have occurred. \n",
    "\n",
    "> **Bubble Sort Algorithm:**\n",
    ">\n",
    "> 1. COMPARE: Compare adjacent list items\n",
    "> 2. SWAP: If they are out of order, swap the values\n",
    "> 3. REPEAT: Repeat until EITHER you went through a pass without making any swaps OR you reach the end of the array\n",
    "\n",
    "This algorithm takes anywhere from $1$ to $n-1$ passes where $n$ is the length of the array. The reason it varies is because the algorithm could short circuit if the array is already sorted, it could not short circuit, or it could short circuit somewhere in between.\n",
    "\n",
    "The code for this algorithm can be found below:"
   ]
  },
  {
   "cell_type": "code",
   "execution_count": 5,
   "id": "0b9a5188-edcd-48e8-875b-779ae977db59",
   "metadata": {},
   "outputs": [],
   "source": [
    "void bubble_sort(int array[], int length)\n",
    "{\n",
    "    bool is_sorted = false;\n",
    "  \n",
    "    for (int i = 0; i < length - 1; ++i)\n",
    "    {\n",
    "        if (!is_sorted)\n",
    "        {\n",
    "            is_sorted = true;\n",
    "\n",
    "            for (int j = 1; j < length - i; ++j)\n",
    "            {\n",
    "                if (array[j - 1] > array[j])\n",
    "                {\n",
    "                    swap(array[j-1], array[j]);\n",
    "                    is_sorted = false;\n",
    "                }\n",
    "            }\n",
    "        }\n",
    "    }\n",
    "}"
   ]
  }
 ],
 "metadata": {
  "kernelspec": {
   "display_name": "C++14",
   "language": "C++14",
   "name": "xcpp14"
  },
  "language_info": {
   "codemirror_mode": "text/x-c++src",
   "file_extension": ".cpp",
   "mimetype": "text/x-c++src",
   "name": "c++",
   "version": "14"
  }
 },
 "nbformat": 4,
 "nbformat_minor": 5
}
