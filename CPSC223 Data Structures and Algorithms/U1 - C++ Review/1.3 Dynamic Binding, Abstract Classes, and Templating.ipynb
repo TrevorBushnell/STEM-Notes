{
 "cells": [
  {
   "cell_type": "markdown",
   "id": "532e0dcc-e402-4725-b1c3-06491b844dd6",
   "metadata": {},
   "source": [
    "# 1.3 Dynamic Binding, Abstract Classes, and Templating\n",
    "\n",
    "## Dynamic Binding\n",
    "\n",
    "We will be implementing a **sequence** ADT. A sequence is an *ordered collection of values* which are ordered by position (0-indexed) and duplicates are allowed. \n",
    "\n",
    "We should implement this sequence in the following way:"
   ]
  },
  {
   "cell_type": "code",
   "execution_count": 4,
   "id": "1ab648f8-13b0-428a-b5a2-cb0aa2d91c0e",
   "metadata": {},
   "outputs": [],
   "source": [
    "class Sequence\n",
    "{\n",
    "    public:\n",
    "        // Basic functions\n",
    "        int size() const;\n",
    "        bool is_empty() const;\n",
    "    \n",
    "        // Operator overloaded functions to add/remove elements from the sequence\n",
    "        int& operator[](int index);\n",
    "        const int& operator[](int index) const;\n",
    "    \n",
    "        // Functions to add/remove values from the sequence\n",
    "        void insert(int element, int index);\n",
    "        void erase(int index);\n",
    "        bool contains(int element) const;\n",
    "};"
   ]
  },
  {
   "cell_type": "code",
   "execution_count": 5,
   "id": "550bcd19-2f43-464f-bc09-fb22c0493669",
   "metadata": {},
   "outputs": [],
   "source": [
    "class LinkedSequence : public Sequence\n",
    "{\n",
    "    public:\n",
    "    // constructors, destructors, ...\n",
    "    //overriden functions\n",
    "    \n",
    "    private:\n",
    "        struct Node\n",
    "        {\n",
    "            int value;\n",
    "            Node* next;\n",
    "        };\n",
    "        \n",
    "        Node* head;\n",
    "        Node* tail;\n",
    "        int length;\n",
    "};"
   ]
  },
  {
   "cell_type": "markdown",
   "id": "7daf9383-25de-4e5e-b172-388e67dc447f",
   "metadata": {},
   "source": [
    "This implementation above is **not a good implementation**, and here is an example why:\n",
    "\n",
    "Suppose that we define the following function:\n",
    "\n",
    "```c++\n",
    "void insert_in_front(const Sequence& s2, int val)\n",
    "{\n",
    "    s2.insert(val, 0);\n",
    "}\n",
    "```\n",
    "\n",
    "And then we write this in our main file later on:\n",
    "\n",
    "```c++\n",
    "LinkedSeq s1;\n",
    "s1.insert(20,0);\n",
    "insert_in_front(s1, 42);\n",
    "```\n",
    "\n",
    "Or we write this code:\n",
    "```c++\n",
    "LinkedSeq s1;\n",
    "s1.insert(20,0);\n",
    "\n",
    "Sequence& s2 = s1;\n",
    "s2.insert(42,0);\n",
    "```\n",
    "\n",
    "This uses **static binding** which means that when these functions are called, the `insert()` function that is called is the `Sequence`'s `insert()` function. As such, we need to go into our code and tell C++ which functions need **dynamic binding** (checking type at runtime) using the `virtual` keyword. You will also need to use the `override` keyword in the subclass for every function that is `virtual` in the parent class."
   ]
  },
  {
   "cell_type": "markdown",
   "id": "d512d6f2-0eb5-49b4-8d34-24cbb570b62c",
   "metadata": {},
   "source": [
    "## Abstract Classes\n",
    "\n",
    "When we write classes in C++, C++ wants us to give a definition for any functions we create. But in our case, we don't WANT to create definitions for the Sequence class. We want to write our definitions in our sub-classes. This makes the Sequence class the **abstract class** - basically a class that has a bunch of functions that we will implement in the subclasses. This is very similar to an *interface* in Java. \n",
    "\n",
    "> **Abstract Class**: a class w/ at least one *pure virtual* function\n",
    ">\n",
    "> **Concrete Class**: a class w/ no *pure virtual* functions\n",
    "\n",
    "To create an abstract class, go to your class definition/header file. For every function that you want to make abstract, set the function equal to 0 (so for example `test_function() = 0`). "
   ]
  },
  {
   "cell_type": "markdown",
   "id": "4a1ee8f8-a896-490b-9ec0-e7ca0828a08d",
   "metadata": {},
   "source": [
    "## Templating\n",
    "\n",
    "A `Sequence` can be any type we want, not just `int`. To account for this, we can create a **template**. This lets us define the `Sequence` to be whatever we want when we create the object in our main file that we run. We can do this by adding `template <typename T>` before our class declaration and then also before every function declaration in the class."
   ]
  }
 ],
 "metadata": {
  "kernelspec": {
   "display_name": "C++14",
   "language": "C++14",
   "name": "xcpp14"
  },
  "language_info": {
   "codemirror_mode": "text/x-c++src",
   "file_extension": ".cpp",
   "mimetype": "text/x-c++src",
   "name": "c++",
   "version": "14"
  }
 },
 "nbformat": 4,
 "nbformat_minor": 5
}
