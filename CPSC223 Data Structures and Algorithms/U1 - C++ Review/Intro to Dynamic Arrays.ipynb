{
 "cells": [
  {
   "cell_type": "markdown",
   "id": "0643b38b-0131-4dc0-9466-3397724668c8",
   "metadata": {},
   "source": [
    "# 3.1: Introduction to Resizable Arrays\n",
    "\n",
    "* Java has a resizable array in the form of an `ArrayList` object\n",
    "* C++ has a the same thing called a `Vector`\n",
    "* Python's standard `list` data type is also a resizable array\n",
    "* When this happens, a certain size array gets created and when you get full you double the size\n",
    "* The tradeoff here is that you have to keep copying the old array everytime you want to double in size"
   ]
  },
  {
   "cell_type": "code",
   "execution_count": null,
   "id": "ac2ed069-7cd0-41ae-b14f-8cf4f3a1c521",
   "metadata": {},
   "outputs": [],
   "source": []
  }
 ],
 "metadata": {
  "kernelspec": {
   "display_name": "C++14",
   "language": "C++14",
   "name": "xcpp14"
  },
  "language_info": {
   "codemirror_mode": "text/x-c++src",
   "file_extension": ".cpp",
   "mimetype": "text/x-c++src",
   "name": "c++",
   "version": "14"
  }
 },
 "nbformat": 4,
 "nbformat_minor": 5
}
