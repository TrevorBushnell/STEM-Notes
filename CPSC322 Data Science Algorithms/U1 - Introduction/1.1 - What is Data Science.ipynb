{
 "cells": [
  {
   "cell_type": "markdown",
   "metadata": {},
   "source": [
    "# 1.1: What is Data Science?"
   ]
  },
  {
   "cell_type": "markdown",
   "metadata": {},
   "source": [
    "Data science is the science of analyzing data to gain insight, draw conclusions, and/or make decisions about the data.\n",
    "\n",
    "What are examples of data in the real-world and how is that data being analyzed?\n",
    "\n",
    "* Medical data collected from electronic health records, physician/nurse notes, etc.\n",
    "    * Analyzed to determine health risk factors, onset of early disease, insurance billing, etc.\n",
    "* Time series data collected from sensors installed in the environment or worn on the body (wearables)\n",
    "    * Analyzed to detect physical activity, daily behavior, changes in behavior over time, etc.\n",
    "* Social media data collected from social networks, posting, news feeds, etc.\n",
    "    * Analyzed to suggest friends, deliver user-specific content, recommend products, target advertising, etc.\n",
    "* Financial data collected from banking transactions, trading, etc.\n",
    "    * Analyzed to project stock market trends, recommend certain investments, determine credit scores, etc.\n",
    "* Many others\n"
   ]
  },
  {
   "cell_type": "markdown",
   "metadata": {},
   "source": [
    "## Why Python?\n",
    "\n",
    "* readability (easy to learn.write/read)\n",
    "* support for big data/data types\n",
    "* lots of great libraries (for data science)\n",
    "    * `numpy` / `scipy` / `pandas` \n",
    "    * `matplotlib` / `seaborn`\n",
    "    * `sklearn` / `tensorflow` / `pytorch`\n",
    "* free"
   ]
  },
  {
   "cell_type": "markdown",
   "metadata": {},
   "source": [
    "## What Kind of Data do Data Scientists Analyze?\n",
    "\n",
    "### Structured VS Unstructured\n",
    "\n",
    "* **structured data:** data in a tabular form\n",
    "    * tables with rows and columns\n",
    "    * we will mostly work with structured data\n",
    "* tables have rows and columns, similar to an Excel spreadsheet\n",
    "    * row: instance, sample/observation, record, object\n",
    "    * column: attribute, variable, field"
   ]
  }
 ],
 "metadata": {
  "language_info": {
   "name": "python"
  },
  "orig_nbformat": 4
 },
 "nbformat": 4,
 "nbformat_minor": 2
}
