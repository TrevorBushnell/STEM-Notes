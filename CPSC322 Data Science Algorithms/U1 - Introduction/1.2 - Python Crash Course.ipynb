{
 "cells": [
  {
   "cell_type": "markdown",
   "metadata": {},
   "source": [
    "# 1.2: Python Crash Course"
   ]
  },
  {
   "cell_type": "markdown",
   "metadata": {},
   "source": [
    "## How to Run Your Python Code in Docker\n",
    "\n",
    "1. Use VSCode as an IDE\n",
    "    * Use the remote containers extension\n",
    "    * \"attach\" to a running container\n",
    "    * open a folder in that container\n",
    "    * run your code\n",
    "        * \"play\" button\n",
    "        * integrated terminal\n",
    "\n",
    "\n",
    "> **THE ULTIMATE GOAL** is *reproducability*"
   ]
  },
  {
   "cell_type": "markdown",
   "metadata": {},
   "source": [
    "## Hello World - Python"
   ]
  },
  {
   "cell_type": "code",
   "execution_count": 2,
   "metadata": {},
   "outputs": [
    {
     "name": "stdout",
     "output_type": "stream",
     "text": [
      "hello world\n"
     ]
    }
   ],
   "source": [
    "print('hello world')"
   ]
  },
  {
   "cell_type": "markdown",
   "metadata": {},
   "source": [
    "## Comments\n",
    "\n",
    "* `#` single line comment\n",
    "* `\"\"\"` multi-line comment"
   ]
  },
  {
   "cell_type": "markdown",
   "metadata": {},
   "source": [
    "## How to Run a Python File\n",
    "\n",
    "1. directly: `python [FILE_NAME].py`\n",
    "2. importing it from another module: `import [FILE_NAME].py`\n",
    "    * make sure to hide your code inside of functions so that you can call those functions in those other python modules!"
   ]
  },
  {
   "cell_type": "markdown",
   "metadata": {},
   "source": [
    "## Data Types in Python\n",
    "\n",
    "* int, float, double, string, list, tuple (non-mutable list), dict, set, etc.\n",
    "* check the type of a variable using the method `type()`"
   ]
  },
  {
   "cell_type": "code",
   "execution_count": 12,
   "metadata": {},
   "outputs": [
    {
     "name": "stdout",
     "output_type": "stream",
     "text": [
      "10 <class 'int'>\n",
      "hello <class 'str'>\n"
     ]
    }
   ],
   "source": [
    "x = 10\n",
    "print(x, type(x))\n",
    "y = 'hello'\n",
    "print(y, type(y))"
   ]
  },
  {
   "cell_type": "markdown",
   "metadata": {},
   "source": [
    "## Operators\n",
    "\n",
    "* `/` floating point division\n",
    "* `//` integer division\n",
    "* `**` exponentiation\n",
    "* ... or just use the math module"
   ]
  },
  {
   "cell_type": "code",
   "execution_count": 14,
   "metadata": {},
   "outputs": [
    {
     "name": "stdout",
     "output_type": "stream",
     "text": [
      "8 8.0\n"
     ]
    }
   ],
   "source": [
    "import math\n",
    "print(2 ** 3, math.pow(2, 3))"
   ]
  },
  {
   "cell_type": "markdown",
   "metadata": {},
   "source": [
    "## User Input\n",
    "\n",
    "* Get user input by using the `input` function\n",
    "* Note that if you want the input to not be a string, then you need to cast the `input()` function\n",
    "    * ex: to get an integer from the user, do `int(input())`"
   ]
  },
  {
   "cell_type": "code",
   "execution_count": null,
   "metadata": {},
   "outputs": [],
   "source": [
    "fav_num = int(input('Enter your favorite number: '))\n",
    "print('Your favorite number is', fav_num)"
   ]
  },
  {
   "cell_type": "markdown",
   "metadata": {},
   "source": [
    "## Conditionals"
   ]
  },
  {
   "cell_type": "code",
   "execution_count": 16,
   "metadata": {},
   "outputs": [
    {
     "name": "stdout",
     "output_type": "stream",
     "text": [
      "It is warm out\n"
     ]
    }
   ],
   "source": [
    "temperature = 35\n",
    "\n",
    "if temperature > 32:\n",
    "    print('It is warm out')\n",
    "else:\n",
    "    print('It is cold out')"
   ]
  },
  {
   "cell_type": "markdown",
   "metadata": {},
   "source": [
    "## Errors and Exceptions in Python (+ FileIO)"
   ]
  },
  {
   "cell_type": "code",
   "execution_count": null,
   "metadata": {},
   "outputs": [],
   "source": [
    "def convert_to_numeric(values):\n",
    "    for i in range(len(values)):\n",
    "        try:\n",
    "            numeric_value = float(values[i])\n",
    "            values[i] = numeric_value\n",
    "        except ValueError:\n",
    "            "
   ]
  },
  {
   "cell_type": "code",
   "execution_count": null,
   "metadata": {},
   "outputs": [],
   "source": [
    "def write_table(filename, values):\n",
    "    outfile = open(filename, 'w')\n",
    "\n",
    "    for i in range(len(values) - 1):\n",
    "        for j in range(len(values[0]) - 1):\n",
    "            outfile.write(str(values[i][j]) + ',')\n",
    "        outfile.write('\\n')\n",
    "    \n",
    "    outfile.close()"
   ]
  },
  {
   "cell_type": "markdown",
   "metadata": {},
   "source": [
    "## Python is Passed by Object Reference\n",
    "\n",
    "* This means that object references are passed by value, meaning they are COPIED\n",
    "    * We call these *aliases*\n",
    "* Here's a demo of this below:"
   ]
  },
  {
   "cell_type": "code",
   "execution_count": 1,
   "metadata": {},
   "outputs": [],
   "source": [
    "def add_one(table):\n",
    "    for i in range(len(table)):\n",
    "        for j in range(len(table[i])):\n",
    "            table[i][j] += 1"
   ]
  },
  {
   "cell_type": "code",
   "execution_count": 2,
   "metadata": {},
   "outputs": [
    {
     "name": "stdout",
     "output_type": "stream",
     "text": [
      "matrix before: [[0, 1, 2], [3, 4, 5]]\n",
      "matrix after: [[1, 2, 3], [4, 5, 6]]\n"
     ]
    }
   ],
   "source": [
    "matrix = [[0,1,2], [3,4,5]]\n",
    "print('matrix before:', matrix)\n",
    "add_one(matrix)\n",
    "print('matrix after:', matrix)"
   ]
  },
  {
   "cell_type": "markdown",
   "metadata": {},
   "source": [
    "* the object reference that `matrix` stores is COPIED into the `table` parameter of `add_one`"
   ]
  },
  {
   "cell_type": "code",
   "execution_count": 3,
   "metadata": {},
   "outputs": [],
   "source": [
    "def clear_out(table):\n",
    "    table = []"
   ]
  },
  {
   "cell_type": "code",
   "execution_count": 4,
   "metadata": {},
   "outputs": [
    {
     "name": "stdout",
     "output_type": "stream",
     "text": [
      "matrix before: [[1, 2, 3], [4, 5, 6]]\n",
      "matrix after: [[1, 2, 3], [4, 5, 6]]\n"
     ]
    }
   ],
   "source": [
    "print('matrix before:', matrix)\n",
    "clear_out(matrix)\n",
    "print('matrix after:', matrix)"
   ]
  },
  {
   "cell_type": "markdown",
   "metadata": {},
   "source": [
    "* This means that `clear_out` did NOT do what it was intended\n",
    "* In a really dumbed down way to understand it...\n",
    "    * If you are *simply updating already existing memory*, then your code will work as intended\n",
    "    * If you are *overwriting memory*, then you will need to add a `return` statement to then update it"
   ]
  },
  {
   "cell_type": "markdown",
   "metadata": {},
   "source": [
    "## Shallow VS Deep Copying\n",
    "\n",
    "* In a shallow copy, object *references* are copied (not the objects themselves)\n",
    "* If you want to copy the objects themselves (i.e. a deep copy), then you should import the `copy` library"
   ]
  },
  {
   "cell_type": "code",
   "execution_count": 7,
   "metadata": {},
   "outputs": [
    {
     "name": "stdout",
     "output_type": "stream",
     "text": [
      "MATRIX BEFORE: [[1, 2, 3], [4, 5, 6]]\n",
      "SHALLOW COPY BEFORE: [[1, 2, 3], [4, 5, 6]]\n",
      "DEEP COPY BEFORE: [[1, 2, 3], [4, 5, 6]]\n",
      "MATRIX AFTER: [[2, 3, 4], [5, 6, 7]]\n",
      "SHALLOW COPY AFTER: [[2, 3, 4], [5, 6, 7]]\n",
      "DEEP COPY AFTER: [[1, 2, 3], [4, 5, 6]]\n"
     ]
    }
   ],
   "source": [
    "import copy\n",
    "\n",
    "matrix_copy = matrix.copy() # This is a shallow copy\n",
    "matrix_deep_copy = copy.deepcopy(matrix)\n",
    "\n",
    "print('MATRIX BEFORE:', matrix)\n",
    "print('SHALLOW COPY BEFORE:', matrix_copy)\n",
    "print('DEEP COPY BEFORE:', matrix_deep_copy)\n",
    "\n",
    "add_one(matrix)\n",
    "\n",
    "print('MATRIX AFTER:', matrix)\n",
    "print('SHALLOW COPY AFTER:', matrix_copy)\n",
    "print('DEEP COPY AFTER:', matrix_deep_copy)"
   ]
  },
  {
   "cell_type": "markdown",
   "metadata": {},
   "source": [
    "Moral of the story: If you are wanting to make a copy, then you are probably wanting to make a deep copy"
   ]
  },
  {
   "cell_type": "markdown",
   "metadata": {},
   "source": [
    "## Classes\n",
    "\n",
    "> A **class** is a collection of state and behavior (PIV and methods) that completely describe something\n",
    "> An **object** is an instance of a class"
   ]
  },
  {
   "cell_type": "code",
   "execution_count": 28,
   "metadata": {},
   "outputs": [],
   "source": [
    "class Subject:\n",
    "    \"\"\"\n",
    "    Represents a subject in a research study\n",
    "\n",
    "    ATTRIBUTES:\n",
    "        sid(int): a unique Integer identifying the subject\n",
    "        name(str): name of the subject\n",
    "        measurements(dist of str:float) recordings of this subject's measurements throughout the study\n",
    "        num_subjects(int): class-level attribute storing the total number of subjects in the study\n",
    "    \"\"\"\n",
    "\n",
    "    num_subjects = 0\n",
    "\n",
    "    # init is like a constructor... initialize your attributes here\n",
    "    def __init__(self, name, measurements=None):\n",
    "        # self is similar to this this reference in Java\n",
    "        # it refers to the current/invoking object\n",
    "        self.sid = Subject.num_subjects\n",
    "        self.name = name\n",
    "\n",
    "        if measurements is None:\n",
    "            measurements = {}\n",
    "        self.measurements = measurements\n",
    "        Subject.num_subjects += 1\n",
    "\n",
    "    # this is an instance level method\n",
    "    def record_measurement(self, timestamp, value):\n",
    "        self.measurements[timestamp] = value\n",
    "\n",
    "\n",
    "    def __str__(self):\n",
    "        return \"SID: \" + str(self.sid) + \" NAME: \" + self.name + \" MEASUREMENTS: \" + str(self.measurements)\n",
    "\n",
    "    # DO NOT DECLARE YOUR INSTANCE LEVEL ATTRIBUTES HERE"
   ]
  },
  {
   "cell_type": "code",
   "execution_count": 29,
   "metadata": {},
   "outputs": [
    {
     "name": "stdout",
     "output_type": "stream",
     "text": [
      "SID: 0 NAME: Spike MEASUREMENTS: {}\n",
      "1\n",
      "SID: 0 NAME: Spike MEASUREMENTS: {'1-25-22': 3.5}\n"
     ]
    }
   ],
   "source": [
    "sub1 = Subject(\"Spike\")\n",
    "print(sub1)\n",
    "print(Subject.num_subjects)\n",
    "sub1.record_measurement(\"1-25-22\", 3.5)\n",
    "print(sub1)"
   ]
  },
  {
   "cell_type": "markdown",
   "metadata": {},
   "source": [
    "## Assert Statements\n",
    "\n",
    "* `assert` statements allow you to check whether a statement is true or false\n",
    "    * if `True`, execution continues as normal\n",
    "    * if `False`, the program stops/crashes\n",
    "* We use asserts to create unit tests\n",
    "> a **unit test** is a function that tests another function for functional correctness. They are comprised of one or more test cases and all of these test cases must pass to help determine that the function is indeed \"functionally correct.\" These test cases span from common examples to edge cases.\n",
    "\n",
    "* The order of assert statements matters!\n",
    "    * the left side of the statement is the ACTUAL value\n",
    "    * the right side of the statement is the SOLUTION value (what the value should be)"
   ]
  },
  {
   "cell_type": "code",
   "execution_count": 31,
   "metadata": {},
   "outputs": [
    {
     "name": "stdout",
     "output_type": "stream",
     "text": [
      "Will we get here?\n"
     ]
    },
    {
     "ename": "AssertionError",
     "evalue": "",
     "output_type": "error",
     "traceback": [
      "\u001b[1;31m---------------------------------------------------------------------------\u001b[0m",
      "\u001b[1;31mAssertionError\u001b[0m                            Traceback (most recent call last)",
      "\u001b[1;32m~\\AppData\\Local\\Temp/ipykernel_8392/1866553131.py\u001b[0m in \u001b[0;36m<module>\u001b[1;34m\u001b[0m\n\u001b[0;32m      2\u001b[0m \u001b[0mprint\u001b[0m\u001b[1;33m(\u001b[0m\u001b[1;34m'Will we get here?'\u001b[0m\u001b[1;33m)\u001b[0m\u001b[1;33m\u001b[0m\u001b[1;33m\u001b[0m\u001b[0m\n\u001b[0;32m      3\u001b[0m \u001b[1;33m\u001b[0m\u001b[0m\n\u001b[1;32m----> 4\u001b[1;33m \u001b[1;32massert\u001b[0m \u001b[1;36m4\u001b[0m \u001b[1;33m==\u001b[0m \u001b[1;36m3\u001b[0m\u001b[1;33m\u001b[0m\u001b[1;33m\u001b[0m\u001b[0m\n\u001b[0m\u001b[0;32m      5\u001b[0m \u001b[0mprint\u001b[0m\u001b[1;33m(\u001b[0m\u001b[1;34m'But will we get HERE??'\u001b[0m\u001b[1;33m)\u001b[0m\u001b[1;33m\u001b[0m\u001b[1;33m\u001b[0m\u001b[0m\n",
      "\u001b[1;31mAssertionError\u001b[0m: "
     ]
    }
   ],
   "source": [
    "assert 3 == 3\n",
    "print('Will we get here?')\n",
    "\n",
    "assert 4 == 3\n",
    "print('But will we get HERE??')"
   ]
  }
 ],
 "metadata": {
  "interpreter": {
   "hash": "5c14fff63c0a8ed330ed9126d5cfaff8036e976a2ac919caecec95f614622928"
  },
  "kernelspec": {
   "display_name": "Python 3.9.7 64-bit (conda)",
   "language": "python",
   "name": "python3"
  },
  "language_info": {
   "codemirror_mode": {
    "name": "ipython",
    "version": 3
   },
   "file_extension": ".py",
   "mimetype": "text/x-python",
   "name": "python",
   "nbconvert_exporter": "python",
   "pygments_lexer": "ipython3",
   "version": "3.9.7"
  },
  "orig_nbformat": 4
 },
 "nbformat": 4,
 "nbformat_minor": 2
}
