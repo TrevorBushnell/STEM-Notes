{
 "cells": [
  {
   "cell_type": "markdown",
   "metadata": {},
   "source": [
    "# 1.2: Python Crash Course"
   ]
  },
  {
   "cell_type": "markdown",
   "metadata": {},
   "source": [
    "## How to Run Your Python Code in Docker\n",
    "\n",
    "1. Use VSCode as an IDE\n",
    "    * Use the remote containers extension\n",
    "    * \"attach\" to a running container\n",
    "    * open a folder in that container\n",
    "    * run your code\n",
    "        * \"play\" button\n",
    "        * integrated terminal\n",
    "\n",
    "\n",
    "> **THE ULTIMATE GOAL** is *reproducability*"
   ]
  },
  {
   "cell_type": "markdown",
   "metadata": {},
   "source": [
    "## Hello World - Python"
   ]
  },
  {
   "cell_type": "code",
   "execution_count": 2,
   "metadata": {},
   "outputs": [
    {
     "name": "stdout",
     "output_type": "stream",
     "text": [
      "hello world\n"
     ]
    }
   ],
   "source": [
    "print('hello world')"
   ]
  },
  {
   "cell_type": "markdown",
   "metadata": {},
   "source": [
    "## Comments\n",
    "\n",
    "* `#` single line comment\n",
    "* `\"\"\"` multi-line comment"
   ]
  },
  {
   "cell_type": "markdown",
   "metadata": {},
   "source": [
    "## How to Run a Python File\n",
    "\n",
    "1. directly: `python [FILE_NAME].py`\n",
    "2. importing it from another module: `import [FILE_NAME].py`\n",
    "    * make sure to hide your code inside of functions so that you can call those functions in those other python modules!"
   ]
  },
  {
   "cell_type": "markdown",
   "metadata": {},
   "source": [
    "## Data Types in Python\n",
    "\n",
    "* int, float, double, string, list, tuple (non-mutable list), dict, set, etc.\n",
    "* check the type of a variable using the method `type()`"
   ]
  },
  {
   "cell_type": "code",
   "execution_count": 12,
   "metadata": {},
   "outputs": [
    {
     "name": "stdout",
     "output_type": "stream",
     "text": [
      "10 <class 'int'>\n",
      "hello <class 'str'>\n"
     ]
    }
   ],
   "source": [
    "x = 10\n",
    "print(x, type(x))\n",
    "y = 'hello'\n",
    "print(y, type(y))"
   ]
  },
  {
   "cell_type": "markdown",
   "metadata": {},
   "source": [
    "## Operators\n",
    "\n",
    "* `/` floating point division\n",
    "* `//` integer division\n",
    "* `**` exponentiation\n",
    "* ... or just use the math module"
   ]
  },
  {
   "cell_type": "code",
   "execution_count": 14,
   "metadata": {},
   "outputs": [
    {
     "name": "stdout",
     "output_type": "stream",
     "text": [
      "8 8.0\n"
     ]
    }
   ],
   "source": [
    "import math\n",
    "print(2 ** 3, math.pow(2, 3))"
   ]
  },
  {
   "cell_type": "markdown",
   "metadata": {},
   "source": [
    "## User Input\n",
    "\n",
    "* Get user input by using the `input` function\n",
    "* Note that if you want the input to not be a string, then you need to cast the `input()` function\n",
    "    * ex: to get an integer from the user, do `int(input())`"
   ]
  },
  {
   "cell_type": "code",
   "execution_count": null,
   "metadata": {},
   "outputs": [],
   "source": [
    "fav_num = int(input('Enter your favorite number: '))\n",
    "print('Your favorite number is', fav_num)"
   ]
  },
  {
   "cell_type": "markdown",
   "metadata": {},
   "source": [
    "## Conditionals"
   ]
  },
  {
   "cell_type": "code",
   "execution_count": 16,
   "metadata": {},
   "outputs": [
    {
     "name": "stdout",
     "output_type": "stream",
     "text": [
      "It is warm out\n"
     ]
    }
   ],
   "source": [
    "temperature = 35\n",
    "\n",
    "if temperature > 32:\n",
    "    print('It is warm out')\n",
    "else:\n",
    "    print('It is cold out')"
   ]
  }
 ],
 "metadata": {
  "interpreter": {
   "hash": "5c14fff63c0a8ed330ed9126d5cfaff8036e976a2ac919caecec95f614622928"
  },
  "kernelspec": {
   "display_name": "Python 3.9.7 64-bit (conda)",
   "language": "python",
   "name": "python3"
  },
  "language_info": {
   "codemirror_mode": {
    "name": "ipython",
    "version": 3
   },
   "file_extension": ".py",
   "mimetype": "text/x-python",
   "name": "python",
   "nbconvert_exporter": "python",
   "pygments_lexer": "ipython3",
   "version": "3.9.7"
  },
  "orig_nbformat": 4
 },
 "nbformat": 4,
 "nbformat_minor": 2
}
