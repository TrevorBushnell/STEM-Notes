{
 "cells": [
  {
   "cell_type": "markdown",
   "metadata": {},
   "source": [
    "# 1.2: Python Crash Course"
   ]
  },
  {
   "cell_type": "markdown",
   "metadata": {},
   "source": [
    "## How to Run Your Python Code in Docker\n",
    "\n",
    "1. Use VSCode as an IDE\n",
    "    * Use the remote containers extension\n",
    "    * \"attach\" to a running container\n",
    "    * open a folder in that container\n",
    "    * run your code\n",
    "        * \"play\" button\n",
    "        * integrated terminal\n",
    "\n",
    "\n",
    "> **THE ULTIMATE GOAL** is *reproducability*"
   ]
  }
 ],
 "metadata": {
  "interpreter": {
   "hash": "5c14fff63c0a8ed330ed9126d5cfaff8036e976a2ac919caecec95f614622928"
  },
  "kernelspec": {
   "display_name": "Python 3.9.7 64-bit (conda)",
   "language": "python",
   "name": "python3"
  },
  "language_info": {
   "name": "python",
   "version": "3.9.7"
  },
  "orig_nbformat": 4
 },
 "nbformat": 4,
 "nbformat_minor": 2
}
