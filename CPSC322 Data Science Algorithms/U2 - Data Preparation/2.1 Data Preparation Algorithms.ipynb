{
 "cells": [
  {
   "cell_type": "markdown",
   "metadata": {},
   "source": [
    "# 2.1: Data Preparation Algorithms"
   ]
  },
  {
   "cell_type": "markdown",
   "metadata": {},
   "source": [
    "## Setup Code"
   ]
  },
  {
   "cell_type": "code",
   "execution_count": 3,
   "metadata": {},
   "outputs": [
    {
     "name": "stdout",
     "output_type": "stream",
     "text": [
      "HEADER ['CarName', 'ModelYear', 'MSRP']\n",
      "\n",
      "DATA:\n",
      "[['ford pinto', 75, 2769], ['toyota corrola', 75, 2711], ['ford pinto', 76, 3025], ['toyota corolla', 77, 2789]]\n"
     ]
    }
   ],
   "source": [
    "header = [\"CarName\", \"ModelYear\", \"MSRP\"]\n",
    "msrp_table = [[\"ford pinto\", 75, 2769],\n",
    "              [\"toyota corrola\", 75, 2711],\n",
    "              [\"ford pinto\", 76, 3025],\n",
    "              [\"toyota corolla\", 77, 2789]]\n",
    "\n",
    "print('HEADER', header)\n",
    "print()\n",
    "print('DATA:')\n",
    "print(msrp_table)"
   ]
  },
  {
   "cell_type": "code",
   "execution_count": 4,
   "metadata": {},
   "outputs": [],
   "source": [
    "def get_column(table, header, col_name):\n",
    "    col_index = header.index(col_name)\n",
    "    col_list = []\n",
    "\n",
    "    for row in table:\n",
    "        if row[col_index] != \"NA\":\n",
    "            col_list.append(row[col_index])\n",
    "\n",
    "    return col_list "
   ]
  },
  {
   "cell_type": "code",
   "execution_count": 5,
   "metadata": {},
   "outputs": [],
   "source": [
    "def get_frequencies(table, header, col_name):\n",
    "    col = get_column(table, header, col_name)\n",
    "    col.sort() #inplace\n",
    "\n",
    "    # setup the parallel lists\n",
    "    values = []\n",
    "    counts = []\n",
    "\n",
    "    for value in col:\n",
    "        if value in values: # seen it before\n",
    "            counts[-1] += 1\n",
    "        else: # haven't seen this value before so we append it\n",
    "            counts.append(1)\n",
    "\n",
    "    return values, counts # we can return multiple values in python (they are packaged into a tuple)"
   ]
  },
  {
   "cell_type": "markdown",
   "metadata": {},
   "source": [
    "Let's try pulling out the columns from our MSRP table:"
   ]
  },
  {
   "cell_type": "code",
   "execution_count": 6,
   "metadata": {},
   "outputs": [
    {
     "name": "stdout",
     "output_type": "stream",
     "text": [
      "MSRP COLUMN: [2769, 2711, 3025, 2789]\n"
     ]
    }
   ],
   "source": [
    "print(\"MSRP COLUMN:\", get_column(msrp_table, header, \"MSRP\"))"
   ]
  },
  {
   "cell_type": "markdown",
   "metadata": {},
   "source": [
    "## Table Joins\n",
    "\n",
    "Recall that a **key** is 1 or more attributes that uniquely identify instances.\n",
    "\n",
    "A **foreign key** is a key that references instances (rows) typically in another table.\n",
    "\n",
    "A **join** is an operation on a table. It combines two tables on a key/foreign key pairs to create a new 3rd table.\n",
    "    * an *inner join*: combining 2 tables on key/foreign key MATCHES to produce a third table"
   ]
  },
  {
   "cell_type": "markdown",
   "metadata": {},
   "source": [
    "## Tracing the Inner Join Algorithm\n",
    "\n",
    "> **Pseudocode: Outer Join**\n",
    "> \n",
    "> ```\n",
    ">    for row in table 1:\n",
    ">       for row in table2:\n",
    ">           if rows match on key:\n",
    ">               join rows and add to joined table\n",
    ">           if no match:\n",
    ">               fill missing table2 values w/ NA in the row and add\n",
    ">     for row in table2:\n",
    ">           if no match (in joined table):\n",
    ">               fill missing table 1 values w/ NA in row and add\n",
    "> ```"
   ]
  },
  {
   "cell_type": "markdown",
   "metadata": {},
   "source": [
    "## Tracing the Outer Join Algorithm"
   ]
  },
  {
   "cell_type": "markdown",
   "metadata": {},
   "source": [
    "## More on Attributes\n",
    "\n",
    "When working with attributes in your table, it's important that you answer some of these questions:\n",
    "\n",
    "1. What is the type?\n",
    "    * how is it stored? `int`, `float`, `string`, ... etc.\n",
    "2. What is the semantic type of the attribute (and its values)?\n",
    "    * what does the attribute represent?\n",
    "    * check up on your domain knowledge!\n",
    "3. What is tha attribute's measurement scale?\n",
    "    * Is it categorical?\n",
    "        * Is it *nominal*? (no inherent ordering)\n",
    "        * Is it *ordinal*? (there is an inherent ordering, e.g. letter grades)\n",
    "    * Is it continuous?\n",
    "        * Is it *ratio-scaled*? (continuous with an inherent zero-point/absence)\n",
    "        * Is it *interval-scaled*? (continuous with no inherent zero-point/absence) - ex. Farenheight\n",
    "4. Is the data noisy or invalid?\n",
    "    * noisy: valid on the scale but recorded incorrectly\n",
    "    * invalid: not a valid measurement on the scale"
   ]
  },
  {
   "cell_type": "markdown",
   "metadata": {},
   "source": [
    "## Start of Class #2"
   ]
  },
  {
   "cell_type": "code",
   "execution_count": 7,
   "metadata": {},
   "outputs": [],
   "source": [
    "msrp_values, msrp_counts = get_frequencies(msrp_table, header, \"MSRP\")"
   ]
  },
  {
   "cell_type": "markdown",
   "metadata": {},
   "source": [
    "TASK: define/call a function `get_frequencies_categorical()` that returns a dictionary that maps values to their counts. This works great for nominal data because there is no inherent ordering, and the order of K/V pairs in Python dictionaries don't matter!"
   ]
  },
  {
   "cell_type": "markdown",
   "metadata": {},
   "source": [
    "## How To Deal With Missing Values\n",
    "\n",
    "There are two main ways to deal with missing values\n",
    "\n",
    "**OPTION #1: DISCARD THEM**\n",
    "* really only do this when the dataset is large and the number of missing values are small\n",
    "\n",
    "**OPTION #2: FILL THEM**\n",
    "* majority voting system (most frequent value) $\\to$ categorical attributes\n",
    "* central tendancy measure (mean, median, mode) $\\to$ continuous data"
   ]
  }
 ],
 "metadata": {
  "interpreter": {
   "hash": "a707b6ce8c685eb936424fcc3009d4b4b7a52543c4db09380a3fc49186ceb509"
  },
  "kernelspec": {
   "display_name": "Python 3.9.7 64-bit ('base': conda)",
   "language": "python",
   "name": "python3"
  },
  "language_info": {
   "codemirror_mode": {
    "name": "ipython",
    "version": 3
   },
   "file_extension": ".py",
   "mimetype": "text/x-python",
   "name": "python",
   "nbconvert_exporter": "python",
   "pygments_lexer": "ipython3",
   "version": "3.9.7"
  },
  "orig_nbformat": 4
 },
 "nbformat": 4,
 "nbformat_minor": 2
}
