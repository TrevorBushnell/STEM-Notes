{
 "cells": [
  {
   "cell_type": "markdown",
   "metadata": {},
   "source": [
    "## The `matplotlib` Package"
   ]
  },
  {
   "cell_type": "code",
   "execution_count": 1,
   "metadata": {},
   "outputs": [
    {
     "name": "stdout",
     "output_type": "stream",
     "text": [
      "poop\n",
      "YOOOOOOOOOOOOOOOOO\n"
     ]
    }
   ],
   "source": [
    "import utils\n",
    "import importlib\n",
    "import matplotlib.pyplot as plt\n",
    "importlib.reload(utils)\n",
    "\n",
    "utils.dummy_function()\n",
    "utils.dummy_function_2()"
   ]
  },
  {
   "cell_type": "markdown",
   "metadata": {},
   "source": [
    "## Warmup Task 2/8/22"
   ]
  },
  {
   "cell_type": "code",
   "execution_count": 2,
   "metadata": {},
   "outputs": [],
   "source": [
    "# Build the table\n",
    "\n",
    "header = [\"CarName\", \"ModelYear\", \"MSRP\"]\n",
    "msrp_table = [[\"ford pinto\", 75, 2769],\n",
    "              [\"toyota corolla\", 75, 2711],\n",
    "              [\"ford pinto\", 76, 3025],\n",
    "              [\"toyota corolla\", 77, 2789],\n",
    "              [\"ford pinto\", 77, 2500],\n",
    "              [\"toyota corolla\", 76, 3200],\n",
    "              [\"ford pinto\", 75, 3100],\n",
    "              [\"toyota corolla\", 77, 2700]]"
   ]
  },
  {
   "cell_type": "markdown",
   "metadata": {},
   "source": [
    "> Create a bar nad pie chart for the model year counts we computed with `get_frequencies()`"
   ]
  },
  {
   "cell_type": "code",
   "execution_count": 3,
   "metadata": {},
   "outputs": [
    {
     "data": {
      "image/png": "[encoded data removed]",
      "text/plain": [
       "<Figure size 432x288 with 1 Axes>"
      ]
     },
     "metadata": {},
     "output_type": "display_data"
    }
   ],
   "source": [
    "values, counts = utils.get_frequencies(msrp_table, header, \"ModelYear\")\n",
    "\n",
    "def pie_chart_example(x, y):\n",
    "    plt.figure()\n",
    "    plt.pie(y, labels=x, autopct=\"%1.1f%%\")\n",
    "    plt.show()\n",
    "    \n",
    "\n",
    "pie_chart_example(values, counts)"
   ]
  },
  {
   "cell_type": "markdown",
   "metadata": {},
   "source": [
    "> Add another histogram with mean=100 and stdev=5 to the same histogram figure. Is the new histogram going to be narrower or wider than the original (blue)?\n",
    "\n",
    "The new histogram should be narrower because a smaller standard deviation means less spread."
   ]
  },
  {
   "cell_type": "code",
   "execution_count": 4,
   "metadata": {},
   "outputs": [
    {
     "data": {
      "image/png": "[encoded data removed]",
      "text/plain": [
       "<Figure size 432x288 with 1 Axes>"
      ]
     },
     "metadata": {
      "needs_background": "light"
     },
     "output_type": "display_data"
    }
   ],
   "source": [
    "def histogram_example(data_1, data_2):\n",
    "    # data is a 1D list of data values\n",
    "    plt.figure()\n",
    "    plt.hist(data_1, bins=10) # default is 10\n",
    "    plt.hist(data_2, bins=10) # default is still 10\n",
    "    plt.show()\n",
    "\n",
    "    \n",
    "# let's generate some random \"normal\" data\n",
    "import numpy as np \n",
    "mean = 100 # mu\n",
    "stdev = 10 # sigma \n",
    "num_samples = 1000 \n",
    "normal_data = np.random.normal(mean, stdev, num_samples)\n",
    "\n",
    "# here is the new sample\n",
    "new_mean = 100 # mu\n",
    "new_stdev = 5 # sigma\n",
    "new_normal_data = np.random.normal(new_mean, stdev, num_samples)\n",
    "histogram_example(normal_data, new_normal_data)"
   ]
  },
  {
   "cell_type": "markdown",
   "metadata": {},
   "source": [
    "> Add a parameter to `box_plot_example()` called `labels`, where `labels` is a 1D list of x-axis labels. Replace the 1 and 2 on the x-axis"
   ]
  },
  {
   "cell_type": "code",
   "execution_count": 5,
   "metadata": {},
   "outputs": [
    {
     "data": {
      "image/png": "[encoded data removed]",
      "text/plain": [
       "<Figure size 432x288 with 1 Axes>"
      ]
     },
     "metadata": {
      "needs_background": "light"
     },
     "output_type": "display_data"
    }
   ],
   "source": [
    "def box_plot_example(distributions, labels):\n",
    "    # distributions: list of 1D lists of values\n",
    "    plt.figure()\n",
    "    plt.boxplot(distributions)\n",
    "\n",
    "    plt.xticks(list(range(1, len(distributions) + 1)), labels)\n",
    "    # boxes correspond to the 1st and 3rd quartiles\n",
    "    # line in the middle of the box corresponds to the 2nd quartile (AKA median)\n",
    "    # whiskers corresponds to +/- 1.5 * IQR\n",
    "    # IQR: interquartile range (3rd quartile - 1st quartile)\n",
    "    # circles outside the whiskers correspond to outliers\n",
    "    \n",
    "    # annotations\n",
    "    # we want to add \"mu=100\" to the center of our figure\n",
    "    # xycoords=\"data\": default, specify the location of the label in the same\n",
    "    # xycoords = \"axes fraction\": specify the location of the label in absolute\n",
    "    # axes coordinates... 0,0 is the lower left corner, 1,1 is the upper right corner\n",
    "    # coordinates as the plotted data\n",
    "    plt.annotate(\"$\\mu=100$\", xy=(1.5, 105), xycoords=\"data\", horizontalalignment=\"center\")\n",
    "    plt.annotate(\"$\\mu=100$\", xy=(0.5, 0.5), xycoords=\"axes fraction\", \n",
    "                 horizontalalignment=\"center\", color=\"blue\")\n",
    "\n",
    "    plt.show()\n",
    "    \n",
    "normal_data2 = np.random.normal(mean, stdev / 2, num_samples)\n",
    "box_plot_example([normal_data, normal_data2], ['$\\sigma=10$', '$\\sigma=5$'])\n",
    "\n"
   ]
  },
  {
   "cell_type": "markdown",
   "metadata": {},
   "source": [
    "## Group By Task\n",
    "\n",
    "Our goal is to write a general groupby function that returns parallel lists\n",
    "\n",
    "* group names: e.g. 75, 76, 77\n",
    "* group subtables: e.g. all the 75 rows, all the 76 rows, all the 77 rows\n",
    "\n",
    "We will group by to produce a boxplot of MSRPs grouped by model year\n",
    "* x-axis: categorical attribute ModelYear\n",
    "* y-axis: continuous attribute MSRP (e.g. one box/whisker for each ModelYear)\n",
    "\n",
    "You can see the groupby implementation in `utils.py`."
   ]
  },
  {
   "cell_type": "code",
   "execution_count": 6,
   "metadata": {},
   "outputs": [
    {
     "name": "stdout",
     "output_type": "stream",
     "text": [
      "HEADER: [75, 76, 77]\n",
      "\n",
      "DATA:\n",
      "[[['ford pinto', 75, 2769], ['toyota corolla', 75, 2711], ['ford pinto', 75, 3100]], [['ford pinto', 76, 3025], ['toyota corolla', 76, 3200]], [['toyota corolla', 77, 2789], ['ford pinto', 77, 2500], ['toyota corolla', 77, 2700]]]\n"
     ]
    }
   ],
   "source": [
    "importlib.reload(utils)\n",
    "modelyear_names, modelyear_subtables = utils.groupby(msrp_table, header, 'ModelYear')\n",
    "print('HEADER:', modelyear_names)\n",
    "print()\n",
    "print('DATA:')\n",
    "print(modelyear_subtables)"
   ]
  },
  {
   "cell_type": "markdown",
   "metadata": {},
   "source": [
    "TASK: We need to extract the MSRP distributions (AKA columns) for each subtable and pass them to our `box_plot_example()`"
   ]
  },
  {
   "cell_type": "code",
   "execution_count": 7,
   "metadata": {},
   "outputs": [
    {
     "data": {
      "image/png": "[encoded data removed]",
      "text/plain": [
       "<Figure size 432x288 with 1 Axes>"
      ]
     },
     "metadata": {
      "needs_background": "light"
     },
     "output_type": "display_data"
    }
   ],
   "source": [
    "msrp_dists = [utils.get_column(msrp_table, header, \"MSRP\") for subtable in modelyear_subtables]\n",
    "box_plot_example(msrp_dists, modelyear_names)"
   ]
  },
  {
   "cell_type": "markdown",
   "metadata": {},
   "source": [
    "## Discretization\n",
    "\n",
    "Discretization is the process of converting a numeric (aka continuous) attribute to be discrete or categorical. There are a few ways to do this:\n",
    "\n",
    "* \"equal-width\" binning\n",
    "* \"equal-frequency\" binning - uneven widths for the bins but they would all have equal heights\n",
    "* there are multiple ways to define the \"cutoffs\" for the bins\n",
    "    * we will use $N+1$ cutoffs (where $N$ is the number of bins)\n",
    "        * this is because `plt.hist()` and `np.histogram()` use $N+1$ cutoffs\n",
    "    * The min and max cutoffs are the first and last cutoffs respectively\n",
    "    * All bins are half open (eg `[ , )`)except the last one which is closed"
   ]
  },
  {
   "cell_type": "code",
   "execution_count": 8,
   "metadata": {},
   "outputs": [
    {
     "name": "stdout",
     "output_type": "stream",
     "text": [
      "[9, 12, 21, 36, 39, 44, 46, 47, 58, 64, 65, 67, 67, 70, 83, 87, 87, 88, 88, 88]\n"
     ]
    }
   ],
   "source": [
    "np.random.seed(0)\n",
    "values = np.random.choice(100, 20) # numpy array of 20 sampled values\n",
    "# will convert this into a sorted list as well\n",
    "values = sorted(list(values))\n",
    "print(values)\n",
    "# I missed out on this code and I need to come back and add this later"
   ]
  },
  {
   "cell_type": "markdown",
   "metadata": {},
   "source": [
    "## Discretization Lab\n",
    "\n",
    "Our goal is to essentially write our own implementation of `plt.hist()`\n",
    "\n",
    "\n",
    "1. Given a list of values and the number of equal-width bins to create ($N$), write a function to return a list of the $N + 1$ cutoff points.\n",
    "1. Given a list of values and a list of $N + 1$ cutoff points, write a function to return the corresponding frequencies of the N bins.\n",
    "1. Given a list of the $N$ bins and the $N$ frequencies of the bins, write a function to produce a histogram that matches that produced with the same data by `plt.hist()`\n"
   ]
  },
  {
   "cell_type": "markdown",
   "metadata": {},
   "source": [
    "Here is the implementation for Step #1:"
   ]
  },
  {
   "cell_type": "code",
   "execution_count": 9,
   "metadata": {},
   "outputs": [
    {
     "name": "stdout",
     "output_type": "stream",
     "text": [
      "[9.0, 24.8, 40.6, 56.4, 72.2, 88]\n"
     ]
    }
   ],
   "source": [
    "importlib.reload(utils)\n",
    "cutoffs = utils.compute_equal_width_cutoffs(values, 5)\n",
    "print(cutoffs)"
   ]
  },
  {
   "cell_type": "markdown",
   "metadata": {},
   "source": [
    "Here is the implementation for Step #2:"
   ]
  },
  {
   "cell_type": "code",
   "execution_count": 10,
   "metadata": {},
   "outputs": [
    {
     "name": "stdout",
     "output_type": "stream",
     "text": [
      "[0, 2, 6, 18, 15]\n"
     ]
    }
   ],
   "source": [
    "importlib.reload(utils)\n",
    "freqs = utils.compute_bin_frequencies(values, cutoffs)\n",
    "print(freqs)"
   ]
  },
  {
   "cell_type": "markdown",
   "metadata": {},
   "source": [
    "Here is the implementation for Step #3:"
   ]
  },
  {
   "cell_type": "code",
   "execution_count": 11,
   "metadata": {},
   "outputs": [
    {
     "data": {
      "text/plain": [
       "<BarContainer object of 5 artists>"
      ]
     },
     "execution_count": 11,
     "metadata": {},
     "output_type": "execute_result"
    },
    {
     "data": {
      "image/png": "[encoded data removed]",
      "text/plain": [
       "<Figure size 432x288 with 1 Axes>"
      ]
     },
     "metadata": {
      "needs_background": "light"
     },
     "output_type": "display_data"
    }
   ],
   "source": [
    "plt.bar(cutoffs[:-1], freqs, width=(cutoffs[1] - cutoffs[0]), edgecolor=\"black\", align=\"edge\")"
   ]
  },
  {
   "cell_type": "markdown",
   "metadata": {},
   "source": [
    "## Linear Regression\n",
    "\n",
    "* Suppose we have $x$ and $y$ data, where $x$ is an independent variable and $y$ is a dependent variable\n",
    "* We want to fit a lin between the $x$ and $y$ data\n",
    "* We can do this with \"simple linear regression\" (univariate; 1 independent variable)\n",
    "* Using the least-squares approach\n",
    "    * The line has to pass through $(\\overline x, \\overline y)$\n",
    "    * Recall: $y = mx + b$\n",
    "    * The formula is in the regression notes on GitHub so that you can finish PA3 over the weekend"
   ]
  },
  {
   "cell_type": "markdown",
   "metadata": {},
   "source": [
    "## Warm-up 2/15/22"
   ]
  },
  {
   "cell_type": "code",
   "execution_count": 13,
   "metadata": {},
   "outputs": [
    {
     "name": "stdout",
     "output_type": "stream",
     "text": [
      "m: 1.924917458430444 b: 5.211786196055144\n",
      "TESTS PASSED\n",
      "PREDICTED VALUE: 293.94940496062173\n"
     ]
    },
    {
     "data": {
      "image/png": "[encoded data removed]",
      "text/plain": [
       "<Figure size 432x288 with 1 Axes>"
      ]
     },
     "metadata": {
      "needs_background": "light"
     },
     "output_type": "display_data"
    }
   ],
   "source": [
    "importlib.reload(utils)\n",
    "from scipy import stats\n",
    "\n",
    "np.random.seed(0)\n",
    "x = list(range(0, 100))\n",
    "y = [value * 2 + np.random.normal(0, 25) for value in x]\n",
    "plt.scatter(x,y)\n",
    "m, b = utils.compute_linear_regression(x,y)\n",
    "print('m:', m, 'b:', b)\n",
    "sp_m, sp_b, sp_r, sp_pval, sp_std_err = stats.linregress(x, y)\n",
    "assert np.isclose(m, sp_m) # recall the order is ACTUAL then EXPECTED\n",
    "assert np.isclose(b, sp_b)\n",
    "\n",
    "print('TESTS PASSED')\n",
    "plt.plot([min(x), max(x)], [m * min(x) + b, m * max(x) + b], c='r', lw=5)\n",
    "print('PREDICTED VALUE:', m * 150 + b)"
   ]
  },
  {
   "cell_type": "markdown",
   "metadata": {},
   "source": [
    "## Quantifying the Strength of a Linear Relationship\n",
    "* See U3/Linear Regression in Gina's notes on GitHub if you want the formulas (will include these later)\n",
    "* There are several metrics\n",
    "    * Covariance\n",
    "    * Correlation\n",
    "    * Standard error\n",
    "    * Mean absolute error (MAE)\n",
    "    * Root mean squared error (RMSE)\n",
    "    * Others\n",
    "* Our focus will be on correlation\n",
    "    * $r$ in $[-1, 1]$\n",
    "        * 1 means perfect linear relationship as $x$ increases, so does $y$\n",
    "        * -1 means perfect linear relationship as $x$ increases, $y$ decreases\n",
    "        * 0 means no linear relationship\n",
    "        * CORRELATION DOES NOT IMPLY CAUSATION"
   ]
  }
 ],
 "metadata": {
  "interpreter": {
   "hash": "a707b6ce8c685eb936424fcc3009d4b4b7a52543c4db09380a3fc49186ceb509"
  },
  "kernelspec": {
   "display_name": "Python 3.9.7 ('base')",
   "language": "python",
   "name": "python3"
  },
  "language_info": {
   "codemirror_mode": {
    "name": "ipython",
    "version": 3
   },
   "file_extension": ".py",
   "mimetype": "text/x-python",
   "name": "python",
   "nbconvert_exporter": "python",
   "pygments_lexer": "ipython3",
   "version": "3.9.7"
  },
  "orig_nbformat": 4
 },
 "nbformat": 4,
 "nbformat_minor": 2
}
