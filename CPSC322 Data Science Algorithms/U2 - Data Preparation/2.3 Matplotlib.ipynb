{
 "cells": [
  {
   "cell_type": "markdown",
   "metadata": {},
   "source": [
    "## The `matplotlib` Package"
   ]
  },
  {
   "cell_type": "code",
   "execution_count": 31,
   "metadata": {},
   "outputs": [
    {
     "name": "stdout",
     "output_type": "stream",
     "text": [
      "poop\n",
      "YOOOOOOOOOOOOOOOOO\n"
     ]
    }
   ],
   "source": [
    "import utils\n",
    "import importlib\n",
    "import matplotlib.pyplot as plt\n",
    "importlib.reload(utils)\n",
    "\n",
    "utils.dummy_function()\n",
    "utils.dummy_function_2()"
   ]
  },
  {
   "cell_type": "markdown",
   "metadata": {},
   "source": [
    "## Warmup Task 2/8/22"
   ]
  },
  {
   "cell_type": "code",
   "execution_count": 6,
   "metadata": {},
   "outputs": [],
   "source": [
    "# Build the table\n",
    "\n",
    "header = [\"CarName\", \"ModelYear\", \"MSRP\"]\n",
    "msrp_table = [[\"ford pinto\", 75, 2769],\n",
    "              [\"toyota corolla\", 75, 2711],\n",
    "              [\"ford pinto\", 76, 3025],\n",
    "              [\"toyota corolla\", 77, 2789]]"
   ]
  },
  {
   "cell_type": "markdown",
   "metadata": {},
   "source": [
    "> Create a bar nad pie chart for the model year counts we computed with `get_frequencies()`"
   ]
  },
  {
   "cell_type": "code",
   "execution_count": 15,
   "metadata": {},
   "outputs": [
    {
     "data": {
      "image/png": "[encoded data removed]",
      "text/plain": [
       "<Figure size 432x288 with 1 Axes>"
      ]
     },
     "metadata": {},
     "output_type": "display_data"
    }
   ],
   "source": [
    "values, counts = utils.get_frequencies(msrp_table, header, \"ModelYear\")\n",
    "\n",
    "def pie_chart_example(x, y):\n",
    "    plt.figure()\n",
    "    plt.pie(y, labels=x, autopct=\"%1.1f%%\")\n",
    "    plt.show()\n",
    "    \n",
    "\n",
    "pie_chart_example(values, counts)"
   ]
  },
  {
   "cell_type": "markdown",
   "metadata": {},
   "source": [
    "> Add another histogram with mean=100 and stdev=5 to the same histogram figure. Is the new histogram going to be narrower or wider than the original (blue)?\n",
    "\n",
    "The new histogram should be narrower because a smaller standard deviation means less spread."
   ]
  },
  {
   "cell_type": "code",
   "execution_count": 24,
   "metadata": {},
   "outputs": [
    {
     "data": {
      "image/png": "[encoded data removed]",
      "text/plain": [
       "<Figure size 432x288 with 1 Axes>"
      ]
     },
     "metadata": {
      "needs_background": "light"
     },
     "output_type": "display_data"
    }
   ],
   "source": [
    "def histogram_example(data_1, data_2):\n",
    "    # data is a 1D list of data values\n",
    "    plt.figure()\n",
    "    plt.hist(data_1, bins=10) # default is 10\n",
    "    plt.hist(data_2, bins=10) # default is still 10\n",
    "    plt.show()\n",
    "\n",
    "    \n",
    "# let's generate some random \"normal\" data\n",
    "import numpy as np \n",
    "mean = 100 # mu\n",
    "stdev = 10 # sigma \n",
    "num_samples = 1000 \n",
    "normal_data = np.random.normal(mean, stdev, num_samples)\n",
    "\n",
    "# here is the new sample\n",
    "new_mean = 100 # mu\n",
    "new_stdev = 5 # sigma\n",
    "new_normal_data = np.random.normal(new_mean, stdev, num_samples)\n",
    "histogram_example(normal_data, new_normal_data)"
   ]
  },
  {
   "cell_type": "markdown",
   "metadata": {},
   "source": [
    "> Add a parameter to `box_plot_example()` called `labels`, where `labels` is a 1D list of x-axis labels. Replace the 1 and 2 on the x-axis"
   ]
  },
  {
   "cell_type": "code",
   "execution_count": 30,
   "metadata": {},
   "outputs": [
    {
     "data": {
      "image/png": "[encoded data removed]",
      "text/plain": [
       "<Figure size 432x288 with 1 Axes>"
      ]
     },
     "metadata": {
      "needs_background": "light"
     },
     "output_type": "display_data"
    }
   ],
   "source": [
    "def box_plot_example(distributions, labels):\n",
    "    # distributions: list of 1D lists of values\n",
    "    plt.figure()\n",
    "    plt.boxplot(distributions)\n",
    "\n",
    "    plt.xticks(list(range(1, len(distributions) + 1)), labels)\n",
    "    # boxes correspond to the 1st and 3rd quartiles\n",
    "    # line in the middle of the box corresponds to the 2nd quartile (AKA median)\n",
    "    # whiskers corresponds to +/- 1.5 * IQR\n",
    "    # IQR: interquartile range (3rd quartile - 1st quartile)\n",
    "    # circles outside the whiskers correspond to outliers\n",
    "    \n",
    "    # annotations\n",
    "    # we want to add \"mu=100\" to the center of our figure\n",
    "    # xycoords=\"data\": default, specify the location of the label in the same\n",
    "    # xycoords = \"axes fraction\": specify the location of the label in absolute\n",
    "    # axes coordinates... 0,0 is the lower left corner, 1,1 is the upper right corner\n",
    "    # coordinates as the plotted data\n",
    "    plt.annotate(\"$\\mu=100$\", xy=(1.5, 105), xycoords=\"data\", horizontalalignment=\"center\")\n",
    "    plt.annotate(\"$\\mu=100$\", xy=(0.5, 0.5), xycoords=\"axes fraction\", \n",
    "                 horizontalalignment=\"center\", color=\"blue\")\n",
    "\n",
    "    plt.show()\n",
    "    \n",
    "normal_data2 = np.random.normal(mean, stdev / 2, num_samples)\n",
    "box_plot_example([normal_data, normal_data2], ['$\\sigma=10$', '$\\sigma=5$'])\n",
    "\n"
   ]
  },
  {
   "cell_type": "markdown",
   "metadata": {},
   "source": [
    "## Group By Task\n",
    "\n",
    "Our goal is to write a general groupby function that returns parallel lists\n",
    "\n",
    "* group names: e.g. 75, 76, 77\n",
    "* group subtables: e.g. all the 75 rows, all the 76 rows, all the 77 rows\n",
    "\n",
    "We will group by to produce a boxplot of MSRPs grouped by model year\n",
    "* x-axis: categorical attribute ModelYear\n",
    "* y-axis: continuous attribute MSRP (e.g. one box/whisker for each ModelYear)\n",
    "\n",
    "You can see the groupby implementation in `utils.py`."
   ]
  },
  {
   "cell_type": "code",
   "execution_count": 34,
   "metadata": {},
   "outputs": [
    {
     "name": "stdout",
     "output_type": "stream",
     "text": [
      "HEADER: [75, 76, 77]\n",
      "\n",
      "DATA:\n",
      "[[['ford pinto', 75, 2769], ['toyota corolla', 75, 2711]], [['ford pinto', 76, 3025]], [['toyota corolla', 77, 2789]]]\n"
     ]
    }
   ],
   "source": [
    "importlib.reload(utils)\n",
    "modelyear_names, modelyear_subtables = utils.groupby(msrp_table, header, 'ModelYear')\n",
    "print('HEADER:', modelyear_names)\n",
    "print()\n",
    "print('DATA:')\n",
    "print(modelyear_subtables)"
   ]
  },
  {
   "cell_type": "markdown",
   "metadata": {},
   "source": [
    "TASK: We need to extract the MSRP distributions (AKA columns) for each subtable and pass them to our `box_plot_example()`"
   ]
  }
 ],
 "metadata": {
  "interpreter": {
   "hash": "a707b6ce8c685eb936424fcc3009d4b4b7a52543c4db09380a3fc49186ceb509"
  },
  "kernelspec": {
   "display_name": "Python 3.9.7 ('base')",
   "language": "python",
   "name": "python3"
  },
  "language_info": {
   "codemirror_mode": {
    "name": "ipython",
    "version": 3
   },
   "file_extension": ".py",
   "mimetype": "text/x-python",
   "name": "python",
   "nbconvert_exporter": "python",
   "pygments_lexer": "ipython3",
   "version": "3.9.7"
  },
  "orig_nbformat": 4
 },
 "nbformat": 4,
 "nbformat_minor": 2
}
