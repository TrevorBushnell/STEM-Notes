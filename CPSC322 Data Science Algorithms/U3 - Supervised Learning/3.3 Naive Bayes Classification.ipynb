{
 "cells": [
  {
   "cell_type": "markdown",
   "metadata": {},
   "source": [
    "# 3.3: Naive Bayes Classification"
   ]
  },
  {
   "cell_type": "code",
   "execution_count": 1,
   "metadata": {},
   "outputs": [],
   "source": [
    "import numpy as np"
   ]
  },
  {
   "cell_type": "markdown",
   "metadata": {},
   "source": [
    "## Basic Probability\n",
    "\n",
    "* Probability is in the range $[0,1]$\n",
    "* $P(A)$: Probability that an event happens\n",
    "    * $P(A) = \\frac{\\text{total positive outcomes}}{\\text{total outcomes}}$\n",
    "* Conditional Probability ($P(A|B)$): probability of event $A$ occurring given that event $B$ has occurred\n",
    "    * Bayes Theorem: $P(A|B) = \\frac{P(A \\cap B)}{P(B)} = \\frac{P(B|A)P(A)}{P(B)}$\n",
    "\n",
    "> **Classification Big Picture:**\n",
    ">\n",
    "> Find the largest probability of a class *given* a test instance.\n",
    "\n",
    "## Notation\n",
    "\n",
    "* We are finding the largest $P(c_i|x)$\n",
    "    * $c_i$ is a class label\n",
    "    * $x$ is an instance\n",
    "* Using Bayes Theorem, we can simplify to $P(c_i|x) = \\frac{P(x|c_i)P(c_i)}{P(x)}$\n",
    "* We can ommit $P(x)$ because this value is constant for all class labels\n",
    "    * The reason this is constant is because it doesn't depend on $c_i$\n",
    "* $P(c_i)$ is your prior, so $\\frac{\\text{number of } c_i \\text{ instances}}{\\text{total \\# of instances}}$ (coming from your training set)\n",
    "    * `get_frequencies()` will help us do this\n",
    "* There are two ways to calculate $P(x|c_i)$\n",
    "    1. without assuming conditional independence $\\implies$ look at all attribute values $v_k$ together PLUS $c_i$\n",
    "        * $P(x|c_i) = \\frac{P(a_1 = v_1 \\cap a_2 = v_2 \\cap \\cdots \\cap a_n = v_n)}{P(c_i)}$ where $\\vec a$ is our attribute values\n",
    "        * restrictive... this will likely be low or zero\n",
    "    2. assuming conditional independence $\\implies$ the effects of an attribute on a class label are independent of other attributes\n",
    "        * $P(x|c_i) = \\prod_{k=1}^n P(v_k | c_i) = P(a_1 = v_1 | c_i) \\cdot P(a_2 = v_2 | c_i) \\cdot ... \\cdot P(a_n = v_n | c_i)$\n",
    "        * NOTE: $P(a_k = v_k | c_i) = \\frac{P(a_k = v_k \\cap \\,class = c_i)}{P(c_i)}$\n",
    "\n",
    "## Example\n",
    "\n",
    "![Example 3.1](images/3-3-a.PNG)"
   ]
  }
 ],
 "metadata": {
  "interpreter": {
   "hash": "a707b6ce8c685eb936424fcc3009d4b4b7a52543c4db09380a3fc49186ceb509"
  },
  "kernelspec": {
   "display_name": "Python 3.8.8 ('base')",
   "language": "python",
   "name": "python3"
  },
  "language_info": {
   "codemirror_mode": {
    "name": "ipython",
    "version": 3
   },
   "file_extension": ".py",
   "mimetype": "text/x-python",
   "name": "python",
   "nbconvert_exporter": "python",
   "pygments_lexer": "ipython3",
   "version": "3.8.8"
  },
  "orig_nbformat": 4
 },
 "nbformat": 4,
 "nbformat_minor": 2
}
