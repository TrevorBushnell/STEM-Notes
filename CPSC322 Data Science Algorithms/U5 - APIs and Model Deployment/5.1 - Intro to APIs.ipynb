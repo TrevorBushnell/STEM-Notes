{
 "cells": [
  {
   "cell_type": "markdown",
   "metadata": {},
   "source": [
    "# 5.1: Intro to APIs\n",
    "\n",
    "* Data scientists can utilize data from a variety of sources. One classification of sources:\n",
    "    1. **static:** data source that doesn't update its contents (e.g., a csv on your hard drive)\n",
    "    2. **dynamic:** data source that provides up-to-date data when requested\n",
    "        * *query* a database\n",
    "        * *request*/*fetch* from an API\n",
    "        * *scraping* from a website\n",
    "* **API**: **A**pplication **P**rogramming **I**nterface\n",
    "    * A set of functions that a programmer can use without needing to know the implementation (e.g. Python's `random` module)\n",
    "    * *Web API:* a set of endpoints (functions) that are hosted on a server listening for requests from a client (e.g. iTunes Search API)\n",
    "\n",
    "[INCLUDE IMAGE OF CLIENT/SERVER RELATIONSHIP OF THE API HERE]\n",
    "\n",
    "## Components of a URL\n",
    "\n",
    "Here is an example URL:\n",
    "\n",
    "`https://itunes.apple.com/search?term=thor&media=movie`\n",
    "\n",
    "* `https`: protocol\n",
    "* `itunes`: subdomain\n",
    "* `apple.com`: domain\n",
    "* `/search`: path to the endpoint\n",
    "* `?`: start of the query string\n",
    "* `term=thor&media=movie`: query string (`&`-separated list of key-equal value pairs)\n",
    "\n",
    "> When learning an API, you MUST read the documentation to understand how it works (there are no shortcuts!)"
   ]
  },
  {
   "cell_type": "markdown",
   "metadata": {},
   "source": [
    "## How to Use Python for Client-Side API Work"
   ]
  },
  {
   "cell_type": "code",
   "execution_count": 4,
   "metadata": {},
   "outputs": [],
   "source": [
    "import requests\n",
    "import json"
   ]
  },
  {
   "cell_type": "markdown",
   "metadata": {},
   "source": [
    "* `requests`: a library that helps with making HTTP requests\n",
    "* `json`: a library that helps with managing JSON files/objects\n",
    "\n",
    "We will need to have a variable that stores the *base* url and the *query string*:"
   ]
  },
  {
   "cell_type": "code",
   "execution_count": 5,
   "metadata": {},
   "outputs": [
    {
     "name": "stdout",
     "output_type": "stream",
     "text": [
      "https://itunes.apple.com/search?term=thor&media=movie\n"
     ]
    }
   ],
   "source": [
    "url = \"https://itunes.apple.com/search?\"\n",
    "url += \"term=thor&media=movie\"\n",
    "print(url)"
   ]
  },
  {
   "cell_type": "markdown",
   "metadata": {},
   "source": [
    "Finally, we need to make a `GET` request, and the response we get from the server will be stored in a variable called `response`:"
   ]
  },
  {
   "cell_type": "code",
   "execution_count": 6,
   "metadata": {},
   "outputs": [
    {
     "name": "stdout",
     "output_type": "stream",
     "text": [
      "<Response [200]>\n"
     ]
    }
   ],
   "source": [
    "response = requests.get(url)\n",
    "print(response)"
   ]
  },
  {
   "cell_type": "markdown",
   "metadata": {},
   "source": [
    "The printed output above shows a **status code**. It is vital that you check the status code before moving on. In our case, our status code is `200` which means that our response indeed worked. \n",
    "\n",
    "You can also write the following code to get the status code to work:"
   ]
  },
  {
   "cell_type": "code",
   "execution_count": 7,
   "metadata": {},
   "outputs": [
    {
     "name": "stdout",
     "output_type": "stream",
     "text": [
      "status code: 200\n"
     ]
    }
   ],
   "source": [
    "print('status code:', response.status_code)"
   ]
  },
  {
   "cell_type": "markdown",
   "metadata": {},
   "source": [
    "now, based on the status code, we want to parse the message body so that we can get the data that we pulled from the API. We want the results list so we can iterate through each result JSON object and grab the result's trackName (movie name)."
   ]
  },
  {
   "cell_type": "code",
   "execution_count": 16,
   "metadata": {},
   "outputs": [
    {
     "name": "stdout",
     "output_type": "stream",
     "text": [
      "Thor\n",
      "Duration 1.928581388888889\n",
      "\n",
      "Thor: Ragnarok\n",
      "Duration 2.1831063888888886\n",
      "\n",
      "Thor: The Dark World\n",
      "Duration 1.8782069444444445\n",
      "\n",
      "Thor: Tales of Asgard\n",
      "Duration 1.2821333333333336\n",
      "\n",
      "I Am Thor\n",
      "Duration 1.3772911111111108\n",
      "\n",
      "Valhalla: The Legend of Thor (Dubbed)\n",
      "Duration 1.7584444444444443\n",
      "\n"
     ]
    }
   ],
   "source": [
    "if response.status_code == 200:\n",
    "    json_obj = json.loads(response.text)\n",
    "    results_list = json_obj[\"results\"]\n",
    "    for result_obj in results_list:\n",
    "        print(result_obj[\"trackName\"])\n",
    "        print('Duration', result_obj[\"trackTimeMillis\"] / 1000 / 60 / 60)\n",
    "        print()"
   ]
  },
  {
   "cell_type": "markdown",
   "metadata": {},
   "source": [
    "## Example: Gina's Deployed Decision Tree"
   ]
  },
  {
   "cell_type": "code",
   "execution_count": 18,
   "metadata": {},
   "outputs": [
    {
     "name": "stdout",
     "output_type": "stream",
     "text": [
      "{\"prediction\":\"True\"}\n",
      "\n"
     ]
    }
   ],
   "source": [
    "url = \"https://interview-flask-app.herokuapp.com/predict?\"\n",
    "url += \"level=Junior&lang=Java&tweets=yes&phd=no\"\n",
    "\n",
    "response = requests.get(url)\n",
    "print(response.text)"
   ]
  }
 ],
 "metadata": {
  "interpreter": {
   "hash": "a707b6ce8c685eb936424fcc3009d4b4b7a52543c4db09380a3fc49186ceb509"
  },
  "kernelspec": {
   "display_name": "Python 3.8.8 ('base')",
   "language": "python",
   "name": "python3"
  },
  "language_info": {
   "codemirror_mode": {
    "name": "ipython",
    "version": 3
   },
   "file_extension": ".py",
   "mimetype": "text/x-python",
   "name": "python",
   "nbconvert_exporter": "python",
   "pygments_lexer": "ipython3",
   "version": "3.8.8"
  },
  "orig_nbformat": 4
 },
 "nbformat": 4,
 "nbformat_minor": 2
}
