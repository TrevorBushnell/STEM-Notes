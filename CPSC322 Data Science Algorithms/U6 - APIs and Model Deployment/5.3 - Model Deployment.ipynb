{
 "cells": [
  {
   "cell_type": "markdown",
   "metadata": {},
   "source": [
    "# 5.3: Model Deployment"
   ]
  },
  {
   "cell_type": "markdown",
   "metadata": {},
   "source": [
    "## Overview:\n",
    "\n",
    "1. Install Heroku CLI\n",
    "    * `curl https://cli-assets.heroku.com/install.sh | sh`\n",
    "2. `interview_app.py`\n",
    "```python\n",
    "import os\n",
    "port = os.environ.get(\"PORT\", 5000)\n",
    "app.run(debug=False, port=port, host=\"0.0.0.0\")\n",
    "```\n",
    "\n",
    "3. Dockerfile\n",
    "    * `FROM continuumio/anaconda3:2021.11`\n",
    "    * `ADD . /code`\n",
    "    * `WORKDIR /code`\n",
    "    * `ENTRYPOINT [\"python\", \"interview_app.py\"]`\n",
    "\n",
    "4. `heroku.yml`\n",
    "```yml\n",
    "build:\n",
    "    docker:\n",
    "        web: Dockerfile\n",
    "```\n",
    "\n",
    "5. Deploy Steps\n",
    "    * `git init`\n",
    "    * `git add -A`\n",
    "    * `git commit -m \"initial`\n",
    "    * `heroku login -i`\n",
    "    * `heroku create interview_app.py`\n",
    "    * `heroku stack:set container`\n",
    "    * `git push heroku master`"
   ]
  }
 ],
 "metadata": {
  "interpreter": {
   "hash": "a707b6ce8c685eb936424fcc3009d4b4b7a52543c4db09380a3fc49186ceb509"
  },
  "kernelspec": {
   "display_name": "Python 3.8.8 ('base')",
   "language": "python",
   "name": "python3"
  },
  "language_info": {
   "name": "python",
   "version": "3.8.8"
  },
  "orig_nbformat": 4
 },
 "nbformat": 4,
 "nbformat_minor": 2
}
