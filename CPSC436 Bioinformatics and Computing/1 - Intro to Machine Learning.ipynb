{
 "cells": [
  {
   "cell_type": "markdown",
   "metadata": {},
   "source": [
    "# 1. Intro to Machine Learning"
   ]
  },
  {
   "cell_type": "markdown",
   "metadata": {},
   "source": [
    "## A. Machine Learning Definition\n",
    "\n",
    "> **MACHINE LEARNING:** field of study that gives computers the ability to learn without being explicitly programmed\n",
    "\n",
    "* well-posed learning problem: A computer program is said to learn from experience $E$ with respect to some task $T$ and some performance measure $P$ if its performance on $T$ as measured by $P$ improves with the experience $E$\n",
    "* ML algorithms: supervised VS unsupervised\n",
    "  * supervised learning:\n",
    "  * unsupervised learning:\n",
    "  * others: reinforcement learning, recommender systems, one-shot learning"
   ]
  },
  {
   "cell_type": "markdown",
   "metadata": {},
   "source": [
    "## B. Biomedical ML Examples\n",
    "\n",
    "* Breat cancer detection\n",
    "  * $T$: classifying tumors as malignant or benign\n",
    "  * $E$: tumors already classified as malignant or benign by doctors\n",
    "  * $P$: the fraction of timors correctly classified (also known as the *accuracy*)\n",
    "* Diabetes detection\n",
    "* Diagnoses of Heart Arrhythmia\n",
    "* Microarray gene expression"
   ]
  },
  {
   "cell_type": "markdown",
   "metadata": {},
   "source": [
    "## C. Supervised Learning: \"right\" answers are given\n",
    "\n",
    "* Regression: Diabetes progression prediction\n",
    "  * we can use a linear regression model with a line of best fit to predict diabetes progression based on BMI\n",
    "  * TL;DR - predict a #, $\\infty$ possible outputs\n",
    "* Classification: find patterns using other attributes in the dataset to make some sort of prediction\n",
    "  * can be binary classification or can classify various different types\n",
    "  * in classification, we predict categories rather than numbers\n",
    "  * will have a small number of outputs\n",
    "* Unsupervised Learning: finding something interesting in unrelated data\n",
    "  * Clustering - program recognizes data is similar to each other\n",
    "  * other examples include DNA microarrays, grouping patients, etc."
   ]
  }
 ],
 "metadata": {
  "kernelspec": {
   "display_name": "Python 3.9.12 ('base')",
   "language": "python",
   "name": "python3"
  },
  "language_info": {
   "name": "python",
   "version": "3.9.12"
  },
  "orig_nbformat": 4,
  "vscode": {
   "interpreter": {
    "hash": "08849f8dffc3f27fb59cf06aefb79cb7a49147ad49564f36fdad5976b28849fb"
   }
  }
 },
 "nbformat": 4,
 "nbformat_minor": 2
}
