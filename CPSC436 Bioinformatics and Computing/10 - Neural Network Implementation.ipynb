{
 "cells": [
  {
   "cell_type": "markdown",
   "metadata": {},
   "source": [
    "# 10: Neural Network Implementation"
   ]
  },
  {
   "cell_type": "markdown",
   "metadata": {},
   "source": [
    "## A. `TensorFlow` Implementation\n",
    "\n",
    "* An open-source ML ilibrary implemented by Google\n",
    "* Rapid prototyping and modeling of models"
   ]
  },
  {
   "cell_type": "markdown",
   "metadata": {},
   "source": [
    "## B. Inference in Code\n",
    "\n",
    "```python\n",
    "x = np.array([[17.99, 10.38]])\n",
    "layer_1 = Dense(units=3, activation='sigmoid')\n",
    "a_1 = layer_1(x)\n",
    "layer_2 = Dense(units=1, activation='sigmoid')\n",
    "a_2 = layer_2(a_1)\n",
    "# You can keep adding attitional layers here if you want to keep expanding your model\n",
    "\n",
    "if a_2 >= 0.5:\n",
    "    yhat = 1\n",
    "else:\n",
    "    yhat = 0\n",
    "```"
   ]
  }
 ],
 "metadata": {
  "kernelspec": {
   "display_name": "Python 3.9.12 ('base')",
   "language": "python",
   "name": "python3"
  },
  "language_info": {
   "codemirror_mode": {
    "name": "ipython",
    "version": 3
   },
   "file_extension": ".py",
   "mimetype": "text/x-python",
   "name": "python",
   "nbconvert_exporter": "python",
   "pygments_lexer": "ipython3",
   "version": "3.9.12"
  },
  "orig_nbformat": 4,
  "vscode": {
   "interpreter": {
    "hash": "08849f8dffc3f27fb59cf06aefb79cb7a49147ad49564f36fdad5976b28849fb"
   }
  }
 },
 "nbformat": 4,
 "nbformat_minor": 2
}
