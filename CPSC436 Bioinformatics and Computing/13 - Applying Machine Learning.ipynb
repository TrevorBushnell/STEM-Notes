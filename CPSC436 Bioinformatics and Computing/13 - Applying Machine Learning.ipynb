{
 "cells": [
  {
   "cell_type": "markdown",
   "metadata": {},
   "source": [
    "# #13: Applying Machine Learning"
   ]
  },
  {
   "cell_type": "markdown",
   "metadata": {},
   "source": [
    "## A. Advice for Applying ML\n",
    "\n",
    "* Deciding what to try next - if you have unacceptably large errors in prediction, try:\n",
    "    1. get more training examples\n",
    "    2. try smaller sets of features\n",
    "    3. try getting additional features\n",
    "    4. try adding polynomial features ($x_1^2, x_2^2, x_1x_2$, etc.)\n",
    "    5. try decreasing $\\lambda$\n",
    "    6. try increasing $\\lambda$\n",
    "* Try running ML diagnostics - test that you run to gain insight into what is/isn't working with a learning algorithm to gain guidance into improving its performance\n",
    "* Evaluating a model - you can have a model that fits the training data well but will fail to generalize to *new* examples not in the training set\n",
    "* Try splitting your data into a training and testing set (should be 70% training and 30% testing) and compute the test and train error\n",
    "  * a more common way to compute test and train error for a classification problem is to see the fraction of the test set and the fraction of the train set that the algorithm has *misclassified*\n",
    "* Training set, dependent set, cross-validation set, test set\n",
    "  * Then your errors are the same formula for each part of the test and you can compare these errors"
   ]
  }
 ],
 "metadata": {
  "kernelspec": {
   "display_name": "Python 3.9.12 ('base')",
   "language": "python",
   "name": "python3"
  },
  "language_info": {
   "name": "python",
   "version": "3.9.12"
  },
  "orig_nbformat": 4,
  "vscode": {
   "interpreter": {
    "hash": "08849f8dffc3f27fb59cf06aefb79cb7a49147ad49564f36fdad5976b28849fb"
   }
  }
 },
 "nbformat": 4,
 "nbformat_minor": 2
}
