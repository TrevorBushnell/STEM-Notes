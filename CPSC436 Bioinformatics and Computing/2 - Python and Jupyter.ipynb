{
 "cells": [
  {
   "cell_type": "markdown",
   "metadata": {},
   "source": [
    "# 2. Python and Jupyter"
   ]
  },
  {
   "cell_type": "markdown",
   "metadata": {},
   "source": [
    "## A. Specific Features of Python\n",
    "\n",
    "* Everything in Python is an object\n",
    "* Dynamic typing\n",
    "```c\n",
    "int main()\n",
    "{\n",
    "    int x = 3; // we explicity state the type in this statement\n",
    "    .\n",
    "    .\n",
    "    .\n",
    "}\n",
    "```\n",
    "\n",
    "In Python, types are completely inferred and can change based on how the variable is updated!"
   ]
  },
  {
   "cell_type": "code",
   "execution_count": 1,
   "metadata": {},
   "outputs": [
    {
     "name": "stdout",
     "output_type": "stream",
     "text": [
      "3\n",
      "<class 'int'>\n",
      "\n",
      "4.5\n",
      "<class 'float'>\n"
     ]
    }
   ],
   "source": [
    "x = 3\n",
    "print(x)\n",
    "print(type(x))\n",
    "print()\n",
    "\n",
    "# we are updating the value of x to a different type and now watch what happens!\n",
    "x = 4.5\n",
    "print(x)\n",
    "print(type(x))"
   ]
  },
  {
   "cell_type": "markdown",
   "metadata": {},
   "source": [
    "## B. Python Basics\n",
    "\n",
    "### Loops\n",
    "\n",
    "> NOTE: Python uses indentation for code blocks rather than wrapping code blocks in `{}`\n",
    "\n",
    "```c\n",
    "// for loop that iterates a certain number of times in C\n",
    "for (int i = 0; i < 10; ++i)\n",
    "{\n",
    "    ...\n",
    "}\n",
    "```"
   ]
  },
  {
   "cell_type": "code",
   "execution_count": 2,
   "metadata": {},
   "outputs": [
    {
     "name": "stdout",
     "output_type": "stream",
     "text": [
      "0\n",
      "1\n",
      "2\n",
      "3\n",
      "4\n",
      "5\n",
      "6\n",
      "7\n",
      "8\n",
      "9\n"
     ]
    }
   ],
   "source": [
    "# for loop that iterates a certain number of times IN PYTHON\n",
    "for i in range(10): # for loop will iterate 10 times, note that with the range() function we start at 0 and don't include the parameter\n",
    "    print(i)"
   ]
  },
  {
   "cell_type": "code",
   "execution_count": 3,
   "metadata": {},
   "outputs": [
    {
     "name": "stdout",
     "output_type": "stream",
     "text": [
      "3\n",
      "6\n",
      "9\n",
      "12\n",
      "15\n",
      "18\n",
      "21\n"
     ]
    }
   ],
   "source": [
    "# you can also iterate with different start, stop, and step sizes\n",
    "for i in range(3, 22, 3):\n",
    "    print(i)"
   ]
  },
  {
   "cell_type": "markdown",
   "metadata": {},
   "source": [
    "### Conditionals"
   ]
  },
  {
   "cell_type": "code",
   "execution_count": 4,
   "metadata": {},
   "outputs": [
    {
     "name": "stdout",
     "output_type": "stream",
     "text": [
      "0\n",
      "11\n",
      "-8\n",
      "3\n",
      "14\n"
     ]
    }
   ],
   "source": [
    "for i in range(0, 5):\n",
    "    if i % 3 == 0:\n",
    "        print(i)\n",
    "    elif i % 3 == 1:\n",
    "        print(i + 10)\n",
    "    else:\n",
    "        print(i - 10)"
   ]
  },
  {
   "cell_type": "markdown",
   "metadata": {},
   "source": [
    "### Functions"
   ]
  },
  {
   "cell_type": "code",
   "execution_count": 5,
   "metadata": {},
   "outputs": [
    {
     "name": "stdout",
     "output_type": "stream",
     "text": [
      "3\n",
      "5\n",
      "0\n"
     ]
    }
   ],
   "source": [
    "def my_abs(val):\n",
    "    if val < 0:\n",
    "        return 0 - val\n",
    "    return val\n",
    "\n",
    "print(my_abs(3))\n",
    "print(my_abs(-5))\n",
    "print(my_abs(0))"
   ]
  },
  {
   "cell_type": "markdown",
   "metadata": {},
   "source": [
    "### Common Data Structures in Python\n",
    "\n",
    "* Lists - mutable"
   ]
  },
  {
   "cell_type": "code",
   "execution_count": 6,
   "metadata": {},
   "outputs": [
    {
     "name": "stdout",
     "output_type": "stream",
     "text": [
      "22\n"
     ]
    },
    {
     "ename": "IndexError",
     "evalue": "list index out of range",
     "output_type": "error",
     "traceback": [
      "\u001b[0;31m---------------------------------------------------------------------------\u001b[0m",
      "\u001b[0;31mIndexError\u001b[0m                                Traceback (most recent call last)",
      "\u001b[1;32m/home/tbushnell/GitHub/STEM-Notes/CPSC436 Bioinformatics and Computing/2 - Python and Jupyter.ipynb Cell 12\u001b[0m in \u001b[0;36m<cell line: 3>\u001b[0;34m()\u001b[0m\n\u001b[1;32m      <a href='vscode-notebook-cell:/home/tbushnell/GitHub/STEM-Notes/CPSC436%20Bioinformatics%20and%20Computing/2%20-%20Python%20and%20Jupyter.ipynb#X24sZmlsZQ%3D%3D?line=0'>1</a>\u001b[0m my_list \u001b[39m=\u001b[39m [\u001b[39m11\u001b[39m, \u001b[39m22\u001b[39m, \u001b[39m33\u001b[39m]\n\u001b[1;32m      <a href='vscode-notebook-cell:/home/tbushnell/GitHub/STEM-Notes/CPSC436%20Bioinformatics%20and%20Computing/2%20-%20Python%20and%20Jupyter.ipynb#X24sZmlsZQ%3D%3D?line=1'>2</a>\u001b[0m \u001b[39mprint\u001b[39m(my_list[\u001b[39m1\u001b[39m])\n\u001b[0;32m----> <a href='vscode-notebook-cell:/home/tbushnell/GitHub/STEM-Notes/CPSC436%20Bioinformatics%20and%20Computing/2%20-%20Python%20and%20Jupyter.ipynb#X24sZmlsZQ%3D%3D?line=2'>3</a>\u001b[0m \u001b[39mprint\u001b[39m(my_list[\u001b[39m3\u001b[39;49m])\n",
      "\u001b[0;31mIndexError\u001b[0m: list index out of range"
     ]
    }
   ],
   "source": [
    "my_list = [11, 22, 33]\n",
    "print(my_list[1])\n",
    "print(my_list[3]) # because 0 based indexing this will error"
   ]
  },
  {
   "cell_type": "markdown",
   "metadata": {},
   "source": [
    "* It is possible to put different data types in a list\n",
    "* You can also iterate over lists with a special for loop"
   ]
  },
  {
   "cell_type": "code",
   "execution_count": 7,
   "metadata": {},
   "outputs": [
    {
     "name": "stdout",
     "output_type": "stream",
     "text": [
      "11\n",
      "22\n",
      "33\n"
     ]
    }
   ],
   "source": [
    "for val in my_list:\n",
    "    print(val)"
   ]
  },
  {
   "cell_type": "markdown",
   "metadata": {},
   "source": [
    "* Tuples - immutable lists"
   ]
  },
  {
   "cell_type": "code",
   "execution_count": 1,
   "metadata": {},
   "outputs": [
    {
     "data": {
      "text/plain": [
       "'civic'"
      ]
     },
     "execution_count": 1,
     "metadata": {},
     "output_type": "execute_result"
    }
   ],
   "source": [
    "tuple1 = ('honda', 'civic', 4, 2017)\n",
    "tuple1[1]"
   ]
  },
  {
   "cell_type": "code",
   "execution_count": 2,
   "metadata": {},
   "outputs": [
    {
     "name": "stdout",
     "output_type": "stream",
     "text": [
      "honda\n",
      "civic\n",
      "4\n",
      "2017\n"
     ]
    }
   ],
   "source": [
    "for i in tuple1:\n",
    "    print(i)"
   ]
  },
  {
   "cell_type": "markdown",
   "metadata": {},
   "source": [
    "* Changing the values in a tuple will lead to an error"
   ]
  },
  {
   "cell_type": "code",
   "execution_count": 3,
   "metadata": {},
   "outputs": [
    {
     "ename": "TypeError",
     "evalue": "'tuple' object does not support item assignment",
     "output_type": "error",
     "traceback": [
      "\u001b[0;31m---------------------------------------------------------------------------\u001b[0m",
      "\u001b[0;31mTypeError\u001b[0m                                 Traceback (most recent call last)",
      "\u001b[1;32m/home/tbushnell/GitHub/STEM-Notes/CPSC436 Bioinformatics and Computing/2 - Python and Jupyter.ipynb Cell 19\u001b[0m in \u001b[0;36m<cell line: 1>\u001b[0;34m()\u001b[0m\n\u001b[0;32m----> <a href='vscode-notebook-cell:/home/tbushnell/GitHub/STEM-Notes/CPSC436%20Bioinformatics%20and%20Computing/2%20-%20Python%20and%20Jupyter.ipynb#X26sZmlsZQ%3D%3D?line=0'>1</a>\u001b[0m tuple1[\u001b[39m0\u001b[39;49m] \u001b[39m=\u001b[39m \u001b[39m'\u001b[39m\u001b[39mford\u001b[39m\u001b[39m'\u001b[39m\n",
      "\u001b[0;31mTypeError\u001b[0m: 'tuple' object does not support item assignment"
     ]
    }
   ],
   "source": [
    "tuple1[0] = 'ford'"
   ]
  },
  {
   "cell_type": "markdown",
   "metadata": {},
   "source": [
    "* Dictionaries - store key/value pairs\n",
    "* The keys are all the same data type, but the values they map to can be any data type\n",
    "\n",
    "|Key|Value|\n",
    "|-|-|\n",
    "|'A1234'|'David Smith'|\n",
    "|'A1235'|'Maria Sanchez'|"
   ]
  },
  {
   "cell_type": "code",
   "execution_count": 4,
   "metadata": {},
   "outputs": [
    {
     "data": {
      "text/plain": [
       "5.4"
      ]
     },
     "execution_count": 4,
     "metadata": {},
     "output_type": "execute_result"
    }
   ],
   "source": [
    "my_dict = {('Ghostbusters', 2016):5.4, ('Ghostbusters', 1984):7.8}\n",
    "my_dict[('Ghostbusters', 2016)]"
   ]
  },
  {
   "cell_type": "code",
   "execution_count": 5,
   "metadata": {},
   "outputs": [
    {
     "data": {
      "text/plain": [
       "{('Ghostbusters', 2016): 5.4, ('Ghostbusters', 1984): 7.8, ('Cars', 2006): 7.1}"
      ]
     },
     "execution_count": 5,
     "metadata": {},
     "output_type": "execute_result"
    }
   ],
   "source": [
    "# add a key-value pair to a dictionary\n",
    "my_dict[('Cars', 2006)] = 7.1\n",
    "my_dict"
   ]
  },
  {
   "cell_type": "markdown",
   "metadata": {},
   "source": [
    "* You can iterate over a dictionary, but the following example will itereate over ONLY the keys:"
   ]
  },
  {
   "cell_type": "code",
   "execution_count": 6,
   "metadata": {},
   "outputs": [
    {
     "name": "stdout",
     "output_type": "stream",
     "text": [
      "('Ghostbusters', 2016)\n",
      "('Ghostbusters', 1984)\n",
      "('Cars', 2006)\n"
     ]
    }
   ],
   "source": [
    "for i in my_dict:\n",
    "    print(i)"
   ]
  },
  {
   "cell_type": "code",
   "execution_count": 10,
   "metadata": {},
   "outputs": [
    {
     "name": "stdout",
     "output_type": "stream",
     "text": [
      "('Ghostbusters', 2016) : 5.4\n",
      "('Ghostbusters', 1984) : 7.8\n",
      "('Cars', 2006) : 7.1\n"
     ]
    }
   ],
   "source": [
    "for key, value in my_dict.items():\n",
    "    print(key, ':', value)"
   ]
  },
  {
   "cell_type": "code",
   "execution_count": 13,
   "metadata": {},
   "outputs": [
    {
     "name": "stdout",
     "output_type": "stream",
     "text": [
      "1\n",
      "5\n"
     ]
    }
   ],
   "source": [
    "example_dict = {'a':[1,2,3], 'b':[4,5,6]}\n",
    "print(example_dict['a'][0])\n",
    "print(example_dict['b'][-2])"
   ]
  },
  {
   "cell_type": "markdown",
   "metadata": {},
   "source": [
    "## D. Jupyter\n",
    "\n",
    "* Integrate live code, equations, visualization, etc.\n",
    "* better documentation of code for data science\n",
    "* presentation of results\n",
    "* support Julia, Python, R, etc.\n",
    "* These notes are taken inside Jupyter notebooks!\n",
    "* You can write text using Markdown in Markdown cells, which is a styling language that has commands for bolding/italicizing text, getting headers, tables, and more\n",
    "* Additionally, you can write and run code in code cells. Each code cell has a place where you can write code and a space for the output of the code in that cell\n",
    "* If you know HTML, then you can use HTML tags in Markdown cells to do some really crazy stuff"
   ]
  }
 ],
 "metadata": {
  "kernelspec": {
   "display_name": "Python 3.9.12 ('base')",
   "language": "python",
   "name": "python3"
  },
  "language_info": {
   "codemirror_mode": {
    "name": "ipython",
    "version": 3
   },
   "file_extension": ".py",
   "mimetype": "text/x-python",
   "name": "python",
   "nbconvert_exporter": "python",
   "pygments_lexer": "ipython3",
   "version": "3.9.12"
  },
  "orig_nbformat": 4,
  "vscode": {
   "interpreter": {
    "hash": "08849f8dffc3f27fb59cf06aefb79cb7a49147ad49564f36fdad5976b28849fb"
   }
  }
 },
 "nbformat": 4,
 "nbformat_minor": 2
}
