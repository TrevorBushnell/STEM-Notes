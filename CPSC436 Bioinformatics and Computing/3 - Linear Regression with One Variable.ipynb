{
 "cells": [
  {
   "cell_type": "markdown",
   "metadata": {},
   "source": [
    "# 3: Linear Regression with One Variable"
   ]
  },
  {
   "cell_type": "markdown",
   "metadata": {},
   "source": [
    "## A. Model Representation \n",
    "\n",
    "* This is *supervised learning*\n",
    "* This is a *regression problem* because we are predicting a number\n",
    "* EX: Diabetes progression prediction\n",
    "\n",
    "|BMI|Diabetes Progression|\n",
    "|-|-|\n",
    "|32.1|151|\n",
    "|21.6|75|\n",
    "|30.6|141|\n",
    "|22.6|97|\n",
    "\n",
    "* Notations:\n",
    "  * $m$ = # of training examples\n",
    "  * $x$ = input variable(s)/feature(s)\n",
    "  * $y$ = output variable(s)/target(s)\n",
    "  * $(x,y)$ = single training example\n",
    "  * $(x_i, y_i)$ = the i-th training example\n",
    "    * Ex: $(x_1, y_1) = (32.1, 151)$\n",
    "  * $\\hat y$ = the predicted output\n",
    "* Goal: develop a training set, use the training set on a learning algorithm to generate some sort of model/predictor, then use that model on a developed test set\n",
    "  \n",
    "> **The Linear Regression Model (Univariate Linear Regression):**\n",
    "> \n",
    "> $$ f(x)_{w,x} = wx + b $$\n",
    "> \n",
    "> Where $w$ and $x$ are the parameters/coefficients of the model"
   ]
  },
  {
   "cell_type": "markdown",
   "metadata": {},
   "source": [
    "## B. Squared Error Cost Function\n",
    "\n",
    "$$ J(w,b) = \\frac{1}{2m}\\sum_{i=1}^m \\left(\\hat y^{(i)}-y^{(i)}\\right)^2 = \\frac{1}{2m}\\sum_{i=1}^m \\left(f_{w,b}(x^{(i)})-y^{(i)}\\right)^2 $$\n",
    "\n",
    "Where $m$ is the number of training examples.\n",
    "\n",
    "* The goal is you want to find a linear regression model (a $w$ and $b$) so that $\\hat y^{(i)}$ is close to $y^{(i)}$ for all $(x^{(i)}, y^{(i)})$"
   ]
  },
  {
   "cell_type": "markdown",
   "metadata": {},
   "source": [
    "## C. `numpy` - Python Library Dealing With Arrays\n",
    "\n",
    "* much faster/more optimized than a normal list in Python\n",
    "* these arrays are indexed just like normal lists in Python, but they also can be indexed in unique ways (as seen with 2D arrays)"
   ]
  },
  {
   "cell_type": "code",
   "execution_count": 1,
   "metadata": {},
   "outputs": [
    {
     "name": "stdout",
     "output_type": "stream",
     "text": [
      "[1 2 3 4 5]\n"
     ]
    }
   ],
   "source": [
    "import numpy as np\n",
    "\n",
    "# create a numpy array (1-D) from a normal python list\n",
    "np_1d_arr = np.array([1, 2, 3, 4, 5])\n",
    "print(np_1d_arr)"
   ]
  },
  {
   "cell_type": "markdown",
   "metadata": {},
   "source": [
    "* You can also create 2-D arrays with numpy (or any dimension of arrays with numpy, but 2D is helpful for manipulating data in data sience/bioinformatics)\n",
    "* You can index differently with numpy arrays - just do row comma column instead of a set of brackets for the row and column"
   ]
  },
  {
   "cell_type": "code",
   "execution_count": 2,
   "metadata": {},
   "outputs": [
    {
     "name": "stdout",
     "output_type": "stream",
     "text": [
      "Third element on second row: 6\n"
     ]
    }
   ],
   "source": [
    "np_2d_arr = np.array([[1,2,3], [4,5,6]])\n",
    "print('Third element on second row:', np_2d_arr[1,2])"
   ]
  },
  {
   "cell_type": "markdown",
   "metadata": {},
   "source": [
    "* Here are some other useful functions with numpy arrays:"
   ]
  },
  {
   "cell_type": "code",
   "execution_count": 3,
   "metadata": {},
   "outputs": [
    {
     "name": "stdout",
     "output_type": "stream",
     "text": [
      "Dimensions of the 2D numpy array: 2\n",
      "Shape of the 2D numpy array: (2, 3)\n",
      "Number of rows in the 2D array: 2\n"
     ]
    }
   ],
   "source": [
    "# check dimensions\n",
    "dim = np_2d_arr.ndim\n",
    "print('Dimensions of the 2D numpy array:', dim)\n",
    "\n",
    "# check the shape (number of rows and columns)\n",
    "arr_shape = np_2d_arr.shape\n",
    "print('Shape of the 2D numpy array:', arr_shape)\n",
    "# Shape can also be indexed to get just the rows or just the columns\n",
    "print('Number of rows in the 2D array:', arr_shape[0])"
   ]
  },
  {
   "cell_type": "markdown",
   "metadata": {},
   "source": [
    "* Array slicing is done as follows:"
   ]
  },
  {
   "cell_type": "code",
   "execution_count": 4,
   "metadata": {},
   "outputs": [
    {
     "name": "stdout",
     "output_type": "stream",
     "text": [
      "[2 3 4 5]\n"
     ]
    }
   ],
   "source": [
    "big_array = np.array([1,2,3,4,5,6,7])\n",
    "sub_array = big_array[1:5] # index from 1 to 4 (the last index is NOT included)\n",
    "print(sub_array)"
   ]
  },
  {
   "cell_type": "code",
   "execution_count": 5,
   "metadata": {},
   "outputs": [
    {
     "name": "stdout",
     "output_type": "stream",
     "text": [
      "[5 6 7]\n"
     ]
    }
   ],
   "source": [
    "# slice from a certain index to the end of the array\n",
    "sub_array = big_array[4:]\n",
    "print(sub_array)"
   ]
  },
  {
   "cell_type": "code",
   "execution_count": 6,
   "metadata": {},
   "outputs": [
    {
     "name": "stdout",
     "output_type": "stream",
     "text": [
      "[1 2 3 4]\n"
     ]
    }
   ],
   "source": [
    "# slice from the beginning to a certain index (but keep in mind that index won't be included)\n",
    "sub_array = big_array[:4]\n",
    "print(sub_array)"
   ]
  },
  {
   "cell_type": "code",
   "execution_count": 9,
   "metadata": {},
   "outputs": [
    {
     "name": "stdout",
     "output_type": "stream",
     "text": [
      "[7 8 9]\n",
      "[3 8]\n",
      "[[2 3 4]\n",
      " [7 8 9]]\n"
     ]
    }
   ],
   "source": [
    "# special indexing\n",
    "\n",
    "big_array = np.array([[1,2,3,4,5], [6,7,8,9,10]])\n",
    "print(big_array[1, 1:4])\n",
    "print(big_array[0:2, 2])\n",
    "print(big_array[0:2, 1:4])"
   ]
  },
  {
   "cell_type": "markdown",
   "metadata": {},
   "source": [
    "## D. Plotting with `matplotlib`\n",
    "\n",
    "* We can make various different plots of our data using the package `matplotlib`\n",
    "  * There are many plotting libraries, but we will use this one for this class\n",
    "* "
   ]
  },
  {
   "cell_type": "code",
   "execution_count": 18,
   "metadata": {},
   "outputs": [
    {
     "data": {
      "image/png": "[encoded data removed]",
      "text/plain": [
       "<Figure size 432x288 with 1 Axes>"
      ]
     },
     "metadata": {
      "needs_background": "light"
     },
     "output_type": "display_data"
    }
   ],
   "source": [
    "import matplotlib.pyplot as plt\n",
    "\n",
    "X_train = [[1, 2, 3, 4, 5, 6], [2, 4, 6, 8, 10, 12]]\n",
    "plt.scatter(x=X_train[0], y=X_train[1], c='b', marker='x', label='our actual values')\n",
    "plt.title('Diabetes Progression Prediction (DISCLAIMER: not real values)') # set the title\n",
    "plt.xlabel('BMI') # set the label for the x-axis\n",
    "plt.ylabel('Diabetes Progression') # set the label for the y-axis\n",
    "plt.legend() # use this command to display the legend\n",
    "plt.show() # show the plot"
   ]
  }
 ],
 "metadata": {
  "kernelspec": {
   "display_name": "Python 3.9.12 ('base')",
   "language": "python",
   "name": "python3"
  },
  "language_info": {
   "codemirror_mode": {
    "name": "ipython",
    "version": 3
   },
   "file_extension": ".py",
   "mimetype": "text/x-python",
   "name": "python",
   "nbconvert_exporter": "python",
   "pygments_lexer": "ipython3",
   "version": "3.9.12"
  },
  "orig_nbformat": 4,
  "vscode": {
   "interpreter": {
    "hash": "08849f8dffc3f27fb59cf06aefb79cb7a49147ad49564f36fdad5976b28849fb"
   }
  }
 },
 "nbformat": 4,
 "nbformat_minor": 2
}
