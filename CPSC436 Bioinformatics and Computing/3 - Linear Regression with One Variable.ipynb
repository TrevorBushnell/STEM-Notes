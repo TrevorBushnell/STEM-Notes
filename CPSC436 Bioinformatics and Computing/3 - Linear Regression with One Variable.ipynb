{
 "cells": [
  {
   "cell_type": "markdown",
   "metadata": {},
   "source": [
    "# 3: Linear Regression with One Variable"
   ]
  },
  {
   "cell_type": "markdown",
   "metadata": {},
   "source": [
    "## A. Model Representation \n",
    "\n",
    "* This is *supervised learning*\n",
    "* This is a *regression problem* because we are predicting a number\n",
    "* EX: Diabetes progression prediction\n",
    "\n",
    "|BMI|Diabetes Progression|\n",
    "|-|-|\n",
    "|32.1|151|\n",
    "|21.6|75|\n",
    "|30.6|141|\n",
    "|22.6|97|\n",
    "\n",
    "* Notations:\n",
    "  * $m$ = # of training examples\n",
    "  * $x$ = input variable(s)/feature(s)\n",
    "  * $y$ = output variable(s)/target(s)\n",
    "  * $(x,y)$ = single training example\n",
    "  * $(x_i, y_i)$ = the i-th training example\n",
    "    * Ex: $(x_1, y_1) = (32.1, 151)$\n",
    "  * $\\hat y$ = the predicted output\n",
    "* Goal: develop a training set, use the training set on a learning algorithm to generate some sort of model/predictor, then use that model on a developed test set"
   ]
  }
 ],
 "metadata": {
  "kernelspec": {
   "display_name": "Python 3.9.12 ('base')",
   "language": "python",
   "name": "python3"
  },
  "language_info": {
   "name": "python",
   "version": "3.9.12"
  },
  "orig_nbformat": 4,
  "vscode": {
   "interpreter": {
    "hash": "08849f8dffc3f27fb59cf06aefb79cb7a49147ad49564f36fdad5976b28849fb"
   }
  }
 },
 "nbformat": 4,
 "nbformat_minor": 2
}
