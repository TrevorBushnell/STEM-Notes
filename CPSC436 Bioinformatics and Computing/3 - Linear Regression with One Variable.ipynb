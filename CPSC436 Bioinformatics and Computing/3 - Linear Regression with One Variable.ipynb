{
 "cells": [
  {
   "cell_type": "markdown",
   "metadata": {},
   "source": [
    "# 3: Linear Regression with One Variable"
   ]
  },
  {
   "cell_type": "markdown",
   "metadata": {},
   "source": [
    "## A. Model Representation \n",
    "\n",
    "* This is *supervised learning*\n",
    "* This is a *regression problem* because we are predicting a number\n",
    "* EX: Diabetes progression prediction\n",
    "\n",
    "|BMI|Diabetes Progression|\n",
    "|-|-|\n",
    "|32.1|151|\n",
    "|21.6|75|\n",
    "|30.6|141|\n",
    "|22.6|97|\n",
    "\n",
    "* Notations:\n",
    "  * $m$ = # of training examples\n",
    "  * $x$ = input variable(s)/feature(s)\n",
    "  * $y$ = output variable(s)/target(s)\n",
    "  * $(x,y)$ = single training example\n",
    "  * $(x_i, y_i)$ = the i-th training example\n",
    "    * Ex: $(x_1, y_1) = (32.1, 151)$\n",
    "  * $\\hat y$ = the predicted output\n",
    "* Goal: develop a training set, use the training set on a learning algorithm to generate some sort of model/predictor, then use that model on a developed test set\n",
    "  \n",
    "> **The Linear Regression Model (Univariate Linear Regression):**\n",
    "> \n",
    "> $$ f(x)_{w,x} = wx + b $$\n",
    "> \n",
    "> Where $w$ and $x$ are the parameters/coefficients of the model"
   ]
  },
  {
   "cell_type": "markdown",
   "metadata": {},
   "source": [
    "## B. Squared Error Cost Function\n",
    "\n",
    "$$ J(w,b) = \\frac{1}{2m}\\sum_{i=1}^m \\left(\\hat y^{(i)}-y^{(i)}\\right)^2 = \\frac{1}{2m}\\sum_{i=1}^m \\left(\\hat f_{w,b}(x^{(i)})-y^{(i)}\\right)^2 $$\n",
    "\n",
    "Where $m$ is the number of training examples.\n",
    "\n",
    "* The goal is you want to find a linear regression model (a $w$ and $b$) so that $\\hat y^{(i)}$ is close to $y^{(i)}$ for all $(x^{(i)}, y^{(i)})$"
   ]
  }
 ],
 "metadata": {
  "kernelspec": {
   "display_name": "Python 3.9.12 ('base')",
   "language": "python",
   "name": "python3"
  },
  "language_info": {
   "name": "python",
   "version": "3.9.12"
  },
  "orig_nbformat": 4,
  "vscode": {
   "interpreter": {
    "hash": "08849f8dffc3f27fb59cf06aefb79cb7a49147ad49564f36fdad5976b28849fb"
   }
  }
 },
 "nbformat": 4,
 "nbformat_minor": 2
}
