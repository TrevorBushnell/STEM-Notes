{
 "cells": [
  {
   "cell_type": "markdown",
   "metadata": {},
   "source": [
    "# 6: Gradient Descent In Practice"
   ]
  },
  {
   "cell_type": "markdown",
   "metadata": {},
   "source": [
    "## A: Feature Scaling Techniques\n",
    "\n",
    "* standardize the independent features in a fixed range\n",
    "* speed up the learning process\n",
    "* diabetes data:\n",
    "  * $x_1$: to serum cholesterol (range 50-300)\n",
    "  * $x_2$: total cholesterol/HDL (range 2-10)\n",
    "  * prediction: $w_1x_1 + w_2x_2 + b$\n",
    "  * one_training example: $x_1=157$, $x_2=4$, diabetes progression $=157$\n",
    "    * prediction: $w_1 = 0.5$, $w_2=10$, $b=60$\n",
    "      * prediction $= 0.5 \\cdot 157 + 10 \\cdot 4 + 60 = 158.5$ so pretty good prediction\n",
    "    * new prediction: $w_1 = 10$, $w_2 = 0.5$, $b=60$\n",
    "      * prediction value becomes way larger - 1632\n",
    "* Can help your prediction by *scaling all of your features*. Some options are:\n",
    "  * divide every data point by max\n",
    "  * divide every data point by the mean\n",
    "  * calculate the z-score for every data point (need the mean and standard deviation of the data)\n",
    "* compute the learning curve of $J(\\vec w, b)$, make sure that it is converging"
   ]
  }
 ],
 "metadata": {
  "kernelspec": {
   "display_name": "Python 3.9.12 ('base')",
   "language": "python",
   "name": "python3"
  },
  "language_info": {
   "name": "python",
   "version": "3.9.12"
  },
  "orig_nbformat": 4,
  "vscode": {
   "interpreter": {
    "hash": "08849f8dffc3f27fb59cf06aefb79cb7a49147ad49564f36fdad5976b28849fb"
   }
  }
 },
 "nbformat": 4,
 "nbformat_minor": 2
}
