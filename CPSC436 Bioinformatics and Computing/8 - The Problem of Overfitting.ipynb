{
 "cells": [
  {
   "cell_type": "markdown",
   "metadata": {},
   "source": [
    "# 8: The Problem of Overfitting"
   ]
  },
  {
   "cell_type": "markdown",
   "metadata": {},
   "source": [
    "## A: The Problem of Overfitting\n",
    "\n",
    "* Sometimes we fit a linear regression model to data that clearly looks like it doesn't follow a linear relationship (maybe it follows exponential or logistic or some other type of function)\n",
    "  * this causes *underfitting*\n",
    "* Other times, you can come up with really complex functions that go through all the points in the training set, but might do some funny business in between the points\n",
    "  * this causes *overfitting* as well as have some high variance\n",
    "* The same can happen with classification as well!"
   ]
  }
 ],
 "metadata": {
  "kernelspec": {
   "display_name": "Python 3.9.12 ('base')",
   "language": "python",
   "name": "python3"
  },
  "language_info": {
   "name": "python",
   "version": "3.9.12"
  },
  "orig_nbformat": 4,
  "vscode": {
   "interpreter": {
    "hash": "08849f8dffc3f27fb59cf06aefb79cb7a49147ad49564f36fdad5976b28849fb"
   }
  }
 },
 "nbformat": 4,
 "nbformat_minor": 2
}
