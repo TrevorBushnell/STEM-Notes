{
 "cells": [
  {
   "cell_type": "markdown",
   "metadata": {},
   "source": [
    "# 9: Neutral Networks"
   ]
  },
  {
   "cell_type": "markdown",
   "metadata": {},
   "source": [
    "A. Intro to Neural Networks\n",
    "\n",
    "* Machine learning process that mimics how neurons work in our brains\n",
    "* Popular now because we have better and faster computer CPUs/GPUs that allow us to work with many neurons "
   ]
  },
  {
   "cell_type": "markdown",
   "metadata": {},
   "source": [
    "## B. Neural Network Architecture\n",
    "\n",
    "* Each neuron is some sort of function\n",
    "* Starts with an **input layer** where you pass in all of your attributes\n",
    "* The final phase is the **output layer** which is your resulting prediction\n",
    "* Finally, there are **hidden layers** where more neurons are used to compute more possible values that evenutally result in a final output"
   ]
  },
  {
   "cell_type": "markdown",
   "metadata": {},
   "source": [
    "## C: Neural Network Model:\n",
    "\n",
    "* The notation for a layer is used with a superscript number in brackets (e.g. [1])\n",
    "* With your input vector, you get various output vectors $\\vec a^{[l]}$, where $l$ is the number of layers in the neural network\n",
    "* We can thus find the individual components of $\\vec a^{[l]}$ with the following equation:\n",
    "  * $a_j^{[l]} = g(\\vec w_j^{[l]} \\cdot \\vec a^{[l-1]}+b_j^{[l]})$\n",
    "* If we want to make predictions using this model, then we can use the following matrices:\n",
    "\n",
    "**INSERT MATRIX EQUATIONS HERE ONCE I LEARN HOW TO HAVE MULTIPLE MATRICES SIDE-BY-SIDE**"
   ]
  }
 ],
 "metadata": {
  "kernelspec": {
   "display_name": "Python 3.9.12 ('base')",
   "language": "python",
   "name": "python3"
  },
  "language_info": {
   "name": "python",
   "version": "3.9.12"
  },
  "orig_nbformat": 4,
  "vscode": {
   "interpreter": {
    "hash": "08849f8dffc3f27fb59cf06aefb79cb7a49147ad49564f36fdad5976b28849fb"
   }
  }
 },
 "nbformat": 4,
 "nbformat_minor": 2
}
