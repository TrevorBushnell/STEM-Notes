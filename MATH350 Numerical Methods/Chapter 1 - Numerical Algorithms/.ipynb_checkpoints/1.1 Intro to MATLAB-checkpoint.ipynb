{
 "cells": [
  {
   "cell_type": "markdown",
   "metadata": {},
   "source": [
    "# 1.1: Intro to MATLAB\n",
    "\n",
    "If you have never used MATLAB before, then you can use this notebook to learn some basics about MATLAB. "
   ]
  },
  {
   "cell_type": "markdown",
   "metadata": {},
   "source": [
    "## Hello World Program\n",
    "\n",
    "Every time you need to start with writing a Hello World program. We can use the `display()` function to display text to the screen."
   ]
  },
  {
   "cell_type": "code",
   "execution_count": 1,
   "metadata": {},
   "outputs": [
    {
     "name": "stdout",
     "output_type": "stream",
     "text": [
      "Hello world\n",
      "\n"
     ]
    }
   ],
   "source": [
    "display('Hello world')"
   ]
  },
  {
   "cell_type": "markdown",
   "metadata": {},
   "source": [
    "## Vectors and Matrices\n",
    "\n",
    "MATLAB is built around being able to manipulate vectors and matrices. As such, we should first come up with some mathematical definitions to understand what vectors and matrices are:\n",
    "\n",
    "A **matrix** is essentially a table of numbers. A matrix $A$ looks something like this:\n",
    "\n",
    "**CODE FOR MATRIX TO GO HERE**\n",
    "\n",
    "A **vector** is a 1D matrix (meaning that it has only 1 in a given dimension). Vectors could look something like this:\n",
    "\n",
    "This os a *row vector*:\n",
    "$$\n",
    "v = [a_1, a_2, ... , a_n]\n",
    "$$\n",
    "\n",
    "This is a *column vector*:\n",
    "\n",
    "**CODE FOR VERTICAL VECTOR TO GO HERE LATER**"
   ]
  },
  {
   "cell_type": "markdown",
   "metadata": {},
   "source": [
    "If we want to create a vector, we can use the following notation to create a vector:"
   ]
  },
  {
   "cell_type": "code",
   "execution_count": 4,
   "metadata": {},
   "outputs": [
    {
     "name": "stdout",
     "output_type": "stream",
     "text": [
      "\n",
      "v1 =\n",
      "\n",
      "     1     2     3     4\n",
      "\n",
      "\n",
      "v2 =\n",
      "\n",
      "     1\n",
      "     2\n",
      "     3\n",
      "     4\n",
      "\n",
      "\n"
     ]
    }
   ],
   "source": [
    "v1 = [1 2 3 4] % this creates a row vector\n",
    "v2 = [1; 2; 3; 4] % this creates a column vector"
   ]
  },
  {
   "cell_type": "markdown",
   "metadata": {},
   "source": [
    "When looking at the code above, it is important to notice the different notation depending on the vector you want to use. **Column vectors and row vectors are thought of differently in the world of linear algebra** so it's important to keep your syntax in mind when defining your vectors.\n",
    "\n",
    "To create a matrix you can use the following code:"
   ]
  },
  {
   "cell_type": "code",
   "execution_count": 3,
   "metadata": {},
   "outputs": [
    {
     "name": "stdout",
     "output_type": "stream",
     "text": [
      "\n",
      "A1 =\n",
      "\n",
      "     2     3     4\n",
      "     5     6     7\n",
      "\n",
      "\n"
     ]
    }
   ],
   "source": [
    "A1 = [2 3 4; 5 6 7]"
   ]
  },
  {
   "cell_type": "markdown",
   "metadata": {},
   "source": [
    "This creates a 2 by 3 matrix in memory. \n",
    "\n",
    "If you want to store a range of values in a matrix/vector, you can use the `:` operator to step through a range of integer values, as seen in the following code:"
   ]
  },
  {
   "cell_type": "code",
   "execution_count": 5,
   "metadata": {},
   "outputs": [
    {
     "name": "stdout",
     "output_type": "stream",
     "text": [
      "\n",
      "v1 =\n",
      "\n",
      "     1     2     3     4     5     6     7     8     9    10    11    12    13    14    15    16    17    18    19    20\n",
      "\n",
      "\n"
     ]
    }
   ],
   "source": [
    "v1 = 1:20"
   ]
  },
  {
   "cell_type": "markdown",
   "metadata": {},
   "source": [
    "you can also add another `:` to indicate how much you want to step by, like this:"
   ]
  },
  {
   "cell_type": "code",
   "execution_count": 6,
   "metadata": {},
   "outputs": [
    {
     "name": "stdout",
     "output_type": "stream",
     "text": [
      "\n",
      "v2 =\n",
      "\n",
      "  Columns 1 through 16\n",
      "\n",
      "  -10.0000   -9.5000   -9.0000   -8.5000   -8.0000   -7.5000   -7.0000   -6.5000   -6.0000   -5.5000   -5.0000   -4.5000   -4.0000   -3.5000   -3.0000   -2.5000\n",
      "\n",
      "  Columns 17 through 32\n",
      "\n",
      "   -2.0000   -1.5000   -1.0000   -0.5000         0    0.5000    1.0000    1.5000    2.0000    2.5000    3.0000    3.5000    4.0000    4.5000    5.0000    5.5000\n",
      "\n",
      "  Columns 33 through 41\n",
      "\n",
      "    6.0000    6.5000    7.0000    7.5000    8.0000    8.5000    9.0000    9.5000   10.0000\n",
      "\n",
      "\n"
     ]
    }
   ],
   "source": [
    "v2 = -10:0.5:10"
   ]
  },
  {
   "cell_type": "markdown",
   "metadata": {},
   "source": [
    "In the notation above, the syntax is `LOWER_BOUND:STEP:UPPER_BOUND`\n",
    "\n",
    "You can also use the `linspace()` function to step while having a fixed vector size, as seen in the following code:"
   ]
  },
  {
   "cell_type": "code",
   "execution_count": 7,
   "metadata": {},
   "outputs": [
    {
     "name": "stdout",
     "output_type": "stream",
     "text": [
      "\n",
      "v3 =\n",
      "\n",
      "  Columns 1 through 16\n",
      "\n",
      "  -10.0000   -9.4872   -8.9744   -8.4615   -7.9487   -7.4359   -6.9231   -6.4103   -5.8974   -5.3846   -4.8718   -4.3590   -3.8462   -3.3333   -2.8205   -2.3077\n",
      "\n",
      "  Columns 17 through 32\n",
      "\n",
      "   -1.7949   -1.2821   -0.7692   -0.2564    0.2564    0.7692    1.2821    1.7949    2.3077    2.8205    3.3333    3.8462    4.3590    4.8718    5.3846    5.8974\n",
      "\n",
      "  Columns 33 through 40\n",
      "\n",
      "    6.4103    6.9231    7.4359    7.9487    8.4615    8.9744    9.4872   10.0000\n",
      "\n",
      "\n"
     ]
    }
   ],
   "source": [
    "v3 = linspace(-10,10,40)"
   ]
  },
  {
   "cell_type": "markdown",
   "metadata": {},
   "source": [
    "## Filling Matrices and Random Numbers\n",
    "\n",
    "If you want a vector/matrix filled entirely with a specific value, then you can call a function which is called the number that you want to fill with. For example, if you want to fill a matrix completely of 1s, then you could say:"
   ]
  },
  {
   "cell_type": "code",
   "execution_count": 9,
   "metadata": {},
   "outputs": [
    {
     "name": "stdout",
     "output_type": "stream",
     "text": [
      "\n",
      "M1 =\n",
      "\n",
      "     1\n",
      "     1\n",
      "\n",
      "\n",
      "M2 =\n",
      "\n",
      "     0     0     0     0\n",
      "     0     0     0     0\n",
      "     0     0     0     0\n",
      "\n",
      "\n"
     ]
    }
   ],
   "source": [
    "M1 = ones(2,1) % Create a 2x1 matrix completely filled with 1s\n",
    "M2 = zeros(3,4) % Create a 3x4 matrix completely filled with 0s"
   ]
  },
  {
   "cell_type": "markdown",
   "metadata": {},
   "source": [
    "You can also generate random numbers in MATLAB, which is a common operation in a lot of programming. The `rand` function lets you generate a random number for you:"
   ]
  },
  {
   "cell_type": "code",
   "execution_count": 10,
   "metadata": {},
   "outputs": [
    {
     "name": "stdout",
     "output_type": "stream",
     "text": [
      "\n",
      "k1 =\n",
      "\n",
      "    0.8147\n",
      "\n",
      "\n",
      "k2 =\n",
      "\n",
      "    1.8339\n",
      "\n",
      "\n"
     ]
    }
   ],
   "source": [
    "k1 = rand\n",
    "k2 = randn"
   ]
  },
  {
   "cell_type": "markdown",
   "metadata": {},
   "source": [
    "The `rand` function will give you uniformily distributed real numbers between 0 and 1 (meaning there is an equal probability of getting any real number from 0 to 1). If you want to get random numbers from a larger range, you can use the `randn` function will give you a random number based on the standard Normal distribution. This means that you could get negative numbers as low as say -3 or as large as say 3 but you will most likely get values around 0 since it's from a Normal distribution.\n",
    "\n",
    "\n",
    "\n",
    "## Concatenating Vectors/Matrices\n",
    "\n",
    "If you want to combine vectors/matrices then you will need to perform operations to **concatenate** them, which is the CS word for combining them. If you have two vectors `u1` and `u2`, then you can concatenate them in the following way:"
   ]
  },
  {
   "cell_type": "code",
   "execution_count": 11,
   "metadata": {},
   "outputs": [
    {
     "name": "stdout",
     "output_type": "stream",
     "text": [
      "\n",
      "v1 =\n",
      "\n",
      "     1     2     3\n",
      "\n",
      "\n",
      "v2 =\n",
      "\n",
      "     0     1     2     3     4     5\n",
      "\n",
      "\n",
      "v3 =\n",
      "\n",
      "     1     2     3     0     1     2     3     4     5\n",
      "\n",
      "\n"
     ]
    }
   ],
   "source": [
    "v1 = [1 2 3]\n",
    "v2 = 0:5\n",
    "v3 = [v1,v2]"
   ]
  },
  {
   "cell_type": "markdown",
   "metadata": {},
   "source": [
    "Be careful however - YOU CAN'T CONCATENATE TO MATRICES THAT HAVE DIFFERENT DIMENSIONS"
   ]
  },
  {
   "cell_type": "markdown",
   "metadata": {},
   "source": [
    "## Indexing Into Vectors and Matrices\n",
    "\n",
    "MATLAB is different than C++ and Java because MATLAB is a **1-based indexing language** which means the first value is referenced at position 1 (this is a big switch for CS students who are used to C++ or Java). The following code shows how to index into a vector:"
   ]
  },
  {
   "cell_type": "code",
   "execution_count": 14,
   "metadata": {},
   "outputs": [
    {
     "name": "stdout",
     "output_type": "stream",
     "text": [
      "\n",
      "q1 =\n",
      "\n",
      "  Columns 1 through 16\n",
      "\n",
      "         0    0.5000    1.0000    1.5000    2.0000    2.5000    3.0000    3.5000    4.0000    4.5000    5.0000    5.5000    6.0000    6.5000    7.0000    7.5000\n",
      "\n",
      "  Columns 17 through 21\n",
      "\n",
      "    8.0000    8.5000    9.0000    9.5000   10.0000\n",
      "\n",
      "\n",
      "ans =\n",
      "\n",
      "     0\n",
      "\n",
      "\n",
      "q1 =\n",
      "\n",
      "  Columns 1 through 16\n",
      "\n",
      "         0         0    1.0000    1.5000    2.0000    2.5000    3.0000    3.5000    4.0000    4.5000    5.0000    5.5000    6.0000    6.5000    7.0000    7.5000\n",
      "\n",
      "  Columns 17 through 21\n",
      "\n",
      "    8.0000    8.5000    9.0000    9.5000   10.0000\n",
      "\n",
      "\n",
      "ans =\n",
      "\n",
      "    10\n",
      "\n",
      "\n",
      "q1 =\n",
      "\n",
      "  Columns 1 through 16\n",
      "\n",
      "         0         0    1.0000    1.5000    2.0000    2.5000    3.0000    3.5000    4.0000    4.5000    5.0000    5.5000    6.0000    6.5000    7.0000    7.5000\n",
      "\n",
      "  Columns 17 through 21\n",
      "\n",
      "    8.0000    8.5000    9.0000         0   10.0000\n",
      "\n",
      "\n"
     ]
    }
   ],
   "source": [
    "q1 = 0:0.5:10\n",
    "q1(1) % get the first element of the vector\n",
    "q1(2) = 0 % set the second element of the vector to 0\n",
    "q1(end) % get the last element of the vector\n",
    "q1(end-1) = 0 % set the second-to-last element of the vector to 0"
   ]
  },
  {
   "cell_type": "markdown",
   "metadata": {},
   "source": [
    "Matrices are a bit more complicated because you have to reference both a row and a column. You always reference the row first and then the column."
   ]
  },
  {
   "cell_type": "code",
   "execution_count": 15,
   "metadata": {},
   "outputs": [
    {
     "name": "stdout",
     "output_type": "stream",
     "text": [
      "\n",
      "B1 =\n",
      "\n",
      "     1     2     3\n",
      "     4     5     6\n",
      "     7     8     9\n",
      "\n",
      "\n",
      "r =\n",
      "\n",
      "     5\n",
      "\n",
      "\n"
     ]
    }
   ],
   "source": [
    "B1 = [1:3; 4:6; 7:9]\n",
    "r = B1(2,2) % Create a variable are and initialize it to the value in row 2 column 2 in B1"
   ]
  },
  {
   "cell_type": "markdown",
   "metadata": {},
   "source": [
    "## The Difference Between Standard Operations and Dot Operations\n",
    "\n",
    "In MATLAB you get will get different results (and sometimes errors) if you run `.*` or `./` instead of `*` or `/`. `*` is **standard matrix multiplication**. When you perform this operation, the resulting value will be a *matrix* (that is assuming that you can even perform matrix multiplication). `.*` means **elementwise multiplication** which means that you multiply the values at each corresponding element in the matrix/vector. There are a lot of bugs that occur in MATLAB code because of the distinction between these operations, so be careful when writing your MATLAB code!"
   ]
  },
  {
   "cell_type": "markdown",
   "metadata": {},
   "source": [
    "## Functions\n",
    "\n",
    "There are built-in functions like `sin` and `cos` but what if you want to over and over compute the function $f(x) = \\frac{x \\cos(10x)}{x^2}$? We can write our own **function** that will compute these values. \n",
    "\n",
    "There are two choices that you can make for user-defined functions:\n",
    "\n",
    "* *anonymous functions:* the function operation that you are trying to define can be coded in just one line with one output value\n",
    "* *function file:* need a `.m` file with specific function syntax. \n",
    "\n",
    "Here are some examples of functions:"
   ]
  },
  {
   "cell_type": "code",
   "execution_count": null,
   "metadata": {},
   "outputs": [],
   "source": [
    "%%%%% ANONYMOUS FUNCTION\n",
    "x1 = 0:0.5:10; % Coarse discretization\n",
    "x2 = 0:0.1:10; % Finer discretization\n",
    "x3 = 0:0.01:10; % Really fine discretization\n",
    "\n",
    "f = @(x) x .* cos(10*x) ./ (x .^ 2); % THIS IS THE ANONYMOUS FUNCTION\n",
    "\n",
    "y1 = f(x1);\n",
    "y2 = f(x2);\n",
    "y3 = f(x3);\n",
    "\n",
    "figure\n",
    "plot(x1,y1,'-o',x2,y2,'-s',x3,y3,'-*')"
   ]
  },
  {
   "cell_type": "code",
   "execution_count": null,
   "metadata": {},
   "outputs": [],
   "source": [
    "%%%%%%%% FUNCTION FILE SYNTAX\n",
    "function y = myfunc(x)\n",
    "\n",
    "    y = x .* cos(10*x) ./ (x.^2);\n",
    "\n",
    "end"
   ]
  },
  {
   "cell_type": "markdown",
   "metadata": {},
   "source": [
    "## `for` Loops\n",
    "\n",
    "In coding, we can use a loop if we want to iteratively do the same action over and over again. Here is an example of how to use a `for` loop in MATLAB:"
   ]
  },
  {
   "cell_type": "code",
   "execution_count": 5,
   "metadata": {},
   "outputs": [
    {
     "name": "stdout",
     "output_type": "stream",
     "text": [
      "\n",
      "sum =\n",
      "\n",
      "     0\n",
      "\n",
      "The final sum is: \n",
      "    55\n",
      "\n",
      "\n"
     ]
    }
   ],
   "source": [
    "sum = 0\n",
    "\n",
    "for j = 1:5\n",
    "\n",
    "    sum = sum + j ^ 2;\n",
    "\n",
    "end\n",
    "\n",
    "disp(\"The final sum is: \")\n",
    "disp(sum)"
   ]
  },
  {
   "cell_type": "markdown",
   "metadata": {},
   "source": [
    "> **EXAMPLE:** Write a `for` loop that accesses each entry of a vector `x = 0:0.5:10` and displays it to the screen. "
   ]
  },
  {
   "cell_type": "code",
   "execution_count": 8,
   "metadata": {},
   "outputs": [
    {
     "name": "stdout",
     "output_type": "stream",
     "text": [
      "     0\n",
      "\n",
      "    0.5000\n",
      "\n",
      "     1\n",
      "\n",
      "    1.5000\n",
      "\n",
      "     2\n",
      "\n",
      "    2.5000\n",
      "\n",
      "     3\n",
      "\n",
      "    3.5000\n",
      "\n",
      "     4\n",
      "\n",
      "    4.5000\n",
      "\n",
      "     5\n",
      "\n",
      "    5.5000\n",
      "\n",
      "     6\n",
      "\n",
      "    6.5000\n",
      "\n",
      "     7\n",
      "\n",
      "    7.5000\n",
      "\n",
      "     8\n",
      "\n",
      "    8.5000\n",
      "\n",
      "     9\n",
      "\n",
      "    9.5000\n",
      "\n",
      "    10\n",
      "\n",
      "\n"
     ]
    }
   ],
   "source": [
    "x = 0:0.5:10;\n",
    "\n",
    "for j = 1:numel(x)\n",
    "\n",
    "    disp(x(j))\n",
    "\n",
    "end"
   ]
  },
  {
   "cell_type": "code",
   "execution_count": 1,
   "metadata": {},
   "outputs": [
    {
     "name": "stdout",
     "output_type": "stream",
     "text": [
      "   1.8453e+03\n",
      "\n",
      "\n"
     ]
    }
   ],
   "source": [
    "x = 0:0.5:10;\n",
    "\n",
    "for n = 1:0.1:5\n",
    "\n",
    "    y = x.^n;\n",
    "\n",
    "end\n",
    "\n",
    "\n",
    "disp(y(10))"
   ]
  },
  {
   "cell_type": "markdown",
   "metadata": {},
   "source": [
    "## `while` Loops\n",
    "\n",
    "A `while` loop is used when you do not know the exact number of iterations you want to do but you know the condition for when you want to stop iterating. This means that you iterate while a condition is true."
   ]
  },
  {
   "cell_type": "code",
   "execution_count": 66,
   "metadata": {},
   "outputs": [
    {
     "name": "stdout",
     "output_type": "stream",
     "text": [
      "    0.0170\n",
      "\n",
      "    0.1209\n",
      "\n",
      "DID IT: Finally got the number\n",
      "    0.8627\n",
      "\n",
      "\n"
     ]
    }
   ],
   "source": [
    "x = rand;\n",
    "\n",
    "while x < 0.5\n",
    "    \n",
    "    disp(x);\n",
    "    x = rand;\n",
    "    \n",
    "end\n",
    "\n",
    "disp('DID IT: Finally got the number')\n",
    "disp(x)"
   ]
  },
  {
   "cell_type": "markdown",
   "metadata": {},
   "source": [
    "## Conditional Branching\n",
    "\n",
    "You want the computer to do something when one thing is true and another something if it is false.\n",
    "\n",
    "> **EXAMPLE:** Write a function that takes a scalar $x$ as input and:\n",
    ">\n",
    "> * If $x>0$, return 1 (as output)\n",
    "> * If $x < 0$, return -1 (as output)\n",
    "> * If $x=0$, return 0 (as output)"
   ]
  },
  {
   "cell_type": "code",
   "execution_count": 75,
   "metadata": {},
   "outputs": [
    {
     "name": "stdout",
     "output_type": "stream",
     "text": [
      "Created file 'C:\\Users\\bushn\\Home\\Notes\\STEM-Notes\\MATH350 Numerical Methods\\Chapter 1 - Numerical Algorithms\\files\\checksign.m'.\n"
     ]
    }
   ],
   "source": [
    "%%file files/checksign.m\n",
    "\n",
    "function y = checkSign(x)\n",
    "\n",
    "    if x > 0\n",
    "        y = 1;\n",
    "        \n",
    "    elseif x < 0\n",
    "        y = -1;\n",
    "        \n",
    "    else\n",
    "        y = 0;\n",
    "        \n",
    "    end\n",
    "\n",
    "end\n",
    "\n",
    "checkSign(5)"
   ]
  },
  {
   "cell_type": "code",
   "execution_count": 76,
   "metadata": {},
   "outputs": [
    {
     "name": "stderr",
     "output_type": "stream",
     "text": [
      "\u001b[1;31mUndefined function 'checkSign' for input arguments of type 'double'.\n",
      "\n",
      "\u001b[0m"
     ]
    }
   ],
   "source": [
    "checkSign(5)"
   ]
  },
  {
   "cell_type": "markdown",
   "metadata": {},
   "source": [
    "> **EXAMPLE:** Write a function that takes a vector $x$ as input and:\n",
    "> \n",
    "> * If $x(n) = 0$, replace it with  1\n",
    "> * If $x(n) < 0$, replace it with 0\n",
    "> * If $x(n) > 0$, do nothing"
   ]
  },
  {
   "cell_type": "code",
   "execution_count": 77,
   "metadata": {},
   "outputs": [
    {
     "name": "stdout",
     "output_type": "stream",
     "text": [
      "Created file 'C:\\Users\\bushn\\Home\\Notes\\STEM-Notes\\MATH350 Numerical Methods\\Chapter 1 - Numerical Algorithms\\files\\replacevalues.m'.\n"
     ]
    }
   ],
   "source": [
    "%%file files/replacevalues.m\n",
    "\n",
    "function x = replaceValues(x)\n",
    "\n",
    "    for n = 1:numel(x)\n",
    "    \n",
    "        if x(n) == 0\n",
    "            x(n) == 1\n",
    "            \n",
    "        elseif x(n) < 0\n",
    "            x(n) == 0\n",
    "            \n",
    "        end\n",
    "    \n",
    "    end\n",
    "\n",
    "end"
   ]
  },
  {
   "cell_type": "code",
   "execution_count": 78,
   "metadata": {},
   "outputs": [
    {
     "name": "stderr",
     "output_type": "stream",
     "text": [
      "\u001b[1;31mUndefined function 'replaceValues' for input arguments of type 'double'.\n",
      "\n",
      "\u001b[0m"
     ]
    }
   ],
   "source": [
    "x = [1 -3 0 2 -5];\n",
    "y = replaceValues(x)"
   ]
  }
 ],
 "metadata": {
  "kernelspec": {
   "display_name": "Matlab",
   "language": "matlab",
   "name": "matlab"
  },
  "language_info": {
   "codemirror_mode": "octave",
   "file_extension": ".m",
   "help_links": [
    {
     "text": "MetaKernel Magics",
     "url": "https://metakernel.readthedocs.io/en/latest/source/README.html"
    }
   ],
   "mimetype": "text/x-octave",
   "name": "matlab",
   "version": "0.16.11"
  }
 },
 "nbformat": 4,
 "nbformat_minor": 4
}
