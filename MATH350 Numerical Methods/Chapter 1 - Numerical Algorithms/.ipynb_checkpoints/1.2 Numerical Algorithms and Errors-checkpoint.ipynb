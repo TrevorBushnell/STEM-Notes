{
 "cells": [
  {
   "cell_type": "markdown",
   "metadata": {},
   "source": [
    "# 1.2: Numerical Algorithms and Errors\n",
    "\n",
    "\n",
    "\n",
    "## What We Are Studying in This Class\n",
    "\n",
    "The best way to think about this would be to start with an example:"
   ]
  },
  {
   "cell_type": "markdown",
   "metadata": {},
   "source": [
    "> #### Example 1\n",
    "> \n",
    "> **Compute the area under the curve $y = \\cos(x)$ from $x=0$ to $x=\\frac{\\pi}{4}$**\n",
    "\n",
    "This is typically a Calc I problem, but to solve this problem, you use a numerical method. The numerical method you use to solve this problem is taking a right Reimann sum using right-endpoints with $N=4$ sub-intervals. When we make this computation, we can see the following happen:\n",
    "\n",
    "$$\n",
    "    \\begin{aligned}\n",
    "        R_4 &= \\sum_{n=1}^{4}\\cos(x_n)\\Delta x_n\\\\\n",
    "        &=\\frac{\\pi}{16}\\left[\\cos\\left(\\frac{\\pi}{16}\\right)+\\cos\\left(\\frac{\\pi}{8}\\right)+\\cos\\left(\\frac{3\\pi}{16}\\right)+\\cos\\left(\\frac{\\pi}{4}\\right)\\right]\\\\\n",
    "        &\\approx 0.6759\n",
    "    \\end{aligned}\n",
    "$$\n",
    "\n",
    "The reason this numerical method is important is because this is how your calculator/computer is used to solve problems. This is also how engineers tend to solve problems. While we could just take the integral, the integral is such an anaytical concept that a computer will never be able to understand how to \"truly compute\" an integral. As such, in this class we care more about the numerical methods for computing problems rather than the analytical solutions. \n",
    "\n",
    "**Numerical Analysis** is *the study of various numerical methods*. "
   ]
  },
  {
   "cell_type": "markdown",
   "metadata": {},
   "source": [
    "## Types of Errors\n",
    "\n",
    "**Error** is a measurement of the difference between a numerical approximation and the true solution. \n",
    "\n",
    "Let $u = $ a true (scalar) quantity (e.g. $\\pi$). Then $v = $ a numerical approximation of $u$ (e.g. $3.14$).\n",
    "\n",
    "The **absolute error** is $|u-v|$. The **relative error** is $\\frac{|u-v|}{|u|}$."
   ]
  },
  {
   "cell_type": "markdown",
   "metadata": {},
   "source": [
    "> #### Example 2: Computing Absolute and Relative Error\n",
    "> \n",
    "> **Compute the absolute and relative error for each of the following true and approximate values.**\n",
    "\n",
    "\n",
    "| u    | v     | abs. error | rel. err |\n",
    "| ---- | ----- | ---------- | -------- |\n",
    "| 1    | 0.9   | 0.1        | 0.1      |\n",
    "| 1000 | 999.9 | 0.1        | 0.001    |\n",
    "| 1000 | 900   | 100        | 0.1      |\n"
   ]
  },
  {
   "cell_type": "markdown",
   "metadata": {},
   "source": [
    "## Main Sources of Error\n",
    "\n",
    "There are three main places that error can arise when solving various real world problems.\n",
    "\n",
    "1. Errors in the original problem state\n",
    "    * Modeling errors\n",
    "    * Input/Measurement errors\n",
    "    * There is generally not a lot that you can do to fix these things\n",
    "    * We are given an assumption that we have a mathematical model and we just need to come up with an algorithm to solve it\n",
    "        * Now we can come up with algorithms that try to mitigate this error as much as possible\n",
    "    * Additionally, anything with real world measurements have the potential for error, and that's hard to fix\n",
    "    \n",
    "2. Approximation errors\n",
    "    * Discretization errors - errors that come from converting continuous problems into a discrete framework\n",
    "        * Example: Riemann sums take a continuous process (integration) and computes it with a discrete algorithm\n",
    "    * Convergence errors - errors that come from stopping an iterative method after a finite number of iterations\n",
    "        * Essentially - you will never fall on the exact value (you will always stop short)\n",
    "        \n",
    "3. Round-off errors\n",
    "    * Errors that come from finite-precision representations of numbers\n",
    "    * Round-off error tends to accumulate through the course of the problem, so it is important to manage this"
   ]
  },
  {
   "cell_type": "markdown",
   "metadata": {},
   "source": [
    "> #### **Theorem: Taylor Series**\n",
    "> \n",
    "> If $f(x)$ has $k+1$ derivatives in an interval containing $x_0$ and $x_0 + h$, then:\n",
    ">\n",
    "> $$\n",
    "    f(x_0 + h) = f(x_0) + h \\cdot f'(x_0) + \\frac{h^2}{2!}\\cdot f''(x_0) + \\cdots + \\frac{h^k}{k!} \\cdot f^{(k)}(x_0)+\\frac{h^{k+1}}{(k+1)!} \\cdot f^{(k+1)}(x_0)\n",
    "$$\n",
    ">\n",
    "> If $f$ is *smooth*, then the sum extends to $\\infty$ and we get the Taylor Series."
   ]
  },
  {
   "cell_type": "markdown",
   "metadata": {},
   "source": [
    "> #### Example 3: Discretization Error\n",
    "> \n",
    "> **Approximate $f'(x_0)$ where $f$ is smooth.**\n",
    "\n",
    "$$\n",
    "    \\begin{aligned}\n",
    "        f'(x_0) &= \\frac{f(x_0+h) - f(x_0)}{h} - \\left(\\frac{h}{2!} \\cdot f''(x_0) + \\frac{h^2}{3!} \\cdot f'''(x_0) + \\cdots \\right)\\\\\n",
    "        &\\text{Simply use this with a small $ h $ and not compute the rest}\\\\\n",
    "        &\\left|f'(x) - \\frac{f(x_0+h) - f(x_0)}{h}\\right| = \\left|\\left(\\frac{h}{2!} \\cdot f''(x_0) + \\frac{h^2}{3!} \\cdot f'''(x_0) + \\cdots \\right)\\right|\\\\\n",
    "        &\\therefore \\text{ error } \\approx \\frac{h}{2}\\left|f''(x_0)\\right|\n",
    "    \\end{aligned}\n",
    "$$"
   ]
  },
  {
   "cell_type": "markdown",
   "metadata": {},
   "source": [
    "Let's try to write some MATLAB code using the error computed above so that we can look at a plot of the error."
   ]
  },
  {
   "cell_type": "code",
   "execution_count": 4,
   "metadata": {},
   "outputs": [
    {
     "name": "stdout",
     "output_type": "stream",
     "text": [
      "\n"
     ]
    },
    {
     "data": {
      "image/png": "[encoded data removed]",
      "text/plain": [
       "<IPython.core.display.Image object>"
      ]
     },
     "metadata": {},
     "output_type": "display_data"
    }
   ],
   "source": [
    "% MATLAB code to plot the error calculated in Example 3:\n",
    "\n",
    "x0 = 1.2;\n",
    "f0 = sin(x0);\n",
    "h = 10 .^ (-20:0); % also (-10:0)\n",
    "f1 = sin(x0+h);\n",
    "approx = (f1-f0)./h; % element wise!\n",
    "\n",
    "\n",
    "% Now compute the absolute error\n",
    "fprime = cos(x0); % true value of f'(x0)\n",
    "err = abs(fprime - approx);\n",
    "err2 = 0.5 * h * abs(-sin(x0)); % theoretical error bound\n",
    "\n",
    "% If you are writing code in MATLAB, you should add a \"figure\" command here so the plot opens in a new window\n",
    "loglog(h,err,'-o',h,err2)\n",
    "legend('True error', 'Theoretical error')\n",
    "xlabel('h')\n",
    "ylabel('Absolute error')\n",
    "title('Absolute error plot for secant line approx.')"
   ]
  },
  {
   "cell_type": "markdown",
   "metadata": {},
   "source": [
    "Why does the true error get way far away from the theoretical error? The reason for this is because we are dividing by $h$ where $h$ is an incredibly small number. This means that dividing by $h$ will result in a very large number overall which will cause the roundoff error to dominate for small values of $h$."
   ]
  }
 ],
 "metadata": {
  "kernelspec": {
   "display_name": "Matlab",
   "language": "matlab",
   "name": "matlab"
  },
  "language_info": {
   "codemirror_mode": "octave",
   "file_extension": ".m",
   "help_links": [
    {
     "text": "MetaKernel Magics",
     "url": "https://metakernel.readthedocs.io/en/latest/source/README.html"
    }
   ],
   "mimetype": "text/x-octave",
   "name": "matlab",
   "version": "0.16.11"
  }
 },
 "nbformat": 4,
 "nbformat_minor": 4
}
