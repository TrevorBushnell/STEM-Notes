{
 "cells": [
  {
   "cell_type": "markdown",
   "metadata": {},
   "source": [
    "# 1.1: Intro to MATLAB\n",
    "\n",
    "If you have never used MATLAB before, then you can use this notebook to learn some basics about MATLAB. "
   ]
  },
  {
   "cell_type": "markdown",
   "metadata": {},
   "source": [
    "## Hello World Program\n",
    "\n",
    "Every time you need to start with writing a Hello World program. We can use the `display()` function to display text to the screen."
   ]
  },
  {
   "cell_type": "code",
   "execution_count": null,
   "metadata": {},
   "outputs": [],
   "source": [
    "display('Hello world')"
   ]
  },
  {
   "cell_type": "markdown",
   "metadata": {},
   "source": [
    "## Vectors and Matrices\n",
    "\n",
    "MATLAB is built around being able to manipulate vectors and matrices. As such, we should first come up with some mathematical definitions to understand what vectors and matrices are:\n",
    "\n",
    "A **matrix** is essentially a table of numbers. A matrix $A$ looks something like this:\n",
    "\n",
    "**CODE FOR MATRIX TO GO HERE**\n",
    "\n",
    "A **vector** is a 1D matrix (meaning that it has only 1 in a given dimension). Vectors could look something like this:\n",
    "\n",
    "This os a *row vector*:\n",
    "$$\n",
    "v = [a_1, a_2, ... , a_n]\n",
    "$$\n",
    "\n",
    "This is a *column vector*:\n",
    "\n",
    "**CODE FOR VERTICAL VECTOR TO GO HERE LATER**"
   ]
  },
  {
   "cell_type": "markdown",
   "metadata": {},
   "source": [
    "If we want to create a vector, we can use the following notation to create a vector:"
   ]
  },
  {
   "cell_type": "code",
   "execution_count": null,
   "metadata": {},
   "outputs": [],
   "source": [
    "v1 = [1 2 3 4] #this creates a row vector\n",
    "v2 = [1; 2; 3; 4] # this creates a column vector"
   ]
  },
  {
   "cell_type": "markdown",
   "metadata": {},
   "source": [
    "When looking at the code above, it is important to notice the different notation depending on the vector you want to use. **Column vectors and row vectors are thought of differently in the world of linear algebra** so it's important to keep your syntax in mind when defining your vectors.\n",
    "\n",
    "To create a matrix you can use the following code:"
   ]
  },
  {
   "cell_type": "code",
   "execution_count": null,
   "metadata": {},
   "outputs": [],
   "source": [
    "A1 = [2 3 4; 5 6 7]"
   ]
  },
  {
   "cell_type": "markdown",
   "metadata": {},
   "source": [
    "This creates a 2 by 3 matrix in memory. \n",
    "\n",
    "If you want to store a range of values in a matrix/vector, you can use the `:` operator to step through a range of integer values, as seen in the following code:"
   ]
  },
  {
   "cell_type": "code",
   "execution_count": null,
   "metadata": {},
   "outputs": [],
   "source": [
    "v1 = 1:20"
   ]
  },
  {
   "cell_type": "markdown",
   "metadata": {},
   "source": [
    "you can also add another `:` to indicate how much you want to step by, like this:"
   ]
  },
  {
   "cell_type": "code",
   "execution_count": null,
   "metadata": {},
   "outputs": [],
   "source": [
    "v2 = -10:0.5:10"
   ]
  },
  {
   "cell_type": "markdown",
   "metadata": {},
   "source": [
    "In the notation above, the syntax is `LOWER_BOUND:STEP:UPPER_BOUND`\n",
    "\n",
    "You can also use the `linspace()` function to step while having a fixed vector size, as seen in the following code:"
   ]
  },
  {
   "cell_type": "code",
   "execution_count": null,
   "metadata": {},
   "outputs": [],
   "source": [
    "v3 = linspace(-10,10,40)"
   ]
  },
  {
   "cell_type": "markdown",
   "metadata": {},
   "source": [
    "## Filling Matrices and Random Numbers\n",
    "\n",
    "If you want a vector/matrix filled entirely with a specific value, then you can call a function which is called the number that you want to fill with. For example, if you want to fill a matrix completely of 1s, then you could say:"
   ]
  },
  {
   "cell_type": "code",
   "execution_count": null,
   "metadata": {},
   "outputs": [],
   "source": [
    "M1 = ones(2,1) # Create a 2x1 matrix completely filled with 1s\n",
    "M2 = zeros(3,4) # Create a 3x4 matrix completely filled with 0s"
   ]
  },
  {
   "cell_type": "markdown",
   "metadata": {},
   "source": [
    "You can also generate random numbers in MATLAB, which is a common operation in a lot of programming. The `rand` function lets you generate a random number for you:"
   ]
  },
  {
   "cell_type": "code",
   "execution_count": null,
   "metadata": {},
   "outputs": [],
   "source": [
    "k1 = rand\n",
    "k2 = randn"
   ]
  },
  {
   "cell_type": "markdown",
   "metadata": {},
   "source": [
    "The `rand` function will give you uniformily distributed real numbers between 0 and 1 (meaning there is an equal probability of getting any real number from 0 to 1). If you want to get random numbers from a larger range, you can use the `randn` function will give you a random number based on the standard Normal distribution. This means that you could get negative numbers as low as say -3 or as large as say 3 but you will most likely get values around 0 since it's from a Normal distribution.\n",
    "\n",
    "\n",
    "\n",
    "## Concatenating Vectors/Matrices\n",
    "\n",
    "If you want to combine vectors/matrices then you will need to perform operations to **concatenate** them, which is the CS word for combining them. If you have two vectors `u1` and `u2`, then you can concatenate them in the following way:"
   ]
  },
  {
   "cell_type": "code",
   "execution_count": null,
   "metadata": {},
   "outputs": [],
   "source": [
    "v1 = [1 2 3]\n",
    "v2 = 0:5\n",
    "v3 = [v1,v2]"
   ]
  },
  {
   "cell_type": "markdown",
   "metadata": {},
   "source": [
    "Be careful however - YOU CAN'T CONCATENATE TO MATRICES THAT HAVE DIFFERENT DIMENSIONS"
   ]
  },
  {
   "cell_type": "markdown",
   "metadata": {},
   "source": [
    "## Indexing Into Vectors and Matrices\n",
    "\n",
    "MATLAB is different than C++ and Java because MATLAB is a **1-based indexing language** which means the first value is referenced at position 1 (this is a big switch for CS students who are used to C++ or Java). The following code shows how to index into a vector:"
   ]
  },
  {
   "cell_type": "code",
   "execution_count": null,
   "metadata": {},
   "outputs": [],
   "source": [
    "q1 = 0:0.5:10\n",
    "q1(1) # get the first element of the vector\n",
    "q1(2) = 0 # set the second element of the vector to 0\n",
    "q1(end)# get the last element of the vector\n",
    "q1(end-1) = 0 # set the second-to-last element of the vector to 0"
   ]
  },
  {
   "cell_type": "markdown",
   "metadata": {},
   "source": [
    "Matrices are a bit more complicated because you have to reference both a row and a column. You always reference the row first and then the column."
   ]
  },
  {
   "cell_type": "code",
   "execution_count": null,
   "metadata": {},
   "outputs": [],
   "source": [
    "B1 = [1:3; 4:6; 7:9]\n",
    "r = B1(2,2) # Create a variable are and initialize it to the value in row 2 column 2 in B1"
   ]
  },
  {
   "cell_type": "markdown",
   "metadata": {},
   "source": [
    "## The Difference Between Standard Operations and Dot Operations\n",
    "\n",
    "In MATLAB you get will get different results (and sometimes errors) if you run `.*` or `./` instead of `*` or `/`. `*` is **standard matrix multiplication**. When you perform this operation, the resulting value will be a *matrix* (that is assuming that you can even perform matrix multiplication). `.*` means **elementwise multiplication** which means that you multiply the values at each corresponding element in the matrix/vector. There are a lot of bugs that occur in MATLAB code because of the distinction between these operations, so be careful when writing your MATLAB code!"
   ]
  }
 ],
 "metadata": {
  "kernelspec": {
   "display_name": "Matlab",
   "language": "matlab",
   "name": "matlab"
  },
  "language_info": {
   "codemirror_mode": "octave",
   "file_extension": ".m",
   "help_links": [
    {
     "text": "MetaKernel Magics",
     "url": "https://metakernel.readthedocs.io/en/latest/source/README.html"
    }
   ],
   "mimetype": "text/x-octave",
   "name": "matlab",
   "version": "0.16.11"
  }
 },
 "nbformat": 4,
 "nbformat_minor": 4
}
