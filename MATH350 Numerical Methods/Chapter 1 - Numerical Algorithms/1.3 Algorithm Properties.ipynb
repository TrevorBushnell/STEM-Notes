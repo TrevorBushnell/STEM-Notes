{
 "cells": [
  {
   "cell_type": "markdown",
   "source": [
    "# 1.3: Algorithm Properties\r\n",
    "\r\n",
    "This section goes into detail about the criteria for assessing how good a solution algorithm is.\r\n",
    "\r\n",
    "\r\n",
    "## Components of a Good Algorithm\r\n",
    "\r\n",
    "An algorithm should have these following properties for it to be considered a good solution algorithm:\r\n",
    "\r\n",
    "* **Accuracy:** how small is the expected error of this algorithm?\r\n",
    "* **Efficiency:** how long does it take for the algorithm to run?\r\n",
    "    * *rate of convergence:* how many iterations does it take to get a good result?\r\n",
    "    * *operation count (FLOP count):* how many +,-,*,/ operations does the algorithm make?\r\n",
    "* **Robustness:** how reliable is the algorithm? Can the algorithm fail? When will it fail?\r\n",
    "    * *stability:* an algorithm is stabe if small changes to input data lead to only small changes to the solution\r\n",
    "    * we hope that the problem statement is *well-conditioned*. This means that the problem statement is written in such a way that small changes to input data lead to only small changes in the solution"
   ],
   "metadata": {}
  }
 ],
 "metadata": {
  "language_info": {
   "name": "python"
  }
 },
 "nbformat": 4,
 "nbformat_minor": 5
}