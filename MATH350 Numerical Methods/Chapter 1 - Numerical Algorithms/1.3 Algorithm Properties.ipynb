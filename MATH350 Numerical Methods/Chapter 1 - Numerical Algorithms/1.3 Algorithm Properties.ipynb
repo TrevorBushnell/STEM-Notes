{
 "cells": [
  {
   "cell_type": "markdown",
   "id": "5ed41377",
   "metadata": {},
   "source": [
    "# 1.3: Algorithm Properties\r\n",
    "\r\n",
    "This section goes into detail about the criteria for assessing how good a solution algorithm is.\r\n",
    "\r\n",
    "\r\n"
   ]
  },
  {
   "cell_type": "markdown",
   "id": "ded1e596",
   "metadata": {},
   "source": [
    "## Components of a Good Algorithm\r\n",
    "\r\n",
    "An algorithm should have these following properties for it to be considered a good solution algorithm:\r\n",
    "\r\n",
    "* **Accuracy:** how small is the expected error of this algorithm?\r\n",
    "* **Efficiency:** how long does it take for the algorithm to run?\r\n",
    "    * *rate of convergence:* how many iterations does it take to get a good result?\r\n",
    "    * *operation count (FLOP count):* how many +,-,*,/ operations does the algorithm make?\r\n",
    "* **Robustness:** how reliable is the algorithm? Can the algorithm fail? When will it fail?\r\n",
    "    * *stability:* an algorithm is stabe if small changes to input data lead to only small changes to the solution\r\n",
    "    * we hope that the problem statement is *well-conditioned*. This means that the problem statement is written in such a way that small changes to input data lead to only small changes in the solution\r\n",
    "        * EXAMPLE OF A WELL-CONDITIONED PROBLEM: Suppose there is a function $g(x) = \\tan(x)$. Approximate values around $g(x_0), x_0 \\approx \\frac{\\pi}{2}$. If we set $x_0 = \\frac{\\pi}{2} - 0.001$, and set $\\tilde{x_0} = \\frac{pi}{2} - 0.002$ and plug both of these into $g(x)$, then $|x_0 - \\tilde{x_0}| = 0.001$ BUT $|g(x_0)-g(\\tilde{x_0})| = 500$. This means that a small change in the input results in a large change in the output."
   ]
  },
  {
   "cell_type": "markdown",
   "id": "edcdb79a",
   "metadata": {},
   "source": [
    "## Error Accumulation & Stability\r\n",
    "\r\n",
    "Roundoff errors will inevitably *accumulate linearly* during any sort of calculation. However, some algorithms will magnify roundoff errors such that the accumulation of roundoff error because larger/worse than linear. We want to try to avoid these scenarios. \r\n",
    "\r\n",
    "If $E_n$ is the relative error at $n^{th}$ operation (due to roundoff), then\r\n",
    "\r\n",
    "* $E_n \\approx C_0 n E_0$ is linear error accumulation\r\n",
    "* $E_n \\approx C_1 ^ n E_0$ is exponential error accumulation (REALLY BAD)\r\n",
    "\r\n",
    "\r\n",
    "> #### Example 1: An Example of a Numerical Algorithm with BAD Stability\r\n",
    ">\r\n",
    "> Consider computing the following sequence:\r\n",
    "> $$\r\n",
    "    y_n = \\int_0^1 \\frac{x^n}{x+10}dx, n = 0,1,2,\\cdots\r\n",
    "  $$\r\n",
    "\r\n",
    "We can see that (and can simplify as follows):\r\n",
    "$$\r\n",
    "  \\begin{aligned}\r\n",
    "    y_n + 10 y_{n-1} &= \\int_0^1 \\frac{x^n+10x^{n-1}}{x+10}dx\\\\\r\n",
    "    &= \\int_0^1 \\frac{x^{n-1}(x+10)}{x+10}dx\\\\\r\n",
    "    &= \\int_0^1 x^{n-1}dx = \\frac{x^n}{2}|_{x=0}^{x=1}\r\n",
    "  \\end{aligned}\r\n",
    "$$\r\n",
    "\r\n",
    "So we note that $y_n = \\frac{1}{n} - 10y_{n-1}$. And if $n=0$, then we have that $y_0 = \\ln(11) - \\ln(10)$. \r\n",
    "\r\n",
    "The algorithm would be the following:\r\n",
    "\r\n",
    "1. Iterate through values of $n$\r\n",
    "2. Evaluate the recurrence relation\r\n",
    "\r\n",
    "\r\n",
    "The code to run this algorithm is as follows:"
   ]
  },
  {
   "cell_type": "code",
   "execution_count": 1,
   "id": "ece415aa",
   "metadata": {},
   "outputs": [
    {
     "name": "stdout",
     "output_type": "stream",
     "text": [
      "\n"
     ]
    },
    {
     "data": {
      "image/png": "[encoded data removed]",
      "text/plain": [
       "<IPython.core.display.Image object>"
      ]
     },
     "metadata": {},
     "output_type": "display_data"
    }
   ],
   "source": [
    "N = 20;\r\n",
    "y = zeros(1, N+1);\r\n",
    "ytrue = zeros(1, N+1);\r\n",
    "\r\n",
    "ytrue(1) = log(11) - log(10);\r\n",
    "y(1) = ytrue(1);\r\n",
    "\r\n",
    "for n = 2:N+1\r\n",
    "    f = @(x) x .^ n ./ (x+10);\r\n",
    "    y(n) = 1/(n-1) - 10 * y(n-1);\r\n",
    "    ytrue(n) = integral(f,0,1);\r\n",
    "end\r\n",
    "\r\n",
    "figure\r\n",
    "plot(0:N, y, 'o-')\r\n",
    "hold on\r\n",
    "plot(0:N, ytrue)\r\n",
    "hold off\r\n",
    "xlabel('n')\r\n",
    "ylabel('yn')\r\n",
    "legend('approximation', 'true solution')\r\n",
    "title('Value of Integration')"
   ]
  },
  {
   "cell_type": "markdown",
   "id": "4a8ed640",
   "metadata": {},
   "source": [
    "The above algorithm is **unstable** because on each step, we multiply the roundoff error in the previous step by 10. This means that we have exponential growth in our roundoff error. "
   ]
  }
 ],
 "metadata": {
  "kernelspec": {
   "display_name": "Matlab",
   "language": "matlab",
   "name": "matlab"
  },
  "language_info": {
   "codemirror_mode": "octave",
   "file_extension": ".m",
   "help_links": [
    {
     "text": "MetaKernel Magics",
     "url": "https://metakernel.readthedocs.io/en/latest/source/README.html"
    }
   ],
   "mimetype": "text/x-octave",
   "name": "matlab",
   "version": "0.16.11"
  }
 },
 "nbformat": 4,
 "nbformat_minor": 5
}
