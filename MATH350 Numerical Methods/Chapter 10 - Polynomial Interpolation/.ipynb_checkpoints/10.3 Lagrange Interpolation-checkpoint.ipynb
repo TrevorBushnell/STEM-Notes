{
 "cells": [
  {
   "cell_type": "markdown",
   "id": "f94a388c-e68a-4dc1-ac62-00a6f6c16761",
   "metadata": {},
   "source": [
    "# 10.3: Lagrange Interpolation"
   ]
  },
  {
   "cell_type": "markdown",
   "id": "c759c449-e65c-40ca-bbdc-a1178e28d968",
   "metadata": {},
   "source": [
    "Previously, we found a polynomial interpolant $$p_n(x) = \\sum_{j=0}^n c_j x^j = c_0 + c_1x + \\cdots + c_n x^n$$ so that given a dataset $\\{(x_i, y_i\\}_{i=0}^n$, we have $p_n(x_i) = y_i$ for $i=0,\\cdots,n$ (we solved $X \\vec c = \\vec y)$.\n",
    "\n",
    "We will find the same polynomial using the form $$p_n(x) = \\sum_{j=0}^n y_j L_j(x)$$ where $L_j(x)$ are basis functions and **lagrange polynomials**. The Lagrange polynomials are polynomials such that $L_j(x_i) = 0$ if $i \\ne j$ and $L_j(x_i) = 1$ if $i=j$. Then we get the following:\n",
    "\n",
    "$$\n",
    "\\begin{aligned}\n",
    "    p_n(x_i) &= \\sum_{j=0}^n y_j L_j(x_i)\\\\\n",
    "    &= y_0L_0(x_i) + y_1L_1(x_i) + \\cdots + y_iL_i(x_i) + \\cdots + y_nL_n(x_n) = y_i\n",
    "\\end{aligned}\n",
    "$$\n",
    "\n",
    "So $p_n(x_i) = y_i$ as desired. "
   ]
  },
  {
   "cell_type": "markdown",
   "id": "90a4127e-9ea9-41f1-95d9-2497acd1a31b",
   "metadata": {},
   "source": [
    "> **Example:** Consider the dataset $\\{(1,1),(2,3),(4,3)\\}$"
   ]
  }
 ],
 "metadata": {
  "kernelspec": {
   "display_name": "Matlab",
   "language": "matlab",
   "name": "matlab"
  },
  "language_info": {
   "codemirror_mode": "octave",
   "file_extension": ".m",
   "help_links": [
    {
     "text": "MetaKernel Magics",
     "url": "https://metakernel.readthedocs.io/en/latest/source/README.html"
    }
   ],
   "mimetype": "text/x-octave",
   "name": "matlab",
   "version": "0.16.11"
  }
 },
 "nbformat": 4,
 "nbformat_minor": 5
}
