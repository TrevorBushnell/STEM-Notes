{
 "cells": [
  {
   "cell_type": "markdown",
   "id": "59cf531e-c00f-493c-8ee0-3df8ff4d6caf",
   "metadata": {},
   "source": [
    "# 10.1 & 10.2: General Approximation and Interpolation"
   ]
  },
  {
   "cell_type": "markdown",
   "id": "7586d63f-2fb0-4af4-b226-2a0b92c02904",
   "metadata": {},
   "source": [
    "We use **Least Squares Data Fitting** if we have a large, noisy dataset. In least squares, the approximation $v(t)$ does not have to intersect *any* of the data points $\\{(x_i, y_i)\\}_{i=0}^n$.\n",
    "\n",
    "**Interpolation** works best for:\n",
    "   1. small datasets\n",
    "   2. large-ish datasets with little to no noise\n",
    "   \n",
    "The idea for interpolation is to find a function $v(x)$ such that $v(x_i)=y_i$ for every $(x_i,y_i)$ in your dataset. Once we have $v(x)$, we can approximate other values $(x,y)$ using $v(x)=y$. If we want to find $y$ given an $x \\in [\\min(x_i), \\max(x_i)]$, then the process to do this is called *interpolation*. If we want to find a $y$ given an $x \\notin [\\min(x_i), \\max(x_i)]$, then the process to do this is called *extrapolation*."
   ]
  },
  {
   "cell_type": "markdown",
   "id": "fa9c8bd8-89ed-4aa1-8986-13eb28312364",
   "metadata": {},
   "source": [
    "> **Example:** A continuous signal $f(t)$ is sampled at a set of discrete values (the \"mesh\" or \"grid\") $\\{t_0,t_1,\\cdots,t_n\\}$. Then to define the signal on a finer mesh (at more points), we can use interpolation."
   ]
  },
  {
   "cell_type": "markdown",
   "id": "57389868-43e5-4445-a151-b1b609b5ef84",
   "metadata": {},
   "source": [
    "**IN GENERAL:** We will assume a *linear form*:\n",
    "\n",
    "$$\n",
    "v(x) = \\sum_{j=0}^n c_j\\phi_j(x) = c_0\\phi_0(x) + c_1\\phi_1(x)+\\cdots+c_n\\phi_n(x)\n",
    "$$\n",
    "\n",
    "Where $\\phi_j(x)$ is a basis function which is given in the context of the problem. Then polynomial interpolation has $\\phi_j(x)=x^j$ and looks like the following:\n",
    "\n",
    "$$\n",
    "p(x) = \\sum_{j=0}^n c_jx^j = c_0 + c_1x+ c_2x^2 + \\cdots+c_nx^n\n",
    "$$\n",
    "\n",
    "Then we would want $p(x_j)=y_i$ for $i=0,\\cdots,n$. This means that we have a linear system with $n+1$ equations and $n+1$ unknowns. Our coefficient matrix for the linear system would look like the following:\n",
    "\n",
    "$$\n",
    "\\left[\\begin{array}{ccccc}\n",
    "1 & x_0 & x_0^2 & \\cdots & x_0^n\\\\\n",
    "1 & x_1 & x_1^2 & \\cdots & x_1^n\\\\\n",
    "\\cdots & \\cdots & \\cdots & \\cdots & \\cdots \\\\\n",
    "\\cdots & \\cdots & \\cdots & \\cdots & \\cdots \\\\\n",
    "\\cdots & \\cdots & \\cdots & \\cdots & \\cdots \\\\\n",
    "1 & x_n & x_n^2 & \\cdots & x_n^n\\\\\n",
    "\\end{array}\\right]\n",
    "\\left[\\begin{array}{c}\n",
    "c_0\\\\ c_1 \\\\ \\cdots \\\\ \\cdots \\\\ \\cdots \\\\ c_n\n",
    "\\end{array}\\right] = \n",
    "\\left[\\begin{array}{c}\n",
    "y_0\\\\ y_1 \\\\ \\cdots \\\\ \\cdots \\\\ \\cdots \\\\ y_n\n",
    "\\end{array}\\right]\n",
    "$$\n",
    "\n",
    "We want to solve $X \\vec c = \\vec y$, where $X$ is the big Vandermonde Matrix. There's a proof that shows that $\\det(X) \\ne 0$ which means that there is a guaranteed unique solution to this system, provided that $x_i \\ne x_j$ for $i \\ne j$. This is called the **_______________ THEOREM**.\n",
    "\n",
    "As such, if we want to find an interpolant function, we can solve the linear system $X \\vec x = \\vec y$.\n",
    "\n",
    "**ADVANTAGES:**\n",
    "* Super simple and understandable\n",
    "\n",
    "**DISADVANTAGES:**\n",
    "* $X$ is often poorly conditioned, so little errors from your dataset could result in big errors in the interpolation function\n",
    "* kinda slow to solve this system as it takes $\\frac{2}{3}n^3$ flops\n",
    "* Small changes to the $\\{(x_i, y_i)\\}$ result in large changes to $\\vec c$."
   ]
  }
 ],
 "metadata": {
  "kernelspec": {
   "display_name": "Matlab",
   "language": "matlab",
   "name": "matlab"
  },
  "language_info": {
   "codemirror_mode": "octave",
   "file_extension": ".m",
   "help_links": [
    {
     "text": "MetaKernel Magics",
     "url": "https://metakernel.readthedocs.io/en/latest/source/README.html"
    }
   ],
   "mimetype": "text/x-octave",
   "name": "matlab",
   "version": "0.16.11"
  }
 },
 "nbformat": 4,
 "nbformat_minor": 5
}
