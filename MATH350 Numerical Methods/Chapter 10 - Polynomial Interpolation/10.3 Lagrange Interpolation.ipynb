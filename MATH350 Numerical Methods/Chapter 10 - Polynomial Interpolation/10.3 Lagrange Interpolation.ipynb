{
 "cells": [
  {
   "cell_type": "markdown",
   "id": "f94a388c-e68a-4dc1-ac62-00a6f6c16761",
   "metadata": {},
   "source": [
    "# 10.3: Lagrange Interpolation"
   ]
  },
  {
   "cell_type": "markdown",
   "id": "c759c449-e65c-40ca-bbdc-a1178e28d968",
   "metadata": {},
   "source": [
    "Previously, we found a polynomial interpolant $$p_n(x) = \\sum_{j=0}^n c_j x^j = c_0 + c_1x + \\cdots + c_n x^n$$ so that given a dataset $\\{(x_i, y_i\\}_{i=0}^n$, we have $p_n(x_i) = y_i$ for $i=0,\\cdots,n$ (we solved $X \\vec c = \\vec y)$.\n",
    "\n",
    "We will find the same polynomial using the form $$p_n(x) = \\sum_{j=0}^n y_j L_j(x)$$ where $L_j(x)$ are basis functions and **lagrange polynomials**. The Lagrange polynomials are polynomials such that $L_j(x_i) = 0$ if $i \\ne j$ and $L_j(x_i) = 1$ if $i=j$. Then we get the following:\n",
    "\n",
    "$$\n",
    "\\begin{aligned}\n",
    "    p_n(x_i) &= \\sum_{j=0}^n y_j L_j(x_i)\\\\\n",
    "    &= y_0L_0(x_i) + y_1L_1(x_i) + \\cdots + y_iL_i(x_i) + \\cdots + y_nL_n(x_n) = y_i\n",
    "\\end{aligned}\n",
    "$$\n",
    "\n",
    "So $p_n(x_i) = y_i$ as desired. "
   ]
  },
  {
   "cell_type": "markdown",
   "id": "90a4127e-9ea9-41f1-95d9-2497acd1a31b",
   "metadata": {},
   "source": [
    "> **Example:** Consider the dataset $\\{(1,1),(2,3),(4,3)\\}$. This means that $n=2$. So we get that:\n",
    ">\n",
    "> $$\\begin{aligned}\n",
    "    L_0(x) &= a_0(x-2)(x-4)\\\\\n",
    "    L_0(1) &= a_0(1-2)(1-4) = 1 \\implies a_0 = \\frac{1}{3}\\\\\n",
    "    L_0(x) &= \\frac{1}{3}(x-2)(x-4)\n",
    "\\end{aligned}$$\n",
    ">\n",
    "> Now we can find the lext $L_1(x)$...\n",
    ">\n",
    "> $$\n",
    "\\begin{aligned}\n",
    "    L_1(x) &= a_1(x-1)(x-4)\\\\\n",
    "    L_1(2) &= a_1(2-1)(2-4) = 1 \\implies a_0 = -\\frac{1}{2}\\\\\n",
    "    L_1(x) &= -\\frac{1}{2}(x-2)(x-4)\n",
    "\\end{aligned}\n",
    "$$\n",
    ">\n",
    "> Now we can find the lext $L_2(x)$...\n",
    ">\n",
    "> $$\n",
    "\\begin{aligned}\n",
    "    L_2(x) &= a_2(x-1)(x-2)\\\\\n",
    "    L_2(4) &= a_2(4-1)(4-2) = 1 \\implies a_0 = \\frac{1}{6}\\\\\n",
    "    L_2(x) &= \\frac{1}{6}(x-2)(x-4)\n",
    "\\end{aligned}\n",
    "$$\n",
    "> \n",
    "> Now we can make our interpolating polynomial:\n",
    ">\n",
    "> $$\n",
    "\\begin{aligned}\n",
    "    p_n(x) &= y_0L_0(x) + y_1L_1(x) + y_2L_2(x)\\\\\n",
    "    p_n(x) &= \\frac{1}{3}(x-2)(x-4)-\\frac{3}{2}(x-1)(x-4)+\\frac{1}{2}(x-1)(x-2)\n",
    "\\end{aligned}\n",
    "$$"
   ]
  },
  {
   "cell_type": "markdown",
   "id": "2608c6cf-fcb1-4c78-bd29-f7093b304338",
   "metadata": {},
   "source": [
    "## Speaking in Generalities\n",
    "\n",
    "For a general set of $n$ datapoints, we can find each $L_j(x)$ using the formula $$L_j(x)=\\frac{(x-x_0)(x-x_1)\\cdots(x-x_{j-1})(x-x_{j+1})\\cdots(x-x_n)}{(x_j-x_0)(x_j-x_1)\\cdots(x_j-x_{j-1})(x_j-x_{j+1})\\cdots(x_j-x_n)} = \\prod_{i=0;\\:i \\ne j}^n \\frac{x-x_i}{x_j-x_i}$$"
   ]
  },
  {
   "cell_type": "markdown",
   "id": "e3381aaa-56dc-4b87-958d-51c47b678510",
   "metadata": {},
   "source": [
    "## Efficient Implementation & Evalutaion\n",
    "\n",
    "1. *(Construction)* Define $w_j = \\frac{1}{\\prod_{i \\ne j}(x_j-x_i)}$ for $j=0,\\cdots,n$. These are the **Barycentric Weights** (takes $\\approx n^2$ flops)\n",
    "2. *(Evaluate)* Given an evaulation point $x \\notin \\{x_i\\}_{i=0}^n$, compute $p(x)=\\frac{\\sum_{j=0}^n}{\\sum_{j=0}^n \\frac{w_jy_j}{x-x_j}}\\frac{w_j}{x-x_j}$ (takes $\\approx 5n$ flops)\n",
    "\n",
    "TOTAL COST: $n^2 + 5n$ flops $\\implies O(n^2)$ algorithm"
   ]
  }
 ],
 "metadata": {
  "kernelspec": {
   "display_name": "Matlab",
   "language": "matlab",
   "name": "matlab"
  },
  "language_info": {
   "codemirror_mode": "octave",
   "file_extension": ".m",
   "help_links": [
    {
     "text": "MetaKernel Magics",
     "url": "https://metakernel.readthedocs.io/en/latest/source/README.html"
    }
   ],
   "mimetype": "text/x-octave",
   "name": "matlab",
   "version": "0.16.11"
  }
 },
 "nbformat": 4,
 "nbformat_minor": 5
}
