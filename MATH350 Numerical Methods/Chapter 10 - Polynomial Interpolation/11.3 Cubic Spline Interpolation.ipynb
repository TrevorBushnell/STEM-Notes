{
 "cells": [
  {
   "cell_type": "markdown",
   "id": "0ebe7853-3c83-42c6-81c8-c6202b6d286b",
   "metadata": {},
   "source": [
    "# 11.3: Cubic Spline Interpolation"
   ]
  },
  {
   "cell_type": "markdown",
   "id": "6a85bd19-73fa-4cba-997c-2575736f2109",
   "metadata": {},
   "source": [
    "## What Are Splines?\n",
    "\n",
    "Splines are piecewise polynomial interpolants. For example, \n",
    "* a *linear spline* is simply just a spline connecting all the dots with the datapoints\n",
    "    * not smooth, so can't take derivatives at points where you shift \"pieces\"\n",
    "* a *quadratic spline* connects the dots with either concave up/concave down parabolas\n",
    "    * more smooth than linear splines but can still have corners\n",
    "* a *cubic spline* is arguably the best spline because it creates a very smooth curve, eliminating all corner problems"
   ]
  },
  {
   "cell_type": "markdown",
   "id": "a2ac6d53-2592-480d-8e61-d17cf09a008a",
   "metadata": {},
   "source": [
    "## Definition of Cubic Spline Interpolation\n",
    "\n",
    "Given a dataset $\\{(x_i,y_i)\\}_{i=0}^n$ where $x_0 < x_1 < \\cdots < x_n$. We will assume $y_i = f(x_i)$ for some unknown $f$. Then the interpolant will be a piecewise function $v(x)$ which is (if cubic)\n",
    "\n",
    "* $s_0(x) = a_0 + b_0(x-x_0) + c_0(x-x_0)^2 + d_0(x-x_0)^3 \\:\\: x_0 \\le x \\le x_1$\n",
    "* $s_1(x) = a_1 + b_1(x-x_1) + c_1(x-x_1)^2 + d_1(x-x_1)^3 \\:\\: x_1 \\le x \\le x_2$\n",
    "* ...\n",
    "* $s_{n-1}(x) = a_{n-1} + b_{n-1}(x-x_{n-1}) + c_{n-1}(x-x_{n-1})^2 + d_{n-1}(x-x_{n-1})^3 \\:\\: x_0 \\le x \\le x_1$\n",
    "\n",
    "\n",
    "There are some requirements that splines follow:\n",
    "\n",
    "> **Require the interpolating Condition**\n",
    "\n",
    "* The left endpoint is $s_i(x_i) = y_i$ for $i=0,\\cdots, n-1$ $\\implies$ $a_i+b_i(x_i-x_i)+c_i(x_i-x_i)^2+d_i(x_i-x_i) = y_i \\implies a_i = y_i$\n",
    "* The right endpoints is $s_i(x_{i+1}) = y_{i+1} \\implies a_i + b_i(x_{i+1}-x_i) + c_i(x_{i+1}-x_i)^2 + d_i(x_{i+1}-x_i)^3 = y_i \\implies a_i + b_ih_i + c_ih_i^2 + d_ih_i^3 = y_{i+1}$\n",
    "* There are $n$ of these equations\n",
    "\n",
    "\n",
    "> **Require Smoothness**\n",
    "* $s_i'(x_{i+1}) = s_{i+1}'(x_{i+1})$ from $i=0,\\cdots, n-2$\n",
    "    * $s_i'(x) = b_i + 2c_i(x-x_i) + 3d_i(x-x_i)^2$\n",
    "    * $s_i'(x_{i+1}) = s_{i+1}'(x_{i+1}) \\implies b_i + 2c_i(x_{i+1}-x_i)+3d_i(x_{i+1}-x_i)^2=b_{i+1} + 2c_{i+1}(x_{i+1}-x_{i+1}) + 3d_{i+1}(x_{i+1}-x_{i+1})^2$\n",
    "   * There are $n-1$ of these equations\n",
    "* $s_i''(x_{i+1}) = s''(x_{i+1})$\n",
    "    * $s_i''(x_{i+1}) = 2c_i + 6d_i(x-x_i)$\n",
    "    * $c_i + 3d_ib_i - c_{i+1} = 0$\n",
    "    * There are $n-1$ of these\n",
    "    \n",
    "> **Boundary Conditions**\n",
    "\n",
    "* \"Natural/Free\" boundary conditions: $s_0''(x_0) = 0$ and $s_{n-1}''(x_n)=0$\n",
    "* This means that $c_0=0$ and $c_{n-1}+3d_{n-1}h_{n-1}=0$"
   ]
  },
  {
   "cell_type": "markdown",
   "id": "a9896051-1f7d-4572-829b-70c9969e29f7",
   "metadata": {},
   "source": [
    "## Example: Cubic Spline Through Two Data Points\n",
    "\n",
    "Suppose we have a dataset containing the points (0,2), (1,4), (2,1). We need to find $a_0,b_0,c_0,d_0,a_1,b_1,c_1,d_1$. \n",
    "\n",
    "Let's start with our interpolating conditions:\n",
    "\n",
    "* $a_0 = y_0 \\implies a_0 = 2$\n",
    "* $a_1 = y_1 \\implies a_1 = 4$\n",
    "* $a_0+b_0+c_0+d_0=4$\n",
    "* $a_1+b_1+c_1+d_1=4$\n",
    "\n",
    "Now let's check our smoothness conditions:\n",
    "* $b_0 + 2c_0h_0 + 3d_0h_0^2-b_1 = 0$ but since $h_0 = 1$ we have $b_0 + 2c_0 + 3d_0-b_1 = 0$ so this is our first derivative\n",
    "* Our second derivative looks like $c_0 + 3d_0 - c_1 = 0$ since $h_1=1$\n",
    "\n",
    "Now let's check our boundary conditions:\n",
    "* $c_0 = 0$\n",
    "* $c_1 + 3_d1 = 0$\n",
    "\n",
    "So our final $8 \\times 8$ system looks like the following:\n",
    "\n",
    "$$\n",
    "\\begin{aligned}\n",
    "    \\left[1 & 0 & 0 & 0 & 0 & 0 & 0 & 0\\\\ \n",
    "          0 & 0 & 0 & 0 & 1 & 0 & 0 & 0\\\\ \n",
    "          1 & 1 & 1 & 1 & 0 & 0 & 0 & 0\\\\ \n",
    "          0 & 0 & 0 & 0 & 1 & 1 & 1 & 1\\\\ \n",
    "          0 & 1 & 2 & 3 & 0 & -1 & 0 & 0\\\\ \n",
    "          0 & 0 & 1 & 0 & 0 & 0 & 0 & 0 \\\\ \n",
    "          0 & 0 & 0 & 0 & 0 & 0 & 1 & 3\\right] \\left[\\begin{array}{c}a_0\\\\ b_0\\\\ c_0 \\\\ d_0 \\\\ a_1 \\\\ b_1 \\\\ c_1 \\\\ d_1\\end{array}\\right] = \\left[\\begin{array}{c}2\\\\4\\\\4\\\\1\\\\0\\\\0\\\\0\\\\0\\end{array}\\right]\n",
    "\\end{aligned}\n",
    "$$\n",
    "\n",
    "If we solve this, then our final $v(x)$ will be as follows:\n",
    "* $2+3.25(x-0) - 1.25(x-0)^3$ for $0 \\le x \\le 1$\n",
    "* $4 - 0.5(x-1)-3.75(x-1)^2+1.25(x-1)^3$ for $1 \\le x \\le 2$"
   ]
  }
 ],
 "metadata": {
  "kernelspec": {
   "display_name": "Matlab",
   "language": "matlab",
   "name": "matlab"
  },
  "language_info": {
   "codemirror_mode": "octave",
   "file_extension": ".m",
   "help_links": [
    {
     "text": "MetaKernel Magics",
     "url": "https://metakernel.readthedocs.io/en/latest/source/README.html"
    }
   ],
   "mimetype": "text/x-octave",
   "name": "matlab",
   "version": "0.16.11"
  }
 },
 "nbformat": 4,
 "nbformat_minor": 5
}
