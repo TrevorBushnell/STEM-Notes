{
 "cells": [
  {
   "cell_type": "markdown",
   "id": "0ebe7853-3c83-42c6-81c8-c6202b6d286b",
   "metadata": {},
   "source": [
    "# 11.3: Cubic Spline Interpolation"
   ]
  },
  {
   "cell_type": "markdown",
   "id": "6a85bd19-73fa-4cba-997c-2575736f2109",
   "metadata": {},
   "source": [
    "## What Are Splines?\n",
    "\n",
    "Splines are piecewise polynomial interpolants. For example, \n",
    "* a *linear spline* is simply just a spline connecting all the dots with the datapoints\n",
    "    * not smooth, so can't take derivatives at points where you shift \"pieces\"\n",
    "* a *quadratic spline* connects the dots with either concave up/concave down parabolas\n",
    "    * more smooth than linear splines but can still have corners\n",
    "* a *cubic spline* is arguably the best spline because it creates a very smooth curve, eliminating all corner problems"
   ]
  },
  {
   "cell_type": "markdown",
   "id": "a2ac6d53-2592-480d-8e61-d17cf09a008a",
   "metadata": {},
   "source": [
    "## Definition of Cubic Spline Interpolation\n",
    "\n",
    "Given a dataset $\\{(x_i,y_i)\\}_{i=0}^n$ where $x_0 < x_1 < \\cdots < x_n$. We will assume $y_i = f(x_i)$ for some unknown $f$. Then the interpolant will be a piecewise function $v(x)$ which is:\n",
    "\n",
    "**GET THE PICTURE FROM PHONE AND IMPORT TO DISCORD TO FINISH THIS LATER**"
   ]
  }
 ],
 "metadata": {
  "kernelspec": {
   "display_name": "Matlab",
   "language": "matlab",
   "name": "matlab"
  },
  "language_info": {
   "codemirror_mode": "octave",
   "file_extension": ".m",
   "help_links": [
    {
     "text": "MetaKernel Magics",
     "url": "https://metakernel.readthedocs.io/en/latest/source/README.html"
    }
   ],
   "mimetype": "text/x-octave",
   "name": "matlab",
   "version": "0.16.11"
  }
 },
 "nbformat": 4,
 "nbformat_minor": 5
}
