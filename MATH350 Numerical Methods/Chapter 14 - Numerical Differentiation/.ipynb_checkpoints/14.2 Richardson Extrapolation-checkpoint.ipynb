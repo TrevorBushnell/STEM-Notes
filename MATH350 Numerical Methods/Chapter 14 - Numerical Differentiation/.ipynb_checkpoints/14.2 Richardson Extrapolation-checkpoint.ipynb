{
 "cells": [
  {
   "cell_type": "markdown",
   "id": "9449652c-a471-4336-8275-eecd12eed362",
   "metadata": {},
   "source": [
    "# 14.2: Richardson Extrapolation"
   ]
  },
  {
   "cell_type": "markdown",
   "id": "62e9b9ad-5930-4e8f-8be2-32de2ffc341f",
   "metadata": {},
   "source": [
    "EXAMPLE: Here is the single derivative expansion for the 6th derivative:\n",
    "\n",
    "$$\n",
    "\\begin{aligned}\n",
    "f(x_0+h) &= \\text{TAYLOR SERIES UP TO 6TH TERM} + \\mathcal O(h^7)\\\\\n",
    "f(x_0-h) &= \\text{ALTERNATING TAYLOR SERIES UP TO 6TH TERM} + \\mathcal O(h^7)\n",
    "\\end{aligned}\n",
    "$$\n",
    "\n",
    "If we add these two equations together, then we get:\n",
    "\n",
    "$$\n",
    "f(x_0+h) + f(x_0-h) = 2f(x_0) + h^2f''(x_0)+\\frac{h^4}{12}f^{(4)}(x_0) + \\frac{2h^6}{6!}f^{(6)}(x_0)+\\mathcal O(h^7)\n",
    "$$\n",
    "\n",
    "Solving for $f''(x_0)$ gets us:\n",
    "\n",
    "$$\n",
    "A = f''(x_0) = \\frac{1}{h^2} \\left[f(x_0-h) - 2f(x_0) + f(x_0+h)\\right] - \\frac{h^2}{12}f^{(4)}(x_0) - \\frac{h^4}{360}f^{(6)}(x_0) + \\mathcal O(h^5)\n",
    "$$\n",
    "\n",
    "Or to get the 5-Point equation, we can \"cheat\" and replace all the $h$'s above with $2h$'s:\n",
    "\n",
    "$$\n",
    "B = f''(x_0) = \\frac{1}{4h^2} \\left[f(x_0-2h) - 2f(x_0) + f(x_0+2h)\\right] - \\frac{4h^2}{12}f^{(4)}(x_0) - \\frac{16h^4}{360}f^{(6)}(x_0) + \\mathcal O(h^5)\n",
    "$$\n",
    "\n",
    "Now if we take $\\frac{1}{3}(4A - B)$, we get the following equation:\n",
    "\n",
    "$$\n",
    "f''(x_0) = \\frac{1}{12h^2}\\left[-f(x_0-2h)+16f(x_0-h)-30f(x_0)+16f(x_0+h)-f(x_0+2h)\\right] + \\mathcal O(h^4)\n",
    "$$\n",
    "\n",
    "NOTE: $\\frac{h^4}{90}f^{(6)}(x_0) + \\mathcal O(h^5)$ turned into $\\mathcal O(h^4)$"
   ]
  }
 ],
 "metadata": {
  "kernelspec": {
   "display_name": "Matlab",
   "language": "matlab",
   "name": "matlab"
  },
  "language_info": {
   "codemirror_mode": "octave",
   "file_extension": ".m",
   "help_links": [
    {
     "text": "MetaKernel Magics",
     "url": "https://metakernel.readthedocs.io/en/latest/source/README.html"
    }
   ],
   "mimetype": "text/x-octave",
   "name": "matlab",
   "version": "0.16.11"
  }
 },
 "nbformat": 4,
 "nbformat_minor": 5
}
