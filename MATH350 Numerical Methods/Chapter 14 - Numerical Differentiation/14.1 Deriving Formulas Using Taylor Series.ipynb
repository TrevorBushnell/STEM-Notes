{
 "cells": [
  {
   "cell_type": "markdown",
   "id": "d3078f16-fc14-406c-b5df-d4583df42c35",
   "metadata": {},
   "source": [
    "# 14.1: Deriving Formulas Using Taylor Series"
   ]
  },
  {
   "cell_type": "markdown",
   "id": "fd4f1b19-298a-469f-9ad6-3ef82f94c85c",
   "metadata": {},
   "source": [
    "Assume $f(x)$ is \"sufficiently smooth\" (we can take a bunch of derivatives and the derivatives are bounded). Then we can recall from Calculus I that $f'(x_0) = \\lim_{h \\to \\infty} \\frac{f(x_0+h)-f(x_0)}{h}$ where $\\frac{f(x_0+h)-f(x_0)}{h}$ is the slope of the secant line.\n",
    "\n",
    "Also recall Taylor's Theorem:\n",
    "\n",
    "> **Taylor's Theorem:** \n",
    ">\n",
    ">$$\n",
    "f(x_0+h) = f(x_0)+hf'(x_0)+\\frac{h^2}{2!}f''(x_0)+\\frac{h^3}{3!}f'''(x_0) + \\cdots + \\frac{h_k}{k!}f^{(k)}(x_0)+\\frac{h^{(k+1)}}{(k+1)!(\\xi)} \\text{ where } x_0 \\le \\xi \\le x_0 + h\n",
    "$$\n",
    "\n",
    "Then we can derive the formulas for the first derivatives using a Taylor Series as follows (note that this means that $k=1$):\n",
    "\n",
    "$$\n",
    "\\begin{aligned}\n",
    "f(x_0+h) &= f(x_0) + hf'(x_0) + \\mathcal O(h^2)\\\\\n",
    "f'(x_0) &= \\frac{f(x_0+h)-f(x_0)}{h} + \\mathcal O(h)\n",
    "\\end{aligned}\n",
    "$$\n",
    "\n",
    "Therefore for $k=1$, we note that the first derivative equation has an error on the magnitude of $\\mathcal O(h)$. This is sometimes called the **approximation of an order $h$**. The one above is specifically called the **forward difference approximation**\n",
    "\n",
    "But what if we go the other direction? So instead doing $x_0-h$, then we get the following:\n",
    "\n",
    "$$\n",
    "\\begin{aligned}\n",
    "f(x_0+h) &= f(x_0) - hf'(x_0) + \\mathcal O(h^2)\\\\\n",
    "f'(x_0) &= \\frac{f(x_0)-f(x_0-h)}{h} + \\mathcal O(h)\n",
    "\\end{aligned}\n",
    "$$\n",
    "\n",
    "This is called the **backward difference approximation**."
   ]
  },
  {
   "cell_type": "markdown",
   "id": "e2708073-7630-46ed-9437-19850f969534",
   "metadata": {},
   "source": [
    "## The 3-Point Formula\n",
    "\n",
    "If you want to compute higher order derivatives (for example, a second derivative), then we can do the following:\n",
    "\n",
    "$$\n",
    "\\begin{aligned}\n",
    "    f(x_0+h) = f(x_0) + hf'(x_0) + \\frac{h^2}{2!}f''(x_0) + \\mathcal O(h^3)\n",
    "\\end{aligned}\n",
    "$$\n",
    "\n",
    "Going in the opposite direction results in the following:\n",
    "\n",
    "$$\n",
    "\\begin{aligned}\n",
    "    f(x_0-h) = f(x_0) - hf'(x_0) + \\frac{h^2}{2!}f''(x_0) + \\mathcal O(h^3)\n",
    "\\end{aligned}\n",
    "$$\n",
    "\n",
    "If we subtract this second equation from the first equation, then we get:\n",
    "\n",
    "$$\n",
    "\\begin{aligned}\n",
    "f(x_0+h) - f(x_0-h) &= 2hf'(x_0) + \\mathcal O(h^3)\\\\\n",
    "f'(x_0) = \\frac{f(x_0+h)-f(x_0-h)}{2h} + \\mathcal O(h^2)\n",
    "\\end{aligned}\n",
    "$$"
   ]
  },
  {
   "cell_type": "markdown",
   "id": "e01322c3-578c-428f-99db-a9e95274ca3d",
   "metadata": {},
   "source": [
    "## 5-Point Formula\n",
    "\n",
    "$$\n",
    "f'(x_0) = \\frac{1}{12h}(f(x_0-2h)-8f(x_0-h)+8f(x_0+h)-f(x_0+2h))+\\mathcal O(h^4)\n",
    "$$"
   ]
  },
  {
   "cell_type": "markdown",
   "id": "9da06bbc-5826-4bf9-b7b2-3b799fffbf51",
   "metadata": {},
   "source": [
    "## 3-Point Formula for the Second Derivative\n",
    "\n",
    "$$\n",
    "f''(x_0) = \\frac{1}{h^2}(f(x_0-h)-2f(x_0)+f(x_0+h)) + \\mathcal O(h^2)\n",
    "$$\n",
    "\n",
    "This is called the **centered difference formula for the second derivative.**"
   ]
  }
 ],
 "metadata": {
  "kernelspec": {
   "display_name": "Matlab",
   "language": "matlab",
   "name": "matlab"
  },
  "language_info": {
   "codemirror_mode": "octave",
   "file_extension": ".m",
   "help_links": [
    {
     "text": "MetaKernel Magics",
     "url": "https://metakernel.readthedocs.io/en/latest/source/README.html"
    }
   ],
   "mimetype": "text/x-octave",
   "name": "matlab",
   "version": "0.16.11"
  }
 },
 "nbformat": 4,
 "nbformat_minor": 5
}
