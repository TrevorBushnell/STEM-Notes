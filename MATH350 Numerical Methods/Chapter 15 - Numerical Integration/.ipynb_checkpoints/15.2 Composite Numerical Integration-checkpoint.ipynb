{
 "cells": [
  {
   "cell_type": "markdown",
   "metadata": {},
   "source": [
    "# 15.2: Composite Numerical Integration\n",
    "\n",
    "We will now start doing numerical methods for computing integrals but using more than 1 sub-interval. We will do this by dividing $[a,b]$ into $r$ equal width subintervals or width $h = \\frac{b-a}{r}$. This means that:\n",
    "\n",
    "$$\n",
    "\\int_a^b f(x)\\:dx = \\sum_{i=1}^r \\int_{a+(i-1)h}^{a+ih} f(x)\\:dx = \\sum_{i=1}^r \\int_{t_{i-1}}^{t_i} f(x)\\:dx\n",
    "$$"
   ]
  },
  {
   "cell_type": "markdown",
   "metadata": {},
   "source": [
    "## Trapezoidal Rule - Composite\n",
    "\n",
    "$$\n",
    "\\int_{t_{i+1}}^{t_i} \\approx \\frac{t_i - t_{i-1}}{2}[f(t_{i-1})+f(t_i)] = \\frac{h}{2}[f(t_{i-1})+f(t_i)]\n",
    "$$\n",
    "\n",
    "This means that we have the following:\n",
    "\n",
    "$$\n",
    "\\begin{aligned}\n",
    "\\int_a^b f(x)\\:dx &\\approx \\sum_{i=1}^r \\frac{h}{2}[f(t-{i-1})+f(t_i)]\\\\\n",
    "&= \\frac{h}{2}[(f(a)+f(t_1)) + (f(t_1)+f(t_2)) =+ (f(t_2)+f(t_3)) + \\cdots + (f(t_{r-2})+f(t_{r-1})) + (f(t_{r-1})+f(t_b))]\\\\\n",
    "&= \\frac{h}{2}[f(a) + 2f(t_1) + 2f(t_2) + \\cdots + f(t_{r-1}) + f(b)]\n",
    "\\end{aligned}\n",
    "$$\n",
    "\n",
    "\n",
    "The truncation error for the Trapezoidal Rule is as follows:\n",
    "\n",
    "$$\n",
    "E(f) = -\\frac{f''(\\xi)}{12}(b-a)h^2 \\:\\:\\:\\implies \\mathcal{O}(h^2)\n",
    "$$"
   ]
  },
  {
   "cell_type": "markdown",
   "metadata": {},
   "source": [
    "## Simpson's Rule - Composite\n",
    "\n",
    "Let $r$ be even and consider subintervals in *pairs*, thus forming \"double\" subintervals of length $2h$. Then we can pick a subinterval like $[t_{2k-2}, t_{2k}] where $k=1,2,\\cdots,\\frac{r}{2}$. Then on each double subinterval, interpolate a parabola and integrate:\n",
    "\n",
    "$$\n",
    "\\int_{t_{2k-1}}^{t_{2k}} f(x)\\:dx \\approx \\frac{2h}{6}[f(t_{2k-2})+4f(t_{2k-1})+f(t_{2k})]\n",
    "$$"
   ]
  }
 ],
 "metadata": {
  "kernelspec": {
   "display_name": "Matlab",
   "language": "matlab",
   "name": "python385jvsc74a57bd030cfaf840bf8e74bb7f201816b910045dae9f6e57b4a6643b14e7c76979b6394"
  },
  "language_info": {
   "name": "matlab"
  },
  "orig_nbformat": 4
 },
 "nbformat": 4,
 "nbformat_minor": 2
}
