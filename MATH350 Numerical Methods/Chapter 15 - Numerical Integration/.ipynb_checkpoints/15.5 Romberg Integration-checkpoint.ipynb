{
 "cells": [
  {
   "cell_type": "markdown",
   "id": "b044a759-c86b-4971-890f-7f33b364a566",
   "metadata": {},
   "source": [
    "# 15.5: Romberg Integration"
   ]
  },
  {
   "cell_type": "markdown",
   "id": "ae9a749c-562d-4826-a2e7-f1be4893a268",
   "metadata": {},
   "source": [
    "Recall the Composite Trapezoidal Rule:\n",
    "\n",
    "$$\n",
    "I_{trap} = \\frac{h}{2} [f(a) + 2\\sum_{k=1}^{r-1}f(a+kh)+f(b)]\n",
    "$$\n",
    "\n",
    "this is $\\mathcal{O}(h^2)$ which means this is the worst error.\n",
    "\n",
    "However, suppose we set $h_1 = b-a$ and $h_2 = \\frac{h_1}{2} = \\frac{b-a}{2}$. This yields 2 approximations:\n",
    "\n",
    "$$\n",
    "\\begin{aligned}\n",
    "    R_{1,1} &= \\frac{h_1}{2}(f(a)+f(b))\\\\\n",
    "    R_{2,1} &= \\frac{h_2}{2}(f(a)+2f(a+h_2)+f(b))\n",
    "\\end{aligned}\n",
    "$$\n",
    "\n",
    "The corresponding errors are as follows:\n",
    "\n",
    "$$\n",
    "\\begin{aligned}\n",
    "    E_{1,1} &= I_f -  R_{1,1} = K_1h_1^2 + H_2h_1^4 + K_3h_1^6 + \\cdots\\\\\n",
    "    E_{2,1} &= I_f - R_{1,1} = K_1(\\frac{h_1}{2})^2 + K_2(\\frac{h_1}{2})+K_3(\\frac{h_1}{2})^6 + \\cdots\n",
    "\\end{aligned}\n",
    "$$\n",
    "\n",
    "Where $I_f$ is the true value of the integral. However, we notice that:\n",
    "\n",
    "$$\n",
    "E_{1,1} - 4E_{2,1} = K_1(h_1^2 - 4\\frac{h_1^2}{4}) + K_2(h_1^4 - 4\\frac{h_1^4}{16}) + K_3(h_1^6 - 4\\frac{h_1^6}{64}) + \\cdots\n",
    "$$\n",
    "\n",
    "However, the first terms cancel, which means that the error is actually $\\mathcal{O}(h^4)$. Also...\n",
    "\n",
    "$$\n",
    "E_{1,1} - 4E_{2,1} = (I_f - R_{1,1}) - 4(I_f - R_{2,1}) = (4R_{2,1} - R_{1,1}) - 3I_f\n",
    "$$\n",
    "\n",
    "If we solve for $I_f$, then we get that:\n",
    "\n",
    "$$\n",
    "I_f = \\frac{4R_{2,1}-R_{1,1}}{3} - \\frac{E_{1,1} - 4E_{2,1}}{3}\n",
    "$$\n",
    "\n",
    "This means that without doing any additional function evalutations, we can have a way to compute integrals that is more accurate. \n",
    "\n",
    "$$\n",
    "R_{2,2} = \\frac{4R_{2,1}-R_{1,1}}{3} = R_{2,1} + \\frac{R_{2,1}-R_{1,1}}{3}\n",
    "$$"
   ]
  },
  {
   "cell_type": "markdown",
   "id": "9f3e8af0-4cf3-43af-84c3-14879387726f",
   "metadata": {},
   "source": [
    "## General Romberg Algorithm\n",
    "\n",
    "Given $I_f = \\int_a^b f(x)\\:dx$\n",
    "\n",
    "0. Choose an initial $r$ (# of subintervals) $\\implies h = \\frac{b-a}{r}$, and then choose an integer $s>0$ (how many steps of Romberg integration)\n",
    "1. For $j=1$ to $s$:\n",
    "    * $R_{j,1} = \\frac{h}{2^{j-1}}[f(a) + 2 \\sum_{k=1}^{r \\cdot 2^{j-1}}f(a+kh) + f(b)]$\n",
    "2. For $k=2$ to $s$:\n",
    "    * For $j=k$ to $s$:\n",
    "        * $R_{j,k} = R_{j, k-1} + R_{j, k-1} - \\frac{R_{j-1, k-1}}{4^{k-1} - 1}$\n",
    "\n",
    "> Step 2. has error $\\mathcal{O}(h^{2s})$. This means that the bigger the value of $s$, the better the accuracy of the algorithm"
   ]
  },
  {
   "cell_type": "markdown",
   "id": "34c4cd6d-e245-4458-b5cc-6a08a5df48e2",
   "metadata": {},
   "source": [
    "## Code for the Romberg Integration\n",
    "\n",
    "Check out this function below:"
   ]
  },
  {
   "cell_type": "code",
   "execution_count": 2,
   "id": "879ee936-f7a5-45ae-97b5-e02bc235f5b3",
   "metadata": {},
   "outputs": [
    {
     "name": "stdout",
     "output_type": "stream",
     "text": [
      "\n"
     ]
    },
    {
     "data": {
      "image/png": "[encoded data removed]",
      "text/plain": [
       "<IPython.core.display.Image object>"
      ]
     },
     "metadata": {},
     "output_type": "display_data"
    }
   ],
   "source": [
    "f = @(x) sqrt(x .^ 0.1 + 1);\n",
    "\n",
    "a = 0;\n",
    "b = 1;\n",
    "x = linspace(a, b, 10000);\n",
    "\n",
    "figure\n",
    "plot(x, f(x))"
   ]
  },
  {
   "cell_type": "markdown",
   "id": "e1d22e5b-741c-42ba-925e-082ea4cda8a9",
   "metadata": {},
   "source": [
    "This function is very hard to integrate, so we will use Romberg to integrate this function. Let's start by writing the code for the trapezoidal function:"
   ]
  },
  {
   "cell_type": "code",
   "execution_count": 3,
   "id": "5be54b75-db69-401a-9cf3-06da8ee622bb",
   "metadata": {},
   "outputs": [
    {
     "name": "stdout",
     "output_type": "stream",
     "text": [
      "Created file 'C:\\Users\\bushn\\Home\\Notes\\STEM-Notes\\MATH350 Numerical Methods\\Chapter 15 - Numerical Integration\\trapRule.m'.\n"
     ]
    }
   ],
   "source": [
    "%%file trapRule.m\n",
    "\n",
    "function Itrap = trapRule(f, a, b, r)\n",
    "    h = (b-a)/r;\n",
    "    \n",
    "    Itrap = f(a); % Initialize our sum\n",
    "    \n",
    "    for i=1:r-1\n",
    "        Itrap = Itrap + 2*f(a+i*h); \n",
    "    end\n",
    "    \n",
    "    Itrap = Itrap + f(b); \n",
    "    Itrap = (h/2)*Itrap; \n",
    "end"
   ]
  },
  {
   "cell_type": "markdown",
   "id": "5ebda28c-68f8-4396-bb0d-c4567abd5c58",
   "metadata": {},
   "source": [
    "Next we will write some code to get the initial values calling our Trapezoidal rule:"
   ]
  },
  {
   "cell_type": "code",
   "execution_count": 8,
   "id": "05ef29c2-1a90-4abc-86fd-2a955e6b9271",
   "metadata": {},
   "outputs": [
    {
     "name": "stdout",
     "output_type": "stream",
     "text": [
      "\n",
      "R =\n",
      "\n",
      "    1.2071         0         0         0\n",
      "    1.2987         0         0         0\n",
      "    1.3423         0         0         0\n",
      "    1.3630         0         0         0\n",
      "\n",
      "\n"
     ]
    }
   ],
   "source": [
    "s = 4;\n",
    "R = zeros(s);\n",
    "r = 1;\n",
    "\n",
    "for j = 1:s\n",
    "    R(j,1) = trapRule(f, a, b, r*2^(j-1));\n",
    "end\n",
    "\n",
    "R"
   ]
  },
  {
   "cell_type": "markdown",
   "id": "2079377e-7b06-4cd2-9125-42dec6ca08d9",
   "metadata": {},
   "source": [
    "Now we will finish our code by computing the rest of the Romberg terms in a double for-loop:"
   ]
  },
  {
   "cell_type": "code",
   "execution_count": 10,
   "id": "1d9c6298-9abb-4ac0-985c-bde5ce2fccd7",
   "metadata": {},
   "outputs": [
    {
     "name": "stdout",
     "output_type": "stream",
     "text": [
      "\n",
      "R =\n",
      "\n",
      "    1.2071         0         0         0\n",
      "    1.2987    1.3293         0         0\n",
      "    1.3423    1.3569    1.3587         0\n",
      "    1.3630    1.3698    1.3707    1.3709\n",
      "\n",
      "\n"
     ]
    }
   ],
   "source": [
    "for k = 2:s\n",
    "    for j = k:s\n",
    "        R(j,k) = R(j, k-1) + (R(j, k-1) - R(j-1, k-1)) / (4^(k-1) - 1);\n",
    "    end\n",
    "end\n",
    "\n",
    "R"
   ]
  },
  {
   "cell_type": "markdown",
   "id": "d4adc907-3756-4b22-8664-8b5450f3f4a0",
   "metadata": {},
   "source": [
    "We can write code to check the true value and the errors with the following code:"
   ]
  },
  {
   "cell_type": "code",
   "execution_count": 11,
   "id": "e2126214-586a-4d89-998c-d165085ad53c",
   "metadata": {},
   "outputs": [
    {
     "name": "stdout",
     "output_type": "stream",
     "text": [
      "\n",
      "Itrue =\n",
      "\n",
      "    1.3814\n",
      "\n",
      "\n",
      "E =\n",
      "\n",
      "    0.1743         0         0         0\n",
      "    0.0826    0.0521         0         0\n",
      "    0.0390    0.0245    0.0227         0\n",
      "    0.0184    0.0115    0.0107    0.0105\n",
      "\n",
      "\n"
     ]
    }
   ],
   "source": [
    "Itrue = (8 * (32768 + 95259 * sqrt(2)))/969969\n",
    "E = tril(abs(R-Itrue))"
   ]
  }
 ],
 "metadata": {
  "kernelspec": {
   "display_name": "Matlab",
   "language": "matlab",
   "name": "matlab"
  },
  "language_info": {
   "codemirror_mode": "octave",
   "file_extension": ".m",
   "help_links": [
    {
     "text": "MetaKernel Magics",
     "url": "https://metakernel.readthedocs.io/en/latest/source/README.html"
    }
   ],
   "mimetype": "text/x-octave",
   "name": "matlab",
   "version": "0.16.11"
  }
 },
 "nbformat": 4,
 "nbformat_minor": 5
}
