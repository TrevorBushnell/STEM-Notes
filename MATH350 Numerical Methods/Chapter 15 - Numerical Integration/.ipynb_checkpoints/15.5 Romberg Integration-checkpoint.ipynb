{
 "cells": [
  {
   "cell_type": "markdown",
   "id": "b044a759-c86b-4971-890f-7f33b364a566",
   "metadata": {},
   "source": [
    "# 15.5: Romberg Integration"
   ]
  },
  {
   "cell_type": "markdown",
   "id": "ae9a749c-562d-4826-a2e7-f1be4893a268",
   "metadata": {},
   "source": [
    "Recall the Composite Trapezoidal Rule:\n",
    "\n",
    "$$\n",
    "I_{trap} = \\frac{h}{2} [f(a) + 2\\sum_{k=1}^{r-1}f(a+kh)+f(b)]\n",
    "$$\n",
    "\n",
    "this is $\\mathcal{O}(h^2)$ which means this is the worst error.\n",
    "\n",
    "However, suppose we set $h_1 = b-a$ and $h_2 = \\frac{h_1}{2} = \\frac{b-a}{2}$. This yields 2 approximations:\n",
    "\n",
    "$$\n",
    "\\begin{aligned}\n",
    "    R_{1,1} &= \\frac{h_1}{2}(f(a)+f(b))\\\\\n",
    "    R_{2,1} &= \\frac{h_2}{2}(f(a)+2f(a+h_2)+f(b))\n",
    "\\end{aligned}\n",
    "$$\n",
    "\n",
    "The corresponding errors are as follows:\n",
    "\n",
    "$$\n",
    "\\begin{aligned}\n",
    "    E_{1,1} &= I_f -  R_{1,1} = K_1h_1^2 + H_2h_1^4 + K_3h_1^6 + \\cdots\\\\\n",
    "    E_{2,1} &= I_f - R_{1,1} = K_1(\\frac{h_1}{2})^2 + K_2(\\frac{h_1}{2})+K_3(\\frac{h_1}{2})^6 + \\cdots\n",
    "\\end{aligned}\n",
    "$$\n",
    "\n",
    "Where $I_f$ is the true value of the integral. However, we notice that:\n",
    "\n",
    "$$\n",
    "E_{1,1} - 4E_{2,1} = K_1(h_1^2 - 4\\frac{h_1^2}{4}) + K_2(h_1^4 - 4\\frac{h_1^4}{16}) + K_3(h_1^6 - 4\\frac{h_1^6}{64}) + \\cdots\n",
    "$$\n",
    "\n",
    "However, the first terms cancel, which means that the error is actually $\\mathcal{O}(h^4)$. Also...\n",
    "\n",
    "$$\n",
    "E_{1,1} - 4E_{2,1} = (I_f - R_{1,1}) - 4(I_f - R_{2,1}) = (4R_{2,1} - R_{1,1}) - 3I_f\n",
    "$$\n",
    "\n",
    "If we solve for $I_f$, then we get that:\n",
    "\n",
    "$$\n",
    "I_f = \\frac{4R_{2,1}-R_{1,1}}{3} - \\frac{E_{1,1} - 4E_{2,1}}{3}\n",
    "$$\n",
    "\n",
    "This means that without doing any additional function evalutations, we can have a way to compute integrals that is more accurate. \n",
    "\n",
    "$$\n",
    "R_{2,2} = \\frac{4R_{2,1}-R_{1,1}}{3} = R_{2,1} + \\frac{R_{2,1}-R_{1,1}}{3}\n",
    "$$"
   ]
  }
 ],
 "metadata": {
  "kernelspec": {
   "display_name": "Matlab",
   "language": "matlab",
   "name": "matlab"
  },
  "language_info": {
   "codemirror_mode": "octave",
   "file_extension": ".m",
   "help_links": [
    {
     "text": "MetaKernel Magics",
     "url": "https://metakernel.readthedocs.io/en/latest/source/README.html"
    }
   ],
   "mimetype": "text/x-octave",
   "name": "matlab",
   "version": "0.16.11"
  }
 },
 "nbformat": 4,
 "nbformat_minor": 5
}
