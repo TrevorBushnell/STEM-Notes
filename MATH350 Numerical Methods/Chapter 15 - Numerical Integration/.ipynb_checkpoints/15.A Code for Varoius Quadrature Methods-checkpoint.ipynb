{
 "cells": [
  {
   "cell_type": "markdown",
   "id": "8a40ea42-5ace-40a2-ad6a-a326f443cf98",
   "metadata": {},
   "source": [
    "# 15.3: Code for Various Quadrature Formulas\n",
    "\n",
    "This notebook will contain code for all of the different quadrature rules/formulas that we have come up with.\n",
    "\n",
    "Let's start with saving a function that we can easily integrate by hand, say $e^x$!"
   ]
  },
  {
   "cell_type": "code",
   "execution_count": 1,
   "id": "86fca200-f63a-433d-8387-15d490fd7f45",
   "metadata": {},
   "outputs": [
    {
     "name": "stdout",
     "output_type": "stream",
     "text": [
      "\n"
     ]
    }
   ],
   "source": [
    "f = @(x) exp(x);"
   ]
  },
  {
   "cell_type": "markdown",
   "id": "1b7e767a-b34b-4476-801d-664b7ca2f91d",
   "metadata": {},
   "source": [
    "We should also integrate over a small interval, so let's integrate over the interval $[0,1]$, which means that $a=0$ and $b=1$. Let's also compute this for 10 sub-intervals ($r=10$). \n",
    "\n",
    "Since we know all of these things, we can compute our $h$ value using $h = \\frac{b-a}{r}$:"
   ]
  },
  {
   "cell_type": "code",
   "execution_count": 3,
   "id": "3dd70357-63cc-47f9-9f4d-7763bf88cc59",
   "metadata": {},
   "outputs": [
    {
     "name": "stdout",
     "output_type": "stream",
     "text": [
      "\n",
      "a =\n",
      "\n",
      "     0\n",
      "\n",
      "\n",
      "b =\n",
      "\n",
      "     1\n",
      "\n",
      "\n",
      "r =\n",
      "\n",
      "    10\n",
      "\n",
      "\n",
      "h =\n",
      "\n",
      "    0.1000\n",
      "\n",
      "\n"
     ]
    }
   ],
   "source": [
    "a = 0\n",
    "b = 1\n",
    "r = 10\n",
    "h = (b-a)/r"
   ]
  },
  {
   "cell_type": "markdown",
   "id": "f7f33b05-d5a5-4f72-ba4e-bbddeeaeda4c",
   "metadata": {},
   "source": [
    "## Code for the Midpoint Rule\n",
    "\n",
    "The following code will use the midpoint rule to integrate $e^x$:"
   ]
  },
  {
   "cell_type": "code",
   "execution_count": 4,
   "id": "eca25602-bd4d-41f4-8c28-da32b48b7d9e",
   "metadata": {},
   "outputs": [
    {
     "name": "stdout",
     "output_type": "stream",
     "text": [
      "\n",
      "Imid =\n",
      "\n",
      "    1.7176\n",
      "\n",
      "\n"
     ]
    }
   ],
   "source": [
    "Imid = 0; % Initialize our sum\n",
    "\n",
    "for i = 1:r\n",
    "    Imid = Imid + f(a + (i-0.5)*h);\n",
    "end\n",
    "\n",
    "Imid = h*Imid"
   ]
  },
  {
   "cell_type": "markdown",
   "id": "bb294b5e-0dff-4c4d-8dc8-edefd3ed2cec",
   "metadata": {},
   "source": [
    "Let's integrate this by hand over our interval:\n",
    "\n",
    "$$\n",
    "\\int_0^1 e^x \\: dx = e^x |_0^1 = e^1 - e^0 = e - 1\n",
    "$$\n",
    "\n",
    "Now that we know the exact value, let's compute some error:"
   ]
  },
  {
   "cell_type": "code",
   "execution_count": 5,
   "id": "830814c6-ea44-451c-967c-eb9b8c4c727a",
   "metadata": {},
   "outputs": [
    {
     "name": "stdout",
     "output_type": "stream",
     "text": [
      "\n",
      "abserr =\n",
      "\n",
      "   7.1574e-04\n",
      "\n",
      "\n"
     ]
    }
   ],
   "source": [
    "Itrue = exp(1) - 1;\n",
    "abserr = abs(Itrue - Imid)"
   ]
  },
  {
   "cell_type": "markdown",
   "id": "18c6e226-51d2-4f66-935c-349337baeb08",
   "metadata": {},
   "source": [
    "## Code for the Trapezoidal Rule\n",
    "\n",
    "The following code will use the trapezoizal rule to compute the integral of $e^x$ over the interval $[0,1]$:"
   ]
  },
  {
   "cell_type": "code",
   "execution_count": 10,
   "id": "d342ea9e-dbf8-41fa-8900-57ed85ba744f",
   "metadata": {},
   "outputs": [
    {
     "name": "stdout",
     "output_type": "stream",
     "text": [
      "\n",
      "Itrap =\n",
      "\n",
      "    1.7197\n",
      "\n",
      "\n"
     ]
    }
   ],
   "source": [
    "Itrap = 0; % Initialize our sum\n",
    "\n",
    "for i = 1:r-1\n",
    "    Itrap = Itrap + f(a+i*h);\n",
    "end\n",
    "\n",
    "Itrap = Itrap * 2;\n",
    "Itrap = Itrap + f(a) + f(b);\n",
    "Itrap = Itrap * h * 0.5"
   ]
  },
  {
   "cell_type": "markdown",
   "id": "b11a0365-f0b7-4440-ae84-1388b5040daa",
   "metadata": {},
   "source": [
    "And if we do some error analysis similar to before, then we get the following:"
   ]
  },
  {
   "cell_type": "code",
   "execution_count": 11,
   "id": "5d0cce70-05a4-46b8-aa8d-b6a8c772d24e",
   "metadata": {},
   "outputs": [
    {
     "name": "stdout",
     "output_type": "stream",
     "text": [
      "\n",
      "abserr =\n",
      "\n",
      "    0.0014\n",
      "\n",
      "\n"
     ]
    }
   ],
   "source": [
    "abserr = abs(Itrue - Itrap)"
   ]
  },
  {
   "cell_type": "markdown",
   "id": "3487af3b-5882-413f-8911-9655eb66707c",
   "metadata": {},
   "source": [
    "This means that the trapezoidal rule is slightly less accurate, but this is to be expected because you can recall that:\n",
    "\n",
    "* For the Trapezoidal Rule error:\n",
    "* For the "
   ]
  },
  {
   "cell_type": "markdown",
   "id": "49b21b7c-e150-4176-82b8-af977cff738e",
   "metadata": {},
   "source": [
    "## Simpson's Rule\n",
    "\n",
    "This code is a lot more complicated because the formula is just slightly more complicated. Nevertheless, the code for this is attached below:"
   ]
  },
  {
   "cell_type": "code",
   "execution_count": 15,
   "id": "1ee4f948-e3cf-44dd-9d22-ca706dcd3795",
   "metadata": {},
   "outputs": [
    {
     "name": "stdout",
     "output_type": "stream",
     "text": [
      "\n",
      "Isimp =\n",
      "\n",
      "    1.9172\n",
      "\n",
      "\n"
     ]
    }
   ],
   "source": [
    "t = linspace(a+h, b, r);\n",
    "\n",
    "Isimp = 0; % Initialize sum\n",
    "\n",
    "for k = 1:r/2 - 1\n",
    "    Isimp = Isimp + 2 * f(t(2*k));\n",
    "end\n",
    "\n",
    "for i = 1:r/2\n",
    "    Isimp = Isimp + 4 * f(t(2*k - 1));\n",
    "end\n",
    "\n",
    "Isimp = Isimp + f(a) + f(b);\n",
    "Isimp = Isimp * (h/3)"
   ]
  },
  {
   "cell_type": "markdown",
   "id": "4942b737-46e7-4d0a-9fe4-9c2388525698",
   "metadata": {},
   "source": [
    "## An Intuitive Understanding of the Quadrature Errors\n",
    "\n",
    "First off we need to understand some notation for this: $||g||_\\infty$ essentially means the largest value that a function $g(x)$ obtains on an interval $[a,b]$. Now we can talk about the Quadrature Errors:\n",
    "\n",
    "> Let $f$ be \"sufficiently smooth\" on $[a,b]$, and consider a composite quadrature method using abscissae\n",
    "> \n",
    "> $a_0 = t_0 < t_1 < t_2 < \\cdots < t_h$ for $f$\n",
    "> then the error bounds are:\n",
    "> * TRAPEZOIDAL: $|E(f)| \\le \\frac{||f''||_\\infty}{12}(b-a)h^2$\n",
    "> * MIDPOINT: $|E(f)| \\le \\frac{||f''||_\\infty}{24}(b-a)h^2$\n",
    "> * SIMPSON'S: $|E(f)| \\le \\frac{||f^{(4)}||_\\infty}{180}(b-a)h^4$\n",
    "\n",
    "In general, for a composite method of order $q$, we will have:\n",
    "\n",
    "$$\n",
    "    |E(f)| \\le c ||f^{(q)}||_\\infty h^q\n",
    "$$"
   ]
  }
 ],
 "metadata": {
  "kernelspec": {
   "display_name": "Matlab",
   "language": "matlab",
   "name": "matlab"
  },
  "language_info": {
   "codemirror_mode": "octave",
   "file_extension": ".m",
   "help_links": [
    {
     "text": "MetaKernel Magics",
     "url": "https://metakernel.readthedocs.io/en/latest/source/README.html"
    }
   ],
   "mimetype": "text/x-octave",
   "name": "matlab",
   "version": "0.16.11"
  }
 },
 "nbformat": 4,
 "nbformat_minor": 5
}
