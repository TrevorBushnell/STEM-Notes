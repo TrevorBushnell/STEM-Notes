{
 "cells": [
  {
   "cell_type": "markdown",
   "id": "31bde3c1-f1b2-4379-83fe-17413a8020f5",
   "metadata": {},
   "source": [
    "# 15.1: Basic Quadrature (Numerical Integration) Algorithms"
   ]
  },
  {
   "cell_type": "markdown",
   "id": "54bdd202-0afb-4020-9656-b682315cd644",
   "metadata": {},
   "source": [
    "Given an interval $[a,b]$ and an integrable function $f(x)$, we seek to approximate $I_f = \\int_a^b f(x)\\:dx \\approx a_jf(x_j)$. $a_j$ are the weights and $f(x_j)$ are the abscissae/nodes/sample points.\n",
    "\n",
    "Recall that to approximate $I_f$, we may partition $[a,b]$ into $n+1$ (equal width) sub-intervals of width $h = \\frac{b-a}{n+1}$. Choose $x_j$ the midpoint of the $j^{th}$ sub-interval, $j = 0, \\cdots , n$, and $I_f \\approx \\sum_{j=0}^n \\left(\\frac{b-a}{n+1}\\right)f(x_j)$ **(midpoint rule)**."
   ]
  },
  {
   "cell_type": "markdown",
   "id": "53f9bc70-9dd4-4e6f-ac82-75a0cb0ca741",
   "metadata": {},
   "source": [
    "## General Quadrature Algorithm\n",
    "\n",
    "IN GENERAL: Basic gradrature rules are based on low-degree polynomial interpolation. \n",
    "\n",
    "1. Choose a set of abscissae/nodes $x_0,x_1,x_2, \\cdots, x_n \\in [a,b]$ which then gives you a dataset $\\{(x_j, f(x_j))\\}_{j=0}^n$\n",
    "1. Find a polynomial interpolant $p_n(x)$ of degree $n$ that interpolates the data points\n",
    "1. Compute $\\int_a^b p_n(x)\\:dx \\approx \\int_a^b f(x)\\:dx$\n",
    "\n",
    "> **REVIEW: Lagrange Integration:**\n",
    ">\n",
    "> $p_n(X) = \\sum_{j=0}^n f(x_j)L_j(x)$ where $L_j(x_i) = 0$ if $ i \\ne j$ or $L_j(x_i) = 1$ if $ i = j$. Then, \n",
    ">\n",
    "> $$\n",
    "> \\begin{aligned}\n",
    ">    \\int_a^b f(x)\\:dx &\\approx \\int_a^b p_n(x)\\:dx\\\\\n",
    ">    &= \\int_a^b \\sum_{j=0}^n f(x_j)L_j(x)\\:dx\\\\\n",
    ">    &= \\sum_{j=0}^n f(x_j) \\int_a^b L_j(x)\\:dx\n",
    "> \\end{aligned}\n",
    "> $$\n",
    "> Note that $\\int_a^b L_j(x)\\:dx$ are just the weights $a_j$ and they are not dependent on $f$, so you can pre-compute these"
   ]
  },
  {
   "cell_type": "markdown",
   "id": "e7d9c118-e458-499b-b481-4aa8ffbb40a5",
   "metadata": {},
   "source": [
    "### Example: $n=1$\n",
    "\n",
    "Set $n=1$ (2 abscissae, $x_0=a$ and $x_1=b$. \n",
    "\n",
    "$p_n(x)$ is the straight line connecting $(a,f(a)) \\:\\&\\: (b, f(b))$. This means that $L_0(x)=\\frac{x-b}{a-b}$ and $L_1(x) = \\frac{x-a}{b-a}$. Here's a table of important information:\n",
    "\n",
    "|Endpoints|$L_0(x)$|$L_1(x)$|\n",
    "|-|-|-|\n",
    "|$a$|$L_0(a)=\\frac{a-b}{a-b}=1$|$L_1(a)=\\frac{a-a}{b-a}=0$|\n",
    "|$b$|$L_0(b)=\\frac{b-b}{a-b}=0$|$L_1(b)=\\frac{b-a}{b-a}=1$|\n",
    "\n",
    "This means that we have the following:\n",
    "* $a_0 = \\int_a^b L_0(x)\\:dx = \\int_a^b \\frac{x-b}{a-b}\\:dx=\\cdots=\\frac{b-a}{2}$\n",
    "* $a_1 = \\int_a^b L_1(x)\\:dx = \\int_a^b \\frac{x-a}{b-a}\\:dx\\cdots=\\frac{b-a}{2}$\n",
    "\n",
    "So:\n",
    "\n",
    "$$\n",
    "I_f \\approx I_\\text{trap} = a_0f(a) + a_1f(b) = \\frac{b-a}{2}(f(a)+f(b))\n",
    "$$"
   ]
  },
  {
   "cell_type": "markdown",
   "id": "df481249-aadc-4227-8e29-4d94dfa3f08a",
   "metadata": {},
   "source": [
    "### Example: $n=2$\n",
    "\n",
    "Set $n=2$ (3 abscissae, $x_0=a$, $x_1=\\frac{b+a}{2}$, $x_2=b$.\n",
    "\n",
    "Our Lagrange polynomials are the following:\n",
    "\n",
    "* $L_0(x) = c_0(x-x_1)(x-x_2)$\n",
    "* Set this equation equal to 1 and solve for $c_0$\n",
    "* $a_0 = \\int_a^b L_0(x) \\:dx = \\frac{b-a}{6}$\n",
    "* $a_1 = \\frac{4(b-a)}{6}$\n",
    "* $a_2 = \\frac{b-a}{6}$\n",
    "\n",
    "After all this, we get the following:\n",
    "\n",
    "$$\n",
    "I_f \\approx \\frac{b-a}{6}\\left[f(a) + 4f\\left(\\frac{b+a}{2}\\right)+f(b)\\right]\n",
    "$$\n",
    "\n",
    "The above is called **Simpson's Rule**. Also everything derived so far are called **Netwon-Cotes formulas** (equidistant bascissaes)."
   ]
  },
  {
   "cell_type": "markdown",
   "id": "daa340bf",
   "metadata": {},
   "source": [
    "## Truncation Error\n",
    "\n",
    "Given a Quadrature Rule $I_f \\approx \\sum_{j=0}^n a_jf(x_j) on $[a,b]$ which approximates $I_f = \\int_a^b f(x)\\:dx$, then we can denote the truncation error by the following equation:\n",
    "\n",
    "$$\n",
    "E(f) = \\int_a^b f(x)\\:dx - \\sum_{j=0}^n a_jf(x_j) \\:\\:\\: \\implies \\text{signed absolute error}\n",
    "$$\n",
    "\n",
    "### Midpoint Rule\n",
    "\n",
    "$$\n",
    "\\begin{aligned}\n",
    "    I_{mid} &= (b-a) f\\left(\\frac{a+b}{2}\\right)\\\\\n",
    "    E(f) &= \\frac{f''(\\xi)}{24}(b-a)^3\\:\\:\\: \\xi \\in [a,b]\n",
    "\\end{aligned}\n",
    "$$\n",
    "\n",
    "\n",
    "### Trapezoidal Rule\n",
    "\n",
    "\n",
    "$$\n",
    "\\begin{aligned}\n",
    "    I_{trap} &= \\frac{b-a}{2}\\left[f(a)+f(b)\\right]\\\\\n",
    "    E(f) &= \\frac{-f''(\\xi)}{12}(b-a)^3\\:\\:\\: \\xi \\in [a,b]\n",
    "\\end{aligned}\n",
    "$$\n",
    "\n",
    "\n",
    "### Simpson's Rule\n",
    "\n",
    "$$\n",
    "\\begin{aligned}\n",
    "    I_{simp} &= \\frac{b-a}{2}\\left[f(a) + 4f\\left(\\frac{b+a}{2}+f(b)\\right)\\right]\\\\\n",
    "    E(f) &= \\frac{-f(\\xi)}{90}\\left(\\frac{b-a}{2}\\right)^5\\:\\:\\:\\xi \\in [a,b]\n",
    "\\end{aligned}\n",
    "$$\n",
    "\n",
    "**NOTE:** If $b-a$ is small, then Simpson's Rule has much smaller error that midpoint or trapezoidal."
   ]
  }
 ],
 "metadata": {
  "kernelspec": {
   "display_name": "Matlab",
   "language": "matlab",
   "name": "matlab"
  },
  "language_info": {
   "codemirror_mode": "octave",
   "file_extension": ".m",
   "help_links": [
    {
     "text": "MetaKernel Magics",
     "url": "https://metakernel.readthedocs.io/en/latest/source/README.html"
    }
   ],
   "mimetype": "text/x-octave",
   "name": "matlab",
   "version": "0.16.11"
  }
 },
 "nbformat": 4,
 "nbformat_minor": 5
}
