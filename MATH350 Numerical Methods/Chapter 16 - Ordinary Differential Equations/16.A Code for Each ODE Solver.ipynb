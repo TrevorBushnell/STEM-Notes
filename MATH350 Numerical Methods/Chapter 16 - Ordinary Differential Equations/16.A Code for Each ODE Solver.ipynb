{
 "cells": [
  {
   "cell_type": "markdown",
   "id": "b9309b84-7277-4084-86f7-8dc538bf920c",
   "metadata": {},
   "source": [
    "# 16.A: Code for ODE Solvers"
   ]
  },
  {
   "cell_type": "markdown",
   "id": "dda52717-59e8-4be8-be30-9e601b02dd85",
   "metadata": {},
   "source": [
    "## Euler's Method\n",
    "\n",
    "* $y_0 = c$\n",
    "* for $i = 0, ..., N-1$\n",
    "    * $y_{i+1} = y_i + hf(t_i, y_i)$ for $i=-, ..., N-1$\n",
    "* end the for loop"
   ]
  },
  {
   "cell_type": "code",
   "execution_count": 6,
   "id": "f8c98bdd-0719-431c-8fa2-89b9e503aac0",
   "metadata": {},
   "outputs": [
    {
     "name": "stdout",
     "output_type": "stream",
     "text": [
      "Created file 'C:\\Users\\bushn\\Home\\Notes\\STEM-Notes\\MATH350 Numerical Methods\\Chapter 16 - Ordinary Differential Equations\\euler.m'.\n"
     ]
    }
   ],
   "source": [
    "%%file euler.m\n",
    "\n",
    "% Code for Euler's method for solving ODE of the form y'=f(t,y)\n",
    "% INPUTS:\n",
    "% f = function handle, f(t,y)\n",
    "% [a,b] = vector givin the time interval\n",
    "% c = initial condition so that y(a) = c\n",
    "% N = number of steps\n",
    "\n",
    "function [t,y] = euler(f, T, c, N)\n",
    "    a = T(1);\n",
    "    b = T(2);\n",
    "    h = (b-a)/N; % Step size\n",
    "    t = a:h:b; % Vector of time steps\n",
    "    y = zeros(size(t)); % Solution vector\n",
    "    y(1) = c;\n",
    "    \n",
    "    for i = 1: N\n",
    "        y(i+1) = y(i) + h * f(t(i), y(i));\n",
    "    end\n",
    "end"
   ]
  },
  {
   "cell_type": "markdown",
   "id": "3a8f5b92-6263-495a-bd39-aa6fde169444",
   "metadata": {},
   "source": [
    "If we use $y' = -y$, then we can solve this ODE by hand:\n",
    "\n",
    "$$\n",
    "\\begin{aligned}\n",
    "    y' &= -y\\\\\n",
    "    \\frac{dy}{dt} &= -y\\\\\n",
    "    \\int \\frac{1}{y}\\:dy &= \\int-\\:dt\\\\\n",
    "    \\ln(y) &= -t + C\\\\\n",
    "    y &= ke^{-t}\\\\\n",
    "    y(0) &= k = 1\\\\\n",
    "    y(t) &= e^{-t}\n",
    "\\end{aligned}\n",
    "$$\n",
    "\n",
    "Now we can use our code to see how close we get:"
   ]
  },
  {
   "cell_type": "code",
   "execution_count": 9,
   "id": "6ceaf6e1-dba6-40d3-9987-31acf5b973d6",
   "metadata": {},
   "outputs": [
    {
     "name": "stdout",
     "output_type": "stream",
     "text": [
      "\n"
     ]
    },
    {
     "data": {
      "image/png": "[encoded data removed]",
      "text/plain": [
       "<IPython.core.display.Image object>"
      ]
     },
     "metadata": {},
     "output_type": "display_data"
    }
   ],
   "source": [
    "f = @(t,y) -y;\n",
    "\n",
    "a = 0; b = 1;\n",
    "T = [a,b];\n",
    "c = 1; % y(a) = c\n",
    "N = 100;\n",
    "ytrue = @(t) exp(-t);\n",
    "\n",
    "[t1,y1] = euler(f, T, c, N);\n",
    "\n",
    "plot(t1,y1, t1, ytrue(t));\n",
    "legend('approximate solution', 'true solution');"
   ]
  },
  {
   "cell_type": "markdown",
   "id": "94f6d082-229b-45e3-8823-711ae7533c68",
   "metadata": {},
   "source": [
    "## Runge-Kutta 2-Stage\n",
    "\n",
    "* $y_0 = c$\n",
    "* for $i = 0, ..., N-1$\n",
    "    * $k_1 = hf(t_i, y_i)$\n",
    "    * $k_2 = hf(t_{i+1}, y_i+k_1)$\n",
    "    * $y_{i+1} = y_i + \\frac{k_1+k_2}{2}$"
   ]
  },
  {
   "cell_type": "code",
   "execution_count": 11,
   "id": "355d81a9-e2f3-46ce-ac19-c0d17ff6e204",
   "metadata": {},
   "outputs": [
    {
     "name": "stdout",
     "output_type": "stream",
     "text": [
      "Created file 'C:\\Users\\bushn\\Home\\Notes\\STEM-Notes\\MATH350 Numerical Methods\\Chapter 16 - Ordinary Differential Equations\\rungeKutta2.m'.\n"
     ]
    }
   ],
   "source": [
    "%%file rungeKutta2.m\n",
    "\n",
    "function [t,y] = rungeKutta2(f, T, c, N)\n",
    "    a = T(1);\n",
    "    b = T(2);\n",
    "    h = (b-a)/N; % Step size\n",
    "    t = a:h:b; % Vector of time steps\n",
    "    y = zeros(size(t)); % Solution vector\n",
    "    y(1) = c;\n",
    "    \n",
    "    for i = 1: N\n",
    "        k1 = h * f(t(i), y(i));\n",
    "        k2 = h * f(t(i+1), y(i) + k1);\n",
    "        y(i+1) = y(i) + (k1+k2)/2;\n",
    "    end\n",
    "end"
   ]
  },
  {
   "cell_type": "code",
   "execution_count": null,
   "id": "676db48e-b178-49ac-b8cb-025d2dfafc4e",
   "metadata": {},
   "outputs": [],
   "source": [
    "function [t,y] = rungeKutta4(f, T, c, N)\n",
    "    a = T(1);\n",
    "    b = T(2);\n",
    "    h = (b-a)/N; % Step size\n",
    "    t = a:h:b; % Vector of time steps\n",
    "    y = zeros(size(t)); % Solution vector\n",
    "    y(1) = c;\n",
    "    \n",
    "    for i = 1: N\n",
    "        k1 = h * f(t(i), y(i));\n",
    "        k2 = h * f(t(i) + h/2, y(i) + k1/2);\n",
    "        k3 = h * f(t(i+1))\n",
    "        y(i+1) = y(i) + (k1+k2)/2;\n",
    "    end\n",
    "end"
   ]
  },
  {
   "cell_type": "markdown",
   "id": "944447de-629b-422c-93d6-218623a6a126",
   "metadata": {},
   "source": [
    "## General $p^{th}$ order RK method\n",
    "\n",
    "* $y_0 = c$\n",
    "* for $i = 0,...,N-1$\n",
    "    * $k_1 = hf(t_i, y_i)$\n",
    "    * for $j = 2, 3, ..., p$\n",
    "        * $k_j = hf(t_i+hd_j, y_i + \\sum_{m=1}^{j-1}c_{j,m}k_m$\n",
    "    * $y_{i+1} = y_i + \\sum_{m=1}^p b_m k_m$\n",
    "\n",
    "* This has an error of $\\mathcal{O}(h^p)$ (both local and general)"
   ]
  }
 ],
 "metadata": {
  "kernelspec": {
   "display_name": "Matlab",
   "language": "matlab",
   "name": "matlab"
  },
  "language_info": {
   "codemirror_mode": "octave",
   "file_extension": ".m",
   "help_links": [
    {
     "text": "MetaKernel Magics",
     "url": "https://metakernel.readthedocs.io/en/latest/source/README.html"
    }
   ],
   "mimetype": "text/x-octave",
   "name": "matlab",
   "version": "0.16.11"
  }
 },
 "nbformat": 4,
 "nbformat_minor": 5
}
