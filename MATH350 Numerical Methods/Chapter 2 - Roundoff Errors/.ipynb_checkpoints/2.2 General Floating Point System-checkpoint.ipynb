{
 "cells": [
  {
   "cell_type": "markdown",
   "id": "74f80a67-3cd3-409f-ac2c-1375110e182a",
   "metadata": {},
   "source": [
    "# 2.2: General Floating Point System\n",
    "\n",
    "The general floating point system is characterized by $(\\beta, t, L, U)$. Then we have:\n",
    "\n",
    "$$\n",
    "    \\begin{aligned}\n",
    "        x \\approx f(x) &= \\pm \\left(\\frac{\\tilde{d_0}}{\\beta_0}+\\tilde{d_1}{\\beta_1}+\\tilde{d_2}{\\beta_2}+\\cdots+\\tilde{d_{t-1}}{\\beta_{t-1}}\\right) \\times \\beta^e, L \\le e \\le U\\\\\n",
    "        &= (\\tilde{d_0}.\\tilde{d_1}\\tilde{d_2}...)\\times \\beta^e\n",
    "    \\end{aligned}\n",
    "$$\n",
    "\n",
    "where $\\beta$ is our base that we are working in. "
   ]
  },
  {
   "cell_type": "markdown",
   "id": "e82f85ff-0179-47e6-b4ca-83ac991705bf",
   "metadata": {},
   "source": [
    "## How to Compute $f\\ell(x)$\n",
    "\n",
    "Given that $x = \\pm (d_0.d_1d_2d_3...) \\times \\beta^e$, there are two ways to get a floating point approximation:\n",
    "\n",
    "* **CHOPPING:** $f\\ell(x) = \\pm (d_0.d_1d_2d_3 ... d_{t-1}) \\times \\beta^e$\n",
    "* **ROUNDING:** This varies depending on if you are rounding up or down\n",
    "    * Rounding up: $f\\ell(x) = \\pm (d_0.d_1d_2d_3 ... d_{t-1}) \\times \\beta^e$ if $d_t < \\frac{\\beta}{2}$\n",
    "    * Rounding down: $f\\ell(x) = \\pm (d_0.d_1d_2d_3 ... d_{t-1} + \\beta^{1-t}) \\times \\beta^e$ if $d_t > \\frac{\\beta}{2}$\n",
    "    * If $d_t = \\frac{\\beta}{2}$, then round last digit to the nearest even number"
   ]
  },
  {
   "cell_type": "markdown",
   "id": "bcaceedd-9fe4-47de-9bbd-0d366074c49b",
   "metadata": {},
   "source": [
    "> **EXAMPLE 2.1: Suppose $\\beta = 10, t = 4$. Convert this to a floating point approximation.\n",
    "\n",
    "$$\n",
    "    \\begin{aligned}\n",
    "        x &= \\frac{8}{3} = 2.6666666 ...\\\\\n",
    "        &= +\\left(\\frac{2}{10^0}+\\frac{6}{10^0}+\\frac{6}{10^0}+\\frac{6}{10^0}+ ...\\right) \\times 10^0\n",
    "    \\end{aligned}\n",
    "$$\n",
    "\n",
    "With chopping we get:\n",
    "\n",
    "$$\n",
    "    \\begin{aligned}\n",
    "        f\\ell(x) = 2.666\n",
    "    \\end{aligned}\n",
    "$$\n",
    "\n",
    "With rounding we get:\n",
    "\n",
    "$$\n",
    "    f\\ell(x) = 2.666 + 10^{-3} = 2.666 + 0.001 = 2.667\n",
    "$$\n",
    "\n",
    "We notice that rounding generally turns out to be the more accurate way to get a floating point approximation. The expected errors for both chopping and rounding are:\n",
    "\n",
    "* **CHOPPING:** $\\frac{|f\\ell(x) - x|}{|x|} \\le \\beta^{1-t}$\n",
    "* **ROUNDING:** $\\frac{|f\\ell(x) - x|}{|x|} \\le \\frac{1}{2}\\beta^{1-t}$\n",
    "\n",
    "This means that rounding is twice as accurate as chopping, so the IEEE standard uses rounding rather than chopping. In general, the rounding unit for a floating point system using rounding is $\\eta = \\frac{1}{2} \\beta^{1-t}$. "
   ]
  }
 ],
 "metadata": {
  "kernelspec": {
   "display_name": "Matlab",
   "language": "matlab",
   "name": "matlab"
  },
  "language_info": {
   "codemirror_mode": "octave",
   "file_extension": ".m",
   "help_links": [
    {
     "text": "MetaKernel Magics",
     "url": "https://metakernel.readthedocs.io/en/latest/source/README.html"
    }
   ],
   "mimetype": "text/x-octave",
   "name": "matlab",
   "version": "0.16.11"
  }
 },
 "nbformat": 4,
 "nbformat_minor": 5
}
