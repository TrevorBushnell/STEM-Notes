{
 "cells": [
  {
   "cell_type": "markdown",
   "id": "fd8f2eaa-e42b-4ff7-8fbd-fbd2df18f8a9",
   "metadata": {},
   "source": [
    "# 3.1: Solving Nonlinear Equations (Root Finding)"
   ]
  },
  {
   "cell_type": "markdown",
   "id": "37187580-c571-4b75-bc96-cc70b907ec6b",
   "metadata": {},
   "source": [
    "## The Basic Premise\n",
    "\n",
    "Assume that $f$ is continuous on $[a,b]$ denoted by $f \\in C[a,b]$. (NOTE: $C[a,b]$ is the set of all functions on $[a,b]$). Then there are 3 possible cases:\n",
    "\n",
    "* There is exactly 1 root $x^* \\in [a,b]$\n",
    "* There are multiple roots $x_1^*, x_2^*, \\cdots, x_k^* \\in [a,b]$\n",
    "* There are no real roots "
   ]
  },
  {
   "cell_type": "markdown",
   "id": "1e2e3780-d61e-43fe-b975-1124cae42c8c",
   "metadata": {},
   "source": [
    "## Iterative Root Finding Methods\n",
    "\n",
    "The basic idea is that we are given an initial guess $x_0 \\in [a,b]$. Then we generate a sequence of iterates $x_1, x_2, x_3, \\cdots$ that hopefully converges to $x^*$. We stop iterating at some finite $n$. Use $x_n \\approx x^*$ as your final answer.\n",
    "\n",
    "It is important that you choose a good stopping criteria depending on the problem that you want to solve. Some examples are listed here:\n",
    "\n",
    "* Choose fixed $n$ in advance and simply do that many iterations\n",
    "    * crude and usually a very bad idea\n",
    "* Stop when $|x_n - x_{n-1}| < AT$ where $AT$ is the absolute tolerance that you choose in advance.\n",
    "    * This will work when you have really big numbers\n",
    "* Stop when $\\frac{|x_n - x_{n-1}|}{|x_n|} < RT$ where $RT$ is the relative tolerance that you choose in advance\n",
    "    * Textbook claims that this one is more robust if your numbers are small\n",
    "    * Can combine this with the previous bullet point\n",
    "        * i.e.: stop when BOTH are true\n",
    "* Check the residual: $|f(x_n) - f(x^*)| = |f(x_n)| < FT$ where $FT$ is some function tolerance that we define ahead of time"
   ]
  },
  {
   "cell_type": "markdown",
   "id": "ddc26ce9-ef5b-4f0f-b62f-438cb80a9bbf",
   "metadata": {},
   "source": [
    "## NUMERICAL METHOD: Bisection Method\n",
    "\n",
    "The Bisection Method is a consequence of IVT (Intermediate Value Theorem). \n",
    "\n",
    "If $f$ is continuous on $[a,b]$ **AND** $f(a) \\cdot f(b) < 0$ (this means that $f(a)$ and $f(b)$ have opposite signs), then there exists a point $x^* \\in (a,b)$ such that $f(x^*) = 0$.\n",
    "\n",
    "The idea is as follows (assume that there is exactly 1 root): \n",
    "* STEP 0: Let $x_0 = \\frac{b+a}{2}$. Check $f(x_0)$ and update $b_1 = x_0, a_1 = x_0$. \n",
    "* STEP 1: Let $x_1 = \\frac{b_1+a_1}{2}$. Check $f(x_0)$ and update $b_2 = b_1, a_2 = x_1$.\n",
    "* STEP 2: Let $x_0 = \\frac{b_2+a_2}{2}$. Check $f(x_0)$ and update $b_3 = b_2, a_3 = x_2$.\n",
    "\n",
    "The code for this algorithm can be seen below:"
   ]
  },
  {
   "cell_type": "code",
   "execution_count": 6,
   "id": "b69056f6-cd3c-445d-b8a9-c096e1dbb0db",
   "metadata": {},
   "outputs": [
    {
     "name": "stdout",
     "output_type": "stream",
     "text": [
      "Created file 'C:\\Users\\bushn\\Home\\Notes\\STEM-Notes\\MATH350 Numerical Methods\\Chapter 3 - Nonlinear Equations in 1-Variable\\bisectionMethod.m'.\n"
     ]
    }
   ],
   "source": [
    "%%file bisectionMethod.m\n",
    "\n",
    "% f = function handle\n",
    "% a = left endpoint of interval\n",
    "% b = right endpoint of interval\n",
    "% where f(a) * f(b) < 0\n",
    "% tol = error tolerance on residual\n",
    "\n",
    "% xn = nth iterate (final approximation)\n",
    "% n = number of iterations\n",
    "\n",
    "function [xn, n] = bisectionMethod(f,a,b,tol)\n",
    "\n",
    "    residual = Inf;                % Initializing residual\n",
    "    n = 0;                         % # of iterations\n",
    "    \n",
    "    while (residual > tol)\n",
    "    \n",
    "        xn = (a+b)/2;              % nth iterate is the midpoint of the interval\n",
    "        residual = abs(f(xn));\n",
    "        \n",
    "        if f(a) * f(xn) < 0\n",
    "            b = xn;\n",
    "        else\n",
    "            a = xn;\n",
    "        end\n",
    "        \n",
    "        n = n + 1;                  % Increment loop counter\n",
    "    \n",
    "    end\n",
    "\n",
    "end"
   ]
  },
  {
   "cell_type": "code",
   "execution_count": 8,
   "id": "02322a67-3d6a-4fb0-a423-fb5fada28a75",
   "metadata": {},
   "outputs": [
    {
     "name": "stdout",
     "output_type": "stream",
     "text": [
      "\n",
      "x_approx =\n",
      "\n",
      "   1.732050836086273\n",
      "\n",
      "\n",
      "n =\n",
      "\n",
      "    25\n",
      "\n",
      "\n",
      "xstar =\n",
      "\n",
      "   1.732050807568877\n",
      "\n",
      "\n",
      "err =\n",
      "\n",
      "     2.851739600018277e-08\n",
      "\n",
      "\n"
     ]
    }
   ],
   "source": [
    "f = @(x) x.^2 - 3;\n",
    "\n",
    "format long\n",
    "a = 0;\n",
    "b = 2;\n",
    "tol = 1e-7;\n",
    "\n",
    "[x_approx, n] = bisectionMethod(f,a,b,tol)\n",
    "\n",
    "\n",
    "xstar = sqrt(3) % true root\n",
    "err = abs(x_approx - xstar)"
   ]
  },
  {
   "cell_type": "markdown",
   "id": "7e10c9f0-ef6a-4bf3-910e-031a07ae469e",
   "metadata": {},
   "source": [
    "## Why This Algorithm is NOT Super Bueno\n",
    "\n",
    "* If you want a specific error tolerance, you can't really know that in advance\n",
    "* It's really easy to break this script depending on the function that you input\n",
    "\n",
    "While these are some issues with the algorithm, we can do some mathy mathz (aka error analysis) to help improve our bisection method algorithm."
   ]
  },
  {
   "cell_type": "markdown",
   "id": "1cb2bada-5c17-4442-8c8e-4768b5e3ff81",
   "metadata": {},
   "source": [
    "## Fixing the Bisection Method\n",
    "\n",
    "On the $n^{th}$ iteration, we know $x^* \\in [a_n, b_n]$. We also know that $x_n = \\frac{a_n+b_n}{2}$ SO $|x_n-x^*| \\le \\frac{1}{2}(b_n-a_n)$. **BL: The distance is halved.** However, on the second iteration we can write it as $\\frac{1}{2}\\frac{1}{2}(b_{n-1}-a_{n-1}) = \\frac{1}{2}\\frac{1}{2}\\frac{1}{2}(b_{n-2}-a_{n-2}) = \\cdots = \\frac{1}{2^{n+1}}(b_0-a_0)$. \n",
    "\n",
    "This makes the absolute error $\\epsilon_n \\le \\frac{1}{2^{n+1}}(b-a)$. So we can simplify as follows:\n",
    "\n",
    "$$\n",
    "    \\begin{aligned}\n",
    "        \\frac{1}{2^{n+1}}(b-a) &\\le ATOL\\\\\n",
    "        \\frac{1}{2}\\frac{b-a}{2^n} &\\le ATOL\\\\\n",
    "        \\frac{b-a}{2^n} &\\le 2 \\cdot ATOL\\\\\n",
    "        2^n &\\ge \\frac{b-a}{2 \\cdot ATOL}\\\\\n",
    "        n &\\ge \\log_2\\left(\\frac{b-a}{2 \\cdot ATOL}\\right)\n",
    "    \\end{aligned}\n",
    "$$\n",
    "\n",
    "Now you can use this formula to know the number of iterations. If $n \\notin \\mathbb{Z}$, then you can simply round up in your code.\n",
    "\n",
    "Here's an example of a better bisection method:"
   ]
  },
  {
   "cell_type": "code",
   "execution_count": 1,
   "id": "af24cb50-f3c1-4f4c-8131-4bc033b37298",
   "metadata": {},
   "outputs": [
    {
     "name": "stdout",
     "output_type": "stream",
     "text": [
      "Created file 'C:\\Users\\bushn\\Home\\Notes\\STEM-Notes\\MATH350 Numerical Methods\\Chapter 3 - Nonlinear Equations in 1-Variable\\betterBisectionMethod.m'.\n"
     ]
    }
   ],
   "source": [
    "%%file betterBisectionMethod.m\n",
    "\n",
    "% f = function handle\n",
    "% a = left endpoint of interval\n",
    "% b = right endpoint of interval\n",
    "% where f(a) * f(b) < 0\n",
    "% atol =  absolute value of error tolerance on residual\n",
    "\n",
    "% xn = nth iterate (final approximation)\n",
    "% n = number of iterations\n",
    "\n",
    "function [xn, n] = bisectionMethod(f,a,b,atol)\n",
    "\n",
    "    N = ceil(log2((b-a)/(2 * atol))); % stopping iteration\n",
    "    \n",
    "    for n = 0:N\n",
    "    \n",
    "        xn = (a+b)/2;              % nth iterate is the midpoint of the interval\n",
    "        residual = abs(f(xn));\n",
    "        \n",
    "        if f(a) * f(xn) < 0\n",
    "            b = xn;\n",
    "        else\n",
    "            a = xn;\n",
    "        end\n",
    "    \n",
    "    end\n",
    "\n",
    "end"
   ]
  },
  {
   "cell_type": "code",
   "execution_count": null,
   "id": "06467dee-c77b-4420-af0a-f4895e8c8fa9",
   "metadata": {},
   "outputs": [],
   "source": [
    "f = @(x) x.^2 - 3;\n",
    "\n",
    "format long\n",
    "a = -0.8;\n",
    "b = 1;\n",
    "atol = 1e-7;\n",
    "\n",
    "[x_approx, n] = bisectionMethod(f,a,b,atol)\n",
    "\n",
    "\n",
    "xstar = sqrt(3) % true root\n",
    "err = abs(x_approx - xstar)"
   ]
  },
  {
   "cell_type": "markdown",
   "id": "4d87417e-bf11-4fa0-b474-7a234bcf65e3",
   "metadata": {},
   "source": [
    "## The Convergence of the Bisection Algorithm\n",
    "\n",
    "We saw that the absolute error $\\epsilon_n = |x_n - x^*| \\le \\frac{1}{2^{n+1}(b-a)}$. So:\n",
    "\n",
    "$$\n",
    "    0 \\le \\epsilon_n \\le \\frac{1}{2} \\frac{b-a}{2^n} \\approx \\epsilon_{n-1} = \\frac{1}{2}^2\\frac{b-a}{2^{n-1} \\approx \\epsilon_{n-2} = \\cdots = \\frac{1}{2}^n \\frac{b-a}{2} \\approx \\epsilon_0}\n",
    "$$\n",
    "\n",
    "By the sandwich theorem, as $n \\rightarrow \\infty$, $\\epsilon_n \\rightarrow 0$ so convergence is guaranteed.\n",
    "\n",
    "**In general**, if an iterative root-finding method satisfies $\\epsilon_n \\approx p^n\\epsilon_0$ for $p < 1$, then the convergence rate is derived to be:\n",
    "\n",
    "$$\n",
    "    RATE = -\\log_{10}(p)\n",
    "$$\n",
    "\n",
    "then it will take $k = \\text{ceil}\\left(\\frac{1}{RATE}\\right)$ iterations to gain one digit of decimal precision. \n",
    "\n",
    "**FOR THE BISECTION ALGORITHM:** $p = \\frac{1}{2}$, $RATE = -\\log_{10}\\frac{1}{2}\\approx 0.301$ and we can expect $k = \\text(ceil)\\frac{1}{-\\log_{10}\\frac{1}{2}} = \\text{ceil}(3.321) = 4$. This has *linear* convergence which is pretty slow (a good algorithm would have *quadratic* or *cubic* convergence). Bisection pretty much always converges but it's very slow."
   ]
  }
 ],
 "metadata": {
  "kernelspec": {
   "display_name": "Matlab",
   "language": "matlab",
   "name": "matlab"
  },
  "language_info": {
   "codemirror_mode": "octave",
   "file_extension": ".m",
   "help_links": [
    {
     "text": "MetaKernel Magics",
     "url": "https://metakernel.readthedocs.io/en/latest/source/README.html"
    }
   ],
   "mimetype": "text/x-octave",
   "name": "matlab",
   "version": "0.16.11"
  }
 },
 "nbformat": 4,
 "nbformat_minor": 5
}
