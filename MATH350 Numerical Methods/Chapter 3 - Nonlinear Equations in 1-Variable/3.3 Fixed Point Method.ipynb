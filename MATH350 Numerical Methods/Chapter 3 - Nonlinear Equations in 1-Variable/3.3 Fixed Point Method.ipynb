{
 "cells": [
  {
   "cell_type": "markdown",
   "id": "55d6f347-fd30-4836-850b-bfb37303312a",
   "metadata": {},
   "source": [
    "# 3.3: Fixed Point Iteration"
   ]
  },
  {
   "cell_type": "markdown",
   "id": "76eb5602-c39d-48ac-b3ec-6aa63b18dd02",
   "metadata": {},
   "source": [
    "## The Basic Premise\n",
    "\n",
    "Given $f(x)=0$, $f\\in C[a,b]$. Let's use a guiding example of $f(x)=x^2-x-1=0$ on the interval $[1.5,2]$. The true solution $x^* = \\frac{1 \\sqrt{5}}{2} \\approx 1.6180$\n",
    "\n",
    "Then fixed point works in the following way:\n",
    "\n",
    "1. Rearrange the equation to solve for $x$.\n",
    "\n",
    "$$\n",
    "    \\begin{aligned}\n",
    "        &\\frac{x^2}{x} - \\frac{x}{x} - \\frac{1}{x} = x - 1 - \\frac{1}{x}\\\\\n",
    "    &x = 1 + \\frac{1}{x}\n",
    "    \\end{aligned}\n",
    "$$\n",
    "\n",
    "2. A solution to $g(x)$ is called a *fixed point* of $g(x)$. \n",
    "\n",
    "3. Write a recurrence relation\n",
    "\n",
    "$$\n",
    "    \\begin{aligned}\n",
    "        x_{k+1} = g(x_k)\n",
    "    \\end{aligned}\n",
    "$$\n",
    "\n",
    "where $x_0$ is some initial guess in $[a,b]$."
   ]
  },
  {
   "cell_type": "markdown",
   "id": "6348d17c-6cf3-483c-ae98-870ab1424390",
   "metadata": {},
   "source": [
    "## Code: Fixed Point Iteration"
   ]
  },
  {
   "cell_type": "code",
   "execution_count": 1,
   "id": "49412e19-48ef-4f90-b8b5-febb5e1ac377",
   "metadata": {},
   "outputs": [
    {
     "name": "stdout",
     "output_type": "stream",
     "text": [
      "Created file 'C:\\Users\\bushn\\Home\\Notes\\STEM-Notes\\MATH350 Numerical Methods\\Chapter 3 - Nonlinear Equations in 1-Variable\\fixedPointMethod.m'.\n"
     ]
    }
   ],
   "source": [
    "%%file fixedPointMethod.m\n",
    "\n",
    "function xn = fixedPointMethod(g,x0,tol)\n",
    "\n",
    "    maxiter = 1000; % Max # of iterations to perform\n",
    "    rn = abs(g(x0)-x0);\n",
    "    xn = x0;\n",
    "    n = 0;\n",
    "    \n",
    "    \n",
    "    while (rn > tol) && (n < maxiter)\n",
    "    \n",
    "        xn = g(xn);\n",
    "        rn = abs(g(xn)-xn);\n",
    "        n = n + 1;\n",
    "    \n",
    "    end\n",
    "    \n",
    "    \n",
    "    if n == maxiter\n",
    "    \n",
    "        warning(\"Maximum number of iterations reached\");\n",
    "        \n",
    "    end\n",
    "\n",
    "end"
   ]
  },
  {
   "cell_type": "code",
   "execution_count": 4,
   "id": "7b09b21e-8a6b-4602-b471-389f38119fe9",
   "metadata": {},
   "outputs": [
    {
     "name": "stdout",
     "output_type": "stream",
     "text": [
      "\n",
      "xapprox =\n",
      "\n",
      "    1.6180\n",
      "\n",
      "\n"
     ]
    }
   ],
   "source": [
    "g = @(x) 1 + 1./ x;\n",
    "\n",
    "x0 = 2;\n",
    "tol = 1e-7;\n",
    "\n",
    "xapprox = fixedPointMethod(g,x0,tol)"
   ]
  },
  {
   "cell_type": "markdown",
   "id": "edf93638-f1d7-402e-aa36-14de25901953",
   "metadata": {},
   "source": [
    "## Breaking This Algorithm"
   ]
  },
  {
   "cell_type": "code",
   "execution_count": 6,
   "id": "1ffb9c05-6e62-40e5-af34-942f170b170c",
   "metadata": {},
   "outputs": [
    {
     "name": "stdout",
     "output_type": "stream",
     "text": [
      "\n",
      "xapprox =\n",
      "\n",
      "   Inf\n",
      "\n",
      "\n"
     ]
    }
   ],
   "source": [
    "g = @(x) x^2 - 1;\n",
    "\n",
    "x0 = 2;\n",
    "tol = 1e-7;\n",
    "\n",
    "xapprox = fixedPointMethod(g,x0,tol)"
   ]
  },
  {
   "cell_type": "markdown",
   "id": "eff7e0d9-ed98-4b72-a1fa-1004b06b91e9",
   "metadata": {},
   "source": [
    "The reason this does not work is because for this particular case our $g(x)$ is just broken. The reason this doesn't work is because of the **fixed point theorem**:\n",
    "\n",
    "> **THE FIXED POINT THEOREM**\n",
    ">\n",
    "> If $g\\in C[a,b]$ and $a \\le g(x) \\le b$ for all $x \\in [a,b]$, then there exists a fixed point $x^* \\in [a,b]$ such that $g(x^*) = x^*$. \n",
    ">\n",
    "> *In addition*, If we have that $g'$ exists and $|g'(x)| \\le p$ for some $0 < p < 1$ for all $x \\in (a,b)$, then CONVERGENCE is guaranteed.\n",
    "\n",
    "This explains why $g(x) = x^2 - 1$ doesn't work. Since the derivative is $g'(x) = 2x$, we know that for any interval $[a,b]$ containing $x^* \\approx 1.618$, we have that $|g'(x)| > 1$ for at least some $x \\in [a,b]$, which does not satisfy the second part of the fixed point theorem.\n",
    "\n",
    "NOTE: The theorem doesn't say that it's impossible, it just says that it is not guaranteed.\n",
    "\n",
    "BUT, if we do get a convergence and this algorithm works, does this stack up to be better than Bisection Method?"
   ]
  },
  {
   "cell_type": "markdown",
   "id": "8d309d91-8c84-4e6e-a541-db9a1c7a7c4d",
   "metadata": {},
   "source": [
    "## Comparing Bisection and Fixed Point\n",
    "\n",
    "If $g$ satisfies the fixed point theorem, then we have that for the $k+1$ iterate ($x_{k+1} = g(x_k)$), then the absolute error will be $0 \\le \\epsilon_{k+1} = |x_{k+1} - x^*| = |g(x_k) - g(x^*)|$. If we invoke the **mean value theorem (mvt)** from Calc I, we can say that our final step is equal to $|g'(c)(x_k - x^*)| = |g'(c)|\\cdot |x_k-x^*| \\le \\rho |x_k - x^*| = \\rho \\epsilon_k \\le \\rho^2\\epsilon_{k-1} \\le \\cdots \\le \\rho^k\\epsilon_0$. Therefore, by using the Sandwhich Theorem we can guarantee convergence. This convergence is linear because we have no exponent on the error term. However, the rate depends on $\\rho$ which depends on $g'(x)$. "
   ]
  }
 ],
 "metadata": {
  "kernelspec": {
   "display_name": "Matlab",
   "language": "matlab",
   "name": "matlab"
  },
  "language_info": {
   "codemirror_mode": "octave",
   "file_extension": ".m",
   "help_links": [
    {
     "text": "MetaKernel Magics",
     "url": "https://metakernel.readthedocs.io/en/latest/source/README.html"
    }
   ],
   "mimetype": "text/x-octave",
   "name": "matlab",
   "version": "0.16.11"
  }
 },
 "nbformat": 4,
 "nbformat_minor": 5
}
