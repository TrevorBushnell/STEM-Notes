{
 "cells": [
  {
   "cell_type": "markdown",
   "id": "57f94e95-f2c3-4e45-80f0-89ccfc7ddd62",
   "metadata": {},
   "source": [
    "# 3.5: Newton and Secant Methods"
   ]
  },
  {
   "cell_type": "markdown",
   "id": "776024e0",
   "metadata": {},
   "source": [
    "## Newton's Method"
   ]
  },
  {
   "cell_type": "code",
   "execution_count": 1,
   "id": "0af8c8e2",
   "metadata": {},
   "outputs": [
    {
     "name": "stderr",
     "output_type": "stream",
     "text": [
      "\u001b[1;31mError: Function definition are not supported in this context. Functions can only be created as local or nested functions in code files.\n",
      "\n",
      "\u001b[0m"
     ]
    }
   ],
   "source": [
    "% This is an implementation of newton's method for solving f(x)=0\n",
    "% x0 = initial guess\n",
    "% f = the function f\n",
    "% fprime = the derivative of f\n",
    "% tol = tolerance on residual |f(xk)|\n",
    "%\n",
    "% xk = kth iterate, the output of the computation\n",
    "\n",
    "function [k,xk] = newtonMethod(x0, f, fprime, tol)\n",
    "\n",
    "    rk = abs(f(x0));  % residual\n",
    "    xk = x0; \n",
    "    k = 0; % loop counter\n",
    "    while rk > tol\n",
    "        xk = xk - f(xk) ./ fprime(xk)\n",
    "        rk = abs(f(xk)); \n",
    "        k = k+1;\n",
    "    end\n",
    "    \n",
    "end"
   ]
  },
  {
   "cell_type": "markdown",
   "id": "962ab1fe",
   "metadata": {},
   "source": [
    "## Secant Method"
   ]
  },
  {
   "cell_type": "code",
   "execution_count": 2,
   "id": "c095360e-f8ba-4a22-883a-b1d96935f984",
   "metadata": {},
   "outputs": [
    {
     "name": "stdout",
     "output_type": "stream",
     "text": [
      "Created file 'C:\\Users\\bushn\\Home\\Notes\\STEM-Notes\\MATH350 Numerical Methods\\Chapter 3 - Nonlinear Equations in 1-Variable\\secantMethod.m'.\n"
     ]
    }
   ],
   "source": [
    "%%file secantMethod.m\n",
    "\n",
    "% This is an implementation fo the secant method for solving f(x) = 0\n",
    "% f = the function f(x)\n",
    "% x0, x1 = two initial guesses (x0 ~= x1)\n",
    "% tol = error tolerance on residual\n",
    "\n",
    "% xk = approximate root found\n",
    "\n",
    "\n",
    "function xk = secantMethod(f, x0, x1, tol)\n",
    "\n",
    "    rk = abs(f(x0));   % residual\n",
    "    xk = x0;\n",
    "    \n",
    "    k = 0;    % loop counter\n",
    "    \n",
    "    y0 = f(x0);\n",
    "    y1 = f(x1);\n",
    "    \n",
    "    while (rk > tol)\n",
    "    \n",
    "        xk = x1 - y1 * ((x1 - x0)/(y1-y0));\n",
    "        rk = abs(f(xk));\n",
    "        x0 = x1;\n",
    "        x1 = xk;\n",
    "        y0 = f(x0);\n",
    "        \n",
    "        k = k + 1;\n",
    "        \n",
    "    end\n",
    "\n",
    "end"
   ]
  },
  {
   "cell_type": "code",
   "execution_count": 5,
   "id": "75488818-c432-4c30-83a6-dec6a078ce3c",
   "metadata": {},
   "outputs": [
    {
     "name": "stderr",
     "output_type": "stream",
     "text": [
      "\u001b[1;31mInvalid expression. Check for missing multiplication operator, missing or unbalanced delimiters, or other syntax error. To construct matrices, use brackets instead of parentheses.\n",
      "\n",
      "\u001b[0m"
     ]
    }
   ],
   "source": [
    "f = (@x) x .^ 2 - 4;\n",
    "x0 = 1.7;\n",
    "x1 = 2.5;\n",
    "\n",
    "tol = 10 ^ -7;\n",
    "\n",
    "xapprox = secantMethod(f, x0, x1, tol)"
   ]
  }
 ],
 "metadata": {
  "kernelspec": {
   "display_name": "Matlab",
   "language": "matlab",
   "name": "python388jvsc74a57bd0a707b6ce8c685eb936424fcc3009d4b4b7a52543c4db09380a3fc49186ceb509"
  },
  "language_info": {
   "codemirror_mode": "octave",
   "file_extension": ".m",
   "help_links": [
    {
     "text": "MetaKernel Magics",
     "url": "https://metakernel.readthedocs.io/en/latest/source/README.html"
    }
   ],
   "mimetype": "text/x-octave",
   "name": "matlab",
   "version": "0.16.11"
  }
 },
 "nbformat": 4,
 "nbformat_minor": 5
}
