{
 "cells": [
  {
   "cell_type": "markdown",
   "metadata": {},
   "source": [
    "# Chapter 4: Linear Algebra Review"
   ]
  },
  {
   "cell_type": "markdown",
   "metadata": {},
   "source": [
    "## Vectors and Matrices\n",
    "\n",
    "Recall that when we say:\n",
    "\n",
    "$$\n",
    "A = \\left[\n",
    "\\begin{array}{cccc}\n",
    "    a_{11} & a_{12} & \\cdots & a_{1m}\\\\\n",
    "    a_{21} & a_{22} & \\cdots & a_{2m}\\\\\n",
    "    \\cdots & \\cdots & \\cdots & \\cdots\\\\\n",
    "    \\cdots & \\cdots & \\cdots & \\cdots\\\\\n",
    "    \\cdots & \\cdots & \\cdots & \\cdots\\\\\n",
    "    a_{n1} & \\cdots & \\cdots & a_{nm}\n",
    "\\end{array}\n",
    "\\right]\n",
    "$$\n",
    "\n",
    "We mean that $A$ is a matrix of size $n \\times m$. Recall that multiplying a matrix by a constant $\\alpha$ means multiplying every element in the matrix by that constant. Likewise, if two matrices $A$ and $B$ have the same dimensions, then you can add and subtract matrices by adding/subtracting their corresponding elements. "
   ]
  },
  {
   "cell_type": "markdown",
   "metadata": {},
   "source": [
    "## Matrix Multiplication\n",
    "\n",
    "To multiply two matrices $A$ and $B$, the inner dimensions **must match** (be equal) and the outer dimensions give the size of the result. \n",
    "\n",
    "For example, if $A$ has dimensions $n \\times p$ and $B$ has dimensions $p \\times m$, then the result $AB$ is $n \\times m$. We can multiply these two matrices because the inner dimensions are the same.\n",
    "\n",
    "\n",
    "> **Example 1:** Given that $A = \\left[\\begin{array}{cc}\n",
    "\t2 & 3\\\\\n",
    "\t1 & 0\n",
    "\\end{array}\\right]$ and $B = \\left[\\begin{array}{cc}\n",
    "\t-1\\\\\n",
    "\t2\n",
    "\\end{array}\\right]$, compute $AB$\n",
    "\n",
    "\n",
    "**WORK TO GO HERE LATER**\n",
    "\n",
    "\n",
    "> **Example 2:** Given that $A = \\left[\\begin{array}{cc}\n",
    "\t2 & 3\\\\\n",
    "\t1 & 0\n",
    "\\end{array}\\right]$ and $B = \\left[\\begin{array}{cc}\n",
    "\t-1 & 4\\\\\n",
    "\t0 & 1\n",
    "\\end{array}\\right]$, compute $AB$ and $BA$\n",
    "\n",
    "\n",
    "$$\n",
    "    AB = \\left[\\begin{array}{cc}\n",
    "        -2 & 11\\\\\n",
    "        -1 & 4\n",
    "    \\end{array}\\right]\n",
    "$$\n",
    "\n",
    "$$\n",
    "    BA = \\left[\\begin{array}{cc}\n",
    "        3 & -3\\\\\n",
    "        1 & 0\n",
    "    \\end{array}\\right]\n",
    "$$\n",
    "\n",
    "\n",
    "Based on the examples above, we notice that $AB \\ne BA$. Additionally, we cannot flip the order of multiplication if both matrices are not square because by flipping the order the inner dimensions won't work anymore. "
   ]
  },
  {
   "cell_type": "markdown",
   "metadata": {},
   "source": [
    "## Matrix Squaring/Matrix Exponentiation\n",
    "\n",
    "If a matrix $A$ is written $A$, this means $AA$ which means multiplying the matrix $A$ by the matrix $A$. So in MATLAB, `A ^ 2` $=AA$."
   ]
  },
  {
   "cell_type": "markdown",
   "metadata": {},
   "source": [
    "## The Identity Matrix\n",
    "\n",
    "> **DEFINITION:** The $n \\times n$ identity matrix $I$ is defined by:\n",
    ">\n",
    ">\n",
    "> $$\n",
    "    AB = \\left[\\begin{array}{cc}\n",
    "        1 & 0\\\\\n",
    "        0 & 1\n",
    "    \\end{array}\\right]\n",
    "$$\n",
    ">\n",
    "> Note: Just keep in mind that this works for any dimensions $n$, just 1's along the diagonal and 0's everywhere else.\n",
    "\n",
    "Some properties are as follows:\n",
    "\n",
    "* $AI = A$, assuming that it is possible to do matrix multiplication\n",
    "* If $A$ is a square matrix with dimension $n$, then $AI = IA = A$\n",
    "* If you multiply $I$ times a vector $\\vec{v}$, then $I\\vec{v} = \\vec{v}$\n",
    "* In MATLAB, the command for an identity matrix is `eye(n)`"
   ]
  },
  {
   "cell_type": "markdown",
   "metadata": {},
   "source": [
    "## Matrix Inverses\n",
    "\n",
    "> **DEFINITION:** Given an $n \\times n$ matrix $A$, if there exists a matrix $B$ such that $AB = BA = I$, then we say that $B$ is the inverse of $A$ and we write $B = A^{-1}$ (read as A-inverse). If $A^{-1}$ does not exist, we say $A$ is not invertible. A synonym for not invertible is *singular*. Therefore, matrices that are invertible are *not singular*.\n",
    "\n",
    "To get the inverse of a matrix in MATLAB, use the command `inv(A)` to get $A^{-1}$ (if it exists)."
   ]
  },
  {
   "cell_type": "markdown",
   "metadata": {},
   "source": [
    "## Matrix Determinants\n",
    "\n",
    "To find the determinant of a 2x2 matrix, do:\n",
    "\n",
    "$$\n",
    "\\left[\\begin{array}{cc}\n",
    "a & b\\\\\n",
    "c & d\n",
    "\\end{array}\\right] = \\det(A) = ad - bc\n",
    "$$\n",
    "\n",
    "To find the determinant of a 3x3 matrix, do:\n",
    "$$\n",
    "\\left[\\begin{array}{ccc}\n",
    "a & b & c\\\\\n",
    "d & e & f\\\\\n",
    "g & h & i\n",
    "\\end{array}\\right] = \\det(A) = a \\det\\left(\\left[\\begin{array}{cc}e & f\\\\ h & i\\end{array}\\right]\\right) - b \\det\\left(\\left[\\begin{array}{cc}d & f\\\\ g & i\\end{array}\\right]\\right) + c \\det\\left(\\left[\\begin{array}{cc}d & e\\\\ g & h\\end{array}\\right]\\right)\n",
    "$$\n",
    "\n",
    "$\\det(A) = 0$ if and only if $A$ is singular (the inverse does not exist)."
   ]
  },
  {
   "cell_type": "markdown",
   "metadata": {},
   "source": [
    "## Linear Combinations and Linear Independence\n",
    "\n",
    "A **linear combination** of $n$-dimensional vectors $\\{\\vec x_1, \\vec x_2, \\cdots, \\vec x_k\\}$ is the vector $\\vec x = \\alpha_1\\vec x_1 + \\alpha_2\\vec x_2 + \\cdots + \\alpha_k\\vec x_k$ where all the $\\alpha$'s are constants.\n",
    "\n",
    "We say a set of $n$-dimensional vectors $\\{\\vec x_1, \\vec x_2, \\cdots, \\vec x_k\\}$ is **linearly independent** if whenever $\\vec x = \\alpha_1\\vec x_1 + \\alpha_2\\vec x_2 + \\cdots + \\alpha_k\\vec x_k = \\vec 0$, then $\\alpha_1 = \\alpha_2 = \\cdots = \\alpha_k = 0$."
   ]
  }
 ],
 "metadata": {
  "kernelspec": {
   "display_name": "Matlab",
   "language": "matlab",
   "name": "matlab"
  },
  "language_info": {
   "codemirror_mode": "octave",
   "file_extension": ".m",
   "help_links": [
    {
     "text": "MetaKernel Magics",
     "url": "https://metakernel.readthedocs.io/en/latest/source/README.html"
    }
   ],
   "mimetype": "text/x-octave",
   "name": "matlab",
   "version": "0.16.11"
  }
 },
 "nbformat": 4,
 "nbformat_minor": 4
}
