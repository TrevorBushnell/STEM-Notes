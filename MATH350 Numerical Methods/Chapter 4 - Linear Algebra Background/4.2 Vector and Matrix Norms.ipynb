{
 "cells": [
  {
   "cell_type": "markdown",
   "id": "6f2309f0",
   "metadata": {},
   "source": [
    "# 4.2: Vector and Matrix Norms"
   ]
  },
  {
   "cell_type": "markdown",
   "id": "73835e53",
   "metadata": {},
   "source": [
    "## Vector Norms\n",
    "\n",
    "A **norm** is a generalization of absolute value or magnitude.\n",
    "\n",
    "* **Vector Norms:** Given $||\\vec x||_2$ = magnitude of $\\vec x$ = $\\sqrt{x_1^2 + x_2^2 + \\cdots + x_n^2}$\n",
    "    * This is also called the $\\ell 2$ norm or 2-norm\n",
    "    \n",
    "Other common norms:\n",
    "* $||\\vec x||_1 = |x_1| + |x_2| + ... + |x_n|$\n",
    "* $|| \\vec x||_\\infty = \\text{max}_{1 \\le i \\le n} |x_i|$\n",
    "\n",
    "These are all different ways to measure the size of a vector.\n",
    "\n",
    "\n",
    "> **DEFINITION:** A \\bf{norm} is a *saclar-valued* function denoted $||\\cdot||$ such that for any $\\vec x, \\vec y \\in \\mathbb{R}^n$, then:\n",
    ">\n",
    "> * $||\\vec x|| \\ge 0$ and $||\\vec x|| = 0$ if and only if $\\vec x = \\vec 0$\n",
    "> * $||\\alpha \\vec x|| = |\\alpha|||\\vec x||$\n",
    "> * $||\\vec x + \\vec y|| \\le ||\\vec x|| + || \\vec y||$ (triangular inequality"
   ]
  },
  {
   "cell_type": "code",
   "execution_count": 2,
   "id": "b0e5ba54",
   "metadata": {},
   "outputs": [
    {
     "name": "stdout",
     "output_type": "stream",
     "text": [
      "\n",
      "b =\n",
      "\n",
      "    0.9134\n",
      "    0.6324\n",
      "    0.0975\n",
      "\n",
      "\n",
      "ans =\n",
      "\n",
      "    1.6433\n",
      "\n",
      "\n",
      "ans =\n",
      "\n",
      "    0.9134\n",
      "\n",
      "\n"
     ]
    }
   ],
   "source": [
    "b = rand(3,1)\n",
    "norm(b,1)\n",
    "norm(b,inf)"
   ]
  },
  {
   "cell_type": "markdown",
   "id": "ad9da70d",
   "metadata": {},
   "source": [
    "## Matrix Norms\n",
    "\n",
    "* **\"Induced Norm\":** $||A|| := \\text{max}_{\\vec x \\ne \\vec 0} \\left(\\frac{||A\\vec x||}{||\\vec x||}\\right) = \\text{max}_{\\vec x \\ne \\vec 0} \\left(A\\vec x|| \\right)$\n",
    "\n",
    "Turns out to get 2-norms of matrices we need eigenvalues, so for this class we let MATLAB do the heavy lifting for us:"
   ]
  },
  {
   "cell_type": "code",
   "execution_count": 3,
   "id": "b0f47e13",
   "metadata": {},
   "outputs": [
    {
     "name": "stdout",
     "output_type": "stream",
     "text": [
      "\n",
      "A =\n",
      "\n",
      "   -0.4336    2.7694    0.7254\n",
      "    0.3426   -1.3499   -0.0631\n",
      "    3.5784    3.0349    0.7147\n",
      "\n",
      "\n",
      "ans =\n",
      "\n",
      "    5.1389\n",
      "\n",
      "\n",
      "ans =\n",
      "\n",
      "     1\n",
      "\n",
      "\n"
     ]
    }
   ],
   "source": [
    "A = randn(3)\n",
    "norm(A)\n",
    "norm(eye(3))"
   ]
  }
 ],
 "metadata": {
  "kernelspec": {
   "display_name": "Matlab",
   "language": "matlab",
   "name": "matlab"
  },
  "language_info": {
   "codemirror_mode": "octave",
   "file_extension": ".m",
   "help_links": [
    {
     "text": "MetaKernel Magics",
     "url": "https://metakernel.readthedocs.io/en/latest/source/README.html"
    }
   ],
   "mimetype": "text/x-octave",
   "name": "matlab",
   "version": "0.16.11"
  }
 },
 "nbformat": 4,
 "nbformat_minor": 5
}
