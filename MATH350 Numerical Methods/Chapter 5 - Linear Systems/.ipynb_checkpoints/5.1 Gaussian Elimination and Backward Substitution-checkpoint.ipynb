{
 "cells": [
  {
   "cell_type": "markdown",
   "id": "fcafb69e",
   "metadata": {},
   "source": [
    "# 5.1: Gaussian Elimination & Backward Substitution"
   ]
  },
  {
   "cell_type": "markdown",
   "id": "a2596d00",
   "metadata": {},
   "source": [
    "Suppose we are solving $A \\vec x = \\vec b$. Then if $A$ is a diagonal matrix, it is incredibly easy to solve this linear system of equations because we can just multiply the one non-zero value by the corresponding component in $\\vec v$ to figure out the corresponding component in $\\vec b$.\n",
    "\n",
    "If $A$ is an **upper triangular matrix**, we can use a process called *back-substritution*:\n",
    "\n",
    "$a_{n,n}x_n = b_n$, \n",
    "then back-substitute into the row above: $a_{n-1, n-1}x_{n-1} + a_{n-1,n}x_n = b_{n-1}$\n",
    "then back substitute into the row above that: $x_{n-1} = \\frac{b_{n-1}-a_{n-1, n}x_n}{a_{n-1,n}}$\n",
    "\n",
    "In general, we get this formula:\n",
    "\n",
    "> $$\n",
    "x_k = \\frac{b_k - \\sum_{j=k+1}^n a_{k,j}x_j}{a_{k,k}}$$\n",
    "\n",
    "While the subscripts get really ugly and annoying to deal with, it is incredibly straightforward to code up this solution in MATLAB.\n",
    "\n",
    "BTW - $\\sum_{j=k+1}^n a_{k,j}x_j$ is just a dot product which we can easily compute in MATLAB by doing `x' * y`."
   ]
  },
  {
   "cell_type": "markdown",
   "id": "c9ea2a36",
   "metadata": {},
   "source": [
    "## Coding Backwards Substitution in MATLAB"
   ]
  },
  {
   "cell_type": "code",
   "execution_count": 28,
   "id": "6f77924f",
   "metadata": {},
   "outputs": [
    {
     "ename": "SyntaxError",
     "evalue": "invalid syntax (<ipython-input-28-074a34e7a8c9>, line 9)",
     "output_type": "error",
     "traceback": [
      "\u001b[1;36m  File \u001b[1;32m\"<ipython-input-28-074a34e7a8c9>\"\u001b[1;36m, line \u001b[1;32m9\u001b[0m\n\u001b[1;33m    for k = n-1:-1:1\u001b[0m\n\u001b[1;37m          ^\u001b[0m\n\u001b[1;31mSyntaxError\u001b[0m\u001b[1;31m:\u001b[0m invalid syntax\n"
     ]
    }
   ],
   "source": [
    "n = 3;\n",
    "\n",
    "A = rand(n);\n",
    "b = rand(n,1);\n",
    "\n",
    "x = zeros(n,1);\n",
    "x(n) = b(n)/A(n,n);\n",
    "\n",
    "for k = n-1:-1:1\n",
    "    x(k) = (b(k)-A(k,k+1:n)*x(k+1:n)) / A(k,k);\n",
    "end\n",
    "\n",
    "residual = norm(A*x - b)"
   ]
  },
  {
   "cell_type": "code",
   "execution_count": 30,
   "id": "b7c9d811",
   "metadata": {},
   "outputs": [
    {
     "ename": "SyntaxError",
     "evalue": "invalid syntax (<ipython-input-30-51d80c8c373e>, line 10)",
     "output_type": "error",
     "traceback": [
      "\u001b[1;36m  File \u001b[1;32m\"<ipython-input-30-51d80c8c373e>\"\u001b[1;36m, line \u001b[1;32m10\u001b[0m\n\u001b[1;33m    for k = n-1:-1:1\u001b[0m\n\u001b[1;37m          ^\u001b[0m\n\u001b[1;31mSyntaxError\u001b[0m\u001b[1;31m:\u001b[0m invalid syntax\n"
     ]
    }
   ],
   "source": [
    "n = 3;\n",
    "\n",
    "A = rand(n);\n",
    "b = rand(n,1);\n",
    "A(2,1) = 0; A(3,1) = 0; A(3,2) = 0;\n",
    "\n",
    "x = zeros(n,1);\n",
    "x(n) = b(n)/A(n,n);\n",
    "\n",
    "for k = n-1:-1:1\n",
    "    x(k) = (b(k)-A(k,k+1:n)*x(k+1:n)) / A(k,k);\n",
    "end\n",
    "\n",
    "residual = norm(A*x - b)"
   ]
  },
  {
   "cell_type": "markdown",
   "id": "b0c2d92c",
   "metadata": {},
   "source": [
    "## Computational Cost of Backwards Substitution\n",
    "\n",
    "We can count the number of flops (`+,-,*,/`) there are in the algorithm to test how efficient the algorithm is. We can notice that given an $n \\times n$ matrix, there are approximately $n^2$ flops. This means that the Big-O notation for the Backwards Substitution algorithm is $O(n) = n^2$. The bigger the matrix, the more flops and the more possible roundoff errors that can occur."
   ]
  },
  {
   "cell_type": "markdown",
   "id": "09c2ed82",
   "metadata": {},
   "source": [
    "## Forward Substitution\n",
    "\n",
    "Given a lower triangular matrix we can use Forward Substitution. This means that your matrix has zeros above the diagonal. The the algorithm has the same process but instead of starting at the bottom row of the matrix and working your way upwards, you start at the top row of the matrix and work your way downwards.\n",
    "\n",
    "This means that the computational cost is still $O(n) = n^2$.\n",
    "\n",
    "\n",
    "\n",
    "> **NOTE:** Back-sub and forward-sub will FAIL if any $a_{k,k} = 0$. However, thanks to Linear Algebra rules this means that the matrix is singular and so solving this linear system would give you many solutions."
   ]
  },
  {
   "cell_type": "markdown",
   "id": "6ba94191",
   "metadata": {},
   "source": [
    "## Gaussian Elimination\n",
    "\n",
    "This method allows us to transform a general matrix $A$ into upper triangular form. Then we can finish using forward substitution. \n",
    "\n",
    "Given $A\\vec x = \\vec b$, write the augmented matrix (meaning append $\\vec b$ to $A$, meaning $\\left[A | \\vec b\\right]$). \n",
    "\n",
    "Then there are three rules that you can follow:\n",
    "\n",
    "1. Multiply any row by a constant\n",
    "2. Subtract a multiple of one row from another row\n",
    "3. Swap any two rows\n",
    "\n",
    "The goal is to use these three rules to build an upper triangular matrix. It's possible to mess things up, so you always start with zeroing out the entries from top to bottom starting with the left-most column and working your way towards the right.\n",
    "\n",
    "> **EXAMPLE:** Given the lineary system of equations:\n",
    ">\n",
    "> $$\n",
    "    \\begin{aligned}\n",
    "        2x_1 - 2x_2 &= 6\\\\\n",
    "        -x_1 + 3x_2 - 2x_3 &= -5\\\\\n",
    "        x_1 + 2x_2 + x_3 &= 1\n",
    "    \\end{aligned}\n",
    "$$\n",
    ">\n",
    "> The augmented matrix then becomes:\n",
    ">\n",
    "> $$\n",
    "    \\left[\\begin{array}{cccc}2 & -2 & 0 & 6\\\\ -1 & 3 & -2 & -5\\\\ 1 & 2 & 1 & 1\\end{array}\\right]\n",
    "$$\n",
    ">\n",
    "> We can then do the following steps:\n",
    "> $$\n",
    "    \\begin{aligned}\n",
    "        &\\left[\\begin{array}{cccc}2 & -2 & 0 & 6\\\\ 0 & 2 & -2 & -2\\\\ 1 & 2 & 1 & 1\\end{array}\\right]\\\\\n",
    "        &\\left[\\begin{array}{cccc}2 & -2 & 0 & 6\\\\ 0 & 2 & -2 & -2\\\\ 0 & 3 & 1 & -2\\end{array}\\right]\\\\\n",
    "        &\\left[\\begin{array}{cccc}2 & -2 & 0 & 6\\\\ 0 & 2 & -2 & -2\\\\ 0 & 0 & 4 & 1\\end{array}\\right]\\\\\n",
    "    \\end{aligned}\n",
    "$$\n",
    "\n",
    "Check pg.99 for some pseudocode on how to implement the MATLAB code for Gaussian Elimination\n",
    "\n",
    "\n",
    "The computational complexity for Gaussian Elimination is $\\frac{2}{3}n^3$"
   ]
  }
 ],
 "metadata": {
  "kernelspec": {
   "display_name": "Python 3",
   "language": "python",
   "name": "python3"
  },
  "language_info": {
   "codemirror_mode": {
    "name": "ipython",
    "version": 3
   },
   "file_extension": ".py",
   "mimetype": "text/x-python",
   "name": "python",
   "nbconvert_exporter": "python",
   "pygments_lexer": "ipython3",
   "version": "3.8.8"
  }
 },
 "nbformat": 4,
 "nbformat_minor": 5
}
