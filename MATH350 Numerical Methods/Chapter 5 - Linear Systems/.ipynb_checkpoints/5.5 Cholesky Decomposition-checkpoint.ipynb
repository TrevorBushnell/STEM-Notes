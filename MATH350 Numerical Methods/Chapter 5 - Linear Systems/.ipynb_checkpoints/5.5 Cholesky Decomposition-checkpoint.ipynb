{
 "cells": [
  {
   "cell_type": "markdown",
   "id": "f4af8524-1fea-4ab9-b463-9823ec3917de",
   "metadata": {},
   "source": [
    "# 5.5: Cholesky Decomposition\n",
    "\n",
    "If A is *symmetric* & *positive definite*, we can use the Cholesky Decomposition to solve $A \\vec x = \\vec b$\n",
    "\n",
    "* **symmetric:** $A = A^T$\n",
    "* **positive definite:** Given any $\\vec x$, $\\vec x^T A \\vec x = s > 0$ where $s$ is some positive scalar and $\\vec x \\ne \\vec 0$\n",
    "\n",
    "The Cholesky Decomposition looks like the following:\n",
    "\n",
    "$$A = GG^T$$\n",
    "\n",
    "where $G$ is a lower triangular matrix. As such you can solve $A \\vec x = \\vec b$ by doing the following:\n",
    "\n",
    "1. Solve $G \\vec y = \\vec b$ using forward substitution ($n^2$ flops)\n",
    "2. Solve $G^T \\vec x = \\vec y$ using backwards substritution ($n^2$ flops)\n",
    "3. Since $GG^T\\vec x = G \\vec y$ and $GG^T = A$, the solution is the same as the original solution"
   ]
  },
  {
   "cell_type": "markdown",
   "id": "b738a2f0-5a30-4095-9138-3677dad5834d",
   "metadata": {},
   "source": [
    "## How to Find Your $G$ Matrix\n",
    "\n",
    "Let's start by looking at a 3 x 3 case. This means that we want a matrix $G$ such that if we transpose it we get our matrix $A$. This looks like the following:\n",
    "\n",
    "$$\n",
    "\\left[\\begin{array}{ccc}g_{11} & 0 & 0 \\\\ g_{21} & g_{22} & 0 \\\\ g_{31} & g_{32} & g_{33}\\end{array}\\right] \\left[\\begin{array}{ccc}g_{11} & g_{21} & g_{31} \\\\ 0 & g_{22} & g_{23} \\\\ 0 & 0 & g_{33}\\end{array}\\right] = \\left[\\begin{array}{ccc}a_{11} & a_{12} & a_{13} \\\\ a_{21} & a_{22} & a_{23} \\\\ a_{31} & a_{32} & a_{33}\\end{array}\\right]\n",
    "$$\n",
    "\n",
    "Let's use $i$ to indicate the rows and $j$ indicate the columns. \n",
    "\n",
    "On the $j=1$ iteration:\n",
    "* $i=1$: $g_{11}^2 = a_{11} \\implies g_{11} = \\sqrt{a_{11}}$ (this will always be $>0$ for symmetric positive definite matrices)\n",
    "* $1=2$: $g_{21} \\cdot g_{11} = a_{21} \\implies g_{21} = \\frac{a_{21}}{g_{11}}$ (no division by zero worries because $g_{11} > 0$)\n",
    "* $i=3$: $g_{31} \\cdot g_{11} = a_{31} \\implies g_{31} = \\frac{a_{31}}{g_{11}}$\n",
    "\n",
    "On the $j=2$ iteration:\n",
    "* $i=1$: $g_{11}g_{21} = a_{12}$ (redundant step so skip this)\n",
    "* $i=2$: $g_{21}^2 + g_{22}^2 = a_{22} \\implies g_{22} = \\sqrt{a_{22} - g_{22}^2}$\n",
    "* $i=3$: $g_{31}\\cdot g_{21} + g_{32} \\cdot g_{22} = a_{32} \\implies g_{32} = \\frac{a_{32}-g_{31}\\cdot g_{21}}{g_{22}}$\n",
    "\n",
    "On the $j=3$ iteration:\n",
    "* $i=1$: REDUNDANT\n",
    "* $i=2$: REDUNDANT\n",
    "* $i=3$: $g_{31}^2 + g_{32}^2 + g_{33}^2 = a_{33} \\implies g_{33} = \\sqrt{a_{33} - g_{31}^2 - g_{32}^2}$"
   ]
  },
  {
   "cell_type": "markdown",
   "id": "4f7f59f5-0d29-4982-83c7-e9767e69c553",
   "metadata": {},
   "source": [
    "## MATLAB Cholesky Decomposition\n",
    "\n",
    "This is already built into MATLAB, all you have to do is `chol(A)` where `A` is the matrix you want to find the Cholesky Decomposition for."
   ]
  }
 ],
 "metadata": {
  "kernelspec": {
   "display_name": "Matlab",
   "language": "matlab",
   "name": "matlab"
  },
  "language_info": {
   "codemirror_mode": "octave",
   "file_extension": ".m",
   "help_links": [
    {
     "text": "MetaKernel Magics",
     "url": "https://metakernel.readthedocs.io/en/latest/source/README.html"
    }
   ],
   "mimetype": "text/x-octave",
   "name": "matlab",
   "version": "0.16.11"
  }
 },
 "nbformat": 4,
 "nbformat_minor": 5
}
