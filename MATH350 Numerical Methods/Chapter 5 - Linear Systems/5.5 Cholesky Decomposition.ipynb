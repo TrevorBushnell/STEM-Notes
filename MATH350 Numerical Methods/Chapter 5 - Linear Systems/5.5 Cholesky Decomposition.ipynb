{
 "cells": [
  {
   "cell_type": "markdown",
   "id": "f4af8524-1fea-4ab9-b463-9823ec3917de",
   "metadata": {},
   "source": [
    "# 5.5: Cholesky Decomposition\n",
    "\n",
    "If A is *symmetric* & *positive definite*, we can use the Cholesky Decomposition to solve $A \\vec x = \\vec b$\n",
    "\n",
    "* **symmetric:** $A = A^T$\n",
    "* **positive definite:** Given any $\\vec x$, $\\vec x^T A \\vec x = s > 0$ where $s$ is some positive scalar and $\\vec x \\ne \\vec 0$\n",
    "\n",
    "The Cholesky Decomposition looks like the following:\n",
    "\n",
    "$$A = GG^T$$\n",
    "\n",
    "where $G$ is a lower triangular matrix. As such you can solve $A \\vec x = \\vec b$ by doing the following:\n",
    "\n",
    "1. Solve $G \\vec y = \\vec b$ using forward substitution ($n^2$ flops)\n",
    "2. Solve $G^T \\vec x = \\vec y$ using backwards substritution ($n^2$ flops)\n",
    "3. Since $GG^T\\vec x = G \\vec y$ and $GG^T = A$, the solution is the same as the original solution"
   ]
  }
 ],
 "metadata": {
  "kernelspec": {
   "display_name": "Matlab",
   "language": "matlab",
   "name": "matlab"
  },
  "language_info": {
   "codemirror_mode": "octave",
   "file_extension": ".m",
   "help_links": [
    {
     "text": "MetaKernel Magics",
     "url": "https://metakernel.readthedocs.io/en/latest/source/README.html"
    }
   ],
   "mimetype": "text/x-octave",
   "name": "matlab",
   "version": "0.16.11"
  }
 },
 "nbformat": 4,
 "nbformat_minor": 5
}
