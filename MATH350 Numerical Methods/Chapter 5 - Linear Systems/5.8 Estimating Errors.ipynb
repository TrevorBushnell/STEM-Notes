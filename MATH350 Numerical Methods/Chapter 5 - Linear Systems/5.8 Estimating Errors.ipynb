{
 "cells": [
  {
   "cell_type": "markdown",
   "id": "78cf3dd6-8cfe-45ff-99f0-59be16f224bf",
   "metadata": {},
   "source": [
    "# 5.8: Estimating Errors and the Condition Number"
   ]
  },
  {
   "cell_type": "markdown",
   "id": "42cbc381-fb2e-4e77-9bf3-39b1cf3fa088",
   "metadata": {},
   "source": [
    "Suppose that we have an approximate solution $\\vec x_1$ to our linear system $A \\vec x = \\vec b$. \n",
    "* We've been computing the absolute error by doing $||\\vec x_1 - \\vec x||$. \n",
    "* We've also been using the relative error which is $\\frac{||\\vec x_1 - \\vec x||}{||\\vec x||}$.\n",
    "* We compute the residual which is $\\vec r = \\vec b - A \\vec x_1$.\n",
    "* The scalar residual is then the norm of $\\vec r$ which is $||\\vec b - A \\vec x_1||$\n",
    "\n",
    "HOWEVER, it turns out that the relative error $\\frac{||\\vec x_1 - \\vec x||}{||\\vec x||} \\le \\kappa(A) \\cdot \\frac{||\\vec r||}{||\\vec b||}$, where $\\kappa(A)$ is the condition number $\\kappa(A) = ||A|| \\cdot ||A^{-1}||$. Note that $\\kappa(A)$ is dependent on the norm used. If $A^{-1}$ doesn't exist, then $\\kappa(A) = \\infty$. If $A = 0$ (if $A$ is the zero-matrix), then $\\kappa(A) = 0$. For $I$ in any norm, $\\kappa(A) = 1$."
   ]
  },
  {
   "cell_type": "markdown",
   "id": "facdef9f-c024-4d31-b3e8-a92400c7a158",
   "metadata": {},
   "source": [
    "## In Action With MATLAB"
   ]
  },
  {
   "cell_type": "code",
   "execution_count": 9,
   "id": "23c02609-3223-41ab-843e-89e57089f475",
   "metadata": {},
   "outputs": [
    {
     "name": "stdout",
     "output_type": "stream",
     "text": [
      "\n",
      "A =\n",
      "\n",
      "    0.8143    0.3500    0.6160\n",
      "    0.2435    0.1966    0.4733\n",
      "    0.9293    0.2511    0.3517\n",
      "\n",
      "\n",
      "ans =\n",
      "\n",
      "   99.2239\n",
      "\n",
      "\n",
      "ans =\n",
      "\n",
      "  121.2903\n",
      "\n",
      "\n",
      "ans =\n",
      "\n",
      "  181.1090\n",
      "\n",
      "\n"
     ]
    }
   ],
   "source": [
    "A = rand(3)\n",
    "cond(A)\n",
    "cond(A,1)\n",
    "cond(A, inf)"
   ]
  },
  {
   "cell_type": "markdown",
   "id": "1e12b50c-304c-489d-9abc-ccfcf95d15ff",
   "metadata": {},
   "source": [
    "Check out what happens when we work with really big matrices:"
   ]
  },
  {
   "cell_type": "code",
   "execution_count": 12,
   "id": "a6ca89db-63f8-47d2-9857-854324be818f",
   "metadata": {},
   "outputs": [
    {
     "name": "stdout",
     "output_type": "stream",
     "text": [
      "\n",
      "ans =\n",
      "\n",
      "   2.2607e+03\n",
      "\n",
      "\n"
     ]
    }
   ],
   "source": [
    "A = rand(100);\n",
    "cond(A)"
   ]
  },
  {
   "cell_type": "markdown",
   "id": "eb66ebde-aabc-4ad3-b85e-bc78de6f72bf",
   "metadata": {},
   "source": [
    "This means that bigger matrices are just inherently harder to work with, which is an interesting observation."
   ]
  },
  {
   "cell_type": "markdown",
   "id": "e71733b9-4c6b-492c-942c-355238417f06",
   "metadata": {},
   "source": [
    "## Using the Condition Number to Help With Conditioning\n",
    "\n",
    "> **Example:** $A = \\left[\\begin{array}{cc}8 & 4 \\\\ 2 & 8\\end{array}\\right]$ has a $\\kappa(A) = $ `cond(A)` $\\approx 2.2 \\times 10^0$. Solving $A \\vec x = \\vec b$ for $\\vec b = (4,1)$ gets us $vec x = (0.5,0)$. If we slightly perturb $\\vec b_1 = (4,1.1) \\implies x_1 \\approx (0.4929,0.0143)$. The absolute output error is approximately 0.01597 and the absolute input error is about 0.1. The relative errors are approximately $\\frac{0.1}{\\sqrt{17}} \\approx 0.02425$ and 0.0319 respectively. These values seem to be very close to each other, which is GOOD because it's saying that if we make a small purturbation in the inputs then we get a small purturbation in the output. This means that we have a well-behaved system. "
   ]
  }
 ],
 "metadata": {
  "kernelspec": {
   "display_name": "Matlab",
   "language": "matlab",
   "name": "matlab"
  },
  "language_info": {
   "codemirror_mode": "octave",
   "file_extension": ".m",
   "help_links": [
    {
     "text": "MetaKernel Magics",
     "url": "https://metakernel.readthedocs.io/en/latest/source/README.html"
    }
   ],
   "mimetype": "text/x-octave",
   "name": "matlab",
   "version": "0.16.11"
  }
 },
 "nbformat": 4,
 "nbformat_minor": 5
}
