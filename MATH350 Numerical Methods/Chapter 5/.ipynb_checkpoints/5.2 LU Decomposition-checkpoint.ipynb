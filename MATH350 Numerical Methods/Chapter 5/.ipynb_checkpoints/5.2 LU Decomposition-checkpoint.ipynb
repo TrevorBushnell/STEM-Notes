{
 "cells": [
  {
   "cell_type": "markdown",
   "id": "772fe255",
   "metadata": {},
   "source": [
    "# 5.2: LU Decomposition/Factorization"
   ]
  },
  {
   "cell_type": "markdown",
   "id": "a5cfb4c1",
   "metadata": {},
   "source": [
    "The steps of Gaussian elimination can be \"recorded\" by writing the matrix $A$ as $A = LU$ where $LU$ is a matrix product. Therefore:\n",
    "\n",
    "$$\n",
    "\\left[\n",
    "\\begin{array}{ccc}\n",
    "* & * & *\\\\\n",
    "* & * & * \\\\\n",
    "* & * & *\n",
    "\\end{array}\n",
    "\\right]\n",
    "=\n",
    "\\left[\n",
    "\\begin{array}{ccc}\n",
    "1 & 0 & 0\\\\\n",
    "* & 1 & 0 \\\\\n",
    "* & * & 1\n",
    "\\end{array}\n",
    "\\right]\n",
    "\\left[\n",
    "\\begin{array}{ccc}\n",
    "* & * & *\\\\\n",
    "0 & * & * \\\\\n",
    "0 & 0 & *\n",
    "\\end{array}\n",
    "\\right]\n",
    "$$\n",
    "\n",
    "Note that $U$ is the row-echelon form of $A$.\n",
    "\n",
    "Here's an example to show this off:\n",
    "\n",
    "> **Example: Perform Gaussian elimination on: $\\left[\n",
    "\\begin{array}{cc}\n",
    "4 & 2\\\\\n",
    "3 & 1\n",
    "\\end{array}\n",
    "\\right]$**\n",
    "\n",
    "Start with Gaussian elimination. We notice that $R2=-\\frac{3}{4}R1 + R2$, so we get the following matrix:\n",
    "\n",
    "$$\n",
    "\\left[\n",
    "\\begin{array}{cc}\n",
    "4 & 2\\\\\n",
    "0 & -\\frac{1}{2}\n",
    "\\end{array}\n",
    "\\right]\n",
    "$$\n",
    "\n",
    "This now becomes our matrix $U$. Right now our $L$ matrix looks like this:\n",
    "\n",
    "$$\n",
    "\\left[\n",
    "\\begin{array}{cc}\n",
    "1 & 0\\\\\n",
    "* & 1\n",
    "\\end{array}\n",
    "\\right]\n",
    "$$\n",
    "\n",
    "However, we record the last step we did to get $U$ by looking at the coefficient of the last step, flipping the sign, and recording it in the * spot:\n",
    "\n",
    "$$\n",
    "\\left[\n",
    "\\begin{array}{cc}\n",
    "1 & 0\\\\\n",
    "\\frac{3}{4} & 1\n",
    "\\end{array}\n",
    "\\right]\n",
    "$$"
   ]
  },
  {
   "cell_type": "markdown",
   "id": "4f84b8cb",
   "metadata": {},
   "source": [
    "## LU-Decomposition Algorithm\n",
    "\n",
    "0. Find the LU Decomposition (using Gaussian Elimination) (recall this takes $\\frac{2}{3}n^3$ flops)\n",
    "1. Solve $L \\vec y = \\vec b$ using forward substitution (takes $n^2$ flops)\n",
    "2. Solve $U \\vec x = \\vec y$ (take the solution from the previous step and up it on the right side)\n",
    "\n",
    "Your result should be the same as the $\\vec x$ from $A \\vec x = \\vec b$. Here is why:\n",
    "\n",
    "$$\n",
    "\\begin{aligned}\n",
    "    U\\vec x &= \\vec y\\\\\n",
    "    LU \\vec x &= L\\vec y\\\\\n",
    "    A \\vec x &= \\vec b\n",
    "\\end{aligned}\n",
    "$$\n",
    "\n",
    "This algorithm has runtime complexity $O(n^3)$."
   ]
  },
  {
   "cell_type": "code",
   "execution_count": 2,
   "id": "cb21d031",
   "metadata": {},
   "outputs": [
    {
     "name": "stdout",
     "output_type": "stream",
     "text": [
      "Created file 'C:\\Users\\Trevor\\Home\\STEM-Notes\\MATH350 Numerical Methods\\Chapter 5\\forwardSub.m'.\n"
     ]
    }
   ],
   "source": [
    "%%file forwardSub.m\n",
    "\n",
    "function y = forwardSub(A,b)\n",
    "    n = numel(b);\n",
    "    \n",
    "    y = zeros(n,1);\n",
    "    y(1) = b(1);\n",
    "    \n",
    "    for k = 2:n\n",
    "        y(k) = b(k) - A(k,1:k-1) * y(1:k-1);\n",
    "    end\n",
    "end"
   ]
  },
  {
   "cell_type": "code",
   "execution_count": null,
   "id": "a0e62db6",
   "metadata": {},
   "outputs": [],
   "source": [
    "%%file backwardSub.m\n",
    "\n",
    "function y = backwardSub(A,b)\n",
    "    n = numel(b);\n",
    "    \n",
    "    x = zeros(n,1);\n",
    "    x(n) = \n",
    "end"
   ]
  },
  {
   "cell_type": "code",
   "execution_count": null,
   "id": "0c889f5a",
   "metadata": {},
   "outputs": [],
   "source": [
    "%%file luSolve.m\n",
    "\n",
    "function x = luSolve(A,b)\n",
    "    [L, U] = lu(A);\n",
    "    y = forwardSub(L,b);\n",
    "    x = backwardSub(U,y);\n",
    "end"
   ]
  },
  {
   "cell_type": "code",
   "execution_count": null,
   "id": "6b8306bb",
   "metadata": {},
   "outputs": [],
   "source": [
    "A = [-3 -6 1; 1 -2 0; 3 4 -1];\n",
    "b = rand(3,1);\n",
    "x = luSolve(A,b)\n",
    "residual = norm(A*x - b)"
   ]
  },
  {
   "cell_type": "markdown",
   "id": "d2a5bf09",
   "metadata": {},
   "source": [
    "## Gauss-Jordan Elimination\n",
    "\n",
    "In Gaus-Jordan elimination, you keep doing row operations until your matrix $A$ is in \"reduced row echelon form\", as seen below:\n",
    "\n",
    "$$\n",
    "\\left[\n",
    "\\begin{array}{cccc}\n",
    "    * & 0 & 0 & 0\\\\\n",
    "    0 & * & 0 & 0\\\\\n",
    "    0 & 0 & * & 0\\\\\n",
    "    0 & 0 & 0 & *\n",
    "\\end{array}\n",
    "\\right]\n",
    "$$\n",
    "\n",
    "This will skip the forward and backward substitution steps, but this will take $n^3 + O(n^2)$ flops. As such, this algorithm takes longer to run compared to regular Gaussian elimination which takes $\\frac{2}{3}n^3 + O(n^2)$ flops."
   ]
  },
  {
   "cell_type": "markdown",
   "id": "9092fad1",
   "metadata": {},
   "source": [
    "## Solving Linear Systems With Inverse Matrices\n",
    "\n",
    "Can we solve $A \\vec x = \\vec b$ using $\\vec x = A^{-1}\\vec b$? Well we can find $A^{-1}$ by solving $AA^{-1}=I$. As such, we get $A\\left[\\begin{array}{cccc}\\vec x_1 & \\vec x_2 & \\cdots & \\vec x_n\\end{array}\\right]=\\left[\\begin{array}{cccc}\\vec e_1 & \\vec e_2 & \\cdots & \\vec e_n\\end{array}\\right]$. This is really a system of systems of equations. So if we have already found $A=LU$, then each equation takes $2n^2$ flops which means that the total flops for this entire process is $\\frac{2}{3}n^3+2n^2+n^2=\\frac{8}{3}n^3+n^2$, which is **4 TIMES WORSE** than normal Guassian elimination."
   ]
  }
 ],
 "metadata": {
  "kernelspec": {
   "display_name": "Matlab",
   "language": "matlab",
   "name": "matlab"
  },
  "language_info": {
   "codemirror_mode": "octave",
   "file_extension": ".m",
   "help_links": [
    {
     "text": "MetaKernel Magics",
     "url": "https://metakernel.readthedocs.io/en/latest/source/README.html"
    }
   ],
   "mimetype": "text/x-octave",
   "name": "matlab",
   "version": "0.16.11"
  }
 },
 "nbformat": 4,
 "nbformat_minor": 5
}
