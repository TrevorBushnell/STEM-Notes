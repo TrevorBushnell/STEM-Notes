{
 "cells": [
  {
   "cell_type": "markdown",
   "id": "edf02e8c-1cd7-4e02-90fb-5b947c856c97",
   "metadata": {},
   "source": [
    "# 6.1: Least Squares & the Normal Equations"
   ]
  },
  {
   "cell_type": "markdown",
   "id": "4f27839a-71b1-42a2-af52-607f7281beef",
   "metadata": {},
   "source": [
    "Suppose we want to solve $A \\vec x = \\vec b$ where $A$ is $m \\times n$, $m>n$ (more equations than unknowns $\\implies$ **overdetermined system**). This is what the system would look like:\n",
    "\n",
    "$$\n",
    "\\begin{aligned}\n",
    "    A &= \\left[\\begin{array}{cccc}a_{11} & a_{12} & \\cdots & a_{1n}\\\\a_{21} & a_{22} & & \\\\\\cdots\\\\a_{m1} & & & a_{mn}\\end{array}\\right]\\\\\n",
    "    \\vec x &= [x_1 \\:\\:x_2\\:\\:\\cdots\\:x_n]^T\\\\\n",
    "    \\vec b &= [b_1\\:\\:b_2\\:\\:\\cdots\\:\\:b_n]^T\n",
    "\\end{aligned}\n",
    "$$\n",
    "\n",
    "Assume that the columns of $A$ are linearly independent (so $A$ has full column rank, $\\text{rank}(A) = n$). Usually, we can't find a solution $\\vec x$ that works exactly, so we hope to minimize $||\\vec r|| = ||\\vec b - A \\vec x||$. As such, we are actually solving $\\min_{\\vec x}||\\vec b - A \\vec x||$. For convenience, we square the norm (which in turns cleans the square root) and multiply by $\\frac{1}{2}$ (gets rid of some constants later). This means that we want to find the absolute minimum of the function $\\Psi(x_1, x_2, ..., x_n) = \\Psi(\\vec x) = \\frac{1}{2}||\\vec b - A \\vec x||^2$. This means that we need to find $\\frac{\\partial}{\\partial x_n} \\vec x = 0$ for each component. Let's do some simplifying (NOTE: Calc III content coming in!!!!)\n",
    "\n",
    "$$\n",
    "\\begin{aligned}\n",
    "    b\n",
    "\\end{aligned}\n",
    "$$"
   ]
  },
  {
   "cell_type": "markdown",
   "id": "73d9d6e2-0dfc-4d8f-819f-13f4df5a443f",
   "metadata": {},
   "source": [
    "## Least-Squares Algorithm\n",
    "\n",
    "1. Form $B = A^TA$ and $\\vec y = A^T\\vec b$ (takes $m \\cdot n^2$ flops)\n",
    "2. Find the Colesky Factor $G$ (lower triangular) such that $B = GG^T$ (takes $\\frac{1}{3}n^3 + O(n^2)$ flops)\n",
    "3. Solve the system $G \\vec z = \\vec y$ for $\\vec z$ (takes $O(n^2)$ flops)\n",
    "4. Solve $G^T \\vec x = \\vec z$ for $\\vec x$ where $\\vec x$ is the solution that minimizes $\\min_{\\vec x}||\\vec b - A \\vec x||$ (takes $O(n^2$ flops)\n",
    "\n",
    "You could also compute $\\vec x = B^{-1} \\vec y = (A^TA)^{-1}(A^T\\vec b)$ where $(A^TA)^{-1}$ is the pseudo inverse of $A$."
   ]
  },
  {
   "cell_type": "markdown",
   "id": "e9e018af-eaff-47e7-8809-b2f3394d441f",
   "metadata": {},
   "source": [
    "## Least Squares & Data Fitting\n",
    "\n",
    "> **Hooke's Law:** the force $F$ needed to stretch a spring of length $\\ell$ to a distance $t$ is:\n",
    "> $$F(t) = k(t-\\ell)$$\n",
    "> where $k$ is the spring constant (it is always positive and is a material property of the spring)\n",
    "\n",
    "Let's say that we go into the lab to figure out the $k$ of a mystery sping. For a spring of $\\ell = 0.1$ meters, we apply forces of $F_i = \\{1,1.5,2,2.5,\\cdots,10\\}$ Newtons and we measure the resulting stretched distances $t_i$. Let's try simulating this in MATLAB:"
   ]
  },
  {
   "cell_type": "code",
   "execution_count": 4,
   "id": "522ca355-2b94-4b6c-a9a5-4fc2566954bf",
   "metadata": {},
   "outputs": [
    {
     "name": "stdout",
     "output_type": "stream",
     "text": [
      "\n"
     ]
    },
    {
     "data": {
      "image/png": "[encoded data removed]",
      "text/plain": [
       "<IPython.core.display.Image object>"
      ]
     },
     "metadata": {},
     "output_type": "display_data"
    }
   ],
   "source": [
    "% NOTE: This code will correspond with code for HW8\n",
    "\n",
    "F = 1:0.5:10; % measured forces\n",
    "l = 0.1; % length of spring\n",
    "k = 2; % spring constant (unknown)\n",
    "\n",
    "noise = 0.1 * randn(size(F));\n",
    "\n",
    "t = (F + k*l)/k + noise;\n",
    "\n",
    "plot(t,F,'o', (F + k*l)/k,F)"
   ]
  },
  {
   "cell_type": "markdown",
   "id": "c9bceadb-a76b-49bc-b9b0-c4e094806d27",
   "metadata": {},
   "source": [
    "**IN GENERAL:** Suppose that we have a set of noisy data $\\{(t_i, b_i)\\}_{i=1}^m$ and we suspect the data can be modeled by a function $v(t)$. We then want to minimize the sum of the squares of the errors of the data points from the best fit line. The area of the $i^{th}$ square is $e_i^2 = |b_i - v(t_i)|^2$ and the sum of all the squares is $\\sum_{i=1}^m |b_i - v(t_i)|^2$. \n",
    "\n",
    "Let $\\vec b = [b_1\\:\\:b_2\\:\\:\\cdots\\:\\:b_m]^T$. Then $\\vec v(t) = [x_1+x_2t_1\\:\\:x_1+x_2t_2\\:\\:\\cdots\\:\\:x_1+x_2t_m]^T$. Then we get that:\n",
    "\n",
    "![A](A.png)"
   ]
  },
  {
   "cell_type": "markdown",
   "id": "ab719759-de16-436c-af66-2139e6f3d8bb",
   "metadata": {},
   "source": [
    "## What if the Noise is NOT Linear?\n",
    "\n",
    "For a general polynomial $v(t) = x_1 + x_2t + x_3t^2 + \\cdots + x_nt^{n-1}$, then the Vandermonde Matrix $A$ is the first column being 1s, the second column being the $t_m$'s, the third column is the $t_m^2$'s, etc. etc. until the final column is $t_m^{n-1}$'s. This means that the resulting $\\vec x$ vector has $n$ entries, but the rest of the stuff still applies.\n",
    "\n",
    "This is still called a Linear Least Squares algorithm because this still uses linear algebra to solve this."
   ]
  }
 ],
 "metadata": {
  "kernelspec": {
   "display_name": "Matlab",
   "language": "matlab",
   "name": "matlab"
  },
  "language_info": {
   "codemirror_mode": "octave",
   "file_extension": ".m",
   "help_links": [
    {
     "text": "MetaKernel Magics",
     "url": "https://metakernel.readthedocs.io/en/latest/source/README.html"
    }
   ],
   "mimetype": "text/x-octave",
   "name": "matlab",
   "version": "0.16.11"
  }
 },
 "nbformat": 4,
 "nbformat_minor": 5
}
