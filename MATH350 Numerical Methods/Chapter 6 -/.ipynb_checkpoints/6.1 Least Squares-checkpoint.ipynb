{
 "cells": [
  {
   "cell_type": "markdown",
   "id": "edf02e8c-1cd7-4e02-90fb-5b947c856c97",
   "metadata": {},
   "source": [
    "# 6.1: Least Squares & the Normal Equations"
   ]
  },
  {
   "cell_type": "markdown",
   "id": "4f27839a-71b1-42a2-af52-607f7281beef",
   "metadata": {},
   "source": [
    "Suppose we want to solve $A \\vec x = \\vec b$ where $A$ is $m \\times n$, $m>n$ (more equations than unknowns $\\implies$ **overdetermined system**). This is what the system would look like:\n",
    "\n",
    "$$\n",
    "\\begin{aligned}\n",
    "    A &= \\left[\\begin{array}{cccc}a_{11} & a_{12} & \\cdots & a_{1n}\\\\a_{21} & a_{22} & & \\\\\\cdots\\\\a_{m1} & & & a_{mn}\\end{array}\\right]\\\\\n",
    "    \\vec x &= [x_1 \\:\\:x_2\\:\\:\\cdots\\:x_n]^T\\\\\n",
    "    \\vec b &= [b_1\\:\\:b_2\\:\\:\\cdots\\:\\:b_n]^T\n",
    "\\end{aligned}\n",
    "$$\n",
    "\n",
    "Assume that the columns of $A$ are linearly independent (so $A$ has full column rank, $\\text{rank}(A) = n$). Usually, we can't find a solution $\\vec x$ that works exactly, so we hope to minimize $||\\vec r|| = ||\\vec b - A \\vec x||$. As such, we are actually solving $\\min_{\\vec x}||\\vec b - A \\vec x||$. For convenience, we square the norm (which in turns cleans the square root) and multiply by $\\frac{1}{2}$ (gets rid of some constants later). This means that we want to find the absolute minimum of the function $\\Psi(x_1, x_2, ..., x_n) = \\Psi(\\vec x) = \\frac{1}{2}||\\vec b - A \\vec x||^2$. This means that we need to find $\\frac{\\partial}{\\partial x_n} \\vec x = 0$ for each component. Let's do some simplifying (NOTE: Calc III content coming in!!!!)\n",
    "\n",
    "$$\n",
    "\\begin{aligned}\n",
    "    b\n",
    "\\end{aligned}\n",
    "$$"
   ]
  }
 ],
 "metadata": {
  "kernelspec": {
   "display_name": "Matlab",
   "language": "matlab",
   "name": "matlab"
  },
  "language_info": {
   "codemirror_mode": "octave",
   "file_extension": ".m",
   "help_links": [
    {
     "text": "MetaKernel Magics",
     "url": "https://metakernel.readthedocs.io/en/latest/source/README.html"
    }
   ],
   "mimetype": "text/x-octave",
   "name": "matlab",
   "version": "0.16.11"
  }
 },
 "nbformat": 4,
 "nbformat_minor": 5
}
