{
 "cells": [
  {
   "cell_type": "markdown",
   "id": "bb7a81aa-27b7-4304-9955-18b500fe18d5",
   "metadata": {},
   "source": [
    "# R Introduction"
   ]
  },
  {
   "cell_type": "markdown",
   "id": "3322e969-6e3e-4380-95f5-cb1081e72247",
   "metadata": {},
   "source": [
    "## Combinatorics and Counting\n",
    "\n",
    "Factorial to get $n!$ - `factorial(n)` where `n` is the number you want to take the factorial of:"
   ]
  },
  {
   "cell_type": "code",
   "execution_count": 1,
   "id": "71d7f94f-85fe-4d8a-8133-4d504e30353c",
   "metadata": {},
   "outputs": [
    {
     "data": {
      "text/html": [
       "120"
      ],
      "text/latex": [
       "120"
      ],
      "text/markdown": [
       "120"
      ],
      "text/plain": [
       "[1] 120"
      ]
     },
     "metadata": {},
     "output_type": "display_data"
    }
   ],
   "source": [
    "factorial(5)"
   ]
  },
  {
   "cell_type": "markdown",
   "id": "8c26b15c-7405-44cc-ae5e-27c5c3614cab",
   "metadata": {},
   "source": [
    "$\\binom{n}{k}$ - `choose(n,k)` where `n` is total number of things and `k` is the number of things you are choosing:"
   ]
  },
  {
   "cell_type": "code",
   "execution_count": 2,
   "id": "b6205ac2-be7c-4798-b151-2e6f84475eb5",
   "metadata": {},
   "outputs": [
    {
     "data": {
      "text/html": [
       "10"
      ],
      "text/latex": [
       "10"
      ],
      "text/markdown": [
       "10"
      ],
      "text/plain": [
       "[1] 10"
      ]
     },
     "metadata": {},
     "output_type": "display_data"
    }
   ],
   "source": [
    "choose(5,3)"
   ]
  },
  {
   "cell_type": "markdown",
   "id": "15dd7926-cf04-4bd0-9858-066a65e8c65c",
   "metadata": {},
   "source": [
    "$P_n^k$ - permutations, call `choose(n,k)` and then multiply by `factorial(k)`:"
   ]
  },
  {
   "cell_type": "code",
   "execution_count": 3,
   "id": "6438b4ce-fd8f-46b9-b3f6-560b4f3c9600",
   "metadata": {},
   "outputs": [
    {
     "data": {
      "text/html": [
       "60"
      ],
      "text/latex": [
       "60"
      ],
      "text/markdown": [
       "60"
      ],
      "text/plain": [
       "[1] 60"
      ]
     },
     "metadata": {},
     "output_type": "display_data"
    }
   ],
   "source": [
    "choose(5,3)*factorial(3)"
   ]
  },
  {
   "cell_type": "markdown",
   "id": "e81effed-400c-4339-a501-c091724b45aa",
   "metadata": {},
   "source": [
    "Distinguishable permutation, i.e. $\\binom{n}{n_1, n_2, ..., n_k}$, you will need to import the `iterpc` package:"
   ]
  },
  {
   "cell_type": "code",
   "execution_count": 6,
   "id": "7e4b2f70-22a7-4964-a2fd-39521883883e",
   "metadata": {},
   "outputs": [
    {
     "name": "stderr",
     "output_type": "stream",
     "text": [
      "Warning message:\n",
      "\"package 'iterpc' is in use and will not be installed\"\n"
     ]
    },
    {
     "data": {
      "text/html": [
       "2520"
      ],
      "text/latex": [
       "2520"
      ],
      "text/markdown": [
       "2520"
      ],
      "text/plain": [
       "[1] 2520"
      ]
     },
     "metadata": {},
     "output_type": "display_data"
    }
   ],
   "source": [
    "#NOTE: not working and still confused on some things\n",
    "\n",
    "install.packages(\"iterpc\")\n",
    "library(iterpc)\n",
    "multichoose(c(5,3,2))"
   ]
  },
  {
   "cell_type": "markdown",
   "id": "31b15936-7c53-4a97-96a3-5afa31a5248e",
   "metadata": {},
   "source": [
    "## Sampling From a Set (w/ and w/o replacement)\n",
    "\n",
    "Randomly sampling $k$ times from $\\mathbb{N}$:"
   ]
  },
  {
   "cell_type": "code",
   "execution_count": 11,
   "id": "6c523183-85cf-43f6-83cb-1be2b64d8fc1",
   "metadata": {},
   "outputs": [
    {
     "data": {
      "text/html": [
       "<style>\n",
       ".list-inline {list-style: none; margin:0; padding: 0}\n",
       ".list-inline>li {display: inline-block}\n",
       ".list-inline>li:not(:last-child)::after {content: \"\\00b7\"; padding: 0 .5ex}\n",
       "</style>\n",
       "<ol class=list-inline><li>3</li><li>3</li><li>6</li><li>1</li><li>2</li><li>2</li><li>4</li><li>1</li><li>5</li><li>5</li></ol>\n"
      ],
      "text/latex": [
       "\\begin{enumerate*}\n",
       "\\item 3\n",
       "\\item 3\n",
       "\\item 6\n",
       "\\item 1\n",
       "\\item 2\n",
       "\\item 2\n",
       "\\item 4\n",
       "\\item 1\n",
       "\\item 5\n",
       "\\item 5\n",
       "\\end{enumerate*}\n"
      ],
      "text/markdown": [
       "1. 3\n",
       "2. 3\n",
       "3. 6\n",
       "4. 1\n",
       "5. 2\n",
       "6. 2\n",
       "7. 4\n",
       "8. 1\n",
       "9. 5\n",
       "10. 5\n",
       "\n",
       "\n"
      ],
      "text/plain": [
       " [1] 3 3 6 1 2 2 4 1 5 5"
      ]
     },
     "metadata": {},
     "output_type": "display_data"
    },
    {
     "data": {
      "text/html": [
       "<style>\n",
       ".list-inline {list-style: none; margin:0; padding: 0}\n",
       ".list-inline>li {display: inline-block}\n",
       ".list-inline>li:not(:last-child)::after {content: \"\\00b7\"; padding: 0 .5ex}\n",
       "</style>\n",
       "<ol class=list-inline><li>2</li><li>4</li><li>3</li></ol>\n"
      ],
      "text/latex": [
       "\\begin{enumerate*}\n",
       "\\item 2\n",
       "\\item 4\n",
       "\\item 3\n",
       "\\end{enumerate*}\n"
      ],
      "text/markdown": [
       "1. 2\n",
       "2. 4\n",
       "3. 3\n",
       "\n",
       "\n"
      ],
      "text/plain": [
       "[1] 2 4 3"
      ]
     },
     "metadata": {},
     "output_type": "display_data"
    }
   ],
   "source": [
    "# Example: Rolling a die 10 times and seeing the results\n",
    "\n",
    "sample(1:6, 10, replace=TRUE) # With replacement\n",
    "sample(1:6, 3, replace=FALSE) # Without replacement (once a number is rolled you can't get that number again)"
   ]
  },
  {
   "cell_type": "markdown",
   "id": "6ed72cf3-3202-4208-8a24-1026d4be2db0",
   "metadata": {},
   "source": [
    "You are able to sample from any list that you provide:"
   ]
  },
  {
   "cell_type": "code",
   "execution_count": 12,
   "id": "8d32fea3-f38a-4251-8b46-b446b47ee3fd",
   "metadata": {},
   "outputs": [
    {
     "data": {
      "text/html": [
       "<style>\n",
       ".list-inline {list-style: none; margin:0; padding: 0}\n",
       ".list-inline>li {display: inline-block}\n",
       ".list-inline>li:not(:last-child)::after {content: \"\\00b7\"; padding: 0 .5ex}\n",
       "</style>\n",
       "<ol class=list-inline><li>'5'</li><li>'blue'</li><li>'red'</li><li>'blue'</li><li>'1'</li></ol>\n"
      ],
      "text/latex": [
       "\\begin{enumerate*}\n",
       "\\item '5'\n",
       "\\item 'blue'\n",
       "\\item 'red'\n",
       "\\item 'blue'\n",
       "\\item '1'\n",
       "\\end{enumerate*}\n"
      ],
      "text/markdown": [
       "1. '5'\n",
       "2. 'blue'\n",
       "3. 'red'\n",
       "4. 'blue'\n",
       "5. '1'\n",
       "\n",
       "\n"
      ],
      "text/plain": [
       "[1] \"5\"    \"blue\" \"red\"  \"blue\" \"1\"   "
      ]
     },
     "metadata": {},
     "output_type": "display_data"
    }
   ],
   "source": [
    "S <- c(\"red\", \"blue\", 1:10) # the list we sample from is the numbers 1-10 and the word red and the word blue\n",
    "sample(S, 5, replace=TRUE)"
   ]
  },
  {
   "cell_type": "markdown",
   "id": "d014a1fa-40e7-40dd-98c9-59bd53408e76",
   "metadata": {},
   "source": [
    "Note that in the above example, these are technically ordered draws (so blue was draw #2 and draw #4)."
   ]
  },
  {
   "cell_type": "markdown",
   "id": "e2721ef6-0701-40c8-92a6-2c1a34755b00",
   "metadata": {},
   "source": [
    "## Flipping a Coin\n",
    "\n",
    "Here is code to simulate 10 flips of a fair coin:"
   ]
  },
  {
   "cell_type": "code",
   "execution_count": 13,
   "id": "aee3ee32-313b-4c2a-9a2e-eed2f93ea05b",
   "metadata": {},
   "outputs": [
    {
     "data": {
      "text/html": [
       "<style>\n",
       ".list-inline {list-style: none; margin:0; padding: 0}\n",
       ".list-inline>li {display: inline-block}\n",
       ".list-inline>li:not(:last-child)::after {content: \"\\00b7\"; padding: 0 .5ex}\n",
       "</style>\n",
       "<ol class=list-inline><li>'T'</li><li>'T'</li><li>'H'</li><li>'H'</li><li>'T'</li><li>'H'</li><li>'H'</li><li>'T'</li><li>'H'</li><li>'T'</li></ol>\n"
      ],
      "text/latex": [
       "\\begin{enumerate*}\n",
       "\\item 'T'\n",
       "\\item 'T'\n",
       "\\item 'H'\n",
       "\\item 'H'\n",
       "\\item 'T'\n",
       "\\item 'H'\n",
       "\\item 'H'\n",
       "\\item 'T'\n",
       "\\item 'H'\n",
       "\\item 'T'\n",
       "\\end{enumerate*}\n"
      ],
      "text/markdown": [
       "1. 'T'\n",
       "2. 'T'\n",
       "3. 'H'\n",
       "4. 'H'\n",
       "5. 'T'\n",
       "6. 'H'\n",
       "7. 'H'\n",
       "8. 'T'\n",
       "9. 'H'\n",
       "10. 'T'\n",
       "\n",
       "\n"
      ],
      "text/plain": [
       " [1] \"T\" \"T\" \"H\" \"H\" \"T\" \"H\" \"H\" \"T\" \"H\" \"T\""
      ]
     },
     "metadata": {},
     "output_type": "display_data"
    }
   ],
   "source": [
    "sample(c(\"H\", \"T\"), 10, replace=TRUE)"
   ]
  },
  {
   "cell_type": "markdown",
   "id": "2131ec2e-65a7-4ed2-86cb-187655a79561",
   "metadata": {},
   "source": [
    "If you want to specify the probabilities for a biased coin with $P(H) = p$ and $P(T) = 1 - p$:"
   ]
  },
  {
   "cell_type": "code",
   "execution_count": 15,
   "id": "19550ae2-f0aa-4d2b-96fc-34d112cf3986",
   "metadata": {},
   "outputs": [
    {
     "data": {
      "text/html": [
       "<style>\n",
       ".list-inline {list-style: none; margin:0; padding: 0}\n",
       ".list-inline>li {display: inline-block}\n",
       ".list-inline>li:not(:last-child)::after {content: \"\\00b7\"; padding: 0 .5ex}\n",
       "</style>\n",
       "<ol class=list-inline><li>'H'</li><li>'H'</li><li>'H'</li><li>'T'</li><li>'H'</li><li>'H'</li><li>'H'</li><li>'H'</li><li>'H'</li><li>'H'</li></ol>\n"
      ],
      "text/latex": [
       "\\begin{enumerate*}\n",
       "\\item 'H'\n",
       "\\item 'H'\n",
       "\\item 'H'\n",
       "\\item 'T'\n",
       "\\item 'H'\n",
       "\\item 'H'\n",
       "\\item 'H'\n",
       "\\item 'H'\n",
       "\\item 'H'\n",
       "\\item 'H'\n",
       "\\end{enumerate*}\n"
      ],
      "text/markdown": [
       "1. 'H'\n",
       "2. 'H'\n",
       "3. 'H'\n",
       "4. 'T'\n",
       "5. 'H'\n",
       "6. 'H'\n",
       "7. 'H'\n",
       "8. 'H'\n",
       "9. 'H'\n",
       "10. 'H'\n",
       "\n",
       "\n"
      ],
      "text/plain": [
       " [1] \"H\" \"H\" \"H\" \"T\" \"H\" \"H\" \"H\" \"H\" \"H\" \"H\""
      ]
     },
     "metadata": {},
     "output_type": "display_data"
    }
   ],
   "source": [
    "sample(c(\"H\", \"T\"), 10, replace=TRUE, prob=c(0.8,1-0.8)) # or just write 0.2"
   ]
  },
  {
   "cell_type": "markdown",
   "id": "8ef6b569-bf7b-4e24-9554-d839ab9bfd85",
   "metadata": {},
   "source": [
    "## Drawing Balls from Urns\n",
    "\n",
    "Suppose we had an urn with 5 red, 7 blue, and 8 green balls and we wish to draw 5 out randomly. Then we could write this simulation:"
   ]
  },
  {
   "cell_type": "code",
   "execution_count": 16,
   "id": "35ebc61c-5ea2-4b4c-86c9-439393ba466d",
   "metadata": {},
   "outputs": [
    {
     "data": {
      "text/html": [
       "<style>\n",
       ".list-inline {list-style: none; margin:0; padding: 0}\n",
       ".list-inline>li {display: inline-block}\n",
       ".list-inline>li:not(:last-child)::after {content: \"\\00b7\"; padding: 0 .5ex}\n",
       "</style>\n",
       "<ol class=list-inline><li>'G'</li><li>'B'</li><li>'G'</li><li>'B'</li><li>'B'</li></ol>\n"
      ],
      "text/latex": [
       "\\begin{enumerate*}\n",
       "\\item 'G'\n",
       "\\item 'B'\n",
       "\\item 'G'\n",
       "\\item 'B'\n",
       "\\item 'B'\n",
       "\\end{enumerate*}\n"
      ],
      "text/markdown": [
       "1. 'G'\n",
       "2. 'B'\n",
       "3. 'G'\n",
       "4. 'B'\n",
       "5. 'B'\n",
       "\n",
       "\n"
      ],
      "text/plain": [
       "[1] \"G\" \"B\" \"G\" \"B\" \"B\""
      ]
     },
     "metadata": {},
     "output_type": "display_data"
    },
    {
     "data": {
      "text/html": [
       "<style>\n",
       ".list-inline {list-style: none; margin:0; padding: 0}\n",
       ".list-inline>li {display: inline-block}\n",
       ".list-inline>li:not(:last-child)::after {content: \"\\00b7\"; padding: 0 .5ex}\n",
       "</style>\n",
       "<ol class=list-inline><li>'R'</li><li>'R'</li><li>'R'</li><li>'B'</li><li>'B'</li></ol>\n"
      ],
      "text/latex": [
       "\\begin{enumerate*}\n",
       "\\item 'R'\n",
       "\\item 'R'\n",
       "\\item 'R'\n",
       "\\item 'B'\n",
       "\\item 'B'\n",
       "\\end{enumerate*}\n"
      ],
      "text/markdown": [
       "1. 'R'\n",
       "2. 'R'\n",
       "3. 'R'\n",
       "4. 'B'\n",
       "5. 'B'\n",
       "\n",
       "\n"
      ],
      "text/plain": [
       "[1] \"R\" \"R\" \"R\" \"B\" \"B\""
      ]
     },
     "metadata": {},
     "output_type": "display_data"
    }
   ],
   "source": [
    "sample(c(rep(\"R\", 5), rep(\"B\", 7), rep(\"G\", 8)), 5, replace=TRUE) # with replacement\n",
    "sample(c(rep(\"R\", 5), rep(\"B\", 7), rep(\"G\", 8)), 5, replace=FALSE) # without replacement"
   ]
  },
  {
   "cell_type": "markdown",
   "id": "26dc061b-e1e4-461e-a79d-885b13940799",
   "metadata": {},
   "source": [
    "Now say that we want to experimentally test if our analytical probability calculation is correct. Suppose given the setup above that we want to calculate the probability that our drawing of 5 balls without replacement consists of exactly 2 red balls. Then:\n",
    "\n",
    "$$\n",
    "    P(\\text{exactly 2 red}) = \\frac{\\binom{5}{2}\\binom{15}{3}}{\\binom{20}{5}} = \\frac{2275}{7752} \\approx 0.29347265221878227\n",
    "$$\n",
    "\n",
    "And we can write the code to experimentally test this calculation as follows:"
   ]
  },
  {
   "cell_type": "code",
   "execution_count": 20,
   "id": "1f79fb39-a671-43f7-9505-7b268dc3d365",
   "metadata": {},
   "outputs": [
    {
     "data": {
      "text/html": [
       "0.2936"
      ],
      "text/latex": [
       "0.2936"
      ],
      "text/markdown": [
       "0.2936"
      ],
      "text/plain": [
       "[1] 0.2936"
      ]
     },
     "metadata": {},
     "output_type": "display_data"
    },
    {
     "data": {
      "text/html": [
       "0.293472652218782"
      ],
      "text/latex": [
       "0.293472652218782"
      ],
      "text/markdown": [
       "0.293472652218782"
      ],
      "text/plain": [
       "[1] 0.2934727"
      ]
     },
     "metadata": {},
     "output_type": "display_data"
    }
   ],
   "source": [
    "tot.num.draws <- 10^5\n",
    "num.drawn <- 5\n",
    "num.drawn.R <- 2\n",
    "num.R <- numeric()\n",
    "num.B <- numeric()\n",
    "num.G <- numeric()\n",
    "\n",
    "for (k in 1:tot.num.draws)\n",
    "{\n",
    "    x <- sample(c(rep(\"R\", 5), rep(\"B\", 7), rep(\"G\", 8)), 5, replace=FALSE); # without replacement\n",
    "    num.R[k] <- sum(x==\"R\")\n",
    "    num.B[k] <- sum(x==\"B\")\n",
    "    num.G[k] <- sum(x==\"G\")\n",
    "}\n",
    "\n",
    "sum(num.R==2)/tot.num.draws  # experimental probability\n",
    "choose(5, num.drawn.R) * choose(15, num.drawn-num.drawn.R) / choose(20, num.drawn) # analytical probability"
   ]
  },
  {
   "cell_type": "markdown",
   "id": "43f2dff7-2b41-4d61-8cd9-da93313a298a",
   "metadata": {},
   "source": [
    "Since our simulated probabiliity is very close to our theoretical probability, this can make us more convinced that our theoretical probability is correct."
   ]
  },
  {
   "cell_type": "markdown",
   "id": "3a079700-d98e-4391-b6d3-8c05529ed73d",
   "metadata": {},
   "source": [
    "## Tossing Balls into Bins\n",
    "\n",
    "Tossing (indistinguishable) balls into (distinguishable) bins can be conceptualized as sampling with replacement from the list of bins. Suppose we have $k$ balls and $n$ bins. We can simulate this process using:\n",
    "\n",
    "`x <- sample(1:n, k, replace=TRUE)`\n",
    "\n",
    "We'll toss 10 balls into 7 bins and analyze the random outcome. This will store the specific sequence of tosses in variable `x`. We can then print `x` to see the result of the experiment:"
   ]
  },
  {
   "cell_type": "code",
   "execution_count": 23,
   "id": "136a0b38-3ba3-459a-95d0-475edce5f658",
   "metadata": {},
   "outputs": [
    {
     "data": {
      "text/html": [
       "<style>\n",
       ".list-inline {list-style: none; margin:0; padding: 0}\n",
       ".list-inline>li {display: inline-block}\n",
       ".list-inline>li:not(:last-child)::after {content: \"\\00b7\"; padding: 0 .5ex}\n",
       "</style>\n",
       "<ol class=list-inline><li>4</li><li>4</li><li>3</li><li>7</li><li>6</li><li>3</li><li>2</li><li>3</li><li>1</li><li>4</li></ol>\n"
      ],
      "text/latex": [
       "\\begin{enumerate*}\n",
       "\\item 4\n",
       "\\item 4\n",
       "\\item 3\n",
       "\\item 7\n",
       "\\item 6\n",
       "\\item 3\n",
       "\\item 2\n",
       "\\item 3\n",
       "\\item 1\n",
       "\\item 4\n",
       "\\end{enumerate*}\n"
      ],
      "text/markdown": [
       "1. 4\n",
       "2. 4\n",
       "3. 3\n",
       "4. 7\n",
       "5. 6\n",
       "6. 3\n",
       "7. 2\n",
       "8. 3\n",
       "9. 1\n",
       "10. 4\n",
       "\n",
       "\n"
      ],
      "text/plain": [
       " [1] 4 4 3 7 6 3 2 3 1 4"
      ]
     },
     "metadata": {},
     "output_type": "display_data"
    }
   ],
   "source": [
    "x <- sample(1:7, 10, replace=TRUE)\n",
    "x"
   ]
  },
  {
   "cell_type": "markdown",
   "id": "e218590a-6711-4c8b-8266-8c50647d92f4",
   "metadata": {},
   "source": [
    "This means that ball 1 when into bin 2, ball 2 went into bin 6, etc. As such, `x` contains the ordered info about each ball toss. If we want to knokw the number of balls in each bin then we can run:"
   ]
  },
  {
   "cell_type": "code",
   "execution_count": 24,
   "id": "4417baeb-cf66-4224-91ce-33ee86b2d21f",
   "metadata": {},
   "outputs": [
    {
     "data": {
      "text/plain": [
       "x\n",
       "1 2 3 4 6 7 \n",
       "1 1 3 3 1 1 "
      ]
     },
     "metadata": {},
     "output_type": "display_data"
    }
   ],
   "source": [
    "table(x)"
   ]
  },
  {
   "cell_type": "markdown",
   "id": "c78bcc92-35e8-4c05-9026-a2ad06f1e454",
   "metadata": {},
   "source": [
    "Note that the first row is the bin labels and the bottom row is the number of balls in each of the bins. Note that if no balls ended up in a bin, the bin won't be listed in the table.\n",
    "\n",
    "\n",
    "Here is code for counting the number of bins with specified numbers of balls and comparing the simulated and theoretical probabilities. This is tossing 7 balls into 4 bins, and we wish to calculate the probability that two bins have 2 balls each and one bin has 3 balls. This will need the `iterpc` library so that we can use `multichoose()`. The code is as follows:"
   ]
  },
  {
   "cell_type": "code",
   "execution_count": null,
   "id": "e5c43f3d-dc81-4851-833b-2623a917d5dc",
   "metadata": {},
   "outputs": [],
   "source": [
    "library(iterpc)\n",
    "n <- 4 # bins\n",
    "k <- 7 # balls\n",
    "ball.count <- c(\"2\", \"3\") # number of balls in individual bins\n",
    "bin.count <- c(2,1) # number of bins with the above quantities of balls\n",
    "\n",
    "count <- 0\n",
    "Nsim <- 10^4\n",
    "\n",
    "for (j in 1:Nsim)\n",
    "{\n",
    "    x <- sample(1:n, k, replace=TRUE)\n",
    "    table(x)\n",
    "    nballs <- names(table(x))\n",
    "    nbins <- as.numeric(table(table(x)))\n",
    "    \n",
    "    if (sum(nballs == ball.count)==length(ball.count) && sum(nballs != ball.count))\n",
    "}"
   ]
  }
 ],
 "metadata": {
  "kernelspec": {
   "display_name": "R",
   "language": "R",
   "name": "ir"
  },
  "language_info": {
   "codemirror_mode": "r",
   "file_extension": ".r",
   "mimetype": "text/x-r-source",
   "name": "R",
   "pygments_lexer": "r",
   "version": "4.1.1"
  }
 },
 "nbformat": 4,
 "nbformat_minor": 5
}
