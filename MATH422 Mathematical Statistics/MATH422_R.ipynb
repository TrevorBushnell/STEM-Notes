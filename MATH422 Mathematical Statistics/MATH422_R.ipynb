{
 "cells": [
  {
   "cell_type": "markdown",
   "metadata": {},
   "source": [
    "# R Code Examples for MATH422: Mathematical Statistics\n",
    "\n",
    "This notebook contains example code for various actions performed in MATH422."
   ]
  },
  {
   "cell_type": "markdown",
   "metadata": {},
   "source": [
    "## Probability Distributions\n",
    "\n",
    "For probability distributions, the pmf/pdf is receded by the `d` character and the cdf is preceded by the `p` character."
   ]
  },
  {
   "cell_type": "markdown",
   "metadata": {},
   "source": [
    "### Binomial Distribution"
   ]
  },
  {
   "cell_type": "code",
   "execution_count": 1,
   "metadata": {},
   "outputs": [
    {
     "data": {
      "text/html": [
       "0.0512"
      ],
      "text/latex": [
       "0.0512"
      ],
      "text/markdown": [
       "0.0512"
      ],
      "text/plain": [
       "[1] 0.0512"
      ]
     },
     "metadata": {},
     "output_type": "display_data"
    }
   ],
   "source": [
    "dbinom(3, size=5, prob=0.2)"
   ]
  },
  {
   "cell_type": "code",
   "execution_count": 2,
   "metadata": {},
   "outputs": [
    {
     "data": {
      "text/html": [
       "0.99328"
      ],
      "text/latex": [
       "0.99328"
      ],
      "text/markdown": [
       "0.99328"
      ],
      "text/plain": [
       "[1] 0.99328"
      ]
     },
     "metadata": {},
     "output_type": "display_data"
    }
   ],
   "source": [
    "pbinom(3, size=5, prob=0.2)"
   ]
  },
  {
   "cell_type": "markdown",
   "metadata": {},
   "source": [
    "### Poisson Distribution"
   ]
  },
  {
   "cell_type": "code",
   "execution_count": 3,
   "metadata": {},
   "outputs": [
    {
     "data": {
      "text/html": [
       "0.0892350783599889"
      ],
      "text/latex": [
       "0.0892350783599889"
      ],
      "text/markdown": [
       "0.0892350783599889"
      ],
      "text/plain": [
       "[1] 0.08923508"
      ]
     },
     "metadata": {},
     "output_type": "display_data"
    }
   ],
   "source": [
    "dpois(3, lambda=6)"
   ]
  },
  {
   "cell_type": "code",
   "execution_count": 4,
   "metadata": {},
   "outputs": [
    {
     "data": {
      "text/html": [
       "0.151203882776648"
      ],
      "text/latex": [
       "0.151203882776648"
      ],
      "text/markdown": [
       "0.151203882776648"
      ],
      "text/plain": [
       "[1] 0.1512039"
      ]
     },
     "metadata": {},
     "output_type": "display_data"
    }
   ],
   "source": [
    "ppois(3, lambda=6)"
   ]
  },
  {
   "cell_type": "markdown",
   "metadata": {},
   "source": [
    "### Hypergeometric Distribution"
   ]
  },
  {
   "cell_type": "code",
   "execution_count": 5,
   "metadata": {},
   "outputs": [
    {
     "data": {
      "text/html": [
       "0.166666666666667"
      ],
      "text/latex": [
       "0.166666666666667"
      ],
      "text/markdown": [
       "0.166666666666667"
      ],
      "text/plain": [
       "[1] 0.1666667"
      ]
     },
     "metadata": {},
     "output_type": "display_data"
    }
   ],
   "source": [
    "dhyper(2, 4, 5, 7)"
   ]
  },
  {
   "cell_type": "code",
   "execution_count": 6,
   "metadata": {},
   "outputs": [
    {
     "data": {
      "text/html": [
       "0.166666666666667"
      ],
      "text/latex": [
       "0.166666666666667"
      ],
      "text/markdown": [
       "0.166666666666667"
      ],
      "text/plain": [
       "[1] 0.1666667"
      ]
     },
     "metadata": {},
     "output_type": "display_data"
    }
   ],
   "source": [
    "phyper(2, 4, 5, 7)"
   ]
  },
  {
   "cell_type": "markdown",
   "metadata": {},
   "source": [
    "### Uniform Distribution"
   ]
  },
  {
   "cell_type": "code",
   "execution_count": 7,
   "metadata": {},
   "outputs": [
    {
     "data": {
      "text/html": [
       "0.2"
      ],
      "text/latex": [
       "0.2"
      ],
      "text/markdown": [
       "0.2"
      ],
      "text/plain": [
       "[1] 0.2"
      ]
     },
     "metadata": {},
     "output_type": "display_data"
    }
   ],
   "source": [
    "dunif(3, min=1, max=6)"
   ]
  },
  {
   "cell_type": "code",
   "execution_count": 8,
   "metadata": {},
   "outputs": [
    {
     "data": {
      "text/html": [
       "0.4"
      ],
      "text/latex": [
       "0.4"
      ],
      "text/markdown": [
       "0.4"
      ],
      "text/plain": [
       "[1] 0.4"
      ]
     },
     "metadata": {},
     "output_type": "display_data"
    }
   ],
   "source": [
    "punif(3, min=1, max=6)"
   ]
  },
  {
   "cell_type": "markdown",
   "metadata": {},
   "source": [
    "### Exponential Distribution"
   ]
  },
  {
   "cell_type": "code",
   "execution_count": 9,
   "metadata": {},
   "outputs": [
    {
     "data": {
      "text/html": [
       "0.000226999648812424"
      ],
      "text/latex": [
       "0.000226999648812424"
      ],
      "text/markdown": [
       "0.000226999648812424"
      ],
      "text/plain": [
       "[1] 0.0002269996"
      ]
     },
     "metadata": {},
     "output_type": "display_data"
    }
   ],
   "source": [
    "dexp(2, rate=5)"
   ]
  },
  {
   "cell_type": "code",
   "execution_count": 10,
   "metadata": {},
   "outputs": [
    {
     "data": {
      "text/html": [
       "0.999954600070238"
      ],
      "text/latex": [
       "0.999954600070238"
      ],
      "text/markdown": [
       "0.999954600070238"
      ],
      "text/plain": [
       "[1] 0.9999546"
      ]
     },
     "metadata": {},
     "output_type": "display_data"
    }
   ],
   "source": [
    "pexp(2, rate=5)"
   ]
  },
  {
   "cell_type": "markdown",
   "metadata": {},
   "source": [
    "### Normal Distribution"
   ]
  },
  {
   "cell_type": "code",
   "execution_count": 11,
   "metadata": {},
   "outputs": [
    {
     "data": {
      "text/html": [
       "0.0129517595665892"
      ],
      "text/latex": [
       "0.0129517595665892"
      ],
      "text/markdown": [
       "0.0129517595665892"
      ],
      "text/plain": [
       "[1] 0.01295176"
      ]
     },
     "metadata": {},
     "output_type": "display_data"
    }
   ],
   "source": [
    "dnorm(45, mean=60, sd=10)"
   ]
  },
  {
   "cell_type": "code",
   "execution_count": 12,
   "metadata": {},
   "outputs": [
    {
     "data": {
      "text/html": [
       "0.0668072012688581"
      ],
      "text/latex": [
       "0.0668072012688581"
      ],
      "text/markdown": [
       "0.0668072012688581"
      ],
      "text/plain": [
       "[1] 0.0668072"
      ]
     },
     "metadata": {},
     "output_type": "display_data"
    }
   ],
   "source": [
    "pnorm(45, mean=60, sd=10)"
   ]
  },
  {
   "cell_type": "markdown",
   "metadata": {},
   "source": [
    "### Standard Normal Distribution"
   ]
  },
  {
   "cell_type": "code",
   "execution_count": 13,
   "metadata": {},
   "outputs": [
    {
     "data": {
      "text/html": [
       "0.0539909665131881"
      ],
      "text/latex": [
       "0.0539909665131881"
      ],
      "text/markdown": [
       "0.0539909665131881"
      ],
      "text/plain": [
       "[1] 0.05399097"
      ]
     },
     "metadata": {},
     "output_type": "display_data"
    }
   ],
   "source": [
    "dnorm(2)"
   ]
  },
  {
   "cell_type": "code",
   "execution_count": 14,
   "metadata": {},
   "outputs": [
    {
     "data": {
      "text/html": [
       "0.977249868051821"
      ],
      "text/latex": [
       "0.977249868051821"
      ],
      "text/markdown": [
       "0.977249868051821"
      ],
      "text/plain": [
       "[1] 0.9772499"
      ]
     },
     "metadata": {},
     "output_type": "display_data"
    }
   ],
   "source": [
    "pnorm(2)"
   ]
  },
  {
   "cell_type": "markdown",
   "metadata": {},
   "source": [
    "## Generating Random Numbers\n",
    "\n",
    "> Generate a random sample of size 100 from a normal distribution with mean 10 and standard deviation 3. Then do the following:\n",
    ">\n",
    "> 1. Find the value of the (sample) mean, variance, standard deviation, minimum, maximum, range, and median\n",
    "> 2. Plot the histogram and the density curve\n",
    "> 3. Obtain an unbiased and sufficient estimate of $\\mu$"
   ]
  },
  {
   "cell_type": "code",
   "execution_count": 15,
   "metadata": {},
   "outputs": [],
   "source": [
    "# Generate the random number sample\n",
    "rn = rnorm(n=100, mean=10, sd=3)"
   ]
  },
  {
   "cell_type": "code",
   "execution_count": 16,
   "metadata": {},
   "outputs": [
    {
     "data": {
      "text/html": [
       "9.91790841167148"
      ],
      "text/latex": [
       "9.91790841167148"
      ],
      "text/markdown": [
       "9.91790841167148"
      ],
      "text/plain": [
       "[1] 9.917908"
      ]
     },
     "metadata": {},
     "output_type": "display_data"
    }
   ],
   "source": [
    "mean(rn)"
   ]
  },
  {
   "cell_type": "code",
   "execution_count": 17,
   "metadata": {},
   "outputs": [
    {
     "data": {
      "text/html": [
       "9.56039288440298"
      ],
      "text/latex": [
       "9.56039288440298"
      ],
      "text/markdown": [
       "9.56039288440298"
      ],
      "text/plain": [
       "[1] 9.560393"
      ]
     },
     "metadata": {},
     "output_type": "display_data"
    }
   ],
   "source": [
    "var(rn)"
   ]
  },
  {
   "cell_type": "code",
   "execution_count": 18,
   "metadata": {},
   "outputs": [
    {
     "data": {
      "text/html": [
       "3.09198850004378"
      ],
      "text/latex": [
       "3.09198850004378"
      ],
      "text/markdown": [
       "3.09198850004378"
      ],
      "text/plain": [
       "[1] 3.091989"
      ]
     },
     "metadata": {},
     "output_type": "display_data"
    }
   ],
   "source": [
    "sd(rn)"
   ]
  },
  {
   "cell_type": "code",
   "execution_count": 19,
   "metadata": {},
   "outputs": [
    {
     "data": {
      "text/html": [
       "2.3869949818194"
      ],
      "text/latex": [
       "2.3869949818194"
      ],
      "text/markdown": [
       "2.3869949818194"
      ],
      "text/plain": [
       "[1] 2.386995"
      ]
     },
     "metadata": {},
     "output_type": "display_data"
    }
   ],
   "source": [
    "min(rn)"
   ]
  },
  {
   "cell_type": "code",
   "execution_count": 20,
   "metadata": {},
   "outputs": [
    {
     "data": {
      "text/html": [
       "16.5180450334395"
      ],
      "text/latex": [
       "16.5180450334395"
      ],
      "text/markdown": [
       "16.5180450334395"
      ],
      "text/plain": [
       "[1] 16.51805"
      ]
     },
     "metadata": {},
     "output_type": "display_data"
    }
   ],
   "source": [
    "max(rn)"
   ]
  },
  {
   "cell_type": "code",
   "execution_count": 21,
   "metadata": {},
   "outputs": [
    {
     "data": {
      "text/html": [
       "<strong>50%:</strong> 10.1853772590935"
      ],
      "text/latex": [
       "\\textbf{50\\textbackslash{}\\%:} 10.1853772590935"
      ],
      "text/markdown": [
       "**50%:** 10.1853772590935"
      ],
      "text/plain": [
       "     50% \n",
       "10.18538 "
      ]
     },
     "metadata": {},
     "output_type": "display_data"
    }
   ],
   "source": [
    "quantile(rn, 0.5)"
   ]
  },
  {
   "cell_type": "code",
   "execution_count": 22,
   "metadata": {},
   "outputs": [
    {
     "name": "stdout",
     "output_type": "stream",
     "text": [
      "   Min. 1st Qu.  Median    Mean 3rd Qu.    Max. \n",
      "  2.387   7.961  10.185   9.918  11.756  16.518 \n"
     ]
    }
   ],
   "source": [
    "print(summary(rn))"
   ]
  },
  {
   "cell_type": "code",
   "execution_count": 23,
   "metadata": {},
   "outputs": [
    {
     "data": {
      "image/png": "[encoded data removed]",
      "text/plain": [
       "Plot with title \"Histogram of rn\""
      ]
     },
     "metadata": {},
     "output_type": "display_data"
    }
   ],
   "source": [
    "hist(rn)"
   ]
  },
  {
   "cell_type": "code",
   "execution_count": 24,
   "metadata": {},
   "outputs": [
    {
     "data": {
      "image/png": "[encoded data removed]",
      "text/plain": [
       "Plot with title \"density.default(x = rn)\""
      ]
     },
     "metadata": {},
     "output_type": "display_data"
    }
   ],
   "source": [
    "plot(density(rn))"
   ]
  },
  {
   "cell_type": "code",
   "execution_count": 25,
   "metadata": {},
   "outputs": [
    {
     "data": {
      "image/png": "[encoded data removed]",
      "text/plain": [
       "Plot with title \"Histogram of rn\""
      ]
     },
     "metadata": {},
     "output_type": "display_data"
    }
   ],
   "source": [
    "# Plotting the histogram and the density curve together\n",
    "hist(rn, col='orange', prob=T)\n",
    "lines(density(rn), lwd=2, col='red')"
   ]
  },
  {
   "cell_type": "code",
   "execution_count": 26,
   "metadata": {},
   "outputs": [
    {
     "data": {
      "image/png": "[encoded data removed]",
      "text/plain": [
       "Plot with title \"Normal Q-Q Plot\""
      ]
     },
     "metadata": {},
     "output_type": "display_data"
    }
   ],
   "source": [
    "# Check Normality\n",
    "qqnorm(rn)\n",
    "qqline(rn)"
   ]
  },
  {
   "cell_type": "code",
   "execution_count": 27,
   "metadata": {},
   "outputs": [
    {
     "data": {
      "text/html": [
       "9.91790841167148"
      ],
      "text/latex": [
       "9.91790841167148"
      ],
      "text/markdown": [
       "9.91790841167148"
      ],
      "text/plain": [
       "[1] 9.917908"
      ]
     },
     "metadata": {},
     "output_type": "display_data"
    }
   ],
   "source": [
    "#unbiased and sufficient estimator of mu\n",
    "mean(rn)"
   ]
  },
  {
   "cell_type": "code",
   "execution_count": 28,
   "metadata": {},
   "outputs": [
    {
     "data": {
      "text/html": [
       "0.309198850004378"
      ],
      "text/latex": [
       "0.309198850004378"
      ],
      "text/markdown": [
       "0.309198850004378"
      ],
      "text/plain": [
       "[1] 0.3091989"
      ]
     },
     "metadata": {},
     "output_type": "display_data"
    }
   ],
   "source": [
    "#standard error\n",
    "sd(rn)/sqrt(length(rn))"
   ]
  },
  {
   "cell_type": "markdown",
   "metadata": {},
   "source": [
    "## Central Limit Theorem\n",
    "\n",
    "> Generate 100 random samples of size 5, 10, 20, and 30 from a normal distribution with mean 10 and standard deviation 3 and calculate sample mean for each sample. Draw the histrogram and density curve of sample means."
   ]
  },
  {
   "cell_type": "code",
   "execution_count": 29,
   "metadata": {},
   "outputs": [],
   "source": [
    "# choose sample size/number of sample\n",
    "n = 5\n",
    "n.samples = 10000\n",
    "\n",
    "# Sampling from a standard normal distribution\n",
    "data = matrix(rnorm(n * n.samples,0,1), nrow=n.samples, ncol=n) # generating data\n",
    "xbars = apply(data, 1, mean) # sample mean"
   ]
  },
  {
   "cell_type": "code",
   "execution_count": 30,
   "metadata": {},
   "outputs": [
    {
     "data": {
      "image/png": "[encoded data removed]",
      "text/plain": [
       "Plot with title \"Histogram of xbars\""
      ]
     },
     "metadata": {},
     "output_type": "display_data"
    },
    {
     "data": {
      "image/png": "[encoded data removed]",
      "text/plain": [
       "Plot with title \"Histogram of xbars\""
      ]
     },
     "metadata": {},
     "output_type": "display_data"
    }
   ],
   "source": [
    "hist(xbars, col='orange') # histogram without probability\n",
    "hist(xbars, col='blue', prob=T) # histogram\n",
    "lines(density(xbars), lwd = 2, col='red') #density curve"
   ]
  },
  {
   "cell_type": "markdown",
   "metadata": {},
   "source": [
    "## MME\n",
    "\n",
    "Generate 100 samples of size 10 from a normal distribution with $\\mu = 14$ and $\\sigma = 4$. Estimate $\\mu$ and $\\sigma^2$ from your samples using the method of moments. Plot the estimated values of $\\mu$ and $\\sigma^2$. Comment on results."
   ]
  },
  {
   "cell_type": "code",
   "execution_count": 31,
   "metadata": {},
   "outputs": [
    {
     "data": {
      "image/png": "[encoded data removed]",
      "text/plain": [
       "Plot with title \"density.default(x = mu.estimates)\""
      ]
     },
     "metadata": {},
     "output_type": "display_data"
    },
    {
     "data": {
      "image/png": "[encoded data removed]",
      "text/plain": [
       "Plot with title \"density.default(x = var.estimates)\""
      ]
     },
     "metadata": {},
     "output_type": "display_data"
    }
   ],
   "source": [
    "mu = 14\n",
    "sigma = 4\n",
    "sampsz = 10\n",
    "nsimulations = 1000\n",
    "mu.estimates = numeric(nsimulations)\n",
    "var.estimates = numeric(nsimulations)\n",
    "\n",
    "for (i in 1:nsimulations)\n",
    "{\n",
    "    rn = rnorm(mean=mu, sd=sigma, n=sampsz)\n",
    "    mu.estimates[i] = mean(rn)\n",
    "    var.estimates[i] = mean((rn - mean(rn))^2)\n",
    "}\n",
    "\n",
    "plot(density(mu.estimates))\n",
    "plot(density(var.estimates))"
   ]
  },
  {
   "cell_type": "markdown",
   "metadata": {},
   "source": [
    "Generate 100 random samples of size 10 from a $U(0,10)$ distribution. For each of the 100 samples generated calculate the MME and MLE for $\\mu$ and graph the results.\n",
    "\n",
    "(a) from the graphs does it appear that the estimators are biased or unbiased? Explain.\n",
    "\n",
    "(b) Estimate the variance of the two esimators by finding the sample variance of the 100 estimates (for each esimator). Which estimator appears more efficient?"
   ]
  },
  {
   "cell_type": "code",
   "execution_count": 32,
   "metadata": {},
   "outputs": [
    {
     "data": {
      "image/png": "[encoded data removed]",
      "text/plain": [
       "Plot with title \" \""
      ]
     },
     "metadata": {},
     "output_type": "display_data"
    }
   ],
   "source": [
    "theta = 10\n",
    "sampsz = 10\n",
    "nsimulations = 100\n",
    "moment.estimates = numeric(nsimulations)\n",
    "ML.estimates = numeric(nsimulations)\n",
    "\n",
    "for (i in 1:nsimulations)\n",
    "{\n",
    "    ru = runif(n=sampsz,min=0,max=theta)\n",
    "    moment.estimates[i] = 2*mean(ru)\n",
    "    ML.estimates[i] = max(ru)\n",
    "}\n",
    "\n",
    "plot(density(moment.estimates), xlab=\" \",ylab=\" \",main=\" \",ylim=c(0,0.6),las=1)\n",
    "abline(v=theta,lty=3)\n",
    "lines(density(ML.estimates),lty=2)\n",
    "legend(11,0.5,legend=c(\"moment\",\"ML\"),lty=1:2,cex=0.6)"
   ]
  },
  {
   "cell_type": "markdown",
   "metadata": {},
   "source": [
    "Generate 100 samples of size 10 from a uniform distribution $U(0, \\theta)$ with $\\theta = 10$. Estimate the value of $\\theta$ from your samples using the method of moments and plot the results. Commend on the results.\n",
    "\n",
    "**SOLUTION:** Given $X_1, X_2, ..., X_n$ is a random sample from a $U(0, \\theta)$ distribution, the moments estimator (MME) of $\\theta$ is $\\tilde \\theta = 2 \\overline X$."
   ]
  },
  {
   "cell_type": "code",
   "execution_count": 33,
   "metadata": {},
   "outputs": [
    {
     "data": {
      "image/png": "[encoded data removed]",
      "text/plain": [
       "Plot with title \"density.default(x = theta.estimates)\""
      ]
     },
     "metadata": {},
     "output_type": "display_data"
    }
   ],
   "source": [
    "theta = 10\n",
    "sampsz = 10\n",
    "nsimulations = 100\n",
    "theta.estimates = numeric(nsimulations)\n",
    "\n",
    "for (i in 1:nsimulations)\n",
    "{\n",
    "    ru = runif(n=sampsz,min=0,max=theta)\n",
    "    Xbar = mean(ru)\n",
    "    theta.estimates[i] = 2*Xbar\n",
    "} # end of the i loop\n",
    "\n",
    "plot(density(theta.estimates))"
   ]
  },
  {
   "cell_type": "markdown",
   "metadata": {},
   "source": [
    "## Power Curves\n",
    "\n",
    "> Ex (a): The current machine makes rods with mean $\\mu = 100$ cm and standard deviation $\\sigma = 2$. The manager is considering buying a new machine and is interested in the purchase only of the variance of rod lengths is smaller. He will get a sample of 𝑛 = 12 rods made by the new machine and test $𝐻_0$: $\\sigma = 2$ versus $𝐻_𝑎$: $\\sigma < 2$. He wants to use $\\alpha = 0.01$ because of the cost of the new machine.\n",
    "\n",
    "Test statistic:\n",
    "\n",
    "$$\n",
    "T = \\frac{\\sum_{i=1}^{12}(X_i-100)^2}{4} \\sim \\chi_{12}^2\n",
    "$$\n",
    "\n",
    "The power of this test:\n",
    "\n",
    "$$\n",
    "P(T < 3.571) = P\\left(\\frac{\\sum_{i=1}^{12}(X_i-100)^2}{\\sigma^2} < \\frac{4 \\cdot 3.571}{\\sigma^2}\\right)\n",
    "$$"
   ]
  },
  {
   "cell_type": "code",
   "execution_count": 3,
   "metadata": {},
   "outputs": [
    {
     "data": {
      "image/png": "[encoded data removed]",
      "text/plain": [
       "plot without title"
      ]
     },
     "metadata": {
      "image/png": {
       "height": 420,
       "width": 420
      }
     },
     "output_type": "display_data"
    }
   ],
   "source": [
    "sig=1:200/100\n",
    "n=12\n",
    "crit=qchisq(0.01,n)\n",
    "pwr=pchisq(4*crit/sig^2,n)\n",
    "plot(sig, pwr, type=\"l\")"
   ]
  },
  {
   "cell_type": "markdown",
   "metadata": {},
   "source": [
    "If the manager wants to be able to detect a true standard deviation of $\\sigma = 1.5$, while maintaining the same significance level $\\alpha$, the sample size must be increased. Let’s fix $\\sigma = 1.5$ and make a power curve for the manager, with increasing sample size:"
   ]
  },
  {
   "cell_type": "code",
   "execution_count": 4,
   "metadata": {},
   "outputs": [
    {
     "data": {
      "image/png": "[encoded data removed]",
      "text/plain": [
       "plot without title"
      ]
     },
     "metadata": {
      "image/png": {
       "height": 420,
       "width": 420
      }
     },
     "output_type": "display_data"
    }
   ],
   "source": [
    "sig=1.5\n",
    "n=20:100\n",
    "crit=qchisq(0.01,n)\n",
    "pwr=pchisq(4*crit/sig^2,n)\n",
    "plot(n, pwr, type='l')"
   ]
  }
 ],
 "metadata": {
  "interpreter": {
   "hash": "5c14fff63c0a8ed330ed9126d5cfaff8036e976a2ac919caecec95f614622928"
  },
  "kernelspec": {
   "display_name": "R",
   "language": "R",
   "name": "ir"
  },
  "language_info": {
   "codemirror_mode": "r",
   "file_extension": ".r",
   "mimetype": "text/x-r-source",
   "name": "R",
   "pygments_lexer": "r",
   "version": "4.1.1"
  },
  "orig_nbformat": 4
 },
 "nbformat": 4,
 "nbformat_minor": 2
}
