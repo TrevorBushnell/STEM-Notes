{
 "cells": [
  {
   "cell_type": "markdown",
   "metadata": {},
   "source": [
    "# R Code Examples for MATH422: Mathematical Statistics\n",
    "\n",
    "This notebook contains example code for various actions performed in MATH422."
   ]
  },
  {
   "cell_type": "markdown",
   "metadata": {},
   "source": [
    "## Probability Distributions\n",
    "\n",
    "For probability distributions, the pmf/pdf is receded by the `d` character and the cdf is preceded by the `p` character."
   ]
  },
  {
   "cell_type": "markdown",
   "metadata": {},
   "source": [
    "### Binomial Distribution"
   ]
  },
  {
   "cell_type": "code",
   "execution_count": 31,
   "metadata": {},
   "outputs": [
    {
     "data": {
      "text/html": [
       "0.0512"
      ],
      "text/latex": [
       "0.0512"
      ],
      "text/markdown": [
       "0.0512"
      ],
      "text/plain": [
       "[1] 0.0512"
      ]
     },
     "metadata": {},
     "output_type": "display_data"
    }
   ],
   "source": [
    "dbinom(3, size=5, prob=0.2)"
   ]
  },
  {
   "cell_type": "code",
   "execution_count": 32,
   "metadata": {},
   "outputs": [
    {
     "data": {
      "text/html": [
       "0.99328"
      ],
      "text/latex": [
       "0.99328"
      ],
      "text/markdown": [
       "0.99328"
      ],
      "text/plain": [
       "[1] 0.99328"
      ]
     },
     "metadata": {},
     "output_type": "display_data"
    }
   ],
   "source": [
    "pbinom(3, size=5, prob=0.2)"
   ]
  },
  {
   "cell_type": "markdown",
   "metadata": {},
   "source": [
    "### Poisson Distribution"
   ]
  },
  {
   "cell_type": "code",
   "execution_count": 33,
   "metadata": {},
   "outputs": [
    {
     "data": {
      "text/html": [
       "0.0892350783599889"
      ],
      "text/latex": [
       "0.0892350783599889"
      ],
      "text/markdown": [
       "0.0892350783599889"
      ],
      "text/plain": [
       "[1] 0.08923508"
      ]
     },
     "metadata": {},
     "output_type": "display_data"
    }
   ],
   "source": [
    "dpois(3, lambda=6)"
   ]
  },
  {
   "cell_type": "code",
   "execution_count": 34,
   "metadata": {},
   "outputs": [
    {
     "data": {
      "text/html": [
       "0.151203882776648"
      ],
      "text/latex": [
       "0.151203882776648"
      ],
      "text/markdown": [
       "0.151203882776648"
      ],
      "text/plain": [
       "[1] 0.1512039"
      ]
     },
     "metadata": {},
     "output_type": "display_data"
    }
   ],
   "source": [
    "ppois(3, lambda=6)"
   ]
  },
  {
   "cell_type": "markdown",
   "metadata": {},
   "source": [
    "### Hypergeometric Distribution"
   ]
  },
  {
   "cell_type": "code",
   "execution_count": 35,
   "metadata": {},
   "outputs": [
    {
     "data": {
      "text/html": [
       "0.166666666666667"
      ],
      "text/latex": [
       "0.166666666666667"
      ],
      "text/markdown": [
       "0.166666666666667"
      ],
      "text/plain": [
       "[1] 0.1666667"
      ]
     },
     "metadata": {},
     "output_type": "display_data"
    }
   ],
   "source": [
    "dhyper(2, 4, 5, 7)"
   ]
  },
  {
   "cell_type": "code",
   "execution_count": 36,
   "metadata": {},
   "outputs": [
    {
     "data": {
      "text/html": [
       "0.166666666666667"
      ],
      "text/latex": [
       "0.166666666666667"
      ],
      "text/markdown": [
       "0.166666666666667"
      ],
      "text/plain": [
       "[1] 0.1666667"
      ]
     },
     "metadata": {},
     "output_type": "display_data"
    }
   ],
   "source": [
    "phyper(2, 4, 5, 7)"
   ]
  },
  {
   "cell_type": "markdown",
   "metadata": {},
   "source": [
    "### Uniform Distribution"
   ]
  },
  {
   "cell_type": "code",
   "execution_count": 37,
   "metadata": {},
   "outputs": [
    {
     "data": {
      "text/html": [
       "0.2"
      ],
      "text/latex": [
       "0.2"
      ],
      "text/markdown": [
       "0.2"
      ],
      "text/plain": [
       "[1] 0.2"
      ]
     },
     "metadata": {},
     "output_type": "display_data"
    }
   ],
   "source": [
    "dunif(3, min=1, max=6)"
   ]
  },
  {
   "cell_type": "code",
   "execution_count": 38,
   "metadata": {},
   "outputs": [
    {
     "data": {
      "text/html": [
       "0.4"
      ],
      "text/latex": [
       "0.4"
      ],
      "text/markdown": [
       "0.4"
      ],
      "text/plain": [
       "[1] 0.4"
      ]
     },
     "metadata": {},
     "output_type": "display_data"
    }
   ],
   "source": [
    "punif(3, min=1, max=6)"
   ]
  },
  {
   "cell_type": "markdown",
   "metadata": {},
   "source": [
    "### Exponential Distribution"
   ]
  },
  {
   "cell_type": "code",
   "execution_count": 39,
   "metadata": {},
   "outputs": [
    {
     "data": {
      "text/html": [
       "0.000226999648812424"
      ],
      "text/latex": [
       "0.000226999648812424"
      ],
      "text/markdown": [
       "0.000226999648812424"
      ],
      "text/plain": [
       "[1] 0.0002269996"
      ]
     },
     "metadata": {},
     "output_type": "display_data"
    }
   ],
   "source": [
    "dexp(2, rate=5)"
   ]
  },
  {
   "cell_type": "code",
   "execution_count": 40,
   "metadata": {},
   "outputs": [
    {
     "data": {
      "text/html": [
       "0.999954600070238"
      ],
      "text/latex": [
       "0.999954600070238"
      ],
      "text/markdown": [
       "0.999954600070238"
      ],
      "text/plain": [
       "[1] 0.9999546"
      ]
     },
     "metadata": {},
     "output_type": "display_data"
    }
   ],
   "source": [
    "pexp(2, rate=5)"
   ]
  },
  {
   "cell_type": "markdown",
   "metadata": {},
   "source": [
    "### Normal Distribution"
   ]
  },
  {
   "cell_type": "code",
   "execution_count": 41,
   "metadata": {},
   "outputs": [
    {
     "data": {
      "text/html": [
       "0.0129517595665892"
      ],
      "text/latex": [
       "0.0129517595665892"
      ],
      "text/markdown": [
       "0.0129517595665892"
      ],
      "text/plain": [
       "[1] 0.01295176"
      ]
     },
     "metadata": {},
     "output_type": "display_data"
    }
   ],
   "source": [
    "dnorm(45, mean=60, sd=10)"
   ]
  },
  {
   "cell_type": "code",
   "execution_count": 42,
   "metadata": {},
   "outputs": [
    {
     "data": {
      "text/html": [
       "0.0668072012688581"
      ],
      "text/latex": [
       "0.0668072012688581"
      ],
      "text/markdown": [
       "0.0668072012688581"
      ],
      "text/plain": [
       "[1] 0.0668072"
      ]
     },
     "metadata": {},
     "output_type": "display_data"
    }
   ],
   "source": [
    "pnorm(45, mean=60, sd=10)"
   ]
  },
  {
   "cell_type": "markdown",
   "metadata": {},
   "source": [
    "### Standard Normal Distribution"
   ]
  },
  {
   "cell_type": "code",
   "execution_count": 43,
   "metadata": {},
   "outputs": [
    {
     "data": {
      "text/html": [
       "0.0539909665131881"
      ],
      "text/latex": [
       "0.0539909665131881"
      ],
      "text/markdown": [
       "0.0539909665131881"
      ],
      "text/plain": [
       "[1] 0.05399097"
      ]
     },
     "metadata": {},
     "output_type": "display_data"
    }
   ],
   "source": [
    "dnorm(2)"
   ]
  },
  {
   "cell_type": "code",
   "execution_count": 44,
   "metadata": {},
   "outputs": [
    {
     "data": {
      "text/html": [
       "0.977249868051821"
      ],
      "text/latex": [
       "0.977249868051821"
      ],
      "text/markdown": [
       "0.977249868051821"
      ],
      "text/plain": [
       "[1] 0.9772499"
      ]
     },
     "metadata": {},
     "output_type": "display_data"
    }
   ],
   "source": [
    "pnorm(2)"
   ]
  },
  {
   "cell_type": "markdown",
   "metadata": {},
   "source": [
    "## Generating Random Numbers\n",
    "\n",
    "> Generate a random sample of size 100 from a normal distribution with mean 10 and standard deviation 3. Then do the following:\n",
    ">\n",
    "> 1. Find the value of the (sample) mean, variance, standard deviation, minimum, maximum, range, and median\n",
    "> 2. Plot the histogram and the density curve\n",
    "> 3. Obtain an unbiased and sufficient estimate of $\\mu$"
   ]
  },
  {
   "cell_type": "code",
   "execution_count": 45,
   "metadata": {},
   "outputs": [],
   "source": [
    "# Generate the random number sample\n",
    "rn = rnorm(n=100, mean=10, sd=3)"
   ]
  },
  {
   "cell_type": "code",
   "execution_count": 46,
   "metadata": {},
   "outputs": [
    {
     "data": {
      "text/html": [
       "10.0143232163919"
      ],
      "text/latex": [
       "10.0143232163919"
      ],
      "text/markdown": [
       "10.0143232163919"
      ],
      "text/plain": [
       "[1] 10.01432"
      ]
     },
     "metadata": {},
     "output_type": "display_data"
    }
   ],
   "source": [
    "mean(rn)"
   ]
  },
  {
   "cell_type": "code",
   "execution_count": 47,
   "metadata": {},
   "outputs": [
    {
     "data": {
      "text/html": [
       "11.5609870590307"
      ],
      "text/latex": [
       "11.5609870590307"
      ],
      "text/markdown": [
       "11.5609870590307"
      ],
      "text/plain": [
       "[1] 11.56099"
      ]
     },
     "metadata": {},
     "output_type": "display_data"
    }
   ],
   "source": [
    "var(rn)"
   ]
  },
  {
   "cell_type": "code",
   "execution_count": 48,
   "metadata": {},
   "outputs": [
    {
     "data": {
      "text/html": [
       "3.40014515264139"
      ],
      "text/latex": [
       "3.40014515264139"
      ],
      "text/markdown": [
       "3.40014515264139"
      ],
      "text/plain": [
       "[1] 3.400145"
      ]
     },
     "metadata": {},
     "output_type": "display_data"
    }
   ],
   "source": [
    "sd(rn)"
   ]
  },
  {
   "cell_type": "code",
   "execution_count": 49,
   "metadata": {},
   "outputs": [
    {
     "data": {
      "text/html": [
       "1.49820755602964"
      ],
      "text/latex": [
       "1.49820755602964"
      ],
      "text/markdown": [
       "1.49820755602964"
      ],
      "text/plain": [
       "[1] 1.498208"
      ]
     },
     "metadata": {},
     "output_type": "display_data"
    }
   ],
   "source": [
    "min(rn)"
   ]
  },
  {
   "cell_type": "code",
   "execution_count": 50,
   "metadata": {},
   "outputs": [
    {
     "data": {
      "text/html": [
       "17.3850065769778"
      ],
      "text/latex": [
       "17.3850065769778"
      ],
      "text/markdown": [
       "17.3850065769778"
      ],
      "text/plain": [
       "[1] 17.38501"
      ]
     },
     "metadata": {},
     "output_type": "display_data"
    }
   ],
   "source": [
    "max(rn)"
   ]
  },
  {
   "cell_type": "code",
   "execution_count": 51,
   "metadata": {},
   "outputs": [
    {
     "data": {
      "text/html": [
       "<strong>50%:</strong> 10.6271401434747"
      ],
      "text/latex": [
       "\\textbf{50\\textbackslash{}\\%:} 10.6271401434747"
      ],
      "text/markdown": [
       "**50%:** 10.6271401434747"
      ],
      "text/plain": [
       "     50% \n",
       "10.62714 "
      ]
     },
     "metadata": {},
     "output_type": "display_data"
    }
   ],
   "source": [
    "quantile(rn, 0.5)"
   ]
  },
  {
   "cell_type": "code",
   "execution_count": 52,
   "metadata": {},
   "outputs": [
    {
     "name": "stdout",
     "output_type": "stream",
     "text": [
      "   Min. 1st Qu.  Median    Mean 3rd Qu.    Max. \n",
      "  1.498   7.414  10.627  10.014  12.338  17.385 \n"
     ]
    }
   ],
   "source": [
    "print(summary(rn))"
   ]
  },
  {
   "cell_type": "code",
   "execution_count": 53,
   "metadata": {},
   "outputs": [
    {
     "data": {
      "image/png": "[encoded data removed]",
      "text/plain": [
       "Plot with title \"Histogram of rn\""
      ]
     },
     "metadata": {},
     "output_type": "display_data"
    }
   ],
   "source": [
    "hist(rn)"
   ]
  },
  {
   "cell_type": "code",
   "execution_count": 54,
   "metadata": {},
   "outputs": [
    {
     "data": {
      "image/png": "[encoded data removed]",
      "text/plain": [
       "Plot with title \"density.default(x = rn)\""
      ]
     },
     "metadata": {},
     "output_type": "display_data"
    }
   ],
   "source": [
    "plot(density(rn))"
   ]
  },
  {
   "cell_type": "code",
   "execution_count": 55,
   "metadata": {},
   "outputs": [
    {
     "data": {
      "image/png": "[encoded data removed]",
      "text/plain": [
       "Plot with title \"Histogram of rn\""
      ]
     },
     "metadata": {},
     "output_type": "display_data"
    }
   ],
   "source": [
    "# Plotting the histogram and the density curve together\n",
    "hist(rn, col='orange', prob=T)\n",
    "lines(density(rn), lwd=2, col='red')"
   ]
  },
  {
   "cell_type": "code",
   "execution_count": 56,
   "metadata": {},
   "outputs": [
    {
     "data": {
      "image/png": "[encoded data removed]",
      "text/plain": [
       "Plot with title \"Normal Q-Q Plot\""
      ]
     },
     "metadata": {},
     "output_type": "display_data"
    }
   ],
   "source": [
    "# Check Normality\n",
    "qqnorm(rn)\n",
    "qqline(rn)"
   ]
  },
  {
   "cell_type": "code",
   "execution_count": 57,
   "metadata": {},
   "outputs": [
    {
     "data": {
      "text/html": [
       "10.0143232163919"
      ],
      "text/latex": [
       "10.0143232163919"
      ],
      "text/markdown": [
       "10.0143232163919"
      ],
      "text/plain": [
       "[1] 10.01432"
      ]
     },
     "metadata": {},
     "output_type": "display_data"
    }
   ],
   "source": [
    "#unbiased and sufficient estimator of mu\n",
    "mean(rn)"
   ]
  },
  {
   "cell_type": "code",
   "execution_count": 58,
   "metadata": {},
   "outputs": [
    {
     "data": {
      "text/html": [
       "0.340014515264139"
      ],
      "text/latex": [
       "0.340014515264139"
      ],
      "text/markdown": [
       "0.340014515264139"
      ],
      "text/plain": [
       "[1] 0.3400145"
      ]
     },
     "metadata": {},
     "output_type": "display_data"
    }
   ],
   "source": [
    "#standard error\n",
    "sd(rn)/sqrt(length(rn))"
   ]
  },
  {
   "cell_type": "markdown",
   "metadata": {},
   "source": [
    "## Central Limit Theorem\n",
    "\n",
    "> Generate 100 random samples of size 5, 10, 20, and 30 from a normal distribution with mean 10 and standard deviation 3 and calculate sample mean for each sample. Draw the histrogram and density curve of sample means."
   ]
  },
  {
   "cell_type": "code",
   "execution_count": 59,
   "metadata": {},
   "outputs": [],
   "source": [
    "# choose sample size/number of sample\n",
    "n = 5\n",
    "n.samples = 10000\n",
    "\n",
    "# Sampling from a standard normal distribution\n",
    "data = matrix(rnorm(n * n.samples,0,1), nrow=n.samples, ncol=n) # generating data\n",
    "xbars = apply(data, 1, mean) # sample mean"
   ]
  },
  {
   "cell_type": "code",
   "execution_count": 60,
   "metadata": {},
   "outputs": [
    {
     "data": {
      "image/png": "[encoded data removed]",
      "text/plain": [
       "Plot with title \"Histogram of xbars\""
      ]
     },
     "metadata": {},
     "output_type": "display_data"
    },
    {
     "data": {
      "image/png": "[encoded data removed]",
      "text/plain": [
       "Plot with title \"Histogram of xbars\""
      ]
     },
     "metadata": {},
     "output_type": "display_data"
    }
   ],
   "source": [
    "hist(xbars, col='orange') # histogram without probability\n",
    "hist(xbars, col='blue', prob=T) # histogram\n",
    "lines(density(xbars), lwd = 2, col='red') #density curve"
   ]
  },
  {
   "cell_type": "markdown",
   "metadata": {},
   "source": [
    "## MME\n",
    "\n",
    "Generate 100 samples of size 10 from a normal distribution with $\\mu = 14$ and $\\sigma = 4$. Estimate $\\mu$ and $\\sigma^2$ from your samples using the method of moments. Plot the estimated values of $\\mu$ and $\\sigma^2$. Comment on results."
   ]
  },
  {
   "cell_type": "code",
   "execution_count": 62,
   "metadata": {},
   "outputs": [
    {
     "data": {
      "image/png": "[encoded data removed]",
      "text/plain": [
       "Plot with title \"density.default(x = mu.estimates)\""
      ]
     },
     "metadata": {},
     "output_type": "display_data"
    },
    {
     "data": {
      "image/png": "[encoded data removed]",
      "text/plain": [
       "Plot with title \"density.default(x = var.estimates)\""
      ]
     },
     "metadata": {},
     "output_type": "display_data"
    }
   ],
   "source": [
    "mu = 14\n",
    "sigma = 4\n",
    "sampsz = 10\n",
    "nsimulations = 1000\n",
    "mu.estimates = numeric(nsimulations)\n",
    "var.estimates = numeric(nsimulations)\n",
    "\n",
    "for (i in 1:nsimulations)\n",
    "{\n",
    "    rn = rnorm(mean=mu, sd=sigma, n=sampsz)\n",
    "    mu.estimates[i] = mean(rn)\n",
    "    var.estimates[i] = mean((rn - mean(rn))^2)\n",
    "}\n",
    "\n",
    "plot(density(mu.estimates))\n",
    "plot(density(var.estimates))"
   ]
  }
 ],
 "metadata": {
  "kernelspec": {
   "display_name": "R",
   "language": "R",
   "name": "python397jvsc74a57bd0a707b6ce8c685eb936424fcc3009d4b4b7a52543c4db09380a3fc49186ceb509"
  },
  "language_info": {
   "codemirror_mode": "r",
   "file_extension": ".r",
   "mimetype": "text/x-r-source",
   "name": "R",
   "pygments_lexer": "r",
   "version": "3.6.1"
  },
  "orig_nbformat": 4
 },
 "nbformat": 4,
 "nbformat_minor": 2
}
