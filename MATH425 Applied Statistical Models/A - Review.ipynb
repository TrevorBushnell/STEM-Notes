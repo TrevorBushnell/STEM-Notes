{
 "cells": [
  {
   "cell_type": "markdown",
   "metadata": {},
   "source": [
    "# A - Review"
   ]
  },
  {
   "cell_type": "markdown",
   "metadata": {},
   "source": [
    "## Populations and Samples\n",
    "\n",
    "* **Population:** The entire set of individuals \n",
    "  * $\\mu$, $\\sigma$ - parameters\n",
    "* **Sample:** A selection of individuals from the population\n",
    "  * $\\overline x$, $s$ - statistics\n",
    "  * we use sample statistics to INFER information about the population "
   ]
  },
  {
   "cell_type": "markdown",
   "metadata": {},
   "source": [
    "## Variables\n",
    "\n",
    "* **Quantitative Variable:** Variables that use numeric values\n",
    "* **Qualitative Variable:** Variable that uses string/other values (we will not cover these variables in this course)\n",
    "* **Discrete Variable:** Variables that can only take on integer values\n",
    "* **Continuous Variable:** Variables that can take on any value (including decimal values)"
   ]
  },
  {
   "cell_type": "markdown",
   "metadata": {},
   "source": [
    "## Discrete Random Variables\n",
    "\n",
    "* **Probability mass function (pmf):** $P(X=x) = f(x)$\n",
    "  * $f(x) \\ge 0$\n",
    "  * $\\sum f(x) = 1$\n",
    "* **Mean:** $\\mu = \\sum x\\:f(x)$\n",
    "* **Variance:** $\\sigma = \\sum (x-\\mu)^2 \\: f(x)$\n",
    "* **Covariance:** $Cov(X,Y) = \\sigma_{XY} = E[(X-\\mu_X)(Y-\\mu_Y)]=E(XY)-\\mu_X\\mu_Y$\n",
    "* **Correlation:** $\\rho_{XY} = \\frac{\\sigma_{XY}}{\\sigma_X\\sigma_Y}$\n",
    "  * If $X$ and $Y$ are independent, then their covariance is zero\n",
    "  * Recall: $X$ and $Y$ are independent variables if and only if $f(X,Y) = g(X)h(Y)$\n",
    "* **Binomial Distribution:** Only two outcomes - success ($p$) and failure ($q = 1-p$)\n",
    "  * $P(X=k) = \\frac{n!}{k!(n-k)!}p^kq^{n-k}$, $k=0,1,2,...,n$\n",
    "  * $\\text{Mean} = np$\n",
    "  * $\\text{Variance} = npq$\n",
    "* **Poisson Distribution:** Counting the numbers\n",
    "  * $P(X=k) = \\frac{e^{-\\mu}\\mu^k}{k!}$\n",
    "  * $\\text{Mean} = \\mu$\n",
    "  * $\\text{Variance} = \\mu$"
   ]
  },
  {
   "cell_type": "markdown",
   "metadata": {},
   "source": [
    "## Continuous Random Variables\n",
    "* **Probability density function (pdf):** $P(a < x < b) = \\int_a^b f(x)\\:dx$\n",
    "  * $\\int_{-\\infty}^\\infty f(x)\\:dx = 1$\n",
    "* **Mean:** $\\mu = \\int x\\:f(x)\\:dx$\n",
    "* **Variance:** $\\sigma = \\int (x-\\mu)^2 \\: f(x) \\: dx$\n",
    "* **Normal Distribution:** Bell curve, most common distribution in application, most of the values lie close to the center\n",
    "  * $f(x;\\mu, \\sigma) = \\frac{1}{\\sqrt{2\\pi\\sigma^2}}e^{-\\frac{1}{2}\\left(\\frac{x-\\mu}{\\sigma}\\right)^2}$, $-\\infty < \\mu < \\infty$, $0 \\le \\sigma < \\infty$\n",
    "  * $\\text{Mean} = \\mu$\n",
    "  * $\\text{Variance} = \\sigma$"
   ]
  },
  {
   "cell_type": "markdown",
   "metadata": {},
   "source": [
    "## Sampling Distributions\n",
    "\n",
    "* **Sampling Distributions:** Distributions that can help us model statistics for certain real-life applications\n",
    "\n",
    "> **THEOREM: Central Limit Theorem**\n",
    "> \n",
    "> If random samples of size $n$ are drawn frm a population with a finite mean and standard devation, then when $n$ is large the sampling distribution of the sample mean $\\overline x$ follows approximately a Normal distribution with mean $\\mu$ and standard deviation $\\frac{\\sigma}{\\sqrt{n}}$. This also means that $\\frac{\\overline x - \\mu}{\\sigma / \\sqrt n}$ follows a standard Normal distribution as $n$ gets large.\n",
    "> \n",
    "> Note that it doesn't matter what distribution the data comes from!\n",
    "\n",
    "* **Standard Normal Distribution:** A \"normalized\" Normal distribution, same shape but the mean is always $0$ and the variance is always $1$\n",
    "* **$t$ Distribution:** Distribution that is helpful with making inference\n",
    "  * $t = \\frac{\\overline x - \\mu}{\\frac{s}{\\sqrt{n}}}$"
   ]
  }
 ],
 "metadata": {
  "kernelspec": {
   "display_name": "R",
   "language": "R",
   "name": "ir"
  },
  "language_info": {
   "name": "R"
  },
  "orig_nbformat": 4
 },
 "nbformat": 4,
 "nbformat_minor": 2
}
