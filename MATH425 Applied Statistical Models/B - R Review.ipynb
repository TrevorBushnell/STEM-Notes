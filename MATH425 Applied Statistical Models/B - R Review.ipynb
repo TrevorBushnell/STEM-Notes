{
 "cells": [
  {
   "cell_type": "markdown",
   "metadata": {},
   "source": [
    "# B - R Review\n",
    "\n",
    "This notebook will go over some basic examples and operations that can be performed in R. Use this as a resource when getting started with R for this course"
   ]
  },
  {
   "cell_type": "markdown",
   "metadata": {},
   "source": [
    "## Downloading R\n",
    "\n",
    "Go to the [R Project](https://cran.r-project.org/mirrors.html) and click any of the links under USA to download R. Additionally, if you want an IDE to write R code in, the most popular one to download is [R Studio](https://www.rstudio.com/products/rstudio/download/#download)."
   ]
  },
  {
   "cell_type": "markdown",
   "metadata": {},
   "source": [
    "## Introduction to R\n",
    "\n",
    "### Vectors"
   ]
  },
  {
   "cell_type": "code",
   "execution_count": 2,
   "metadata": {
    "vscode": {
     "languageId": "r"
    }
   },
   "outputs": [
    {
     "data": {
      "text/html": [
       "<style>\n",
       ".list-inline {list-style: none; margin:0; padding: 0}\n",
       ".list-inline>li {display: inline-block}\n",
       ".list-inline>li:not(:last-child)::after {content: \"\\00b7\"; padding: 0 .5ex}\n",
       "</style>\n",
       "<ol class=list-inline><li>1</li><li>2</li><li>3</li><li>4</li></ol>\n"
      ],
      "text/latex": [
       "\\begin{enumerate*}\n",
       "\\item 1\n",
       "\\item 2\n",
       "\\item 3\n",
       "\\item 4\n",
       "\\end{enumerate*}\n"
      ],
      "text/markdown": [
       "1. 1\n",
       "2. 2\n",
       "3. 3\n",
       "4. 4\n",
       "\n",
       "\n"
      ],
      "text/plain": [
       "[1] 1 2 3 4"
      ]
     },
     "metadata": {},
     "output_type": "display_data"
    }
   ],
   "source": [
    "x = c(1,2,3,4) # define a vector\n",
    "x # print x"
   ]
  },
  {
   "cell_type": "code",
   "execution_count": 4,
   "metadata": {
    "vscode": {
     "languageId": "r"
    }
   },
   "outputs": [
    {
     "data": {
      "text/html": [
       "<style>\n",
       ".list-inline {list-style: none; margin:0; padding: 0}\n",
       ".list-inline>li {display: inline-block}\n",
       ".list-inline>li:not(:last-child)::after {content: \"\\00b7\"; padding: 0 .5ex}\n",
       "</style>\n",
       "<ol class=list-inline><li>3</li><li>5</li><li>7</li><li>9</li></ol>\n"
      ],
      "text/latex": [
       "\\begin{enumerate*}\n",
       "\\item 3\n",
       "\\item 5\n",
       "\\item 7\n",
       "\\item 9\n",
       "\\end{enumerate*}\n"
      ],
      "text/markdown": [
       "1. 3\n",
       "2. 5\n",
       "3. 7\n",
       "4. 9\n",
       "\n",
       "\n"
      ],
      "text/plain": [
       "[1] 3 5 7 9"
      ]
     },
     "metadata": {},
     "output_type": "display_data"
    }
   ],
   "source": [
    "y = c(2,3,4,5)\n",
    "z=x+y # adding two vectors\n",
    "z"
   ]
  },
  {
   "cell_type": "code",
   "execution_count": 5,
   "metadata": {
    "vscode": {
     "languageId": "r"
    }
   },
   "outputs": [
    {
     "data": {
      "text/html": [
       "<table class=\"dataframe\">\n",
       "<caption>A matrix: 1 × 1 of type dbl</caption>\n",
       "<tbody>\n",
       "\t<tr><td>40</td></tr>\n",
       "</tbody>\n",
       "</table>\n"
      ],
      "text/latex": [
       "A matrix: 1 × 1 of type dbl\n",
       "\\begin{tabular}{l}\n",
       "\t 40\\\\\n",
       "\\end{tabular}\n"
      ],
      "text/markdown": [
       "\n",
       "A matrix: 1 × 1 of type dbl\n",
       "\n",
       "| 40 |\n",
       "\n"
      ],
      "text/plain": [
       "     [,1]\n",
       "[1,] 40  "
      ]
     },
     "metadata": {},
     "output_type": "display_data"
    }
   ],
   "source": [
    "t(x)%*%y # product to transpose of x times y"
   ]
  },
  {
   "cell_type": "code",
   "execution_count": 6,
   "metadata": {
    "vscode": {
     "languageId": "r"
    }
   },
   "outputs": [
    {
     "data": {
      "text/html": [
       "<style>\n",
       ".list-inline {list-style: none; margin:0; padding: 0}\n",
       ".list-inline>li {display: inline-block}\n",
       ".list-inline>li:not(:last-child)::after {content: \"\\00b7\"; padding: 0 .5ex}\n",
       "</style>\n",
       "<ol class=list-inline><li>2</li><li>6</li><li>12</li><li>20</li></ol>\n"
      ],
      "text/latex": [
       "\\begin{enumerate*}\n",
       "\\item 2\n",
       "\\item 6\n",
       "\\item 12\n",
       "\\item 20\n",
       "\\end{enumerate*}\n"
      ],
      "text/markdown": [
       "1. 2\n",
       "2. 6\n",
       "3. 12\n",
       "4. 20\n",
       "\n",
       "\n"
      ],
      "text/plain": [
       "[1]  2  6 12 20"
      ]
     },
     "metadata": {},
     "output_type": "display_data"
    }
   ],
   "source": [
    "x*y # multiplies vectors component wise"
   ]
  },
  {
   "cell_type": "code",
   "execution_count": 7,
   "metadata": {
    "vscode": {
     "languageId": "r"
    }
   },
   "outputs": [
    {
     "data": {
      "text/html": [
       "<style>\n",
       ".list-inline {list-style: none; margin:0; padding: 0}\n",
       ".list-inline>li {display: inline-block}\n",
       ".list-inline>li:not(:last-child)::after {content: \"\\00b7\"; padding: 0 .5ex}\n",
       "</style>\n",
       "<ol class=list-inline><li>2</li><li>4</li><li>6</li><li>8</li></ol>\n"
      ],
      "text/latex": [
       "\\begin{enumerate*}\n",
       "\\item 2\n",
       "\\item 4\n",
       "\\item 6\n",
       "\\item 8\n",
       "\\end{enumerate*}\n"
      ],
      "text/markdown": [
       "1. 2\n",
       "2. 4\n",
       "3. 6\n",
       "4. 8\n",
       "\n",
       "\n"
      ],
      "text/plain": [
       "[1] 2 4 6 8"
      ]
     },
     "metadata": {},
     "output_type": "display_data"
    }
   ],
   "source": [
    "2*x"
   ]
  },
  {
   "cell_type": "code",
   "execution_count": 8,
   "metadata": {
    "vscode": {
     "languageId": "r"
    }
   },
   "outputs": [
    {
     "data": {
      "text/html": [
       "2.5"
      ],
      "text/latex": [
       "2.5"
      ],
      "text/markdown": [
       "2.5"
      ],
      "text/plain": [
       "[1] 2.5"
      ]
     },
     "metadata": {},
     "output_type": "display_data"
    },
    {
     "data": {
      "text/html": [
       "1.66666666666667"
      ],
      "text/latex": [
       "1.66666666666667"
      ],
      "text/markdown": [
       "1.66666666666667"
      ],
      "text/plain": [
       "[1] 1.666667"
      ]
     },
     "metadata": {},
     "output_type": "display_data"
    },
    {
     "data": {
      "text/html": [
       "1.29099444873581"
      ],
      "text/latex": [
       "1.29099444873581"
      ],
      "text/markdown": [
       "1.29099444873581"
      ],
      "text/plain": [
       "[1] 1.290994"
      ]
     },
     "metadata": {},
     "output_type": "display_data"
    },
    {
     "data": {
      "text/html": [
       "4"
      ],
      "text/latex": [
       "4"
      ],
      "text/markdown": [
       "4"
      ],
      "text/plain": [
       "[1] 4"
      ]
     },
     "metadata": {},
     "output_type": "display_data"
    },
    {
     "data": {
      "text/html": [
       "1"
      ],
      "text/latex": [
       "1"
      ],
      "text/markdown": [
       "1"
      ],
      "text/plain": [
       "[1] 1"
      ]
     },
     "metadata": {},
     "output_type": "display_data"
    },
    {
     "data": {
      "text/html": [
       "4"
      ],
      "text/latex": [
       "4"
      ],
      "text/markdown": [
       "4"
      ],
      "text/plain": [
       "[1] 4"
      ]
     },
     "metadata": {},
     "output_type": "display_data"
    }
   ],
   "source": [
    "mean(x) # mean\n",
    "var(x) # variance\n",
    "sd(x) # standard deviation\n",
    "max(x) #maximum\n",
    "min(x) #minimum\n",
    "length(x) # the number of elements in x / size of x"
   ]
  },
  {
   "cell_type": "code",
   "execution_count": 9,
   "metadata": {
    "vscode": {
     "languageId": "r"
    }
   },
   "outputs": [
    {
     "name": "stdout",
     "output_type": "stream",
     "text": [
      "cor                   package:stats                    R Documentation\n",
      "\n",
      "_\bC_\bo_\br_\br_\be_\bl_\ba_\bt_\bi_\bo_\bn, _\bV_\ba_\br_\bi_\ba_\bn_\bc_\be _\ba_\bn_\bd _\bC_\bo_\bv_\ba_\br_\bi_\ba_\bn_\bc_\be (_\bM_\ba_\bt_\br_\bi_\bc_\be_\bs)\n",
      "\n",
      "_\bD_\be_\bs_\bc_\br_\bi_\bp_\bt_\bi_\bo_\bn:\n",
      "\n",
      "     ‘var’, ‘cov’ and ‘cor’ compute the variance of ‘x’ and the\n",
      "     covariance or correlation of ‘x’ and ‘y’ if these are vectors.  If\n",
      "     ‘x’ and ‘y’ are matrices then the covariances (or correlations)\n",
      "     between the columns of ‘x’ and the columns of ‘y’ are computed.\n",
      "\n",
      "     ‘cov2cor’ scales a covariance matrix into the corresponding\n",
      "     correlation matrix _efficiently_.\n",
      "\n",
      "_\bU_\bs_\ba_\bg_\be:\n",
      "\n",
      "     var(x, y = NULL, na.rm = FALSE, use)\n",
      "     \n",
      "     cov(x, y = NULL, use = \"everything\",\n",
      "         method = c(\"pearson\", \"kendall\", \"spearman\"))\n",
      "     \n",
      "     cor(x, y = NULL, use = \"everything\",\n",
      "         method = c(\"pearson\", \"kendall\", \"spearman\"))\n",
      "     \n",
      "     cov2cor(V)\n",
      "     \n",
      "_\bA_\br_\bg_\bu_\bm_\be_\bn_\bt_\bs:\n",
      "\n",
      "       x: a numeric vector, matrix or data frame.\n",
      "\n",
      "       y: ‘NULL’ (default) or a vector, matrix or data frame with\n",
      "          compatible dimensions to ‘x’.  The default is equivalent to\n",
      "          ‘y = x’ (but more efficient).\n",
      "\n",
      "   na.rm: logical. Should missing values be removed?\n",
      "\n",
      "     use: an optional character string giving a method for computing\n",
      "          covariances in the presence of missing values.  This must be\n",
      "          (an abbreviation of) one of the strings ‘\"everything\"’,\n",
      "          ‘\"all.obs\"’, ‘\"complete.obs\"’, ‘\"na.or.complete\"’, or\n",
      "          ‘\"pairwise.complete.obs\"’.\n",
      "\n",
      "  method: a character string indicating which correlation coefficient\n",
      "          (or covariance) is to be computed.  One of ‘\"pearson\"’\n",
      "          (default), ‘\"kendall\"’, or ‘\"spearman\"’: can be abbreviated.\n",
      "\n",
      "       V: symmetric numeric matrix, usually positive definite such as a\n",
      "          covariance matrix.\n",
      "\n",
      "_\bD_\be_\bt_\ba_\bi_\bl_\bs:\n",
      "\n",
      "     For ‘cov’ and ‘cor’ one must _either_ give a matrix or data frame\n",
      "     for ‘x’ _or_ give both ‘x’ and ‘y’.\n",
      "\n",
      "     The inputs must be numeric (as determined by ‘is.numeric’: logical\n",
      "     values are also allowed for historical compatibility): the\n",
      "     ‘\"kendall\"’ and ‘\"spearman\"’ methods make sense for ordered inputs\n",
      "     but ‘xtfrm’ can be used to find a suitable prior transformation to\n",
      "     numbers.\n",
      "\n",
      "     ‘var’ is just another interface to ‘cov’, where ‘na.rm’ is used to\n",
      "     determine the default for ‘use’ when that is unspecified.  If\n",
      "     ‘na.rm’ is ‘TRUE’ then the complete observations (rows) are used\n",
      "     (‘use = \"na.or.complete\"’) to compute the variance.  Otherwise, by\n",
      "     default ‘use = \"everything\"’.\n",
      "\n",
      "     If ‘use’ is ‘\"everything\"’, ‘NA’s will propagate conceptually,\n",
      "     i.e., a resulting value will be ‘NA’ whenever one of its\n",
      "     contributing observations is ‘NA’.\n",
      "     If ‘use’ is ‘\"all.obs\"’, then the presence of missing observations\n",
      "     will produce an error.  If ‘use’ is ‘\"complete.obs\"’ then missing\n",
      "     values are handled by casewise deletion (and if there are no\n",
      "     complete cases, that gives an error).\n",
      "\n",
      "     ‘\"na.or.complete\"’ is the same unless there are no complete cases,\n",
      "     that gives ‘NA’.  Finally, if ‘use’ has the value\n",
      "     ‘\"pairwise.complete.obs\"’ then the correlation or covariance\n",
      "     between each pair of variables is computed using all complete\n",
      "     pairs of observations on those variables.  This can result in\n",
      "     covariance or correlation matrices which are not positive\n",
      "     semi-definite, as well as ‘NA’ entries if there are no complete\n",
      "     pairs for that pair of variables.  For ‘cov’ and ‘var’,\n",
      "     ‘\"pairwise.complete.obs\"’ only works with the ‘\"pearson\"’ method.\n",
      "     Note that (the equivalent of) ‘var(double(0), use = *)’ gives ‘NA’\n",
      "     for ‘use = \"everything\"’ and ‘\"na.or.complete\"’, and gives an\n",
      "     error in the other cases.\n",
      "\n",
      "     The denominator n - 1 is used which gives an unbiased estimator of\n",
      "     the (co)variance for i.i.d. observations.  These functions return\n",
      "     ‘NA’ when there is only one observation (whereas S-PLUS has been\n",
      "     returning ‘NaN’).\n",
      "\n",
      "     For ‘cor()’, if ‘method’ is ‘\"kendall\"’ or ‘\"spearman\"’, Kendall's\n",
      "     tau or Spearman's rho statistic is used to estimate a rank-based\n",
      "     measure of association.  These are more robust and have been\n",
      "     recommended if the data do not necessarily come from a bivariate\n",
      "     normal distribution.\n",
      "     For ‘cov()’, a non-Pearson method is unusual but available for the\n",
      "     sake of completeness.  Note that ‘\"spearman\"’ basically computes\n",
      "     ‘cor(R(x), R(y))’ (or ‘cov(., .)’) where ‘R(u) := rank(u, na.last\n",
      "     = \"keep\")’. In the case of missing values, the ranks are\n",
      "     calculated depending on the value of ‘use’, either based on\n",
      "     complete observations, or based on pairwise completeness with\n",
      "     reranking for each pair.\n",
      "\n",
      "     When there are ties, Kendall's tau_b is computed, as proposed by\n",
      "     Kendall (1945).\n",
      "\n",
      "     Scaling a covariance matrix into a correlation one can be achieved\n",
      "     in many ways, mathematically most appealing by multiplication with\n",
      "     a diagonal matrix from left and right, or more efficiently by\n",
      "     using ‘sweep(.., FUN = \"/\")’ twice.  The ‘cov2cor’ function is\n",
      "     even a bit more efficient, and provided mostly for didactical\n",
      "     reasons.\n",
      "\n",
      "_\bV_\ba_\bl_\bu_\be:\n",
      "\n",
      "     For ‘r <- cor(*, use = \"all.obs\")’, it is now guaranteed that\n",
      "     ‘all(abs(r) <= 1)’.\n",
      "\n",
      "_\bN_\bo_\bt_\be:\n",
      "\n",
      "     Some people have noted that the code for Kendall's tau is slow for\n",
      "     very large datasets (many more than 1000 cases).  It rarely makes\n",
      "     sense to do such a computation, but see function ‘cor.fk’ in\n",
      "     package ‘pcaPP’.\n",
      "\n",
      "_\bR_\be_\bf_\be_\br_\be_\bn_\bc_\be_\bs:\n",
      "\n",
      "     Becker, R. A., Chambers, J. M. and Wilks, A. R. (1988).  _The New\n",
      "     S Language_.  Wadsworth & Brooks/Cole.\n",
      "\n",
      "     Kendall, M. G. (1938).  A new measure of rank correlation,\n",
      "     _Biometrika_, *30*, 81-93.  doi: 10.1093/biomet/30.1-2.81 (URL:\n",
      "     https://doi.org/10.1093/biomet/30.1-2.81).\n",
      "\n",
      "     Kendall, M. G. (1945).  The treatment of ties in rank problems.\n",
      "     _Biometrika_, *33* 239-251.  doi: 10.1093/biomet/33.3.239 (URL:\n",
      "     https://doi.org/10.1093/biomet/33.3.239)\n",
      "\n",
      "_\bS_\be_\be _\bA_\bl_\bs_\bo:\n",
      "\n",
      "     ‘cor.test’ for confidence intervals (and tests).\n",
      "\n",
      "     ‘cov.wt’ for _weighted_ covariance computation.\n",
      "\n",
      "     ‘sd’ for standard deviation (vectors).\n",
      "\n",
      "_\bE_\bx_\ba_\bm_\bp_\bl_\be_\bs:\n",
      "\n",
      "     var(1:10)  # 9.166667\n",
      "     \n",
      "     var(1:5, 1:5) # 2.5\n",
      "     \n",
      "     ## Two simple vectors\n",
      "     cor(1:10, 2:11) # == 1\n",
      "     \n",
      "     ## Correlation Matrix of Multivariate sample:\n",
      "     (Cl <- cor(longley))\n",
      "     ## Graphical Correlation Matrix:\n",
      "     symnum(Cl) # highly correlated\n",
      "     \n",
      "     ## Spearman's rho  and  Kendall's tau\n",
      "     symnum(clS <- cor(longley, method = \"spearman\"))\n",
      "     symnum(clK <- cor(longley, method = \"kendall\"))\n",
      "     ## How much do they differ?\n",
      "     i <- lower.tri(Cl)\n",
      "     cor(cbind(P = Cl[i], S = clS[i], K = clK[i]))\n",
      "     \n",
      "     \n",
      "     ## cov2cor() scales a covariance matrix by its diagonal\n",
      "     ##           to become the correlation matrix.\n",
      "     cov2cor # see the function definition {and learn ..}\n",
      "     stopifnot(all.equal(Cl, cov2cor(cov(longley))),\n",
      "               all.equal(cor(longley, method = \"kendall\"),\n",
      "                 cov2cor(cov(longley, method = \"kendall\"))))\n",
      "     \n",
      "     ##--- Missing value treatment:\n",
      "     \n",
      "     C1 <- cov(swiss)\n",
      "     range(eigen(C1, only.values = TRUE)$values) # 6.19        1921\n",
      "     \n",
      "     ## swM := \"swiss\" with  3 \"missing\"s :\n",
      "     swM <- swiss\n",
      "     colnames(swM) <- abbreviate(colnames(swiss), minlength=6)\n",
      "     swM[1,2] <- swM[7,3] <- swM[25,5] <- NA # create 3 \"missing\"\n",
      "     \n",
      "     ## Consider all 5 \"use\" cases :\n",
      "     (C. <- cov(swM)) # use=\"everything\"  quite a few NA's in cov.matrix\n",
      "     try(cov(swM, use = \"all\")) # Error: missing obs...\n",
      "     C2 <- cov(swM, use = \"complete\")\n",
      "     stopifnot(identical(C2, cov(swM, use = \"na.or.complete\")))\n",
      "     range(eigen(C2, only.values = TRUE)$values) # 6.46   1930\n",
      "     C3 <- cov(swM, use = \"pairwise\")\n",
      "     range(eigen(C3, only.values = TRUE)$values) # 6.19   1938\n",
      "     \n",
      "     ## Kendall's tau doesn't change much:\n",
      "     symnum(Rc <- cor(swM, method = \"kendall\", use = \"complete\"))\n",
      "     symnum(Rp <- cor(swM, method = \"kendall\", use = \"pairwise\"))\n",
      "     symnum(R. <- cor(swiss, method = \"kendall\"))\n",
      "     \n",
      "     ## \"pairwise\" is closer componentwise,\n",
      "     summary(abs(c(1 - Rp/R.)))\n",
      "     summary(abs(c(1 - Rc/R.)))\n",
      "     \n",
      "     ## but \"complete\" is closer in Eigen space:\n",
      "     EV <- function(m) eigen(m, only.values=TRUE)$values\n",
      "     summary(abs(1 - EV(Rp)/EV(R.)) / abs(1 - EV(Rc)/EV(R.)))\n",
      "     "
     ]
    }
   ],
   "source": [
    "# to get access to documentation, type a ? before a function call\n",
    "?var"
   ]
  },
  {
   "cell_type": "markdown",
   "metadata": {},
   "source": [
    "### Matrices"
   ]
  },
  {
   "cell_type": "code",
   "execution_count": 10,
   "metadata": {
    "vscode": {
     "languageId": "r"
    }
   },
   "outputs": [
    {
     "data": {
      "text/html": [
       "<table class=\"dataframe\">\n",
       "<caption>A matrix: 2 × 2 of type dbl</caption>\n",
       "<tbody>\n",
       "\t<tr><td>1</td><td>3</td></tr>\n",
       "\t<tr><td>2</td><td>4</td></tr>\n",
       "</tbody>\n",
       "</table>\n"
      ],
      "text/latex": [
       "A matrix: 2 × 2 of type dbl\n",
       "\\begin{tabular}{ll}\n",
       "\t 1 & 3\\\\\n",
       "\t 2 & 4\\\\\n",
       "\\end{tabular}\n"
      ],
      "text/markdown": [
       "\n",
       "A matrix: 2 × 2 of type dbl\n",
       "\n",
       "| 1 | 3 |\n",
       "| 2 | 4 |\n",
       "\n"
      ],
      "text/plain": [
       "     [,1] [,2]\n",
       "[1,] 1    3   \n",
       "[2,] 2    4   "
      ]
     },
     "metadata": {},
     "output_type": "display_data"
    }
   ],
   "source": [
    "m1=matrix(c(1,2,3,4), nrow=2, ncol=2) # fills entries column-wise\n",
    "m1"
   ]
  },
  {
   "cell_type": "code",
   "execution_count": 11,
   "metadata": {
    "vscode": {
     "languageId": "r"
    }
   },
   "outputs": [
    {
     "data": {
      "text/html": [
       "<table class=\"dataframe\">\n",
       "<caption>A matrix: 2 × 5 of type dbl</caption>\n",
       "<tbody>\n",
       "\t<tr><th scope=row>x1</th><td>0</td><td>0</td><td>0</td><td>0</td><td>0</td></tr>\n",
       "\t<tr><th scope=row>x2</th><td>1</td><td>1</td><td>1</td><td>1</td><td>1</td></tr>\n",
       "</tbody>\n",
       "</table>\n"
      ],
      "text/latex": [
       "A matrix: 2 × 5 of type dbl\n",
       "\\begin{tabular}{r|lllll}\n",
       "\tx1 & 0 & 0 & 0 & 0 & 0\\\\\n",
       "\tx2 & 1 & 1 & 1 & 1 & 1\\\\\n",
       "\\end{tabular}\n"
      ],
      "text/markdown": [
       "\n",
       "A matrix: 2 × 5 of type dbl\n",
       "\n",
       "| x1 | 0 | 0 | 0 | 0 | 0 |\n",
       "| x2 | 1 | 1 | 1 | 1 | 1 |\n",
       "\n"
      ],
      "text/plain": [
       "   [,1] [,2] [,3] [,4] [,5]\n",
       "x1 0    0    0    0    0   \n",
       "x2 1    1    1    1    1   "
      ]
     },
     "metadata": {},
     "output_type": "display_data"
    }
   ],
   "source": [
    "# making a matrix by joining vectors\n",
    "x1=rep(0,5) #repeats the first arg 5 times\n",
    "x2=rep(1,5)\n",
    "\n",
    "m2=rbind(x1,x2) # bind row-wise\n",
    "m2"
   ]
  },
  {
   "cell_type": "code",
   "execution_count": 12,
   "metadata": {
    "vscode": {
     "languageId": "r"
    }
   },
   "outputs": [
    {
     "data": {
      "text/html": [
       "<table class=\"dataframe\">\n",
       "<caption>A matrix: 5 × 2 of type dbl</caption>\n",
       "<thead>\n",
       "\t<tr><th scope=col>x1</th><th scope=col>x2</th></tr>\n",
       "</thead>\n",
       "<tbody>\n",
       "\t<tr><td>0</td><td>1</td></tr>\n",
       "\t<tr><td>0</td><td>1</td></tr>\n",
       "\t<tr><td>0</td><td>1</td></tr>\n",
       "\t<tr><td>0</td><td>1</td></tr>\n",
       "\t<tr><td>0</td><td>1</td></tr>\n",
       "</tbody>\n",
       "</table>\n"
      ],
      "text/latex": [
       "A matrix: 5 × 2 of type dbl\n",
       "\\begin{tabular}{ll}\n",
       " x1 & x2\\\\\n",
       "\\hline\n",
       "\t 0 & 1\\\\\n",
       "\t 0 & 1\\\\\n",
       "\t 0 & 1\\\\\n",
       "\t 0 & 1\\\\\n",
       "\t 0 & 1\\\\\n",
       "\\end{tabular}\n"
      ],
      "text/markdown": [
       "\n",
       "A matrix: 5 × 2 of type dbl\n",
       "\n",
       "| x1 | x2 |\n",
       "|---|---|\n",
       "| 0 | 1 |\n",
       "| 0 | 1 |\n",
       "| 0 | 1 |\n",
       "| 0 | 1 |\n",
       "| 0 | 1 |\n",
       "\n"
      ],
      "text/plain": [
       "     x1 x2\n",
       "[1,] 0  1 \n",
       "[2,] 0  1 \n",
       "[3,] 0  1 \n",
       "[4,] 0  1 \n",
       "[5,] 0  1 "
      ]
     },
     "metadata": {},
     "output_type": "display_data"
    }
   ],
   "source": [
    "m3=cbind(x1,x2) #bind column-wise\n",
    "m3"
   ]
  },
  {
   "cell_type": "code",
   "execution_count": 13,
   "metadata": {
    "vscode": {
     "languageId": "r"
    }
   },
   "outputs": [
    {
     "data": {
      "text/html": [
       "<table class=\"dataframe\">\n",
       "<caption>A matrix: 2 × 2 of type dbl</caption>\n",
       "<thead>\n",
       "\t<tr><th></th><th scope=col>x1</th><th scope=col>x2</th></tr>\n",
       "</thead>\n",
       "<tbody>\n",
       "\t<tr><th scope=row>x1</th><td>0</td><td>0</td></tr>\n",
       "\t<tr><th scope=row>x2</th><td>0</td><td>5</td></tr>\n",
       "</tbody>\n",
       "</table>\n"
      ],
      "text/latex": [
       "A matrix: 2 × 2 of type dbl\n",
       "\\begin{tabular}{r|ll}\n",
       "  & x1 & x2\\\\\n",
       "\\hline\n",
       "\tx1 & 0 & 0\\\\\n",
       "\tx2 & 0 & 5\\\\\n",
       "\\end{tabular}\n"
      ],
      "text/markdown": [
       "\n",
       "A matrix: 2 × 2 of type dbl\n",
       "\n",
       "| <!--/--> | x1 | x2 |\n",
       "|---|---|---|\n",
       "| x1 | 0 | 0 |\n",
       "| x2 | 0 | 5 |\n",
       "\n"
      ],
      "text/plain": [
       "   x1 x2\n",
       "x1 0  0 \n",
       "x2 0  5 "
      ]
     },
     "metadata": {},
     "output_type": "display_data"
    },
    {
     "data": {
      "text/html": [
       "<table class=\"dataframe\">\n",
       "<caption>A matrix: 2 × 5 of type dbl</caption>\n",
       "<tbody>\n",
       "\t<tr><th scope=row>x1</th><td>0</td><td>0</td><td>0</td><td>0</td><td>0</td></tr>\n",
       "\t<tr><th scope=row>x2</th><td>2</td><td>2</td><td>2</td><td>2</td><td>2</td></tr>\n",
       "</tbody>\n",
       "</table>\n"
      ],
      "text/latex": [
       "A matrix: 2 × 5 of type dbl\n",
       "\\begin{tabular}{r|lllll}\n",
       "\tx1 & 0 & 0 & 0 & 0 & 0\\\\\n",
       "\tx2 & 2 & 2 & 2 & 2 & 2\\\\\n",
       "\\end{tabular}\n"
      ],
      "text/markdown": [
       "\n",
       "A matrix: 2 × 5 of type dbl\n",
       "\n",
       "| x1 | 0 | 0 | 0 | 0 | 0 |\n",
       "| x2 | 2 | 2 | 2 | 2 | 2 |\n",
       "\n"
      ],
      "text/plain": [
       "   [,1] [,2] [,3] [,4] [,5]\n",
       "x1 0    0    0    0    0   \n",
       "x2 2    2    2    2    2   "
      ]
     },
     "metadata": {},
     "output_type": "display_data"
    }
   ],
   "source": [
    "# matrix multiplication\n",
    "m2%*%m3\n",
    "2*m2"
   ]
  },
  {
   "cell_type": "markdown",
   "metadata": {},
   "source": [
    "### Random Variables and Distributions"
   ]
  },
  {
   "cell_type": "code",
   "execution_count": 14,
   "metadata": {
    "vscode": {
     "languageId": "r"
    }
   },
   "outputs": [
    {
     "data": {
      "text/html": [
       "<style>\n",
       ".list-inline {list-style: none; margin:0; padding: 0}\n",
       ".list-inline>li {display: inline-block}\n",
       ".list-inline>li:not(:last-child)::after {content: \"\\00b7\"; padding: 0 .5ex}\n",
       "</style>\n",
       "<ol class=list-inline><li>12</li><li>13</li><li>11</li><li>14</li><li>7</li><li>15</li><li>15</li><li>10</li><li>10</li><li>17</li></ol>\n"
      ],
      "text/latex": [
       "\\begin{enumerate*}\n",
       "\\item 12\n",
       "\\item 13\n",
       "\\item 11\n",
       "\\item 14\n",
       "\\item 7\n",
       "\\item 15\n",
       "\\item 15\n",
       "\\item 10\n",
       "\\item 10\n",
       "\\item 17\n",
       "\\end{enumerate*}\n"
      ],
      "text/markdown": [
       "1. 12\n",
       "2. 13\n",
       "3. 11\n",
       "4. 14\n",
       "5. 7\n",
       "6. 15\n",
       "7. 15\n",
       "8. 10\n",
       "9. 10\n",
       "10. 17\n",
       "\n",
       "\n"
      ],
      "text/plain": [
       " [1] 12 13 11 14  7 15 15 10 10 17"
      ]
     },
     "metadata": {},
     "output_type": "display_data"
    }
   ],
   "source": [
    "# binomial distribution\n",
    "x=rbinom(n=10, size=40, prob=0.3)\n",
    "x"
   ]
  },
  {
   "cell_type": "code",
   "execution_count": 17,
   "metadata": {
    "vscode": {
     "languageId": "r"
    }
   },
   "outputs": [
    {
     "data": {
      "text/html": [
       "<style>\n",
       ".list-inline {list-style: none; margin:0; padding: 0}\n",
       ".list-inline>li {display: inline-block}\n",
       ".list-inline>li:not(:last-child)::after {content: \"\\00b7\"; padding: 0 .5ex}\n",
       "</style>\n",
       "<ol class=list-inline><li>1.39078172750378</li><li>1.82334443510546</li><li>1.22361034817734</li><li>1.41645143724467</li><li>2.38277712483952</li><li>1.52331125339605</li><li>3.10173351367328</li><li>2.6013699732505</li><li>2.76926225629653</li><li>4.04257084851162</li></ol>\n"
      ],
      "text/latex": [
       "\\begin{enumerate*}\n",
       "\\item 1.39078172750378\n",
       "\\item 1.82334443510546\n",
       "\\item 1.22361034817734\n",
       "\\item 1.41645143724467\n",
       "\\item 2.38277712483952\n",
       "\\item 1.52331125339605\n",
       "\\item 3.10173351367328\n",
       "\\item 2.6013699732505\n",
       "\\item 2.76926225629653\n",
       "\\item 4.04257084851162\n",
       "\\end{enumerate*}\n"
      ],
      "text/markdown": [
       "1. 1.39078172750378\n",
       "2. 1.82334443510546\n",
       "3. 1.22361034817734\n",
       "4. 1.41645143724467\n",
       "5. 2.38277712483952\n",
       "6. 1.52331125339605\n",
       "7. 3.10173351367328\n",
       "8. 2.6013699732505\n",
       "9. 2.76926225629653\n",
       "10. 4.04257084851162\n",
       "\n",
       "\n"
      ],
      "text/plain": [
       " [1] 1.390782 1.823344 1.223610 1.416451 2.382777 1.523311 3.101734 2.601370\n",
       " [9] 2.769262 4.042571"
      ]
     },
     "metadata": {},
     "output_type": "display_data"
    }
   ],
   "source": [
    "# Normal distribution\n",
    "x = rnorm(n=10, mean=2, sd=1)\n",
    "x"
   ]
  },
  {
   "cell_type": "markdown",
   "metadata": {},
   "source": [
    "### Libraries and Data"
   ]
  },
  {
   "cell_type": "code",
   "execution_count": null,
   "metadata": {
    "vscode": {
     "languageId": "r"
    }
   },
   "outputs": [],
   "source": [
    "# install packages with install.packages(\"name_of_package\") - DO THIS IN AN R TERMINAL\n",
    "\n",
    "# load the library\n",
    "library(ALSM)\n",
    "data(TolucaCompany) # download a dataset\n",
    "?TolucaCompany # get documentation on the dataset\n",
    "dim(TolucaCompany) # get the dimension of the data\n",
    "head(TolucaCompany) # look at the initial part of the data"
   ]
  },
  {
   "cell_type": "markdown",
   "metadata": {},
   "source": [
    "### Graphical Representations"
   ]
  },
  {
   "cell_type": "code",
   "execution_count": null,
   "metadata": {
    "vscode": {
     "languageId": "r"
    }
   },
   "outputs": [],
   "source": [
    "# histogram\n",
    "hist(TolucaCompany$x)\n",
    "?hist"
   ]
  },
  {
   "cell_type": "code",
   "execution_count": null,
   "metadata": {
    "vscode": {
     "languageId": "r"
    }
   },
   "outputs": [],
   "source": [
    "# scatterplot\n",
    "plot(TolucaCompany$x, TolucaCompany$y)"
   ]
  },
  {
   "cell_type": "markdown",
   "metadata": {},
   "source": [
    "### Importing/Exporting Data\n",
    "\n",
    "NOTE: Be sure to set your path with the `setwd` command first"
   ]
  },
  {
   "cell_type": "code",
   "execution_count": null,
   "metadata": {
    "vscode": {
     "languageId": "r"
    }
   },
   "outputs": [],
   "source": [
    "write.table(x, \"test.txt\") # write data"
   ]
  },
  {
   "cell_type": "code",
   "execution_count": null,
   "metadata": {
    "vscode": {
     "languageId": "r"
    }
   },
   "outputs": [],
   "source": [
    "read.table(\"test.txt\") # read data"
   ]
  },
  {
   "cell_type": "markdown",
   "metadata": {},
   "source": [
    "* `read.csv()` - used to read data from csv files\n",
    "* `install.packages(\"readxl\")` AND `read_excel()` - used to read data from excel files\n",
    "* use `header=TRUE` to keep header in your R DataFrame"
   ]
  }
 ],
 "metadata": {
  "kernelspec": {
   "display_name": "R",
   "language": "R",
   "name": "ir"
  },
  "language_info": {
   "codemirror_mode": "r",
   "file_extension": ".r",
   "mimetype": "text/x-r-source",
   "name": "R",
   "pygments_lexer": "r",
   "version": "4.1.2"
  },
  "orig_nbformat": 4
 },
 "nbformat": 4,
 "nbformat_minor": 2
}
