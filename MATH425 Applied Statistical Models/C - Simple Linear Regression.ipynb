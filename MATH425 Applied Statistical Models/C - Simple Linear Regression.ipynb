{
 "cells": [
  {
   "cell_type": "markdown",
   "metadata": {},
   "source": [
    "# C: Simple Linear Regression"
   ]
  },
  {
   "cell_type": "markdown",
   "metadata": {},
   "source": [
    "### The Model\n",
    "\n",
    "$$\n",
    "Y_i = \\beta_0 + \\beta_1 X_i + \\epsilon_i \n",
    "$$\n",
    "\n",
    "Where $E(\\epsilon_i) = 0$ and $Var(\\epsilon_i) = \\sigma^2$\n",
    "\n",
    "### Least Square Methods\n",
    "\n",
    "$$\n",
    "SSE = (Y_i - b_0 - b_1 X_i)^2\n",
    "$$\n",
    "\n",
    "$$\n",
    "b_1 = \\frac{\\sum(X_i - \\overline X)^2(Y_i - \\overline Y)^2}{\\sum(X_i - \\overline X)^2}\n",
    "$$\n",
    "\n",
    "$$\n",
    "b_0 = \\overline Y - b_1\\overline X\n",
    "$$"
   ]
  },
  {
   "cell_type": "markdown",
   "metadata": {},
   "source": [
    "## LS Estimator for $\\sigma^2$\n",
    "\n",
    "$$\n",
    "s^2 = MSE = \\frac{SSE}{df} = \\frac{\\sum_{i=1}^n (Y_i-\\hat Y_i)^2}{n-2}\n",
    "$$\n",
    "\n",
    "* Where $df$ is the degrees of freedom and $n$ is the number of observations\n",
    "* $E(b_0)=\\beta_0$, $E(b_1)=\\beta_1$, $E(s^2) = \\sigma^2$"
   ]
  },
  {
   "cell_type": "markdown",
   "metadata": {},
   "source": [
    "## Normal Error Regression Model\n",
    "\n",
    "$$\n",
    "Y_i = \\beta_0 + \\beta_1 X_i + \\epsilon_i\n",
    "$$\n",
    "\n",
    "Since $\\epsilon$ is following a Normal distribution, then $Y_i$ also follows a Normal distribution with mean $\\beta_0+\\beta_1X_i$ and variance $\\sigma^2$"
   ]
  },
  {
   "cell_type": "markdown",
   "metadata": {},
   "source": [
    "## Example: Doing Simple Linear Regression with R"
   ]
  },
  {
   "cell_type": "markdown",
   "metadata": {},
   "source": [
    "* Load the student height and weight data"
   ]
  },
  {
   "cell_type": "code",
   "execution_count": 4,
   "metadata": {
    "vscode": {
     "languageId": "r"
    }
   },
   "outputs": [
    {
     "data": {
      "text/html": [
       "<table class=\"dataframe\">\n",
       "<caption>A data.frame: 10 × 2</caption>\n",
       "<thead>\n",
       "\t<tr><th scope=col>ht</th><th scope=col>wt</th></tr>\n",
       "\t<tr><th scope=col>&lt;int&gt;</th><th scope=col>&lt;int&gt;</th></tr>\n",
       "</thead>\n",
       "<tbody>\n",
       "\t<tr><td>63</td><td>127</td></tr>\n",
       "\t<tr><td>64</td><td>121</td></tr>\n",
       "\t<tr><td>66</td><td>142</td></tr>\n",
       "\t<tr><td>69</td><td>157</td></tr>\n",
       "\t<tr><td>69</td><td>162</td></tr>\n",
       "\t<tr><td>71</td><td>156</td></tr>\n",
       "\t<tr><td>71</td><td>169</td></tr>\n",
       "\t<tr><td>72</td><td>165</td></tr>\n",
       "\t<tr><td>73</td><td>181</td></tr>\n",
       "\t<tr><td>75</td><td>208</td></tr>\n",
       "</tbody>\n",
       "</table>\n"
      ],
      "text/latex": [
       "A data.frame: 10 × 2\n",
       "\\begin{tabular}{ll}\n",
       " ht & wt\\\\\n",
       " <int> & <int>\\\\\n",
       "\\hline\n",
       "\t 63 & 127\\\\\n",
       "\t 64 & 121\\\\\n",
       "\t 66 & 142\\\\\n",
       "\t 69 & 157\\\\\n",
       "\t 69 & 162\\\\\n",
       "\t 71 & 156\\\\\n",
       "\t 71 & 169\\\\\n",
       "\t 72 & 165\\\\\n",
       "\t 73 & 181\\\\\n",
       "\t 75 & 208\\\\\n",
       "\\end{tabular}\n"
      ],
      "text/markdown": [
       "\n",
       "A data.frame: 10 × 2\n",
       "\n",
       "| ht &lt;int&gt; | wt &lt;int&gt; |\n",
       "|---|---|\n",
       "| 63 | 127 |\n",
       "| 64 | 121 |\n",
       "| 66 | 142 |\n",
       "| 69 | 157 |\n",
       "| 69 | 162 |\n",
       "| 71 | 156 |\n",
       "| 71 | 169 |\n",
       "| 72 | 165 |\n",
       "| 73 | 181 |\n",
       "| 75 | 208 |\n",
       "\n"
      ],
      "text/plain": [
       "   ht wt \n",
       "1  63 127\n",
       "2  64 121\n",
       "3  66 142\n",
       "4  69 157\n",
       "5  69 162\n",
       "6  71 156\n",
       "7  71 169\n",
       "8  72 165\n",
       "9  73 181\n",
       "10 75 208"
      ]
     },
     "metadata": {},
     "output_type": "display_data"
    }
   ],
   "source": [
    "data = read.table('data_files/c2_height_weight.txt', header=T)\n",
    "data"
   ]
  },
  {
   "cell_type": "markdown",
   "metadata": {},
   "source": [
    "* Produce a scatterplot of the data"
   ]
  },
  {
   "cell_type": "code",
   "execution_count": 5,
   "metadata": {
    "vscode": {
     "languageId": "r"
    }
   },
   "outputs": [
    {
     "data": {
      "image/png": "[encoded data removed]",
      "text/plain": [
       "plot without title"
      ]
     },
     "metadata": {
      "image/png": {
       "height": 420,
       "width": 420
      }
     },
     "output_type": "display_data"
    }
   ],
   "source": [
    "plot(data$ht, data$wt)"
   ]
  },
  {
   "cell_type": "markdown",
   "metadata": {},
   "source": [
    "* Calculate the correlation between height and weight"
   ]
  },
  {
   "cell_type": "code",
   "execution_count": 6,
   "metadata": {
    "vscode": {
     "languageId": "r"
    }
   },
   "outputs": [
    {
     "data": {
      "text/html": [
       "0.947098367785446"
      ],
      "text/latex": [
       "0.947098367785446"
      ],
      "text/markdown": [
       "0.947098367785446"
      ],
      "text/plain": [
       "[1] 0.9470984"
      ]
     },
     "metadata": {},
     "output_type": "display_data"
    }
   ],
   "source": [
    "data_cor = cor(data$ht, data$wt)\n",
    "data_cor"
   ]
  }
 ],
 "metadata": {
  "kernelspec": {
   "display_name": "R",
   "language": "R",
   "name": "ir"
  },
  "language_info": {
   "codemirror_mode": "r",
   "file_extension": ".r",
   "mimetype": "text/x-r-source",
   "name": "R",
   "pygments_lexer": "r",
   "version": "4.1.2"
  },
  "orig_nbformat": 4
 },
 "nbformat": 4,
 "nbformat_minor": 2
}
