{
 "cells": [
  {
   "cell_type": "markdown",
   "metadata": {},
   "source": [
    "# EXAM 2 REVIEW"
   ]
  },
  {
   "cell_type": "markdown",
   "metadata": {},
   "source": [
    "## Example 1: `mtcars`\n",
    "\n",
    "* Load the dataset and show the dimensions of the dataset"
   ]
  },
  {
   "cell_type": "code",
   "execution_count": 3,
   "metadata": {
    "vscode": {
     "languageId": "r"
    }
   },
   "outputs": [
    {
     "data": {
      "text/html": [
       "<table class=\"dataframe\">\n",
       "<caption>A data.frame: 32 × 11</caption>\n",
       "<thead>\n",
       "\t<tr><th></th><th scope=col>mpg</th><th scope=col>cyl</th><th scope=col>disp</th><th scope=col>hp</th><th scope=col>drat</th><th scope=col>wt</th><th scope=col>qsec</th><th scope=col>vs</th><th scope=col>am</th><th scope=col>gear</th><th scope=col>carb</th></tr>\n",
       "\t<tr><th></th><th scope=col>&lt;dbl&gt;</th><th scope=col>&lt;dbl&gt;</th><th scope=col>&lt;dbl&gt;</th><th scope=col>&lt;dbl&gt;</th><th scope=col>&lt;dbl&gt;</th><th scope=col>&lt;dbl&gt;</th><th scope=col>&lt;dbl&gt;</th><th scope=col>&lt;dbl&gt;</th><th scope=col>&lt;dbl&gt;</th><th scope=col>&lt;dbl&gt;</th><th scope=col>&lt;dbl&gt;</th></tr>\n",
       "</thead>\n",
       "<tbody>\n",
       "\t<tr><th scope=row>Mazda RX4</th><td>21.0</td><td>6</td><td>160.0</td><td>110</td><td>3.90</td><td>2.620</td><td>16.46</td><td>0</td><td>1</td><td>4</td><td>4</td></tr>\n",
       "\t<tr><th scope=row>Mazda RX4 Wag</th><td>21.0</td><td>6</td><td>160.0</td><td>110</td><td>3.90</td><td>2.875</td><td>17.02</td><td>0</td><td>1</td><td>4</td><td>4</td></tr>\n",
       "\t<tr><th scope=row>Datsun 710</th><td>22.8</td><td>4</td><td>108.0</td><td> 93</td><td>3.85</td><td>2.320</td><td>18.61</td><td>1</td><td>1</td><td>4</td><td>1</td></tr>\n",
       "\t<tr><th scope=row>Hornet 4 Drive</th><td>21.4</td><td>6</td><td>258.0</td><td>110</td><td>3.08</td><td>3.215</td><td>19.44</td><td>1</td><td>0</td><td>3</td><td>1</td></tr>\n",
       "\t<tr><th scope=row>Hornet Sportabout</th><td>18.7</td><td>8</td><td>360.0</td><td>175</td><td>3.15</td><td>3.440</td><td>17.02</td><td>0</td><td>0</td><td>3</td><td>2</td></tr>\n",
       "\t<tr><th scope=row>Valiant</th><td>18.1</td><td>6</td><td>225.0</td><td>105</td><td>2.76</td><td>3.460</td><td>20.22</td><td>1</td><td>0</td><td>3</td><td>1</td></tr>\n",
       "\t<tr><th scope=row>Duster 360</th><td>14.3</td><td>8</td><td>360.0</td><td>245</td><td>3.21</td><td>3.570</td><td>15.84</td><td>0</td><td>0</td><td>3</td><td>4</td></tr>\n",
       "\t<tr><th scope=row>Merc 240D</th><td>24.4</td><td>4</td><td>146.7</td><td> 62</td><td>3.69</td><td>3.190</td><td>20.00</td><td>1</td><td>0</td><td>4</td><td>2</td></tr>\n",
       "\t<tr><th scope=row>Merc 230</th><td>22.8</td><td>4</td><td>140.8</td><td> 95</td><td>3.92</td><td>3.150</td><td>22.90</td><td>1</td><td>0</td><td>4</td><td>2</td></tr>\n",
       "\t<tr><th scope=row>Merc 280</th><td>19.2</td><td>6</td><td>167.6</td><td>123</td><td>3.92</td><td>3.440</td><td>18.30</td><td>1</td><td>0</td><td>4</td><td>4</td></tr>\n",
       "\t<tr><th scope=row>Merc 280C</th><td>17.8</td><td>6</td><td>167.6</td><td>123</td><td>3.92</td><td>3.440</td><td>18.90</td><td>1</td><td>0</td><td>4</td><td>4</td></tr>\n",
       "\t<tr><th scope=row>Merc 450SE</th><td>16.4</td><td>8</td><td>275.8</td><td>180</td><td>3.07</td><td>4.070</td><td>17.40</td><td>0</td><td>0</td><td>3</td><td>3</td></tr>\n",
       "\t<tr><th scope=row>Merc 450SL</th><td>17.3</td><td>8</td><td>275.8</td><td>180</td><td>3.07</td><td>3.730</td><td>17.60</td><td>0</td><td>0</td><td>3</td><td>3</td></tr>\n",
       "\t<tr><th scope=row>Merc 450SLC</th><td>15.2</td><td>8</td><td>275.8</td><td>180</td><td>3.07</td><td>3.780</td><td>18.00</td><td>0</td><td>0</td><td>3</td><td>3</td></tr>\n",
       "\t<tr><th scope=row>Cadillac Fleetwood</th><td>10.4</td><td>8</td><td>472.0</td><td>205</td><td>2.93</td><td>5.250</td><td>17.98</td><td>0</td><td>0</td><td>3</td><td>4</td></tr>\n",
       "\t<tr><th scope=row>Lincoln Continental</th><td>10.4</td><td>8</td><td>460.0</td><td>215</td><td>3.00</td><td>5.424</td><td>17.82</td><td>0</td><td>0</td><td>3</td><td>4</td></tr>\n",
       "\t<tr><th scope=row>Chrysler Imperial</th><td>14.7</td><td>8</td><td>440.0</td><td>230</td><td>3.23</td><td>5.345</td><td>17.42</td><td>0</td><td>0</td><td>3</td><td>4</td></tr>\n",
       "\t<tr><th scope=row>Fiat 128</th><td>32.4</td><td>4</td><td> 78.7</td><td> 66</td><td>4.08</td><td>2.200</td><td>19.47</td><td>1</td><td>1</td><td>4</td><td>1</td></tr>\n",
       "\t<tr><th scope=row>Honda Civic</th><td>30.4</td><td>4</td><td> 75.7</td><td> 52</td><td>4.93</td><td>1.615</td><td>18.52</td><td>1</td><td>1</td><td>4</td><td>2</td></tr>\n",
       "\t<tr><th scope=row>Toyota Corolla</th><td>33.9</td><td>4</td><td> 71.1</td><td> 65</td><td>4.22</td><td>1.835</td><td>19.90</td><td>1</td><td>1</td><td>4</td><td>1</td></tr>\n",
       "\t<tr><th scope=row>Toyota Corona</th><td>21.5</td><td>4</td><td>120.1</td><td> 97</td><td>3.70</td><td>2.465</td><td>20.01</td><td>1</td><td>0</td><td>3</td><td>1</td></tr>\n",
       "\t<tr><th scope=row>Dodge Challenger</th><td>15.5</td><td>8</td><td>318.0</td><td>150</td><td>2.76</td><td>3.520</td><td>16.87</td><td>0</td><td>0</td><td>3</td><td>2</td></tr>\n",
       "\t<tr><th scope=row>AMC Javelin</th><td>15.2</td><td>8</td><td>304.0</td><td>150</td><td>3.15</td><td>3.435</td><td>17.30</td><td>0</td><td>0</td><td>3</td><td>2</td></tr>\n",
       "\t<tr><th scope=row>Camaro Z28</th><td>13.3</td><td>8</td><td>350.0</td><td>245</td><td>3.73</td><td>3.840</td><td>15.41</td><td>0</td><td>0</td><td>3</td><td>4</td></tr>\n",
       "\t<tr><th scope=row>Pontiac Firebird</th><td>19.2</td><td>8</td><td>400.0</td><td>175</td><td>3.08</td><td>3.845</td><td>17.05</td><td>0</td><td>0</td><td>3</td><td>2</td></tr>\n",
       "\t<tr><th scope=row>Fiat X1-9</th><td>27.3</td><td>4</td><td> 79.0</td><td> 66</td><td>4.08</td><td>1.935</td><td>18.90</td><td>1</td><td>1</td><td>4</td><td>1</td></tr>\n",
       "\t<tr><th scope=row>Porsche 914-2</th><td>26.0</td><td>4</td><td>120.3</td><td> 91</td><td>4.43</td><td>2.140</td><td>16.70</td><td>0</td><td>1</td><td>5</td><td>2</td></tr>\n",
       "\t<tr><th scope=row>Lotus Europa</th><td>30.4</td><td>4</td><td> 95.1</td><td>113</td><td>3.77</td><td>1.513</td><td>16.90</td><td>1</td><td>1</td><td>5</td><td>2</td></tr>\n",
       "\t<tr><th scope=row>Ford Pantera L</th><td>15.8</td><td>8</td><td>351.0</td><td>264</td><td>4.22</td><td>3.170</td><td>14.50</td><td>0</td><td>1</td><td>5</td><td>4</td></tr>\n",
       "\t<tr><th scope=row>Ferrari Dino</th><td>19.7</td><td>6</td><td>145.0</td><td>175</td><td>3.62</td><td>2.770</td><td>15.50</td><td>0</td><td>1</td><td>5</td><td>6</td></tr>\n",
       "\t<tr><th scope=row>Maserati Bora</th><td>15.0</td><td>8</td><td>301.0</td><td>335</td><td>3.54</td><td>3.570</td><td>14.60</td><td>0</td><td>1</td><td>5</td><td>8</td></tr>\n",
       "\t<tr><th scope=row>Volvo 142E</th><td>21.4</td><td>4</td><td>121.0</td><td>109</td><td>4.11</td><td>2.780</td><td>18.60</td><td>1</td><td>1</td><td>4</td><td>2</td></tr>\n",
       "</tbody>\n",
       "</table>\n"
      ],
      "text/latex": [
       "A data.frame: 32 × 11\n",
       "\\begin{tabular}{r|lllllllllll}\n",
       "  & mpg & cyl & disp & hp & drat & wt & qsec & vs & am & gear & carb\\\\\n",
       "  & <dbl> & <dbl> & <dbl> & <dbl> & <dbl> & <dbl> & <dbl> & <dbl> & <dbl> & <dbl> & <dbl>\\\\\n",
       "\\hline\n",
       "\tMazda RX4 & 21.0 & 6 & 160.0 & 110 & 3.90 & 2.620 & 16.46 & 0 & 1 & 4 & 4\\\\\n",
       "\tMazda RX4 Wag & 21.0 & 6 & 160.0 & 110 & 3.90 & 2.875 & 17.02 & 0 & 1 & 4 & 4\\\\\n",
       "\tDatsun 710 & 22.8 & 4 & 108.0 &  93 & 3.85 & 2.320 & 18.61 & 1 & 1 & 4 & 1\\\\\n",
       "\tHornet 4 Drive & 21.4 & 6 & 258.0 & 110 & 3.08 & 3.215 & 19.44 & 1 & 0 & 3 & 1\\\\\n",
       "\tHornet Sportabout & 18.7 & 8 & 360.0 & 175 & 3.15 & 3.440 & 17.02 & 0 & 0 & 3 & 2\\\\\n",
       "\tValiant & 18.1 & 6 & 225.0 & 105 & 2.76 & 3.460 & 20.22 & 1 & 0 & 3 & 1\\\\\n",
       "\tDuster 360 & 14.3 & 8 & 360.0 & 245 & 3.21 & 3.570 & 15.84 & 0 & 0 & 3 & 4\\\\\n",
       "\tMerc 240D & 24.4 & 4 & 146.7 &  62 & 3.69 & 3.190 & 20.00 & 1 & 0 & 4 & 2\\\\\n",
       "\tMerc 230 & 22.8 & 4 & 140.8 &  95 & 3.92 & 3.150 & 22.90 & 1 & 0 & 4 & 2\\\\\n",
       "\tMerc 280 & 19.2 & 6 & 167.6 & 123 & 3.92 & 3.440 & 18.30 & 1 & 0 & 4 & 4\\\\\n",
       "\tMerc 280C & 17.8 & 6 & 167.6 & 123 & 3.92 & 3.440 & 18.90 & 1 & 0 & 4 & 4\\\\\n",
       "\tMerc 450SE & 16.4 & 8 & 275.8 & 180 & 3.07 & 4.070 & 17.40 & 0 & 0 & 3 & 3\\\\\n",
       "\tMerc 450SL & 17.3 & 8 & 275.8 & 180 & 3.07 & 3.730 & 17.60 & 0 & 0 & 3 & 3\\\\\n",
       "\tMerc 450SLC & 15.2 & 8 & 275.8 & 180 & 3.07 & 3.780 & 18.00 & 0 & 0 & 3 & 3\\\\\n",
       "\tCadillac Fleetwood & 10.4 & 8 & 472.0 & 205 & 2.93 & 5.250 & 17.98 & 0 & 0 & 3 & 4\\\\\n",
       "\tLincoln Continental & 10.4 & 8 & 460.0 & 215 & 3.00 & 5.424 & 17.82 & 0 & 0 & 3 & 4\\\\\n",
       "\tChrysler Imperial & 14.7 & 8 & 440.0 & 230 & 3.23 & 5.345 & 17.42 & 0 & 0 & 3 & 4\\\\\n",
       "\tFiat 128 & 32.4 & 4 &  78.7 &  66 & 4.08 & 2.200 & 19.47 & 1 & 1 & 4 & 1\\\\\n",
       "\tHonda Civic & 30.4 & 4 &  75.7 &  52 & 4.93 & 1.615 & 18.52 & 1 & 1 & 4 & 2\\\\\n",
       "\tToyota Corolla & 33.9 & 4 &  71.1 &  65 & 4.22 & 1.835 & 19.90 & 1 & 1 & 4 & 1\\\\\n",
       "\tToyota Corona & 21.5 & 4 & 120.1 &  97 & 3.70 & 2.465 & 20.01 & 1 & 0 & 3 & 1\\\\\n",
       "\tDodge Challenger & 15.5 & 8 & 318.0 & 150 & 2.76 & 3.520 & 16.87 & 0 & 0 & 3 & 2\\\\\n",
       "\tAMC Javelin & 15.2 & 8 & 304.0 & 150 & 3.15 & 3.435 & 17.30 & 0 & 0 & 3 & 2\\\\\n",
       "\tCamaro Z28 & 13.3 & 8 & 350.0 & 245 & 3.73 & 3.840 & 15.41 & 0 & 0 & 3 & 4\\\\\n",
       "\tPontiac Firebird & 19.2 & 8 & 400.0 & 175 & 3.08 & 3.845 & 17.05 & 0 & 0 & 3 & 2\\\\\n",
       "\tFiat X1-9 & 27.3 & 4 &  79.0 &  66 & 4.08 & 1.935 & 18.90 & 1 & 1 & 4 & 1\\\\\n",
       "\tPorsche 914-2 & 26.0 & 4 & 120.3 &  91 & 4.43 & 2.140 & 16.70 & 0 & 1 & 5 & 2\\\\\n",
       "\tLotus Europa & 30.4 & 4 &  95.1 & 113 & 3.77 & 1.513 & 16.90 & 1 & 1 & 5 & 2\\\\\n",
       "\tFord Pantera L & 15.8 & 8 & 351.0 & 264 & 4.22 & 3.170 & 14.50 & 0 & 1 & 5 & 4\\\\\n",
       "\tFerrari Dino & 19.7 & 6 & 145.0 & 175 & 3.62 & 2.770 & 15.50 & 0 & 1 & 5 & 6\\\\\n",
       "\tMaserati Bora & 15.0 & 8 & 301.0 & 335 & 3.54 & 3.570 & 14.60 & 0 & 1 & 5 & 8\\\\\n",
       "\tVolvo 142E & 21.4 & 4 & 121.0 & 109 & 4.11 & 2.780 & 18.60 & 1 & 1 & 4 & 2\\\\\n",
       "\\end{tabular}\n"
      ],
      "text/markdown": [
       "\n",
       "A data.frame: 32 × 11\n",
       "\n",
       "| <!--/--> | mpg &lt;dbl&gt; | cyl &lt;dbl&gt; | disp &lt;dbl&gt; | hp &lt;dbl&gt; | drat &lt;dbl&gt; | wt &lt;dbl&gt; | qsec &lt;dbl&gt; | vs &lt;dbl&gt; | am &lt;dbl&gt; | gear &lt;dbl&gt; | carb &lt;dbl&gt; |\n",
       "|---|---|---|---|---|---|---|---|---|---|---|---|\n",
       "| Mazda RX4 | 21.0 | 6 | 160.0 | 110 | 3.90 | 2.620 | 16.46 | 0 | 1 | 4 | 4 |\n",
       "| Mazda RX4 Wag | 21.0 | 6 | 160.0 | 110 | 3.90 | 2.875 | 17.02 | 0 | 1 | 4 | 4 |\n",
       "| Datsun 710 | 22.8 | 4 | 108.0 |  93 | 3.85 | 2.320 | 18.61 | 1 | 1 | 4 | 1 |\n",
       "| Hornet 4 Drive | 21.4 | 6 | 258.0 | 110 | 3.08 | 3.215 | 19.44 | 1 | 0 | 3 | 1 |\n",
       "| Hornet Sportabout | 18.7 | 8 | 360.0 | 175 | 3.15 | 3.440 | 17.02 | 0 | 0 | 3 | 2 |\n",
       "| Valiant | 18.1 | 6 | 225.0 | 105 | 2.76 | 3.460 | 20.22 | 1 | 0 | 3 | 1 |\n",
       "| Duster 360 | 14.3 | 8 | 360.0 | 245 | 3.21 | 3.570 | 15.84 | 0 | 0 | 3 | 4 |\n",
       "| Merc 240D | 24.4 | 4 | 146.7 |  62 | 3.69 | 3.190 | 20.00 | 1 | 0 | 4 | 2 |\n",
       "| Merc 230 | 22.8 | 4 | 140.8 |  95 | 3.92 | 3.150 | 22.90 | 1 | 0 | 4 | 2 |\n",
       "| Merc 280 | 19.2 | 6 | 167.6 | 123 | 3.92 | 3.440 | 18.30 | 1 | 0 | 4 | 4 |\n",
       "| Merc 280C | 17.8 | 6 | 167.6 | 123 | 3.92 | 3.440 | 18.90 | 1 | 0 | 4 | 4 |\n",
       "| Merc 450SE | 16.4 | 8 | 275.8 | 180 | 3.07 | 4.070 | 17.40 | 0 | 0 | 3 | 3 |\n",
       "| Merc 450SL | 17.3 | 8 | 275.8 | 180 | 3.07 | 3.730 | 17.60 | 0 | 0 | 3 | 3 |\n",
       "| Merc 450SLC | 15.2 | 8 | 275.8 | 180 | 3.07 | 3.780 | 18.00 | 0 | 0 | 3 | 3 |\n",
       "| Cadillac Fleetwood | 10.4 | 8 | 472.0 | 205 | 2.93 | 5.250 | 17.98 | 0 | 0 | 3 | 4 |\n",
       "| Lincoln Continental | 10.4 | 8 | 460.0 | 215 | 3.00 | 5.424 | 17.82 | 0 | 0 | 3 | 4 |\n",
       "| Chrysler Imperial | 14.7 | 8 | 440.0 | 230 | 3.23 | 5.345 | 17.42 | 0 | 0 | 3 | 4 |\n",
       "| Fiat 128 | 32.4 | 4 |  78.7 |  66 | 4.08 | 2.200 | 19.47 | 1 | 1 | 4 | 1 |\n",
       "| Honda Civic | 30.4 | 4 |  75.7 |  52 | 4.93 | 1.615 | 18.52 | 1 | 1 | 4 | 2 |\n",
       "| Toyota Corolla | 33.9 | 4 |  71.1 |  65 | 4.22 | 1.835 | 19.90 | 1 | 1 | 4 | 1 |\n",
       "| Toyota Corona | 21.5 | 4 | 120.1 |  97 | 3.70 | 2.465 | 20.01 | 1 | 0 | 3 | 1 |\n",
       "| Dodge Challenger | 15.5 | 8 | 318.0 | 150 | 2.76 | 3.520 | 16.87 | 0 | 0 | 3 | 2 |\n",
       "| AMC Javelin | 15.2 | 8 | 304.0 | 150 | 3.15 | 3.435 | 17.30 | 0 | 0 | 3 | 2 |\n",
       "| Camaro Z28 | 13.3 | 8 | 350.0 | 245 | 3.73 | 3.840 | 15.41 | 0 | 0 | 3 | 4 |\n",
       "| Pontiac Firebird | 19.2 | 8 | 400.0 | 175 | 3.08 | 3.845 | 17.05 | 0 | 0 | 3 | 2 |\n",
       "| Fiat X1-9 | 27.3 | 4 |  79.0 |  66 | 4.08 | 1.935 | 18.90 | 1 | 1 | 4 | 1 |\n",
       "| Porsche 914-2 | 26.0 | 4 | 120.3 |  91 | 4.43 | 2.140 | 16.70 | 0 | 1 | 5 | 2 |\n",
       "| Lotus Europa | 30.4 | 4 |  95.1 | 113 | 3.77 | 1.513 | 16.90 | 1 | 1 | 5 | 2 |\n",
       "| Ford Pantera L | 15.8 | 8 | 351.0 | 264 | 4.22 | 3.170 | 14.50 | 0 | 1 | 5 | 4 |\n",
       "| Ferrari Dino | 19.7 | 6 | 145.0 | 175 | 3.62 | 2.770 | 15.50 | 0 | 1 | 5 | 6 |\n",
       "| Maserati Bora | 15.0 | 8 | 301.0 | 335 | 3.54 | 3.570 | 14.60 | 0 | 1 | 5 | 8 |\n",
       "| Volvo 142E | 21.4 | 4 | 121.0 | 109 | 4.11 | 2.780 | 18.60 | 1 | 1 | 4 | 2 |\n",
       "\n"
      ],
      "text/plain": [
       "                    mpg  cyl disp  hp  drat wt    qsec  vs am gear carb\n",
       "Mazda RX4           21.0 6   160.0 110 3.90 2.620 16.46 0  1  4    4   \n",
       "Mazda RX4 Wag       21.0 6   160.0 110 3.90 2.875 17.02 0  1  4    4   \n",
       "Datsun 710          22.8 4   108.0  93 3.85 2.320 18.61 1  1  4    1   \n",
       "Hornet 4 Drive      21.4 6   258.0 110 3.08 3.215 19.44 1  0  3    1   \n",
       "Hornet Sportabout   18.7 8   360.0 175 3.15 3.440 17.02 0  0  3    2   \n",
       "Valiant             18.1 6   225.0 105 2.76 3.460 20.22 1  0  3    1   \n",
       "Duster 360          14.3 8   360.0 245 3.21 3.570 15.84 0  0  3    4   \n",
       "Merc 240D           24.4 4   146.7  62 3.69 3.190 20.00 1  0  4    2   \n",
       "Merc 230            22.8 4   140.8  95 3.92 3.150 22.90 1  0  4    2   \n",
       "Merc 280            19.2 6   167.6 123 3.92 3.440 18.30 1  0  4    4   \n",
       "Merc 280C           17.8 6   167.6 123 3.92 3.440 18.90 1  0  4    4   \n",
       "Merc 450SE          16.4 8   275.8 180 3.07 4.070 17.40 0  0  3    3   \n",
       "Merc 450SL          17.3 8   275.8 180 3.07 3.730 17.60 0  0  3    3   \n",
       "Merc 450SLC         15.2 8   275.8 180 3.07 3.780 18.00 0  0  3    3   \n",
       "Cadillac Fleetwood  10.4 8   472.0 205 2.93 5.250 17.98 0  0  3    4   \n",
       "Lincoln Continental 10.4 8   460.0 215 3.00 5.424 17.82 0  0  3    4   \n",
       "Chrysler Imperial   14.7 8   440.0 230 3.23 5.345 17.42 0  0  3    4   \n",
       "Fiat 128            32.4 4    78.7  66 4.08 2.200 19.47 1  1  4    1   \n",
       "Honda Civic         30.4 4    75.7  52 4.93 1.615 18.52 1  1  4    2   \n",
       "Toyota Corolla      33.9 4    71.1  65 4.22 1.835 19.90 1  1  4    1   \n",
       "Toyota Corona       21.5 4   120.1  97 3.70 2.465 20.01 1  0  3    1   \n",
       "Dodge Challenger    15.5 8   318.0 150 2.76 3.520 16.87 0  0  3    2   \n",
       "AMC Javelin         15.2 8   304.0 150 3.15 3.435 17.30 0  0  3    2   \n",
       "Camaro Z28          13.3 8   350.0 245 3.73 3.840 15.41 0  0  3    4   \n",
       "Pontiac Firebird    19.2 8   400.0 175 3.08 3.845 17.05 0  0  3    2   \n",
       "Fiat X1-9           27.3 4    79.0  66 4.08 1.935 18.90 1  1  4    1   \n",
       "Porsche 914-2       26.0 4   120.3  91 4.43 2.140 16.70 0  1  5    2   \n",
       "Lotus Europa        30.4 4    95.1 113 3.77 1.513 16.90 1  1  5    2   \n",
       "Ford Pantera L      15.8 8   351.0 264 4.22 3.170 14.50 0  1  5    4   \n",
       "Ferrari Dino        19.7 6   145.0 175 3.62 2.770 15.50 0  1  5    6   \n",
       "Maserati Bora       15.0 8   301.0 335 3.54 3.570 14.60 0  1  5    8   \n",
       "Volvo 142E          21.4 4   121.0 109 4.11 2.780 18.60 1  1  4    2   "
      ]
     },
     "metadata": {},
     "output_type": "display_data"
    },
    {
     "data": {
      "text/html": [
       "<style>\n",
       ".list-inline {list-style: none; margin:0; padding: 0}\n",
       ".list-inline>li {display: inline-block}\n",
       ".list-inline>li:not(:last-child)::after {content: \"\\00b7\"; padding: 0 .5ex}\n",
       "</style>\n",
       "<ol class=list-inline><li>32</li><li>11</li></ol>\n"
      ],
      "text/latex": [
       "\\begin{enumerate*}\n",
       "\\item 32\n",
       "\\item 11\n",
       "\\end{enumerate*}\n"
      ],
      "text/markdown": [
       "1. 32\n",
       "2. 11\n",
       "\n",
       "\n"
      ],
      "text/plain": [
       "[1] 32 11"
      ]
     },
     "metadata": {},
     "output_type": "display_data"
    }
   ],
   "source": [
    "library(MASS)\n",
    "mtcars\n",
    "dim(mtcars)"
   ]
  },
  {
   "cell_type": "code",
   "execution_count": 6,
   "metadata": {
    "vscode": {
     "languageId": "r"
    }
   },
   "outputs": [
    {
     "data": {
      "text/html": [
       "<style>\n",
       ".list-inline {list-style: none; margin:0; padding: 0}\n",
       ".list-inline>li {display: inline-block}\n",
       ".list-inline>li:not(:last-child)::after {content: \"\\00b7\"; padding: 0 .5ex}\n",
       "</style>\n",
       "<ol class=list-inline><li>'mpg'</li><li>'cyl'</li><li>'disp'</li><li>'hp'</li><li>'drat'</li><li>'wt'</li><li>'qsec'</li><li>'vs'</li><li>'am'</li><li>'gear'</li><li>'carb'</li></ol>\n"
      ],
      "text/latex": [
       "\\begin{enumerate*}\n",
       "\\item 'mpg'\n",
       "\\item 'cyl'\n",
       "\\item 'disp'\n",
       "\\item 'hp'\n",
       "\\item 'drat'\n",
       "\\item 'wt'\n",
       "\\item 'qsec'\n",
       "\\item 'vs'\n",
       "\\item 'am'\n",
       "\\item 'gear'\n",
       "\\item 'carb'\n",
       "\\end{enumerate*}\n"
      ],
      "text/markdown": [
       "1. 'mpg'\n",
       "2. 'cyl'\n",
       "3. 'disp'\n",
       "4. 'hp'\n",
       "5. 'drat'\n",
       "6. 'wt'\n",
       "7. 'qsec'\n",
       "8. 'vs'\n",
       "9. 'am'\n",
       "10. 'gear'\n",
       "11. 'carb'\n",
       "\n",
       "\n"
      ],
      "text/plain": [
       " [1] \"mpg\"  \"cyl\"  \"disp\" \"hp\"   \"drat\" \"wt\"   \"qsec\" \"vs\"   \"am\"   \"gear\"\n",
       "[11] \"carb\""
      ]
     },
     "metadata": {},
     "output_type": "display_data"
    }
   ],
   "source": [
    "names(mtcars)"
   ]
  },
  {
   "cell_type": "markdown",
   "metadata": {},
   "source": [
    "* Fit a MLR and estimate the parameters\n",
    "  "
   ]
  },
  {
   "cell_type": "code",
   "execution_count": 8,
   "metadata": {
    "vscode": {
     "languageId": "r"
    }
   },
   "outputs": [
    {
     "data": {
      "text/plain": [
       "\n",
       "Call:\n",
       "lm(formula = mpg ~ ., data = mtcars)\n",
       "\n",
       "Residuals:\n",
       "    Min      1Q  Median      3Q     Max \n",
       "-3.4506 -1.6044 -0.1196  1.2193  4.6271 \n",
       "\n",
       "Coefficients:\n",
       "            Estimate Std. Error t value Pr(>|t|)  \n",
       "(Intercept) 12.30337   18.71788   0.657   0.5181  \n",
       "cyl         -0.11144    1.04502  -0.107   0.9161  \n",
       "disp         0.01334    0.01786   0.747   0.4635  \n",
       "hp          -0.02148    0.02177  -0.987   0.3350  \n",
       "drat         0.78711    1.63537   0.481   0.6353  \n",
       "wt          -3.71530    1.89441  -1.961   0.0633 .\n",
       "qsec         0.82104    0.73084   1.123   0.2739  \n",
       "vs           0.31776    2.10451   0.151   0.8814  \n",
       "am           2.52023    2.05665   1.225   0.2340  \n",
       "gear         0.65541    1.49326   0.439   0.6652  \n",
       "carb        -0.19942    0.82875  -0.241   0.8122  \n",
       "---\n",
       "Signif. codes:  0 ‘***’ 0.001 ‘**’ 0.01 ‘*’ 0.05 ‘.’ 0.1 ‘ ’ 1\n",
       "\n",
       "Residual standard error: 2.65 on 21 degrees of freedom\n",
       "Multiple R-squared:  0.869,\tAdjusted R-squared:  0.8066 \n",
       "F-statistic: 13.93 on 10 and 21 DF,  p-value: 3.793e-07\n"
      ]
     },
     "metadata": {},
     "output_type": "display_data"
    }
   ],
   "source": [
    "cars_reg = lm(mpg ~ ., data=mtcars)\n",
    "summary(cars_reg)"
   ]
  },
  {
   "cell_type": "markdown",
   "metadata": {},
   "source": [
    "* $H_0$: hp is 0 VS $H_a$: hp is not 0 with $\\alpha=0.05$\n",
    "\n",
    "Since $p=0.3350>\\alpha$, we fail to reject the null hypothesis. Therefore, we can conclude that hp is not actually in the model"
   ]
  },
  {
   "cell_type": "markdown",
   "metadata": {},
   "source": [
    "* $H_0$: $\\beta_1=\\beta_2=...=\\beta_11=0$ i.e. is there a linear relationship?\n",
    "\n",
    "THE ANSWER FROM THIS COMES FROM THE F-STATISTIC AT THE BOTTOM OF THE SUMMARY OUTPUT.\n",
    "\n",
    "This p-value is incredibly small, so we can conclude that a linear relationship does indeed exist"
   ]
  },
  {
   "cell_type": "markdown",
   "metadata": {},
   "source": [
    "* Interpret the regression coefficient of horsepower\n",
    "\n",
    "When the rest of the variables are held constant, if you increase horsepower by one unit, you decrease the mpg by 0.02"
   ]
  },
  {
   "cell_type": "markdown",
   "metadata": {},
   "source": [
    "* $H_0$: hp = am = wt = 0 VS $H_a$: one of them not equal to zero \n",
    "\n",
    "NEED TO BUILD A REDUCED MODEL, it includes every variable EXCEPT those variables that we want in our hypothesis test\n",
    "\n",
    "THEN we need to stick it into an anova table"
   ]
  },
  {
   "cell_type": "code",
   "execution_count": 15,
   "metadata": {
    "vscode": {
     "languageId": "r"
    }
   },
   "outputs": [
    {
     "data": {
      "text/html": [
       "<style>\n",
       ".list-inline {list-style: none; margin:0; padding: 0}\n",
       ".list-inline>li {display: inline-block}\n",
       ".list-inline>li:not(:last-child)::after {content: \"\\00b7\"; padding: 0 .5ex}\n",
       "</style>\n",
       "<ol class=list-inline><li>'mpg'</li><li>'cyl'</li><li>'disp'</li><li>'hp'</li><li>'drat'</li><li>'wt'</li><li>'qsec'</li><li>'vs'</li><li>'am'</li><li>'gear'</li><li>'carb'</li></ol>\n"
      ],
      "text/latex": [
       "\\begin{enumerate*}\n",
       "\\item 'mpg'\n",
       "\\item 'cyl'\n",
       "\\item 'disp'\n",
       "\\item 'hp'\n",
       "\\item 'drat'\n",
       "\\item 'wt'\n",
       "\\item 'qsec'\n",
       "\\item 'vs'\n",
       "\\item 'am'\n",
       "\\item 'gear'\n",
       "\\item 'carb'\n",
       "\\end{enumerate*}\n"
      ],
      "text/markdown": [
       "1. 'mpg'\n",
       "2. 'cyl'\n",
       "3. 'disp'\n",
       "4. 'hp'\n",
       "5. 'drat'\n",
       "6. 'wt'\n",
       "7. 'qsec'\n",
       "8. 'vs'\n",
       "9. 'am'\n",
       "10. 'gear'\n",
       "11. 'carb'\n",
       "\n",
       "\n"
      ],
      "text/plain": [
       " [1] \"mpg\"  \"cyl\"  \"disp\" \"hp\"   \"drat\" \"wt\"   \"qsec\" \"vs\"   \"am\"   \"gear\"\n",
       "[11] \"carb\""
      ]
     },
     "metadata": {},
     "output_type": "display_data"
    }
   ],
   "source": [
    "names(mtcars)"
   ]
  },
  {
   "cell_type": "code",
   "execution_count": 16,
   "metadata": {
    "vscode": {
     "languageId": "r"
    }
   },
   "outputs": [
    {
     "data": {
      "text/html": [
       "<table class=\"dataframe\">\n",
       "<caption>A anova: 2 × 6</caption>\n",
       "<thead>\n",
       "\t<tr><th></th><th scope=col>Res.Df</th><th scope=col>RSS</th><th scope=col>Df</th><th scope=col>Sum of Sq</th><th scope=col>F</th><th scope=col>Pr(&gt;F)</th></tr>\n",
       "\t<tr><th></th><th scope=col>&lt;dbl&gt;</th><th scope=col>&lt;dbl&gt;</th><th scope=col>&lt;dbl&gt;</th><th scope=col>&lt;dbl&gt;</th><th scope=col>&lt;dbl&gt;</th><th scope=col>&lt;dbl&gt;</th></tr>\n",
       "</thead>\n",
       "<tbody>\n",
       "\t<tr><th scope=row>1</th><td>24</td><td>189.8998</td><td>NA</td><td>      NA</td><td>      NA</td><td>       NA</td></tr>\n",
       "\t<tr><th scope=row>2</th><td>21</td><td>147.4944</td><td> 3</td><td>42.40536</td><td>2.012534</td><td>0.1430042</td></tr>\n",
       "</tbody>\n",
       "</table>\n"
      ],
      "text/latex": [
       "A anova: 2 × 6\n",
       "\\begin{tabular}{r|llllll}\n",
       "  & Res.Df & RSS & Df & Sum of Sq & F & Pr(>F)\\\\\n",
       "  & <dbl> & <dbl> & <dbl> & <dbl> & <dbl> & <dbl>\\\\\n",
       "\\hline\n",
       "\t1 & 24 & 189.8998 & NA &       NA &       NA &        NA\\\\\n",
       "\t2 & 21 & 147.4944 &  3 & 42.40536 & 2.012534 & 0.1430042\\\\\n",
       "\\end{tabular}\n"
      ],
      "text/markdown": [
       "\n",
       "A anova: 2 × 6\n",
       "\n",
       "| <!--/--> | Res.Df &lt;dbl&gt; | RSS &lt;dbl&gt; | Df &lt;dbl&gt; | Sum of Sq &lt;dbl&gt; | F &lt;dbl&gt; | Pr(&gt;F) &lt;dbl&gt; |\n",
       "|---|---|---|---|---|---|---|\n",
       "| 1 | 24 | 189.8998 | NA |       NA |       NA |        NA |\n",
       "| 2 | 21 | 147.4944 |  3 | 42.40536 | 2.012534 | 0.1430042 |\n",
       "\n"
      ],
      "text/plain": [
       "  Res.Df RSS      Df Sum of Sq F        Pr(>F)   \n",
       "1 24     189.8998 NA       NA        NA        NA\n",
       "2 21     147.4944  3 42.40536  2.012534 0.1430042"
      ]
     },
     "metadata": {},
     "output_type": "display_data"
    }
   ],
   "source": [
    "car_red_reg = lm(mpg ~ cyl + disp + drat + qsec + vs + gear + carb, data=mtcars)\n",
    "anova(car_red_reg, cars_reg)"
   ]
  },
  {
   "cell_type": "markdown",
   "metadata": {},
   "source": [
    "* Interpret $R^2$\n",
    "\n",
    "Since $R^2=0.869$, so 86.9% of our variability can be explained by our model"
   ]
  },
  {
   "cell_type": "markdown",
   "metadata": {},
   "source": [
    "* Calculate the correlation matrix"
   ]
  },
  {
   "cell_type": "code",
   "execution_count": 20,
   "metadata": {
    "vscode": {
     "languageId": "r"
    }
   },
   "outputs": [
    {
     "data": {
      "text/html": [
       "<table class=\"dataframe\">\n",
       "<caption>A matrix: 11 × 11 of type dbl</caption>\n",
       "<thead>\n",
       "\t<tr><th></th><th scope=col>mpg</th><th scope=col>cyl</th><th scope=col>disp</th><th scope=col>hp</th><th scope=col>drat</th><th scope=col>wt</th><th scope=col>qsec</th><th scope=col>vs</th><th scope=col>am</th><th scope=col>gear</th><th scope=col>carb</th></tr>\n",
       "</thead>\n",
       "<tbody>\n",
       "\t<tr><th scope=row>mpg</th><td> 1.0000000</td><td>-0.8521620</td><td>-0.8475514</td><td>-0.7761684</td><td> 0.68117191</td><td>-0.8676594</td><td> 0.41868403</td><td> 0.6640389</td><td> 0.59983243</td><td> 0.4802848</td><td>-0.55092507</td></tr>\n",
       "\t<tr><th scope=row>cyl</th><td>-0.8521620</td><td> 1.0000000</td><td> 0.9020329</td><td> 0.8324475</td><td>-0.69993811</td><td> 0.7824958</td><td>-0.59124207</td><td>-0.8108118</td><td>-0.52260705</td><td>-0.4926866</td><td> 0.52698829</td></tr>\n",
       "\t<tr><th scope=row>disp</th><td>-0.8475514</td><td> 0.9020329</td><td> 1.0000000</td><td> 0.7909486</td><td>-0.71021393</td><td> 0.8879799</td><td>-0.43369788</td><td>-0.7104159</td><td>-0.59122704</td><td>-0.5555692</td><td> 0.39497686</td></tr>\n",
       "\t<tr><th scope=row>hp</th><td>-0.7761684</td><td> 0.8324475</td><td> 0.7909486</td><td> 1.0000000</td><td>-0.44875912</td><td> 0.6587479</td><td>-0.70822339</td><td>-0.7230967</td><td>-0.24320426</td><td>-0.1257043</td><td> 0.74981247</td></tr>\n",
       "\t<tr><th scope=row>drat</th><td> 0.6811719</td><td>-0.6999381</td><td>-0.7102139</td><td>-0.4487591</td><td> 1.00000000</td><td>-0.7124406</td><td> 0.09120476</td><td> 0.4402785</td><td> 0.71271113</td><td> 0.6996101</td><td>-0.09078980</td></tr>\n",
       "\t<tr><th scope=row>wt</th><td>-0.8676594</td><td> 0.7824958</td><td> 0.8879799</td><td> 0.6587479</td><td>-0.71244065</td><td> 1.0000000</td><td>-0.17471588</td><td>-0.5549157</td><td>-0.69249526</td><td>-0.5832870</td><td> 0.42760594</td></tr>\n",
       "\t<tr><th scope=row>qsec</th><td> 0.4186840</td><td>-0.5912421</td><td>-0.4336979</td><td>-0.7082234</td><td> 0.09120476</td><td>-0.1747159</td><td> 1.00000000</td><td> 0.7445354</td><td>-0.22986086</td><td>-0.2126822</td><td>-0.65624923</td></tr>\n",
       "\t<tr><th scope=row>vs</th><td> 0.6640389</td><td>-0.8108118</td><td>-0.7104159</td><td>-0.7230967</td><td> 0.44027846</td><td>-0.5549157</td><td> 0.74453544</td><td> 1.0000000</td><td> 0.16834512</td><td> 0.2060233</td><td>-0.56960714</td></tr>\n",
       "\t<tr><th scope=row>am</th><td> 0.5998324</td><td>-0.5226070</td><td>-0.5912270</td><td>-0.2432043</td><td> 0.71271113</td><td>-0.6924953</td><td>-0.22986086</td><td> 0.1683451</td><td> 1.00000000</td><td> 0.7940588</td><td> 0.05753435</td></tr>\n",
       "\t<tr><th scope=row>gear</th><td> 0.4802848</td><td>-0.4926866</td><td>-0.5555692</td><td>-0.1257043</td><td> 0.69961013</td><td>-0.5832870</td><td>-0.21268223</td><td> 0.2060233</td><td> 0.79405876</td><td> 1.0000000</td><td> 0.27407284</td></tr>\n",
       "\t<tr><th scope=row>carb</th><td>-0.5509251</td><td> 0.5269883</td><td> 0.3949769</td><td> 0.7498125</td><td>-0.09078980</td><td> 0.4276059</td><td>-0.65624923</td><td>-0.5696071</td><td> 0.05753435</td><td> 0.2740728</td><td> 1.00000000</td></tr>\n",
       "</tbody>\n",
       "</table>\n"
      ],
      "text/latex": [
       "A matrix: 11 × 11 of type dbl\n",
       "\\begin{tabular}{r|lllllllllll}\n",
       "  & mpg & cyl & disp & hp & drat & wt & qsec & vs & am & gear & carb\\\\\n",
       "\\hline\n",
       "\tmpg &  1.0000000 & -0.8521620 & -0.8475514 & -0.7761684 &  0.68117191 & -0.8676594 &  0.41868403 &  0.6640389 &  0.59983243 &  0.4802848 & -0.55092507\\\\\n",
       "\tcyl & -0.8521620 &  1.0000000 &  0.9020329 &  0.8324475 & -0.69993811 &  0.7824958 & -0.59124207 & -0.8108118 & -0.52260705 & -0.4926866 &  0.52698829\\\\\n",
       "\tdisp & -0.8475514 &  0.9020329 &  1.0000000 &  0.7909486 & -0.71021393 &  0.8879799 & -0.43369788 & -0.7104159 & -0.59122704 & -0.5555692 &  0.39497686\\\\\n",
       "\thp & -0.7761684 &  0.8324475 &  0.7909486 &  1.0000000 & -0.44875912 &  0.6587479 & -0.70822339 & -0.7230967 & -0.24320426 & -0.1257043 &  0.74981247\\\\\n",
       "\tdrat &  0.6811719 & -0.6999381 & -0.7102139 & -0.4487591 &  1.00000000 & -0.7124406 &  0.09120476 &  0.4402785 &  0.71271113 &  0.6996101 & -0.09078980\\\\\n",
       "\twt & -0.8676594 &  0.7824958 &  0.8879799 &  0.6587479 & -0.71244065 &  1.0000000 & -0.17471588 & -0.5549157 & -0.69249526 & -0.5832870 &  0.42760594\\\\\n",
       "\tqsec &  0.4186840 & -0.5912421 & -0.4336979 & -0.7082234 &  0.09120476 & -0.1747159 &  1.00000000 &  0.7445354 & -0.22986086 & -0.2126822 & -0.65624923\\\\\n",
       "\tvs &  0.6640389 & -0.8108118 & -0.7104159 & -0.7230967 &  0.44027846 & -0.5549157 &  0.74453544 &  1.0000000 &  0.16834512 &  0.2060233 & -0.56960714\\\\\n",
       "\tam &  0.5998324 & -0.5226070 & -0.5912270 & -0.2432043 &  0.71271113 & -0.6924953 & -0.22986086 &  0.1683451 &  1.00000000 &  0.7940588 &  0.05753435\\\\\n",
       "\tgear &  0.4802848 & -0.4926866 & -0.5555692 & -0.1257043 &  0.69961013 & -0.5832870 & -0.21268223 &  0.2060233 &  0.79405876 &  1.0000000 &  0.27407284\\\\\n",
       "\tcarb & -0.5509251 &  0.5269883 &  0.3949769 &  0.7498125 & -0.09078980 &  0.4276059 & -0.65624923 & -0.5696071 &  0.05753435 &  0.2740728 &  1.00000000\\\\\n",
       "\\end{tabular}\n"
      ],
      "text/markdown": [
       "\n",
       "A matrix: 11 × 11 of type dbl\n",
       "\n",
       "| <!--/--> | mpg | cyl | disp | hp | drat | wt | qsec | vs | am | gear | carb |\n",
       "|---|---|---|---|---|---|---|---|---|---|---|---|\n",
       "| mpg |  1.0000000 | -0.8521620 | -0.8475514 | -0.7761684 |  0.68117191 | -0.8676594 |  0.41868403 |  0.6640389 |  0.59983243 |  0.4802848 | -0.55092507 |\n",
       "| cyl | -0.8521620 |  1.0000000 |  0.9020329 |  0.8324475 | -0.69993811 |  0.7824958 | -0.59124207 | -0.8108118 | -0.52260705 | -0.4926866 |  0.52698829 |\n",
       "| disp | -0.8475514 |  0.9020329 |  1.0000000 |  0.7909486 | -0.71021393 |  0.8879799 | -0.43369788 | -0.7104159 | -0.59122704 | -0.5555692 |  0.39497686 |\n",
       "| hp | -0.7761684 |  0.8324475 |  0.7909486 |  1.0000000 | -0.44875912 |  0.6587479 | -0.70822339 | -0.7230967 | -0.24320426 | -0.1257043 |  0.74981247 |\n",
       "| drat |  0.6811719 | -0.6999381 | -0.7102139 | -0.4487591 |  1.00000000 | -0.7124406 |  0.09120476 |  0.4402785 |  0.71271113 |  0.6996101 | -0.09078980 |\n",
       "| wt | -0.8676594 |  0.7824958 |  0.8879799 |  0.6587479 | -0.71244065 |  1.0000000 | -0.17471588 | -0.5549157 | -0.69249526 | -0.5832870 |  0.42760594 |\n",
       "| qsec |  0.4186840 | -0.5912421 | -0.4336979 | -0.7082234 |  0.09120476 | -0.1747159 |  1.00000000 |  0.7445354 | -0.22986086 | -0.2126822 | -0.65624923 |\n",
       "| vs |  0.6640389 | -0.8108118 | -0.7104159 | -0.7230967 |  0.44027846 | -0.5549157 |  0.74453544 |  1.0000000 |  0.16834512 |  0.2060233 | -0.56960714 |\n",
       "| am |  0.5998324 | -0.5226070 | -0.5912270 | -0.2432043 |  0.71271113 | -0.6924953 | -0.22986086 |  0.1683451 |  1.00000000 |  0.7940588 |  0.05753435 |\n",
       "| gear |  0.4802848 | -0.4926866 | -0.5555692 | -0.1257043 |  0.69961013 | -0.5832870 | -0.21268223 |  0.2060233 |  0.79405876 |  1.0000000 |  0.27407284 |\n",
       "| carb | -0.5509251 |  0.5269883 |  0.3949769 |  0.7498125 | -0.09078980 |  0.4276059 | -0.65624923 | -0.5696071 |  0.05753435 |  0.2740728 |  1.00000000 |\n",
       "\n"
      ],
      "text/plain": [
       "     mpg        cyl        disp       hp         drat        wt        \n",
       "mpg   1.0000000 -0.8521620 -0.8475514 -0.7761684  0.68117191 -0.8676594\n",
       "cyl  -0.8521620  1.0000000  0.9020329  0.8324475 -0.69993811  0.7824958\n",
       "disp -0.8475514  0.9020329  1.0000000  0.7909486 -0.71021393  0.8879799\n",
       "hp   -0.7761684  0.8324475  0.7909486  1.0000000 -0.44875912  0.6587479\n",
       "drat  0.6811719 -0.6999381 -0.7102139 -0.4487591  1.00000000 -0.7124406\n",
       "wt   -0.8676594  0.7824958  0.8879799  0.6587479 -0.71244065  1.0000000\n",
       "qsec  0.4186840 -0.5912421 -0.4336979 -0.7082234  0.09120476 -0.1747159\n",
       "vs    0.6640389 -0.8108118 -0.7104159 -0.7230967  0.44027846 -0.5549157\n",
       "am    0.5998324 -0.5226070 -0.5912270 -0.2432043  0.71271113 -0.6924953\n",
       "gear  0.4802848 -0.4926866 -0.5555692 -0.1257043  0.69961013 -0.5832870\n",
       "carb -0.5509251  0.5269883  0.3949769  0.7498125 -0.09078980  0.4276059\n",
       "     qsec        vs         am          gear       carb       \n",
       "mpg   0.41868403  0.6640389  0.59983243  0.4802848 -0.55092507\n",
       "cyl  -0.59124207 -0.8108118 -0.52260705 -0.4926866  0.52698829\n",
       "disp -0.43369788 -0.7104159 -0.59122704 -0.5555692  0.39497686\n",
       "hp   -0.70822339 -0.7230967 -0.24320426 -0.1257043  0.74981247\n",
       "drat  0.09120476  0.4402785  0.71271113  0.6996101 -0.09078980\n",
       "wt   -0.17471588 -0.5549157 -0.69249526 -0.5832870  0.42760594\n",
       "qsec  1.00000000  0.7445354 -0.22986086 -0.2126822 -0.65624923\n",
       "vs    0.74453544  1.0000000  0.16834512  0.2060233 -0.56960714\n",
       "am   -0.22986086  0.1683451  1.00000000  0.7940588  0.05753435\n",
       "gear -0.21268223  0.2060233  0.79405876  1.0000000  0.27407284\n",
       "carb -0.65624923 -0.5696071  0.05753435  0.2740728  1.00000000"
      ]
     },
     "metadata": {},
     "output_type": "display_data"
    }
   ],
   "source": [
    "cor(mtcars)"
   ]
  },
  {
   "cell_type": "markdown",
   "metadata": {},
   "source": [
    "* Calculate the correlation between mpg and horsepower\n"
   ]
  },
  {
   "cell_type": "code",
   "execution_count": 21,
   "metadata": {
    "vscode": {
     "languageId": "r"
    }
   },
   "outputs": [
    {
     "data": {
      "text/html": [
       "-0.776168371826586"
      ],
      "text/latex": [
       "-0.776168371826586"
      ],
      "text/markdown": [
       "-0.776168371826586"
      ],
      "text/plain": [
       "[1] -0.7761684"
      ]
     },
     "metadata": {},
     "output_type": "display_data"
    }
   ],
   "source": [
    "cor(mtcars$mpg, mtcars$hp)"
   ]
  },
  {
   "cell_type": "markdown",
   "metadata": {},
   "source": [
    "* Calculate the VIF value"
   ]
  },
  {
   "cell_type": "code",
   "execution_count": 24,
   "metadata": {
    "vscode": {
     "languageId": "r"
    }
   },
   "outputs": [
    {
     "data": {
      "text/html": [
       "<style>\n",
       ".dl-inline {width: auto; margin:0; padding: 0}\n",
       ".dl-inline>dt, .dl-inline>dd {float: none; width: auto; display: inline-block}\n",
       ".dl-inline>dt::after {content: \":\\0020\"; padding-right: .5ex}\n",
       ".dl-inline>dt:not(:first-of-type) {padding-left: .5ex}\n",
       "</style><dl class=dl-inline><dt>cyl</dt><dd>15.3738334034422</dd><dt>disp</dt><dd>21.6202410289589</dd><dt>hp</dt><dd>9.83203684435907</dd><dt>drat</dt><dd>3.37462000831475</dd><dt>wt</dt><dd>15.164886963987</dd><dt>qsec</dt><dd>7.52795822529112</dd><dt>vs</dt><dd>4.96587346648472</dd><dt>am</dt><dd>4.64848745550016</dd><dt>gear</dt><dd>5.35745210594065</dd><dt>carb</dt><dd>7.90874675118443</dd></dl>\n"
      ],
      "text/latex": [
       "\\begin{description*}\n",
       "\\item[cyl] 15.3738334034422\n",
       "\\item[disp] 21.6202410289589\n",
       "\\item[hp] 9.83203684435907\n",
       "\\item[drat] 3.37462000831475\n",
       "\\item[wt] 15.164886963987\n",
       "\\item[qsec] 7.52795822529112\n",
       "\\item[vs] 4.96587346648472\n",
       "\\item[am] 4.64848745550016\n",
       "\\item[gear] 5.35745210594065\n",
       "\\item[carb] 7.90874675118443\n",
       "\\end{description*}\n"
      ],
      "text/markdown": [
       "cyl\n",
       ":   15.3738334034422disp\n",
       ":   21.6202410289589hp\n",
       ":   9.83203684435907drat\n",
       ":   3.37462000831475wt\n",
       ":   15.164886963987qsec\n",
       ":   7.52795822529112vs\n",
       ":   4.96587346648472am\n",
       ":   4.64848745550016gear\n",
       ":   5.35745210594065carb\n",
       ":   7.90874675118443\n",
       "\n"
      ],
      "text/plain": [
       "      cyl      disp        hp      drat        wt      qsec        vs        am \n",
       "15.373833 21.620241  9.832037  3.374620 15.164887  7.527958  4.965873  4.648487 \n",
       "     gear      carb \n",
       " 5.357452  7.908747 "
      ]
     },
     "metadata": {},
     "output_type": "display_data"
    }
   ],
   "source": [
    "library(car)\n",
    "vif(cars_reg)"
   ]
  },
  {
   "cell_type": "markdown",
   "metadata": {},
   "source": [
    "Since most of the values are > 5, multicollinearity exists in this model"
   ]
  },
  {
   "cell_type": "markdown",
   "metadata": {},
   "source": [
    "* Find 3 best subset using AIC"
   ]
  },
  {
   "cell_type": "code",
   "execution_count": 27,
   "metadata": {
    "vscode": {
     "languageId": "r"
    }
   },
   "outputs": [
    {
     "data": {
      "text/html": [
       "<table class=\"dataframe\">\n",
       "<caption>A ols_step_best_subset: 10 × 14</caption>\n",
       "<thead>\n",
       "\t<tr><th></th><th scope=col>mindex</th><th scope=col>n</th><th scope=col>predictors</th><th scope=col>rsquare</th><th scope=col>adjr</th><th scope=col>predrsq</th><th scope=col>cp</th><th scope=col>aic</th><th scope=col>sbic</th><th scope=col>sbc</th><th scope=col>msep</th><th scope=col>fpe</th><th scope=col>apc</th><th scope=col>hsp</th></tr>\n",
       "\t<tr><th></th><th scope=col>&lt;int&gt;</th><th scope=col>&lt;int&gt;</th><th scope=col>&lt;chr&gt;</th><th scope=col>&lt;dbl&gt;</th><th scope=col>&lt;dbl&gt;</th><th scope=col>&lt;dbl&gt;</th><th scope=col>&lt;dbl&gt;</th><th scope=col>&lt;dbl&gt;</th><th scope=col>&lt;dbl&gt;</th><th scope=col>&lt;dbl&gt;</th><th scope=col>&lt;dbl&gt;</th><th scope=col>&lt;dbl&gt;</th><th scope=col>&lt;dbl&gt;</th><th scope=col>&lt;dbl&gt;</th></tr>\n",
       "</thead>\n",
       "<tbody>\n",
       "\t<tr><th scope=row>5</th><td> 1</td><td> 1</td><td>wt                                      </td><td>0.7528328</td><td>0.7445939</td><td>0.7086954</td><td>11.6269926</td><td>166.0294</td><td>74.37340</td><td>170.4266</td><td>296.9167</td><td>9.857235</td><td>0.2801228</td><td>0.3199103</td></tr>\n",
       "\t<tr><th scope=row>14</th><td> 2</td><td> 2</td><td>cyl wt                                  </td><td>0.8302274</td><td>0.8185189</td><td>0.7903761</td><td> 1.2187315</td><td>156.0101</td><td>66.19025</td><td>161.8730</td><td>211.2280</td><td>7.210150</td><td>0.2048980</td><td>0.2354335</td></tr>\n",
       "\t<tr><th scope=row>157</th><td> 3</td><td> 3</td><td>wt qsec am                              </td><td>0.8496636</td><td>0.8335561</td><td>0.7945881</td><td> 0.1026357</td><td>154.1194</td><td>65.71383</td><td>161.4481</td><td>193.9735</td><td>6.801667</td><td>0.1932897</td><td>0.2239232</td></tr>\n",
       "\t<tr><th scope=row>332</th><td> 4</td><td> 4</td><td>hp wt qsec am                           </td><td>0.8578510</td><td>0.8367919</td><td>0.8021094</td><td> 0.7899838</td><td>154.3274</td><td>67.22992</td><td>163.1218</td><td>190.4637</td><td>6.854698</td><td>0.1947968</td><td>0.2280149</td></tr>\n",
       "\t<tr><th scope=row>528</th><td> 5</td><td> 5</td><td>disp hp wt qsec am                      </td><td>0.8637377</td><td>0.8375334</td><td>0.7984327</td><td> 1.8462076</td><td>154.9740</td><td>69.30727</td><td>165.2341</td><td>189.8793</td><td>7.007977</td><td>0.1991526</td><td>0.2360582</td></tr>\n",
       "\t<tr><th scope=row>765</th><td> 6</td><td> 6</td><td>disp hp drat wt qsec am                 </td><td>0.8667078</td><td>0.8347177</td><td>0.7854830</td><td> 3.3700162</td><td>156.2687</td><td>71.92576</td><td>167.9946</td><td>193.4796</td><td>7.317046</td><td>0.2079358</td><td>0.2501554</td></tr>\n",
       "\t<tr><th scope=row>935</th><td> 7</td><td> 7</td><td>disp hp drat wt qsec am gear            </td><td>0.8680976</td><td>0.8296261</td><td>0.7619427</td><td> 5.1471984</td><td>157.9333</td><td>74.80575</td><td>171.1250</td><td>199.7867</td><td>7.735848</td><td>0.2198373</td><td>0.2690730</td></tr>\n",
       "\t<tr><th scope=row>1007</th><td> 8</td><td> 8</td><td>disp hp drat wt qsec am gear carb       </td><td>0.8687064</td><td>0.8230390</td><td>0.7316143</td><td> 7.0496037</td><td>159.7853</td><td>77.79592</td><td>174.4427</td><td>207.9040</td><td>8.235809</td><td>0.2340452</td><td>0.2921795</td></tr>\n",
       "\t<tr><th scope=row>1022</th><td> 9</td><td> 9</td><td>disp hp drat wt qsec vs am gear carb    </td><td>0.8689448</td><td>0.8153314</td><td>0.7035108</td><td> 9.0113719</td><td>161.7271</td><td>80.82774</td><td>177.8502</td><td>217.4086</td><td>8.804149</td><td>0.2501962</td><td>0.3194249</td></tr>\n",
       "\t<tr><th scope=row>1023</th><td>10</td><td>10</td><td>cyl disp hp drat wt qsec vs am gear carb</td><td>0.8690158</td><td>0.8066423</td><td>0.6538246</td><td>11.0000000</td><td>163.7098</td><td>83.87280</td><td>181.2986</td><td>228.1554</td><td>9.437888</td><td>0.2682058</td><td>0.3511772</td></tr>\n",
       "</tbody>\n",
       "</table>\n"
      ],
      "text/latex": [
       "A ols\\_step\\_best\\_subset: 10 × 14\n",
       "\\begin{tabular}{r|llllllllllllll}\n",
       "  & mindex & n & predictors & rsquare & adjr & predrsq & cp & aic & sbic & sbc & msep & fpe & apc & hsp\\\\\n",
       "  & <int> & <int> & <chr> & <dbl> & <dbl> & <dbl> & <dbl> & <dbl> & <dbl> & <dbl> & <dbl> & <dbl> & <dbl> & <dbl>\\\\\n",
       "\\hline\n",
       "\t5 &  1 &  1 & wt                                       & 0.7528328 & 0.7445939 & 0.7086954 & 11.6269926 & 166.0294 & 74.37340 & 170.4266 & 296.9167 & 9.857235 & 0.2801228 & 0.3199103\\\\\n",
       "\t14 &  2 &  2 & cyl wt                                   & 0.8302274 & 0.8185189 & 0.7903761 &  1.2187315 & 156.0101 & 66.19025 & 161.8730 & 211.2280 & 7.210150 & 0.2048980 & 0.2354335\\\\\n",
       "\t157 &  3 &  3 & wt qsec am                               & 0.8496636 & 0.8335561 & 0.7945881 &  0.1026357 & 154.1194 & 65.71383 & 161.4481 & 193.9735 & 6.801667 & 0.1932897 & 0.2239232\\\\\n",
       "\t332 &  4 &  4 & hp wt qsec am                            & 0.8578510 & 0.8367919 & 0.8021094 &  0.7899838 & 154.3274 & 67.22992 & 163.1218 & 190.4637 & 6.854698 & 0.1947968 & 0.2280149\\\\\n",
       "\t528 &  5 &  5 & disp hp wt qsec am                       & 0.8637377 & 0.8375334 & 0.7984327 &  1.8462076 & 154.9740 & 69.30727 & 165.2341 & 189.8793 & 7.007977 & 0.1991526 & 0.2360582\\\\\n",
       "\t765 &  6 &  6 & disp hp drat wt qsec am                  & 0.8667078 & 0.8347177 & 0.7854830 &  3.3700162 & 156.2687 & 71.92576 & 167.9946 & 193.4796 & 7.317046 & 0.2079358 & 0.2501554\\\\\n",
       "\t935 &  7 &  7 & disp hp drat wt qsec am gear             & 0.8680976 & 0.8296261 & 0.7619427 &  5.1471984 & 157.9333 & 74.80575 & 171.1250 & 199.7867 & 7.735848 & 0.2198373 & 0.2690730\\\\\n",
       "\t1007 &  8 &  8 & disp hp drat wt qsec am gear carb        & 0.8687064 & 0.8230390 & 0.7316143 &  7.0496037 & 159.7853 & 77.79592 & 174.4427 & 207.9040 & 8.235809 & 0.2340452 & 0.2921795\\\\\n",
       "\t1022 &  9 &  9 & disp hp drat wt qsec vs am gear carb     & 0.8689448 & 0.8153314 & 0.7035108 &  9.0113719 & 161.7271 & 80.82774 & 177.8502 & 217.4086 & 8.804149 & 0.2501962 & 0.3194249\\\\\n",
       "\t1023 & 10 & 10 & cyl disp hp drat wt qsec vs am gear carb & 0.8690158 & 0.8066423 & 0.6538246 & 11.0000000 & 163.7098 & 83.87280 & 181.2986 & 228.1554 & 9.437888 & 0.2682058 & 0.3511772\\\\\n",
       "\\end{tabular}\n"
      ],
      "text/markdown": [
       "\n",
       "A ols_step_best_subset: 10 × 14\n",
       "\n",
       "| <!--/--> | mindex &lt;int&gt; | n &lt;int&gt; | predictors &lt;chr&gt; | rsquare &lt;dbl&gt; | adjr &lt;dbl&gt; | predrsq &lt;dbl&gt; | cp &lt;dbl&gt; | aic &lt;dbl&gt; | sbic &lt;dbl&gt; | sbc &lt;dbl&gt; | msep &lt;dbl&gt; | fpe &lt;dbl&gt; | apc &lt;dbl&gt; | hsp &lt;dbl&gt; |\n",
       "|---|---|---|---|---|---|---|---|---|---|---|---|---|---|---|\n",
       "| 5 |  1 |  1 | wt                                       | 0.7528328 | 0.7445939 | 0.7086954 | 11.6269926 | 166.0294 | 74.37340 | 170.4266 | 296.9167 | 9.857235 | 0.2801228 | 0.3199103 |\n",
       "| 14 |  2 |  2 | cyl wt                                   | 0.8302274 | 0.8185189 | 0.7903761 |  1.2187315 | 156.0101 | 66.19025 | 161.8730 | 211.2280 | 7.210150 | 0.2048980 | 0.2354335 |\n",
       "| 157 |  3 |  3 | wt qsec am                               | 0.8496636 | 0.8335561 | 0.7945881 |  0.1026357 | 154.1194 | 65.71383 | 161.4481 | 193.9735 | 6.801667 | 0.1932897 | 0.2239232 |\n",
       "| 332 |  4 |  4 | hp wt qsec am                            | 0.8578510 | 0.8367919 | 0.8021094 |  0.7899838 | 154.3274 | 67.22992 | 163.1218 | 190.4637 | 6.854698 | 0.1947968 | 0.2280149 |\n",
       "| 528 |  5 |  5 | disp hp wt qsec am                       | 0.8637377 | 0.8375334 | 0.7984327 |  1.8462076 | 154.9740 | 69.30727 | 165.2341 | 189.8793 | 7.007977 | 0.1991526 | 0.2360582 |\n",
       "| 765 |  6 |  6 | disp hp drat wt qsec am                  | 0.8667078 | 0.8347177 | 0.7854830 |  3.3700162 | 156.2687 | 71.92576 | 167.9946 | 193.4796 | 7.317046 | 0.2079358 | 0.2501554 |\n",
       "| 935 |  7 |  7 | disp hp drat wt qsec am gear             | 0.8680976 | 0.8296261 | 0.7619427 |  5.1471984 | 157.9333 | 74.80575 | 171.1250 | 199.7867 | 7.735848 | 0.2198373 | 0.2690730 |\n",
       "| 1007 |  8 |  8 | disp hp drat wt qsec am gear carb        | 0.8687064 | 0.8230390 | 0.7316143 |  7.0496037 | 159.7853 | 77.79592 | 174.4427 | 207.9040 | 8.235809 | 0.2340452 | 0.2921795 |\n",
       "| 1022 |  9 |  9 | disp hp drat wt qsec vs am gear carb     | 0.8689448 | 0.8153314 | 0.7035108 |  9.0113719 | 161.7271 | 80.82774 | 177.8502 | 217.4086 | 8.804149 | 0.2501962 | 0.3194249 |\n",
       "| 1023 | 10 | 10 | cyl disp hp drat wt qsec vs am gear carb | 0.8690158 | 0.8066423 | 0.6538246 | 11.0000000 | 163.7098 | 83.87280 | 181.2986 | 228.1554 | 9.437888 | 0.2682058 | 0.3511772 |\n",
       "\n"
      ],
      "text/plain": [
       "     mindex n  predictors                               rsquare   adjr     \n",
       "5     1      1 wt                                       0.7528328 0.7445939\n",
       "14    2      2 cyl wt                                   0.8302274 0.8185189\n",
       "157   3      3 wt qsec am                               0.8496636 0.8335561\n",
       "332   4      4 hp wt qsec am                            0.8578510 0.8367919\n",
       "528   5      5 disp hp wt qsec am                       0.8637377 0.8375334\n",
       "765   6      6 disp hp drat wt qsec am                  0.8667078 0.8347177\n",
       "935   7      7 disp hp drat wt qsec am gear             0.8680976 0.8296261\n",
       "1007  8      8 disp hp drat wt qsec am gear carb        0.8687064 0.8230390\n",
       "1022  9      9 disp hp drat wt qsec vs am gear carb     0.8689448 0.8153314\n",
       "1023 10     10 cyl disp hp drat wt qsec vs am gear carb 0.8690158 0.8066423\n",
       "     predrsq   cp         aic      sbic     sbc      msep     fpe     \n",
       "5    0.7086954 11.6269926 166.0294 74.37340 170.4266 296.9167 9.857235\n",
       "14   0.7903761  1.2187315 156.0101 66.19025 161.8730 211.2280 7.210150\n",
       "157  0.7945881  0.1026357 154.1194 65.71383 161.4481 193.9735 6.801667\n",
       "332  0.8021094  0.7899838 154.3274 67.22992 163.1218 190.4637 6.854698\n",
       "528  0.7984327  1.8462076 154.9740 69.30727 165.2341 189.8793 7.007977\n",
       "765  0.7854830  3.3700162 156.2687 71.92576 167.9946 193.4796 7.317046\n",
       "935  0.7619427  5.1471984 157.9333 74.80575 171.1250 199.7867 7.735848\n",
       "1007 0.7316143  7.0496037 159.7853 77.79592 174.4427 207.9040 8.235809\n",
       "1022 0.7035108  9.0113719 161.7271 80.82774 177.8502 217.4086 8.804149\n",
       "1023 0.6538246 11.0000000 163.7098 83.87280 181.2986 228.1554 9.437888\n",
       "     apc       hsp      \n",
       "5    0.2801228 0.3199103\n",
       "14   0.2048980 0.2354335\n",
       "157  0.1932897 0.2239232\n",
       "332  0.1947968 0.2280149\n",
       "528  0.1991526 0.2360582\n",
       "765  0.2079358 0.2501554\n",
       "935  0.2198373 0.2690730\n",
       "1007 0.2340452 0.2921795\n",
       "1022 0.2501962 0.3194249\n",
       "1023 0.2682058 0.3511772"
      ]
     },
     "metadata": {},
     "output_type": "display_data"
    }
   ],
   "source": [
    "library(olsrr)\n",
    "ols_step_best_subset(cars_reg)"
   ]
  },
  {
   "cell_type": "markdown",
   "metadata": {},
   "source": [
    "1. model #3: wt, qsec, am\n",
    "2. model #2: hp, wt, qsec, am\n",
    "3. model #3: disp, hp, wt, qsec, am"
   ]
  },
  {
   "cell_type": "markdown",
   "metadata": {},
   "source": [
    "* using forward selection procedure, find the best model"
   ]
  },
  {
   "cell_type": "code",
   "execution_count": 28,
   "metadata": {
    "vscode": {
     "languageId": "r"
    }
   },
   "outputs": [
    {
     "data": {
      "text/plain": [
       "\n",
       "                            Selection Summary                             \n",
       "-------------------------------------------------------------------------\n",
       "        Variable                  Adj.                                       \n",
       "Step    Entered     R-Square    R-Square     C(p)        AIC        RMSE     \n",
       "-------------------------------------------------------------------------\n",
       "   1    wt            0.7528      0.7446    11.6270    166.0294    3.0459    \n",
       "   2    cyl           0.8302      0.8185     1.2187    156.0101    2.5675    \n",
       "   3    hp            0.8431      0.8263     1.1469    155.4766    2.5115    \n",
       "-------------------------------------------------------------------------"
      ]
     },
     "metadata": {},
     "output_type": "display_data"
    }
   ],
   "source": [
    "ols_step_forward_p(cars_reg, pcenter=0.05)"
   ]
  },
  {
   "cell_type": "markdown",
   "metadata": {},
   "source": [
    "* repeat using backward elimination method"
   ]
  },
  {
   "cell_type": "code",
   "execution_count": 29,
   "metadata": {
    "vscode": {
     "languageId": "r"
    }
   },
   "outputs": [
    {
     "data": {
      "text/plain": [
       "\n",
       "\n",
       "                          Elimination Summary                            \n",
       "------------------------------------------------------------------------\n",
       "        Variable                  Adj.                                      \n",
       "Step    Removed     R-Square    R-Square     C(p)       AIC        RMSE     \n",
       "------------------------------------------------------------------------\n",
       "   1    cyl           0.8689      0.8153    9.0114    161.7271    2.5900    \n",
       "   2    vs            0.8687       0.823    7.0496    159.7853    2.5353    \n",
       "   3    carb          0.8681      0.8296    5.1472    157.9333    2.4877    \n",
       "   4    gear          0.8667      0.8347    3.3700    156.2687    2.4503    \n",
       "   5    drat          0.8637      0.8375    1.8462    154.9740    2.4293    \n",
       "------------------------------------------------------------------------"
      ]
     },
     "metadata": {},
     "output_type": "display_data"
    }
   ],
   "source": [
    "ols_step_backward_p(cars_reg, pelim=0.05)"
   ]
  },
  {
   "cell_type": "markdown",
   "metadata": {},
   "source": [
    "* fit a MLR where mpg as a response variable and wt, hp, am as covariates also include interaction term hp * wt"
   ]
  },
  {
   "cell_type": "code",
   "execution_count": 32,
   "metadata": {
    "vscode": {
     "languageId": "r"
    }
   },
   "outputs": [
    {
     "data": {
      "text/plain": [
       "\n",
       "Call:\n",
       "lm(formula = mpg ~ wt + hp + am + wt * hp, data = mtcars)\n",
       "\n",
       "Residuals:\n",
       "    Min      1Q  Median      3Q     Max \n",
       "-2.9845 -1.6580 -0.7407  1.4362  4.5266 \n",
       "\n",
       "Coefficients:\n",
       "             Estimate Std. Error t value Pr(>|t|)    \n",
       "(Intercept) 49.452241   5.280731   9.365 5.69e-10 ***\n",
       "wt          -8.100558   1.789325  -4.527 0.000108 ***\n",
       "hp          -0.119303   0.026550  -4.494 0.000119 ***\n",
       "am           0.125107   1.333431   0.094 0.925942    \n",
       "wt:hp        0.027488   0.008473   3.244 0.003130 ** \n",
       "---\n",
       "Signif. codes:  0 ‘***’ 0.001 ‘**’ 0.01 ‘*’ 0.05 ‘.’ 0.1 ‘ ’ 1\n",
       "\n",
       "Residual standard error: 2.192 on 27 degrees of freedom\n",
       "Multiple R-squared:  0.8848,\tAdjusted R-squared:  0.8677 \n",
       "F-statistic: 51.84 on 4 and 27 DF,  p-value: 2.765e-12\n"
      ]
     },
     "metadata": {},
     "output_type": "display_data"
    }
   ],
   "source": [
    "model2 = lm(mpg ~ wt + hp + am + wt*hp, data=mtcars)\n",
    "summary(model2)"
   ]
  },
  {
   "cell_type": "markdown",
   "metadata": {},
   "source": [
    "Since the p-value for wt:hp is 0.003 we reject null hypothesis so we do need the interaction term in the model"
   ]
  },
  {
   "cell_type": "markdown",
   "metadata": {},
   "source": [
    "* Repeat for hp and am"
   ]
  },
  {
   "cell_type": "code",
   "execution_count": 33,
   "metadata": {
    "vscode": {
     "languageId": "r"
    }
   },
   "outputs": [
    {
     "data": {
      "text/plain": [
       "\n",
       "Call:\n",
       "lm(formula = mpg ~ wt + hp + am + hp * am, data = mtcars)\n",
       "\n",
       "Residuals:\n",
       "   Min     1Q Median     3Q    Max \n",
       "-3.435 -1.510 -0.697  1.284  5.245 \n",
       "\n",
       "Coefficients:\n",
       "            Estimate Std. Error t value Pr(>|t|)    \n",
       "(Intercept) 33.34196    2.79711  11.920 2.89e-12 ***\n",
       "wt          -3.05617    0.94036  -3.250  0.00309 ** \n",
       "hp          -0.02918    0.01449  -2.014  0.05407 .  \n",
       "am           3.55141    2.35742   1.506  0.14355    \n",
       "hp:am       -0.01129    0.01466  -0.770  0.44809    \n",
       "---\n",
       "Signif. codes:  0 ‘***’ 0.001 ‘**’ 0.01 ‘*’ 0.05 ‘.’ 0.1 ‘ ’ 1\n",
       "\n",
       "Residual standard error: 2.556 on 27 degrees of freedom\n",
       "Multiple R-squared:  0.8433,\tAdjusted R-squared:  0.8201 \n",
       "F-statistic: 36.33 on 4 and 27 DF,  p-value: 1.68e-10\n"
      ]
     },
     "metadata": {},
     "output_type": "display_data"
    }
   ],
   "source": [
    "model2 = lm(mpg ~ wt + hp + am + hp*am, data=mtcars)\n",
    "summary(model2)"
   ]
  },
  {
   "cell_type": "markdown",
   "metadata": {},
   "source": [
    "* This p-value is very large so therefore it's not in the model"
   ]
  },
  {
   "cell_type": "markdown",
   "metadata": {},
   "source": [
    "* Check if the models are the same\n",
    "\n",
    "FIGURE OUT WHAT VARIABLES YOU SET TO ZERO SO THAT THE MODELS ARE THE SAME, BUILD THE REDUCED MODELS WITHOUT THOSE VARIABLES, COMBINE IN THE ANOVA TABLE WITH THE FULL MODEL AND CHECK THE F-STATISTIC"
   ]
  }
 ],
 "metadata": {
  "kernelspec": {
   "display_name": "R",
   "language": "R",
   "name": "ir"
  },
  "language_info": {
   "codemirror_mode": "r",
   "file_extension": ".r",
   "mimetype": "text/x-r-source",
   "name": "R",
   "pygments_lexer": "r",
   "version": "4.1.2"
  },
  "orig_nbformat": 4,
  "vscode": {
   "interpreter": {
    "hash": "08849f8dffc3f27fb59cf06aefb79cb7a49147ad49564f36fdad5976b28849fb"
   }
  }
 },
 "nbformat": 4,
 "nbformat_minor": 2
}
