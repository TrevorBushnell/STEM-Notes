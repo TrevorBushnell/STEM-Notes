{
 "cells": [
  {
   "cell_type": "markdown",
   "metadata": {},
   "source": [
    "# K: Multicollinearity\n",
    "\n",
    "## Library Imports"
   ]
  },
  {
   "cell_type": "code",
   "execution_count": 1,
   "metadata": {
    "vscode": {
     "languageId": "r"
    }
   },
   "outputs": [
    {
     "name": "stderr",
     "output_type": "stream",
     "text": [
      "Loading required package: carData\n",
      "\n"
     ]
    }
   ],
   "source": [
    "library(car)"
   ]
  },
  {
   "cell_type": "markdown",
   "metadata": {},
   "source": [
    "## Introduction\n",
    "\n",
    "* **intercorrelation** exists whenever the predictor variables are correlated\n",
    "* **multicollinearity** generally reserved for instances where the correlation is very high (greater than 0.9)\n",
    "* multicollinearity can make it difficult to\n",
    "  * judge relative importance of predictor variables\n",
    "  * cause problems when fitting and interpreting the regression model\n",
    "* Ex: in a regression analysis using response variable max vertical jump and predictor variables height, shoe size, and hours spent practicing per day, we would see that height and shoe size are likely to be highly correlated with each other, so multicollinearity will likely be a problem\n",
    "* multicollinearity is a problem because when two or more predictor variables are highly correlated, it becomes difficult to change one variable without changing the other variable\n",
    "  * make it difficult for the model to estimate relationship between each predictor variable and response variable independently because predictor variables tend to change in union\n",
    "* "
   ]
  },
  {
   "cell_type": "markdown",
   "metadata": {},
   "source": [
    "## Example: Credit Card Balance Data\n",
    "\n",
    "**Description:** A simulated data set containing information on ten\n",
    "thousand customers. The aim here is to predict which customers\n",
    "will default on their credit card debt."
   ]
  },
  {
   "cell_type": "code",
   "execution_count": 2,
   "metadata": {
    "vscode": {
     "languageId": "r"
    }
   },
   "outputs": [
    {
     "data": {
      "text/html": [
       "<table class=\"dataframe\">\n",
       "<caption>A data.frame: 400 × 11</caption>\n",
       "<thead>\n",
       "\t<tr><th></th><th scope=col>Income</th><th scope=col>Limit</th><th scope=col>Rating</th><th scope=col>Cards</th><th scope=col>Age</th><th scope=col>Education</th><th scope=col>Own</th><th scope=col>Student</th><th scope=col>Married</th><th scope=col>Region</th><th scope=col>Balance</th></tr>\n",
       "\t<tr><th></th><th scope=col>&lt;dbl&gt;</th><th scope=col>&lt;dbl&gt;</th><th scope=col>&lt;dbl&gt;</th><th scope=col>&lt;dbl&gt;</th><th scope=col>&lt;dbl&gt;</th><th scope=col>&lt;dbl&gt;</th><th scope=col>&lt;fct&gt;</th><th scope=col>&lt;fct&gt;</th><th scope=col>&lt;fct&gt;</th><th scope=col>&lt;fct&gt;</th><th scope=col>&lt;dbl&gt;</th></tr>\n",
       "</thead>\n",
       "<tbody>\n",
       "\t<tr><th scope=row>1</th><td> 14.891</td><td> 3606</td><td>283</td><td>2</td><td>34</td><td>11</td><td>No </td><td>No </td><td>Yes</td><td>South</td><td> 333</td></tr>\n",
       "\t<tr><th scope=row>2</th><td>106.025</td><td> 6645</td><td>483</td><td>3</td><td>82</td><td>15</td><td>Yes</td><td>Yes</td><td>Yes</td><td>West </td><td> 903</td></tr>\n",
       "\t<tr><th scope=row>3</th><td>104.593</td><td> 7075</td><td>514</td><td>4</td><td>71</td><td>11</td><td>No </td><td>No </td><td>No </td><td>West </td><td> 580</td></tr>\n",
       "\t<tr><th scope=row>4</th><td>148.924</td><td> 9504</td><td>681</td><td>3</td><td>36</td><td>11</td><td>Yes</td><td>No </td><td>No </td><td>West </td><td> 964</td></tr>\n",
       "\t<tr><th scope=row>5</th><td> 55.882</td><td> 4897</td><td>357</td><td>2</td><td>68</td><td>16</td><td>No </td><td>No </td><td>Yes</td><td>South</td><td> 331</td></tr>\n",
       "\t<tr><th scope=row>6</th><td> 80.180</td><td> 8047</td><td>569</td><td>4</td><td>77</td><td>10</td><td>No </td><td>No </td><td>No </td><td>South</td><td>1151</td></tr>\n",
       "\t<tr><th scope=row>7</th><td> 20.996</td><td> 3388</td><td>259</td><td>2</td><td>37</td><td>12</td><td>Yes</td><td>No </td><td>No </td><td>East </td><td> 203</td></tr>\n",
       "\t<tr><th scope=row>8</th><td> 71.408</td><td> 7114</td><td>512</td><td>2</td><td>87</td><td> 9</td><td>No </td><td>No </td><td>No </td><td>West </td><td> 872</td></tr>\n",
       "\t<tr><th scope=row>9</th><td> 15.125</td><td> 3300</td><td>266</td><td>5</td><td>66</td><td>13</td><td>Yes</td><td>No </td><td>No </td><td>South</td><td> 279</td></tr>\n",
       "\t<tr><th scope=row>10</th><td> 71.061</td><td> 6819</td><td>491</td><td>3</td><td>41</td><td>19</td><td>Yes</td><td>Yes</td><td>Yes</td><td>East </td><td>1350</td></tr>\n",
       "\t<tr><th scope=row>11</th><td> 63.095</td><td> 8117</td><td>589</td><td>4</td><td>30</td><td>14</td><td>No </td><td>No </td><td>Yes</td><td>South</td><td>1407</td></tr>\n",
       "\t<tr><th scope=row>12</th><td> 15.045</td><td> 1311</td><td>138</td><td>3</td><td>64</td><td>16</td><td>No </td><td>No </td><td>No </td><td>South</td><td>   0</td></tr>\n",
       "\t<tr><th scope=row>13</th><td> 80.616</td><td> 5308</td><td>394</td><td>1</td><td>57</td><td> 7</td><td>Yes</td><td>No </td><td>Yes</td><td>West </td><td> 204</td></tr>\n",
       "\t<tr><th scope=row>14</th><td> 43.682</td><td> 6922</td><td>511</td><td>1</td><td>49</td><td> 9</td><td>No </td><td>No </td><td>Yes</td><td>South</td><td>1081</td></tr>\n",
       "\t<tr><th scope=row>15</th><td> 19.144</td><td> 3291</td><td>269</td><td>2</td><td>75</td><td>13</td><td>Yes</td><td>No </td><td>No </td><td>East </td><td> 148</td></tr>\n",
       "\t<tr><th scope=row>16</th><td> 20.089</td><td> 2525</td><td>200</td><td>3</td><td>57</td><td>15</td><td>Yes</td><td>No </td><td>Yes</td><td>East </td><td>   0</td></tr>\n",
       "\t<tr><th scope=row>17</th><td> 53.598</td><td> 3714</td><td>286</td><td>3</td><td>73</td><td>17</td><td>Yes</td><td>No </td><td>Yes</td><td>East </td><td>   0</td></tr>\n",
       "\t<tr><th scope=row>18</th><td> 36.496</td><td> 4378</td><td>339</td><td>3</td><td>69</td><td>15</td><td>Yes</td><td>No </td><td>Yes</td><td>West </td><td> 368</td></tr>\n",
       "\t<tr><th scope=row>19</th><td> 49.570</td><td> 6384</td><td>448</td><td>1</td><td>28</td><td> 9</td><td>Yes</td><td>No </td><td>Yes</td><td>West </td><td> 891</td></tr>\n",
       "\t<tr><th scope=row>20</th><td> 42.079</td><td> 6626</td><td>479</td><td>2</td><td>44</td><td> 9</td><td>No </td><td>No </td><td>No </td><td>West </td><td>1048</td></tr>\n",
       "\t<tr><th scope=row>21</th><td> 17.700</td><td> 2860</td><td>235</td><td>4</td><td>63</td><td>16</td><td>Yes</td><td>No </td><td>No </td><td>West </td><td>  89</td></tr>\n",
       "\t<tr><th scope=row>22</th><td> 37.348</td><td> 6378</td><td>458</td><td>1</td><td>72</td><td>17</td><td>Yes</td><td>No </td><td>No </td><td>South</td><td> 968</td></tr>\n",
       "\t<tr><th scope=row>23</th><td> 20.103</td><td> 2631</td><td>213</td><td>3</td><td>61</td><td>10</td><td>No </td><td>No </td><td>Yes</td><td>East </td><td>   0</td></tr>\n",
       "\t<tr><th scope=row>24</th><td> 64.027</td><td> 5179</td><td>398</td><td>5</td><td>48</td><td> 8</td><td>No </td><td>No </td><td>Yes</td><td>East </td><td> 411</td></tr>\n",
       "\t<tr><th scope=row>25</th><td> 10.742</td><td> 1757</td><td>156</td><td>3</td><td>57</td><td>15</td><td>Yes</td><td>No </td><td>No </td><td>South</td><td>   0</td></tr>\n",
       "\t<tr><th scope=row>26</th><td> 14.090</td><td> 4323</td><td>326</td><td>5</td><td>25</td><td>16</td><td>Yes</td><td>No </td><td>Yes</td><td>East </td><td> 671</td></tr>\n",
       "\t<tr><th scope=row>27</th><td> 42.471</td><td> 3625</td><td>289</td><td>6</td><td>44</td><td>12</td><td>Yes</td><td>Yes</td><td>No </td><td>South</td><td> 654</td></tr>\n",
       "\t<tr><th scope=row>28</th><td> 32.793</td><td> 4534</td><td>333</td><td>2</td><td>44</td><td>16</td><td>No </td><td>No </td><td>No </td><td>East </td><td> 467</td></tr>\n",
       "\t<tr><th scope=row>29</th><td>186.634</td><td>13414</td><td>949</td><td>2</td><td>41</td><td>14</td><td>Yes</td><td>No </td><td>Yes</td><td>East </td><td>1809</td></tr>\n",
       "\t<tr><th scope=row>30</th><td> 26.813</td><td> 5611</td><td>411</td><td>4</td><td>55</td><td>16</td><td>Yes</td><td>No </td><td>No </td><td>South</td><td> 915</td></tr>\n",
       "\t<tr><th scope=row>⋮</th><td>⋮</td><td>⋮</td><td>⋮</td><td>⋮</td><td>⋮</td><td>⋮</td><td>⋮</td><td>⋮</td><td>⋮</td><td>⋮</td><td>⋮</td></tr>\n",
       "\t<tr><th scope=row>371</th><td> 35.610</td><td> 6135</td><td>466</td><td>4</td><td>40</td><td>12</td><td>No </td><td>No </td><td>No </td><td>South</td><td> 992</td></tr>\n",
       "\t<tr><th scope=row>372</th><td> 39.116</td><td> 2150</td><td>173</td><td>4</td><td>75</td><td>15</td><td>No </td><td>No </td><td>No </td><td>South</td><td>   0</td></tr>\n",
       "\t<tr><th scope=row>373</th><td> 19.782</td><td> 3782</td><td>293</td><td>2</td><td>46</td><td>16</td><td>Yes</td><td>Yes</td><td>No </td><td>South</td><td> 840</td></tr>\n",
       "\t<tr><th scope=row>374</th><td> 55.412</td><td> 5354</td><td>383</td><td>2</td><td>37</td><td>16</td><td>Yes</td><td>Yes</td><td>Yes</td><td>South</td><td>1003</td></tr>\n",
       "\t<tr><th scope=row>375</th><td> 29.400</td><td> 4840</td><td>368</td><td>3</td><td>76</td><td>18</td><td>Yes</td><td>No </td><td>Yes</td><td>South</td><td> 588</td></tr>\n",
       "\t<tr><th scope=row>376</th><td> 20.974</td><td> 5673</td><td>413</td><td>5</td><td>44</td><td>16</td><td>Yes</td><td>No </td><td>Yes</td><td>South</td><td>1000</td></tr>\n",
       "\t<tr><th scope=row>377</th><td> 87.625</td><td> 7167</td><td>515</td><td>2</td><td>46</td><td>10</td><td>Yes</td><td>No </td><td>No </td><td>East </td><td> 767</td></tr>\n",
       "\t<tr><th scope=row>378</th><td> 28.144</td><td> 1567</td><td>142</td><td>3</td><td>51</td><td>10</td><td>No </td><td>No </td><td>Yes</td><td>South</td><td>   0</td></tr>\n",
       "\t<tr><th scope=row>379</th><td> 19.349</td><td> 4941</td><td>366</td><td>1</td><td>33</td><td>19</td><td>No </td><td>No </td><td>Yes</td><td>South</td><td> 717</td></tr>\n",
       "\t<tr><th scope=row>380</th><td> 53.308</td><td> 2860</td><td>214</td><td>1</td><td>84</td><td>10</td><td>No </td><td>No </td><td>Yes</td><td>South</td><td>   0</td></tr>\n",
       "\t<tr><th scope=row>381</th><td>115.123</td><td> 7760</td><td>538</td><td>3</td><td>83</td><td>14</td><td>Yes</td><td>No </td><td>No </td><td>East </td><td> 661</td></tr>\n",
       "\t<tr><th scope=row>382</th><td>101.788</td><td> 8029</td><td>574</td><td>2</td><td>84</td><td>11</td><td>No </td><td>No </td><td>Yes</td><td>South</td><td> 849</td></tr>\n",
       "\t<tr><th scope=row>383</th><td> 24.824</td><td> 5495</td><td>409</td><td>1</td><td>33</td><td> 9</td><td>No </td><td>Yes</td><td>No </td><td>South</td><td>1352</td></tr>\n",
       "\t<tr><th scope=row>384</th><td> 14.292</td><td> 3274</td><td>282</td><td>9</td><td>64</td><td> 9</td><td>No </td><td>No </td><td>Yes</td><td>South</td><td> 382</td></tr>\n",
       "\t<tr><th scope=row>385</th><td> 20.088</td><td> 1870</td><td>180</td><td>3</td><td>76</td><td>16</td><td>No </td><td>No </td><td>No </td><td>East </td><td>   0</td></tr>\n",
       "\t<tr><th scope=row>386</th><td> 26.400</td><td> 5640</td><td>398</td><td>3</td><td>58</td><td>15</td><td>Yes</td><td>No </td><td>No </td><td>West </td><td> 905</td></tr>\n",
       "\t<tr><th scope=row>387</th><td> 19.253</td><td> 3683</td><td>287</td><td>4</td><td>57</td><td>10</td><td>No </td><td>No </td><td>No </td><td>East </td><td> 371</td></tr>\n",
       "\t<tr><th scope=row>388</th><td> 16.529</td><td> 1357</td><td>126</td><td>3</td><td>62</td><td> 9</td><td>No </td><td>No </td><td>No </td><td>West </td><td>   0</td></tr>\n",
       "\t<tr><th scope=row>389</th><td> 37.878</td><td> 6827</td><td>482</td><td>2</td><td>80</td><td>13</td><td>Yes</td><td>No </td><td>No </td><td>South</td><td>1129</td></tr>\n",
       "\t<tr><th scope=row>390</th><td> 83.948</td><td> 7100</td><td>503</td><td>2</td><td>44</td><td>18</td><td>No </td><td>No </td><td>No </td><td>South</td><td> 806</td></tr>\n",
       "\t<tr><th scope=row>391</th><td>135.118</td><td>10578</td><td>747</td><td>3</td><td>81</td><td>15</td><td>Yes</td><td>No </td><td>Yes</td><td>West </td><td>1393</td></tr>\n",
       "\t<tr><th scope=row>392</th><td> 73.327</td><td> 6555</td><td>472</td><td>2</td><td>43</td><td>15</td><td>Yes</td><td>No </td><td>No </td><td>South</td><td> 721</td></tr>\n",
       "\t<tr><th scope=row>393</th><td> 25.974</td><td> 2308</td><td>196</td><td>2</td><td>24</td><td>10</td><td>No </td><td>No </td><td>No </td><td>West </td><td>   0</td></tr>\n",
       "\t<tr><th scope=row>394</th><td> 17.316</td><td> 1335</td><td>138</td><td>2</td><td>65</td><td>13</td><td>No </td><td>No </td><td>No </td><td>East </td><td>   0</td></tr>\n",
       "\t<tr><th scope=row>395</th><td> 49.794</td><td> 5758</td><td>410</td><td>4</td><td>40</td><td> 8</td><td>No </td><td>No </td><td>No </td><td>South</td><td> 734</td></tr>\n",
       "\t<tr><th scope=row>396</th><td> 12.096</td><td> 4100</td><td>307</td><td>3</td><td>32</td><td>13</td><td>No </td><td>No </td><td>Yes</td><td>South</td><td> 560</td></tr>\n",
       "\t<tr><th scope=row>397</th><td> 13.364</td><td> 3838</td><td>296</td><td>5</td><td>65</td><td>17</td><td>No </td><td>No </td><td>No </td><td>East </td><td> 480</td></tr>\n",
       "\t<tr><th scope=row>398</th><td> 57.872</td><td> 4171</td><td>321</td><td>5</td><td>67</td><td>12</td><td>Yes</td><td>No </td><td>Yes</td><td>South</td><td> 138</td></tr>\n",
       "\t<tr><th scope=row>399</th><td> 37.728</td><td> 2525</td><td>192</td><td>1</td><td>44</td><td>13</td><td>No </td><td>No </td><td>Yes</td><td>South</td><td>   0</td></tr>\n",
       "\t<tr><th scope=row>400</th><td> 18.701</td><td> 5524</td><td>415</td><td>5</td><td>64</td><td> 7</td><td>Yes</td><td>No </td><td>No </td><td>West </td><td> 966</td></tr>\n",
       "</tbody>\n",
       "</table>\n"
      ],
      "text/latex": [
       "A data.frame: 400 × 11\n",
       "\\begin{tabular}{r|lllllllllll}\n",
       "  & Income & Limit & Rating & Cards & Age & Education & Own & Student & Married & Region & Balance\\\\\n",
       "  & <dbl> & <dbl> & <dbl> & <dbl> & <dbl> & <dbl> & <fct> & <fct> & <fct> & <fct> & <dbl>\\\\\n",
       "\\hline\n",
       "\t1 &  14.891 &  3606 & 283 & 2 & 34 & 11 & No  & No  & Yes & South &  333\\\\\n",
       "\t2 & 106.025 &  6645 & 483 & 3 & 82 & 15 & Yes & Yes & Yes & West  &  903\\\\\n",
       "\t3 & 104.593 &  7075 & 514 & 4 & 71 & 11 & No  & No  & No  & West  &  580\\\\\n",
       "\t4 & 148.924 &  9504 & 681 & 3 & 36 & 11 & Yes & No  & No  & West  &  964\\\\\n",
       "\t5 &  55.882 &  4897 & 357 & 2 & 68 & 16 & No  & No  & Yes & South &  331\\\\\n",
       "\t6 &  80.180 &  8047 & 569 & 4 & 77 & 10 & No  & No  & No  & South & 1151\\\\\n",
       "\t7 &  20.996 &  3388 & 259 & 2 & 37 & 12 & Yes & No  & No  & East  &  203\\\\\n",
       "\t8 &  71.408 &  7114 & 512 & 2 & 87 &  9 & No  & No  & No  & West  &  872\\\\\n",
       "\t9 &  15.125 &  3300 & 266 & 5 & 66 & 13 & Yes & No  & No  & South &  279\\\\\n",
       "\t10 &  71.061 &  6819 & 491 & 3 & 41 & 19 & Yes & Yes & Yes & East  & 1350\\\\\n",
       "\t11 &  63.095 &  8117 & 589 & 4 & 30 & 14 & No  & No  & Yes & South & 1407\\\\\n",
       "\t12 &  15.045 &  1311 & 138 & 3 & 64 & 16 & No  & No  & No  & South &    0\\\\\n",
       "\t13 &  80.616 &  5308 & 394 & 1 & 57 &  7 & Yes & No  & Yes & West  &  204\\\\\n",
       "\t14 &  43.682 &  6922 & 511 & 1 & 49 &  9 & No  & No  & Yes & South & 1081\\\\\n",
       "\t15 &  19.144 &  3291 & 269 & 2 & 75 & 13 & Yes & No  & No  & East  &  148\\\\\n",
       "\t16 &  20.089 &  2525 & 200 & 3 & 57 & 15 & Yes & No  & Yes & East  &    0\\\\\n",
       "\t17 &  53.598 &  3714 & 286 & 3 & 73 & 17 & Yes & No  & Yes & East  &    0\\\\\n",
       "\t18 &  36.496 &  4378 & 339 & 3 & 69 & 15 & Yes & No  & Yes & West  &  368\\\\\n",
       "\t19 &  49.570 &  6384 & 448 & 1 & 28 &  9 & Yes & No  & Yes & West  &  891\\\\\n",
       "\t20 &  42.079 &  6626 & 479 & 2 & 44 &  9 & No  & No  & No  & West  & 1048\\\\\n",
       "\t21 &  17.700 &  2860 & 235 & 4 & 63 & 16 & Yes & No  & No  & West  &   89\\\\\n",
       "\t22 &  37.348 &  6378 & 458 & 1 & 72 & 17 & Yes & No  & No  & South &  968\\\\\n",
       "\t23 &  20.103 &  2631 & 213 & 3 & 61 & 10 & No  & No  & Yes & East  &    0\\\\\n",
       "\t24 &  64.027 &  5179 & 398 & 5 & 48 &  8 & No  & No  & Yes & East  &  411\\\\\n",
       "\t25 &  10.742 &  1757 & 156 & 3 & 57 & 15 & Yes & No  & No  & South &    0\\\\\n",
       "\t26 &  14.090 &  4323 & 326 & 5 & 25 & 16 & Yes & No  & Yes & East  &  671\\\\\n",
       "\t27 &  42.471 &  3625 & 289 & 6 & 44 & 12 & Yes & Yes & No  & South &  654\\\\\n",
       "\t28 &  32.793 &  4534 & 333 & 2 & 44 & 16 & No  & No  & No  & East  &  467\\\\\n",
       "\t29 & 186.634 & 13414 & 949 & 2 & 41 & 14 & Yes & No  & Yes & East  & 1809\\\\\n",
       "\t30 &  26.813 &  5611 & 411 & 4 & 55 & 16 & Yes & No  & No  & South &  915\\\\\n",
       "\t⋮ & ⋮ & ⋮ & ⋮ & ⋮ & ⋮ & ⋮ & ⋮ & ⋮ & ⋮ & ⋮ & ⋮\\\\\n",
       "\t371 &  35.610 &  6135 & 466 & 4 & 40 & 12 & No  & No  & No  & South &  992\\\\\n",
       "\t372 &  39.116 &  2150 & 173 & 4 & 75 & 15 & No  & No  & No  & South &    0\\\\\n",
       "\t373 &  19.782 &  3782 & 293 & 2 & 46 & 16 & Yes & Yes & No  & South &  840\\\\\n",
       "\t374 &  55.412 &  5354 & 383 & 2 & 37 & 16 & Yes & Yes & Yes & South & 1003\\\\\n",
       "\t375 &  29.400 &  4840 & 368 & 3 & 76 & 18 & Yes & No  & Yes & South &  588\\\\\n",
       "\t376 &  20.974 &  5673 & 413 & 5 & 44 & 16 & Yes & No  & Yes & South & 1000\\\\\n",
       "\t377 &  87.625 &  7167 & 515 & 2 & 46 & 10 & Yes & No  & No  & East  &  767\\\\\n",
       "\t378 &  28.144 &  1567 & 142 & 3 & 51 & 10 & No  & No  & Yes & South &    0\\\\\n",
       "\t379 &  19.349 &  4941 & 366 & 1 & 33 & 19 & No  & No  & Yes & South &  717\\\\\n",
       "\t380 &  53.308 &  2860 & 214 & 1 & 84 & 10 & No  & No  & Yes & South &    0\\\\\n",
       "\t381 & 115.123 &  7760 & 538 & 3 & 83 & 14 & Yes & No  & No  & East  &  661\\\\\n",
       "\t382 & 101.788 &  8029 & 574 & 2 & 84 & 11 & No  & No  & Yes & South &  849\\\\\n",
       "\t383 &  24.824 &  5495 & 409 & 1 & 33 &  9 & No  & Yes & No  & South & 1352\\\\\n",
       "\t384 &  14.292 &  3274 & 282 & 9 & 64 &  9 & No  & No  & Yes & South &  382\\\\\n",
       "\t385 &  20.088 &  1870 & 180 & 3 & 76 & 16 & No  & No  & No  & East  &    0\\\\\n",
       "\t386 &  26.400 &  5640 & 398 & 3 & 58 & 15 & Yes & No  & No  & West  &  905\\\\\n",
       "\t387 &  19.253 &  3683 & 287 & 4 & 57 & 10 & No  & No  & No  & East  &  371\\\\\n",
       "\t388 &  16.529 &  1357 & 126 & 3 & 62 &  9 & No  & No  & No  & West  &    0\\\\\n",
       "\t389 &  37.878 &  6827 & 482 & 2 & 80 & 13 & Yes & No  & No  & South & 1129\\\\\n",
       "\t390 &  83.948 &  7100 & 503 & 2 & 44 & 18 & No  & No  & No  & South &  806\\\\\n",
       "\t391 & 135.118 & 10578 & 747 & 3 & 81 & 15 & Yes & No  & Yes & West  & 1393\\\\\n",
       "\t392 &  73.327 &  6555 & 472 & 2 & 43 & 15 & Yes & No  & No  & South &  721\\\\\n",
       "\t393 &  25.974 &  2308 & 196 & 2 & 24 & 10 & No  & No  & No  & West  &    0\\\\\n",
       "\t394 &  17.316 &  1335 & 138 & 2 & 65 & 13 & No  & No  & No  & East  &    0\\\\\n",
       "\t395 &  49.794 &  5758 & 410 & 4 & 40 &  8 & No  & No  & No  & South &  734\\\\\n",
       "\t396 &  12.096 &  4100 & 307 & 3 & 32 & 13 & No  & No  & Yes & South &  560\\\\\n",
       "\t397 &  13.364 &  3838 & 296 & 5 & 65 & 17 & No  & No  & No  & East  &  480\\\\\n",
       "\t398 &  57.872 &  4171 & 321 & 5 & 67 & 12 & Yes & No  & Yes & South &  138\\\\\n",
       "\t399 &  37.728 &  2525 & 192 & 1 & 44 & 13 & No  & No  & Yes & South &    0\\\\\n",
       "\t400 &  18.701 &  5524 & 415 & 5 & 64 &  7 & Yes & No  & No  & West  &  966\\\\\n",
       "\\end{tabular}\n"
      ],
      "text/markdown": [
       "\n",
       "A data.frame: 400 × 11\n",
       "\n",
       "| <!--/--> | Income &lt;dbl&gt; | Limit &lt;dbl&gt; | Rating &lt;dbl&gt; | Cards &lt;dbl&gt; | Age &lt;dbl&gt; | Education &lt;dbl&gt; | Own &lt;fct&gt; | Student &lt;fct&gt; | Married &lt;fct&gt; | Region &lt;fct&gt; | Balance &lt;dbl&gt; |\n",
       "|---|---|---|---|---|---|---|---|---|---|---|---|\n",
       "| 1 |  14.891 |  3606 | 283 | 2 | 34 | 11 | No  | No  | Yes | South |  333 |\n",
       "| 2 | 106.025 |  6645 | 483 | 3 | 82 | 15 | Yes | Yes | Yes | West  |  903 |\n",
       "| 3 | 104.593 |  7075 | 514 | 4 | 71 | 11 | No  | No  | No  | West  |  580 |\n",
       "| 4 | 148.924 |  9504 | 681 | 3 | 36 | 11 | Yes | No  | No  | West  |  964 |\n",
       "| 5 |  55.882 |  4897 | 357 | 2 | 68 | 16 | No  | No  | Yes | South |  331 |\n",
       "| 6 |  80.180 |  8047 | 569 | 4 | 77 | 10 | No  | No  | No  | South | 1151 |\n",
       "| 7 |  20.996 |  3388 | 259 | 2 | 37 | 12 | Yes | No  | No  | East  |  203 |\n",
       "| 8 |  71.408 |  7114 | 512 | 2 | 87 |  9 | No  | No  | No  | West  |  872 |\n",
       "| 9 |  15.125 |  3300 | 266 | 5 | 66 | 13 | Yes | No  | No  | South |  279 |\n",
       "| 10 |  71.061 |  6819 | 491 | 3 | 41 | 19 | Yes | Yes | Yes | East  | 1350 |\n",
       "| 11 |  63.095 |  8117 | 589 | 4 | 30 | 14 | No  | No  | Yes | South | 1407 |\n",
       "| 12 |  15.045 |  1311 | 138 | 3 | 64 | 16 | No  | No  | No  | South |    0 |\n",
       "| 13 |  80.616 |  5308 | 394 | 1 | 57 |  7 | Yes | No  | Yes | West  |  204 |\n",
       "| 14 |  43.682 |  6922 | 511 | 1 | 49 |  9 | No  | No  | Yes | South | 1081 |\n",
       "| 15 |  19.144 |  3291 | 269 | 2 | 75 | 13 | Yes | No  | No  | East  |  148 |\n",
       "| 16 |  20.089 |  2525 | 200 | 3 | 57 | 15 | Yes | No  | Yes | East  |    0 |\n",
       "| 17 |  53.598 |  3714 | 286 | 3 | 73 | 17 | Yes | No  | Yes | East  |    0 |\n",
       "| 18 |  36.496 |  4378 | 339 | 3 | 69 | 15 | Yes | No  | Yes | West  |  368 |\n",
       "| 19 |  49.570 |  6384 | 448 | 1 | 28 |  9 | Yes | No  | Yes | West  |  891 |\n",
       "| 20 |  42.079 |  6626 | 479 | 2 | 44 |  9 | No  | No  | No  | West  | 1048 |\n",
       "| 21 |  17.700 |  2860 | 235 | 4 | 63 | 16 | Yes | No  | No  | West  |   89 |\n",
       "| 22 |  37.348 |  6378 | 458 | 1 | 72 | 17 | Yes | No  | No  | South |  968 |\n",
       "| 23 |  20.103 |  2631 | 213 | 3 | 61 | 10 | No  | No  | Yes | East  |    0 |\n",
       "| 24 |  64.027 |  5179 | 398 | 5 | 48 |  8 | No  | No  | Yes | East  |  411 |\n",
       "| 25 |  10.742 |  1757 | 156 | 3 | 57 | 15 | Yes | No  | No  | South |    0 |\n",
       "| 26 |  14.090 |  4323 | 326 | 5 | 25 | 16 | Yes | No  | Yes | East  |  671 |\n",
       "| 27 |  42.471 |  3625 | 289 | 6 | 44 | 12 | Yes | Yes | No  | South |  654 |\n",
       "| 28 |  32.793 |  4534 | 333 | 2 | 44 | 16 | No  | No  | No  | East  |  467 |\n",
       "| 29 | 186.634 | 13414 | 949 | 2 | 41 | 14 | Yes | No  | Yes | East  | 1809 |\n",
       "| 30 |  26.813 |  5611 | 411 | 4 | 55 | 16 | Yes | No  | No  | South |  915 |\n",
       "| ⋮ | ⋮ | ⋮ | ⋮ | ⋮ | ⋮ | ⋮ | ⋮ | ⋮ | ⋮ | ⋮ | ⋮ |\n",
       "| 371 |  35.610 |  6135 | 466 | 4 | 40 | 12 | No  | No  | No  | South |  992 |\n",
       "| 372 |  39.116 |  2150 | 173 | 4 | 75 | 15 | No  | No  | No  | South |    0 |\n",
       "| 373 |  19.782 |  3782 | 293 | 2 | 46 | 16 | Yes | Yes | No  | South |  840 |\n",
       "| 374 |  55.412 |  5354 | 383 | 2 | 37 | 16 | Yes | Yes | Yes | South | 1003 |\n",
       "| 375 |  29.400 |  4840 | 368 | 3 | 76 | 18 | Yes | No  | Yes | South |  588 |\n",
       "| 376 |  20.974 |  5673 | 413 | 5 | 44 | 16 | Yes | No  | Yes | South | 1000 |\n",
       "| 377 |  87.625 |  7167 | 515 | 2 | 46 | 10 | Yes | No  | No  | East  |  767 |\n",
       "| 378 |  28.144 |  1567 | 142 | 3 | 51 | 10 | No  | No  | Yes | South |    0 |\n",
       "| 379 |  19.349 |  4941 | 366 | 1 | 33 | 19 | No  | No  | Yes | South |  717 |\n",
       "| 380 |  53.308 |  2860 | 214 | 1 | 84 | 10 | No  | No  | Yes | South |    0 |\n",
       "| 381 | 115.123 |  7760 | 538 | 3 | 83 | 14 | Yes | No  | No  | East  |  661 |\n",
       "| 382 | 101.788 |  8029 | 574 | 2 | 84 | 11 | No  | No  | Yes | South |  849 |\n",
       "| 383 |  24.824 |  5495 | 409 | 1 | 33 |  9 | No  | Yes | No  | South | 1352 |\n",
       "| 384 |  14.292 |  3274 | 282 | 9 | 64 |  9 | No  | No  | Yes | South |  382 |\n",
       "| 385 |  20.088 |  1870 | 180 | 3 | 76 | 16 | No  | No  | No  | East  |    0 |\n",
       "| 386 |  26.400 |  5640 | 398 | 3 | 58 | 15 | Yes | No  | No  | West  |  905 |\n",
       "| 387 |  19.253 |  3683 | 287 | 4 | 57 | 10 | No  | No  | No  | East  |  371 |\n",
       "| 388 |  16.529 |  1357 | 126 | 3 | 62 |  9 | No  | No  | No  | West  |    0 |\n",
       "| 389 |  37.878 |  6827 | 482 | 2 | 80 | 13 | Yes | No  | No  | South | 1129 |\n",
       "| 390 |  83.948 |  7100 | 503 | 2 | 44 | 18 | No  | No  | No  | South |  806 |\n",
       "| 391 | 135.118 | 10578 | 747 | 3 | 81 | 15 | Yes | No  | Yes | West  | 1393 |\n",
       "| 392 |  73.327 |  6555 | 472 | 2 | 43 | 15 | Yes | No  | No  | South |  721 |\n",
       "| 393 |  25.974 |  2308 | 196 | 2 | 24 | 10 | No  | No  | No  | West  |    0 |\n",
       "| 394 |  17.316 |  1335 | 138 | 2 | 65 | 13 | No  | No  | No  | East  |    0 |\n",
       "| 395 |  49.794 |  5758 | 410 | 4 | 40 |  8 | No  | No  | No  | South |  734 |\n",
       "| 396 |  12.096 |  4100 | 307 | 3 | 32 | 13 | No  | No  | Yes | South |  560 |\n",
       "| 397 |  13.364 |  3838 | 296 | 5 | 65 | 17 | No  | No  | No  | East  |  480 |\n",
       "| 398 |  57.872 |  4171 | 321 | 5 | 67 | 12 | Yes | No  | Yes | South |  138 |\n",
       "| 399 |  37.728 |  2525 | 192 | 1 | 44 | 13 | No  | No  | Yes | South |    0 |\n",
       "| 400 |  18.701 |  5524 | 415 | 5 | 64 |  7 | Yes | No  | No  | West  |  966 |\n",
       "\n"
      ],
      "text/plain": [
       "    Income  Limit Rating Cards Age Education Own Student Married Region Balance\n",
       "1    14.891  3606 283    2     34  11        No  No      Yes     South   333   \n",
       "2   106.025  6645 483    3     82  15        Yes Yes     Yes     West    903   \n",
       "3   104.593  7075 514    4     71  11        No  No      No      West    580   \n",
       "4   148.924  9504 681    3     36  11        Yes No      No      West    964   \n",
       "5    55.882  4897 357    2     68  16        No  No      Yes     South   331   \n",
       "6    80.180  8047 569    4     77  10        No  No      No      South  1151   \n",
       "7    20.996  3388 259    2     37  12        Yes No      No      East    203   \n",
       "8    71.408  7114 512    2     87   9        No  No      No      West    872   \n",
       "9    15.125  3300 266    5     66  13        Yes No      No      South   279   \n",
       "10   71.061  6819 491    3     41  19        Yes Yes     Yes     East   1350   \n",
       "11   63.095  8117 589    4     30  14        No  No      Yes     South  1407   \n",
       "12   15.045  1311 138    3     64  16        No  No      No      South     0   \n",
       "13   80.616  5308 394    1     57   7        Yes No      Yes     West    204   \n",
       "14   43.682  6922 511    1     49   9        No  No      Yes     South  1081   \n",
       "15   19.144  3291 269    2     75  13        Yes No      No      East    148   \n",
       "16   20.089  2525 200    3     57  15        Yes No      Yes     East      0   \n",
       "17   53.598  3714 286    3     73  17        Yes No      Yes     East      0   \n",
       "18   36.496  4378 339    3     69  15        Yes No      Yes     West    368   \n",
       "19   49.570  6384 448    1     28   9        Yes No      Yes     West    891   \n",
       "20   42.079  6626 479    2     44   9        No  No      No      West   1048   \n",
       "21   17.700  2860 235    4     63  16        Yes No      No      West     89   \n",
       "22   37.348  6378 458    1     72  17        Yes No      No      South   968   \n",
       "23   20.103  2631 213    3     61  10        No  No      Yes     East      0   \n",
       "24   64.027  5179 398    5     48   8        No  No      Yes     East    411   \n",
       "25   10.742  1757 156    3     57  15        Yes No      No      South     0   \n",
       "26   14.090  4323 326    5     25  16        Yes No      Yes     East    671   \n",
       "27   42.471  3625 289    6     44  12        Yes Yes     No      South   654   \n",
       "28   32.793  4534 333    2     44  16        No  No      No      East    467   \n",
       "29  186.634 13414 949    2     41  14        Yes No      Yes     East   1809   \n",
       "30   26.813  5611 411    4     55  16        Yes No      No      South   915   \n",
       "⋮   ⋮       ⋮     ⋮      ⋮     ⋮   ⋮         ⋮   ⋮       ⋮       ⋮      ⋮      \n",
       "371  35.610  6135 466    4     40  12        No  No      No      South   992   \n",
       "372  39.116  2150 173    4     75  15        No  No      No      South     0   \n",
       "373  19.782  3782 293    2     46  16        Yes Yes     No      South   840   \n",
       "374  55.412  5354 383    2     37  16        Yes Yes     Yes     South  1003   \n",
       "375  29.400  4840 368    3     76  18        Yes No      Yes     South   588   \n",
       "376  20.974  5673 413    5     44  16        Yes No      Yes     South  1000   \n",
       "377  87.625  7167 515    2     46  10        Yes No      No      East    767   \n",
       "378  28.144  1567 142    3     51  10        No  No      Yes     South     0   \n",
       "379  19.349  4941 366    1     33  19        No  No      Yes     South   717   \n",
       "380  53.308  2860 214    1     84  10        No  No      Yes     South     0   \n",
       "381 115.123  7760 538    3     83  14        Yes No      No      East    661   \n",
       "382 101.788  8029 574    2     84  11        No  No      Yes     South   849   \n",
       "383  24.824  5495 409    1     33   9        No  Yes     No      South  1352   \n",
       "384  14.292  3274 282    9     64   9        No  No      Yes     South   382   \n",
       "385  20.088  1870 180    3     76  16        No  No      No      East      0   \n",
       "386  26.400  5640 398    3     58  15        Yes No      No      West    905   \n",
       "387  19.253  3683 287    4     57  10        No  No      No      East    371   \n",
       "388  16.529  1357 126    3     62   9        No  No      No      West      0   \n",
       "389  37.878  6827 482    2     80  13        Yes No      No      South  1129   \n",
       "390  83.948  7100 503    2     44  18        No  No      No      South   806   \n",
       "391 135.118 10578 747    3     81  15        Yes No      Yes     West   1393   \n",
       "392  73.327  6555 472    2     43  15        Yes No      No      South   721   \n",
       "393  25.974  2308 196    2     24  10        No  No      No      West      0   \n",
       "394  17.316  1335 138    2     65  13        No  No      No      East      0   \n",
       "395  49.794  5758 410    4     40   8        No  No      No      South   734   \n",
       "396  12.096  4100 307    3     32  13        No  No      Yes     South   560   \n",
       "397  13.364  3838 296    5     65  17        No  No      No      East    480   \n",
       "398  57.872  4171 321    5     67  12        Yes No      Yes     South   138   \n",
       "399  37.728  2525 192    1     44  13        No  No      Yes     South     0   \n",
       "400  18.701  5524 415    5     64   7        Yes No      No      West    966   "
      ]
     },
     "metadata": {},
     "output_type": "display_data"
    }
   ],
   "source": [
    "# load the dataset\n",
    "library(ISLR2)\n",
    "Credit"
   ]
  },
  {
   "cell_type": "markdown",
   "metadata": {},
   "source": [
    "* Find the correlation between Limit and Age"
   ]
  },
  {
   "cell_type": "code",
   "execution_count": 3,
   "metadata": {
    "vscode": {
     "languageId": "r"
    }
   },
   "outputs": [
    {
     "data": {
      "text/html": [
       "0.10088792156272"
      ],
      "text/latex": [
       "0.10088792156272"
      ],
      "text/markdown": [
       "0.10088792156272"
      ],
      "text/plain": [
       "[1] 0.1008879"
      ]
     },
     "metadata": {},
     "output_type": "display_data"
    }
   ],
   "source": [
    "cor(Credit$Limit, Credit$Age)"
   ]
  },
  {
   "cell_type": "markdown",
   "metadata": {},
   "source": [
    "Find the correlation between Limit and Rating"
   ]
  },
  {
   "cell_type": "code",
   "execution_count": 4,
   "metadata": {
    "vscode": {
     "languageId": "r"
    }
   },
   "outputs": [
    {
     "data": {
      "text/html": [
       "0.996879737001683"
      ],
      "text/latex": [
       "0.996879737001683"
      ],
      "text/markdown": [
       "0.996879737001683"
      ],
      "text/plain": [
       "[1] 0.9968797"
      ]
     },
     "metadata": {},
     "output_type": "display_data"
    }
   ],
   "source": [
    "cor(Credit$Limit, Credit$Rating)"
   ]
  },
  {
   "cell_type": "markdown",
   "metadata": {},
   "source": [
    "Fit two MLR based on the following:\n",
    "* Model1: Balance on Age and Limit\n",
    "* Model2: Balance on Rating and Limit\n",
    "\n",
    "Also, check the standard error of Limit"
   ]
  },
  {
   "cell_type": "code",
   "execution_count": 8,
   "metadata": {
    "vscode": {
     "languageId": "r"
    }
   },
   "outputs": [
    {
     "data": {
      "text/plain": [
       "\n",
       "Call:\n",
       "lm(formula = Balance ~ Age + Limit, data = Credit)\n",
       "\n",
       "Residuals:\n",
       "    Min      1Q  Median      3Q     Max \n",
       "-696.84 -150.78  -13.01  126.68  755.56 \n",
       "\n",
       "Coefficients:\n",
       "              Estimate Std. Error t value Pr(>|t|)    \n",
       "(Intercept) -1.734e+02  4.383e+01  -3.957 9.01e-05 ***\n",
       "Age         -2.291e+00  6.725e-01  -3.407 0.000723 ***\n",
       "Limit        1.734e-01  5.026e-03  34.496  < 2e-16 ***\n",
       "---\n",
       "Signif. codes:  0 ‘***’ 0.001 ‘**’ 0.01 ‘*’ 0.05 ‘.’ 0.1 ‘ ’ 1\n",
       "\n",
       "Residual standard error: 230.5 on 397 degrees of freedom\n",
       "Multiple R-squared:  0.7498,\tAdjusted R-squared:  0.7486 \n",
       "F-statistic:   595 on 2 and 397 DF,  p-value: < 2.2e-16\n"
      ]
     },
     "metadata": {},
     "output_type": "display_data"
    },
    {
     "name": "stdout",
     "output_type": "stream",
     "text": [
      "[1] \"\"\n",
      "[1] \"VIF Model:\"\n"
     ]
    },
    {
     "data": {
      "text/html": [
       "<style>\n",
       ".dl-inline {width: auto; margin:0; padding: 0}\n",
       ".dl-inline>dt, .dl-inline>dd {float: none; width: auto; display: inline-block}\n",
       ".dl-inline>dt::after {content: \":\\0020\"; padding-right: .5ex}\n",
       ".dl-inline>dt:not(:first-of-type) {padding-left: .5ex}\n",
       "</style><dl class=dl-inline><dt>Age</dt><dd>1.01028303730359</dd><dt>Limit</dt><dd>1.01028303730359</dd></dl>\n"
      ],
      "text/latex": [
       "\\begin{description*}\n",
       "\\item[Age] 1.01028303730359\n",
       "\\item[Limit] 1.01028303730359\n",
       "\\end{description*}\n"
      ],
      "text/markdown": [
       "Age\n",
       ":   1.01028303730359Limit\n",
       ":   1.01028303730359\n",
       "\n"
      ],
      "text/plain": [
       "     Age    Limit \n",
       "1.010283 1.010283 "
      ]
     },
     "metadata": {},
     "output_type": "display_data"
    }
   ],
   "source": [
    "model1 = lm(Balance~Age+Limit, data=Credit)\n",
    "summary(model1)\n",
    "print('')\n",
    "print('VIF Model:')\n",
    "vif(model1)"
   ]
  },
  {
   "cell_type": "code",
   "execution_count": 9,
   "metadata": {
    "vscode": {
     "languageId": "r"
    }
   },
   "outputs": [
    {
     "data": {
      "text/plain": [
       "\n",
       "Call:\n",
       "lm(formula = Balance ~ Rating + Limit, data = Credit)\n",
       "\n",
       "Residuals:\n",
       "   Min     1Q Median     3Q    Max \n",
       "-707.8 -135.9   -9.5  124.0  817.6 \n",
       "\n",
       "Coefficients:\n",
       "              Estimate Std. Error t value Pr(>|t|)    \n",
       "(Intercept) -377.53680   45.25418  -8.343 1.21e-15 ***\n",
       "Rating         2.20167    0.95229   2.312   0.0213 *  \n",
       "Limit          0.02451    0.06383   0.384   0.7012    \n",
       "---\n",
       "Signif. codes:  0 ‘***’ 0.001 ‘**’ 0.01 ‘*’ 0.05 ‘.’ 0.1 ‘ ’ 1\n",
       "\n",
       "Residual standard error: 232.3 on 397 degrees of freedom\n",
       "Multiple R-squared:  0.7459,\tAdjusted R-squared:  0.7447 \n",
       "F-statistic: 582.8 on 2 and 397 DF,  p-value: < 2.2e-16\n"
      ]
     },
     "metadata": {},
     "output_type": "display_data"
    },
    {
     "name": "stdout",
     "output_type": "stream",
     "text": [
      "[1] \"\"\n",
      "[1] \"VIF Model:\"\n"
     ]
    },
    {
     "data": {
      "text/html": [
       "<style>\n",
       ".dl-inline {width: auto; margin:0; padding: 0}\n",
       ".dl-inline>dt, .dl-inline>dd {float: none; width: auto; display: inline-block}\n",
       ".dl-inline>dt::after {content: \":\\0020\"; padding-right: .5ex}\n",
       ".dl-inline>dt:not(:first-of-type) {padding-left: .5ex}\n",
       "</style><dl class=dl-inline><dt>Rating</dt><dd>160.49329333023</dd><dt>Limit</dt><dd>160.49329333023</dd></dl>\n"
      ],
      "text/latex": [
       "\\begin{description*}\n",
       "\\item[Rating] 160.49329333023\n",
       "\\item[Limit] 160.49329333023\n",
       "\\end{description*}\n"
      ],
      "text/markdown": [
       "Rating\n",
       ":   160.49329333023Limit\n",
       ":   160.49329333023\n",
       "\n"
      ],
      "text/plain": [
       "  Rating    Limit \n",
       "160.4933 160.4933 "
      ]
     },
     "metadata": {},
     "output_type": "display_data"
    }
   ],
   "source": [
    "model2 = lm(Balance~Rating+Limit, data=Credit)\n",
    "summary(model2)\n",
    "print('')\n",
    "print('VIF Model:')\n",
    "vif(model2)"
   ]
  },
  {
   "cell_type": "markdown",
   "metadata": {},
   "source": [
    "* Calculate the VIF when a regression of Balance on Age, Rating, and Limit"
   ]
  },
  {
   "cell_type": "code",
   "execution_count": 10,
   "metadata": {
    "vscode": {
     "languageId": "r"
    }
   },
   "outputs": [
    {
     "data": {
      "text/plain": [
       "\n",
       "Call:\n",
       "lm(formula = Balance ~ Age + Rating + Limit, data = Credit)\n",
       "\n",
       "Residuals:\n",
       "    Min      1Q  Median      3Q     Max \n",
       "-729.67 -135.82   -8.58  127.29  827.65 \n",
       "\n",
       "Coefficients:\n",
       "              Estimate Std. Error t value Pr(>|t|)    \n",
       "(Intercept) -259.51752   55.88219  -4.644 4.66e-06 ***\n",
       "Age           -2.34575    0.66861  -3.508 0.000503 ***\n",
       "Rating         2.31046    0.93953   2.459 0.014352 *  \n",
       "Limit          0.01901    0.06296   0.302 0.762830    \n",
       "---\n",
       "Signif. codes:  0 ‘***’ 0.001 ‘**’ 0.01 ‘*’ 0.05 ‘.’ 0.1 ‘ ’ 1\n",
       "\n",
       "Residual standard error: 229.1 on 396 degrees of freedom\n",
       "Multiple R-squared:  0.7536,\tAdjusted R-squared:  0.7517 \n",
       "F-statistic: 403.7 on 3 and 396 DF,  p-value: < 2.2e-16\n"
      ]
     },
     "metadata": {},
     "output_type": "display_data"
    },
    {
     "name": "stdout",
     "output_type": "stream",
     "text": [
      "[1] \"\"\n",
      "[1] \"VIF Model:\"\n"
     ]
    },
    {
     "data": {
      "text/html": [
       "<style>\n",
       ".dl-inline {width: auto; margin:0; padding: 0}\n",
       ".dl-inline>dt, .dl-inline>dd {float: none; width: auto; display: inline-block}\n",
       ".dl-inline>dt::after {content: \":\\0020\"; padding-right: .5ex}\n",
       ".dl-inline>dt:not(:first-of-type) {padding-left: .5ex}\n",
       "</style><dl class=dl-inline><dt>Age</dt><dd>1.01138468606816</dd><dt>Rating</dt><dd>160.668300958565</dd><dt>Limit</dt><dd>160.592879785974</dd></dl>\n"
      ],
      "text/latex": [
       "\\begin{description*}\n",
       "\\item[Age] 1.01138468606816\n",
       "\\item[Rating] 160.668300958565\n",
       "\\item[Limit] 160.592879785974\n",
       "\\end{description*}\n"
      ],
      "text/markdown": [
       "Age\n",
       ":   1.01138468606816Rating\n",
       ":   160.668300958565Limit\n",
       ":   160.592879785974\n",
       "\n"
      ],
      "text/plain": [
       "       Age     Rating      Limit \n",
       "  1.011385 160.668301 160.592880 "
      ]
     },
     "metadata": {},
     "output_type": "display_data"
    }
   ],
   "source": [
    "model3 = lm(Balance~Age+Rating+Limit, data=Credit)\n",
    "summary(model3)\n",
    "print('')\n",
    "print('VIF Model:')\n",
    "vif(model3)"
   ]
  }
 ],
 "metadata": {
  "kernelspec": {
   "display_name": "R",
   "language": "R",
   "name": "ir"
  },
  "language_info": {
   "codemirror_mode": "r",
   "file_extension": ".r",
   "mimetype": "text/x-r-source",
   "name": "R",
   "pygments_lexer": "r",
   "version": "4.1.2"
  },
  "orig_nbformat": 4,
  "vscode": {
   "interpreter": {
    "hash": "916dbcbb3f70747c44a77c7bcd40155683ae19c65e1c03b4aa3499c5328201f1"
   }
  }
 },
 "nbformat": 4,
 "nbformat_minor": 2
}
