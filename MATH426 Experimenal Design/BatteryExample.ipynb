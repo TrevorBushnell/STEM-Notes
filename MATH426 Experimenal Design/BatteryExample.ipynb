{
 "cells": [
  {
   "cell_type": "markdown",
   "metadata": {},
   "source": [
    "# Example: Factory Design w/ Battery"
   ]
  },
  {
   "cell_type": "markdown",
   "metadata": {},
   "source": [
    "* Start be reading in the data:"
   ]
  },
  {
   "cell_type": "code",
   "execution_count": 2,
   "metadata": {
    "vscode": {
     "languageId": "r"
    }
   },
   "outputs": [
    {
     "data": {
      "text/html": [
       "<table class=\"dataframe\">\n",
       "<caption>A data.frame: 36 × 3</caption>\n",
       "<thead>\n",
       "\t<tr><th scope=col>materials</th><th scope=col>temp</th><th scope=col>y</th></tr>\n",
       "\t<tr><th scope=col>&lt;fct&gt;</th><th scope=col>&lt;fct&gt;</th><th scope=col>&lt;dbl&gt;</th></tr>\n",
       "</thead>\n",
       "<tbody>\n",
       "\t<tr><td>1</td><td>15 </td><td>130</td></tr>\n",
       "\t<tr><td>1</td><td>15 </td><td>155</td></tr>\n",
       "\t<tr><td>1</td><td>15 </td><td> 74</td></tr>\n",
       "\t<tr><td>1</td><td>15 </td><td>180</td></tr>\n",
       "\t<tr><td>1</td><td>70 </td><td> 34</td></tr>\n",
       "\t<tr><td>1</td><td>70 </td><td> 40</td></tr>\n",
       "\t<tr><td>1</td><td>70 </td><td> 80</td></tr>\n",
       "\t<tr><td>1</td><td>70 </td><td> 75</td></tr>\n",
       "\t<tr><td>1</td><td>125</td><td> 20</td></tr>\n",
       "\t<tr><td>1</td><td>125</td><td> 70</td></tr>\n",
       "\t<tr><td>1</td><td>125</td><td> 82</td></tr>\n",
       "\t<tr><td>1</td><td>125</td><td> 58</td></tr>\n",
       "\t<tr><td>2</td><td>15 </td><td>150</td></tr>\n",
       "\t<tr><td>2</td><td>15 </td><td>188</td></tr>\n",
       "\t<tr><td>2</td><td>15 </td><td>159</td></tr>\n",
       "\t<tr><td>2</td><td>15 </td><td>126</td></tr>\n",
       "\t<tr><td>2</td><td>70 </td><td>136</td></tr>\n",
       "\t<tr><td>2</td><td>70 </td><td>122</td></tr>\n",
       "\t<tr><td>2</td><td>70 </td><td>106</td></tr>\n",
       "\t<tr><td>2</td><td>70 </td><td>115</td></tr>\n",
       "\t<tr><td>2</td><td>125</td><td> 25</td></tr>\n",
       "\t<tr><td>2</td><td>125</td><td> 70</td></tr>\n",
       "\t<tr><td>2</td><td>125</td><td> 58</td></tr>\n",
       "\t<tr><td>2</td><td>125</td><td> 45</td></tr>\n",
       "\t<tr><td>3</td><td>15 </td><td>138</td></tr>\n",
       "\t<tr><td>3</td><td>15 </td><td>110</td></tr>\n",
       "\t<tr><td>3</td><td>15 </td><td>168</td></tr>\n",
       "\t<tr><td>3</td><td>15 </td><td>160</td></tr>\n",
       "\t<tr><td>3</td><td>70 </td><td>174</td></tr>\n",
       "\t<tr><td>3</td><td>70 </td><td>120</td></tr>\n",
       "\t<tr><td>3</td><td>70 </td><td>150</td></tr>\n",
       "\t<tr><td>3</td><td>70 </td><td>139</td></tr>\n",
       "\t<tr><td>3</td><td>125</td><td> 96</td></tr>\n",
       "\t<tr><td>3</td><td>125</td><td>104</td></tr>\n",
       "\t<tr><td>3</td><td>125</td><td> 82</td></tr>\n",
       "\t<tr><td>3</td><td>125</td><td> 60</td></tr>\n",
       "</tbody>\n",
       "</table>\n"
      ],
      "text/latex": [
       "A data.frame: 36 × 3\n",
       "\\begin{tabular}{lll}\n",
       " materials & temp & y\\\\\n",
       " <fct> & <fct> & <dbl>\\\\\n",
       "\\hline\n",
       "\t 1 & 15  & 130\\\\\n",
       "\t 1 & 15  & 155\\\\\n",
       "\t 1 & 15  &  74\\\\\n",
       "\t 1 & 15  & 180\\\\\n",
       "\t 1 & 70  &  34\\\\\n",
       "\t 1 & 70  &  40\\\\\n",
       "\t 1 & 70  &  80\\\\\n",
       "\t 1 & 70  &  75\\\\\n",
       "\t 1 & 125 &  20\\\\\n",
       "\t 1 & 125 &  70\\\\\n",
       "\t 1 & 125 &  82\\\\\n",
       "\t 1 & 125 &  58\\\\\n",
       "\t 2 & 15  & 150\\\\\n",
       "\t 2 & 15  & 188\\\\\n",
       "\t 2 & 15  & 159\\\\\n",
       "\t 2 & 15  & 126\\\\\n",
       "\t 2 & 70  & 136\\\\\n",
       "\t 2 & 70  & 122\\\\\n",
       "\t 2 & 70  & 106\\\\\n",
       "\t 2 & 70  & 115\\\\\n",
       "\t 2 & 125 &  25\\\\\n",
       "\t 2 & 125 &  70\\\\\n",
       "\t 2 & 125 &  58\\\\\n",
       "\t 2 & 125 &  45\\\\\n",
       "\t 3 & 15  & 138\\\\\n",
       "\t 3 & 15  & 110\\\\\n",
       "\t 3 & 15  & 168\\\\\n",
       "\t 3 & 15  & 160\\\\\n",
       "\t 3 & 70  & 174\\\\\n",
       "\t 3 & 70  & 120\\\\\n",
       "\t 3 & 70  & 150\\\\\n",
       "\t 3 & 70  & 139\\\\\n",
       "\t 3 & 125 &  96\\\\\n",
       "\t 3 & 125 & 104\\\\\n",
       "\t 3 & 125 &  82\\\\\n",
       "\t 3 & 125 &  60\\\\\n",
       "\\end{tabular}\n"
      ],
      "text/markdown": [
       "\n",
       "A data.frame: 36 × 3\n",
       "\n",
       "| materials &lt;fct&gt; | temp &lt;fct&gt; | y &lt;dbl&gt; |\n",
       "|---|---|---|\n",
       "| 1 | 15  | 130 |\n",
       "| 1 | 15  | 155 |\n",
       "| 1 | 15  |  74 |\n",
       "| 1 | 15  | 180 |\n",
       "| 1 | 70  |  34 |\n",
       "| 1 | 70  |  40 |\n",
       "| 1 | 70  |  80 |\n",
       "| 1 | 70  |  75 |\n",
       "| 1 | 125 |  20 |\n",
       "| 1 | 125 |  70 |\n",
       "| 1 | 125 |  82 |\n",
       "| 1 | 125 |  58 |\n",
       "| 2 | 15  | 150 |\n",
       "| 2 | 15  | 188 |\n",
       "| 2 | 15  | 159 |\n",
       "| 2 | 15  | 126 |\n",
       "| 2 | 70  | 136 |\n",
       "| 2 | 70  | 122 |\n",
       "| 2 | 70  | 106 |\n",
       "| 2 | 70  | 115 |\n",
       "| 2 | 125 |  25 |\n",
       "| 2 | 125 |  70 |\n",
       "| 2 | 125 |  58 |\n",
       "| 2 | 125 |  45 |\n",
       "| 3 | 15  | 138 |\n",
       "| 3 | 15  | 110 |\n",
       "| 3 | 15  | 168 |\n",
       "| 3 | 15  | 160 |\n",
       "| 3 | 70  | 174 |\n",
       "| 3 | 70  | 120 |\n",
       "| 3 | 70  | 150 |\n",
       "| 3 | 70  | 139 |\n",
       "| 3 | 125 |  96 |\n",
       "| 3 | 125 | 104 |\n",
       "| 3 | 125 |  82 |\n",
       "| 3 | 125 |  60 |\n",
       "\n"
      ],
      "text/plain": [
       "   materials temp y  \n",
       "1  1         15   130\n",
       "2  1         15   155\n",
       "3  1         15    74\n",
       "4  1         15   180\n",
       "5  1         70    34\n",
       "6  1         70    40\n",
       "7  1         70    80\n",
       "8  1         70    75\n",
       "9  1         125   20\n",
       "10 1         125   70\n",
       "11 1         125   82\n",
       "12 1         125   58\n",
       "13 2         15   150\n",
       "14 2         15   188\n",
       "15 2         15   159\n",
       "16 2         15   126\n",
       "17 2         70   136\n",
       "18 2         70   122\n",
       "19 2         70   106\n",
       "20 2         70   115\n",
       "21 2         125   25\n",
       "22 2         125   70\n",
       "23 2         125   58\n",
       "24 2         125   45\n",
       "25 3         15   138\n",
       "26 3         15   110\n",
       "27 3         15   168\n",
       "28 3         15   160\n",
       "29 3         70   174\n",
       "30 3         70   120\n",
       "31 3         70   150\n",
       "32 3         70   139\n",
       "33 3         125   96\n",
       "34 3         125  104\n",
       "35 3         125   82\n",
       "36 3         125   60"
      ]
     },
     "metadata": {},
     "output_type": "display_data"
    }
   ],
   "source": [
    "r1=c(130, 155, 74, 180, 34, 40, 80, 75, 20, 70,82, 58)\n",
    "r2=c(150, 188, 159, 126, 136, 122, 106, 115, 25, 70,58,45)\n",
    "r3=c(138, 110, 168, 160, 174, 120, 150, 139, 96, 104, 82, 60)\n",
    "materials=as.factor(c(rep(1,12), rep(2,12),rep(3,12)))\n",
    "temp=as.factor(c(rep(c(rep(15,4), rep(70, 4), rep(125, 4)),3)))\n",
    "y=c(r1,r2,r3)\n",
    "\n",
    "data=data.frame(materials, temp, y)\n",
    "data"
   ]
  },
  {
   "cell_type": "markdown",
   "metadata": {},
   "source": [
    "* Generate an ANOVA model and check out a summary of the model:"
   ]
  },
  {
   "cell_type": "code",
   "execution_count": 3,
   "metadata": {
    "vscode": {
     "languageId": "r"
    }
   },
   "outputs": [
    {
     "data": {
      "text/plain": [
       "               Df Sum Sq Mean Sq F value   Pr(>F)    \n",
       "temp            2  39119   19559  28.968 1.91e-07 ***\n",
       "materials       2  10684    5342   7.911  0.00198 ** \n",
       "temp:materials  4   9614    2403   3.560  0.01861 *  \n",
       "Residuals      27  18231     675                     \n",
       "---\n",
       "Signif. codes:  0 ‘***’ 0.001 ‘**’ 0.01 ‘*’ 0.05 ‘.’ 0.1 ‘ ’ 1"
      ]
     },
     "metadata": {},
     "output_type": "display_data"
    }
   ],
   "source": [
    "model = aov(y~temp*materials)\n",
    "summary(model)"
   ]
  },
  {
   "cell_type": "code",
   "execution_count": 4,
   "metadata": {
    "vscode": {
     "languageId": "r"
    }
   },
   "outputs": [
    {
     "data": {
      "text/html": [
       "<table class=\"dataframe\">\n",
       "<caption>A anova: 4 × 5</caption>\n",
       "<thead>\n",
       "\t<tr><th></th><th scope=col>Df</th><th scope=col>Sum Sq</th><th scope=col>Mean Sq</th><th scope=col>F value</th><th scope=col>Pr(&gt;F)</th></tr>\n",
       "\t<tr><th></th><th scope=col>&lt;int&gt;</th><th scope=col>&lt;dbl&gt;</th><th scope=col>&lt;dbl&gt;</th><th scope=col>&lt;dbl&gt;</th><th scope=col>&lt;dbl&gt;</th></tr>\n",
       "</thead>\n",
       "<tbody>\n",
       "\t<tr><th scope=row>temp</th><td> 2</td><td>39118.722</td><td>19559.361</td><td>28.967692</td><td>1.908596e-07</td></tr>\n",
       "\t<tr><th scope=row>materials</th><td> 2</td><td>10683.722</td><td> 5341.861</td><td> 7.911372</td><td>1.976083e-03</td></tr>\n",
       "\t<tr><th scope=row>temp:materials</th><td> 4</td><td> 9613.778</td><td> 2403.444</td><td> 3.559535</td><td>1.861117e-02</td></tr>\n",
       "\t<tr><th scope=row>Residuals</th><td>27</td><td>18230.750</td><td>  675.213</td><td>       NA</td><td>          NA</td></tr>\n",
       "</tbody>\n",
       "</table>\n"
      ],
      "text/latex": [
       "A anova: 4 × 5\n",
       "\\begin{tabular}{r|lllll}\n",
       "  & Df & Sum Sq & Mean Sq & F value & Pr(>F)\\\\\n",
       "  & <int> & <dbl> & <dbl> & <dbl> & <dbl>\\\\\n",
       "\\hline\n",
       "\ttemp &  2 & 39118.722 & 19559.361 & 28.967692 & 1.908596e-07\\\\\n",
       "\tmaterials &  2 & 10683.722 &  5341.861 &  7.911372 & 1.976083e-03\\\\\n",
       "\ttemp:materials &  4 &  9613.778 &  2403.444 &  3.559535 & 1.861117e-02\\\\\n",
       "\tResiduals & 27 & 18230.750 &   675.213 &        NA &           NA\\\\\n",
       "\\end{tabular}\n"
      ],
      "text/markdown": [
       "\n",
       "A anova: 4 × 5\n",
       "\n",
       "| <!--/--> | Df &lt;int&gt; | Sum Sq &lt;dbl&gt; | Mean Sq &lt;dbl&gt; | F value &lt;dbl&gt; | Pr(&gt;F) &lt;dbl&gt; |\n",
       "|---|---|---|---|---|---|\n",
       "| temp |  2 | 39118.722 | 19559.361 | 28.967692 | 1.908596e-07 |\n",
       "| materials |  2 | 10683.722 |  5341.861 |  7.911372 | 1.976083e-03 |\n",
       "| temp:materials |  4 |  9613.778 |  2403.444 |  3.559535 | 1.861117e-02 |\n",
       "| Residuals | 27 | 18230.750 |   675.213 |        NA |           NA |\n",
       "\n"
      ],
      "text/plain": [
       "               Df Sum Sq    Mean Sq   F value   Pr(>F)      \n",
       "temp            2 39118.722 19559.361 28.967692 1.908596e-07\n",
       "materials       2 10683.722  5341.861  7.911372 1.976083e-03\n",
       "temp:materials  4  9613.778  2403.444  3.559535 1.861117e-02\n",
       "Residuals      27 18230.750   675.213        NA           NA"
      ]
     },
     "metadata": {},
     "output_type": "display_data"
    }
   ],
   "source": [
    "anova(model)"
   ]
  },
  {
   "cell_type": "markdown",
   "metadata": {},
   "source": [
    "* Generate the interaction plot (there are two ways to do this, but both will generate the same graph)"
   ]
  },
  {
   "cell_type": "code",
   "execution_count": 5,
   "metadata": {
    "vscode": {
     "languageId": "r"
    }
   },
   "outputs": [
    {
     "data": {
      "image/png": "[encoded data removed]",
      "text/plain": [
       "plot without title"
      ]
     },
     "metadata": {
      "image/png": {
       "height": 420,
       "width": 420
      }
     },
     "output_type": "display_data"
    }
   ],
   "source": [
    "with(data, {interaction.plot(temp, materials, y)})"
   ]
  },
  {
   "cell_type": "code",
   "execution_count": 6,
   "metadata": {
    "vscode": {
     "languageId": "r"
    }
   },
   "outputs": [
    {
     "data": {
      "image/png": "[encoded data removed]",
      "text/plain": [
       "plot without title"
      ]
     },
     "metadata": {
      "image/png": {
       "height": 420,
       "width": 420
      }
     },
     "output_type": "display_data"
    }
   ],
   "source": [
    "interaction.plot(data$temp, data$materials, data$y)"
   ]
  },
  {
   "cell_type": "markdown",
   "metadata": {},
   "source": [
    "* Make a multiple linear regression model for our data\n",
    "    * It seems like linear regression is pointless? because he just said that this will not work..."
   ]
  },
  {
   "cell_type": "code",
   "execution_count": 7,
   "metadata": {
    "vscode": {
     "languageId": "r"
    }
   },
   "outputs": [
    {
     "data": {
      "text/plain": [
       "\n",
       "Call:\n",
       "lm(formula = y ~ as.numeric(temp) * as.numeric(materials))\n",
       "\n",
       "Residuals:\n",
       "    Min      1Q  Median      3Q     Max \n",
       "-55.590 -19.627   2.306  16.967  50.410 \n",
       "\n",
       "Coefficients:\n",
       "                                       Estimate Std. Error t value Pr(>|t|)    \n",
       "(Intercept)                             163.028     34.332   4.749 4.12e-05 ***\n",
       "as.numeric(temp)                        -49.708     15.892  -3.128  0.00374 ** \n",
       "as.numeric(materials)                    11.583     15.892   0.729  0.47139    \n",
       "as.numeric(temp):as.numeric(materials)    4.687      7.357   0.637  0.52855    \n",
       "---\n",
       "Signif. codes:  0 ‘***’ 0.001 ‘**’ 0.01 ‘*’ 0.05 ‘.’ 0.1 ‘ ’ 1\n",
       "\n",
       "Residual standard error: 29.43 on 32 degrees of freedom\n",
       "Multiple R-squared:  0.6431,\tAdjusted R-squared:  0.6097 \n",
       "F-statistic: 19.22 on 3 and 32 DF,  p-value: 2.606e-07\n"
      ]
     },
     "metadata": {},
     "output_type": "display_data"
    }
   ],
   "source": [
    "model1 = lm(y~as.numeric(temp) * as.numeric(materials))\n",
    "summary(model1)"
   ]
  },
  {
   "cell_type": "markdown",
   "metadata": {},
   "source": []
  }
 ],
 "metadata": {
  "kernelspec": {
   "display_name": "R",
   "language": "R",
   "name": "ir"
  },
  "language_info": {
   "codemirror_mode": "r",
   "file_extension": ".r",
   "mimetype": "text/x-r-source",
   "name": "R",
   "pygments_lexer": "r",
   "version": "4.3.1"
  },
  "orig_nbformat": 4
 },
 "nbformat": 4,
 "nbformat_minor": 2
}
