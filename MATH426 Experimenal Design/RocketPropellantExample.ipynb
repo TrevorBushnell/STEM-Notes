{
 "cells": [
  {
   "cell_type": "markdown",
   "metadata": {},
   "source": [
    "# Rocket Propellant Example"
   ]
  },
  {
   "cell_type": "code",
   "execution_count": 1,
   "metadata": {
    "vscode": {
     "languageId": "r"
    }
   },
   "outputs": [
    {
     "data": {
      "text/html": [
       "<table class=\"dataframe\">\n",
       "<caption>A data.frame: 5 × 5</caption>\n",
       "<thead>\n",
       "\t<tr><th></th><th scope=col>X1</th><th scope=col>X2</th><th scope=col>X3</th><th scope=col>X4</th><th scope=col>X5</th></tr>\n",
       "\t<tr><th></th><th scope=col>&lt;dbl&gt;</th><th scope=col>&lt;dbl&gt;</th><th scope=col>&lt;dbl&gt;</th><th scope=col>&lt;dbl&gt;</th><th scope=col>&lt;dbl&gt;</th></tr>\n",
       "</thead>\n",
       "<tbody>\n",
       "\t<tr><th scope=row>r1</th><td>24</td><td>20</td><td>19</td><td>24</td><td>24</td></tr>\n",
       "\t<tr><th scope=row>r2</th><td>17</td><td>24</td><td>30</td><td>27</td><td>36</td></tr>\n",
       "\t<tr><th scope=row>r3</th><td>18</td><td>38</td><td>26</td><td>27</td><td>21</td></tr>\n",
       "\t<tr><th scope=row>r4</th><td>26</td><td>31</td><td>26</td><td>23</td><td>22</td></tr>\n",
       "\t<tr><th scope=row>r5</th><td>22</td><td>30</td><td>20</td><td>29</td><td>31</td></tr>\n",
       "</tbody>\n",
       "</table>\n"
      ],
      "text/latex": [
       "A data.frame: 5 × 5\n",
       "\\begin{tabular}{r|lllll}\n",
       "  & X1 & X2 & X3 & X4 & X5\\\\\n",
       "  & <dbl> & <dbl> & <dbl> & <dbl> & <dbl>\\\\\n",
       "\\hline\n",
       "\tr1 & 24 & 20 & 19 & 24 & 24\\\\\n",
       "\tr2 & 17 & 24 & 30 & 27 & 36\\\\\n",
       "\tr3 & 18 & 38 & 26 & 27 & 21\\\\\n",
       "\tr4 & 26 & 31 & 26 & 23 & 22\\\\\n",
       "\tr5 & 22 & 30 & 20 & 29 & 31\\\\\n",
       "\\end{tabular}\n"
      ],
      "text/markdown": [
       "\n",
       "A data.frame: 5 × 5\n",
       "\n",
       "| <!--/--> | X1 &lt;dbl&gt; | X2 &lt;dbl&gt; | X3 &lt;dbl&gt; | X4 &lt;dbl&gt; | X5 &lt;dbl&gt; |\n",
       "|---|---|---|---|---|---|\n",
       "| r1 | 24 | 20 | 19 | 24 | 24 |\n",
       "| r2 | 17 | 24 | 30 | 27 | 36 |\n",
       "| r3 | 18 | 38 | 26 | 27 | 21 |\n",
       "| r4 | 26 | 31 | 26 | 23 | 22 |\n",
       "| r5 | 22 | 30 | 20 | 29 | 31 |\n",
       "\n"
      ],
      "text/plain": [
       "   X1 X2 X3 X4 X5\n",
       "r1 24 20 19 24 24\n",
       "r2 17 24 30 27 36\n",
       "r3 18 38 26 27 21\n",
       "r4 26 31 26 23 22\n",
       "r5 22 30 20 29 31"
      ]
     },
     "metadata": {},
     "output_type": "display_data"
    }
   ],
   "source": [
    "# Burning Rate\n",
    "r1=c(24, 20, 19, 24, 24)\n",
    "r2=c(17, 24, 30, 27, 36)\n",
    "r3=c(18, 38, 26, 27, 21)\n",
    "r4=c(26, 31, 26, 23, 22)\n",
    "r5=c(22, 30, 20, 29, 31)\n",
    "data <- data.frame(rbind(r1, r2, r3, r4, r5))\n",
    "data"
   ]
  },
  {
   "cell_type": "code",
   "execution_count": 2,
   "metadata": {
    "vscode": {
     "languageId": "r"
    }
   },
   "outputs": [
    {
     "data": {
      "text/html": [
       "<style>\n",
       ".list-inline {list-style: none; margin:0; padding: 0}\n",
       ".list-inline>li {display: inline-block}\n",
       ".list-inline>li:not(:last-child)::after {content: \"\\00b7\"; padding: 0 .5ex}\n",
       "</style>\n",
       "<ol class=list-inline><li>24</li><li>20</li><li>19</li><li>24</li><li>24</li><li>17</li><li>24</li><li>30</li><li>27</li><li>36</li><li>18</li><li>38</li><li>26</li><li>27</li><li>21</li><li>26</li><li>31</li><li>26</li><li>23</li><li>22</li><li>22</li><li>30</li><li>20</li><li>29</li><li>31</li></ol>\n"
      ],
      "text/latex": [
       "\\begin{enumerate*}\n",
       "\\item 24\n",
       "\\item 20\n",
       "\\item 19\n",
       "\\item 24\n",
       "\\item 24\n",
       "\\item 17\n",
       "\\item 24\n",
       "\\item 30\n",
       "\\item 27\n",
       "\\item 36\n",
       "\\item 18\n",
       "\\item 38\n",
       "\\item 26\n",
       "\\item 27\n",
       "\\item 21\n",
       "\\item 26\n",
       "\\item 31\n",
       "\\item 26\n",
       "\\item 23\n",
       "\\item 22\n",
       "\\item 22\n",
       "\\item 30\n",
       "\\item 20\n",
       "\\item 29\n",
       "\\item 31\n",
       "\\end{enumerate*}\n"
      ],
      "text/markdown": [
       "1. 24\n",
       "2. 20\n",
       "3. 19\n",
       "4. 24\n",
       "5. 24\n",
       "6. 17\n",
       "7. 24\n",
       "8. 30\n",
       "9. 27\n",
       "10. 36\n",
       "11. 18\n",
       "12. 38\n",
       "13. 26\n",
       "14. 27\n",
       "15. 21\n",
       "16. 26\n",
       "17. 31\n",
       "18. 26\n",
       "19. 23\n",
       "20. 22\n",
       "21. 22\n",
       "22. 30\n",
       "23. 20\n",
       "24. 29\n",
       "25. 31\n",
       "\n",
       "\n"
      ],
      "text/plain": [
       " [1] 24 20 19 24 24 17 24 30 27 36 18 38 26 27 21 26 31 26 23 22 22 30 20 29 31"
      ]
     },
     "metadata": {},
     "output_type": "display_data"
    }
   ],
   "source": [
    "# Arrange responses by row\n",
    "y <- c(r1, r2, r3, r4, r5)\n",
    "y"
   ]
  },
  {
   "cell_type": "code",
   "execution_count": 3,
   "metadata": {
    "vscode": {
     "languageId": "r"
    }
   },
   "outputs": [
    {
     "data": {
      "text/html": [
       "<style>\n",
       ".list-inline {list-style: none; margin:0; padding: 0}\n",
       ".list-inline>li {display: inline-block}\n",
       ".list-inline>li:not(:last-child)::after {content: \"\\00b7\"; padding: 0 .5ex}\n",
       "</style>\n",
       "<ol class=list-inline><li>1</li><li>2</li><li>3</li><li>4</li><li>5</li><li>1</li><li>2</li><li>3</li><li>4</li><li>5</li><li>1</li><li>2</li><li>3</li><li>4</li><li>5</li><li>1</li><li>2</li><li>3</li><li>4</li><li>5</li><li>1</li><li>2</li><li>3</li><li>4</li><li>5</li></ol>\n",
       "\n",
       "<details>\n",
       "\t<summary style=display:list-item;cursor:pointer>\n",
       "\t\t<strong>Levels</strong>:\n",
       "\t</summary>\n",
       "\t<style>\n",
       "\t.list-inline {list-style: none; margin:0; padding: 0}\n",
       "\t.list-inline>li {display: inline-block}\n",
       "\t.list-inline>li:not(:last-child)::after {content: \"\\00b7\"; padding: 0 .5ex}\n",
       "\t</style>\n",
       "\t<ol class=list-inline><li>'1'</li><li>'2'</li><li>'3'</li><li>'4'</li><li>'5'</li></ol>\n",
       "</details>"
      ],
      "text/latex": [
       "\\begin{enumerate*}\n",
       "\\item 1\n",
       "\\item 2\n",
       "\\item 3\n",
       "\\item 4\n",
       "\\item 5\n",
       "\\item 1\n",
       "\\item 2\n",
       "\\item 3\n",
       "\\item 4\n",
       "\\item 5\n",
       "\\item 1\n",
       "\\item 2\n",
       "\\item 3\n",
       "\\item 4\n",
       "\\item 5\n",
       "\\item 1\n",
       "\\item 2\n",
       "\\item 3\n",
       "\\item 4\n",
       "\\item 5\n",
       "\\item 1\n",
       "\\item 2\n",
       "\\item 3\n",
       "\\item 4\n",
       "\\item 5\n",
       "\\end{enumerate*}\n",
       "\n",
       "\\emph{Levels}: \\begin{enumerate*}\n",
       "\\item '1'\n",
       "\\item '2'\n",
       "\\item '3'\n",
       "\\item '4'\n",
       "\\item '5'\n",
       "\\end{enumerate*}\n"
      ],
      "text/markdown": [
       "1. 1\n",
       "2. 2\n",
       "3. 3\n",
       "4. 4\n",
       "5. 5\n",
       "6. 1\n",
       "7. 2\n",
       "8. 3\n",
       "9. 4\n",
       "10. 5\n",
       "11. 1\n",
       "12. 2\n",
       "13. 3\n",
       "14. 4\n",
       "15. 5\n",
       "16. 1\n",
       "17. 2\n",
       "18. 3\n",
       "19. 4\n",
       "20. 5\n",
       "21. 1\n",
       "22. 2\n",
       "23. 3\n",
       "24. 4\n",
       "25. 5\n",
       "\n",
       "\n",
       "\n",
       "**Levels**: 1. '1'\n",
       "2. '2'\n",
       "3. '3'\n",
       "4. '4'\n",
       "5. '5'\n",
       "\n",
       "\n"
      ],
      "text/plain": [
       " [1] 1 2 3 4 5 1 2 3 4 5 1 2 3 4 5 1 2 3 4 5 1 2 3 4 5\n",
       "Levels: 1 2 3 4 5"
      ]
     },
     "metadata": {},
     "output_type": "display_data"
    }
   ],
   "source": [
    "# Generate column block index for response values\n",
    "operators <- as.factor(rep(1:5, times = 5))\n",
    "operators"
   ]
  },
  {
   "cell_type": "code",
   "execution_count": 4,
   "metadata": {
    "vscode": {
     "languageId": "r"
    }
   },
   "outputs": [
    {
     "data": {
      "text/html": [
       "<style>\n",
       ".list-inline {list-style: none; margin:0; padding: 0}\n",
       ".list-inline>li {display: inline-block}\n",
       ".list-inline>li:not(:last-child)::after {content: \"\\00b7\"; padding: 0 .5ex}\n",
       "</style>\n",
       "<ol class=list-inline><li>1</li><li>1</li><li>1</li><li>1</li><li>1</li><li>2</li><li>2</li><li>2</li><li>2</li><li>2</li><li>3</li><li>3</li><li>3</li><li>3</li><li>3</li><li>4</li><li>4</li><li>4</li><li>4</li><li>4</li><li>5</li><li>5</li><li>5</li><li>5</li><li>5</li></ol>\n",
       "\n",
       "<details>\n",
       "\t<summary style=display:list-item;cursor:pointer>\n",
       "\t\t<strong>Levels</strong>:\n",
       "\t</summary>\n",
       "\t<style>\n",
       "\t.list-inline {list-style: none; margin:0; padding: 0}\n",
       "\t.list-inline>li {display: inline-block}\n",
       "\t.list-inline>li:not(:last-child)::after {content: \"\\00b7\"; padding: 0 .5ex}\n",
       "\t</style>\n",
       "\t<ol class=list-inline><li>'1'</li><li>'2'</li><li>'3'</li><li>'4'</li><li>'5'</li></ol>\n",
       "</details>"
      ],
      "text/latex": [
       "\\begin{enumerate*}\n",
       "\\item 1\n",
       "\\item 1\n",
       "\\item 1\n",
       "\\item 1\n",
       "\\item 1\n",
       "\\item 2\n",
       "\\item 2\n",
       "\\item 2\n",
       "\\item 2\n",
       "\\item 2\n",
       "\\item 3\n",
       "\\item 3\n",
       "\\item 3\n",
       "\\item 3\n",
       "\\item 3\n",
       "\\item 4\n",
       "\\item 4\n",
       "\\item 4\n",
       "\\item 4\n",
       "\\item 4\n",
       "\\item 5\n",
       "\\item 5\n",
       "\\item 5\n",
       "\\item 5\n",
       "\\item 5\n",
       "\\end{enumerate*}\n",
       "\n",
       "\\emph{Levels}: \\begin{enumerate*}\n",
       "\\item '1'\n",
       "\\item '2'\n",
       "\\item '3'\n",
       "\\item '4'\n",
       "\\item '5'\n",
       "\\end{enumerate*}\n"
      ],
      "text/markdown": [
       "1. 1\n",
       "2. 1\n",
       "3. 1\n",
       "4. 1\n",
       "5. 1\n",
       "6. 2\n",
       "7. 2\n",
       "8. 2\n",
       "9. 2\n",
       "10. 2\n",
       "11. 3\n",
       "12. 3\n",
       "13. 3\n",
       "14. 3\n",
       "15. 3\n",
       "16. 4\n",
       "17. 4\n",
       "18. 4\n",
       "19. 4\n",
       "20. 4\n",
       "21. 5\n",
       "22. 5\n",
       "23. 5\n",
       "24. 5\n",
       "25. 5\n",
       "\n",
       "\n",
       "\n",
       "**Levels**: 1. '1'\n",
       "2. '2'\n",
       "3. '3'\n",
       "4. '4'\n",
       "5. '5'\n",
       "\n",
       "\n"
      ],
      "text/plain": [
       " [1] 1 1 1 1 1 2 2 2 2 2 3 3 3 3 3 4 4 4 4 4 5 5 5 5 5\n",
       "Levels: 1 2 3 4 5"
      ]
     },
     "metadata": {},
     "output_type": "display_data"
    }
   ],
   "source": [
    "# Generate row block index for response values\n",
    "batches <- as.factor(rep(1:5, each = 5))\n",
    "batches"
   ]
  },
  {
   "cell_type": "code",
   "execution_count": 6,
   "metadata": {
    "vscode": {
     "languageId": "r"
    }
   },
   "outputs": [
    {
     "data": {
      "text/html": [
       "<style>\n",
       ".list-inline {list-style: none; margin:0; padding: 0}\n",
       ".list-inline>li {display: inline-block}\n",
       ".list-inline>li:not(:last-child)::after {content: \"\\00b7\"; padding: 0 .5ex}\n",
       "</style>\n",
       "<ol class=list-inline><li>'A'</li><li>'B'</li><li>'C'</li><li>'D'</li><li>'E'</li><li>'B'</li><li>'C'</li><li>'D'</li><li>'E'</li><li>'A'</li><li>'C'</li><li>'D'</li><li>'E'</li><li>'A'</li><li>'B'</li><li>'D'</li><li>'E'</li><li>'A'</li><li>'B'</li><li>'C'</li><li>'E'</li><li>'A'</li><li>'B'</li><li>'C'</li><li>'D'</li></ol>\n"
      ],
      "text/latex": [
       "\\begin{enumerate*}\n",
       "\\item 'A'\n",
       "\\item 'B'\n",
       "\\item 'C'\n",
       "\\item 'D'\n",
       "\\item 'E'\n",
       "\\item 'B'\n",
       "\\item 'C'\n",
       "\\item 'D'\n",
       "\\item 'E'\n",
       "\\item 'A'\n",
       "\\item 'C'\n",
       "\\item 'D'\n",
       "\\item 'E'\n",
       "\\item 'A'\n",
       "\\item 'B'\n",
       "\\item 'D'\n",
       "\\item 'E'\n",
       "\\item 'A'\n",
       "\\item 'B'\n",
       "\\item 'C'\n",
       "\\item 'E'\n",
       "\\item 'A'\n",
       "\\item 'B'\n",
       "\\item 'C'\n",
       "\\item 'D'\n",
       "\\end{enumerate*}\n"
      ],
      "text/markdown": [
       "1. 'A'\n",
       "2. 'B'\n",
       "3. 'C'\n",
       "4. 'D'\n",
       "5. 'E'\n",
       "6. 'B'\n",
       "7. 'C'\n",
       "8. 'D'\n",
       "9. 'E'\n",
       "10. 'A'\n",
       "11. 'C'\n",
       "12. 'D'\n",
       "13. 'E'\n",
       "14. 'A'\n",
       "15. 'B'\n",
       "16. 'D'\n",
       "17. 'E'\n",
       "18. 'A'\n",
       "19. 'B'\n",
       "20. 'C'\n",
       "21. 'E'\n",
       "22. 'A'\n",
       "23. 'B'\n",
       "24. 'C'\n",
       "25. 'D'\n",
       "\n",
       "\n"
      ],
      "text/plain": [
       " [1] \"A\" \"B\" \"C\" \"D\" \"E\" \"B\" \"C\" \"D\" \"E\" \"A\" \"C\" \"D\" \"E\" \"A\" \"B\" \"D\" \"E\" \"A\" \"B\"\n",
       "[20] \"C\" \"E\" \"A\" \"B\" \"C\" \"D\""
      ]
     },
     "metadata": {},
     "output_type": "display_data"
    }
   ],
   "source": [
    "# Formulations sequence for response values\n",
    "formulations=c(\"A\", \"B\", \"C\", \"D\", \"E\",\"B\", \"C\", \"D\", \"E\",\"A\", \"C\",\n",
    "\"D\", \"E\",\"A\", \"B\",\"D\", \"E\",\"A\", \"B\", \"C\",\"E\",\"A\", \"B\", \"C\", \"D\")\n",
    "formulations"
   ]
  },
  {
   "cell_type": "code",
   "execution_count": 7,
   "metadata": {
    "vscode": {
     "languageId": "r"
    }
   },
   "outputs": [
    {
     "data": {
      "image/png": "[encoded data removed]",
      "text/plain": [
       "plot without title"
      ]
     },
     "metadata": {
      "image/png": {
       "height": 420,
       "width": 420
      }
     },
     "output_type": "display_data"
    }
   ],
   "source": [
    "# Box plot\n",
    "par(mfrow=c(2,2))\n",
    "boxplot(y~formulations)\n",
    "boxplot(y~batches)\n",
    "boxplot(y~operators)"
   ]
  },
  {
   "cell_type": "code",
   "execution_count": 8,
   "metadata": {
    "vscode": {
     "languageId": "r"
    }
   },
   "outputs": [
    {
     "data": {
      "text/html": [
       "<table class=\"dataframe\">\n",
       "<caption>A anova: 4 × 5</caption>\n",
       "<thead>\n",
       "\t<tr><th></th><th scope=col>Df</th><th scope=col>Sum Sq</th><th scope=col>Mean Sq</th><th scope=col>F value</th><th scope=col>Pr(&gt;F)</th></tr>\n",
       "\t<tr><th></th><th scope=col>&lt;int&gt;</th><th scope=col>&lt;dbl&gt;</th><th scope=col>&lt;dbl&gt;</th><th scope=col>&lt;dbl&gt;</th><th scope=col>&lt;dbl&gt;</th></tr>\n",
       "</thead>\n",
       "<tbody>\n",
       "\t<tr><th scope=row>formulations</th><td> 4</td><td>330</td><td>82.50000</td><td>7.734375</td><td>0.002536502</td></tr>\n",
       "\t<tr><th scope=row>batches</th><td> 4</td><td> 68</td><td>17.00000</td><td>1.593750</td><td>0.239058537</td></tr>\n",
       "\t<tr><th scope=row>operators</th><td> 4</td><td>150</td><td>37.50000</td><td>3.515625</td><td>0.040373048</td></tr>\n",
       "\t<tr><th scope=row>Residuals</th><td>12</td><td>128</td><td>10.66667</td><td>      NA</td><td>         NA</td></tr>\n",
       "</tbody>\n",
       "</table>\n"
      ],
      "text/latex": [
       "A anova: 4 × 5\n",
       "\\begin{tabular}{r|lllll}\n",
       "  & Df & Sum Sq & Mean Sq & F value & Pr(>F)\\\\\n",
       "  & <int> & <dbl> & <dbl> & <dbl> & <dbl>\\\\\n",
       "\\hline\n",
       "\tformulations &  4 & 330 & 82.50000 & 7.734375 & 0.002536502\\\\\n",
       "\tbatches &  4 &  68 & 17.00000 & 1.593750 & 0.239058537\\\\\n",
       "\toperators &  4 & 150 & 37.50000 & 3.515625 & 0.040373048\\\\\n",
       "\tResiduals & 12 & 128 & 10.66667 &       NA &          NA\\\\\n",
       "\\end{tabular}\n"
      ],
      "text/markdown": [
       "\n",
       "A anova: 4 × 5\n",
       "\n",
       "| <!--/--> | Df &lt;int&gt; | Sum Sq &lt;dbl&gt; | Mean Sq &lt;dbl&gt; | F value &lt;dbl&gt; | Pr(&gt;F) &lt;dbl&gt; |\n",
       "|---|---|---|---|---|---|\n",
       "| formulations |  4 | 330 | 82.50000 | 7.734375 | 0.002536502 |\n",
       "| batches |  4 |  68 | 17.00000 | 1.593750 | 0.239058537 |\n",
       "| operators |  4 | 150 | 37.50000 | 3.515625 | 0.040373048 |\n",
       "| Residuals | 12 | 128 | 10.66667 |       NA |          NA |\n",
       "\n"
      ],
      "text/plain": [
       "             Df Sum Sq Mean Sq  F value  Pr(>F)     \n",
       "formulations  4 330    82.50000 7.734375 0.002536502\n",
       "batches       4  68    17.00000 1.593750 0.239058537\n",
       "operators     4 150    37.50000 3.515625 0.040373048\n",
       "Residuals    12 128    10.66667       NA          NA"
      ]
     },
     "metadata": {},
     "output_type": "display_data"
    }
   ],
   "source": [
    "# Get the ANOVA table of Latin Square\n",
    "model=aov(y~formulations+batches+operators)\n",
    "anova(model)"
   ]
  },
  {
   "cell_type": "code",
   "execution_count": 10,
   "metadata": {
    "vscode": {
     "languageId": "r"
    }
   },
   "outputs": [
    {
     "data": {
      "text/plain": [
       " formulations emmean   SE df lower.CL upper.CL\n",
       " A              28.6 1.46 12     25.4     31.8\n",
       " B              20.2 1.46 12     17.0     23.4\n",
       " C              22.4 1.46 12     19.2     25.6\n",
       " D              29.8 1.46 12     26.6     33.0\n",
       " E              26.0 1.46 12     22.8     29.2\n",
       "\n",
       "Results are averaged over the levels of: batches, operators \n",
       "Confidence level used: 0.95 "
      ]
     },
     "metadata": {},
     "output_type": "display_data"
    }
   ],
   "source": [
    "# Get the formulation mean\n",
    "library(emmeans)\n",
    "emmeans(model, \"formulations\")"
   ]
  },
  {
   "cell_type": "markdown",
   "metadata": {},
   "source": [
    "**GRACEO-LATIN SQUARES DESIGN**"
   ]
  },
  {
   "cell_type": "code",
   "execution_count": 12,
   "metadata": {
    "vscode": {
     "languageId": "r"
    }
   },
   "outputs": [
    {
     "data": {
      "text/html": [
       "<style>\n",
       ".list-inline {list-style: none; margin:0; padding: 0}\n",
       ".list-inline>li {display: inline-block}\n",
       ".list-inline>li:not(:last-child)::after {content: \"\\00b7\"; padding: 0 .5ex}\n",
       "</style>\n",
       "<ol class=list-inline><li>'alp'</li><li>'gam'</li><li>'eps'</li><li>'bet'</li><li>'del'</li><li>'bet'</li><li>'del'</li><li>'alp'</li><li>'gam'</li><li>'eps'</li><li>'gam'</li><li>'eps'</li><li>'bet'</li><li>'del'</li><li>'alp'</li><li>'del'</li><li>'alp'</li><li>'gam'</li><li>'eps'</li><li>'bet'</li><li>'eps'</li><li>'bet'</li><li>'del'</li><li>'alp'</li><li>'gam'</li></ol>\n"
      ],
      "text/latex": [
       "\\begin{enumerate*}\n",
       "\\item 'alp'\n",
       "\\item 'gam'\n",
       "\\item 'eps'\n",
       "\\item 'bet'\n",
       "\\item 'del'\n",
       "\\item 'bet'\n",
       "\\item 'del'\n",
       "\\item 'alp'\n",
       "\\item 'gam'\n",
       "\\item 'eps'\n",
       "\\item 'gam'\n",
       "\\item 'eps'\n",
       "\\item 'bet'\n",
       "\\item 'del'\n",
       "\\item 'alp'\n",
       "\\item 'del'\n",
       "\\item 'alp'\n",
       "\\item 'gam'\n",
       "\\item 'eps'\n",
       "\\item 'bet'\n",
       "\\item 'eps'\n",
       "\\item 'bet'\n",
       "\\item 'del'\n",
       "\\item 'alp'\n",
       "\\item 'gam'\n",
       "\\end{enumerate*}\n"
      ],
      "text/markdown": [
       "1. 'alp'\n",
       "2. 'gam'\n",
       "3. 'eps'\n",
       "4. 'bet'\n",
       "5. 'del'\n",
       "6. 'bet'\n",
       "7. 'del'\n",
       "8. 'alp'\n",
       "9. 'gam'\n",
       "10. 'eps'\n",
       "11. 'gam'\n",
       "12. 'eps'\n",
       "13. 'bet'\n",
       "14. 'del'\n",
       "15. 'alp'\n",
       "16. 'del'\n",
       "17. 'alp'\n",
       "18. 'gam'\n",
       "19. 'eps'\n",
       "20. 'bet'\n",
       "21. 'eps'\n",
       "22. 'bet'\n",
       "23. 'del'\n",
       "24. 'alp'\n",
       "25. 'gam'\n",
       "\n",
       "\n"
      ],
      "text/plain": [
       " [1] \"alp\" \"gam\" \"eps\" \"bet\" \"del\" \"bet\" \"del\" \"alp\" \"gam\" \"eps\" \"gam\" \"eps\"\n",
       "[13] \"bet\" \"del\" \"alp\" \"del\" \"alp\" \"gam\" \"eps\" \"bet\" \"eps\" \"bet\" \"del\" \"alp\"\n",
       "[25] \"gam\""
      ]
     },
     "metadata": {},
     "output_type": "display_data"
    }
   ],
   "source": [
    "assemblies=c(\"alp\", \"gam\", \"eps\", \"bet\", \"del\", \"bet\", \"del\", \"alp\", \"gam\",\n",
    "\"eps\", \"gam\", \"eps\", \"bet\", \"del\", \"alp\", \"del\", \"alp\", \"gam\", \"eps\",\n",
    "\"bet\", \"eps\", \"bet\", \"del\", \"alp\", \"gam\")\n",
    "assemblies"
   ]
  },
  {
   "cell_type": "code",
   "execution_count": 13,
   "metadata": {
    "vscode": {
     "languageId": "r"
    }
   },
   "outputs": [
    {
     "data": {
      "image/png": "[encoded data removed]",
      "text/plain": [
       "plot without title"
      ]
     },
     "metadata": {
      "image/png": {
       "height": 420,
       "width": 420
      }
     },
     "output_type": "display_data"
    }
   ],
   "source": [
    "# Box plot\n",
    "par(mfrow=c(2,2))\n",
    "boxplot(y~formulations)\n",
    "boxplot(y~batches)\n",
    "boxplot(y~operators)\n",
    "boxplot(y~assemblies)"
   ]
  },
  {
   "cell_type": "code",
   "execution_count": 14,
   "metadata": {
    "vscode": {
     "languageId": "r"
    }
   },
   "outputs": [
    {
     "data": {
      "text/html": [
       "<strong>null device:</strong> 1"
      ],
      "text/latex": [
       "\\textbf{null device:} 1"
      ],
      "text/markdown": [
       "**null device:** 1"
      ],
      "text/plain": [
       "null device \n",
       "          1 "
      ]
     },
     "metadata": {},
     "output_type": "display_data"
    }
   ],
   "source": [
    "# Clear the current plot\n",
    "dev.off()"
   ]
  },
  {
   "cell_type": "code",
   "execution_count": 15,
   "metadata": {
    "vscode": {
     "languageId": "r"
    }
   },
   "outputs": [
    {
     "data": {
      "text/html": [
       "<table class=\"dataframe\">\n",
       "<caption>A anova: 5 × 5</caption>\n",
       "<thead>\n",
       "\t<tr><th></th><th scope=col>Df</th><th scope=col>Sum Sq</th><th scope=col>Mean Sq</th><th scope=col>F value</th><th scope=col>Pr(&gt;F)</th></tr>\n",
       "\t<tr><th></th><th scope=col>&lt;int&gt;</th><th scope=col>&lt;dbl&gt;</th><th scope=col>&lt;dbl&gt;</th><th scope=col>&lt;dbl&gt;</th><th scope=col>&lt;dbl&gt;</th></tr>\n",
       "</thead>\n",
       "<tbody>\n",
       "\t<tr><th scope=row>formulations</th><td>4</td><td>330</td><td>82.50</td><td>10.000000</td><td>0.003343621</td></tr>\n",
       "\t<tr><th scope=row>batches</th><td>4</td><td> 68</td><td>17.00</td><td> 2.060606</td><td>0.178310856</td></tr>\n",
       "\t<tr><th scope=row>operators</th><td>4</td><td>150</td><td>37.50</td><td> 4.545455</td><td>0.032930411</td></tr>\n",
       "\t<tr><th scope=row>assemblies</th><td>4</td><td> 62</td><td>15.50</td><td> 1.878788</td><td>0.207641300</td></tr>\n",
       "\t<tr><th scope=row>Residuals</th><td>8</td><td> 66</td><td> 8.25</td><td>       NA</td><td>         NA</td></tr>\n",
       "</tbody>\n",
       "</table>\n"
      ],
      "text/latex": [
       "A anova: 5 × 5\n",
       "\\begin{tabular}{r|lllll}\n",
       "  & Df & Sum Sq & Mean Sq & F value & Pr(>F)\\\\\n",
       "  & <int> & <dbl> & <dbl> & <dbl> & <dbl>\\\\\n",
       "\\hline\n",
       "\tformulations & 4 & 330 & 82.50 & 10.000000 & 0.003343621\\\\\n",
       "\tbatches & 4 &  68 & 17.00 &  2.060606 & 0.178310856\\\\\n",
       "\toperators & 4 & 150 & 37.50 &  4.545455 & 0.032930411\\\\\n",
       "\tassemblies & 4 &  62 & 15.50 &  1.878788 & 0.207641300\\\\\n",
       "\tResiduals & 8 &  66 &  8.25 &        NA &          NA\\\\\n",
       "\\end{tabular}\n"
      ],
      "text/markdown": [
       "\n",
       "A anova: 5 × 5\n",
       "\n",
       "| <!--/--> | Df &lt;int&gt; | Sum Sq &lt;dbl&gt; | Mean Sq &lt;dbl&gt; | F value &lt;dbl&gt; | Pr(&gt;F) &lt;dbl&gt; |\n",
       "|---|---|---|---|---|---|\n",
       "| formulations | 4 | 330 | 82.50 | 10.000000 | 0.003343621 |\n",
       "| batches | 4 |  68 | 17.00 |  2.060606 | 0.178310856 |\n",
       "| operators | 4 | 150 | 37.50 |  4.545455 | 0.032930411 |\n",
       "| assemblies | 4 |  62 | 15.50 |  1.878788 | 0.207641300 |\n",
       "| Residuals | 8 |  66 |  8.25 |        NA |          NA |\n",
       "\n"
      ],
      "text/plain": [
       "             Df Sum Sq Mean Sq F value   Pr(>F)     \n",
       "formulations 4  330    82.50   10.000000 0.003343621\n",
       "batches      4   68    17.00    2.060606 0.178310856\n",
       "operators    4  150    37.50    4.545455 0.032930411\n",
       "assemblies   4   62    15.50    1.878788 0.207641300\n",
       "Residuals    8   66     8.25          NA          NA"
      ]
     },
     "metadata": {},
     "output_type": "display_data"
    }
   ],
   "source": [
    "# Get the ANOVA table of Graeco-Latin Square\n",
    "model1=aov(y~formulations+batches+operators+assemblies)\n",
    "anova(model1)"
   ]
  },
  {
   "cell_type": "code",
   "execution_count": 16,
   "metadata": {
    "vscode": {
     "languageId": "r"
    }
   },
   "outputs": [
    {
     "data": {
      "text/plain": [
       "\n",
       "Error: batches\n",
       "          Df Sum Sq Mean Sq F value Pr(>F)\n",
       "Residuals  4     68      17               \n",
       "\n",
       "Error: operators\n",
       "          Df Sum Sq Mean Sq F value Pr(>F)\n",
       "Residuals  4    150    37.5               \n",
       "\n",
       "Error: assemblies\n",
       "          Df Sum Sq Mean Sq F value Pr(>F)\n",
       "Residuals  4     62    15.5               \n",
       "\n",
       "Error: Within\n",
       "             Df Sum Sq Mean Sq F value  Pr(>F)   \n",
       "formulations  4    330   82.50      10 0.00334 **\n",
       "Residuals     8     66    8.25                   \n",
       "---\n",
       "Signif. codes:  0 ‘***’ 0.001 ‘**’ 0.01 ‘*’ 0.05 ‘.’ 0.1 ‘ ’ 1"
      ]
     },
     "metadata": {},
     "output_type": "display_data"
    }
   ],
   "source": [
    "# Other way\n",
    "model2=aov(y~Error(batches+operators+assemblies)+formulations)\n",
    "summary(model2)"
   ]
  },
  {
   "cell_type": "code",
   "execution_count": 17,
   "metadata": {
    "vscode": {
     "languageId": "r"
    }
   },
   "outputs": [
    {
     "data": {
      "text/plain": [
       " assemblies emmean   SE df lower.CL upper.CL\n",
       " alp          27.0 1.28  8     24.0     30.0\n",
       " bet          23.8 1.28  8     20.8     26.8\n",
       " del          24.2 1.28  8     21.2     27.2\n",
       " eps          27.6 1.28  8     24.6     30.6\n",
       " gam          24.4 1.28  8     21.4     27.4\n",
       "\n",
       "Results are averaged over the levels of: formulations, batches, operators \n",
       "Confidence level used: 0.95 "
      ]
     },
     "metadata": {},
     "output_type": "display_data"
    }
   ],
   "source": [
    "# Get the test assemblies mean\n",
    "library(emmeans)\n",
    "emmeans(model1, \"assemblies\")"
   ]
  },
  {
   "cell_type": "code",
   "execution_count": 18,
   "metadata": {
    "vscode": {
     "languageId": "r"
    }
   },
   "outputs": [
    {
     "data": {
      "text/html": [
       "<table class=\"dataframe\">\n",
       "<caption>A matrix: 5 × 5 of type chr</caption>\n",
       "<tbody>\n",
       "\t<tr><td>D</td><td>E</td><td>A</td><td>C</td><td>B</td></tr>\n",
       "\t<tr><td>C</td><td>D</td><td>E</td><td>B</td><td>A</td></tr>\n",
       "\t<tr><td>E</td><td>A</td><td>B</td><td>D</td><td>C</td></tr>\n",
       "\t<tr><td>B</td><td>C</td><td>D</td><td>A</td><td>E</td></tr>\n",
       "\t<tr><td>A</td><td>B</td><td>C</td><td>E</td><td>D</td></tr>\n",
       "</tbody>\n",
       "</table>\n"
      ],
      "text/latex": [
       "A matrix: 5 × 5 of type chr\n",
       "\\begin{tabular}{lllll}\n",
       "\t D & E & A & C & B\\\\\n",
       "\t C & D & E & B & A\\\\\n",
       "\t E & A & B & D & C\\\\\n",
       "\t B & C & D & A & E\\\\\n",
       "\t A & B & C & E & D\\\\\n",
       "\\end{tabular}\n"
      ],
      "text/markdown": [
       "\n",
       "A matrix: 5 × 5 of type chr\n",
       "\n",
       "| D | E | A | C | B |\n",
       "| C | D | E | B | A |\n",
       "| E | A | B | D | C |\n",
       "| B | C | D | A | E |\n",
       "| A | B | C | E | D |\n",
       "\n"
      ],
      "text/plain": [
       "     [,1] [,2] [,3] [,4] [,5]\n",
       "[1,] D    E    A    C    B   \n",
       "[2,] C    D    E    B    A   \n",
       "[3,] E    A    B    D    C   \n",
       "[4,] B    C    D    A    E   \n",
       "[5,] A    B    C    E    D   "
      ]
     },
     "metadata": {},
     "output_type": "display_data"
    }
   ],
   "source": [
    "# In this situation the design was provided, but using agricolae package we can generate Latin squares\n",
    "# and Graeco-Latin squares.\n",
    "library(agricolae)\n",
    "trt = c(\"A\", \"B\", \"C\", \"D\", \"E\")\n",
    "outdesign = design.lsd(trt)\n",
    "outdesign$sketch"
   ]
  },
  {
   "cell_type": "code",
   "execution_count": 20,
   "metadata": {
    "vscode": {
     "languageId": "r"
    }
   },
   "outputs": [
    {
     "name": "stderr",
     "output_type": "stream",
     "text": [
      "Loading required package: ggplot2\n",
      "\n"
     ]
    },
    {
     "data": {
      "text/html": [
       "<table class=\"dataframe\">\n",
       "<caption>A anova: 3 × 5</caption>\n",
       "<thead>\n",
       "\t<tr><th></th><th scope=col>Df</th><th scope=col>Sum Sq</th><th scope=col>Mean Sq</th><th scope=col>F value</th><th scope=col>Pr(&gt;F)</th></tr>\n",
       "\t<tr><th></th><th scope=col>&lt;int&gt;</th><th scope=col>&lt;dbl&gt;</th><th scope=col>&lt;dbl&gt;</th><th scope=col>&lt;dbl&gt;</th><th scope=col>&lt;dbl&gt;</th></tr>\n",
       "</thead>\n",
       "<tbody>\n",
       "\t<tr><th scope=row>batches</th><td> 4</td><td> 68</td><td>17.000</td><td>0.5938865</td><td>0.6721031</td></tr>\n",
       "\t<tr><th scope=row>operators</th><td> 4</td><td>150</td><td>37.500</td><td>1.3100437</td><td>0.3083117</td></tr>\n",
       "\t<tr><th scope=row>Residuals</th><td>16</td><td>458</td><td>28.625</td><td>       NA</td><td>       NA</td></tr>\n",
       "</tbody>\n",
       "</table>\n"
      ],
      "text/latex": [
       "A anova: 3 × 5\n",
       "\\begin{tabular}{r|lllll}\n",
       "  & Df & Sum Sq & Mean Sq & F value & Pr(>F)\\\\\n",
       "  & <int> & <dbl> & <dbl> & <dbl> & <dbl>\\\\\n",
       "\\hline\n",
       "\tbatches &  4 &  68 & 17.000 & 0.5938865 & 0.6721031\\\\\n",
       "\toperators &  4 & 150 & 37.500 & 1.3100437 & 0.3083117\\\\\n",
       "\tResiduals & 16 & 458 & 28.625 &        NA &        NA\\\\\n",
       "\\end{tabular}\n"
      ],
      "text/markdown": [
       "\n",
       "A anova: 3 × 5\n",
       "\n",
       "| <!--/--> | Df &lt;int&gt; | Sum Sq &lt;dbl&gt; | Mean Sq &lt;dbl&gt; | F value &lt;dbl&gt; | Pr(&gt;F) &lt;dbl&gt; |\n",
       "|---|---|---|---|---|---|\n",
       "| batches |  4 |  68 | 17.000 | 0.5938865 | 0.6721031 |\n",
       "| operators |  4 | 150 | 37.500 | 1.3100437 | 0.3083117 |\n",
       "| Residuals | 16 | 458 | 28.625 |        NA |        NA |\n",
       "\n"
      ],
      "text/plain": [
       "          Df Sum Sq Mean Sq F value   Pr(>F)   \n",
       "batches    4  68    17.000  0.5938865 0.6721031\n",
       "operators  4 150    37.500  1.3100437 0.3083117\n",
       "Residuals 16 458    28.625         NA        NA"
      ]
     },
     "metadata": {},
     "output_type": "display_data"
    },
    {
     "data": {
      "text/html": [
       "<dl>\n",
       "\t<dt>$Tukey.SS</dt>\n",
       "\t\t<dd>0.25911430124142</dd>\n",
       "\t<dt>$Tukey.F</dt>\n",
       "\t\t<dd>0.00849108008494386</dd>\n",
       "\t<dt>$Tukey.p</dt>\n",
       "\t\t<dd>0.927800606330379</dd>\n",
       "\t<dt>$Devn.SS</dt>\n",
       "\t\t<dd>457.740885698759</dd>\n",
       "</dl>\n"
      ],
      "text/latex": [
       "\\begin{description}\n",
       "\\item[\\$Tukey.SS] 0.25911430124142\n",
       "\\item[\\$Tukey.F] 0.00849108008494386\n",
       "\\item[\\$Tukey.p] 0.927800606330379\n",
       "\\item[\\$Devn.SS] 457.740885698759\n",
       "\\end{description}\n"
      ],
      "text/markdown": [
       "$Tukey.SS\n",
       ":   0.25911430124142\n",
       "$Tukey.F\n",
       ":   0.00849108008494386\n",
       "$Tukey.p\n",
       ":   0.927800606330379\n",
       "$Devn.SS\n",
       ":   457.740885698759\n",
       "\n",
       "\n"
      ],
      "text/plain": [
       "$Tukey.SS\n",
       "[1] 0.2591143\n",
       "\n",
       "$Tukey.F\n",
       "[1] 0.00849108\n",
       "\n",
       "$Tukey.p\n",
       "[1] 0.9278006\n",
       "\n",
       "$Devn.SS\n",
       "[1] 457.7409\n"
      ]
     },
     "metadata": {},
     "output_type": "display_data"
    }
   ],
   "source": [
    "# Check interaction between batches and operators\n",
    "library(dae)\n",
    "data1=data.frame(cbind(y,batches,operators))\n",
    "model3=aov(y~batches+operators)\n",
    "anova(model3)\n",
    "tukey.1df(model3, data1)"
   ]
  }
 ],
 "metadata": {
  "kernelspec": {
   "display_name": "R",
   "language": "R",
   "name": "ir"
  },
  "language_info": {
   "codemirror_mode": "r",
   "file_extension": ".r",
   "mimetype": "text/x-r-source",
   "name": "R",
   "pygments_lexer": "r",
   "version": "4.3.1"
  },
  "orig_nbformat": 4
 },
 "nbformat": 4,
 "nbformat_minor": 2
}
