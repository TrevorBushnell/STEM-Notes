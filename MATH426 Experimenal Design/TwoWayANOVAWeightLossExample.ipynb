{
 "cells": [
  {
   "cell_type": "markdown",
   "metadata": {},
   "source": [
    "# Example: Two-Way ANOVA, Weight Loss\n",
    "\n",
    "Suppose we want to determine if exercise intensity and gender impact weight loss.\n",
    "\n",
    "Two factors: \n",
    "* exercise (no exercise, light exercise, or intense exercise)\n",
    "* gender (male, female)\n",
    "\n",
    "Response variable: \n",
    "* weight loss (measured in pounds)\n",
    "\n",
    "We recruit 30 men and 30 women to participate in an experiment in which we randomly\n",
    "assign 10 of each to follow a program of either no exercise, light exercise, or intense\n",
    "exercise for one month.\n",
    "\n",
    "We can conduct a two-way ANOVA to determine if exercise and gender impact weight\n",
    "loss and to determine if there is an interaction between exercise and gender on weight\n",
    "loss."
   ]
  },
  {
   "cell_type": "markdown",
   "metadata": {},
   "source": [
    "* Start by creating the dataframe and ONLY display the first 6 rows of the dataset:"
   ]
  },
  {
   "cell_type": "code",
   "execution_count": 1,
   "metadata": {
    "vscode": {
     "languageId": "r"
    }
   },
   "outputs": [
    {
     "data": {
      "text/html": [
       "<table class=\"dataframe\">\n",
       "<caption>A data.frame: 6 × 3</caption>\n",
       "<thead>\n",
       "\t<tr><th></th><th scope=col>gender</th><th scope=col>exercise</th><th scope=col>weight_loss</th></tr>\n",
       "\t<tr><th></th><th scope=col>&lt;chr&gt;</th><th scope=col>&lt;chr&gt;</th><th scope=col>&lt;dbl&gt;</th></tr>\n",
       "</thead>\n",
       "<tbody>\n",
       "\t<tr><th scope=row>1</th><td>Male</td><td>None</td><td> 0.11</td></tr>\n",
       "\t<tr><th scope=row>2</th><td>Male</td><td>None</td><td> 0.65</td></tr>\n",
       "\t<tr><th scope=row>3</th><td>Male</td><td>None</td><td>-0.71</td></tr>\n",
       "\t<tr><th scope=row>4</th><td>Male</td><td>None</td><td>-1.54</td></tr>\n",
       "\t<tr><th scope=row>5</th><td>Male</td><td>None</td><td> 1.24</td></tr>\n",
       "\t<tr><th scope=row>6</th><td>Male</td><td>None</td><td>-2.32</td></tr>\n",
       "</tbody>\n",
       "</table>\n"
      ],
      "text/latex": [
       "A data.frame: 6 × 3\n",
       "\\begin{tabular}{r|lll}\n",
       "  & gender & exercise & weight\\_loss\\\\\n",
       "  & <chr> & <chr> & <dbl>\\\\\n",
       "\\hline\n",
       "\t1 & Male & None &  0.11\\\\\n",
       "\t2 & Male & None &  0.65\\\\\n",
       "\t3 & Male & None & -0.71\\\\\n",
       "\t4 & Male & None & -1.54\\\\\n",
       "\t5 & Male & None &  1.24\\\\\n",
       "\t6 & Male & None & -2.32\\\\\n",
       "\\end{tabular}\n"
      ],
      "text/markdown": [
       "\n",
       "A data.frame: 6 × 3\n",
       "\n",
       "| <!--/--> | gender &lt;chr&gt; | exercise &lt;chr&gt; | weight_loss &lt;dbl&gt; |\n",
       "|---|---|---|---|\n",
       "| 1 | Male | None |  0.11 |\n",
       "| 2 | Male | None |  0.65 |\n",
       "| 3 | Male | None | -0.71 |\n",
       "| 4 | Male | None | -1.54 |\n",
       "| 5 | Male | None |  1.24 |\n",
       "| 6 | Male | None | -2.32 |\n",
       "\n"
      ],
      "text/plain": [
       "  gender exercise weight_loss\n",
       "1 Male   None      0.11      \n",
       "2 Male   None      0.65      \n",
       "3 Male   None     -0.71      \n",
       "4 Male   None     -1.54      \n",
       "5 Male   None      1.24      \n",
       "6 Male   None     -2.32      "
      ]
     },
     "metadata": {},
     "output_type": "display_data"
    }
   ],
   "source": [
    "gender = rep(c(\"Male\", \"Female\"), each = 30)\n",
    "exercise = rep(c(\"None\", \"Light\", \"Intense\"), each = 10, times = 2)\n",
    "weight_loss =c(0.11, 0.65, -0.71, -1.54, 1.24, -2.32, -2.92, -2.37, 2.10, 2.31, 4.30, 2.43,\n",
    "3.26, 4.71, 0.36, 3.26, 0.50, 1.58, 1.71, 4.88, 8.27, 6.70, 7.88, 7.51, 6.57, 5.43, 5.13,\n",
    "7.25, 6.24, 7.16, -1.56, -3.16, -2.86, 0.10, 1.24, 1.90, 1.82, 0.30, -1.26, 1.42, 1.87, 0.78,\n",
    "2.70, 2.18, 1.34, 1.90, 1.66, 1.35, 0.18, 2.55, 6.11, 7.26, 6.55, 4.77, 4.29, 3.62, 7.34,\n",
    "7.98, 6.86, 6.98)\n",
    "data= data.frame(gender, exercise, weight_loss)\n",
    "\n",
    "head(data, 6)"
   ]
  },
  {
   "cell_type": "markdown",
   "metadata": {},
   "source": [
    "* Use the `struct()` function to get information about the dataset:"
   ]
  },
  {
   "cell_type": "code",
   "execution_count": 2,
   "metadata": {
    "vscode": {
     "languageId": "r"
    }
   },
   "outputs": [
    {
     "name": "stdout",
     "output_type": "stream",
     "text": [
      "'data.frame':\t60 obs. of  3 variables:\n",
      " $ gender     : chr  \"Male\" \"Male\" \"Male\" \"Male\" ...\n",
      " $ exercise   : chr  \"None\" \"None\" \"None\" \"None\" ...\n",
      " $ weight_loss: num  0.11 0.65 -0.71 -1.54 1.24 -2.32 -2.92 -2.37 2.1 2.31 ...\n"
     ]
    }
   ],
   "source": [
    "str(data)"
   ]
  },
  {
   "cell_type": "markdown",
   "metadata": {},
   "source": [
    "* Create a boxplot for each treatment groups to viz distribution of weight loss for each group"
   ]
  },
  {
   "cell_type": "code",
   "execution_count": 3,
   "metadata": {
    "vscode": {
     "languageId": "r"
    }
   },
   "outputs": [
    {
     "data": {
      "image/png": "[encoded data removed]",
      "text/plain": [
       "plot without title"
      ]
     },
     "metadata": {
      "image/png": {
       "height": 420,
       "width": 420
      }
     },
     "output_type": "display_data"
    }
   ],
   "source": [
    "par(mfrow=c(1,2))\n",
    "boxplot(weight_loss~gender, data=data)\n",
    "boxplot(weight_loss~exercise, data=data)"
   ]
  },
  {
   "cell_type": "markdown",
   "metadata": {},
   "source": [
    "* You can also create more boxplots with the follwing:"
   ]
  },
  {
   "cell_type": "code",
   "execution_count": 4,
   "metadata": {
    "vscode": {
     "languageId": "r"
    }
   },
   "outputs": [
    {
     "data": {
      "image/png": "[encoded data removed]",
      "text/plain": [
       "plot without title"
      ]
     },
     "metadata": {
      "image/png": {
       "height": 420,
       "width": 420
      }
     },
     "output_type": "display_data"
    }
   ],
   "source": [
    "boxplot(weight_loss~gender:exercise, data=data)"
   ]
  },
  {
   "cell_type": "markdown",
   "metadata": {},
   "source": [
    "* Now fit the two way ANOVA model and view the output"
   ]
  },
  {
   "cell_type": "code",
   "execution_count": 6,
   "metadata": {
    "vscode": {
     "languageId": "r"
    }
   },
   "outputs": [
    {
     "data": {
      "text/html": [
       "<table class=\"dataframe\">\n",
       "<caption>A anova: 4 × 5</caption>\n",
       "<thead>\n",
       "\t<tr><th></th><th scope=col>Df</th><th scope=col>Sum Sq</th><th scope=col>Mean Sq</th><th scope=col>F value</th><th scope=col>Pr(&gt;F)</th></tr>\n",
       "\t<tr><th></th><th scope=col>&lt;int&gt;</th><th scope=col>&lt;dbl&gt;</th><th scope=col>&lt;dbl&gt;</th><th scope=col>&lt;dbl&gt;</th><th scope=col>&lt;dbl&gt;</th></tr>\n",
       "</thead>\n",
       "<tbody>\n",
       "\t<tr><th scope=row>gender</th><td> 1</td><td>  3.988682</td><td>  3.988682</td><td>  1.7427330</td><td>1.923616e-01</td></tr>\n",
       "\t<tr><th scope=row>exercise</th><td> 2</td><td>470.046803</td><td>235.023402</td><td>102.6863164</td><td>3.968985e-19</td></tr>\n",
       "\t<tr><th scope=row>gender:exercise</th><td> 2</td><td>  3.634663</td><td>  1.817332</td><td>  0.7940277</td><td>4.572266e-01</td></tr>\n",
       "\t<tr><th scope=row>Residuals</th><td>54</td><td>123.592550</td><td>  2.288751</td><td>         NA</td><td>          NA</td></tr>\n",
       "</tbody>\n",
       "</table>\n"
      ],
      "text/latex": [
       "A anova: 4 × 5\n",
       "\\begin{tabular}{r|lllll}\n",
       "  & Df & Sum Sq & Mean Sq & F value & Pr(>F)\\\\\n",
       "  & <int> & <dbl> & <dbl> & <dbl> & <dbl>\\\\\n",
       "\\hline\n",
       "\tgender &  1 &   3.988682 &   3.988682 &   1.7427330 & 1.923616e-01\\\\\n",
       "\texercise &  2 & 470.046803 & 235.023402 & 102.6863164 & 3.968985e-19\\\\\n",
       "\tgender:exercise &  2 &   3.634663 &   1.817332 &   0.7940277 & 4.572266e-01\\\\\n",
       "\tResiduals & 54 & 123.592550 &   2.288751 &          NA &           NA\\\\\n",
       "\\end{tabular}\n"
      ],
      "text/markdown": [
       "\n",
       "A anova: 4 × 5\n",
       "\n",
       "| <!--/--> | Df &lt;int&gt; | Sum Sq &lt;dbl&gt; | Mean Sq &lt;dbl&gt; | F value &lt;dbl&gt; | Pr(&gt;F) &lt;dbl&gt; |\n",
       "|---|---|---|---|---|---|\n",
       "| gender |  1 |   3.988682 |   3.988682 |   1.7427330 | 1.923616e-01 |\n",
       "| exercise |  2 | 470.046803 | 235.023402 | 102.6863164 | 3.968985e-19 |\n",
       "| gender:exercise |  2 |   3.634663 |   1.817332 |   0.7940277 | 4.572266e-01 |\n",
       "| Residuals | 54 | 123.592550 |   2.288751 |          NA |           NA |\n",
       "\n"
      ],
      "text/plain": [
       "                Df Sum Sq     Mean Sq    F value     Pr(>F)      \n",
       "gender           1   3.988682   3.988682   1.7427330 1.923616e-01\n",
       "exercise         2 470.046803 235.023402 102.6863164 3.968985e-19\n",
       "gender:exercise  2   3.634663   1.817332   0.7940277 4.572266e-01\n",
       "Residuals       54 123.592550   2.288751          NA           NA"
      ]
     },
     "metadata": {},
     "output_type": "display_data"
    }
   ],
   "source": [
    "model = aov(weight_loss~gender*exercise, data=data)\n",
    "anova(model)"
   ]
  },
  {
   "cell_type": "markdown",
   "metadata": {},
   "source": [
    "* We also have a simple model with no interaction, so we can do the above with just `+` instead of `*`:"
   ]
  },
  {
   "cell_type": "code",
   "execution_count": 7,
   "metadata": {
    "vscode": {
     "languageId": "r"
    }
   },
   "outputs": [
    {
     "data": {
      "text/html": [
       "<table class=\"dataframe\">\n",
       "<caption>A anova: 3 × 5</caption>\n",
       "<thead>\n",
       "\t<tr><th></th><th scope=col>Df</th><th scope=col>Sum Sq</th><th scope=col>Mean Sq</th><th scope=col>F value</th><th scope=col>Pr(&gt;F)</th></tr>\n",
       "\t<tr><th></th><th scope=col>&lt;int&gt;</th><th scope=col>&lt;dbl&gt;</th><th scope=col>&lt;dbl&gt;</th><th scope=col>&lt;dbl&gt;</th><th scope=col>&lt;dbl&gt;</th></tr>\n",
       "</thead>\n",
       "<tbody>\n",
       "\t<tr><th scope=row>gender</th><td> 1</td><td>  3.988682</td><td>  3.988682</td><td>  1.755648</td><td>1.905495e-01</td></tr>\n",
       "\t<tr><th scope=row>exercise</th><td> 2</td><td>470.046803</td><td>235.023402</td><td>103.447290</td><td>1.568119e-19</td></tr>\n",
       "\t<tr><th scope=row>Residuals</th><td>56</td><td>127.227213</td><td>  2.271915</td><td>        NA</td><td>          NA</td></tr>\n",
       "</tbody>\n",
       "</table>\n"
      ],
      "text/latex": [
       "A anova: 3 × 5\n",
       "\\begin{tabular}{r|lllll}\n",
       "  & Df & Sum Sq & Mean Sq & F value & Pr(>F)\\\\\n",
       "  & <int> & <dbl> & <dbl> & <dbl> & <dbl>\\\\\n",
       "\\hline\n",
       "\tgender &  1 &   3.988682 &   3.988682 &   1.755648 & 1.905495e-01\\\\\n",
       "\texercise &  2 & 470.046803 & 235.023402 & 103.447290 & 1.568119e-19\\\\\n",
       "\tResiduals & 56 & 127.227213 &   2.271915 &         NA &           NA\\\\\n",
       "\\end{tabular}\n"
      ],
      "text/markdown": [
       "\n",
       "A anova: 3 × 5\n",
       "\n",
       "| <!--/--> | Df &lt;int&gt; | Sum Sq &lt;dbl&gt; | Mean Sq &lt;dbl&gt; | F value &lt;dbl&gt; | Pr(&gt;F) &lt;dbl&gt; |\n",
       "|---|---|---|---|---|---|\n",
       "| gender |  1 |   3.988682 |   3.988682 |   1.755648 | 1.905495e-01 |\n",
       "| exercise |  2 | 470.046803 | 235.023402 | 103.447290 | 1.568119e-19 |\n",
       "| Residuals | 56 | 127.227213 |   2.271915 |         NA |           NA |\n",
       "\n"
      ],
      "text/plain": [
       "          Df Sum Sq     Mean Sq    F value    Pr(>F)      \n",
       "gender     1   3.988682   3.988682   1.755648 1.905495e-01\n",
       "exercise   2 470.046803 235.023402 103.447290 1.568119e-19\n",
       "Residuals 56 127.227213   2.271915         NA           NA"
      ]
     },
     "metadata": {},
     "output_type": "display_data"
    }
   ],
   "source": [
    "mode2 = aov(weight_loss~gender+exercise, data=data)\n",
    "anova(mode2)"
   ]
  },
  {
   "cell_type": "markdown",
   "metadata": {},
   "source": [
    "* Generate an interaction plot for this dataset:"
   ]
  },
  {
   "cell_type": "code",
   "execution_count": 9,
   "metadata": {
    "vscode": {
     "languageId": "r"
    }
   },
   "outputs": [
    {
     "data": {
      "image/png": "[encoded data removed]",
      "text/plain": [
       "plot without title"
      ]
     },
     "metadata": {
      "image/png": {
       "height": 420,
       "width": 420
      }
     },
     "output_type": "display_data"
    }
   ],
   "source": [
    "with(data, {interaction.plot(gender, exercise, weight_loss)})"
   ]
  },
  {
   "cell_type": "markdown",
   "metadata": {},
   "source": [
    "* Create a confidence interval for ecah comparison (one for gender and one for exercise)"
   ]
  },
  {
   "cell_type": "code",
   "execution_count": 10,
   "metadata": {
    "vscode": {
     "languageId": "r"
    }
   },
   "outputs": [
    {
     "data": {
      "text/plain": [
       " gender emmean    SE df lower.CL upper.CL\n",
       " Female   2.54 0.275 56     1.99     3.09\n",
       " Male     3.06 0.275 56     2.50     3.61\n",
       "\n",
       "Results are averaged over the levels of: exercise \n",
       "Confidence level used: 0.95 "
      ]
     },
     "metadata": {},
     "output_type": "display_data"
    }
   ],
   "source": [
    "library(emmeans)\n",
    "emmeans(mode2, \"gender\")"
   ]
  },
  {
   "cell_type": "code",
   "execution_count": 11,
   "metadata": {
    "vscode": {
     "languageId": "r"
    }
   },
   "outputs": [
    {
     "data": {
      "text/plain": [
       " exercise emmean    SE df lower.CL upper.CL\n",
       " Intense   6.495 0.337 56    5.820     7.17\n",
       " Light     2.175 0.337 56    1.500     2.85\n",
       " None     -0.276 0.337 56   -0.951     0.40\n",
       "\n",
       "Results are averaged over the levels of: gender \n",
       "Confidence level used: 0.95 "
      ]
     },
     "metadata": {},
     "output_type": "display_data"
    }
   ],
   "source": [
    "emmeans(mode2, \"exercise\")"
   ]
  }
 ],
 "metadata": {
  "kernelspec": {
   "display_name": "R",
   "language": "R",
   "name": "ir"
  },
  "language_info": {
   "codemirror_mode": "r",
   "file_extension": ".r",
   "mimetype": "text/x-r-source",
   "name": "R",
   "pygments_lexer": "r",
   "version": "4.3.1"
  },
  "orig_nbformat": 4
 },
 "nbformat": 4,
 "nbformat_minor": 2
}
