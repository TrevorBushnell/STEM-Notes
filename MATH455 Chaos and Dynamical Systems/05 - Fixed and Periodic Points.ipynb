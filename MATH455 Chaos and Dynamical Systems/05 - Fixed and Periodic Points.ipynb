{
 "cells": [
  {
   "cell_type": "markdown",
   "metadata": {},
   "source": [
    "# Chapter 5: Fixed and Periodic Points\n",
    "\n",
    "> NOTE: Fixed points will be representing with the variable $x_p$ or more simply $p$"
   ]
  },
  {
   "cell_type": "markdown",
   "metadata": {},
   "source": [
    "## Introduction\n",
    "\n",
    "Fixed and periodic points are among the most important orbits in a dynamical system, therefore it is important to find them easily and efficiently\n",
    "* might involve drawing accurate graphs or solving equations\n",
    "* these methods are not eassy to carry out\n",
    "* *calculus* will be a helpful tool in order to complete all of thi"
   ]
  },
  {
   "cell_type": "markdown",
   "metadata": {},
   "source": [
    "## Preliminaries\n",
    "\n",
    "* $F[a,b] \\to [a,b]$ - the map $F$ takes points from the domain on the closed interval $[a,b]$ and maps them to the interval $[a,b]$\n",
    "* **Intermediate Value Theorem (IVT):** Suppose $F:[a,b]\\to\\R$ is continuous and $y_0$ lies between $F(a)$ and $F(b)$. Then there is an $x_0 \\in [a,b]$ with $F(x_0) = y_0$\n",
    "* **Mean Value Theorem (MVT):** Suppose $F$ is continuous on $[a,b]$ and diffreentiable on $(a,b)$. Then there is $c \\in (a,b)$ such that $\\frac{F(b)-F(a)}{b-a} = f'(c)$"
   ]
  },
  {
   "cell_type": "markdown",
   "metadata": {},
   "source": [
    "## A Fxied-Point Theorem\n",
    "\n",
    "> Suppose $F: [a,b] \\to [a,b]$ is continuous. Then $F$ has a fixed point in the interval $[a,b]$\n",
    "\n",
    "* Gives criteria for at least one fixed point, there could be more\n",
    "    * e.g. $F(x)=x$ has an infinite number of fixed points on any interval\n",
    "* $F$ is continuous and maps the *closed interval* into the same *closed interval*\n",
    "* known as an **existence theorem** because it gives conditions for the existence of a fixed point but does NOT tell us how to find the fixed point"
   ]
  },
  {
   "cell_type": "markdown",
   "metadata": {},
   "source": [
    "## Attracting and Repelling Fixed Points\n",
    "\n",
    "Suppose $p$ is a fixed point for the differentiable function $F$\n",
    "\n",
    "* If $|F'(p)| < 1$, then $p$ is an **attracting fixed point**\n",
    "* If $|F'(p)| > 1$, then $p$ is a **repelling fixed point**\n",
    "* If $|F'(p)| = 1$, then the fixed point $p$ is called **neutral** or **indifferent**"
   ]
  },
  {
   "cell_type": "markdown",
   "metadata": {},
   "source": [
    "## Attracting Fixed Point Theorem\n",
    "\n",
    "Suppose $p$ is an attracting fixed point for $F$. Then there is an interval $I$ that contains $p$ in its interior and in which the following conditions are satisfied:\n",
    "\n",
    "* if $x \\in I$, then $F^n(x) \\in I$ for all $n$ and\n",
    "* $F^n(x) \\to p$ as $n \\to \\infty$"
   ]
  },
  {
   "cell_type": "markdown",
   "metadata": {},
   "source": [
    "## Repelling Fixed Point Theorem\n",
    "\n",
    "Suppose $x_0$ is a repelling fixed point for $F$. Then there is an interval $I$ that contains $x_p$ in its interior and in which the following conditions are satisfied\n",
    "\n",
    "* if $x \\in I$ and $x \\ne x_p$, then there is an integer $n>0$ such that $F^n(x) \\notin I$"
   ]
  },
  {
   "cell_type": "markdown",
   "metadata": {},
   "source": [
    "## Canonical Forms of Neutral Fixed Points\n",
    "\n",
    "If $p$ is a fixed point of $F$ and it is a neutral fixed point i.e. $F'(p) = 1$...\n",
    "\n",
    "* $F''(p) > 0$ so $p$ is weakly attracting on the left and weakly repelling on the right\n",
    "* $F''(p) < 0$ so $p$ is weakly repelling on the left and weakly attracting on the right\n",
    "* $F''(p) = 0$ and $F'''(p)>0$ so $p$ is weakly repelling\n",
    "* $F''(p) = 0$ and $F'''(p)<0$ so $p$ is weakly attracting"
   ]
  },
  {
   "cell_type": "markdown",
   "metadata": {},
   "source": [
    "## PRACTICE (p. 59, #4)\n",
    "\n",
    "Each of the following functions has a neutral fixed point. Find this fixed point,and use it to determine if it is attracting repelling or neither\n",
    "\n",
    "* F(x) = x + x^3\n",
    "\n",
    "First find the fixed points:\n",
    "\n",
    "$$\n",
    "\\begin{*align}\n",
    "p + p^3 &= p\\\\\n",
    "p^3 &= 0\\\\\n",
    "p &= 0\n",
    "\\end{*align}\n",
    "$$\n",
    "\n",
    "Compute and do work with the first derivative:\n",
    "$$\n",
    "\\begin{*aligned}\n",
    "F'(x) &= 1 + 3x^2\\\\\n",
    "F'(0) &= 1 + 3(0)^2 = 1\n",
    "\\end{*aligned}\n",
    "$$\n",
    "\n",
    "So now we know this is a neutral point. Move on to the second derivative...\n",
    "\n",
    "$$\n",
    "\\begin{*aligned}\n",
    "F''(x) &= 6x\\\\\n",
    "F''(0) &= 0\n",
    "\\end{*aligned}\n",
    "$$\n",
    "\n",
    "So we know this fixed point MIGHT be an inflection point, and the 3rd derivative can confirm this:\n",
    "\n",
    "$$\n",
    "\\begin{*aligned}\n",
    "F'''(x) &= 6\\\\\n",
    "F'''(0) &= 6\n",
    "\\end{*aligned}\n",
    "$$\n",
    "\n",
    "So now we know that $6>0$ so this IS an inflection point and we know that this fixed point is *weakly repelling*\n",
    "\n",
    "* $G(x) = x - x^3$\n",
    "\n",
    "This is the same as $F(x)$ but some negatives will change around and the third derivative will be negative, so therefore you will have a **weakly attracting** fixed point\n",
    "\n",
    "* $H(x) = x - x ^2\n",
    "\n",
    "First find the fixed points:\n",
    "\n",
    "$$\n",
    "\\begin{*align}\n",
    "p - p^2 &= p\\\\\n",
    "-p^2 &= 0\\\\\n",
    "p &= 0\n",
    "\\end{*align}\n",
    "$$\n",
    "\n",
    "Compute and do work with the first derivative:\n",
    "$$\n",
    "\\begin{*aligned}\n",
    "H'(x) &= 1 - 2x\\\\\n",
    "H'(0) &= 1 + 2(0) = 1\n",
    "\\end{*aligned}\n",
    "$$\n",
    "\n",
    "So now we know this is a neutral point. Move on to the second derivative...\n",
    "\n",
    "$$\n",
    "\\begin{*aligned}\n",
    "F''(x) &= -2\\\\\n",
    "F''(0) &= -2\n",
    "\\end{*aligned}\n",
    "$$\n",
    "\n",
    "So now we know that $-2<0$ so this fixed point is **weakly attracting** on the right and **weakly repelling** on the left\n"
   ]
  },
  {
   "cell_type": "markdown",
   "metadata": {},
   "source": [
    "## Neutral Fixed Points Propositions\n",
    "\n",
    "* **PROPOSITION #1:** If $p$ is a fixed point for $F$, then it is also a fixed point for $F^2$. Furthermore, $p$ is a neutral fixed point of $F$ if and only if $p$ is a neutral fixed point for $F^2$\n",
    "* **PROPOSITION #2:** Let $p$ be a neutral fixed point for $F$ with $F'(p) = 1$\n",
    "    * Suppose $F''(p) \\ne 0$. If $F'''(p) < 0$ then $p$ is weakly repelling\n",
    "* **PROPOSITION #3:** Let $p$ be a neutral fixed point with $F'(p) = -1$. If\n",
    "    * $-2F'''(p) - 3[F'''(p)]^2 < 0$, then $p$ is weakly attracting\n",
    "    * $-2F'''(p) - 3[F'''(p)]^2 > 0$, then $p$ is weakly repelling\n",
    "    "
   ]
  },
  {
   "cell_type": "markdown",
   "metadata": {},
   "source": [
    "## Summary\n",
    "\n",
    "* $|F'(p)| < 1$ then $p$ is attracting\n",
    "* $|F'(p)| > 1$ then $p$ is repelling \n",
    "* $|F'(p)| = 1$ then $p$ is neutral and higher order derivatives are needed\n",
    "* $|F'(p_1) \\cdots F'(p_n)| < 1$ then the $n$-cycle is attracting\n",
    "* $|F'(p_1) \\cdots F'(p_n)| > 1$ then the $n$-cycle is repelling\n",
    "* *convergence* to attracting fixed points (or cycles) is afffected by the value of the derivatives"
   ]
  }
 ],
 "metadata": {
  "kernelspec": {
   "display_name": "Julia 1.10.0",
   "language": "julia",
   "name": "julia-1.10"
  },
  "language_info": {
   "name": "julia"
  }
 },
 "nbformat": 4,
 "nbformat_minor": 2
}
