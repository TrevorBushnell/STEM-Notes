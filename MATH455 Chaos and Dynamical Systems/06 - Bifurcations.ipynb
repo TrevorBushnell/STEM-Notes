{
 "cells": [
  {
   "cell_type": "markdown",
   "metadata": {},
   "source": [
    "# Chapter 6: Bifurcations"
   ]
  },
  {
   "cell_type": "code",
   "execution_count": null,
   "metadata": {},
   "outputs": [],
   "source": [
    "using DynamicalSystems, ChaosTools, Plots"
   ]
  },
  {
   "cell_type": "markdown",
   "metadata": {},
   "source": [
    "## Introduction\n",
    "\n",
    "We will start studying these functions:\n",
    "\n",
    "$$\n",
    "Q_c(x) = x^2 + c\n",
    "$$\n",
    "\n",
    "where $c$ is constant\n",
    "\n",
    "* This map looks simple but actuallythe dynamics are crazy complicated\n",
    "* The complications arise when we vary $c$\n",
    "* We will look at 2 important bifurcations"
   ]
  },
  {
   "cell_type": "markdown",
   "metadata": {},
   "source": [
    "## Dynamics of $Q_c(x) = x^2 + c$\n",
    "\n",
    "* Fixed points: $x^2 + c = x$ $\\implies$ $p_\\pm = \\frac{1}{2}(1 \\pm \\sqrt{1-4c})$\n",
    "    * $p_\\pm$ are real if $1-4c \\ge 0 \\implies c \\le \\frac{1}{4}$\n",
    "* From these calculations we see the quadratic map has\n",
    "    * Two fixed points if $c < \\frac{1}{4}$\n",
    "    * One fixed point if $c = \\frac{1}{4}$\n",
    "    * Zero fixed points if $c > \\frac{1}{4}$"
   ]
  },
  {
   "cell_type": "markdown",
   "metadata": {},
   "source": [
    "## Classifying the Fixed Points \n",
    "\n",
    "* If $c > \\frac{1}{4}$ then all orbits diverge to $\\infty$\n",
    "* If $c = \\frac{1}{4}$, then the fixed point is $p=p_\\pm = \\frac{1}{2}$ and $|Q'_c(0.5)| = 1$ so the fieed point is neutral\n",
    "    * any orbit $z_0$ satisfying $y_0 \\le z_0 \\le p$ tends to $p$\n",
    "    * the basin of attraction is $[-0.5,0.5]$\n",
    "* If $c < \\frac{1}{4}$ then the real fixed points are $p_\\pm = \\frac{1}{2}(1 \\pm \\sqrt{1-4c})$\n",
    "    * $Q'_c(x) = 2x$\n",
    "    * $Q'_c(p_+) = 1 + \\sqrt{1-4c} \\implies |Q'_c(p_+)| > 1$ so $p_+$ is repelling"
   ]
  }
 ],
 "metadata": {
  "kernelspec": {
   "display_name": "Julia 1.10.0",
   "language": "julia",
   "name": "julia-1.10"
  },
  "language_info": {
   "name": "julia"
  }
 },
 "nbformat": 4,
 "nbformat_minor": 2
}
