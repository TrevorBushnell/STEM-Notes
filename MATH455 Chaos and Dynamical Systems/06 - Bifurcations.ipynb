{
 "cells": [
  {
   "cell_type": "markdown",
   "metadata": {},
   "source": [
    "# Chapter 6: Bifurcations"
   ]
  },
  {
   "cell_type": "code",
   "execution_count": null,
   "metadata": {},
   "outputs": [],
   "source": [
    "using DynamicalSystems, ChaosTools, Plots"
   ]
  },
  {
   "cell_type": "markdown",
   "metadata": {},
   "source": [
    "## Introduction\n",
    "\n",
    "We will start studying these functions:\n",
    "\n",
    "$$\n",
    "Q_c(x) = x^2 + c\n",
    "$$\n",
    "\n",
    "where $c$ is constant\n",
    "\n",
    "* This map looks simple but actuallythe dynamics are crazy complicated\n",
    "* The complications arise when we vary $c$\n",
    "* We will look at 2 important bifurcations"
   ]
  },
  {
   "cell_type": "markdown",
   "metadata": {},
   "source": [
    "## Dynamics of $Q_c(x) = x^2 + c$\n",
    "\n",
    "* Fixed points: $x^2 + c = x$ $\\implies$ $p_\\pm = \\frac{1}{2}(1 \\pm \\sqrt{1-4c})$\n",
    "    * $p_\\pm$ are real if $1-4c \\ge 0 \\implies c \\le \\frac{1}{4}$\n",
    "* From these calculations we see the quadratic map has\n",
    "    * Two fixed points if $c < \\frac{1}{4}$\n",
    "    * One fixed point if $c = \\frac{1}{4}$\n",
    "    * Zero fixed points if $c > \\frac{1}{4}$"
   ]
  },
  {
   "cell_type": "markdown",
   "metadata": {},
   "source": [
    "## Classifying the Fixed Points \n",
    "\n",
    "* If $c > \\frac{1}{4}$ then all orbits diverge to $\\infty$\n",
    "* If $c = \\frac{1}{4}$, then the fixed point is $p=p_\\pm = \\frac{1}{2}$ and $|Q'_c(0.5)| = 1$ so the fieed point is neutral\n",
    "    * any orbit $z_0$ satisfying $y_0 \\le z_0 \\le p$ tends to $p$\n",
    "    * the basin of attraction is $[-0.5,0.5]$\n",
    "* If $c < \\frac{1}{4}$ then the real fixed points are $p_\\pm = \\frac{1}{2}(1 \\pm \\sqrt{1-4c})$\n",
    "    * $Q'_c(x) = 2x$\n",
    "    * $Q'_c(p_+) = 1 + \\sqrt{1-4c} \\implies |Q'_c(p_+)| > 1$ so $p_+$ is repelling\n",
    "    * $Q'_c(p_-) = 1 - \\sqrt{1-4c} \\implies |Q'_c(p_-)|$ requires more analysis\n",
    "\n",
    "The further analysis is when does $|Q'_c(p_-)| < 1$\n",
    "\n",
    "$$\n",
    "\\begin{align*}\n",
    "|Q'_c(p_-)| &< 1\\\\\n",
    "|1 - \\sqrt{1-4c}| &< 1\\\\\n",
    "-1 < 1 &- \\sqrt{1-4c} < 1\\\\\n",
    "-2 < &-\\sqrt{1-4c} < 0\\\\\n",
    "2 > &\\sqrt{1-4c} > 0\\\\\n",
    "4 > &1-4c > 0\\\\\n",
    "3 > &-4c > -1\\\\\n",
    "-\\frac{3}{4} < &c < \\frac{1}{4}\n",
    "\\end{align*}\n",
    "$$\n",
    "\n",
    "So now we understand:\n",
    "\n",
    "## The First Bifurcation\n",
    "\n",
    "* all orbits tend to $\\infty$ if $c > \\frac{1}{4}$\n",
    "* when $c=\\frac{1}{4}$, $Q_c$ has one fixed point at $p_+=p_-=\\frac{1}{2}$ that is neutral\n",
    "* when $c<\\frac{1}{4}$, $Q_c$ has two fixed points, where $p_+$ is always repelling and\n",
    "    * $p_-$ is attracting if $-0.75 < c < 0.25$\n",
    "    * $p_-$ is neutral if $c=-0.75$\n",
    "    * $p_-$ is repelling if $c < -0.75$"
   ]
  },
  {
   "cell_type": "markdown",
   "metadata": {},
   "source": [
    "> BIFURCATIONS OCCUR IN ONE-PARAMETER FAMILIES OF FUNCTIONS WHEN THERE IS A CHANGE IN THE FIXED OR PERIODIC POINT STRUCTURE AS $\\lambda$ PASSES THROUGH SOME VALUE"
   ]
  },
  {
   "cell_type": "markdown",
   "metadata": {},
   "source": [
    "## Definition of a Saddle-Node Bifurcation\n",
    "\n",
    "$F_\\lambda$ had a saddle node bifurcation at $\\lambda_0$ if there is an open interval $I$ and $\\epsilon > 0$ such that\n",
    "\n",
    "1. For $\\lambda_0 - \\epsilon < \\lambda < \\lambda_0$ $F_\\lambda$ has no fixed points on $I$\n",
    "1. For $\\lambda=\\lambda_0$, $F_\\lambda$ has one fixed point in $I$ and this fixed point is neutral\n",
    "1. For $\\lambda_0 < \\lambda < \\lambda_0 + \\epsilon $ $F_\\lambda$ has two fixed points in $I$ where one is attracting and one is repelling"
   ]
  },
  {
   "cell_type": "markdown",
   "metadata": {},
   "source": [
    "## Period Doubling Bifurcation\n",
    "\n",
    "Two typical cases are:\n",
    "\n",
    "* as parameter changes, the fixed point may also change from attracting to repelling and at the same time give birth to an attracting 2-cycle\n",
    "* alternatively, the fixed point may change from repelling to attracting and at the same time give birth to a repelling 2-cycle"
   ]
  },
  {
   "cell_type": "markdown",
   "metadata": {},
   "source": [
    "## Summary\n",
    "\n",
    "* Need a parameter in the model, otherwise the dynamics can't vary\n",
    "* saddle node bifurcation - typically occurs when $F'_{\\lambda_0}(x_0) = 1$\n",
    "* period doubling bifurcation - typically occurs when $F'_{\\lambda_0}(x_0) = -1$ (attracting fixed point changes to a repelling fixed point and at the same time an attracting 2-cycle becomes created)\n",
    "* bifurcation theory is a \"local\" theory in that we are only concerned about changes in the periodic point structure new the parameter $\\lambda_0$. Hence the reason for the $\\epsilon$ in the definition\n",
    "* a period doubling cascade is a typical route to chaos"
   ]
  }
 ],
 "metadata": {
  "kernelspec": {
   "display_name": "Julia 1.10.0",
   "language": "julia",
   "name": "julia-1.10"
  },
  "language_info": {
   "name": "julia"
  }
 },
 "nbformat": 4,
 "nbformat_minor": 2
}
