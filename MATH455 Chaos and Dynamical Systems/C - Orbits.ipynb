{
 "cells": [
  {
   "cell_type": "markdown",
   "metadata": {},
   "source": [
    "# Chapter 3: Orbits"
   ]
  },
  {
   "cell_type": "markdown",
   "metadata": {},
   "source": [
    "## Intro\n",
    "\n",
    "* There are many kinds of problems in science and math that involve *iteration*, which means to repeat a process over and over\n",
    "  * In dynamics, process that is repeated is the application of a function $F(F(x))$\n",
    "* We will spend lots of time working with\n",
    "$$\n",
    "Q(x) = x^2 + c\n",
    "$$\n",
    "\n",
    "where $c \\in \\R$\n",
    "\n",
    "* Other maps we will explore\n",
    "  * $F_\\lambda(x) = \\lambda x(1-x)$\n",
    "  * $E_\\lambda(x) = \\lambda e^x$"
   ]
  },
  {
   "cell_type": "markdown",
   "metadata": {},
   "source": [
    "## Iteration\n",
    "\n",
    "* Mathematically, iteration is the process of repeatedly composing the function with itself\n",
    "* **NOTATION:** $F(F(x)) = F \\odot F(x) = F^2(x)$\n",
    "\n",
    "EXAMPLE: If $F(x) = x^2+1$, then $F^2(x) = (x^2+1)^2 + 1$\n",
    "EXAMPLE: If $F(x) = \\sqrt x$ then $F$"
   ]
  },
  {
   "cell_type": "markdown",
   "metadata": {},
   "source": [
    "## Orbits\n",
    "\n",
    "GIven $x_0 \\in \\R$, we define the orbit of $x_0$ under $F$ to be the sequences of points where $x_n=F^n(x)$"
   ]
  },
  {
   "cell_type": "markdown",
   "metadata": {},
   "source": [
    "## Types of Orbits\n",
    "\n",
    "* **fixed-point:** a fixed-point is a point $x_0$ that satisfies $F(x_0)=x_0$, and in general $F^n(x_0) = x_0$\n",
    "* We can find fixed points by solving $F(x) = x$ for $x$\n",
    "\n",
    "EX: The map $F(x)=x^2-x-4$ has fixed points by\n",
    "\n",
    "$$\n",
    "\\begin{aligned}\n",
    "x^2-x-4=x\\\\\n",
    "x^2-2x-4=0\\\\\n",
    "x = 1 \\pm \\sqrt 5\n",
    "\\end{aligned}\n",
    "$$\n",
    "\n",
    "* You can also solve this graphically"
   ]
  },
  {
   "cell_type": "code",
   "execution_count": 6,
   "metadata": {},
   "outputs": [
    {
     "data": {
      "text/plain": [
       "plot (generic function with 4 methods)"
      ]
     },
     "metadata": {},
     "output_type": "display_data"
    }
   ],
   "source": [
    "using Plots\n",
    "\n",
    "# Define the functions\n",
    "f1(x) = x^2 - x - 4\n",
    "f2(x) = x\n",
    "\n",
    "# Generate x values\n",
    "x_values = -10:0.1:10\n",
    "\n",
    "# Generate y values for each function\n",
    "y1_values = f1.(x_values)\n",
    "y2_values = f2.(x_values)\n",
    "\n",
    "# Create the plot\n",
    "plot(x_values, y1_values, label=\"y=x^2-x-4\")\n",
    "plot(x_values, y2_values, label=\"y=x\")\n",
    "\n",
    "# Add labels and legend\n",
    "xlabel!(\"x-axis\")\n",
    "ylabel!(\"y-axis\")\n",
    "title!(\"Plot of y=x^2-x-4 and y=x\")\n",
    "\n",
    "# Show the plot\n",
    "display(plot)\n"
   ]
  },
  {
   "cell_type": "markdown",
   "metadata": {},
   "source": [
    "## Periodic Orbits or Cycles\n",
    "\n",
    "* The fixed points of the map $F(x)=x^2-1$ are $1 \\pm \\sqrt 5$. IF we orbit around $x_0=0$, we see that the points alternate between 0 and 1, so this creates a 2-cycle\n",
    "* To find the points on a 2-cycle just solve $F^2(x)=x$\n",
    "* In general, finding the exact values of points that lie on an $n$-cycle is very difficult because degrees of functions can get out of hand very quickly\n",
    "  * Ex: Finding a 5-cycle of $F(x) = x^2-2$ would require solving $F^5(x)=x$ which is a degree-32 polynomial\n",
    "* 3-cycles have important implications in dynamical systems"
   ]
  },
  {
   "cell_type": "markdown",
   "metadata": {},
   "source": [
    "## Eventually Fixed Points\n",
    "\n",
    "* A point $x_0$ is eventually a fixed/periodic if $x_0$ is itself not a fixed or periodic point but eventually gets there\n",
    "  * EX: $F(x)=x^2$, $x_0=-1$ is eventually fixed"
   ]
  },
  {
   "cell_type": "markdown",
   "metadata": {},
   "source": [
    "## Divergent and Convergent Orbits\n",
    "\n",
    "* IN a typical dynamical system, most points are not fixed or periodic\n",
    "  * EX: $T(x)=2x$ has a fixed point at $x_0=0$, but any other orbits grow without bound in magnitude\n",
    "    * therefore divergent\n",
    "  * EX: $L(x)=\\frac{x}{2}$ has $x_0=0$ as the only fixed point, but all other orbits tend towards this fixed point\n",
    "    * therefore convergent"
   ]
  },
  {
   "cell_type": "markdown",
   "metadata": {},
   "source": [
    "## Some Observations\n",
    "\n",
    "1. If $x_0$ has a prime period $k$, then $x_0$ is also fixed by $F^{2k}$ (check slides to see why)\n",
    "2. If $x_0$ lies on a periodic orbit of period $k$, then all points on the cycle have period $k$ (think permutations)\n",
    "\n",
    "* A surprising fact (plus a newer discovery) regarding dynamical systems is that very simple maps can have very complex dynamical systems\n",
    "  * Try this with the map $F(x)=x^2-2$ using orbits $x_0=0$ and $x_0=0.0001$, you will see that small changes in the IC cause crazy changes in the system (hence why they are chaotic!)"
   ]
  }
 ],
 "metadata": {
  "kernelspec": {
   "display_name": "Julia 1.7.3",
   "language": "julia",
   "name": "julia-1.7"
  },
  "language_info": {
   "file_extension": ".jl",
   "mimetype": "application/julia",
   "name": "julia",
   "version": "1.7.3"
  }
 },
 "nbformat": 4,
 "nbformat_minor": 2
}
