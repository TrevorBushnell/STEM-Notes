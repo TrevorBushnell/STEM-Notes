{
 "cells": [
  {
   "cell_type": "markdown",
   "metadata": {},
   "source": [
    "# Chapter 4: Graphical Analysis\n",
    "\n",
    "In this section we will:\n",
    "\n",
    "* examine 3 graphical techniques to help understand the fate of an orbit\n",
    "    * density plots (histograms)\n",
    "    * cobweb diagrams\n",
    "    * phase portraits\n",
    "    * time series plots\n",
    "* perform a complete orbit analysis of two maps"
   ]
  },
  {
   "cell_type": "markdown",
   "metadata": {},
   "source": [
    "## Density Plots (Histograms)\n",
    "\n",
    "* Density plots or the orbits with initial condition $x_0=0.1$ under the maps:\n",
    "    * $F(x) = x^2-0.5$\n",
    "    * $F(x) = x^2-1$\n",
    "    * $F(x) = x^2-2$\n",
    "    * Each map iterated 50,000 times\n",
    "    * bin widths are equal to 0.01\n",
    "\n",
    "**TO BE IMPLEMENTED**"
   ]
  },
  {
   "cell_type": "markdown",
   "metadata": {},
   "source": [
    "## Cobweb Diagram \n",
    "\n",
    "**check julia implementation of this**\n",
    "\n",
    "* using cobweb diagrams we get that the interval $(-1,1)$ is the basin of attraction for the fixed point 0. \n",
    "    * This means that starting anywhere in that interval will pull you towards said fixed point\n",
    "* sometimes the behavior of attraction towards the fixed point is different\n",
    "    * see the examples from the text looking at the cobweb diagrams for $F(x)=\\sqrt{x}$ and $F(x)=\\cos(x)$\n",
    "        * NOTE: It has to do with the slope of the function at the fixed point"
   ]
  },
  {
   "cell_type": "markdown",
   "metadata": {},
   "source": [
    "## Orbit Analysis\n",
    "\n",
    "* Graphical analysis sometimes allows us to describe the behavior of all orbits of a dynamical system\n",
    "* Try taking $F(x)=x^3$ and find the 3 fixed points and use cobweb diagrams to determine the behavior of any orbit\n",
    "* The map $F(x) = x^2-1.1$ admits a 2-cycle, but many different orbits tend to that cycle (check it out with cobweb diagrams!)\n",
    "* We can't decipher all behavior with graphical analysis, try plotting a cobweb diagram for $F(x) = 4x(1-x)$"
   ]
  }
 ],
 "metadata": {
  "kernelspec": {
   "display_name": "Julia 1.10.0",
   "language": "julia",
   "name": "julia-1.10"
  },
  "language_info": {
   "name": "julia"
  }
 },
 "nbformat": 4,
 "nbformat_minor": 2
}
